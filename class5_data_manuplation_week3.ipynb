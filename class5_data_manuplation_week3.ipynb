{
  "cells": [
    {
      "cell_type": "markdown",
      "metadata": {
        "id": "view-in-github",
        "colab_type": "text"
      },
      "source": [
        "<a href=\"https://colab.research.google.com/github/fidanfatih/Pycoders_Capstone/blob/main/class5_data_manuplation_week3.ipynb\" target=\"_parent\"><img src=\"https://colab.research.google.com/assets/colab-badge.svg\" alt=\"Open In Colab\"/></a>"
      ]
    },
    {
      "cell_type": "markdown",
      "source": [
        "# DATA MANIPULATION - WEEK 3"
      ],
      "metadata": {
        "id": "pzZu57-Gbg9O"
      }
    },
    {
      "cell_type": "code",
      "execution_count": 113,
      "metadata": {
        "id": "ggMRQoPZa9KY"
      },
      "outputs": [],
      "source": [
        "import pandas as pd\n",
        "import numpy as np\n",
        "import matplotlib.pyplot as plt"
      ]
    },
    {
      "cell_type": "markdown",
      "source": [
        "## Exploratory Data Analysis (EDA)"
      ],
      "metadata": {
        "id": "lyztrskVcAVZ"
      }
    },
    {
      "cell_type": "markdown",
      "source": [
        "**df.describe()**"
      ],
      "metadata": {
        "id": "-Q15VOSCcR0Q"
      }
    },
    {
      "cell_type": "code",
      "source": [
        ""
      ],
      "metadata": {
        "id": "QZOtjJTVdrrF"
      },
      "execution_count": null,
      "outputs": []
    },
    {
      "cell_type": "code",
      "source": [
        ""
      ],
      "metadata": {
        "id": "S0lCLwEmdfxx"
      },
      "execution_count": null,
      "outputs": []
    },
    {
      "cell_type": "markdown",
      "source": [
        "**df.isnull() / df.isna()**"
      ],
      "metadata": {
        "id": "Z5kNvp08dzYX"
      }
    },
    {
      "cell_type": "code",
      "source": [
        ""
      ],
      "metadata": {
        "id": "LXfpNKrBd19W"
      },
      "execution_count": null,
      "outputs": []
    },
    {
      "cell_type": "markdown",
      "source": [
        "**df.notnull() / df.notna()**"
      ],
      "metadata": {
        "id": "UVE0DBEeehJ1"
      }
    },
    {
      "cell_type": "code",
      "source": [
        ""
      ],
      "metadata": {
        "id": "mwTq6pCqehJ1"
      },
      "execution_count": null,
      "outputs": []
    },
    {
      "cell_type": "markdown",
      "source": [
        "**df.drop() - df.dropna()**"
      ],
      "metadata": {
        "id": "fJc1D53tdfPW"
      }
    },
    {
      "cell_type": "code",
      "source": [
        ""
      ],
      "metadata": {
        "id": "gGKaVbBBb9sR"
      },
      "execution_count": null,
      "outputs": []
    },
    {
      "cell_type": "markdown",
      "source": [
        "**Series.unique**"
      ],
      "metadata": {
        "id": "NENuenp3cddH"
      }
    },
    {
      "cell_type": "code",
      "source": [
        ""
      ],
      "metadata": {
        "id": "4p8pZzvec2hR"
      },
      "execution_count": null,
      "outputs": []
    },
    {
      "cell_type": "markdown",
      "source": [
        "**Series.nunique**"
      ],
      "metadata": {
        "id": "o66TzZHEc6QK"
      }
    },
    {
      "cell_type": "code",
      "source": [
        ""
      ],
      "metadata": {
        "id": "4mc-_tbIc--1"
      },
      "execution_count": null,
      "outputs": []
    },
    {
      "cell_type": "markdown",
      "source": [
        "**Series.value_counts()**"
      ],
      "metadata": {
        "id": "iZMBzKJ8c_82"
      }
    },
    {
      "cell_type": "code",
      "source": [
        ""
      ],
      "metadata": {
        "id": "NWPr72NJdIRu"
      },
      "execution_count": null,
      "outputs": []
    },
    {
      "cell_type": "code",
      "source": [
        ""
      ],
      "metadata": {
        "id": "AtEa3n0wdMq0"
      },
      "execution_count": null,
      "outputs": []
    },
    {
      "cell_type": "markdown",
      "source": [
        "**Series.min()**"
      ],
      "metadata": {
        "id": "I5ca3qUzdPUC"
      }
    },
    {
      "cell_type": "code",
      "source": [
        ""
      ],
      "metadata": {
        "id": "P6okQvwQdPUD"
      },
      "execution_count": null,
      "outputs": []
    },
    {
      "cell_type": "markdown",
      "source": [
        "**Series.max()**"
      ],
      "metadata": {
        "id": "gWP770ktdPjP"
      }
    },
    {
      "cell_type": "code",
      "source": [
        ""
      ],
      "metadata": {
        "id": "I6IhScEndPjQ"
      },
      "execution_count": null,
      "outputs": []
    },
    {
      "cell_type": "markdown",
      "source": [
        "**Series.mean()**"
      ],
      "metadata": {
        "id": "uCnRORw0dPxo"
      }
    },
    {
      "cell_type": "code",
      "source": [
        ""
      ],
      "metadata": {
        "id": "8CXTDjNUdPxo"
      },
      "execution_count": null,
      "outputs": []
    },
    {
      "cell_type": "code",
      "source": [
        ""
      ],
      "metadata": {
        "id": "PBl64VAadc5T"
      },
      "execution_count": null,
      "outputs": []
    },
    {
      "cell_type": "markdown",
      "source": [
        "**Series.sum()**"
      ],
      "metadata": {
        "id": "uvTSDoglddgY"
      }
    },
    {
      "cell_type": "code",
      "source": [
        ""
      ],
      "metadata": {
        "id": "tDn7GxCeddgY"
      },
      "execution_count": null,
      "outputs": []
    },
    {
      "cell_type": "markdown",
      "source": [
        "**Series.count()**"
      ],
      "metadata": {
        "id": "V95QYw_7deEG"
      }
    },
    {
      "cell_type": "code",
      "source": [
        ""
      ],
      "metadata": {
        "id": "D7T2pp9JdeEG"
      },
      "execution_count": null,
      "outputs": []
    },
    {
      "cell_type": "markdown",
      "source": [
        "**df.astype()**"
      ],
      "metadata": {
        "id": "eUPMAarXf75J"
      }
    },
    {
      "cell_type": "code",
      "source": [
        ""
      ],
      "metadata": {
        "id": "AaTVllnAdfPX"
      },
      "execution_count": null,
      "outputs": []
    },
    {
      "cell_type": "code",
      "source": [
        ""
      ],
      "metadata": {
        "id": "4mIm89i-debE"
      },
      "execution_count": null,
      "outputs": []
    },
    {
      "cell_type": "markdown",
      "source": [
        "## Convert Categorical Variable to Numeric"
      ],
      "metadata": {
        "id": "ZrxAinBWgeTs"
      }
    },
    {
      "cell_type": "markdown",
      "source": [
        "**pd.get_dummies() >> (`Nominal to Numeric`)**"
      ],
      "metadata": {
        "id": "Xb5ZOIwzhEBC"
      }
    },
    {
      "cell_type": "markdown",
      "source": [
        "![image.png](data:image/png;base64,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)"
      ],
      "metadata": {
        "id": "iw0xsesVg-WL"
      }
    },
    {
      "cell_type": "code",
      "source": [
        ""
      ],
      "metadata": {
        "id": "bemHroYLddCG"
      },
      "execution_count": null,
      "outputs": []
    },
    {
      "cell_type": "markdown",
      "source": [
        "**df.replace() - df.map() (`Ordinal to Numeric`)**"
      ],
      "metadata": {
        "id": "NTxW0Wqpi0Bz"
      }
    },
    {
      "cell_type": "markdown",
      "source": [
        "![image.png](data:image/png;base64,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)"
      ],
      "metadata": {
        "id": "mc2d9bRWixLq"
      }
    },
    {
      "cell_type": "code",
      "source": [
        "df.replace()"
      ],
      "metadata": {
        "id": "9AI5e5hsdc_g"
      },
      "execution_count": null,
      "outputs": []
    },
    {
      "cell_type": "code",
      "source": [
        "df.map()"
      ],
      "metadata": {
        "id": "OZE-N3YgddFe"
      },
      "execution_count": null,
      "outputs": []
    },
    {
      "cell_type": "code",
      "source": [
        ""
      ],
      "metadata": {
        "id": "XxoY9uM3c26v"
      },
      "execution_count": null,
      "outputs": []
    },
    {
      "cell_type": "markdown",
      "source": [
        "## Digitalize Numeric Data\n",
        "`np.digitize()`"
      ],
      "metadata": {
        "id": "jHZFombDO0AB"
      }
    },
    {
      "cell_type": "code",
      "source": [
        "import seaborn as sns\n",
        "sns.get_dataset_names()"
      ],
      "metadata": {
        "colab": {
          "base_uri": "https://localhost:8080/"
        },
        "id": "edmPTMOtWmmK",
        "outputId": "91c5d763-ab94-46a2-ee9e-aa8bcc5c7aa7"
      },
      "execution_count": 65,
      "outputs": [
        {
          "output_type": "execute_result",
          "data": {
            "text/plain": [
              "['anagrams',\n",
              " 'anscombe',\n",
              " 'attention',\n",
              " 'brain_networks',\n",
              " 'car_crashes',\n",
              " 'diamonds',\n",
              " 'dots',\n",
              " 'exercise',\n",
              " 'flights',\n",
              " 'fmri',\n",
              " 'gammas',\n",
              " 'geyser',\n",
              " 'iris',\n",
              " 'mpg',\n",
              " 'penguins',\n",
              " 'planets',\n",
              " 'taxis',\n",
              " 'tips',\n",
              " 'titanic']"
            ]
          },
          "metadata": {},
          "execution_count": 65
        }
      ]
    },
    {
      "cell_type": "code",
      "source": [
        "df = sns.load_dataset('titanic')\n",
        "df.head()"
      ],
      "metadata": {
        "colab": {
          "base_uri": "https://localhost:8080/",
          "height": 206
        },
        "id": "oEyYaVpgP4Kw",
        "outputId": "f415a883-1aa2-49aa-af2b-c817a1c7e826"
      },
      "execution_count": 54,
      "outputs": [
        {
          "output_type": "execute_result",
          "data": {
            "text/html": [
              "\n",
              "  <div id=\"df-bfbddf16-e1e7-4034-8075-79ef91d0b85f\">\n",
              "    <div class=\"colab-df-container\">\n",
              "      <div>\n",
              "<style scoped>\n",
              "    .dataframe tbody tr th:only-of-type {\n",
              "        vertical-align: middle;\n",
              "    }\n",
              "\n",
              "    .dataframe tbody tr th {\n",
              "        vertical-align: top;\n",
              "    }\n",
              "\n",
              "    .dataframe thead th {\n",
              "        text-align: right;\n",
              "    }\n",
              "</style>\n",
              "<table border=\"1\" class=\"dataframe\">\n",
              "  <thead>\n",
              "    <tr style=\"text-align: right;\">\n",
              "      <th></th>\n",
              "      <th>survived</th>\n",
              "      <th>pclass</th>\n",
              "      <th>sex</th>\n",
              "      <th>age</th>\n",
              "      <th>sibsp</th>\n",
              "      <th>parch</th>\n",
              "      <th>fare</th>\n",
              "      <th>embarked</th>\n",
              "      <th>class</th>\n",
              "      <th>who</th>\n",
              "      <th>adult_male</th>\n",
              "      <th>deck</th>\n",
              "      <th>embark_town</th>\n",
              "      <th>alive</th>\n",
              "      <th>alone</th>\n",
              "    </tr>\n",
              "  </thead>\n",
              "  <tbody>\n",
              "    <tr>\n",
              "      <th>0</th>\n",
              "      <td>0</td>\n",
              "      <td>3</td>\n",
              "      <td>male</td>\n",
              "      <td>22.0</td>\n",
              "      <td>1</td>\n",
              "      <td>0</td>\n",
              "      <td>7.2500</td>\n",
              "      <td>S</td>\n",
              "      <td>Third</td>\n",
              "      <td>man</td>\n",
              "      <td>True</td>\n",
              "      <td>NaN</td>\n",
              "      <td>Southampton</td>\n",
              "      <td>no</td>\n",
              "      <td>False</td>\n",
              "    </tr>\n",
              "    <tr>\n",
              "      <th>1</th>\n",
              "      <td>1</td>\n",
              "      <td>1</td>\n",
              "      <td>female</td>\n",
              "      <td>38.0</td>\n",
              "      <td>1</td>\n",
              "      <td>0</td>\n",
              "      <td>71.2833</td>\n",
              "      <td>C</td>\n",
              "      <td>First</td>\n",
              "      <td>woman</td>\n",
              "      <td>False</td>\n",
              "      <td>C</td>\n",
              "      <td>Cherbourg</td>\n",
              "      <td>yes</td>\n",
              "      <td>False</td>\n",
              "    </tr>\n",
              "    <tr>\n",
              "      <th>2</th>\n",
              "      <td>1</td>\n",
              "      <td>3</td>\n",
              "      <td>female</td>\n",
              "      <td>26.0</td>\n",
              "      <td>0</td>\n",
              "      <td>0</td>\n",
              "      <td>7.9250</td>\n",
              "      <td>S</td>\n",
              "      <td>Third</td>\n",
              "      <td>woman</td>\n",
              "      <td>False</td>\n",
              "      <td>NaN</td>\n",
              "      <td>Southampton</td>\n",
              "      <td>yes</td>\n",
              "      <td>True</td>\n",
              "    </tr>\n",
              "    <tr>\n",
              "      <th>3</th>\n",
              "      <td>1</td>\n",
              "      <td>1</td>\n",
              "      <td>female</td>\n",
              "      <td>35.0</td>\n",
              "      <td>1</td>\n",
              "      <td>0</td>\n",
              "      <td>53.1000</td>\n",
              "      <td>S</td>\n",
              "      <td>First</td>\n",
              "      <td>woman</td>\n",
              "      <td>False</td>\n",
              "      <td>C</td>\n",
              "      <td>Southampton</td>\n",
              "      <td>yes</td>\n",
              "      <td>False</td>\n",
              "    </tr>\n",
              "    <tr>\n",
              "      <th>4</th>\n",
              "      <td>0</td>\n",
              "      <td>3</td>\n",
              "      <td>male</td>\n",
              "      <td>35.0</td>\n",
              "      <td>0</td>\n",
              "      <td>0</td>\n",
              "      <td>8.0500</td>\n",
              "      <td>S</td>\n",
              "      <td>Third</td>\n",
              "      <td>man</td>\n",
              "      <td>True</td>\n",
              "      <td>NaN</td>\n",
              "      <td>Southampton</td>\n",
              "      <td>no</td>\n",
              "      <td>True</td>\n",
              "    </tr>\n",
              "  </tbody>\n",
              "</table>\n",
              "</div>\n",
              "      <button class=\"colab-df-convert\" onclick=\"convertToInteractive('df-bfbddf16-e1e7-4034-8075-79ef91d0b85f')\"\n",
              "              title=\"Convert this dataframe to an interactive table.\"\n",
              "              style=\"display:none;\">\n",
              "        \n",
              "  <svg xmlns=\"http://www.w3.org/2000/svg\" height=\"24px\"viewBox=\"0 0 24 24\"\n",
              "       width=\"24px\">\n",
              "    <path d=\"M0 0h24v24H0V0z\" fill=\"none\"/>\n",
              "    <path d=\"M18.56 5.44l.94 2.06.94-2.06 2.06-.94-2.06-.94-.94-2.06-.94 2.06-2.06.94zm-11 1L8.5 8.5l.94-2.06 2.06-.94-2.06-.94L8.5 2.5l-.94 2.06-2.06.94zm10 10l.94 2.06.94-2.06 2.06-.94-2.06-.94-.94-2.06-.94 2.06-2.06.94z\"/><path d=\"M17.41 7.96l-1.37-1.37c-.4-.4-.92-.59-1.43-.59-.52 0-1.04.2-1.43.59L10.3 9.45l-7.72 7.72c-.78.78-.78 2.05 0 2.83L4 21.41c.39.39.9.59 1.41.59.51 0 1.02-.2 1.41-.59l7.78-7.78 2.81-2.81c.8-.78.8-2.07 0-2.86zM5.41 20L4 18.59l7.72-7.72 1.47 1.35L5.41 20z\"/>\n",
              "  </svg>\n",
              "      </button>\n",
              "      \n",
              "  <style>\n",
              "    .colab-df-container {\n",
              "      display:flex;\n",
              "      flex-wrap:wrap;\n",
              "      gap: 12px;\n",
              "    }\n",
              "\n",
              "    .colab-df-convert {\n",
              "      background-color: #E8F0FE;\n",
              "      border: none;\n",
              "      border-radius: 50%;\n",
              "      cursor: pointer;\n",
              "      display: none;\n",
              "      fill: #1967D2;\n",
              "      height: 32px;\n",
              "      padding: 0 0 0 0;\n",
              "      width: 32px;\n",
              "    }\n",
              "\n",
              "    .colab-df-convert:hover {\n",
              "      background-color: #E2EBFA;\n",
              "      box-shadow: 0px 1px 2px rgba(60, 64, 67, 0.3), 0px 1px 3px 1px rgba(60, 64, 67, 0.15);\n",
              "      fill: #174EA6;\n",
              "    }\n",
              "\n",
              "    [theme=dark] .colab-df-convert {\n",
              "      background-color: #3B4455;\n",
              "      fill: #D2E3FC;\n",
              "    }\n",
              "\n",
              "    [theme=dark] .colab-df-convert:hover {\n",
              "      background-color: #434B5C;\n",
              "      box-shadow: 0px 1px 3px 1px rgba(0, 0, 0, 0.15);\n",
              "      filter: drop-shadow(0px 1px 2px rgba(0, 0, 0, 0.3));\n",
              "      fill: #FFFFFF;\n",
              "    }\n",
              "  </style>\n",
              "\n",
              "      <script>\n",
              "        const buttonEl =\n",
              "          document.querySelector('#df-bfbddf16-e1e7-4034-8075-79ef91d0b85f button.colab-df-convert');\n",
              "        buttonEl.style.display =\n",
              "          google.colab.kernel.accessAllowed ? 'block' : 'none';\n",
              "\n",
              "        async function convertToInteractive(key) {\n",
              "          const element = document.querySelector('#df-bfbddf16-e1e7-4034-8075-79ef91d0b85f');\n",
              "          const dataTable =\n",
              "            await google.colab.kernel.invokeFunction('convertToInteractive',\n",
              "                                                     [key], {});\n",
              "          if (!dataTable) return;\n",
              "\n",
              "          const docLinkHtml = 'Like what you see? Visit the ' +\n",
              "            '<a target=\"_blank\" href=https://colab.research.google.com/notebooks/data_table.ipynb>data table notebook</a>'\n",
              "            + ' to learn more about interactive tables.';\n",
              "          element.innerHTML = '';\n",
              "          dataTable['output_type'] = 'display_data';\n",
              "          await google.colab.output.renderOutput(dataTable, element);\n",
              "          const docLink = document.createElement('div');\n",
              "          docLink.innerHTML = docLinkHtml;\n",
              "          element.appendChild(docLink);\n",
              "        }\n",
              "      </script>\n",
              "    </div>\n",
              "  </div>\n",
              "  "
            ],
            "text/plain": [
              "   survived  pclass     sex   age  ...  deck  embark_town  alive  alone\n",
              "0         0       3    male  22.0  ...   NaN  Southampton     no  False\n",
              "1         1       1  female  38.0  ...     C    Cherbourg    yes  False\n",
              "2         1       3  female  26.0  ...   NaN  Southampton    yes   True\n",
              "3         1       1  female  35.0  ...     C  Southampton    yes  False\n",
              "4         0       3    male  35.0  ...   NaN  Southampton     no   True\n",
              "\n",
              "[5 rows x 15 columns]"
            ]
          },
          "metadata": {},
          "execution_count": 54
        }
      ]
    },
    {
      "cell_type": "code",
      "source": [
        "df.isna().sum()"
      ],
      "metadata": {
        "colab": {
          "base_uri": "https://localhost:8080/"
        },
        "id": "4-lkv22yUtIL",
        "outputId": "b137b632-cec4-41be-c190-cdc9c3c44561"
      },
      "execution_count": 55,
      "outputs": [
        {
          "output_type": "execute_result",
          "data": {
            "text/plain": [
              "survived         0\n",
              "pclass           0\n",
              "sex              0\n",
              "age            177\n",
              "sibsp            0\n",
              "parch            0\n",
              "fare             0\n",
              "embarked         2\n",
              "class            0\n",
              "who              0\n",
              "adult_male       0\n",
              "deck           688\n",
              "embark_town      2\n",
              "alive            0\n",
              "alone            0\n",
              "dtype: int64"
            ]
          },
          "metadata": {},
          "execution_count": 55
        }
      ]
    },
    {
      "cell_type": "code",
      "source": [
        "df.dropna(subset=['age'], axis=0, inplace=True)"
      ],
      "metadata": {
        "id": "J-mWPVgOUaVW"
      },
      "execution_count": 56,
      "outputs": []
    },
    {
      "cell_type": "code",
      "source": [
        "bins = np.array([0, 3, 13, 18, 30, 60, 100])\n",
        "digitized = np.digitize(df.age, bins)"
      ],
      "metadata": {
        "id": "qSCfUgAuPBtL"
      },
      "execution_count": 57,
      "outputs": []
    },
    {
      "cell_type": "code",
      "source": [
        "# pd.Series(digitized).value_counts().sort_index().plot.bar();\n",
        "pd.Series(digitized).value_counts().sort_index()"
      ],
      "metadata": {
        "colab": {
          "base_uri": "https://localhost:8080/"
        },
        "id": "MobfyRB0To-_",
        "outputId": "576b3cdb-0706-4474-a23b-7d0bf614d10d"
      },
      "execution_count": 63,
      "outputs": [
        {
          "output_type": "execute_result",
          "data": {
            "text/plain": [
              "1     24\n",
              "2     45\n",
              "3     44\n",
              "4    271\n",
              "5    304\n",
              "6     26\n",
              "dtype: int64"
            ]
          },
          "metadata": {},
          "execution_count": 63
        }
      ]
    },
    {
      "cell_type": "code",
      "source": [
        "df.age=digitized\n",
        "df"
      ],
      "metadata": {
        "colab": {
          "base_uri": "https://localhost:8080/",
          "height": 424
        },
        "id": "YoV3hMUbUM7R",
        "outputId": "68b5eeda-70e9-4bb2-85e5-ebdf648aa0ef"
      },
      "execution_count": 61,
      "outputs": [
        {
          "output_type": "execute_result",
          "data": {
            "text/html": [
              "\n",
              "  <div id=\"df-c7c2a711-faa6-4096-ae4d-7e1858a72c65\">\n",
              "    <div class=\"colab-df-container\">\n",
              "      <div>\n",
              "<style scoped>\n",
              "    .dataframe tbody tr th:only-of-type {\n",
              "        vertical-align: middle;\n",
              "    }\n",
              "\n",
              "    .dataframe tbody tr th {\n",
              "        vertical-align: top;\n",
              "    }\n",
              "\n",
              "    .dataframe thead th {\n",
              "        text-align: right;\n",
              "    }\n",
              "</style>\n",
              "<table border=\"1\" class=\"dataframe\">\n",
              "  <thead>\n",
              "    <tr style=\"text-align: right;\">\n",
              "      <th></th>\n",
              "      <th>survived</th>\n",
              "      <th>pclass</th>\n",
              "      <th>sex</th>\n",
              "      <th>age</th>\n",
              "      <th>sibsp</th>\n",
              "      <th>parch</th>\n",
              "      <th>fare</th>\n",
              "      <th>embarked</th>\n",
              "      <th>class</th>\n",
              "      <th>who</th>\n",
              "      <th>adult_male</th>\n",
              "      <th>deck</th>\n",
              "      <th>embark_town</th>\n",
              "      <th>alive</th>\n",
              "      <th>alone</th>\n",
              "    </tr>\n",
              "  </thead>\n",
              "  <tbody>\n",
              "    <tr>\n",
              "      <th>0</th>\n",
              "      <td>0</td>\n",
              "      <td>3</td>\n",
              "      <td>male</td>\n",
              "      <td>4</td>\n",
              "      <td>1</td>\n",
              "      <td>0</td>\n",
              "      <td>7.2500</td>\n",
              "      <td>S</td>\n",
              "      <td>Third</td>\n",
              "      <td>man</td>\n",
              "      <td>True</td>\n",
              "      <td>NaN</td>\n",
              "      <td>Southampton</td>\n",
              "      <td>no</td>\n",
              "      <td>False</td>\n",
              "    </tr>\n",
              "    <tr>\n",
              "      <th>1</th>\n",
              "      <td>1</td>\n",
              "      <td>1</td>\n",
              "      <td>female</td>\n",
              "      <td>5</td>\n",
              "      <td>1</td>\n",
              "      <td>0</td>\n",
              "      <td>71.2833</td>\n",
              "      <td>C</td>\n",
              "      <td>First</td>\n",
              "      <td>woman</td>\n",
              "      <td>False</td>\n",
              "      <td>C</td>\n",
              "      <td>Cherbourg</td>\n",
              "      <td>yes</td>\n",
              "      <td>False</td>\n",
              "    </tr>\n",
              "    <tr>\n",
              "      <th>2</th>\n",
              "      <td>1</td>\n",
              "      <td>3</td>\n",
              "      <td>female</td>\n",
              "      <td>4</td>\n",
              "      <td>0</td>\n",
              "      <td>0</td>\n",
              "      <td>7.9250</td>\n",
              "      <td>S</td>\n",
              "      <td>Third</td>\n",
              "      <td>woman</td>\n",
              "      <td>False</td>\n",
              "      <td>NaN</td>\n",
              "      <td>Southampton</td>\n",
              "      <td>yes</td>\n",
              "      <td>True</td>\n",
              "    </tr>\n",
              "    <tr>\n",
              "      <th>3</th>\n",
              "      <td>1</td>\n",
              "      <td>1</td>\n",
              "      <td>female</td>\n",
              "      <td>5</td>\n",
              "      <td>1</td>\n",
              "      <td>0</td>\n",
              "      <td>53.1000</td>\n",
              "      <td>S</td>\n",
              "      <td>First</td>\n",
              "      <td>woman</td>\n",
              "      <td>False</td>\n",
              "      <td>C</td>\n",
              "      <td>Southampton</td>\n",
              "      <td>yes</td>\n",
              "      <td>False</td>\n",
              "    </tr>\n",
              "    <tr>\n",
              "      <th>4</th>\n",
              "      <td>0</td>\n",
              "      <td>3</td>\n",
              "      <td>male</td>\n",
              "      <td>5</td>\n",
              "      <td>0</td>\n",
              "      <td>0</td>\n",
              "      <td>8.0500</td>\n",
              "      <td>S</td>\n",
              "      <td>Third</td>\n",
              "      <td>man</td>\n",
              "      <td>True</td>\n",
              "      <td>NaN</td>\n",
              "      <td>Southampton</td>\n",
              "      <td>no</td>\n",
              "      <td>True</td>\n",
              "    </tr>\n",
              "    <tr>\n",
              "      <th>...</th>\n",
              "      <td>...</td>\n",
              "      <td>...</td>\n",
              "      <td>...</td>\n",
              "      <td>...</td>\n",
              "      <td>...</td>\n",
              "      <td>...</td>\n",
              "      <td>...</td>\n",
              "      <td>...</td>\n",
              "      <td>...</td>\n",
              "      <td>...</td>\n",
              "      <td>...</td>\n",
              "      <td>...</td>\n",
              "      <td>...</td>\n",
              "      <td>...</td>\n",
              "      <td>...</td>\n",
              "    </tr>\n",
              "    <tr>\n",
              "      <th>885</th>\n",
              "      <td>0</td>\n",
              "      <td>3</td>\n",
              "      <td>female</td>\n",
              "      <td>5</td>\n",
              "      <td>0</td>\n",
              "      <td>5</td>\n",
              "      <td>29.1250</td>\n",
              "      <td>Q</td>\n",
              "      <td>Third</td>\n",
              "      <td>woman</td>\n",
              "      <td>False</td>\n",
              "      <td>NaN</td>\n",
              "      <td>Queenstown</td>\n",
              "      <td>no</td>\n",
              "      <td>False</td>\n",
              "    </tr>\n",
              "    <tr>\n",
              "      <th>886</th>\n",
              "      <td>0</td>\n",
              "      <td>2</td>\n",
              "      <td>male</td>\n",
              "      <td>4</td>\n",
              "      <td>0</td>\n",
              "      <td>0</td>\n",
              "      <td>13.0000</td>\n",
              "      <td>S</td>\n",
              "      <td>Second</td>\n",
              "      <td>man</td>\n",
              "      <td>True</td>\n",
              "      <td>NaN</td>\n",
              "      <td>Southampton</td>\n",
              "      <td>no</td>\n",
              "      <td>True</td>\n",
              "    </tr>\n",
              "    <tr>\n",
              "      <th>887</th>\n",
              "      <td>1</td>\n",
              "      <td>1</td>\n",
              "      <td>female</td>\n",
              "      <td>4</td>\n",
              "      <td>0</td>\n",
              "      <td>0</td>\n",
              "      <td>30.0000</td>\n",
              "      <td>S</td>\n",
              "      <td>First</td>\n",
              "      <td>woman</td>\n",
              "      <td>False</td>\n",
              "      <td>B</td>\n",
              "      <td>Southampton</td>\n",
              "      <td>yes</td>\n",
              "      <td>True</td>\n",
              "    </tr>\n",
              "    <tr>\n",
              "      <th>889</th>\n",
              "      <td>1</td>\n",
              "      <td>1</td>\n",
              "      <td>male</td>\n",
              "      <td>4</td>\n",
              "      <td>0</td>\n",
              "      <td>0</td>\n",
              "      <td>30.0000</td>\n",
              "      <td>C</td>\n",
              "      <td>First</td>\n",
              "      <td>man</td>\n",
              "      <td>True</td>\n",
              "      <td>C</td>\n",
              "      <td>Cherbourg</td>\n",
              "      <td>yes</td>\n",
              "      <td>True</td>\n",
              "    </tr>\n",
              "    <tr>\n",
              "      <th>890</th>\n",
              "      <td>0</td>\n",
              "      <td>3</td>\n",
              "      <td>male</td>\n",
              "      <td>5</td>\n",
              "      <td>0</td>\n",
              "      <td>0</td>\n",
              "      <td>7.7500</td>\n",
              "      <td>Q</td>\n",
              "      <td>Third</td>\n",
              "      <td>man</td>\n",
              "      <td>True</td>\n",
              "      <td>NaN</td>\n",
              "      <td>Queenstown</td>\n",
              "      <td>no</td>\n",
              "      <td>True</td>\n",
              "    </tr>\n",
              "  </tbody>\n",
              "</table>\n",
              "<p>714 rows × 15 columns</p>\n",
              "</div>\n",
              "      <button class=\"colab-df-convert\" onclick=\"convertToInteractive('df-c7c2a711-faa6-4096-ae4d-7e1858a72c65')\"\n",
              "              title=\"Convert this dataframe to an interactive table.\"\n",
              "              style=\"display:none;\">\n",
              "        \n",
              "  <svg xmlns=\"http://www.w3.org/2000/svg\" height=\"24px\"viewBox=\"0 0 24 24\"\n",
              "       width=\"24px\">\n",
              "    <path d=\"M0 0h24v24H0V0z\" fill=\"none\"/>\n",
              "    <path d=\"M18.56 5.44l.94 2.06.94-2.06 2.06-.94-2.06-.94-.94-2.06-.94 2.06-2.06.94zm-11 1L8.5 8.5l.94-2.06 2.06-.94-2.06-.94L8.5 2.5l-.94 2.06-2.06.94zm10 10l.94 2.06.94-2.06 2.06-.94-2.06-.94-.94-2.06-.94 2.06-2.06.94z\"/><path d=\"M17.41 7.96l-1.37-1.37c-.4-.4-.92-.59-1.43-.59-.52 0-1.04.2-1.43.59L10.3 9.45l-7.72 7.72c-.78.78-.78 2.05 0 2.83L4 21.41c.39.39.9.59 1.41.59.51 0 1.02-.2 1.41-.59l7.78-7.78 2.81-2.81c.8-.78.8-2.07 0-2.86zM5.41 20L4 18.59l7.72-7.72 1.47 1.35L5.41 20z\"/>\n",
              "  </svg>\n",
              "      </button>\n",
              "      \n",
              "  <style>\n",
              "    .colab-df-container {\n",
              "      display:flex;\n",
              "      flex-wrap:wrap;\n",
              "      gap: 12px;\n",
              "    }\n",
              "\n",
              "    .colab-df-convert {\n",
              "      background-color: #E8F0FE;\n",
              "      border: none;\n",
              "      border-radius: 50%;\n",
              "      cursor: pointer;\n",
              "      display: none;\n",
              "      fill: #1967D2;\n",
              "      height: 32px;\n",
              "      padding: 0 0 0 0;\n",
              "      width: 32px;\n",
              "    }\n",
              "\n",
              "    .colab-df-convert:hover {\n",
              "      background-color: #E2EBFA;\n",
              "      box-shadow: 0px 1px 2px rgba(60, 64, 67, 0.3), 0px 1px 3px 1px rgba(60, 64, 67, 0.15);\n",
              "      fill: #174EA6;\n",
              "    }\n",
              "\n",
              "    [theme=dark] .colab-df-convert {\n",
              "      background-color: #3B4455;\n",
              "      fill: #D2E3FC;\n",
              "    }\n",
              "\n",
              "    [theme=dark] .colab-df-convert:hover {\n",
              "      background-color: #434B5C;\n",
              "      box-shadow: 0px 1px 3px 1px rgba(0, 0, 0, 0.15);\n",
              "      filter: drop-shadow(0px 1px 2px rgba(0, 0, 0, 0.3));\n",
              "      fill: #FFFFFF;\n",
              "    }\n",
              "  </style>\n",
              "\n",
              "      <script>\n",
              "        const buttonEl =\n",
              "          document.querySelector('#df-c7c2a711-faa6-4096-ae4d-7e1858a72c65 button.colab-df-convert');\n",
              "        buttonEl.style.display =\n",
              "          google.colab.kernel.accessAllowed ? 'block' : 'none';\n",
              "\n",
              "        async function convertToInteractive(key) {\n",
              "          const element = document.querySelector('#df-c7c2a711-faa6-4096-ae4d-7e1858a72c65');\n",
              "          const dataTable =\n",
              "            await google.colab.kernel.invokeFunction('convertToInteractive',\n",
              "                                                     [key], {});\n",
              "          if (!dataTable) return;\n",
              "\n",
              "          const docLinkHtml = 'Like what you see? Visit the ' +\n",
              "            '<a target=\"_blank\" href=https://colab.research.google.com/notebooks/data_table.ipynb>data table notebook</a>'\n",
              "            + ' to learn more about interactive tables.';\n",
              "          element.innerHTML = '';\n",
              "          dataTable['output_type'] = 'display_data';\n",
              "          await google.colab.output.renderOutput(dataTable, element);\n",
              "          const docLink = document.createElement('div');\n",
              "          docLink.innerHTML = docLinkHtml;\n",
              "          element.appendChild(docLink);\n",
              "        }\n",
              "      </script>\n",
              "    </div>\n",
              "  </div>\n",
              "  "
            ],
            "text/plain": [
              "     survived  pclass     sex  age  ...  deck  embark_town  alive  alone\n",
              "0           0       3    male    4  ...   NaN  Southampton     no  False\n",
              "1           1       1  female    5  ...     C    Cherbourg    yes  False\n",
              "2           1       3  female    4  ...   NaN  Southampton    yes   True\n",
              "3           1       1  female    5  ...     C  Southampton    yes  False\n",
              "4           0       3    male    5  ...   NaN  Southampton     no   True\n",
              "..        ...     ...     ...  ...  ...   ...          ...    ...    ...\n",
              "885         0       3  female    5  ...   NaN   Queenstown     no  False\n",
              "886         0       2    male    4  ...   NaN  Southampton     no   True\n",
              "887         1       1  female    4  ...     B  Southampton    yes   True\n",
              "889         1       1    male    4  ...     C    Cherbourg    yes   True\n",
              "890         0       3    male    5  ...   NaN   Queenstown     no   True\n",
              "\n",
              "[714 rows x 15 columns]"
            ]
          },
          "metadata": {},
          "execution_count": 61
        }
      ]
    },
    {
      "cell_type": "markdown",
      "source": [
        "## Grouping and Aggregation"
      ],
      "metadata": {
        "id": "sO8535-Gjcsc"
      }
    },
    {
      "cell_type": "markdown",
      "source": [
        "**df.groupby()**"
      ],
      "metadata": {
        "id": "Vq5oSLUWjj3D"
      }
    },
    {
      "cell_type": "code",
      "source": [
        ""
      ],
      "metadata": {
        "id": "9FxR7rwUc29I"
      },
      "execution_count": null,
      "outputs": []
    },
    {
      "cell_type": "markdown",
      "source": [
        "**df.groupby().aggregate()**"
      ],
      "metadata": {
        "id": "xo9fJqRRjuEZ"
      }
    },
    {
      "cell_type": "code",
      "source": [
        ""
      ],
      "metadata": {
        "id": "K1HKrtD1c2_m"
      },
      "execution_count": null,
      "outputs": []
    },
    {
      "cell_type": "markdown",
      "source": [
        "**df.groupby().filter()**"
      ],
      "metadata": {
        "id": "yp8wggDkjygx"
      }
    },
    {
      "cell_type": "code",
      "source": [
        ""
      ],
      "metadata": {
        "id": "qyk32rA-c3Ce"
      },
      "execution_count": null,
      "outputs": []
    },
    {
      "cell_type": "markdown",
      "source": [
        "**df.groupby().transform()**"
      ],
      "metadata": {
        "id": "9Rrk5Czrj3nw"
      }
    },
    {
      "cell_type": "code",
      "source": [
        ""
      ],
      "metadata": {
        "id": "xuIa-r5ec3F4"
      },
      "execution_count": null,
      "outputs": []
    },
    {
      "cell_type": "markdown",
      "source": [
        "**df.groupby().apply()**"
      ],
      "metadata": {
        "id": "bjkxEZFMj6hV"
      }
    },
    {
      "cell_type": "code",
      "source": [
        ""
      ],
      "metadata": {
        "id": "q7ci0mqyj2-P"
      },
      "execution_count": null,
      "outputs": []
    },
    {
      "cell_type": "code",
      "source": [
        ""
      ],
      "metadata": {
        "id": "5SeH0H9Ij3Az"
      },
      "execution_count": null,
      "outputs": []
    },
    {
      "cell_type": "markdown",
      "source": [
        "**pd.crosstab()**"
      ],
      "metadata": {
        "id": "uzDH_yvakA9a"
      }
    },
    {
      "cell_type": "code",
      "source": [
        ""
      ],
      "metadata": {
        "id": "RIkJVH9Oj3DP"
      },
      "execution_count": null,
      "outputs": []
    },
    {
      "cell_type": "code",
      "source": [
        ""
      ],
      "metadata": {
        "id": "gmNvxycakKIe"
      },
      "execution_count": null,
      "outputs": []
    },
    {
      "cell_type": "code",
      "source": [
        ""
      ],
      "metadata": {
        "id": "oK6rE37IUMCw"
      },
      "execution_count": null,
      "outputs": []
    },
    {
      "cell_type": "markdown",
      "source": [
        "## Import and Export Dataset"
      ],
      "metadata": {
        "id": "XoZBTuYSkKyK"
      }
    },
    {
      "cell_type": "markdown",
      "source": [
        "**pd.read_csv() and df.to_csv()**\n",
        "<br>path, sep, header, index_col parameters"
      ],
      "metadata": {
        "id": "-SGEIjSYkUvR"
      }
    },
    {
      "cell_type": "code",
      "source": [
        ""
      ],
      "metadata": {
        "id": "yo749sm9kKK9"
      },
      "execution_count": null,
      "outputs": []
    },
    {
      "cell_type": "code",
      "source": [
        ""
      ],
      "metadata": {
        "id": "r5vWjD-Gl-26"
      },
      "execution_count": null,
      "outputs": []
    },
    {
      "cell_type": "markdown",
      "source": [
        "**pd.read_excel() and df.to_excel()**\n",
        "<br>sheet_name parameter"
      ],
      "metadata": {
        "id": "gVW58ifbkxbE"
      }
    },
    {
      "cell_type": "code",
      "source": [
        ""
      ],
      "metadata": {
        "id": "wWEsVgCKkKOG"
      },
      "execution_count": null,
      "outputs": []
    },
    {
      "cell_type": "code",
      "source": [
        ""
      ],
      "metadata": {
        "id": "zTxg_Ewlk4lK"
      },
      "execution_count": null,
      "outputs": []
    },
    {
      "cell_type": "markdown",
      "source": [
        "**pd.read_pickle() and df.to_pickle()**"
      ],
      "metadata": {
        "id": "8RTAmK9bk44R"
      }
    },
    {
      "cell_type": "code",
      "source": [
        ""
      ],
      "metadata": {
        "id": "lMb5jXtWlAlM"
      },
      "execution_count": null,
      "outputs": []
    },
    {
      "cell_type": "code",
      "source": [
        ""
      ],
      "metadata": {
        "id": "8wa63TNwlAny"
      },
      "execution_count": null,
      "outputs": []
    },
    {
      "cell_type": "code",
      "source": [
        ""
      ],
      "metadata": {
        "id": "lV-Zl_n4j3GQ"
      },
      "execution_count": null,
      "outputs": []
    },
    {
      "cell_type": "markdown",
      "metadata": {
        "id": "gHDdF2r1a9Ke"
      },
      "source": [
        "## Hierarchical indexing (MultiIndex)"
      ]
    },
    {
      "cell_type": "markdown",
      "source": [
        "![image.png](data:image/png;base64,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)"
      ],
      "metadata": {
        "id": "aCweSsyHbZuZ"
      }
    },
    {
      "cell_type": "markdown",
      "metadata": {
        "id": "av-vR15za9Ki"
      },
      "source": [
        "**MultiIndex.from_product()**"
      ]
    },
    {
      "cell_type": "code",
      "execution_count": null,
      "metadata": {
        "id": "jsNB_EJua9Ki"
      },
      "outputs": [],
      "source": [
        "group_1=[\"opel\", \"bmw\", \"audi\", \"toyota\"]\n",
        "group_2=[\"sedan\", \"hatchback\"]\n",
        "iterables = [group_1, group_2]"
      ]
    },
    {
      "cell_type": "code",
      "execution_count": null,
      "metadata": {
        "colab": {
          "base_uri": "https://localhost:8080/"
        },
        "id": "8Pkwpwuza9Kj",
        "outputId": "9ce71499-3465-49f8-f834-36ac0993c378"
      },
      "outputs": [
        {
          "output_type": "execute_result",
          "data": {
            "text/plain": [
              "MultiIndex([(  'opel',     'sedan'),\n",
              "            (  'opel', 'hatchback'),\n",
              "            (   'bmw',     'sedan'),\n",
              "            (   'bmw', 'hatchback'),\n",
              "            (  'audi',     'sedan'),\n",
              "            (  'audi', 'hatchback'),\n",
              "            ('toyota',     'sedan'),\n",
              "            ('toyota', 'hatchback')],\n",
              "           names=['make', 'model'])"
            ]
          },
          "metadata": {},
          "execution_count": 43
        }
      ],
      "source": [
        "index = pd.MultiIndex.from_product(iterables, names=[\"make\", \"model\"])\n",
        "index"
      ]
    },
    {
      "cell_type": "code",
      "execution_count": null,
      "metadata": {
        "colab": {
          "base_uri": "https://localhost:8080/",
          "height": 332
        },
        "id": "d__srew3a9Kk",
        "outputId": "3de3b19b-c145-4361-a0b0-e04683dd3d2b"
      },
      "outputs": [
        {
          "output_type": "execute_result",
          "data": {
            "text/html": [
              "\n",
              "  <div id=\"df-09610c98-c41d-4bd3-8614-61a071dd66e2\">\n",
              "    <div class=\"colab-df-container\">\n",
              "      <div>\n",
              "<style scoped>\n",
              "    .dataframe tbody tr th:only-of-type {\n",
              "        vertical-align: middle;\n",
              "    }\n",
              "\n",
              "    .dataframe tbody tr th {\n",
              "        vertical-align: top;\n",
              "    }\n",
              "\n",
              "    .dataframe thead th {\n",
              "        text-align: right;\n",
              "    }\n",
              "</style>\n",
              "<table border=\"1\" class=\"dataframe\">\n",
              "  <thead>\n",
              "    <tr style=\"text-align: right;\">\n",
              "      <th></th>\n",
              "      <th></th>\n",
              "      <th>price</th>\n",
              "      <th>mileage</th>\n",
              "      <th>weight</th>\n",
              "    </tr>\n",
              "    <tr>\n",
              "      <th>make</th>\n",
              "      <th>model</th>\n",
              "      <th></th>\n",
              "      <th></th>\n",
              "      <th></th>\n",
              "    </tr>\n",
              "  </thead>\n",
              "  <tbody>\n",
              "    <tr>\n",
              "      <th rowspan=\"2\" valign=\"top\">opel</th>\n",
              "      <th>sedan</th>\n",
              "      <td>0</td>\n",
              "      <td>0</td>\n",
              "      <td>0</td>\n",
              "    </tr>\n",
              "    <tr>\n",
              "      <th>hatchback</th>\n",
              "      <td>0</td>\n",
              "      <td>0</td>\n",
              "      <td>0</td>\n",
              "    </tr>\n",
              "    <tr>\n",
              "      <th rowspan=\"2\" valign=\"top\">bmw</th>\n",
              "      <th>sedan</th>\n",
              "      <td>0</td>\n",
              "      <td>0</td>\n",
              "      <td>0</td>\n",
              "    </tr>\n",
              "    <tr>\n",
              "      <th>hatchback</th>\n",
              "      <td>0</td>\n",
              "      <td>0</td>\n",
              "      <td>0</td>\n",
              "    </tr>\n",
              "    <tr>\n",
              "      <th rowspan=\"2\" valign=\"top\">audi</th>\n",
              "      <th>sedan</th>\n",
              "      <td>0</td>\n",
              "      <td>0</td>\n",
              "      <td>0</td>\n",
              "    </tr>\n",
              "    <tr>\n",
              "      <th>hatchback</th>\n",
              "      <td>0</td>\n",
              "      <td>0</td>\n",
              "      <td>0</td>\n",
              "    </tr>\n",
              "    <tr>\n",
              "      <th rowspan=\"2\" valign=\"top\">toyota</th>\n",
              "      <th>sedan</th>\n",
              "      <td>0</td>\n",
              "      <td>0</td>\n",
              "      <td>0</td>\n",
              "    </tr>\n",
              "    <tr>\n",
              "      <th>hatchback</th>\n",
              "      <td>0</td>\n",
              "      <td>0</td>\n",
              "      <td>0</td>\n",
              "    </tr>\n",
              "  </tbody>\n",
              "</table>\n",
              "</div>\n",
              "      <button class=\"colab-df-convert\" onclick=\"convertToInteractive('df-09610c98-c41d-4bd3-8614-61a071dd66e2')\"\n",
              "              title=\"Convert this dataframe to an interactive table.\"\n",
              "              style=\"display:none;\">\n",
              "        \n",
              "  <svg xmlns=\"http://www.w3.org/2000/svg\" height=\"24px\"viewBox=\"0 0 24 24\"\n",
              "       width=\"24px\">\n",
              "    <path d=\"M0 0h24v24H0V0z\" fill=\"none\"/>\n",
              "    <path d=\"M18.56 5.44l.94 2.06.94-2.06 2.06-.94-2.06-.94-.94-2.06-.94 2.06-2.06.94zm-11 1L8.5 8.5l.94-2.06 2.06-.94-2.06-.94L8.5 2.5l-.94 2.06-2.06.94zm10 10l.94 2.06.94-2.06 2.06-.94-2.06-.94-.94-2.06-.94 2.06-2.06.94z\"/><path d=\"M17.41 7.96l-1.37-1.37c-.4-.4-.92-.59-1.43-.59-.52 0-1.04.2-1.43.59L10.3 9.45l-7.72 7.72c-.78.78-.78 2.05 0 2.83L4 21.41c.39.39.9.59 1.41.59.51 0 1.02-.2 1.41-.59l7.78-7.78 2.81-2.81c.8-.78.8-2.07 0-2.86zM5.41 20L4 18.59l7.72-7.72 1.47 1.35L5.41 20z\"/>\n",
              "  </svg>\n",
              "      </button>\n",
              "      \n",
              "  <style>\n",
              "    .colab-df-container {\n",
              "      display:flex;\n",
              "      flex-wrap:wrap;\n",
              "      gap: 12px;\n",
              "    }\n",
              "\n",
              "    .colab-df-convert {\n",
              "      background-color: #E8F0FE;\n",
              "      border: none;\n",
              "      border-radius: 50%;\n",
              "      cursor: pointer;\n",
              "      display: none;\n",
              "      fill: #1967D2;\n",
              "      height: 32px;\n",
              "      padding: 0 0 0 0;\n",
              "      width: 32px;\n",
              "    }\n",
              "\n",
              "    .colab-df-convert:hover {\n",
              "      background-color: #E2EBFA;\n",
              "      box-shadow: 0px 1px 2px rgba(60, 64, 67, 0.3), 0px 1px 3px 1px rgba(60, 64, 67, 0.15);\n",
              "      fill: #174EA6;\n",
              "    }\n",
              "\n",
              "    [theme=dark] .colab-df-convert {\n",
              "      background-color: #3B4455;\n",
              "      fill: #D2E3FC;\n",
              "    }\n",
              "\n",
              "    [theme=dark] .colab-df-convert:hover {\n",
              "      background-color: #434B5C;\n",
              "      box-shadow: 0px 1px 3px 1px rgba(0, 0, 0, 0.15);\n",
              "      filter: drop-shadow(0px 1px 2px rgba(0, 0, 0, 0.3));\n",
              "      fill: #FFFFFF;\n",
              "    }\n",
              "  </style>\n",
              "\n",
              "      <script>\n",
              "        const buttonEl =\n",
              "          document.querySelector('#df-09610c98-c41d-4bd3-8614-61a071dd66e2 button.colab-df-convert');\n",
              "        buttonEl.style.display =\n",
              "          google.colab.kernel.accessAllowed ? 'block' : 'none';\n",
              "\n",
              "        async function convertToInteractive(key) {\n",
              "          const element = document.querySelector('#df-09610c98-c41d-4bd3-8614-61a071dd66e2');\n",
              "          const dataTable =\n",
              "            await google.colab.kernel.invokeFunction('convertToInteractive',\n",
              "                                                     [key], {});\n",
              "          if (!dataTable) return;\n",
              "\n",
              "          const docLinkHtml = 'Like what you see? Visit the ' +\n",
              "            '<a target=\"_blank\" href=https://colab.research.google.com/notebooks/data_table.ipynb>data table notebook</a>'\n",
              "            + ' to learn more about interactive tables.';\n",
              "          element.innerHTML = '';\n",
              "          dataTable['output_type'] = 'display_data';\n",
              "          await google.colab.output.renderOutput(dataTable, element);\n",
              "          const docLink = document.createElement('div');\n",
              "          docLink.innerHTML = docLinkHtml;\n",
              "          element.appendChild(docLink);\n",
              "        }\n",
              "      </script>\n",
              "    </div>\n",
              "  </div>\n",
              "  "
            ],
            "text/plain": [
              "                  price  mileage  weight\n",
              "make   model                            \n",
              "opel   sedan          0        0       0\n",
              "       hatchback      0        0       0\n",
              "bmw    sedan          0        0       0\n",
              "       hatchback      0        0       0\n",
              "audi   sedan          0        0       0\n",
              "       hatchback      0        0       0\n",
              "toyota sedan          0        0       0\n",
              "       hatchback      0        0       0"
            ]
          },
          "metadata": {},
          "execution_count": 44
        }
      ],
      "source": [
        "df = pd.DataFrame(0, index=index, columns=[\"price\",\"mileage\",\"weight\"])\n",
        "\n",
        "# df = pd.DataFrame(np.random.randint(10**5, size=(8,3)), \n",
        "#                   index=index,  \n",
        "#                   columns=[\"price\",\"mileage\",\"weight\"])\n",
        "df"
      ]
    },
    {
      "cell_type": "markdown",
      "metadata": {
        "id": "ipf3t2mKa9Ko"
      },
      "source": [
        "**Hierarchical columns**"
      ]
    },
    {
      "cell_type": "code",
      "source": [
        "df.T"
      ],
      "metadata": {
        "colab": {
          "base_uri": "https://localhost:8080/",
          "height": 175
        },
        "id": "2paYcE_PzEsN",
        "outputId": "8f2dd603-dd50-4e9b-b3d8-ebed95f203f2"
      },
      "execution_count": null,
      "outputs": [
        {
          "output_type": "execute_result",
          "data": {
            "text/html": [
              "\n",
              "  <div id=\"df-7cbd71a7-a36a-4649-97c8-387192231b41\">\n",
              "    <div class=\"colab-df-container\">\n",
              "      <div>\n",
              "<style scoped>\n",
              "    .dataframe tbody tr th:only-of-type {\n",
              "        vertical-align: middle;\n",
              "    }\n",
              "\n",
              "    .dataframe tbody tr th {\n",
              "        vertical-align: top;\n",
              "    }\n",
              "\n",
              "    .dataframe thead tr th {\n",
              "        text-align: left;\n",
              "    }\n",
              "</style>\n",
              "<table border=\"1\" class=\"dataframe\">\n",
              "  <thead>\n",
              "    <tr>\n",
              "      <th>make</th>\n",
              "      <th colspan=\"2\" halign=\"left\">opel</th>\n",
              "      <th colspan=\"2\" halign=\"left\">bmw</th>\n",
              "      <th colspan=\"2\" halign=\"left\">audi</th>\n",
              "      <th colspan=\"2\" halign=\"left\">toyota</th>\n",
              "    </tr>\n",
              "    <tr>\n",
              "      <th>model</th>\n",
              "      <th>sedan</th>\n",
              "      <th>hatchback</th>\n",
              "      <th>sedan</th>\n",
              "      <th>hatchback</th>\n",
              "      <th>sedan</th>\n",
              "      <th>hatchback</th>\n",
              "      <th>sedan</th>\n",
              "      <th>hatchback</th>\n",
              "    </tr>\n",
              "  </thead>\n",
              "  <tbody>\n",
              "    <tr>\n",
              "      <th>price</th>\n",
              "      <td>0</td>\n",
              "      <td>0</td>\n",
              "      <td>0</td>\n",
              "      <td>0</td>\n",
              "      <td>0</td>\n",
              "      <td>0</td>\n",
              "      <td>0</td>\n",
              "      <td>0</td>\n",
              "    </tr>\n",
              "    <tr>\n",
              "      <th>mileage</th>\n",
              "      <td>0</td>\n",
              "      <td>0</td>\n",
              "      <td>0</td>\n",
              "      <td>0</td>\n",
              "      <td>0</td>\n",
              "      <td>0</td>\n",
              "      <td>0</td>\n",
              "      <td>0</td>\n",
              "    </tr>\n",
              "    <tr>\n",
              "      <th>weight</th>\n",
              "      <td>0</td>\n",
              "      <td>0</td>\n",
              "      <td>0</td>\n",
              "      <td>0</td>\n",
              "      <td>0</td>\n",
              "      <td>0</td>\n",
              "      <td>0</td>\n",
              "      <td>0</td>\n",
              "    </tr>\n",
              "  </tbody>\n",
              "</table>\n",
              "</div>\n",
              "      <button class=\"colab-df-convert\" onclick=\"convertToInteractive('df-7cbd71a7-a36a-4649-97c8-387192231b41')\"\n",
              "              title=\"Convert this dataframe to an interactive table.\"\n",
              "              style=\"display:none;\">\n",
              "        \n",
              "  <svg xmlns=\"http://www.w3.org/2000/svg\" height=\"24px\"viewBox=\"0 0 24 24\"\n",
              "       width=\"24px\">\n",
              "    <path d=\"M0 0h24v24H0V0z\" fill=\"none\"/>\n",
              "    <path d=\"M18.56 5.44l.94 2.06.94-2.06 2.06-.94-2.06-.94-.94-2.06-.94 2.06-2.06.94zm-11 1L8.5 8.5l.94-2.06 2.06-.94-2.06-.94L8.5 2.5l-.94 2.06-2.06.94zm10 10l.94 2.06.94-2.06 2.06-.94-2.06-.94-.94-2.06-.94 2.06-2.06.94z\"/><path d=\"M17.41 7.96l-1.37-1.37c-.4-.4-.92-.59-1.43-.59-.52 0-1.04.2-1.43.59L10.3 9.45l-7.72 7.72c-.78.78-.78 2.05 0 2.83L4 21.41c.39.39.9.59 1.41.59.51 0 1.02-.2 1.41-.59l7.78-7.78 2.81-2.81c.8-.78.8-2.07 0-2.86zM5.41 20L4 18.59l7.72-7.72 1.47 1.35L5.41 20z\"/>\n",
              "  </svg>\n",
              "      </button>\n",
              "      \n",
              "  <style>\n",
              "    .colab-df-container {\n",
              "      display:flex;\n",
              "      flex-wrap:wrap;\n",
              "      gap: 12px;\n",
              "    }\n",
              "\n",
              "    .colab-df-convert {\n",
              "      background-color: #E8F0FE;\n",
              "      border: none;\n",
              "      border-radius: 50%;\n",
              "      cursor: pointer;\n",
              "      display: none;\n",
              "      fill: #1967D2;\n",
              "      height: 32px;\n",
              "      padding: 0 0 0 0;\n",
              "      width: 32px;\n",
              "    }\n",
              "\n",
              "    .colab-df-convert:hover {\n",
              "      background-color: #E2EBFA;\n",
              "      box-shadow: 0px 1px 2px rgba(60, 64, 67, 0.3), 0px 1px 3px 1px rgba(60, 64, 67, 0.15);\n",
              "      fill: #174EA6;\n",
              "    }\n",
              "\n",
              "    [theme=dark] .colab-df-convert {\n",
              "      background-color: #3B4455;\n",
              "      fill: #D2E3FC;\n",
              "    }\n",
              "\n",
              "    [theme=dark] .colab-df-convert:hover {\n",
              "      background-color: #434B5C;\n",
              "      box-shadow: 0px 1px 3px 1px rgba(0, 0, 0, 0.15);\n",
              "      filter: drop-shadow(0px 1px 2px rgba(0, 0, 0, 0.3));\n",
              "      fill: #FFFFFF;\n",
              "    }\n",
              "  </style>\n",
              "\n",
              "      <script>\n",
              "        const buttonEl =\n",
              "          document.querySelector('#df-7cbd71a7-a36a-4649-97c8-387192231b41 button.colab-df-convert');\n",
              "        buttonEl.style.display =\n",
              "          google.colab.kernel.accessAllowed ? 'block' : 'none';\n",
              "\n",
              "        async function convertToInteractive(key) {\n",
              "          const element = document.querySelector('#df-7cbd71a7-a36a-4649-97c8-387192231b41');\n",
              "          const dataTable =\n",
              "            await google.colab.kernel.invokeFunction('convertToInteractive',\n",
              "                                                     [key], {});\n",
              "          if (!dataTable) return;\n",
              "\n",
              "          const docLinkHtml = 'Like what you see? Visit the ' +\n",
              "            '<a target=\"_blank\" href=https://colab.research.google.com/notebooks/data_table.ipynb>data table notebook</a>'\n",
              "            + ' to learn more about interactive tables.';\n",
              "          element.innerHTML = '';\n",
              "          dataTable['output_type'] = 'display_data';\n",
              "          await google.colab.output.renderOutput(dataTable, element);\n",
              "          const docLink = document.createElement('div');\n",
              "          docLink.innerHTML = docLinkHtml;\n",
              "          element.appendChild(docLink);\n",
              "        }\n",
              "      </script>\n",
              "    </div>\n",
              "  </div>\n",
              "  "
            ],
            "text/plain": [
              "make     opel             bmw            audi           toyota          \n",
              "model   sedan hatchback sedan hatchback sedan hatchback  sedan hatchback\n",
              "price       0         0     0         0     0         0      0         0\n",
              "mileage     0         0     0         0     0         0      0         0\n",
              "weight      0         0     0         0     0         0      0         0"
            ]
          },
          "metadata": {},
          "execution_count": 30
        }
      ]
    },
    {
      "cell_type": "code",
      "execution_count": null,
      "metadata": {
        "colab": {
          "base_uri": "https://localhost:8080/",
          "height": 175
        },
        "id": "2T0AGKnha9Ko",
        "outputId": "69eb484b-37f9-43d4-ee6f-bc5e7bccd90b"
      },
      "outputs": [
        {
          "output_type": "execute_result",
          "data": {
            "text/html": [
              "\n",
              "  <div id=\"df-9e00a9b8-2e49-409c-97ae-fb81f46cd3a4\">\n",
              "    <div class=\"colab-df-container\">\n",
              "      <div>\n",
              "<style scoped>\n",
              "    .dataframe tbody tr th:only-of-type {\n",
              "        vertical-align: middle;\n",
              "    }\n",
              "\n",
              "    .dataframe tbody tr th {\n",
              "        vertical-align: top;\n",
              "    }\n",
              "\n",
              "    .dataframe thead tr th {\n",
              "        text-align: left;\n",
              "    }\n",
              "</style>\n",
              "<table border=\"1\" class=\"dataframe\">\n",
              "  <thead>\n",
              "    <tr>\n",
              "      <th>make</th>\n",
              "      <th colspan=\"2\" halign=\"left\">opel</th>\n",
              "      <th colspan=\"2\" halign=\"left\">bmw</th>\n",
              "      <th colspan=\"2\" halign=\"left\">audi</th>\n",
              "      <th colspan=\"2\" halign=\"left\">toyota</th>\n",
              "    </tr>\n",
              "    <tr>\n",
              "      <th>model</th>\n",
              "      <th>sedan</th>\n",
              "      <th>hatchback</th>\n",
              "      <th>sedan</th>\n",
              "      <th>hatchback</th>\n",
              "      <th>sedan</th>\n",
              "      <th>hatchback</th>\n",
              "      <th>sedan</th>\n",
              "      <th>hatchback</th>\n",
              "    </tr>\n",
              "  </thead>\n",
              "  <tbody>\n",
              "    <tr>\n",
              "      <th>price</th>\n",
              "      <td>-0.279298</td>\n",
              "      <td>-0.901559</td>\n",
              "      <td>-0.747590</td>\n",
              "      <td>0.502956</td>\n",
              "      <td>-1.277838</td>\n",
              "      <td>0.413043</td>\n",
              "      <td>0.205663</td>\n",
              "      <td>-0.495114</td>\n",
              "    </tr>\n",
              "    <tr>\n",
              "      <th>mileage</th>\n",
              "      <td>-1.815153</td>\n",
              "      <td>-0.450980</td>\n",
              "      <td>1.313032</td>\n",
              "      <td>-2.404415</td>\n",
              "      <td>0.190177</td>\n",
              "      <td>-0.591058</td>\n",
              "      <td>0.175243</td>\n",
              "      <td>1.498463</td>\n",
              "    </tr>\n",
              "    <tr>\n",
              "      <th>weight</th>\n",
              "      <td>-2.725638</td>\n",
              "      <td>1.063447</td>\n",
              "      <td>-0.992398</td>\n",
              "      <td>-0.412153</td>\n",
              "      <td>-1.469855</td>\n",
              "      <td>-0.830939</td>\n",
              "      <td>0.080884</td>\n",
              "      <td>0.040907</td>\n",
              "    </tr>\n",
              "  </tbody>\n",
              "</table>\n",
              "</div>\n",
              "      <button class=\"colab-df-convert\" onclick=\"convertToInteractive('df-9e00a9b8-2e49-409c-97ae-fb81f46cd3a4')\"\n",
              "              title=\"Convert this dataframe to an interactive table.\"\n",
              "              style=\"display:none;\">\n",
              "        \n",
              "  <svg xmlns=\"http://www.w3.org/2000/svg\" height=\"24px\"viewBox=\"0 0 24 24\"\n",
              "       width=\"24px\">\n",
              "    <path d=\"M0 0h24v24H0V0z\" fill=\"none\"/>\n",
              "    <path d=\"M18.56 5.44l.94 2.06.94-2.06 2.06-.94-2.06-.94-.94-2.06-.94 2.06-2.06.94zm-11 1L8.5 8.5l.94-2.06 2.06-.94-2.06-.94L8.5 2.5l-.94 2.06-2.06.94zm10 10l.94 2.06.94-2.06 2.06-.94-2.06-.94-.94-2.06-.94 2.06-2.06.94z\"/><path d=\"M17.41 7.96l-1.37-1.37c-.4-.4-.92-.59-1.43-.59-.52 0-1.04.2-1.43.59L10.3 9.45l-7.72 7.72c-.78.78-.78 2.05 0 2.83L4 21.41c.39.39.9.59 1.41.59.51 0 1.02-.2 1.41-.59l7.78-7.78 2.81-2.81c.8-.78.8-2.07 0-2.86zM5.41 20L4 18.59l7.72-7.72 1.47 1.35L5.41 20z\"/>\n",
              "  </svg>\n",
              "      </button>\n",
              "      \n",
              "  <style>\n",
              "    .colab-df-container {\n",
              "      display:flex;\n",
              "      flex-wrap:wrap;\n",
              "      gap: 12px;\n",
              "    }\n",
              "\n",
              "    .colab-df-convert {\n",
              "      background-color: #E8F0FE;\n",
              "      border: none;\n",
              "      border-radius: 50%;\n",
              "      cursor: pointer;\n",
              "      display: none;\n",
              "      fill: #1967D2;\n",
              "      height: 32px;\n",
              "      padding: 0 0 0 0;\n",
              "      width: 32px;\n",
              "    }\n",
              "\n",
              "    .colab-df-convert:hover {\n",
              "      background-color: #E2EBFA;\n",
              "      box-shadow: 0px 1px 2px rgba(60, 64, 67, 0.3), 0px 1px 3px 1px rgba(60, 64, 67, 0.15);\n",
              "      fill: #174EA6;\n",
              "    }\n",
              "\n",
              "    [theme=dark] .colab-df-convert {\n",
              "      background-color: #3B4455;\n",
              "      fill: #D2E3FC;\n",
              "    }\n",
              "\n",
              "    [theme=dark] .colab-df-convert:hover {\n",
              "      background-color: #434B5C;\n",
              "      box-shadow: 0px 1px 3px 1px rgba(0, 0, 0, 0.15);\n",
              "      filter: drop-shadow(0px 1px 2px rgba(0, 0, 0, 0.3));\n",
              "      fill: #FFFFFF;\n",
              "    }\n",
              "  </style>\n",
              "\n",
              "      <script>\n",
              "        const buttonEl =\n",
              "          document.querySelector('#df-9e00a9b8-2e49-409c-97ae-fb81f46cd3a4 button.colab-df-convert');\n",
              "        buttonEl.style.display =\n",
              "          google.colab.kernel.accessAllowed ? 'block' : 'none';\n",
              "\n",
              "        async function convertToInteractive(key) {\n",
              "          const element = document.querySelector('#df-9e00a9b8-2e49-409c-97ae-fb81f46cd3a4');\n",
              "          const dataTable =\n",
              "            await google.colab.kernel.invokeFunction('convertToInteractive',\n",
              "                                                     [key], {});\n",
              "          if (!dataTable) return;\n",
              "\n",
              "          const docLinkHtml = 'Like what you see? Visit the ' +\n",
              "            '<a target=\"_blank\" href=https://colab.research.google.com/notebooks/data_table.ipynb>data table notebook</a>'\n",
              "            + ' to learn more about interactive tables.';\n",
              "          element.innerHTML = '';\n",
              "          dataTable['output_type'] = 'display_data';\n",
              "          await google.colab.output.renderOutput(dataTable, element);\n",
              "          const docLink = document.createElement('div');\n",
              "          docLink.innerHTML = docLinkHtml;\n",
              "          element.appendChild(docLink);\n",
              "        }\n",
              "      </script>\n",
              "    </div>\n",
              "  </div>\n",
              "  "
            ],
            "text/plain": [
              "make         opel                 bmw  ...      audi    toyota          \n",
              "model       sedan hatchback     sedan  ... hatchback     sedan hatchback\n",
              "price   -0.279298 -0.901559 -0.747590  ...  0.413043  0.205663 -0.495114\n",
              "mileage -1.815153 -0.450980  1.313032  ... -0.591058  0.175243  1.498463\n",
              "weight  -2.725638  1.063447 -0.992398  ... -0.830939  0.080884  0.040907\n",
              "\n",
              "[3 rows x 8 columns]"
            ]
          },
          "metadata": {},
          "execution_count": 40
        }
      ],
      "source": [
        "# df = pd.DataFrame(0, index=[\"price\", \"mileage\", \"weight\"], columns=index)\n",
        "# df = pd.DataFrame(np.nan, index=[\"price\", \"mileage\", \"weight\"], columns=index)\n",
        "\n",
        "df = pd.DataFrame(np.random.randn(3,8), \n",
        "                  index=[\"price\", \"mileage\", \"weight\"], \n",
        "                  columns=index)\n",
        "\n",
        "df"
      ]
    },
    {
      "cell_type": "markdown",
      "source": [
        "## Pivoting and Stacking"
      ],
      "metadata": {
        "id": "vnTTBL4Eof0k"
      }
    },
    {
      "cell_type": "markdown",
      "source": [
        "**df.pivot()**"
      ],
      "metadata": {
        "id": "ox9bjo3ZoyLQ"
      }
    },
    {
      "cell_type": "markdown",
      "source": [
        "![image.png](data:image/png;base64,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)"
      ],
      "metadata": {
        "id": "ceBqTwgMor_r"
      }
    },
    {
      "cell_type": "code",
      "source": [
        "df = pd.DataFrame(np.random.randint(10**5, size=(8,3)), \n",
        "                  index=index,  \n",
        "                  columns=[\"price\",\"mileage\",\"weight\"])\n",
        "df.reset_index(inplace=True)\n",
        "df"
      ],
      "metadata": {
        "colab": {
          "base_uri": "https://localhost:8080/",
          "height": 300
        },
        "id": "ngQoJjNl2XEn",
        "outputId": "019ad067-f01d-4196-a30b-ac829c1e698e"
      },
      "execution_count": null,
      "outputs": [
        {
          "output_type": "execute_result",
          "data": {
            "text/html": [
              "\n",
              "  <div id=\"df-0181baea-38b8-4517-b6b2-780a2e15458d\">\n",
              "    <div class=\"colab-df-container\">\n",
              "      <div>\n",
              "<style scoped>\n",
              "    .dataframe tbody tr th:only-of-type {\n",
              "        vertical-align: middle;\n",
              "    }\n",
              "\n",
              "    .dataframe tbody tr th {\n",
              "        vertical-align: top;\n",
              "    }\n",
              "\n",
              "    .dataframe thead th {\n",
              "        text-align: right;\n",
              "    }\n",
              "</style>\n",
              "<table border=\"1\" class=\"dataframe\">\n",
              "  <thead>\n",
              "    <tr style=\"text-align: right;\">\n",
              "      <th></th>\n",
              "      <th>make</th>\n",
              "      <th>model</th>\n",
              "      <th>price</th>\n",
              "      <th>mileage</th>\n",
              "      <th>weight</th>\n",
              "    </tr>\n",
              "  </thead>\n",
              "  <tbody>\n",
              "    <tr>\n",
              "      <th>0</th>\n",
              "      <td>opel</td>\n",
              "      <td>sedan</td>\n",
              "      <td>83798</td>\n",
              "      <td>55438</td>\n",
              "      <td>78206</td>\n",
              "    </tr>\n",
              "    <tr>\n",
              "      <th>1</th>\n",
              "      <td>opel</td>\n",
              "      <td>hatchback</td>\n",
              "      <td>85039</td>\n",
              "      <td>1567</td>\n",
              "      <td>29339</td>\n",
              "    </tr>\n",
              "    <tr>\n",
              "      <th>2</th>\n",
              "      <td>bmw</td>\n",
              "      <td>sedan</td>\n",
              "      <td>83450</td>\n",
              "      <td>98307</td>\n",
              "      <td>36548</td>\n",
              "    </tr>\n",
              "    <tr>\n",
              "      <th>3</th>\n",
              "      <td>bmw</td>\n",
              "      <td>hatchback</td>\n",
              "      <td>72437</td>\n",
              "      <td>8310</td>\n",
              "      <td>86945</td>\n",
              "    </tr>\n",
              "    <tr>\n",
              "      <th>4</th>\n",
              "      <td>audi</td>\n",
              "      <td>sedan</td>\n",
              "      <td>74676</td>\n",
              "      <td>86429</td>\n",
              "      <td>61945</td>\n",
              "    </tr>\n",
              "    <tr>\n",
              "      <th>5</th>\n",
              "      <td>audi</td>\n",
              "      <td>hatchback</td>\n",
              "      <td>44674</td>\n",
              "      <td>15956</td>\n",
              "      <td>60073</td>\n",
              "    </tr>\n",
              "    <tr>\n",
              "      <th>6</th>\n",
              "      <td>toyota</td>\n",
              "      <td>sedan</td>\n",
              "      <td>31585</td>\n",
              "      <td>77060</td>\n",
              "      <td>80814</td>\n",
              "    </tr>\n",
              "    <tr>\n",
              "      <th>7</th>\n",
              "      <td>toyota</td>\n",
              "      <td>hatchback</td>\n",
              "      <td>56226</td>\n",
              "      <td>86723</td>\n",
              "      <td>63102</td>\n",
              "    </tr>\n",
              "  </tbody>\n",
              "</table>\n",
              "</div>\n",
              "      <button class=\"colab-df-convert\" onclick=\"convertToInteractive('df-0181baea-38b8-4517-b6b2-780a2e15458d')\"\n",
              "              title=\"Convert this dataframe to an interactive table.\"\n",
              "              style=\"display:none;\">\n",
              "        \n",
              "  <svg xmlns=\"http://www.w3.org/2000/svg\" height=\"24px\"viewBox=\"0 0 24 24\"\n",
              "       width=\"24px\">\n",
              "    <path d=\"M0 0h24v24H0V0z\" fill=\"none\"/>\n",
              "    <path d=\"M18.56 5.44l.94 2.06.94-2.06 2.06-.94-2.06-.94-.94-2.06-.94 2.06-2.06.94zm-11 1L8.5 8.5l.94-2.06 2.06-.94-2.06-.94L8.5 2.5l-.94 2.06-2.06.94zm10 10l.94 2.06.94-2.06 2.06-.94-2.06-.94-.94-2.06-.94 2.06-2.06.94z\"/><path d=\"M17.41 7.96l-1.37-1.37c-.4-.4-.92-.59-1.43-.59-.52 0-1.04.2-1.43.59L10.3 9.45l-7.72 7.72c-.78.78-.78 2.05 0 2.83L4 21.41c.39.39.9.59 1.41.59.51 0 1.02-.2 1.41-.59l7.78-7.78 2.81-2.81c.8-.78.8-2.07 0-2.86zM5.41 20L4 18.59l7.72-7.72 1.47 1.35L5.41 20z\"/>\n",
              "  </svg>\n",
              "      </button>\n",
              "      \n",
              "  <style>\n",
              "    .colab-df-container {\n",
              "      display:flex;\n",
              "      flex-wrap:wrap;\n",
              "      gap: 12px;\n",
              "    }\n",
              "\n",
              "    .colab-df-convert {\n",
              "      background-color: #E8F0FE;\n",
              "      border: none;\n",
              "      border-radius: 50%;\n",
              "      cursor: pointer;\n",
              "      display: none;\n",
              "      fill: #1967D2;\n",
              "      height: 32px;\n",
              "      padding: 0 0 0 0;\n",
              "      width: 32px;\n",
              "    }\n",
              "\n",
              "    .colab-df-convert:hover {\n",
              "      background-color: #E2EBFA;\n",
              "      box-shadow: 0px 1px 2px rgba(60, 64, 67, 0.3), 0px 1px 3px 1px rgba(60, 64, 67, 0.15);\n",
              "      fill: #174EA6;\n",
              "    }\n",
              "\n",
              "    [theme=dark] .colab-df-convert {\n",
              "      background-color: #3B4455;\n",
              "      fill: #D2E3FC;\n",
              "    }\n",
              "\n",
              "    [theme=dark] .colab-df-convert:hover {\n",
              "      background-color: #434B5C;\n",
              "      box-shadow: 0px 1px 3px 1px rgba(0, 0, 0, 0.15);\n",
              "      filter: drop-shadow(0px 1px 2px rgba(0, 0, 0, 0.3));\n",
              "      fill: #FFFFFF;\n",
              "    }\n",
              "  </style>\n",
              "\n",
              "      <script>\n",
              "        const buttonEl =\n",
              "          document.querySelector('#df-0181baea-38b8-4517-b6b2-780a2e15458d button.colab-df-convert');\n",
              "        buttonEl.style.display =\n",
              "          google.colab.kernel.accessAllowed ? 'block' : 'none';\n",
              "\n",
              "        async function convertToInteractive(key) {\n",
              "          const element = document.querySelector('#df-0181baea-38b8-4517-b6b2-780a2e15458d');\n",
              "          const dataTable =\n",
              "            await google.colab.kernel.invokeFunction('convertToInteractive',\n",
              "                                                     [key], {});\n",
              "          if (!dataTable) return;\n",
              "\n",
              "          const docLinkHtml = 'Like what you see? Visit the ' +\n",
              "            '<a target=\"_blank\" href=https://colab.research.google.com/notebooks/data_table.ipynb>data table notebook</a>'\n",
              "            + ' to learn more about interactive tables.';\n",
              "          element.innerHTML = '';\n",
              "          dataTable['output_type'] = 'display_data';\n",
              "          await google.colab.output.renderOutput(dataTable, element);\n",
              "          const docLink = document.createElement('div');\n",
              "          docLink.innerHTML = docLinkHtml;\n",
              "          element.appendChild(docLink);\n",
              "        }\n",
              "      </script>\n",
              "    </div>\n",
              "  </div>\n",
              "  "
            ],
            "text/plain": [
              "     make      model  price  mileage  weight\n",
              "0    opel      sedan  83798    55438   78206\n",
              "1    opel  hatchback  85039     1567   29339\n",
              "2     bmw      sedan  83450    98307   36548\n",
              "3     bmw  hatchback  72437     8310   86945\n",
              "4    audi      sedan  74676    86429   61945\n",
              "5    audi  hatchback  44674    15956   60073\n",
              "6  toyota      sedan  31585    77060   80814\n",
              "7  toyota  hatchback  56226    86723   63102"
            ]
          },
          "metadata": {},
          "execution_count": 51
        }
      ]
    },
    {
      "cell_type": "code",
      "execution_count": null,
      "metadata": {
        "colab": {
          "base_uri": "https://localhost:8080/",
          "height": 206
        },
        "id": "lTijDhKqa9Kr",
        "outputId": "ca076683-b175-4acb-b312-1397ed30d220"
      },
      "outputs": [
        {
          "output_type": "execute_result",
          "data": {
            "text/html": [
              "\n",
              "  <div id=\"df-a42d8956-ad11-4c0f-8c01-d07d7ccb4654\">\n",
              "    <div class=\"colab-df-container\">\n",
              "      <div>\n",
              "<style scoped>\n",
              "    .dataframe tbody tr th:only-of-type {\n",
              "        vertical-align: middle;\n",
              "    }\n",
              "\n",
              "    .dataframe tbody tr th {\n",
              "        vertical-align: top;\n",
              "    }\n",
              "\n",
              "    .dataframe thead th {\n",
              "        text-align: right;\n",
              "    }\n",
              "</style>\n",
              "<table border=\"1\" class=\"dataframe\">\n",
              "  <thead>\n",
              "    <tr style=\"text-align: right;\">\n",
              "      <th>model</th>\n",
              "      <th>hatchback</th>\n",
              "      <th>sedan</th>\n",
              "    </tr>\n",
              "    <tr>\n",
              "      <th>make</th>\n",
              "      <th></th>\n",
              "      <th></th>\n",
              "    </tr>\n",
              "  </thead>\n",
              "  <tbody>\n",
              "    <tr>\n",
              "      <th>audi</th>\n",
              "      <td>44674</td>\n",
              "      <td>74676</td>\n",
              "    </tr>\n",
              "    <tr>\n",
              "      <th>bmw</th>\n",
              "      <td>72437</td>\n",
              "      <td>83450</td>\n",
              "    </tr>\n",
              "    <tr>\n",
              "      <th>opel</th>\n",
              "      <td>85039</td>\n",
              "      <td>83798</td>\n",
              "    </tr>\n",
              "    <tr>\n",
              "      <th>toyota</th>\n",
              "      <td>56226</td>\n",
              "      <td>31585</td>\n",
              "    </tr>\n",
              "  </tbody>\n",
              "</table>\n",
              "</div>\n",
              "      <button class=\"colab-df-convert\" onclick=\"convertToInteractive('df-a42d8956-ad11-4c0f-8c01-d07d7ccb4654')\"\n",
              "              title=\"Convert this dataframe to an interactive table.\"\n",
              "              style=\"display:none;\">\n",
              "        \n",
              "  <svg xmlns=\"http://www.w3.org/2000/svg\" height=\"24px\"viewBox=\"0 0 24 24\"\n",
              "       width=\"24px\">\n",
              "    <path d=\"M0 0h24v24H0V0z\" fill=\"none\"/>\n",
              "    <path d=\"M18.56 5.44l.94 2.06.94-2.06 2.06-.94-2.06-.94-.94-2.06-.94 2.06-2.06.94zm-11 1L8.5 8.5l.94-2.06 2.06-.94-2.06-.94L8.5 2.5l-.94 2.06-2.06.94zm10 10l.94 2.06.94-2.06 2.06-.94-2.06-.94-.94-2.06-.94 2.06-2.06.94z\"/><path d=\"M17.41 7.96l-1.37-1.37c-.4-.4-.92-.59-1.43-.59-.52 0-1.04.2-1.43.59L10.3 9.45l-7.72 7.72c-.78.78-.78 2.05 0 2.83L4 21.41c.39.39.9.59 1.41.59.51 0 1.02-.2 1.41-.59l7.78-7.78 2.81-2.81c.8-.78.8-2.07 0-2.86zM5.41 20L4 18.59l7.72-7.72 1.47 1.35L5.41 20z\"/>\n",
              "  </svg>\n",
              "      </button>\n",
              "      \n",
              "  <style>\n",
              "    .colab-df-container {\n",
              "      display:flex;\n",
              "      flex-wrap:wrap;\n",
              "      gap: 12px;\n",
              "    }\n",
              "\n",
              "    .colab-df-convert {\n",
              "      background-color: #E8F0FE;\n",
              "      border: none;\n",
              "      border-radius: 50%;\n",
              "      cursor: pointer;\n",
              "      display: none;\n",
              "      fill: #1967D2;\n",
              "      height: 32px;\n",
              "      padding: 0 0 0 0;\n",
              "      width: 32px;\n",
              "    }\n",
              "\n",
              "    .colab-df-convert:hover {\n",
              "      background-color: #E2EBFA;\n",
              "      box-shadow: 0px 1px 2px rgba(60, 64, 67, 0.3), 0px 1px 3px 1px rgba(60, 64, 67, 0.15);\n",
              "      fill: #174EA6;\n",
              "    }\n",
              "\n",
              "    [theme=dark] .colab-df-convert {\n",
              "      background-color: #3B4455;\n",
              "      fill: #D2E3FC;\n",
              "    }\n",
              "\n",
              "    [theme=dark] .colab-df-convert:hover {\n",
              "      background-color: #434B5C;\n",
              "      box-shadow: 0px 1px 3px 1px rgba(0, 0, 0, 0.15);\n",
              "      filter: drop-shadow(0px 1px 2px rgba(0, 0, 0, 0.3));\n",
              "      fill: #FFFFFF;\n",
              "    }\n",
              "  </style>\n",
              "\n",
              "      <script>\n",
              "        const buttonEl =\n",
              "          document.querySelector('#df-a42d8956-ad11-4c0f-8c01-d07d7ccb4654 button.colab-df-convert');\n",
              "        buttonEl.style.display =\n",
              "          google.colab.kernel.accessAllowed ? 'block' : 'none';\n",
              "\n",
              "        async function convertToInteractive(key) {\n",
              "          const element = document.querySelector('#df-a42d8956-ad11-4c0f-8c01-d07d7ccb4654');\n",
              "          const dataTable =\n",
              "            await google.colab.kernel.invokeFunction('convertToInteractive',\n",
              "                                                     [key], {});\n",
              "          if (!dataTable) return;\n",
              "\n",
              "          const docLinkHtml = 'Like what you see? Visit the ' +\n",
              "            '<a target=\"_blank\" href=https://colab.research.google.com/notebooks/data_table.ipynb>data table notebook</a>'\n",
              "            + ' to learn more about interactive tables.';\n",
              "          element.innerHTML = '';\n",
              "          dataTable['output_type'] = 'display_data';\n",
              "          await google.colab.output.renderOutput(dataTable, element);\n",
              "          const docLink = document.createElement('div');\n",
              "          docLink.innerHTML = docLinkHtml;\n",
              "          element.appendChild(docLink);\n",
              "        }\n",
              "      </script>\n",
              "    </div>\n",
              "  </div>\n",
              "  "
            ],
            "text/plain": [
              "model   hatchback  sedan\n",
              "make                    \n",
              "audi        44674  74676\n",
              "bmw         72437  83450\n",
              "opel        85039  83798\n",
              "toyota      56226  31585"
            ]
          },
          "metadata": {},
          "execution_count": 53
        }
      ],
      "source": [
        "df.pivot(index='make',columns='model',values='price')"
      ]
    },
    {
      "cell_type": "code",
      "source": [
        "df.pivot(index='make',columns='model')"
      ],
      "metadata": {
        "colab": {
          "base_uri": "https://localhost:8080/",
          "height": 238
        },
        "id": "yBHHtMup3F8M",
        "outputId": "094cd2e2-5a88-4e8a-ab29-d381efabfedf"
      },
      "execution_count": null,
      "outputs": [
        {
          "output_type": "execute_result",
          "data": {
            "text/html": [
              "\n",
              "  <div id=\"df-eb9dac1a-758f-4dcf-826e-8f1c0a2c5438\">\n",
              "    <div class=\"colab-df-container\">\n",
              "      <div>\n",
              "<style scoped>\n",
              "    .dataframe tbody tr th:only-of-type {\n",
              "        vertical-align: middle;\n",
              "    }\n",
              "\n",
              "    .dataframe tbody tr th {\n",
              "        vertical-align: top;\n",
              "    }\n",
              "\n",
              "    .dataframe thead tr th {\n",
              "        text-align: left;\n",
              "    }\n",
              "\n",
              "    .dataframe thead tr:last-of-type th {\n",
              "        text-align: right;\n",
              "    }\n",
              "</style>\n",
              "<table border=\"1\" class=\"dataframe\">\n",
              "  <thead>\n",
              "    <tr>\n",
              "      <th></th>\n",
              "      <th colspan=\"2\" halign=\"left\">price</th>\n",
              "      <th colspan=\"2\" halign=\"left\">mileage</th>\n",
              "      <th colspan=\"2\" halign=\"left\">weight</th>\n",
              "    </tr>\n",
              "    <tr>\n",
              "      <th>model</th>\n",
              "      <th>hatchback</th>\n",
              "      <th>sedan</th>\n",
              "      <th>hatchback</th>\n",
              "      <th>sedan</th>\n",
              "      <th>hatchback</th>\n",
              "      <th>sedan</th>\n",
              "    </tr>\n",
              "    <tr>\n",
              "      <th>make</th>\n",
              "      <th></th>\n",
              "      <th></th>\n",
              "      <th></th>\n",
              "      <th></th>\n",
              "      <th></th>\n",
              "      <th></th>\n",
              "    </tr>\n",
              "  </thead>\n",
              "  <tbody>\n",
              "    <tr>\n",
              "      <th>audi</th>\n",
              "      <td>44674</td>\n",
              "      <td>74676</td>\n",
              "      <td>15956</td>\n",
              "      <td>86429</td>\n",
              "      <td>60073</td>\n",
              "      <td>61945</td>\n",
              "    </tr>\n",
              "    <tr>\n",
              "      <th>bmw</th>\n",
              "      <td>72437</td>\n",
              "      <td>83450</td>\n",
              "      <td>8310</td>\n",
              "      <td>98307</td>\n",
              "      <td>86945</td>\n",
              "      <td>36548</td>\n",
              "    </tr>\n",
              "    <tr>\n",
              "      <th>opel</th>\n",
              "      <td>85039</td>\n",
              "      <td>83798</td>\n",
              "      <td>1567</td>\n",
              "      <td>55438</td>\n",
              "      <td>29339</td>\n",
              "      <td>78206</td>\n",
              "    </tr>\n",
              "    <tr>\n",
              "      <th>toyota</th>\n",
              "      <td>56226</td>\n",
              "      <td>31585</td>\n",
              "      <td>86723</td>\n",
              "      <td>77060</td>\n",
              "      <td>63102</td>\n",
              "      <td>80814</td>\n",
              "    </tr>\n",
              "  </tbody>\n",
              "</table>\n",
              "</div>\n",
              "      <button class=\"colab-df-convert\" onclick=\"convertToInteractive('df-eb9dac1a-758f-4dcf-826e-8f1c0a2c5438')\"\n",
              "              title=\"Convert this dataframe to an interactive table.\"\n",
              "              style=\"display:none;\">\n",
              "        \n",
              "  <svg xmlns=\"http://www.w3.org/2000/svg\" height=\"24px\"viewBox=\"0 0 24 24\"\n",
              "       width=\"24px\">\n",
              "    <path d=\"M0 0h24v24H0V0z\" fill=\"none\"/>\n",
              "    <path d=\"M18.56 5.44l.94 2.06.94-2.06 2.06-.94-2.06-.94-.94-2.06-.94 2.06-2.06.94zm-11 1L8.5 8.5l.94-2.06 2.06-.94-2.06-.94L8.5 2.5l-.94 2.06-2.06.94zm10 10l.94 2.06.94-2.06 2.06-.94-2.06-.94-.94-2.06-.94 2.06-2.06.94z\"/><path d=\"M17.41 7.96l-1.37-1.37c-.4-.4-.92-.59-1.43-.59-.52 0-1.04.2-1.43.59L10.3 9.45l-7.72 7.72c-.78.78-.78 2.05 0 2.83L4 21.41c.39.39.9.59 1.41.59.51 0 1.02-.2 1.41-.59l7.78-7.78 2.81-2.81c.8-.78.8-2.07 0-2.86zM5.41 20L4 18.59l7.72-7.72 1.47 1.35L5.41 20z\"/>\n",
              "  </svg>\n",
              "      </button>\n",
              "      \n",
              "  <style>\n",
              "    .colab-df-container {\n",
              "      display:flex;\n",
              "      flex-wrap:wrap;\n",
              "      gap: 12px;\n",
              "    }\n",
              "\n",
              "    .colab-df-convert {\n",
              "      background-color: #E8F0FE;\n",
              "      border: none;\n",
              "      border-radius: 50%;\n",
              "      cursor: pointer;\n",
              "      display: none;\n",
              "      fill: #1967D2;\n",
              "      height: 32px;\n",
              "      padding: 0 0 0 0;\n",
              "      width: 32px;\n",
              "    }\n",
              "\n",
              "    .colab-df-convert:hover {\n",
              "      background-color: #E2EBFA;\n",
              "      box-shadow: 0px 1px 2px rgba(60, 64, 67, 0.3), 0px 1px 3px 1px rgba(60, 64, 67, 0.15);\n",
              "      fill: #174EA6;\n",
              "    }\n",
              "\n",
              "    [theme=dark] .colab-df-convert {\n",
              "      background-color: #3B4455;\n",
              "      fill: #D2E3FC;\n",
              "    }\n",
              "\n",
              "    [theme=dark] .colab-df-convert:hover {\n",
              "      background-color: #434B5C;\n",
              "      box-shadow: 0px 1px 3px 1px rgba(0, 0, 0, 0.15);\n",
              "      filter: drop-shadow(0px 1px 2px rgba(0, 0, 0, 0.3));\n",
              "      fill: #FFFFFF;\n",
              "    }\n",
              "  </style>\n",
              "\n",
              "      <script>\n",
              "        const buttonEl =\n",
              "          document.querySelector('#df-eb9dac1a-758f-4dcf-826e-8f1c0a2c5438 button.colab-df-convert');\n",
              "        buttonEl.style.display =\n",
              "          google.colab.kernel.accessAllowed ? 'block' : 'none';\n",
              "\n",
              "        async function convertToInteractive(key) {\n",
              "          const element = document.querySelector('#df-eb9dac1a-758f-4dcf-826e-8f1c0a2c5438');\n",
              "          const dataTable =\n",
              "            await google.colab.kernel.invokeFunction('convertToInteractive',\n",
              "                                                     [key], {});\n",
              "          if (!dataTable) return;\n",
              "\n",
              "          const docLinkHtml = 'Like what you see? Visit the ' +\n",
              "            '<a target=\"_blank\" href=https://colab.research.google.com/notebooks/data_table.ipynb>data table notebook</a>'\n",
              "            + ' to learn more about interactive tables.';\n",
              "          element.innerHTML = '';\n",
              "          dataTable['output_type'] = 'display_data';\n",
              "          await google.colab.output.renderOutput(dataTable, element);\n",
              "          const docLink = document.createElement('div');\n",
              "          docLink.innerHTML = docLinkHtml;\n",
              "          element.appendChild(docLink);\n",
              "        }\n",
              "      </script>\n",
              "    </div>\n",
              "  </div>\n",
              "  "
            ],
            "text/plain": [
              "           price          mileage           weight       \n",
              "model  hatchback  sedan hatchback  sedan hatchback  sedan\n",
              "make                                                     \n",
              "audi       44674  74676     15956  86429     60073  61945\n",
              "bmw        72437  83450      8310  98307     86945  36548\n",
              "opel       85039  83798      1567  55438     29339  78206\n",
              "toyota     56226  31585     86723  77060     63102  80814"
            ]
          },
          "metadata": {},
          "execution_count": 54
        }
      ]
    },
    {
      "cell_type": "markdown",
      "source": [
        "**df.stack()**"
      ],
      "metadata": {
        "id": "4xiI1hcJpQ2N"
      }
    },
    {
      "cell_type": "markdown",
      "metadata": {
        "id": "Kd4tjd4ha9Ks"
      },
      "source": [
        "![image.png](data:image/png;base64,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)"
      ]
    },
    {
      "cell_type": "code",
      "source": [
        "df = pd.DataFrame(np.random.randint(10**5, size=(8,3)), \n",
        "                  index=index,  \n",
        "                  columns=[\"price\",\"mileage\",\"weight\"])\n",
        "df"
      ],
      "metadata": {
        "colab": {
          "base_uri": "https://localhost:8080/",
          "height": 332
        },
        "id": "_H-4_Hoe3ivL",
        "outputId": "c881c7a0-3877-4836-b8b7-9358f19dd4a2"
      },
      "execution_count": null,
      "outputs": [
        {
          "output_type": "execute_result",
          "data": {
            "text/html": [
              "\n",
              "  <div id=\"df-42208182-0411-47eb-b48d-f68b25ce979c\">\n",
              "    <div class=\"colab-df-container\">\n",
              "      <div>\n",
              "<style scoped>\n",
              "    .dataframe tbody tr th:only-of-type {\n",
              "        vertical-align: middle;\n",
              "    }\n",
              "\n",
              "    .dataframe tbody tr th {\n",
              "        vertical-align: top;\n",
              "    }\n",
              "\n",
              "    .dataframe thead th {\n",
              "        text-align: right;\n",
              "    }\n",
              "</style>\n",
              "<table border=\"1\" class=\"dataframe\">\n",
              "  <thead>\n",
              "    <tr style=\"text-align: right;\">\n",
              "      <th></th>\n",
              "      <th></th>\n",
              "      <th>price</th>\n",
              "      <th>mileage</th>\n",
              "      <th>weight</th>\n",
              "    </tr>\n",
              "    <tr>\n",
              "      <th>make</th>\n",
              "      <th>model</th>\n",
              "      <th></th>\n",
              "      <th></th>\n",
              "      <th></th>\n",
              "    </tr>\n",
              "  </thead>\n",
              "  <tbody>\n",
              "    <tr>\n",
              "      <th rowspan=\"2\" valign=\"top\">opel</th>\n",
              "      <th>sedan</th>\n",
              "      <td>27289</td>\n",
              "      <td>77744</td>\n",
              "      <td>36300</td>\n",
              "    </tr>\n",
              "    <tr>\n",
              "      <th>hatchback</th>\n",
              "      <td>69629</td>\n",
              "      <td>54185</td>\n",
              "      <td>38352</td>\n",
              "    </tr>\n",
              "    <tr>\n",
              "      <th rowspan=\"2\" valign=\"top\">bmw</th>\n",
              "      <th>sedan</th>\n",
              "      <td>90565</td>\n",
              "      <td>6585</td>\n",
              "      <td>14462</td>\n",
              "    </tr>\n",
              "    <tr>\n",
              "      <th>hatchback</th>\n",
              "      <td>62739</td>\n",
              "      <td>56071</td>\n",
              "      <td>40913</td>\n",
              "    </tr>\n",
              "    <tr>\n",
              "      <th rowspan=\"2\" valign=\"top\">audi</th>\n",
              "      <th>sedan</th>\n",
              "      <td>20420</td>\n",
              "      <td>3314</td>\n",
              "      <td>53152</td>\n",
              "    </tr>\n",
              "    <tr>\n",
              "      <th>hatchback</th>\n",
              "      <td>56323</td>\n",
              "      <td>29293</td>\n",
              "      <td>41975</td>\n",
              "    </tr>\n",
              "    <tr>\n",
              "      <th rowspan=\"2\" valign=\"top\">toyota</th>\n",
              "      <th>sedan</th>\n",
              "      <td>97356</td>\n",
              "      <td>81491</td>\n",
              "      <td>22270</td>\n",
              "    </tr>\n",
              "    <tr>\n",
              "      <th>hatchback</th>\n",
              "      <td>30264</td>\n",
              "      <td>28646</td>\n",
              "      <td>22105</td>\n",
              "    </tr>\n",
              "  </tbody>\n",
              "</table>\n",
              "</div>\n",
              "      <button class=\"colab-df-convert\" onclick=\"convertToInteractive('df-42208182-0411-47eb-b48d-f68b25ce979c')\"\n",
              "              title=\"Convert this dataframe to an interactive table.\"\n",
              "              style=\"display:none;\">\n",
              "        \n",
              "  <svg xmlns=\"http://www.w3.org/2000/svg\" height=\"24px\"viewBox=\"0 0 24 24\"\n",
              "       width=\"24px\">\n",
              "    <path d=\"M0 0h24v24H0V0z\" fill=\"none\"/>\n",
              "    <path d=\"M18.56 5.44l.94 2.06.94-2.06 2.06-.94-2.06-.94-.94-2.06-.94 2.06-2.06.94zm-11 1L8.5 8.5l.94-2.06 2.06-.94-2.06-.94L8.5 2.5l-.94 2.06-2.06.94zm10 10l.94 2.06.94-2.06 2.06-.94-2.06-.94-.94-2.06-.94 2.06-2.06.94z\"/><path d=\"M17.41 7.96l-1.37-1.37c-.4-.4-.92-.59-1.43-.59-.52 0-1.04.2-1.43.59L10.3 9.45l-7.72 7.72c-.78.78-.78 2.05 0 2.83L4 21.41c.39.39.9.59 1.41.59.51 0 1.02-.2 1.41-.59l7.78-7.78 2.81-2.81c.8-.78.8-2.07 0-2.86zM5.41 20L4 18.59l7.72-7.72 1.47 1.35L5.41 20z\"/>\n",
              "  </svg>\n",
              "      </button>\n",
              "      \n",
              "  <style>\n",
              "    .colab-df-container {\n",
              "      display:flex;\n",
              "      flex-wrap:wrap;\n",
              "      gap: 12px;\n",
              "    }\n",
              "\n",
              "    .colab-df-convert {\n",
              "      background-color: #E8F0FE;\n",
              "      border: none;\n",
              "      border-radius: 50%;\n",
              "      cursor: pointer;\n",
              "      display: none;\n",
              "      fill: #1967D2;\n",
              "      height: 32px;\n",
              "      padding: 0 0 0 0;\n",
              "      width: 32px;\n",
              "    }\n",
              "\n",
              "    .colab-df-convert:hover {\n",
              "      background-color: #E2EBFA;\n",
              "      box-shadow: 0px 1px 2px rgba(60, 64, 67, 0.3), 0px 1px 3px 1px rgba(60, 64, 67, 0.15);\n",
              "      fill: #174EA6;\n",
              "    }\n",
              "\n",
              "    [theme=dark] .colab-df-convert {\n",
              "      background-color: #3B4455;\n",
              "      fill: #D2E3FC;\n",
              "    }\n",
              "\n",
              "    [theme=dark] .colab-df-convert:hover {\n",
              "      background-color: #434B5C;\n",
              "      box-shadow: 0px 1px 3px 1px rgba(0, 0, 0, 0.15);\n",
              "      filter: drop-shadow(0px 1px 2px rgba(0, 0, 0, 0.3));\n",
              "      fill: #FFFFFF;\n",
              "    }\n",
              "  </style>\n",
              "\n",
              "      <script>\n",
              "        const buttonEl =\n",
              "          document.querySelector('#df-42208182-0411-47eb-b48d-f68b25ce979c button.colab-df-convert');\n",
              "        buttonEl.style.display =\n",
              "          google.colab.kernel.accessAllowed ? 'block' : 'none';\n",
              "\n",
              "        async function convertToInteractive(key) {\n",
              "          const element = document.querySelector('#df-42208182-0411-47eb-b48d-f68b25ce979c');\n",
              "          const dataTable =\n",
              "            await google.colab.kernel.invokeFunction('convertToInteractive',\n",
              "                                                     [key], {});\n",
              "          if (!dataTable) return;\n",
              "\n",
              "          const docLinkHtml = 'Like what you see? Visit the ' +\n",
              "            '<a target=\"_blank\" href=https://colab.research.google.com/notebooks/data_table.ipynb>data table notebook</a>'\n",
              "            + ' to learn more about interactive tables.';\n",
              "          element.innerHTML = '';\n",
              "          dataTable['output_type'] = 'display_data';\n",
              "          await google.colab.output.renderOutput(dataTable, element);\n",
              "          const docLink = document.createElement('div');\n",
              "          docLink.innerHTML = docLinkHtml;\n",
              "          element.appendChild(docLink);\n",
              "        }\n",
              "      </script>\n",
              "    </div>\n",
              "  </div>\n",
              "  "
            ],
            "text/plain": [
              "                  price  mileage  weight\n",
              "make   model                            \n",
              "opel   sedan      27289    77744   36300\n",
              "       hatchback  69629    54185   38352\n",
              "bmw    sedan      90565     6585   14462\n",
              "       hatchback  62739    56071   40913\n",
              "audi   sedan      20420     3314   53152\n",
              "       hatchback  56323    29293   41975\n",
              "toyota sedan      97356    81491   22270\n",
              "       hatchback  30264    28646   22105"
            ]
          },
          "metadata": {},
          "execution_count": 81
        }
      ]
    },
    {
      "cell_type": "code",
      "source": [
        "# df.stack().to_frame()\n",
        "df.stack()"
      ],
      "metadata": {
        "colab": {
          "base_uri": "https://localhost:8080/"
        },
        "id": "PnCtYRSI3oE8",
        "outputId": "37b06418-416c-4369-80f4-1943db0515e6"
      },
      "execution_count": null,
      "outputs": [
        {
          "output_type": "execute_result",
          "data": {
            "text/plain": [
              "make    model             \n",
              "opel    sedan      price      27289\n",
              "                   mileage    77744\n",
              "                   weight     36300\n",
              "        hatchback  price      69629\n",
              "                   mileage    54185\n",
              "                   weight     38352\n",
              "bmw     sedan      price      90565\n",
              "                   mileage     6585\n",
              "                   weight     14462\n",
              "        hatchback  price      62739\n",
              "                   mileage    56071\n",
              "                   weight     40913\n",
              "audi    sedan      price      20420\n",
              "                   mileage     3314\n",
              "                   weight     53152\n",
              "        hatchback  price      56323\n",
              "                   mileage    29293\n",
              "                   weight     41975\n",
              "toyota  sedan      price      97356\n",
              "                   mileage    81491\n",
              "                   weight     22270\n",
              "        hatchback  price      30264\n",
              "                   mileage    28646\n",
              "                   weight     22105\n",
              "dtype: int64"
            ]
          },
          "metadata": {},
          "execution_count": 82
        }
      ]
    },
    {
      "cell_type": "code",
      "source": [
        "stacked= df.stack()"
      ],
      "metadata": {
        "id": "_vPQMcp86BJS"
      },
      "execution_count": null,
      "outputs": []
    },
    {
      "cell_type": "markdown",
      "metadata": {
        "id": "CWLOvkbOa9Kv"
      },
      "source": [
        "**df.unstack( )**"
      ]
    },
    {
      "cell_type": "markdown",
      "source": [
        "![image.png](data:image/png;base64,iVBORw0KGgoAAAANSUhEUgAABIMAAAJ1CAYAAABKEDDJAAAAAXNSR0IArs4c6QAAAARnQU1BAACxjwv8YQUAAAAJcEhZcwAADsMAAA7DAcdvqGQAAP+lSURBVHhe7N0HgBTl/T7w53rv/YCjd1C6ICiKIvYWe2zRmN6rSX75x/ReTLHHGGvEhoAg0nvvHP3geu9tr99/nndn4MSjSrnbfT75ze+42Z2d2dn15t1nv+/7+rRbICIiIiIiIiIiXsHX/ikiIiIiIiIiIl5AYZCIiIiIiIiIiBdRGCQiIiIiIiIi4kUUBomIiIiIiIiIeBGFQSIiIiIiIiIiXkRhkIiIiIiIiIiIF1EYJCIiIiIiIiLiRRQGiYiIiIiIiIh4EYVBIiIiIiIiIiJeRGGQiIiIiIiIiIgXURgkIiIiIiIiIuJFFAaJiIiIiIiIiHgRhUEiIiIiIiIiIl5EYZCIiIiIiIiIiBfxabfY/xYREREROatqa2tRU1MDp8kZGhqKsLAwBAQEmN9FRETk/FMYJCIi4kF4WW9tbUVbW5u9BvD19YWfnx98fHzsNcfX2fbcTh/c5Uxt374dW7ZsQVNTk/l92LBhGDx4MBITE83vIiIicv4pDBIREfEg9fX1KC0tRXFxsb0G5kN3SkrKKQU6DQ0NZvuSkhITClFUVBT69+9vQiWR0/X3v/8df/rTn1BdXW1+f+SRR3D//fdjzJgx5ncRERE5/9SqExER8SBZWVl488038Y1vfOPI8s4776Cqqsq+x4kxBHr//ffx/e9//8j2Tz/9tAmJvP37I1ZLMSjbt28fduzYgfT0dHO+W1pa7HtIZxobG00QxPcgFwaWOmciIiIXlsIgERERD8KxWTIyMrB27dojy+HDh4900TkZl8tlAo4NGzYc2X7Pnj1HqoS8Gc8huzu9+OKLptLlX//6lwnOGJSJiIiIdCcKg0REREROAatZ9u7di9mzZ+OVV17BzJkzsXz5coVBIiIi0u0oDBIRERERERER8SIKg0REREREREREvIjCIBERERERERERL6IwSERERM4LDsDMmaQ4u9S5woGuuQ8OpM39ecIMaJzFjM+Jg3uf71m4nH1rNjkRERHP4mNd2HVlFxER8RCcBYyzXT377LP2GuDrX/86Hn/8caSmptprjm///v144YUX8Mwzz5hAha699lozWHJ4eDh8fHzMuo4OHTqEiooKExz4+fkhLS0NUVFR5neuz83NNVPWc3rx5uZmBAYGIiYmBhEREejTpw/i4uIQEBBgP9rp4TEWFhaaxQlMamtrzX5CQ0PNEhQUhMjISMTGxpp98dj8/f3tR/gkbp+Tk4O6urqPBSB8/Dlz5pip+jMzM83jjBkzBj/60Y8QHR1t3+uTuO/+/fubc9PZ+XMwyGLoUlZWZhaeLz4fruPz5LZhYWHm8fiTS0JCgtl3cHCw/ShnjvsvKipCeXm5OQd8/vzJ4+Cx8/Xn+eTzTklJMecyJCTE3vr4/vjHP+LXv/61mVaevvjFL+KRRx7BhAkTzO/Hw/dOcXGx2b+D++Rz5ntHREREzpzCIBEREQ9yIcIgTrPOKegZWvBD+qOPPoqRI0eaD/GrV68206/zZ2VlpalsYTiTlJSEAQMG4IEHHsDUqVPRs2fP0wqEGFwwXNi+fTsWLVqEjz76CHl5eSbIcCqPeKwMSRggDB48GOPGjcPEiRMxadIkEwwdb3+cMew///kP9u3bZ0IlB/fJkIhT7zMo4fZ8nIsuuuiEx87A6Hvf+545N76+nRdl85gZADFY27hxo3kdeRx8Ts55Y5ONr0FycrIJ0Xr37o1LL70Ul1xyiQmbzjQQYmjH/TOw+/DDD7Fp0yZzHHye3D9v474ZBPF1Gzp0KGbMmGH2zdeQ4dCJnG4YxH3xvbRy5Urz2qanp5vzxuDp6quvxpVXXomBAwfa9xYREZEzoTBIRETEg1yIMOjhhx82062zcoYVP7/73e/Mzw8++ADvvfeeeRx22WLoQHwMfrhntUl8fDzuvvtuEw6MGDHC3H4yDGVYMfL73/8e8+fPR35+vgksuJ7Nmo5NG2dfrARiYMNgiMHMrbfeagKozvAc/vjHPzahjBMsObgPZz98bC4nC7EYYDBc4r6PFwatWrUK//3vf835YgDF8+Xsyzlv1PH58PwxIGEw87nPfc7s50wwbOJzZai3c+dOE9owfOJ+nedKHffNQK9fv36444478JOf/MTcfjynGwYxCFqxYgX+8Ic/HHkNGERdd911+Na3voXRo0efsLJLRERETk5jBomIiMinwuCAH9i5MBBiFyqGH/PmzTNdfRhasJKDYU+vXr1MkMCQgYEHuyUxNHrzzTePVL+cCG9nePHXv/7VVLFwX+zKxMdjsDRq1ChcddVVRypXuF92q+LtvB8DCR4jfz8eBg0Ms9gdKTEx8cjCx2cg5gQRDEf4XBjydLzfsQsrZ44XAjlYRcWubk73MAYifK48dj4HVjOxgorVTeyGx3PKLmSshGL1DIOcp556ymx7snPYESur/vGPf5hAZ/369SZkc84PgyZWVE2ePBnjx483rx2DL75u3A/PPZezqbS01LyuDBQ3b95sgkS+FjfeeCO++tWvmuNRECQiIvLpqTJIRETEg1yIyqD777/fVLQwRGA4wsDiwIEDplsUQwR2k2KQwgCD3at42/Lly7Fr1y4TLHAMIQYdrAQZPnz4CSttGH6sWbPGPJ+MjAwTQPXo0cN0HWIQxG5MTncsBioMLRgescvT7t27TbcndmNjRQu7WXWGAdW6detMMNIxNOK+uG9WrTC44Zg9gwYNwn333WfOzfGwAokBFbtxdXb+iGMRPf3006Zr1JAhQzBs2DAT+jBoYiDE58QQhMfA58PnwWPcsmWLOSe8nc//V7/6lamc4e8nw+f52muv4d///jf27NljQiQeI7v4sesZu6KxGxwfi0EdgzSGVRwDit3+eA6mT5+OV1991X7Ezp1qZRArvJYtW4aXX37ZnGOGXXyNuA++x3hMZ2NsJBEREVEYJCIi4lEudBhEDC0YgNxwww245557TGWJsx27HmVnZ+Pdd9/Fk08+iYKCAtMtihUfX/jCF/DYY4+dMMjg8T3//PPm+fH4GFYwCPrhD39oxu5hGHUsZ58cC2fHjh0YO3asqbRh1c7pYGURzy1DG47nw6CGIRaPhWHXp8FuYqyQYiDC0IPHx3GAGAQdiwEVA6ElS5aYffM157ngfb/2ta+ZLmMcy+dE2PxzAihW4jA8Y7jFgOa2224zXbL69u37idebrxWDNXYLZBjFrmKs4jmRUwmD+D5ghdMbb7xhjofHx0qk66+/3ryHrrjiCvueIiIicjaom5iIiIicVQxfGARxLKEpU6Z8LFBg6MCKkwcffNCEMk7ww8GLWRXDypcTYSDDyiJWqhADE46VwwqkzoIgcvbJaqCf//znJtz6tOHN2cYKIwZhDGe+/OUvm+qezoIgYoUVg6g777zTdJ9iIEOspGHXPAYrJ8LXhxVTHNibY/IQAzx24+N4Snzd+JidBX+s2mLQ9M1vftMEjKza+TQY+jDIWrhwoQnaOAYU98uudbfccosJjRQEiYiInH0Kg0REROSsYfDCEIMf4Nnl63jY3YehDKcoJ4ZA7JbFoOJEGAZxpisnDOJ4MuwadqoYNLBbGo+zK2E4xS5RHKensxDmeFh15ZxnnhPOvMVuYycaE4nd5+bOnYutW7eaMZ2IVV+szLr44ovNYM0nw0CK3ckuu+wye82ZYTUZq844bhG74BErlL70pS+ZCiKGYiIiInL2KQwSERGRs4ZBC7s5sYvPicZ3YSUKww8neGAYxPFoThRiEEMIVgA5gQm7HrGq6HScTthyvjCc4nM73WNj1z92lSNW2bAbFwMejs10PDzX7JbGMYMYvjG8Yxc7DrjNiqNTPQZWCfH1PlMce4jjAznd7njsrEhit8YHHnjA/PtkM7WJiIjImVEYJCIiImcNQx52I2LAcKJQgeEHx+xxunYxBGKAcbKZvhgwsZqIwQlx/BoONrx27VrT3ehklUXdCSt9WAnFgZoPHjyIbdu2mW5dnPXLWfbt22fGD+qI5/BE3e34uBx7yRkTitVVHL+HFVafJtw5HRz8e9asWWY6fU5nz+fJcaM+85nP4N577zXd5k6lQklERETOjMIgEREROWsY0jBUONmsT053Mqfyg1UtDCkYCDldwDrDKhjOVsbHZ9jEoIQzk3FGLA5KzUGVOcMWwwZWDLFLVHcKiPjcOeYPB4Xm+D9vvfWWGVT5lVdewUsvvWTG1em48DbOktYRK2yOdw55nhkUcR88N8TXgV3NGOSdD9z3ggULzCxkDLQ4oxyxyomvLccuUkWQiIjIuaUwSERExIMwIDndrkZnE0MeBjYnqzDhMTJ86HisDCoYDJwovGFV0M0332xmumLlCLdndyMGIxxn5lvf+paZ3YpBA4MhTl/P2zmODgdY7qr43FnRk5mZaUKgX/ziF2ZAaQ6g/J3vfMf8ztnXOMvbc889d2ThzG8MvzpiEHS86irexoogdiVjaEQM1hjgOdVW5xrHBuLscwyCOr7+nEmN3cV4Hng+RERE5NxRGCQiIiJnDT/cM1w4V8ECu5WxG9qPf/xjMxuZU4HkVLyw2xSnTP/Tn/5kwiFOTX7fffeZgGj16tVdtkqIAQjDK06j/oMf/MBMs15aWmrfenpOFKQwEGPo0jEsOt9hEIM5BlJ8r3TcJ7vCMQjjzGJO1ZKIiIicGwqDREREPIgzEPHZxMc8nS5EHas9zjY+NiuCpk6daqplGApxVrK0tDRznKx8YZDAMWg4lg4Dle3bt+PNN9/Eb37zG7Owm9LxulFdCAxmli5diueffx579uwxVTsMtjimEqfN//73v4/f/va3eOqpp0xXMXYZcxb+zinYO2IYdLxAyBmbqePtfL+c7ixmnwYDOVaOjR8/Hr/+9a/NaxkdHW1eE4Z5fJ4HDhxQICQiInIOKQwSERHxIPxg/2nHfjk2SGDIwjFczldYcDI8Hk7FPnHiRNx9991m9qkf/ehH+OEPf2i6VV133XVm2nMOjMxjZjCUnZ1tuiVxGvPZs2ebmbS6Co75w2oYdp9ihRBdeeWV+PKXv4xvfOMbZmYtVgxxcGUGPx2X6dOnmy5zp4rvjaioKHMOHQxheI7OV9UUgydOic/X6s477zRT2g8ZMsQERNXV1di0aZMJug4fPtytxnsSERHpThQGiYiIeBB+2D928N0TVYp0puN9GRowYDrb1UZnA7uMDRw40HQFY6DACppvf/vbpnvYQw89hDvuuMOEDqyw4Xlh0MJZtF577TUzwHRXqQ5i+MGFVUw8ToY7DH8+//nP46abbjLBVp8+fczzYAVNRETEkYVhiTP2z6lwuoQxeHHCPVbgONPMnw/s5scgi+EWnxefI0Mt/pvHUFVVZSq5OEscBwgXERGRs09hkIiIiAdhmHDs4M38gH2qH/QZBHUcT4YhUFeqCjoehlYMSjgTFQeY/u53v4t//OMf+OUvf4lp06YhLi7O3I/dr1atWmW6IbEa5nSdi/PAQaOdSiWGNQy3Lr/8cjO71skwQGI1zania8nzxBnE+F4hhkHsOne8QafPtkmTJpmqLlZ38Xwy1LrrrrtMNRS7API4cnJy8Pbbb2Pt2rVHZhsTERGRs0dhkIiIiAdhtQw/UHfED9enWj3C0Igfvp3qID4eu/V0RwzFGDw8/vjjZlwhB58bK044Ns/pYjjmBEJ8nLNRTcPZzsrKysy/GdawEohduU4Fp89nJc3p4HPo0aPHkdeVgzlz8ObzVSnVWaDGbmLs3sfxgxysDPrggw+Qnp5urxEREZGzRWGQiIiIB2GIkJCQYP/mxgoYzuB0Klg5U1xcfCTk6OzxuguGDgyE2JWMXZA6hmQ8J6c71TyrjzgOkVN5xYCNg1R/mkCIgRIre5yxgriP8PDwI1U7J8JtOQ4SB10+HXxsdtViRQ4xUOJMZpxl7EJV4fCYGNyxax8HA2dgxWPhwNrs1sfg7mwEbyIiIuKmMEhERMSDMEhgeMOfTgUGu9zs3bvX/PtE+OGb3ZV4X6eSKDY29pS6K3VlznhHHStfGIQcW0F1MgxqOG4Pq6WIwRmDFM7O9Wm6WPE4nMfk4/AxTzaTFl8fhkCbN29GXl6evfbUsCsaK6V69uxpzg1DMY6htGDBgtMaWJvvl9MN1E6E3cY4xtN9991nQki+f/ncGFSxy5gTmImIiMinpzBIRETEg7BqJSUlBaNHjz5SwcIP+suWLcOOHTuOW/nB9ZzVavny5UcGV2ZQwMGMhw8fbt/rwuMYOXwuPFZWi5xK1yZO137o0KEjz53PiwEXq3xOB7dLTk4+Mg07AxkeDwMZdvNyutadDj4OH9M5Fh4jx8lhlc7xuvYxKOJMWwxIdu3addpjHzF44phE48aNM+EWj5uPwcdjJQ7DwxOFW7w/xxhat26dGfj6bGHYxqqge++9FxMmTDCBEM8Bu7BxdrHt27ef0ThPIiIi8kkKg0RERDwMP1Dff//9JmDgB2xWV8yfPx///Oc/zQdrdgNjkMLuSezmxEoUVpm8/vrrePHFF021Bz/wc9DlSy65xHTf6SoYfnBw6GeffdYMBM3BlxnIcNwcBgUMSriwioTrGKpwOnkGF8RAh7NpccwcDqJ8OpwQiRUsDFR4jrgPnjN21+LYPzyX7JLXceGYPCfq4sTAjcfEYIjnft68eWaaeT43vkZcx+fE58fXja/Vu+++i6eeeso8v2NnjzsZvic4iDQHqmYgxC5arHJavXq1ecz333/fBELcF4+d55LVTzwWhl4Mgvh++stf/oKXXnrJftSzg0Ebu/U99thjZhwhPjcew9atW00g1JVmgRMREenO/J6w2P8WERERD8BuR6wOYsUKgx8GCfwwzxCBVTVcz1CI06xzkF6GQM8995ypCmF44VS4cIan2267zYwv43Q56wyDCadrGT/MX3PNNeYDPbuqHQ/3wXCBwQOrXIj3ZxchVqscL+Dgfp5//nnzHDi4MI+fVUKs/OGg0E4AxNCI3Yt+97vf4cMPPzTruE92D+PU85y5il3gTgfPAUMgBj4M2JwZuLKzs00wxaqqjRs3mmoZhjlcGLDwuAYPHmyeU2fnkRUwWVlZpvLFGex7y5YtZsYzvm4MQ/g6btiwAbNnz8bLL79sxtFhkHfxxRebc+4MQE2cpp2zqvFxT4SBGJ8LzxVfC+J+tm3bZsIzHhOfIx+b7x2ea75eDOIYsDGY6d+/P26//Xaz7fHwPKxcudIETsQAipVr3H9nGE7xcXmOGUrxPclzwte+X79+Juw83SBPREREPk5hkIiIiIdh5QeDB1aw8MO8MwYNP1AzLGEFCwMUBipc+CGbYQmDB1awMPDg2C2PPPKI6a7DMWZO5HyGQQxIGESwWoUVMwwKWEHDLnAMMBhoffTRRyYIYgjB0Iv7YcjCx2VQ8uUvfxm9e/c+7j5OhGEOq2r4mDxuBjV8bJ47nmceC88FZ8BiyMKF55T75XnsLAwKCwsz54PhDo+XGJxw/J6dO3eaEIbPic+NQRNDGD5/hiIMtvg8GOA4TjUMYujCiiQ+Ds8l3wPspsbH5nPhuWa4xf1z3+y+xsCKz5vHSqzeOdthEM8Rj41jX/H1ZRDFbfn+YjDFijUnXBMREZEzozBIRETEA7FLE8MPfqBmBQzDBnan4odqBhf8MM8P1vzJ39n1hmEMxwfih3vO6nTppZeaQOlkzmcYxPCFARcDK+7P6Q7GLk2samGgwYVBCoMEPl8+h/Hjx+OWW24xz2vUqFHmOM8Uq4vYBY9BCgMXHisXnkMeH/fLY3IWjgnECitWbHUWBjH4YKULj5P/5mvCcIbdwpxuWXxODGi4jvedOHEiHnjgAcyYMcNURTFscZxqGMRj4X3Y9Y0LQy6eL+6Dz4PHwfcMK5t4PnksvI3hFit3OO4QB6Lm+TyR0w2DHDw2HiP3yyo24jFxHd/XPAYRERE5Mz5WY+z0RzsUERGRboEf3Fnh4VR3MKhg+MOwgWEKwweGFE7XsrFjx+K6664zU7HztlPxt7/9zYyZw6oSBjoPPfQQxowZY8KF4+Fx8UP+v/71L1P9Qvzw/5Of/AS9evU6Mvj1sRhOsDqG1SKsomFXIgZBrHzi/vmcGBYwLGIlDhd2c2OlE8c+Yjejs4XnkpUyrMphUMOgggEXz21H7Mr1zW9+04RIrNo6Hm7LiiKGaww/+PgMuxiiMGzic2Kw5zwfvk583d566y0z+LPjwQcfxJQpU0wFzanieWPFEccC4uvB88zgh+8VnlseN/fP/TEIY5jD83nRRReZYOZEZs2ahXfeecc8F2JYeNVVV5nncTIMoRgkvfHGG/Yad/e2qVOn4jOf+Yy9RkRERE6XwiAREREvwMs9wxJWeTBA4cLwgeENq0I4zTgrcthlqbvgc2JowefCMMapyGGIxSCEz4fVOwy5Pk0l0PnGCiNnvBxWBDE04+vCyiFWXLGL2/HCsrOB3d743mB3Qo6HxECG55ShD88lg0K+b041LBQREZGuR2GQiIiIl+AlnxU5XPiBn7+zioZdylj5wYW/dyfO83EWp1njPJ/u+rz4+hz7OnFhAMPX61zjPrlv5zi4b+dccv/d7XyKiIjIxykMEhERERERERHxIsfvuC4iIiIiIiIiIh5HYZCIiIiIiIiIiBdRGCQiIiIiIiIi4kUUBomIiIiIiIiIeBGFQSIiIiIiIiIiXkRhkIiIiIiIiIiIF1EYJCIiIiIiIiLiRRQGiYiIiIiIiIh4EYVBIiIiIiIiIiJeRGGQiIiIiIiIiIgXURgkIiIiIiIiIuJFFAaJiIiIiIiIiHgRhUEiIiIiIiIiIl5EYZCIiIiIiIiIiBdRGCQiIiIiIiIi4kUUBomIiIiIiIiIeBGFQSIiIiIiIiIiXkRhkIiIiIiIiIiIF1EYJCIiIiIiIiLiRRQGiYiIiIiIiIh4EYVBIiIiIiIiIiJeRGGQiIiIiIiIiIgXURgkIiIiIiIiIuJFFAaJiIiIiIiIiHgRhUEiIiIiIiIiIl5EYZCIiIiIiIiIiBdRGCQiIiIiIiIi4kUUBomIiIiIiIiIeBGFQSIiIiIiIiIiXkRhkIiIiIiIiIiIF1EYJCIiIiIiIiLiRRQGiYiIiIiIiIh4EYVBIiIiIiIiIiJeRGGQiIiIiIiIiIgXURgkIiIiIiIiIuJFFAaJiIiIiIiIiHgRhUEiIiIiIiIiIl5EYZCIiIiIiIiIiBdRGCQiIiIiIiIi4kUUBomIiIiIiIiIeBGFQSIiIiIiIiIiXkRhkIiIiIiIiIiIF1EYJCIiIiIiIiLiRRQGiYiIiIiIiIh4EYVBIiIiIiIiIiJeRGGQiIiIiIiIiIgXURgkIiIiIiIiIuJFFAaJiIiIiIiIiHgRhUEiIiIiIiIiIl5EYZCIiIiIiIiIiBdRGCQiIiIiIiIi4kUUBomIiIiIiIiIeBGFQSIiIiIiIiIiXkRhkIiIiIiIiIiIF1EYJCIiIiIiIiLiRRQGiYiIiIiIiIh4EYVBIiIiIiIiIiJeRGGQiIiIiIiIiIgXURgkIiIiIiIiIuJFFAaJiIiIiIiIiHgRhUEiIiIiIiIiIl5EYZCIiIiIiIiIiBdRGCQiIiIiIiIi4kUUBomIiIiIiIiIeBGFQSIiIiIiIiIiXkRhkIiIiIiIiIiIF1EYJCIiIiIiIiLiRRQGiYiIiIiIiIh4EYVBIiIiIiIiIiJeRGGQiIiIiIiIiIgXURgkIiIiIiIiIuJFFAaJiIiIiIiIiHgRhUEiIiIiIiIiIl5EYZCIiIiIiIiIiBdRGCQiIiIiIiIi4kUUBomIiIiIiIiIeBGFQSIiIiIiIiIiXkRhkIiIiIiIiIiIF1EYJCIiIiIiIiLiRRQGiYiIiIiIiIh4EYVBIiIiIiIiIiJeRGGQiIiIiIiIiIgXURgkIiIiIiIiIuJFFAaJiIiIiIiIiHgRhUEiIiIiIiIiIl5EYZCIiIiIiIiIiBdRGCQiIiIiIiIi4kUUBomIiIiIiIiIeBGFQSIiIiIiIiIiXkRhkIiIiIiIiIiIF1EYJCIiIiIiIiLiRXzaLfa/RURERERERKSLaG1tRVFREVwuF6KjoxEXF2ff8nG8X0lJCWpra8394uPj7VtEOqfKIBE5Yw0NDSgvLzcXqJaWFnvt+ceLY1lZmVl4IRQRERE5H+rq6lBaWmraQxfqO3bul8fBIKC6uhptbW32LXIhNTU1oaKiwrw/2GY+k/cHt2E7d9GiRZg3bx4OHDhg3/JJzc3NSE9Px6xZs7B582azf5ETURgkImdsz549eOGFF/DrX//aXOguVBCzfft2PPfcc+ZY1AgSERGR82XNmjX4+9//jv/85z9obGy8IIEQ97ty5Ur86U9/wty5c00wJBdeVlYWXn/9dfzjH/8wbWaGNaeLbdri4mL89a9/xc6dO0/4GL6+vggNDTXvgdmzZyM7O9u+RaRzCoNEujiGG+vXrzcXgQ0bNqCmpsa+5cJjRdDGjRuxdOlS0/C4UN+IFRQUmHPDYznTb15ERESkayosLMTChQtN6HLw4EFzre8qMjMzsXr1amzatOmCfSnG6mweBwMhhg7eVBHCIGzHjh34y1/+giVLlpgKra6CVUFbt241gSGrts7ky0q2cefPn28CoVGjRmHQoEH2LZ/k7++P4cOHo1+/fjh06BAWL15s3yLSOYVBIl0cQ5bdu3dj5syZ5md9fb19y4XHC3BVVdUF757FRmFlZaU5FlUFiYiIeBZ+wOeXPm+99Rby8vK6VNjBLjz80M82yIX6Mor7ZfuQ7TGOF+NNbSFWymRkZOB///uf6RrFL1G7Ch4bj4fvD75nT/f9wdeR1T2s9GHAM3To0OOOF0SsDIqMjMTEiRPN7wwpGaRqCAU5HoVBIhcA/7if6h9mXkjYBWvv3r3m5+mUmPKiw/2caeOE2/FYz3T7U3W6++B9z/UxiYiIyLnD9smphhYMXPihlm0hVkifzodbpy1zJpz2xpluf6rOZB/OsXV1Z/LceH8up/L8+F7gF4J8b/A9wi8qT5VzbKd7fA5ufzrvxdPFcG/Xrl2me9jUqVPRq1cvU/1zMpMmTUJKSoo5J+xdoLGD5Hj8nrDY/xaRc4QXC5bw8o86yzx5seJPfovERg0vQn5+fmZx7s/bGf7k5uaa8ld+IzZy5EgkJycfufBx28DAQAQEBBzZjn/wncHq2I2L+3Luy2PgPk50IeE3S/wGjvvn9s5ghHxcHx8fsz/Hvn37TNcs3vfhhx9GTEyM+VaCz4fVOtye+3W240+HU83D+3DhPvltFo+R9+XjdNTxHPL+zvljOMbj2LZtm9nm1ltvRXh4+Ce2FxERkQvHaRuwfcJreH5+vvk3r+WsgmYbgW0U5/rNaz6rgNimYeUHu9vwen/ppZciLCzMPBa3ZbuF46Q423E/zsQSbMOwHcSfvC/bGWxPdGxzHYvb837OcXLhv50Qivvp2I7ih222Qdj2uPPOO4+0d3hfPg7bLHx+3IZLx7YQ13dsc/G5Ot3u2bY7ti3DY2PYwfvyeTmVQHy+HDh4y5YtGDhwIC677DJzjs4U98Pj4sJjCQ4Otm9x4z6dfXc8907bj+u5HX/yOJ22KF9T5zwcy2m/Os+N54S/O+1Xng/nNePx8TV12tVsJy9btsx0oerdu7c5x9wf269BQUHm+LjOaUvyeXX2+vIYeF+nXX0sbs/7OO8tbstj5bZ87s62zmuck5Nj3h98HldccYWp7uHtfBzen9vzOLkdz4lzHh0Mgj744APz2n73u981z4/P52RYPcTugtw328ncd0hIiH2ryFGaWl7kPOCFgw2aZ555xswGwAHluI4X1759++Kee+7BDTfccKQfMBsQ3/ve97Bq1SpzP1602GeYKX9sbOyRsIT//vnPf44JEyaY7fgHn98CsIyaF0X2q+eFmPtJS0vDddddh9tvvx2jR4829+8Mx//hLATcnsfMx0xNTcW0adPwmc98xvx0vP/++/jXv/5lLla8Py9yvJixIcML169+9Suz77vuugu33HLLxy6ubDhx+zlz5pjzwefTp08fc4xf/OIXkZiY+LGGGs8Jj+ef//wnPvzwQ9NY4MVuxowZiIiIMP3kue+XXnrJBGbHa+SJiIjI+cfQhoEOJ3tYsWKFadvwQ31UVJTp/sIvldjGSEpKMh+WeZ3/3Oc+Zz6oc1v+5DZsKzB44TWfH4zZjnryySdNm4gY+nBiCQ7cyy/S+KUa21Lchtved999pu3Qv39/c/9jMVjhB/B3333XhCv80M/jYcjAL5y4XHzxxfa9YcYxctoeM2fONCEMwwAGBhzD5umnnzbtqG984xsYM2bMx4IQjuny3nvvmTYUwzE+n2HDhplj5H6O7RLE88BA7Pe//70Zo4i/s+11+eWXmzYWu0pdf/31+PGPf4yEhAR7q9PHcIPHzfN300034aGHHrJvcWPbjeeH7dHf/e535stAYjetP/zhDyZ4YLuW7dB33nkHhw8fNuf/jjvuMG3e8ePHm/t3xMDvtddeM21QhigMvdiGZDXMtddea94fDLqIrzH3y3PA88ywhdtwKnU+bye84nH99re/Ne8vhlZs07I9zfcg243cJx+L565nz5648sorTVt38uTJRwKdjpx2Nl9vvoe5T75f+N5jAPfZz37WvIed9i67afG9yfF7WH9x1VVXmXPDx+G5+tvf/mbe11/96ldNYOOcRwfPM9vZDLuWL19u3usd3z8nws8cfA35mHxfsl0tcixVBomcB7xwcGA79vnlRY1/8FnuyUHeeLHhxbRHjx4msHGw8REdHX2kUcQghCHOuHHjTEOBjRiGR2PHjj3SAOKFkxcnXuD4mPz2jBcnNhTYYGDjiI0INlj4uB0vKAyNOBMGZ+XitJVsMF199dUmaOKFhA0wfpvCBoejs8ogXlTZ+OFFmtvcfffd5vnyuTgXVp6H559/3gwGyYYP98OLML8dYUORFz02FJwKH+fbwR/+8IfmubFRxW2GDBliSme58ELLC50qg0RERLoeBh/PPvus+YDMtgs/NLOdwvYGQyG2Sdiucdo0/BKIH5TZbmIbgh+6+aGf7RAOpDt48GAMGDDAtAUYsrDdQ2yT8IstDtrLAIcf7NmWYduBj+dUarDNwPZQR2xL8BjZRmG7aMSIEaYNw/YXAwYGS2w/cb2js8ogBlkMZl555RXz5dRXvvIVsw0DCbaF+KXZq6++avbDthmPg0EBwwx+Qca2EEMOHjeDBW7DNt66devwk5/8xHzhxnPINh7PF0MRfjHHcILH+mkrg3iuORsVH5cBDF+njvic+XoyNLrtttuO7IvhCkM4nie2Efkacnu2cbmO1SoMQ/g6c2wbhzM2Js8XwxweP4OZiy66yJxXBmVsF/I1JL5f2N5kkMgvStnmY+DE0OeSSy4x59ppJ3M73o/vL1bj8DVmW5fr2Kbmc2N7nMfK884Ai4/HtnZHTrjHL2F5rp3wiO8vHtf+/fvNa8H3pvNe7KwyiMfOAaH5PuM5YtA2ZcoU87yPbbtyW4ZAPPZHH33UnLPOQqrOsC3P9yUrl+6///7T2la8h8IgkXOMf/R5oee0kmwE8FuDG2+80TRceLFiY4YXK6b9vDA5+EebjRxe5NggYUDCb3u4sHHAixQverzAOiWjDI347RcbThw8jhcoNhacmQV4UeKFjg0L3u58c+J808TAioEML8L85obb89svNrQYVLFR5XwrQ8eGQbyQMuBhZRLX8blec8015oLJxhBvZwOJ38jwOPj8eHFjg5D74T7YQGKgxefF7Vj1w2CMFVUMq9gw4Lc2/FaPz4sXT17s2AhwvrVTGCQiItJ18PrPahtWOvCD85e//GXzpRiv/WzPsC3E9gWv4wwL+KGV13GGI2yDsE3EtgBnzOKHZ36wZjuK7QC2oTp+kOa+uD3bGGzPsL3DD+jcD9taTrUQq246Vqiw/cOKbH5IZ5uFldSsimG4wLYHj5HHzp9sozg6hkHchqEBg6CPPvrIPJcHHnjAPFcGWjxGBhIMTdjmYluJbS1WAvE+znAADIQYSnA/PCdst3EbfpnGc8gqalbZ8PnxvLF9yeoihg5sI56NMGjBggWmncfXiI/XEUMiBlNsd/JLP2dfbIux0onVN3xt+MUd23hs7/I+DLG4DdukXBx8LKci6Jvf/KZp4/G1cdrJDHb4+rFNSHx9+Z7gYzBMZFC2du1ac5w333zzkYDHaSezvcttuG+2y7kt78sQhu1knne+zxgUMbAiHjdDGG7H9xSPnZU2fK1Z9cS2KB+D4ZuzHx4j27JOZVDHMIivL98/rG5/++23zWvPY+V7jO1dJ0DqiK8p35O8nVX2p/Oact8MrfheYtuYQVXHL4FFSJ+WRM4xJ6BhI4NhDy84vLDywsGfDEvYqGGA4+CFhxc4Nl54MePFgw0T/uTvXO/c5lwYiRcfPj6/pWFoxMfn4/IiygsWb2NpKhtCPCYHL1K8WDG0YoOHDQxeiHl/7sO5uPJnZ3iRZBUQgyB2/eK3ELxI3nvvveYi7Vx8uG9eRFka61QEsfSXDRnui79zH7wfGyF8HHK+5WPjZPr06eYizIsvG4JshPDi+2kaPSIiInLusC3EL54YhLCyhhUZ/KDP6zc/9LMtwOu/UxVE/HDstHmcwIftCbaP2GbgerZZeFvHD7lsazHAYcDCahvug4EKQwW2M9gmYrDEapSOGBCxfcRAg8fDdgzbZ9wX98PHYtjD4+4M21WsYma3KIY2PH62p7iNEwQR24P8Io1d0BgcsB3IoIDPi+02tnG4T7Z9GBzwnBHDIYYwDJjYvmJVCs8Bgw9WJDEwcL4cvJCc15ohHNtsDKcYuvBLRh4jvxTkOe6I9+f4Pgxt+H7g8+LrxvPO14CvBdvADr7ebF/yteC54nlkO5nvEYY63J4Lb+/4BSHbyTwGBor8YpZtSSdQ4vHyd7bBGbzxdWJwRDw2hkSsTmf7ncfDdjb3wd+5Ld9v/NlZqMPH4WOwmuqNN94w54BhE4+DAWVnrxur4rkN2778b8Z5DqeKnw/43xMfh5VVfByRYykMEjnHeHFiw4QNEf4xZkrPUlI2GPjtkRPK8OLzafExeBFi6SwvtKwm4rct/GaBZdkMfdiIcPrpO/g778cQho0xNr6Oxe06Bk8d8Tnw8Z966ilT8cNG2Ne//nXzjR6fv8MpcWaZNsMbHgPLX7nwGBkU8Ri5H34Dw+dB/MnfuQ2DI14Uic+X63jh79hIEBERka6DH975QZ3dyVl9wfYJww1WkPBDNz+wno12EPFDM/fHwMfpKsM2CtsZrB5hWMF98YN2R6ygYFuDVTb8Aqxj9Y+D7RO2hzrDtg2/yOKYOWxXMSzgF1ZOVYqDbT8eB0MehkT83WkLcWFIxfYSj5Pd4Nk2I54rVnuwbcV2GqtbiM+Vj8NgomOF+YXC58pzxJDFGaeGx8gQjsfH533suedzYjuO3c54bhi8MJzjuXHCsLOB7w22S1lxzynb2SZ3umLxS0eGUmxH8/yzPeq0lRnM8b3E9Qy4GD7xOXXE58ylY7vXwap3vpYcv4j7YzUSK+r5Huvs/sTXnc+d74MzqXjn8+DxcHueV/43JnIshUEi5wG/hWC1Di8+P/rRj8w3ON/61rdMX3GGNmfrQseLFv/gv/zyy3jwwQfNt1gsDWWJMn9nH2nujxeljmEQL34Mp3gBZ2PtdBsTvKj/8pe/NN9ycf/89qGzixYriHhx5+288H7/+983Xcm4sD8zFw46zQYZL9LOtxg8P2xk8RsOp2tbR2xc8kIpIiIiXROrXljFwg/6rGzhtZ8DHTtdZthGOBuccQb/+Mc/mrYXP7yzQoftIC6sYObtx7a9GEoxfGA7g8FEZ+2NE2GIw/FkWNXMdhG/KOss4GLbhvvn82WVCAeWPrYtxG7xbAvxS0TnvLANyfYa22nHBgj8ncHL6R7zucCQhF+Asm3mdJdyAiIGbdSxOp1YXcOxoBhccNYsVhFxUGV22WNA5wRiZwPP4ZtvvmnCGFZlsZsWzznfGxzsmQER30O8H4+H+N5guMjzzCqi061GZwDKL0wZgjpfBDuPfTw8Xwwf2Z7mvk/3vw+29Xnc3J5fonaF94Z0PQqDRM4DjvvDQIazD/Dixm9L+A0DL3Kf+9znTCjE3z8tBjF//etfzQB8/OP/yCOP4E9/+pNpbLCxxQYHy1GPvQDxd15oeQHnha6zxsuJ8GLPLltf+tKXTLkuv9X573//ay5Ex3IugAzEZs6c+YmF5dVsqHGWCpaRE+/Pi+Dxjs05bhEREema2O2HVcNsC7FLDb94YrcshjYcP5DXf4ZCnxarrzmJBds9bG9xn5zxi+MZch9sf/DD8bFtIbYzGAKcaVuI4Qe7e/3gBz8wH+JZJcSBgo/F/bDChDgxBoOJY9tCbAOxLcT2odN1jl/icTm2IsXB9ad7zJ/GseevI1alHPulYMdjO3ZbVgbxy0vOJsYwiN27GIb9+9//Nq8fv3A8G+1kVlfx/HKmLbZ72YWP7xUOes33y+OPP24qrKjjl6bOe4PPgW3ezr7wPBF2A+N7kfvi47O7GZ/ryUIhvqdYAdYxFDxVrKpn8MTXgl9KM1wSOZbCIJHzgGk8S0rZ75nf/HBWCQYnLCFmv+R58+aZbz6Ox7mA8oJxvIsGLxL8w8/+5fw2g/2z2ReZF1d+K8Z9c1DCzgIaXth4weFjcFunkXKq+A2JU33EPtC8SDKAYpcxBlQOrmejhvtjaSy/IWT//c4WPg4bB8T7s2HFY+uszPVMjllERETOH17HOW4Px+PhF2Ff+9rXTAjEiiGOhcMAhB96O3OiIKEjthFYWczBm1mFwnFh2O5ity9WS7P6hG0yp/tNR7w/q4zZnmAVTmftjRNhNcwXvvAFs79JkyaZ4IGBDmeU7VjZwg/nbAuxTcSu7+ye31k7iMfLthzvTzxuLjy2Y4+dv5/smNl1jVXZHM+IM4WxmpuVI8fDcImBCB+zYxDBdax84uMdD59bZ8EUj7Oz14/PkdVYDNMYFLKNzC9P2X5lVQxDPIZ8nbX1TvW9QRyrh+8NVqk7Y/YwEOJ+eL45qHhnj8H3Bt+/fO7sPnZsZdPJMHzke/CWW24xYSTbzTwOhoUn6h3AtjkXngPer2NAdTJ8jfi5gG1pHru+NJXOKAwSOU94seLFhP28OQsEL0CPPfaYaTzwAsdvQDrDCyq/UeD2vNAfbwA4XqgZvLA/OS9m/OaBDSxWJfHbAN7GRha7Wx2LFwnOusELIL95cQZu7uh4F3Di8Tkzj/FiykYQGz/89oVhl9MIYsOCDR/uj99W8KLMbTtbOn6rxPPGbzV4UWPjo+M54IXRGX9JREREui5+IGVFECt/+WXV5z//edOFi9UPrBI63rWc7Qe2C072YZzreTvbMayE5tgsrEhi1yp+scQ2BNsMx45ZQ7wP2xpsY3B8F7Y5jnWithA/dDPM4P74oZ/tO4ZcDDK4XydQYRvIGfSagRGPpbN2EBcesxN2cFwgJxjgc3TaVjwePm92RersCz8H98VjYbURK9M5S+vxKrG4TwYW/Mnj6xga8Xdud6Ig6UxwX3zOHAeS4QzbyfyikRXnbCOzfdvxC0ZHx/cGj6lj8HYsbs92Ls8rx7fk4Nb8cpLtTL432WbleToW29V8b3AfzviWx3LeG529P/i6cWBs7osBJdvJfK+zkp/Hc7y2PffLL3LZ/mf7/VS/+HT+O+GXpezW1vF9JNKRwiCRc6xjSOP8YXbSfV5o2fjgv/kHvrMLCC+MbGA4Fyle7Hmx4wWfj+U0Lrgt/82LIv/g88LCCzYfl/vnDF7clvs6lnORYgONgyxykGcndOGx8nHYsDqV8m2GUPyWheWwLH3mNPEMfYgXazYAGVDxuXAwR14Mncoe/nQaatyXc9FjA4hBE29nA43jHvHfPAf8dodVVZ0FWCIiInLhsbqE13d+KcWQxWlfsL3CcISVMlzHD/KdtYXYXmJbgI/DMV3YTuDjsB3A7Zxt+JMLP/wSb+fCfbG9wTYJ2xedtYX4Yd+ZQIMVPRwDiPvgttwH/839nkoIwi/GWAHFNhnH/2EbjG0pYpuLbSE+HwZgvI3tQ+6H7R7ng7/zBZ5zrAwS+MGeYRBnI2No4RwXp9zneDT89/FwH5ymnNUorEhnqHG858I2J0MIttucgZZ5XDyX/Df3d7qVUyfCc8Pny/eI0ybk47MSiq8LX0/ndTwW28l8D/FcM1hhu5DP1Tleto2d9wffb1z4ZSNvZ/uYj8mffE78crazL03ZDueXpnztlixZYtqdvB/Pv/OaOV9MOu3yYzlhDINAjlXEcZKcSi1u29l7ku1l58tajrXF4zwVfB+w7c3H5AxpfB1FOuP3hMX+t4icA/zDzdCD/Z2dixsvGrzgzJkzx3xL40wtyik0j8ULFv+Ys3yaF2T+geeF0gloGODwGw1eBIndxPjY/JaIjSduz+5a/CaIJcH8nZVCn/vc58zFk7g9QylOLc9ZDvgNDI+TF1heUJ3ybV6IOk4vv2/fPtMgYcOKA/HxIskLNr/h45T2bHAw9OGghnxuPEZe2BhK8THZEOF+uA3PCddz2k2ON8RZRnhe+K0IGwNsKLJxxmPgNjx2Nhw4DsCaNWtMg4aNJH7TeCazLoiIiMi5wQ/JHJeFlRBs03DhdZtBCK/tnMmJVTysmuCH/2Ox/cA2Dz84OxNRsN3Ax2CAwG44DDDYnmBYwrYE20JsP7Atw7YY2wp/+9vfjnyxxS+t7rrrLvNvYjjjtJnYbmN7ywmXuA2DFD4HftjvOL08201sz7DtwS5A/ODN42W7igEAgxe2b/ilFp8b22Bs2zBs4pdvbHPxfPDYuU+u5znhwufMffE5sG3F5822I+/D3/n4PF4OTsyAgsEGK17YVmMbsCO2Idkuc8IwVtxwKnSGTJ1hW4vPmZXePM9sKzKAevXVV02Ixcdg24wzpjn7YqDC58tzMGPGDNOO64jj8vC9wNCtY3vyvffeM5OcOAEGnweDHR7vzJkzzWvAoQh4Dp32roOvGZ8TzyVfc7aRnfcG17NtyuPh/Xh++VrwnHEffM8QnyPH2OT2PMd8P/H4GYjxPtwnF4aVfK/y2Bg08f3Fnwzi/vWvf5k2M0Mevl7EL4L5/uB6DtfA9xxfZ7aFeT75PuP7kq8x27DOdg628fnZgVVcbNezLc1jOhl+scvXgcf8ve9978jzEDmWwiCRc4wXU1aysAHDi+rChQvNv3mBYzjDP/4sk2bfZf7RPxb/eDszCvDCxgsQL3hs6PBizEocBi/OfRm8MCRho4DfgHE//OaBZbcsWebFhBfAjmEQGxO8APECxgsHL5S8QHHwQzY6+C0IL0a8CDuDOlNnYRAvtrzQ8blwP843a2ww8CLI29k44H3ZyOEFjgv7r3/wwQcmJOLFluMJOVOn8pjYyOJz47HxeTvb8b781oTPgY0RhUEiIiJdC9sebPNwnBS2KfjFFa/7zvgtbMtwllUGFJ0NdMt2AD94s03AKgp+aHemi+e/2a2IH66d9gwrOdhGYVuIH97ZnuEHdn4g52MwLGCbomMYxG15G9tCbLuxAoaPz2Nlu41tKrZtWEnNLu+OzsIgPhafhxMWsN3CthH3ySCA9+F+uI5fmrFNx/0wAGK7jV988fHYBZ/jLPF+XNhuY5DEEI3tJT4v/uRzZqDA0IHd1D5tGMQ2FNttvC8DHj4/tj3ZjuVzZxuOARv3ezbCIIYxHFTZadux7ck2IavBuS+OL8XXjsfEc3ssHgcDD1brMFzjsfJxnGncuR2Pia8Jzz/vw33y+fA9yNeWYSCraJwAsGMYxH3y/cWuh3wPsC3KyVK4Ld/HfO34JS0nU+HC14qOFwbx/czH43Pj82YIxvcsq4Y6Pj++Dmznsv3PY2Qb3On2dSLOl6q8P6v1eX46O28iPtab/ZO1mCJy1vCPOC8G/GPP8IN/0Nko4oWAFycGGWxYcOA8rusMGyVOdyh+K8NvPXgh50WNZcgMeYjr+A0ZL4JsSPCCywsJv+FgQ4uPz0YUG0EdL94O7ofhDffDCyUvXvwGjBfI/v37m28knBJqYgOGDQRefNmg4gXSCWH4vPk4rDbiBY+NDgZSxOPk47OhxXCLx8mwiRdqnhN+c8bgic+L2xKPgxdLXnzZwGMjhA0lnj9eQHkMfH68ePN56aInIiLSNfAaz2s+AyFey/nBmW0OtmPYRmHgwYoWhh3Hq2BgqMJAgwEB2yf8wonXeoYjnELeaS9wX9wH21380M42D0MZhh5sb3FbfmnGtg0rkTrixyK2sdh2YVjANpPTNYftEwYtTvvEwSoTtnfY9uDjsS3itEHY5uNtbCsxSGBbyPkCj+0attV4O0MUHpdT1c2qIgYHvD+P22kfsmqF7UE+N54LtrX4/HlfBgtsl7G9xrFwjg3V+FwYjLHNxX2zTcbg4kSVJjxuvmb8UpPHxiCFAQNfOz4ej4tTszvnnu1d7oPrOX7SsUETAx4+T4YePEYHgwueR+c88Hky8OBzY/jB9waPk69jZ3ge+LwYkvG153uF63hcN9xwg3mPsY3J9iffDwwS2d5l25GvFW9nyMXzzvcG31s8fv7e8f3I5833FM+L007mfRki8j3Bc8P3iLMNH4vnj1+KcpwghmPOa8n3Kdv0DJQY1jC0Yhv72PYr98HqIc6qxjGU7r333iPt6WPx+PgafPvb3zbnj1/8crIakeNRGCRynvA/NV7ceEHgBYB/pNkQ4YXqbAcX3BcbL7zg8bF5MXMuPqfCOVZegHhh4XGycXI6j3EquB82SHgB58WUF0NeUJ1GRWe4DRuRPD42dNhwVBWQiIhI18drPsMWhiRsX/B6z+v+scHF2cAP/s6HdbYvGCycTnuL27MtxYVtD27PMOJstzn42DxGHivbh2zXcOExHw+3YduJx8hzyC/HzhUeG9uTPDZWNrEteLbbrcTnwgCH54HvEYY3fG/wXJyL/TntZOKXiqf7vJw2PX+ynczjPNvtZOJ5YYUWp71nIMbwjRVjneFrxEqkF154wQSJ7FrHoEvkeBQGiYiIiIiIiHRBTjdL9jBgBVPHKv2OOt6PlfMdx7YS6YzCIBEREREREZEuilV1/NjOyrQTVaed6v1ESGGQiIiIiIiIiIgXUVwoIiIiIiIiIuJFFAaJiIiIiIiIiHgRhUEiIiIiIiIiIl5EYZCIiIiIiIiIiBdRGCQiIiIiIiIi4kUUBomIiIiIiIiIeBGFQSIiIiIiIiIiXkRhkIiIiIiIiIiIF1EYJCIiIiIiIiLiRRQGiYiIiIiIiIh4EYVBIiIiIiIiIiJeRGGQiIiIiIiIiIgXURgkIiIiIiIiIuJFFAaJiIiIiIiIiHgRhUEiIiIiIiIiIl5EYZCIiIiIiIiIiBdRGCQiIiIiIiIi4kUUBomIiIiIiIiIeBGFQSIiIiIiIiIiXkRhkIiIiIiIiIiIF1EYJCIiIiIiIiLiRRQGiYiIiIiIiIh4EYVBIiIiIiIiIiJeRGGQiIiIiIiIiIgX8Wm32P8WEXErKkZ7WTkQFgafHqmAv599g3RL9fVozy8CXC749O4FREbYN4iIiIiIiDdSZZCIfEL7rj1of3cO2levA5oa7bXSXbWXlqF90VK0v/Uu2vML7LUiIiIiIuKtFAaJyCe05+SifeMWtO87ADS32Gul26qpRfvOdLSv2wRUVNorRURERETEWykMEhERERERERHxIgqDRERERERERES8iAaQFpFPaHvpNbS/+qY9gHSKBpDu5trrXUBBIeBqgO+v/x98Jk2wbxEREREREW+kMEhEPsGEQf993f5NPInvb36mMEhERERExMspDBKRTzBh0OtvAbEx8Bk2GAgIsG+RbqmyCu37DwLVNfD91U8VBomIiIiIeDmFQSLyCSYMem8uMGok/L7zNSAq0r5FuqP29D1oe+oF4EAGfH/+Y4VBIiIiIiJeTgNIi4iIiIiIiIh4EYVBIiIiIiIiIiJeRGGQiHyCz6AB8Jl+JXzGjAICA+210m3FRMPn0kvgc+3VQGKCvVJERERERLyVxgwSkU8qK0d7ZRUQEgKfpATAT1PLd2uuBrSXlgINjfBJTQbCwuwbRERERETEGykMEhERERERERHxIuomJiIiIiIiIiLiRRQGiYiIiIiIiIh4EYVBIiIiIiIiIiJe5LyNGVRUXIx6V739m4iIiJwNoSGhSEpMtH8TERERETm58xYGrVi9ChnFGWjwddlrpLsLaA9AWGsEfIN9rHeSvVK6vfbGdgT6ByE4KMheI56gzfpTX1dbi+CQEAT4+9trpbtraGxEfGwcLp88xV4jIiIiInJy5zUM+rB+NnZGbbLXSHfXw9UHV1Rdi9BR/vANVBrkKVy7WzA4aSiGDxlqrxFP4GpowKKlizF29BikJqfYa6W7S9+7B5WVlQqDREREROS0nNcwaF79LOyI3mivke6up6sPplXeiLAxfvBRGOQxXOmtGJI0FCOHDbfXiCdwuVxYsGQRxo8Zix4pqfZa6e527k5HRUWFwiDp8krKSrF9xw77NxHpynzba5BQ+wz8rJ8i0j0kDH4ECUMesX87NQqD5IwpDPJMCoM8k8Igz6QwSLqLvIJ8rN2wHkMHDUZAQIC9VjxBfmEh6uvrMaBfP3uNdHdtjcWo2Xg7YmKLERxmr5Rur6hmFFzNcegTu9heI56irACIG/IEeo77mb3m1CgMkjOmMMgzKQzyTAqDPJPCIOkuGAZt3LIZM6ZdjZCQEHuteAL9HfI8TfX5SH9nPHr0y0dknL1Sur09xXeg0tUPk3r/wV4jnuLwLiCiz+mHQZpaXkRERERERETEiygMEhERERERERHxIgqDRERERERERES8iMIgEREREREREREvojDoONpb292LPbx2exsX63frJ87LkNsiIiIiIiIiImefwqAOWhvb0FjahNrD9ag+UIvarHo0Vzej1dWK+lwXag7WoS7HWlfTYm9xbjB0amuxluY2syh8ko7qa1wozilG7oE8FGQWorG+0b5FRERERERE5OQUBnVQk1GHjJdzsP4r27Huse3Y9av9KF1XYa2vR/rvDmD9F7dj58/3oWRtub3FudHqakNjWRNcBQ1oKG404ZCIY+eaXXj2xy/gp3c9gT9/+a/I2HXYvkVERERERETk5BQG2Ri4VKVXo3h5KZorW9DW2Gaqc0wQ085KHev3JnfFzrkOZyp2VOHgC1nY9pO92P2HjHNeiSTdS3NjM2qr6lBVVo3qihq0NOv9ISIiIiIiIqdOYZCtoaQJddkuNBQ3wTfABynTE5B2Wwqih0UgMC4QSVdav9+RYtaH9w61tzo3mqtbUJ/jQvX+WtQcqkN7iyqD5Kh2hpOtDCtb0Wr9PDKwlYiIiIiIiMgp8PowiINEsztW5c5q1Oc0mN99/H0R0T8M4dYSGBMA/1A/hPcNRdSwCPMzICrAvW1LO2oP1aFqd40ZZ4hdu5qqms14Q1V7a834Q+Z+be1oqmg260rXV6BkTTnKt1SabmnchlVI5n7Wvjk2EbuGsauYWWfvg8fYUt9q1nmDuuo6ZO/LwfaVO7Fp0WZsX7UTh3YeQkleKRrqGux7HcVwhNsc2nkYO6z7bl22DbvW7kbW3mxrfb25/VhcV15UgQPbM8w2W5Zuxc416Wa/NZW19r2OYgjT1NBkHjN93W5sWrwFGxduws7Vu3Bo12HUVdWZ+3RUnFtibjucnmmOvdZ63NyDedi9YY85vpz9OWZda8snX9tGa19F2UXYs3Evti7fbn7yMXgMIiIiIiIiImfK7wmL/e9zKisnGwea96IoON9e0zUwiClaUY7SteWo2V9numT5+MAEQC31LQiICICPvw/KN1Wg+oB1e20LgmIDEZIchNb6VuTMKkTpxkpTWcQBqBuKGlG0pBQ1B2rhH+5v3S8YzRXNKN9ShYJFJShaXGoCoZp9taYKqaXO2l+AD/zD/E0XNN6H963LcaG1zg4I2ttNKBQQ6Y/AaHcQ1RVEtkSjb8MgBKb4wsfPOmlnAYMzV60L+7ccwNr567HivVXY8NEmHNyegaLsYtRUMKRpR0R0OPwD/K3XygctTS2oKKnAgS0Hsfy9lVg3fwO2rdiBjB0ZKM0vhX+gP0LDQxAYHAhfX19ujpaWFhTnlGDHyp1YPWctNizchK1Lt1n7OYiK4krzuBExEQgIsl5/699tbW2or643QdAKax/rP9yAddayddl2E1Lx2IJDgxAaEWr24+PrPh889o3Wcnh3pnleVeXVJqhaN2+DCZTKiyvQ0txqji8oJAi+fr4mUGJXMIZSmxdvwcrZa7DJOr6sPdmmS1iJ9ZzyMvJRaW0bGhmKiddOQFJaktnf2dBS0o748AQkJSTaa8QT8D2fcfgQeqSkIjIiwl4r3V1xSQkaGhrQOy3NXiPSNdXU1iC/oAAD+vZDQEDXacvIp6e/Q56ntbkGJXueR2RMDYLObYcIOY9K64ahoSUGvaJX22vEU1QWA0HRVyAy9Qp7zanx+jCI1TaZb+ShfHMVGpxKntZ202WsqbwZYb1C4Bfih+x3ClC6pty9rncoIgeFo6XW+nD1UjYqtlSZiiBXXgNy3ytExfYq61F8zH0CI/1NwLP/qUxU7qoxVT+sGHLlNaIqvQbFq8vRUtOKkJQg+If6I+M/2ajcWYPmymb3sbS0mwGsGRiFpYUgtEeIWd8VnIswqKmh2VTo/O/Pb2HdvPUoyilGVUkVSnKLkbHzMLYt325CksReCUjoEQ8/fz9TfbPy/dX49xP/xb7N+1GcXYTSgjIUHi4yIdLOVbsQlxKHeOv+waHBJthhRdAbf3oT8/+7wN6mGGVF5SjKKsa+LftxKD3ThEi9h6QhIDAArhoXtq3cgRd++h/r+LYh72C+CY04bg9DpYydh8x2/lYDt9egnggKDjTPZ+Hri7Fm7locTs9CWUE5lsxcZqqQcvbnouBwodn32g/WIyo+Eok9ExEWFWaqhHj7G3/4Hxa/udSEQHw+3Gf6+j3Wzzy46lymQkphkJwqhUGeSR/CpLtQGOS59HfI8ygM8kwKgzzXmYZBXt9NzC/YDz1uSELq9YmmaxixKijtzhT0uacHooZbH5rarf9ra0d7q/unM0YL/387h2yx1tVluVCxoxrNdS0IjA90hzvhfqjLdSF3VqGpKIroF4o+n+2Jkf83CP0fSTNBk6+vj+lmxmohhk49b01G0hVxCE0NNvvgY/R7qBdSr01CaM+uEwSdKw11Lix45SNT+RKfGoer7roC3/nnN/C5Jx7GsEuGWRekIBRmFmL5uyvR6Gq0PuC2mm5a/J3hSGRsBKbcMgU3f/5GTLxuAoLDglFZVoUFry7EjpU73PuobzAhDYMYdtGKTYrB1Nsvw3UPzUCf4b1NNRD3sfTNZSjNKzOVRwx6Vr63ynTbam1uRa/BvTDNOrbrH56BfiP7ws/Pz3Th2rxki6nmcfC9we5o3A9DrIReCbj63mm47LYpSOmXbIKf5qZmUyWUvT/HbMPnMf/lBTiUfth6jk2ISYzG5Bsn4aq7r0RK32Q0WM+7qpSBo4iIiIiIiMjp8/owiINFx4yMRPSISAQluKs5fAN9ETc2GnHjo4+EMifT2tBqxhLqc3cPDPpCH/S6JcVU8jRXN6M+z2WPReSDoLhAEzAlXx2PXrenoOctyYibEIPgxCBrvz6IGxONyCHhZqwi+LjDqsQpseYYA2Pdx+epWLHDoCb/UIEJRNhlipUyvYf1xiUzxuOa+6/GjAemY+L1l6BH/1R3VVBOsRmTh+ERK3kmXT8R0+6ciqvuuRJXfOZyjLr8YtM1jN27Du/OQllhOSpLq7B5yVYT3sQkx2LsVWNw3cPXYvp91uPfPx3DJw4zIRKPpSS3xLp/pRmLiGP2MNjpPTQN0++dZsIjbnPLF28ygRC7rWWmZyJ9bbo5/mPHD2I3smutx2cYdMPnrrWObyoi4yLM8bG6qKqk0owHVJhdhN3r96CqtNpUP42/ZhxufPR6zHjwGtz82I0YMnaQO5QUEREREREROQNeHwZxbBeOw8PFL8g+HdYPhjZB8YGmWudUMLRhZREDntTrEk2QFJwUBN8AXxMScdyZxrJmVO6oRsnqclTvrTVjAPF+KVfFI+biKHMs3G+gdX8GUsTuVxx3iOHQkePzYD6+voiMjTTBTm1lHQ7tysT6+e7xdViRNXj0QEy+aRImzBiPwKBAEwY5gyr7Wuc4LDIM9bUuVBRXoKG+0fzO88pwpiS3FPkZ+SgvLDcVPqwsSkpLxMhLR2Do+CEYcFE/0+WK1UjT75mGy26dgvDoMNSU15iAhl3LeFyDxw7G6CtGWT8Hob+1zfirx5rtw6PCUG3dl92/KksqTXDkCAwKQGJaEsZOG23tp7+5/8hLhyM2KRa+1mvM8YQ4YDQDqMLMIlRY27NiKLlvsgm0GFANHjMQk66/BEMnDEFETLj9yCIiIiIiIiKnx+vDoLMlIMIfoT2DTSWRM36Or7+vCYRix0aZMKepvAmFS0vN+EF7/pKB3DmFZmwiBj9daWDoC4UVMmGRobhoyggT0jCs2bUmHa//8U088/jzmP3cXOzbesBUxcQkxZjzy+5XDFKoqbEZm5duxfvW/d7400zMfXEe9mxyV/Owiqi+pg5FucWoKKo4EtRExUWa7miO2ORYEwI9/P8exH3fvxuDxgwyj8vBo8nfepzeg3uZ43T4BfghzVrHwaNZDdTY0GiCI1Y6OQJDgpBg7ccZkJpYSRQeFW797mvdt90s3FdlcSXa7eOLSYhGUu+j4wGFhIcgPiXOhEgiIiIiInL6WluBolJgz8GjS0m59XnCPWyrdAP8qFVcBhzM+vjr2HHZdwg4lA3kFQJ11kfGDh/PxKIw6Czh2D6dBTocF6jf/b0Qf2mMGUvI+txvuow1V7eYgacZDO39+yEULi2xt/BuIWEhuOGR6zDl5kvRc0Aq/AP83AGLqxEZOw5h1tOz8fTjz+ODF+ebap+GukYz8xYxJCorKDODQXN2L1YCcYBnhjScGYyBDMf7qa2uP9KFi+EMB5U+EVYdNTe3mH+zcikiLsJUCDkYYjnVTNTa0mYGeO7YTczPz9eMd+QEQcfTau2ntrrWBEPE8Cciyj2WlcM/MMDMWCYiIiIiIqevpg547g3gmgeBqx9wLy+9DeQW2HeQLq+2HnjxLeD+bx99DTsu063X9ubHgMd+BPzqX8DWXUB9g72xGAqDzhZ+xj/mbJpxXaz1QYmBZjDqi38xBBf9bLAZPDppapx7DCDr9pqMOjOdPAeZ7pAfeB2GJ1xCw0Mx9bbL8OXffxE/eO57ePj/HjCDNacyHAr0R1l+mZmunRU+oREhZiF26frKH76In/z3h/h/r/7YLD979Sf42Wvu5YHH78NFk0cgKpbj9LhDmYbaBlNd5KivqcfeTfuw9K1lZoay/EP5JixioEStLS1m/KH6anc1EnFq+Ky9WWZbYlBjun/5nv5/Xpy5LCouyoyXRBzfqDjvaFDI88NZzDjLmoiIiIiInL7te4DdB4GKaqDKXjZsd1eZSPfAz80u6yNZtfVRznkNOy6V1lJofYzasReYuwT4yZ+BN+e6g0BxUxh0DnEa+tK1FTjwTBay3y4wv3O6+dRrE5H2mVQziHRwfCBa6lrRWNKEpoomwK4IOcL6ta2VIYn9uwdjd68DWw/gjT/PxKxn5+BweqbpLjb55kvNYM1XfuZypA3qhaamJtMNi1PBh8dEmKofYjUNAxlO0T7g4v6mexV/37VuN7av3IGSvBJ3N6vUeAQGB5mxhBiqcGBpzurFoIVTxK98fxXmv/wRlr+7wnTb4mxjXDgAdHNTC/Zu3IecA7moq65DY32jCYz2btqP2opaBIUEITohynQ98/U7tfGmOgoKDTbTxLMLGauICjMLzWMzAGIFFI/vcPph1FTU2FuIiIiIiMjp2LobOJDp7i7G0Rm4MDTIyAJa3B0CpBvgR2fnNeyRDDx8h3t5yFruvQmYdimQGA9UVrkDwI07gMPuCZzFojDoHGpraUN9rgt5HxQhZ1YBcucWonR9JVz5DUdmF7M+8ZsxhjhuEMMJMv/2t14avrkbWlGyqsxMP99U6dmdWBnm1FbVYfWcNfjo1UVY+MZirJu/Hjn7c9wDRPv5mYoZVtwEBgeY6dw521Zq/1QT1jCYWfX+aqyctQqr5641U8EveGUh5v3nQ6yavQZ5BznjWABik2OQNqSXqUDibGFbl20zU9OzEog/Ny3cYoKomopa020tMj4SaYN6mnGB2M0sa0+WOcZl76zA8vdWmiqiQ7sOma5hDK8YRHEWNKf66HQEhQQiuXcSeg3sYWY04yxjnKp+0f+WYNm7K7Do9SU4sPXgxwanFhERERGRk+MX7KwM2bXf3SUsJBhITeKQDkB+MZCRDRSW2neWbiUtFXjsHvfyBfsng6FbrrZe5xCgsQnIzncHfuKmMOgcCooJRHj/MIT3CYF/iB9K11Qg4z/Z2P90JjJezkb+B8VoqmxCSFIQwvuFIjgx2ARCHGw6MNrfTHvfUtuKg/+27ju/yARLniwkLBi9BvUyU8lzynVO5/7e07Px0q9ewcy/vm2CnZz9uWbQ577D+yC5T7Kpohk2YQguumykGZNn6/LtprLo+f97Ea/98X9YOXs1qss4RXuCCVk441d4dDguvWGita+eptKHVUPP/Oh5PPeTF7DkzWUoLShDar8UjJ8+FhGxEabr1oBRA3DJtRMQnRiN+hoXlr61HP/91av4zy9exuznP0BFUaUZDHrk5BEYfcXoM+oiRqwI4uDYl944CT0H9DAzinEmtVd/+zqe/8m/TbVSdXk1IqznICIiIiIip45VPwwDWB1SVQMkxgHTJgEcQpQVJgyDGBRJ9xMZAVw89Ogy4WJg+mTglunu15dcDUC1uokdoTDoHPIN8kXUsAgM/FIfRAwKg1+Ir6nuqd5fi4pt1ebfnEqeU9H3ujXFhD8cQyiifygih4QjKD7IjDvUWNaExtImtNZbf6E8GGf8ikuOxf0/uNdM3R4ZG2G6juXsy8WONbvMNPIMjMZcORr3fu9uEwqx+mbYhKG4+bEbMfnGSeZ2dt/i9PEMTTj9/Jhpo3HbV27GRVNGmv2wKxfHILr6nmnoN7yPqbLhfjjYdEtzC3oN7Ilpd16BW75wk3k86tE/FVfeORV3fuM2RCdEmwolbsPxhtidi/ebcf90052t34g+Zpszxe5o19x/Na6443ITWBFnJnPVNWDg6IEmlBo4aoBZLyIiIiIip6ahCVi+Higpc//eLw34wr1AUjxgfRQxQdHWdPdt0v1V1QLpB47OEpeaCAzs7f63AD7tHCjlPFixehXm1c/CjuiN9pqupaWuBY2lzWiubjbdt8J6h8Iv2N11q6W+FQ2FDdbPNhPwcJwfVu+0t7SjNqserQ1t8OP08Na6IOu2jtgdzGxf3AhXYSOayprQ4mo1jxsQHYCQ5CBTGcSZyNg9zNmmqaLZbNNc02K6igUnWPdLDe5SU9D3dPXBtMobETbGDz6Bp98lqjN8Oza5msx4QKV5pSgvrEAt/yu2hEWGIS4lFgk9E0y3MA7UzCCG23C2MU7JXppfZip7GuobTOhjpmFPjjULQxZnNi9uw4oh3pfbsLKntbUFcclxZrwf7oehT8fZvxgUseuYOS7r+Di4M8caioqPMsfDsYgYUHWc6Yuzmjnj+7Aiid3aGHoRwx12U2P3Mj9/fxOExSRGm9t4fJUlVdaxlaLE2h8fg4NSJ/SMR0hosKloYujFAbVT+iQfGeD6bHClt2JI0lCMHDbcXiOewOVyYcGSRRg/Zix6pKTaa6W727k7HRUVFbh88hR7jUjXlFeQj41bNmPGtKsRwnp98Rj6O+R5murzkf7OePTol4/IOHulhyitAB57HFi3DQiymuy3XQP88EvuwYUXrYKZoeq6K4CnfmG13cOAMxj1ocvaU3wHKl39MKn3H+w13Rsru/70PDDzA3f3r5REYMo4+0ZLQyNQUWVdf4qAHOv23j2Az98DPHgbEOv+yOUxDu8CIvo8gZ7jfmavOTUKg86jVlcrWlxtaG9uMxVAfiF+pvuYGTuoE6wKYuDUZi2+1n14P2dcoa7gXIRBHXHAZIY6ja4m8ztDFlbgcDr4Tlnv5JaWFlOxw+CGAQtnGvO3fprZ3jrBqiCOR8RtOGZRaGQIgoKDjszm1Rm+Lg0u97T27W1tZmwfLmfaNexEGDY1WsfH8ZD4XPjcz8V+OlIY5JkUBnkmfQiT7kJhkOfS3yHP46lhUL3LXSXy8Pfd4cGoYda/bwfuuQl4fTbw9KvA3kPu7kW//I77JwMjT+HpYVCA9ZEvrMP34+wSyIogpyroklHAF+8Fbr/Ws15XOtMwSN3EziOGP0GxAQhOCkJwYhACIvyPGwQRgx9WC/mH+n1sgGlvweCDM4WxUocLu40dNwgi6/RwzB1uE5MYY+7P348XBBFDHwY5HKeH1UAcMPpEQRDxdeD9WMXDiiNW5ZyrgIZVRKHh7n2x0ulcB0EiIiIiIp6I08hv2gGUV7qDgj49gRFDgEDr48WEi4D4WKudb31uKC4DVm5wDzgs3UdUBDBm+NFl7Eh34MeugOyYwRnF9ma4F3HTJ0sRERERERHxaBwnaHmHkIcjO7S3AQezrV/4pbK/9eHY+nRcVgGs2QzU1bunLpfuYUAf4PEvH11+8AXgqw+4uwLGxbhf5/c+AuYttTcQhUEiIiIiIiLiudragKJSYNVGdxjECqA5i4GHvgvc+gXgrq8BG7a771ddC+w6AOQVWvdttB9AurzYKPeYQc5yxSTgjuuAbz4MTBoDREcAudZruu+Q+3UWhUEiIiIiIiLiwTiI8O4D7nFmGARw1FwOFl1Yai0l7oXTjjshAQcfXrERKCl3/y7dgI875HMWjrDCSi8ura3u17zVen2bWxQGORQGiYiIiIiIiMc6nANs2wO0tLp/v2w8cM+N7sGjneX+W4HRwwE/P3f1kJmCXmFQt1FfDxzMOrpwbKD129wVYKwGqnO5q4c465iGYXXTaRARERERERGPxKqQjCxgx153CBATBdw4Dfj83cBj9xxd+PuVE4GEWKC5Gdi+B8gtcFcMSdeXY71WL7398eXFt4BXZwFZee6KoAG93YNLKwxy02kQERERERERj8SuYawUych2Tz8+bAAwcbR7GTfy6DL+Ivf040P6ubsTcYyh/Yfds4tJ18fX988vHF2efMkdBG3c4Z5Kvk8Pd0XYpLH2BqIwSERERERERDzTzv3uoIDVPgwFLpsAxMfYNx6jdw9g+CD7F8vWdPe20v2w+ic0BOiRDFwxEXjiW+7qL4ZC4ubTbrH/fU6tWL0KB4r3o96/zl4j3V1gWxAiW6LhF8bRueyV0u211bcjJCAEISGh9hrxBG3tbaiqqkJ4WBgCAqyWkHgEl6seMdExuHzyFHuNSNeUV5CPjVs2Y8a0q63ri9U6F4+xc3c6Kioq9HfIgzTV5yP9nfHo0S8fkXH2ym6Ms4Oxyqeiyj0eUFK8uysYg6Fj1buA0nL3wNLELmWJ1jmIinD/3p3tKb4Dla5+mNT7D/aa7o3d//KLgfJK9xhPx3IGkfb3d4dCcdFARBisdrB9Bw9yeJf13Po8gZ7jfmavOTXnNQxal9eGnNYUe410dzG+VRgWmIOAhMHWX1YP/K/KS7WUHUJiwDIkRWy114gnaG4NxYHSm5GW4ouo8BZ7rXR3BaWB8A3oow9h0uUpDPJcCoM8j6eFQeLmaWGQHNUtwqA5OdHY0jLMXiPdXZpvAWaEbUHIgKvgE6CGnadoyFyNgcFPYmji2/Ya8QQNLTFYevC3GDfCD6nxnXx9It1S+qFQq2E3QB/CpMtTGOS5FAZ5HoVBnklhkOc60zBInXtERERERERERLyIwiARERERERERES+iMEhERERERERExIsoDBIRERERERER8SIKg0REREREREREvIjCIBERERERERERL6IwSERERERERETEiygMEhERERERERHxIgqDOtHaUIPs+X9FxswfI+ejf6IqY719i4h0d41NwJZdwI/+ADz+e/fyvzlAboF9B/EIzS2t2Lu/EBs2ZyInt8JeKyIiIiIipDCoE62N9Sha+z/kLX4WJRvfQV3ubvsWEenuSsqAlRuBZ984urw9H9i5z76DeIQGVzM+WrIHS1bsR3Zuub1WRERERERIYVCn2tHW5LKWemtpQHtri71eRLq7jGxg8y7A1QA0NLqX/YeBrbuBtjb7TtItNTW1oKa2EUXFNdizvwizP9iBnbvyUFXtsu8hIiIiIiKkMEhEvArDoC3p9i+2rDxgx153MNTebq+UbievoArrNx3Gf19fhx/+v/ewbuNhVNc02LeKiIiIiIjD7wmL/e9zKisnG/urg1HQlmCv6bpaG2tRuOoVtNSVIzAqGaHJA+AbGIySTe+hZOO7qNq/Gs3VpQgIj7PWh8DH52im1t7ajPr8fSjbNg/FG95G6dY5qDqwFg3lOWhvboRvQBD8gkLtewNlOz9C+Y4PUZubjraWRrN9xe6lqNyzHM01Jda+B9r37HqifGoxILAAAbH94OMXYK/tmlqam3AwfTNWz38LKz/4H5bNfhU71i1B9v5daGyoR3xKL/j6Wq+jj4+5f1lhLtYvmoX0jStQUVpo3ceF0vxsrLPWrZo3E3mH96PZej2DQ8IQFHL09aSmxgYU52Va+5qJlfPexMZlc7F/2zqUFeUhPDIGgcEh8PXzs+/d9bRU5iDOfz0Swjyve2RJOTB/GbB4tfXHz3q5x44EXI1AnQuIDAcG9QVSkwD/rvvynLGWthBkll+N1ERfRIS22ms9y5oNh7BtRy5KymoRGOCHhsZmpKZEY9TInhjYP9G+l2cpqQhAQ0sseqel2WtEuqaa2hrkFxRgQN9+CAjo2m0GOT3FJSVoaGjQ3yEP0tpcg5I9zyMypgYdPrZIN1daN8xqM8SgV7TVEBaPUlkMBEVfgcjUK+w1p0ZhUCc6hkEMb1qb6lF9YA0qdi9BzeGtqMvbjbqCvXCVHEZwbC/4B0eYMKTZun/V/jXIW/w0ynd+ZN13I+pz06377rO2Sbd+34xWVzUCwmMREBFv9lW4+hWUbpkDV9EBtDU3onyXOxxylRyCf1gMogZcYu7XFXWHMKi9rQ11NZVY/eFbWD77dWxbvRCH92xFTsZeFGZnIC9zPwqyDqCqrASJPXojMCjEhEL51voF/3sW6ZtWorK0CFn7d2DbmkXYuW4JDu3eitxDe5C5dzvKSwpMkBQSHmG2qywrRvqG5Zj/+tPYtuojE0DlHtyN3MP7kJuxx3rcgwiPikWEtfgHBtpH2bV4chi0aQfw0Uog/QAQGQF87QEgv8hqyJZafwz9rPd0JDBupPXHtGu+NJ+KN4RBvj4+SEqMwKD+SRg8KAkVFfUIDQnAkEHJCoNELjCFQZ5LYZDnURjkmRQGea4zDYN82i32v8+pFatXYU5ONLa0DLPXdF1NVYXY+ttrTEDDyh//kEjwNDHAaWusR1N1sZlxLCAyAT2nfw1Jk+5FSEIf1OWmI+fDv6Fo/UxTLRQU2xOBUUlob2lCbc4uEzJF9r8EqVc8ipTLHzb72vPCY2aQavj4ITRpAOqLDjLBQGjqECRNvBu9ZnzD3K8rSvMtwIywLQgZcBV8AkLstV1LU4ML29YsxNxX/on929ejra0VMQkpiE1MMQFQRUkBWpqbkZLWH7d/4QcYdel0RMcnYdeG5Xjq/30JhTkZiIpLMhVAAUFBCA2LRGlhrrVtkakA6jN4JG753Hcx+drPICAwGNvXLsait/+N9Ytnwz8gEIk9+iA4NAx11ZUozs9CYGAQrrjlAWu5HwNHjrePsmtpyFyNgcFPYmji2/Yaz/G3F4FX3wcOZgID+1j//ivwz5eB2YvcXcRYKfT8b4CURICFYp6EF/+lB3+LcSP8kBrfZK/1XBwn6K//XILyijpcO30Yrr9mhH2LZ0k/FIpK1wBcPnmKvUaka8oryMfy9avQ0Ncf7f72SvEIAaVtSGiKxOCBXbeaXU5Pa0MRKtfditj4IoSE2yul2yuoHof65nj0j/vQXiOeojQPiB38BHqO+5m95tQoDOpExzCova3VhDoxw65ERN9xaK4uRuW+FajO2IC2lmbTjWvQA39D9JDLTXewA699D02VBQhJGYjYEdMRaW3TUl+JzPd/bYIe/+BIJF5yJwY9+KTZlxMGtdRXmeqa4Lg0hCT1Q1ivkYgZeiXiR11v7tcVdfUwiFVBlWVFeO5X38Su9cvQ6KpDap9BGDv1Ogy6aAIy9+00lUKs3uFAMcPHX457v/EEBo2cYCqCnDCI/4kwuBl7+bXoNWA49mxZg41L56Io9xAiYxLM+kce/5O53+z/Pom5L/8DzU0u9B8+FhOn34a4pB6mKmjV/LetxzuI6Lgk3PrId3H9Z79iAqOuxhPDIP6VY9jzVevv49zFQEgwMN367PyHHwHvWtfD/77jHlQ6KQF4/W/ARUOAsK6Zb54xhUEKg0QupIN5h/HS8pn4T8P7qG2vt9eKJ5gSMBozQichKTzGXiPdnV9rNeKL/47IkFYE+KuSz1Owgq+1tRVhYWH2GvEUdXV1SBn5FfQe8y17zalRGNSJj1cGhSJ+7C0Y/ODfTZWQdcpQtP5N5C74uwmEOMbM4M89jfjRN6GpIh/F69+y7tOOqCFTEdlnNAKiEtFcVWxCn6oDa9DW3ICEsbdi+FdfM/s6Ega5qhEYmWQ91lOIHjTZdBEzYxHZY9h0RV09DGp01SNr3078+qu3obK0EL0HjcSVtz6AWz73beu0+piAYPns1zD7pb/h0J6t8PPzwzd//19MvPpWHNi58UgYFBIagdsf+77Zzs+6IPI/mWd+9hWsWfAOWttaMfjiS/CdP76CnIO7MfeVf2DNR+8iIjoOj/3fk7j40qsQFZuAwuxDWDrrFcx5+UnU19bgunu/iNs+/wMk9exjH23X4YlhUFMzsGs/8P3fAGu2AEMHAF97ELj7BveU8qwOeudDICoC+N7ngTut9b172Bt7CIVBCoNELqS5h5fj7gXfwiUjwhEU6GGll14uI7cBcW1p+Mll99lrpLtrb2pH/dYmTBk3GanJKfZa6e527dmNisoKXDZpsr1GPMXKtasRGxOHEcNOr72rq/FJBEZzAOmB8A0KhY+vn7X4IjiuN0JTh7rv0N6O5ppSMw19aMogpEz9HCIHTjJBUvb8v2L30w9i59/vQtXBtWhtqHVvg0/mb35BYQhJGoDwtIvgHxZt9tWVg6DuoLGhDkX5mWhtaTa/xyX3QM9+g+HL19HH14zxw3WpfdxlzUzKOT5QXXWF+d0Rk5hquor5+Qfa2/mZcX+Cw8JN9VFrS4t5RavKS1FXU2W24aDUaxe8g9f+9lM8+4uvY+bTvzbVRs1Njdat7WZsoZKCLHNfOfcam4AV690DSFNcDDBptPXfdyAwuB/QpycQ4O++3/INR+8nIiJnB6+TrWgzTRstnrW0W/9r4yts/VuL5yzt4GcRfvbx1+IhC19P61Nnp7dp6d4LX9d28x/v6VEYdBJ+QeHwD7WrdGz+IRFmJjEHq33aWprQVFWE0q1zUbj6NRSt/R9Kt81FTeYWtDbVuWceO0GXIN+AEATH9TLjE7lfUPm0OBZQXVUF2tvbzO9hEdGIiv34ILJmXdzRQc1dddVm5rCOQsMiEBQcar0Hjv4H5ufvb0Ihch6/vsO2ba0tyNy/E7s3rcLOdUuxb9talHDMoOAQM9g0Q8XmRgZDcq6xAszVAKzYeDTkyS0A/j0T+MXfgT8/D6zb5v6gwgqi7Xvct3MbERERERERT6Qw6CQY9HDg547c6+rs36yT6B9krXOhJnMr8pe/iNIts9FcW4rQlMGIH3srkibeY/7NLmfH4+sf4A6COoRO8ukwcPEPDOK/zO+syjk26OH08Bxk2sFuYH5+Hw/jTPBzClPBc1vej6ERB5PmGESjL5uBMZdfi7FTr8clV9+Cq25/GNPveBSjJl9tqpLk3ONYQTn5wJ6DQK39n21eIfDaLOCF/7lDoS27WBlm/bfd5g6M9h0Cikrd9xUREREREfE0Sh5OguMHuQoPoLWx3pQYMAhqKMmCi7N+WXz8/M0sY60N9ajJ3ob6/D1ob21G7PCr0eemx9H/zl8i5bIH4XfSeRl9rFfj5IGDnDpW88Qn90JAYJAJaMoKc5FzMN2EPxz3h7OBFedmIj/zgHX6fcxgzhzcOTQiyn6E0xMdl2gqjViJEhwajmvv+SIe/M5v8OiP/oKHvvc7fOYLj+O6+75srf+SGZeoZ9/B9pZyLpVXAuu3A5XVQEsrEBkOJCe4p5F3loQ4a4k1bwNjazqQoV58Ih6lqakJLpX8iYiIiBgKg06C4wHV5e1Gbc5OtLU2w1WSacb/qc3eDo7r4x8Wi6C4XtY92003MUdEn9EISR6A9rYWs54zjTXXltm3yvnA6eBTew9AVFyiCXoKcw6ZblsMfzjOT2F2BvZtW4esA+mmy1dMYgoSUtPOOAzirGGRMew+2G5mLuP08mXF+ea2sqI8LH73JfzjR4/iL9+7H8vefxX19vhCcm6x0mf5evd4QHTZeOD/vgb84ttHl19ay/23AYEB7kBoy24gI9t9fxHxDLl5Bdh/wP1FjoiIiIi3Uxh0Mj6+qMvdhb3//gJ2/vU27H7mQTMeEKeL5+xiiRPuQEh8HzMmUGDk0fFoCla9gkNvP4GDb/wQ+/77NdNtjCUjnKqeAZGcexwgOjw6FtNufRCJPfqY8IVTyf/1Bw/iN1+9DU8+/jmsmj8TrtpqBIeE4urbP4fktP5muzOR3Ksfho6djH5DR6Ohvg6L3/kP/vmTx6x93Y5//OTzmPfqP3F4zzZTqRQdn4yQMwyd5NQ1W/+pFRQD67exKgDomQxcOha44Urg6ikdlsnAlROB0cOBgACgqMQdBnFbEfEMe/bux9uz5mLuvI9QU1NnKkRFREREvJXCoJMIju+NsF4jTYhTdXAdarO2o6m6CAERCYgfcxOSJ92DoNgeCIpJRdTASYgecjn8Q6NMNVHp1jmo2LMcHAco7uLrERSdYh6nua4C9YUH0N6qUOic8vExXcUmTLsJV97yAPoNGwVXfS2y9u9E+sblJpiprSxHUq9+uOauz2Pi9FsRE59sb3z6ODj08HGXYdrtD2HwqImora7AgR0bsGPtEuzfth5V5SVIGzQCU66/CwMvGv+JsYnk7Csstj4AZgClFUBrGzBsIDC0v3s2sdioDks00DsVmHCxuzqIA0mzm1j6AfuBRKTbq62rw6HDWVi+cg1mf/AhDmdmma5jIiIiIt7I7wmL/e9zKisnG/urg1HQdnTmpq6qvb3VVP5wqveYoVcgZshUhKUORkBkIkIS+yA87WLEDLsSCWNvQdSAiWZaeN+AYPhxlrGwGARGJSMwIgHBsT3NVPGxI662HmeqtX0CQpP6I6LPGOvxhlj3jUWLq8rcN6L3xYjsNx5hPUeYwaS7gyifWgwILEBAbD/4+HXNY2aVT0R0LKLjExERFWe6cSX06GO6hPUaMAyDLpqA0VOuweRr70Cv/kMREBRstuNg05ySPrXPIAy6+BL0Hz4GsYmp5jaqr6k24wP17D8EA0eON+EPK37YxSzWeuyIqFhEWPviNvEpPdGj3yDrPpMwYdrNGHv5dUjs0duEhF1RS2UO4vzXIyFst72m+6qpA6prgcgwYNQw4JrLgTHDgZhOirJYEBYaAoQEASMGASOHAAPSgF4p9h26uZa2EGSWX43UROu/idBWe63nYtFHfX0TkhIjMLB/ovUz0r7Fs5RUBKChJRa906w3q5xQ+u692L4zHVXVNSgqLkZzSwsCAwIRFhqKoKDjz/YpZ8f+yiy8lTEfaUlB8Pc7OjundH/l1S0IaY/C1N4X2Wuk27OaCc0F7ejdIw2RERH2SunuiktK0NDQoDaDB2LWEhISgqSEj8+cfTI+7eepTnrF6lWYkxONLS3WJ7LuyDpNrU0NaK4pNsEPu4Vx8OjOsOKnoSzbBCSBkQnm/p4ozbcAM8K2IGTAVfAJsD5Fd3HtbW1ocNWhsrQQVeWlCI+KQXR8EsIios56MGMGqG6oR3lxgbXPetMNLTapBwKDgq19de1GcEPmagwMfhJDE9+214gnaGiJwdKDv8W4EX5IjVc1hKdIPxSKStcAXD55ir1GjufNt2dh5jvv278BQYGBGHXxSEy9bBKGDh6E8PCwM+4mLCc35/By3LngG5g8MtI69zrPnuRAjguxbWn46eWftddId9fe1I66La24bPxk9Eg5+mWodG87d6ejoqJCbQYPxKwlJiYGI4cNt9ecGl2NT5X1Ad4vKMR0GwuMSjpuEES8LSSxH4LjenlsENQdcar5kLAIpPQeYCp5evYbjPDImHNSocPAJygkzNpXf/QdPNL8DAoO6fJBkIiIt2hsasKGTVvw+sx3rUbUOjQ2Ntq3iIiIiHg+hUHihXzsUOZ8BDPWPs7bvkRE5HSwirO4uATzP1qMV15/CxmHMtHSovH8RERExPMpDBIRERGv1dTUbAKhTVu2Ye78j8zPmppa+1YRERERz6QwSERERLxaW1sbysorsGnzNixZtsp0HysuKUWrtV5ERETEEykMEhEREbHUu1zYun2nqRBat2EzioqKNf28iIiIeCSFQSIiIiI2Vgll5+Thzbffw7uzP0BufoFZJyIiIuJJFAaJiIiIHKOpsQmbN2/HG2++i1Vr1qO+vt6+RbxBe2s72pra0Nbcbv1i/V+b9XuLe+FtIiIi3Z1PO6fSOA849/22PBdK22PsNdLdhfvUo5d/KfyjesDH9/hT7Uv30lJTgGi/nYgOOWSvEU/Q2haEvOpLkBjjg9AQVTl4iopqf4SEpeHyyVPsNXI8b749CzPfed/+7dSFhYaiT580jB11ES6ZMBYJ8XHw8/Ozb5VTNefwcty54BuYPDISQYFd87vItuY2VO2pRcX2KjQUNcLH3wfhfUORek0iSjdUomp3jQmIwrhuegL8Qs7N+4BhU2tjm7W0miDK39rPudrX2XAgx4XYtjT89PLP2mvkfNi+cicydmSgtqoOccmxmHb3ldb1INi+9dNpb2pH3ZZWXDZ+MnqkpNprpbvbuTsdFRUVajN4IGYtMTExGDlsuL3m1JzXq7GPdUXz1eJRi/vrsnbr/9q0eMhiXlK+uu1+WjxoabMWauNfYvd/tlo8ZJFzq66+Hvv2H8SyFavNknE4Cy6Xy75VPEmrqxUFC4uRM6sAOe8VIH9+Mco2V5kAqGpPDfIXFCNvXhHKNlWadedKS20LKndVI29uEXLfL0T1Ps1uJ590aOchrJi1Ch+9tghr569HU4PGNxOR03NeK4Pm5ERjS8swe410d2m+BZgRtgUhA66CT0CIvVa6u4bM1RgY/CSGJr5trxFP0NASg6UHf4txI/yQGq8Go6dIPxSKStcAfct3Cs60MqijkOBgTJ50CaZcegn69klDWFgofHx87FvlRLp6ZRC7f9XnurD527vgKmyEf6gfQtNCEDchGv0f6IWcOYUoXlGO1oZWxFwciQGP9kZAxLmpiq7LdiH7vQLkWktrQxsGfD7NWnrbt3Y9qgy6MN76+ztYMnM5SvNK0Hd4H/z4pccRHR9l3/rpqDLIM6kyyHN1i8ogERERke7K1dCAxctW4I233sWmLdvR1NRs3yLdHatxag7Uobm21XTTihsfjSHf6IfBX+oL/3B/JF4Wh0Ff6o0hX++Lnjclm65bIiIi3ZnfExb73+dUVk429lcHo6AtwV4j3V2UTy0GBBYgILYffPwC7LXS3bVU5iDOfz0Swnbba8QTtLSFILP8aqQm+iIitNVeK91dSUUAGlpi0TstzV4jx5O+ey/S9+yzf/t06urqUFBYiMrKKiQnJ5mKIVUIndj+yiy8lTEfaUlB8PfrWueqLseFsg0VKF1XgdqDdWhvaUdgdIAJfFgJFJwYhLrMetRm1KOhuMmERaE9Q+Dr74OqvTUoWlaGyp3VpoqH3cfYratkrfVYh+sQ1su6X4AvGsuaULG1CrlzClGwoNh0Nau1HpMhFB+HlUg+vj7WNvXmOCp3VKM+r8Hsyz/MH77WbaxeCogKMPfrSsqrWxDSHoWpvS+y15wdrS2tyD2Yh1Wz12LpW8uwbv567Nt8AGUFZWhpaUFgcCCCrKWjhroGZO7JwrJ3VmD5rFXYvHiL6U5VW1WLiJhws03H/1bZQaK5oRnbV+7AmnnrseaDtVi/YCP2bzmAxvoGBIcGIzTi49XvPK7CrCKstB5/1Zw1WPb2CmxatNmM31NRXIn4HvEICPA/sp9GVxM2WI+5Y/VOFBwuRIP1uC7rODd+tMlsv3/rQdRX11n7CjL76/j6trW2oaKk0jw+97dx4WbkHMhBcEiw9bwOW//ORX1NPWISo3HZrVPM9meF1UxoLmhH7x5piIyIsFdKd1dcUoKGhga1GTwQs5aQkBAkJSTaa06NwiA5YwqDPJPCIM+kMMgzKQw6dWczDGqxPgzW1dWjvKISZeXlCA0NMV3GAgN0LTyerhwGMcgpWFRqApiWWvegza1NbWiqbDGDOMdcFIWyjZUoWVOOmow6tFt3ibkoEn5BvmZ9/rxiVO91j+tTub3aBEE1+2tNGBAzKgqu/AYULioxYxBxH7WH6lGX04C6LJepRuISEB2AgHB/M1ZQ/sJi1B6sR2u9fSzWz+aaFhMKhfcJNeFSV3IuwqDaylrs3bgPc1+chy1LtyFjxyETDOUfykf2vhxkbM8wwU9kbCQiosPNNqV5pVi/YAMW/W8pdqzcicPph61t8s12uQdyUZxTgoQeCSYw8fP3Q0tTiwmW5r+8AKvnrkX6ut3I3JVpApY8a5usvTnWcdSY+3OAZnLVuszAzYveWIyNCzeZ48rZn4OCwwXWsRWYbUvyShARG4Fw67i4n4Y6F+b/dwG2r9iBgqxCFGYVY5v1723Lt+HAtoPW88lG1p4sZO6x2l8psQiNCIV/oD8aXY3WceSbc8CAat/m/ciy7pt7gM8nD3nWuagoKjdjBSkMklOhMMhznWkYpG5iIiIiIqepubkZBYVFWL3W+vC5ZAW270hHaVm5qTSQ7oXhin+Yn6nOgZ1TMejhmEDuih2gsbTJhDg1B+tNuONML99c2WwqfGoO1KJsfSUKl5aa2cgay492IWTVUcHCEhP0+Pj7InpkJCIGhJnp6hlEMSgqXFJqqod8A61jsfbpG2gdCI/FWnytY2FXNR4TvKQCrTS/DEveWoa189abwCOxZzyGjB1kwhxW5WxeshWrZ6/Fng17zf1ZQbNzTTqWvbPSVAOVF5YjNikW8SlxaG5swt7N+81tq95fjfKiCrNNVVm1eZzFby4z4VFNeTXCY8IRnRBjbmM4tPy9Vdi0aIup7uF/24fTM7Fm7lqsnrMWmXuy0WrtN7l3srVNNGoqa7Fn417r8ZaaSp7inGKzn9ZWdyURQ5+9m/Zh5yrOAnYI/oEB8PX3Q1lBOXas2mWObeuybai2joNYZbR23jqstI6BwVhdTT1Cw0PNe2DX2nRkWfvnTGIiImdKYZCIiIjIGeCHQ1YIrVi1Fh8uXIIt23agrKzcfPiT7iNyUBhSZyQgflIM/OzBraOGRSDtMylIuSYRfkEnHx+orbnddBljVhMxMByxo6NM4MMwp3xrFWoP1ZlAJ3pkBPo91Av9H0kzjx05OByBcYGozagz1T+RQyOQMiMRUSMi4RtgbWz9Hx+r9x2piL44yr3OwzEkK8krxbp569HkakJSWqKpernnu3fhtq/cgpGXjkCPAalocDWYapy2tjYTxGxctAn7tx4wXcEGjRmI6x6egRsfvQ5jp40xAyuXF5VjwasLTZVQc2OzCWiWvsUBmEvNNkMnDME1n70aM+6/GoPHDjJVRwx0GOBUllSabRg0MYhhVVJMYgwmTB+HGz53LabfdxWGTRiKoJAgVBZXmm5hB7dlmJCqo7rKOrNu3FVjcPMXbsTU2y9D2uBe8A/wQ1NjE3au3oXK0iq0NLea57b83ZWorqhBcHgwho4fgqvumYarrWXg6IHWo7Wjsb7R/cAiImdAYZCIiIjIp8RuaO/O+gBz5i1EbV29+YAq3UNgTCDC+4YhJDUYPnYXtqD4QBPUsFuWj/+pBTDctvfdPXHxz4dgxOMD0eOGJPi0Ay2uVjPeDwOj5upmtLraEJ4Wgp43JWHQV/ti0Bd7o9ctKQhOCkYw99s/3IxTxLFj+L+QlGATToUkWeu6WBe7c4HjATW6GtDY4K7Gqa9xoa66HkEhgbj4spG47wd346H/ewC3f/VWjL7iYhPSMAQqyCw0IU1ynyTc8sWbcfmtU3D57ZfhqnuuxOipo0wIw4ojdrEqyi5GYVYh9mzai+amZgwZP8gELdc/fC2uvnca7vv+3Rh2yRBTWRQYFGC6gbFLGffDECkqLhLjrxmH+x+/D1fcMRU3Pno97vj6bRgwaoDp4nVw+yFk7s403co6cgdVg/Dgjz+LSddfgnu+c6d1jFMQFR9ljq+s0N3tq7qsynQ/y8vIN2MUMWia8cB063ndaMKnL/328xho7Yvd0EREzpTCIBEREZGzoKKyEms3bMSzL/wXe/cdQH39xz8IiudiSMPQJqJ/KILiAk1FD8Mcv1A/a12YCXc4WHTF1mqk/+EANn0nHXv/dsiMMcQQKm5cNAJj7DGnPD/vOSH/AH/TxWvgxf1NsMLwhWPu/OELf8HPP/trzP33PDO4c78Rfc3CSiJ2C2MVEbHb1cI3FuO5/3sRT//wObz/7Fwc2H7Q3EYc0yf/cIHpCsYxmSgpLQmxiTFmnCfuv/eQNDz80wfx4//8EI888ZDZT1lhBRrsSpywqHAMGNkPAUHugaK5cIyg/tb9uL1TrcSKoo44llB8apx5Xs527PrFbYkVQXw+HBTaHJ+tR/9UE0zx/n5+fqZbGtcxRBIROVMKg0RERETOAlY0VFRUYtfuvXhv9jysXb8RRcUl9q3iyRgGBScGIiDS/2Ndubg+4dJYJF4Wi5DUILTUt5qBo6t215jBpwsWlSBrZj5K1pajqeLoOEPejIEHu4ax69XQ8YPBWbYqiivMeD0cI4jj8Xz4ykIzi1fGrsPu7pqVtWhpbjHbu2rqzUxb6WvTTbergzsyTNerkPAQs3Ccn7rqOtRX15v7U3hUOILD3IMvc/8ciDmlTzL6DOuNlL4p5rb6mroj+2CVUlxqLHz9jn6UYtUPB4B21jU2NMJV98nKIB4D9+Hw9fWFn7+/+bcz5liDq9EEQo7ohCiERYW5f7E2ZeDE34OscyMicqYUBomIR6usBtZsAf43B3h1VufLW/OA+cuBDduBqhrgmC7+0o3U1jbicGYZNmzOworVB7HR+pmZXYb6evc3xiLnGisCOPX81u07sXTFaqxdvwmZWe6BZsWD8QN6mN8nupSxyoNjEiVdGY8eNyajx/WJJhyKHBQOnwAfM5YQB4/OnV2A+lzXkYGpvRkDkYiYCIy6YhSuvPMK081r8o2TMGLSMBMS1VTUmpBn2TvLzRg+TY3N8Avg9PvujzWslhlz5SiMu3osxk0fiwnXjMOUmy813ay4DLtkqBlD6ONTuLce6drJ/XPAaHYNYwDFGczY3YsBjLMNu265ahvM6+s4dh0reHhcHfmyWsz/5B+/GBbxvo7mpha02kGUg/tilzIRkTOlMEhEPFp+MfDa+8D3fwd88xefXL79S+CHvwd+9U/gmdeB1ZuBsgp+oLMfQLqN0rJabNmegw8XpWPO/B14d/ZWvDd3GxYs2o2tO3JQVe2yXld90JLzgx8o9+zdj4WLl2HJslXIyc1DQ0Mj2uxv/sWzmI/t1of3jhUfDAU4KHR9QSN8/X2RMDEGAx7rbQaPTrs9BfHjY0z3sbamNlTsrEF9vgutDccZfNyL3jZNDc2mexUHdk7tm4JrH7jGHjz6Vlxxx+XoO7wPQsKCUZxbYmblYpVPbHIsAkMCzfYMjG754k14+P89gEefeBj3//Be3PqlmzGDg0Nby5grR5tBmyNjIo6EO+xaVl1Wbf67ZajD8YTWzl+Pha8vwsZFm80+4pLjTJcuhk61VbWm4ojVRRzrhxVDrF46tOuQ+TfH8mGgFRV3Zt24wiJCERkXeeT9lJ+Rb54vxzfi8bHSiWMk8ZhFRM6UwiAR8WgMdRobAQ7d0dlSWw8UFANbdgEz5wJf+j9g5UbA1WA/gHQbs+Zux6//OB//e2cT4mPDMWFsH/j7+eLVNzfgx0+8j5VrDqKx6ePfrIqca4VFxViyfCVeeOlVZOfmoqlJ3+R7i3bOMLarGum/OYD1X9qO9N8fRM2hejMwdc9bktHn3h5ImBLrvm9LO5orW9BS9/EwiOFEW6t78RaleSX46LVF+NGtPzXLwtcXm/Xjp4/FLV+4yczCldQ7yYRtDfUNqCqtMgEQAyIqzS83U9I7Ywjl7M814wz98ct/xR+/8ldsX7HdhDWxKbEIDAo0gcu+LfuRsy/XBC0cF2jd/PX48OWP8MF/PrTuvwMRMZFI6ZuMuOQY0zWLIQynoz+8J8tUDVUUVeDA1oPYt3k/WqzrTGRsBBJ6xJsKpDPBIIjT6DtdzvZu2m+6yDG0qq2uw8pZq8zzUmWQiHwaCoNExKtMnwL8/nFr+SHwO2v56deBu24ABvZxdw+rqAK27Qay8+0NpMtramrFpq3ZWLB4N4YMTsbvf3Eb7rlzHK6dPgxfevQyfPPL09C/XwL+8cwylFdwlidVZsj51djYZLqKPf/iK1i2YjWKi0vtW8STsctYeP9wBCUEwjfQF7WH6rHvb4ew4+f7sPtPB3HwxSwUryw31SmB0QFmIOmAqAAz5lBglL+pNGJFUOGiEuz5y0EUrypDa6Pnl63GJMWgx8CeCI0KNSVXi2cuw9OPP4e/f+dfePk3r2HW07NRlFVkxvXhoMo9B/RA2qBeuGjKSDOocnFuMeY8Pxe/+/yf8KuHfodnfvQ8Fv9vqZlBLCIqwgxOzaqd5N5JuOTa8WYcH05l/94zs/Gze36B33/+jyYI4sxjHDeI07iHRoYiIDAA46ePw6DRA0wIk70/B89aj/2bR/6AP3zpL2b76vIa092M9+P09E7XtdPF59bLOgfjrx5rjq+0oBTzX16A3z36R/zGek48Bwyg2HVNRORMKQwSEa8yuB9w63TglmvcP++8HnjkTuCGaeyjzwFggcxcoKjM3kC6vKbmFmzYlAl/fz+MHJaKi0f2RFKC1eCPCUNqSjQmju+LkcNTse9gEXLzK9DQqEFa5fzih0OXqwFZ2blYsnQlFi1djn37D6rLmIdjyBMUG4Dkq+IRPyEGvkG+qMuuR9nGChQtLzMzi3Gq+dDeIeh1ewoi+oWZ0Mg/3N9UD4UkB5ltXPmNqGQ3Mi8ZU4hBCGfluu6Ba5DaLxV1VXWm6mbTws2mYidzd5YJSEZfMQqTbpiI0MgwM8DzJddOwOW3TUHaoJ4oLSjD7vV7sHP1ThzadRgtTc0YPGaQGZSaFT6sDErqlWimkx87bbTp/lWUXYQ9G/eZhVO8MyyafNOlmGg9rp+fr3k9h04YiqmfuRyjpl5suocVHC7E3k37cHB7hpnRLCwyFNPuvMKMUcSQ6kxnhmNFEI/zmvuvNiEXzwmrgjiGERcGZgMu7of4HnH2FiIip8/vCYv973MqKycb+6uDUdCWYK+R7i7KpxYDAgsQENsPPn72dKjS7bVU5iDOfz0Swnbba7q34jJg3VZgbwbAsRdZGXTTVUB0hLVEAnHRQEgwkFsILFzl3uaiocDYEUBvqx3nKVraQpBZfjVSE30REXqcMSm6qUZTGZSFhLhwjBvdG/36xNu3uPn6+SAnpwLzF6bj5usuQkpyJIICPePb1JKKADS0xKJ3Wpq9pus7dDgLm7duNz/P55K+Zx/yC6z/0C8gdvnh9POccczV0IgA/wBERITD38/vY2PNeKL9lVl4K2M+0pKCrOfb9Z5rOwturMUvyPobOSAMsWOiEd431IQzxO5bgZH+CO8XiuhhEYgaGgHfAF+0ulrhF+yL8AHhiB4RaQaGDgi3/75YT5OziQXFBiIgOsBU/wTFB5nfg2ICEZoajCjrsTiWUMq0eAQnB8PX38cs/mHuwYoZCIX2CjHHwscOS7OO6ZhBqi+08uoWhLRHYWrvi+w1nw6fN8OdxF6JZuatuORYMyZQdHy0mVKdYc/IS4ebqp7hE4ciJCzEbBcVF2kGj2YXrcjYSMSlxCGhZ4KZJp73n3DNeBP8RFgNAP73FhAUYKqEwqPCTKUQ98OuWcl9kjB49ECMu3qM6ZrWd1ifI/99hkaEmK5f0YkxCIsMM4FRfGq8qUgaOKq/2c/U2y9D/5H9j8z+xe5s7ErG5zPgov7mfhwLycEqI041z/BnkLXfoROGmONn4MXnHWqdA3N81vMx+xk9AJfMGI9BYwZa+0+2jpfVSwMwdPwQU710VljNhOaCdqsdlIbICKvBJB6huKQEDQ0N3arNIKeGWUtISAiSEhLtNafGx2qYnJevGFasXoU5OdHY0jLMXiPdXZpvAWaEbUHIgKvgE+C+EEv315C5GgODn8TQxLftNd3brv3A314E3vvIPUbQF++zlnvtGy0cU+hAFvDBEvdA06HWW/kHXwDuuB7o18u+kwdoaInB0oO/xbgRfkiN96wxBhobW7B+UyaCgvzRu1cskpMi7VvcCgqr8Pb7W/HXfy7G2698AUOHJCMk2DMC7PRDoah0DcDlk6fYa7q+N9+ehZnvWP+xebmw0FD069cHN143Hf369rY+cEWa6jZPNefwcty54BuYPJJhrHcWpnNw6MbyZjRXNZuAwD/UH4Ex7pDoeNgtrLXR+mTOoCrYF35B1nuki2VpB3JciG1Lw08v/6y95uzhx5SaihpUlVWb2bM4wxaDkZjEaBOWdIYVO666BpQVlKG1pQXh0eEmJOL4QMfT1NiEqtJqsy+e3kQzBlHIx6aO74jH1drcaga65phFDHOiEqJNIHUugl1nbCTOKsYAKyQ8+JwGyO1N7ajb0orLxk9Gj5RUe610dzt3p6OioqJbtRnk1DBriYmJwchhw+01p0bdxETEq7w9H7j3m0eXmx8DHv2he4r5AKs9ftEQYOJooFeyvYF0eQyBLp88AJeM6/OJIIj27CvEtp256J0Whx49oj0mCJLura6+Hum79+LZF/6L9Ru3oKpaswJ5Or9gP3c10NAIRA+PNNU+JwqCiJVKgZHuwIjbd7Ug6Fxj4MEqGY6fw7F6Blzc3wwWfbwgiBjgsLsWZwzrO7yvqfY5URBEvJ0DPvcb0Rd9rYVVP8cLgojHxQAo3tqmv3VMvYf2dk9Xf44CGnYTS0pLMl3PWJ10LoMgEfEeCoNExKtUWZ+3svKOLiXlQEOj+zb2XIiNshqFygo8QktLG+bM34mXXl+HsrJafOdrVyEywj3bjEhXwLGEqqprMGfuh3jv/Q+wd/8B+xYRERGRc0thkIh4lVHDgIc+c3R54DbgxmnAsAHuMYXSrc9isxcDO/fZG0i3U1vXiK07cvDHJxfirVlbEBURjLtuH4tLL+nnMWMFiedobW1FcWkZNm3Zhg8/WoLVa9ejvt5luqGIiIiInCsKg0TEq4weDjx61yeXG68C4mKAnHzgw+XAzv0cE8DeSLoFfnjOya3A4mV7MfPdLdi1Jx8pyVG47poRuG76cMTFhpnxJkS6Gr53S0rLsGXbDixcsgJr1m1EYVExmplQi4iIiJwDCoNExKskxgEjBx9dxowArrkMuO4KoG9PwM8PyM4HiksVBnUn/DCdX1iFZSv3470527FnXwGuu2Y4vvmlK00QFBMdat9TpOuqq6vH7t178c77c7Fuw2Yz+1ljo92PVUREROQsUhgkImLhtMLOl/Ctre5FYVD3wNeJ4wP997V1eH/eDvTvG4//PP0Q7rtjPFJTOKCnfUeRbqC1rQ3FxSV4693ZmDv/I+Tk5tu3iIiIiJw9CoNExKsUlgBb048ua7cAb84FXnkP2JPhDoT6pwE9kq0/kPoL2S24Gprw3pxtyM2rxFVTB+ORBy9FZESQuoRJt9bU1ISNm7fijZnvYtmK1db7vMG+RUREROTT00cdEfEqKzYAv/rX0eV3zwDPvAYsXgPUuwDOJHvpWGDoAE4da28kXZrL1Yy339+KpKRIXDKuL1KTo+F3gimBRboDdn2sqanF/oMZWLhkOeYvWIzcvHy0tGgcIREREfn01FoWEa9yIBOYt/TosnAVsHU3UFsPDO4HXH+le/wgVgdJ19fW1o7aWvfsYRmHirF89QH857W1ePHVTy5vvLUJhcXVaG5ptbcW6fo4s9iBg4ewdPkqLF+5BgcyDsHlctm3ioiIiJwZhUEi4tFCgoDePYCLh7pnEjt2GTsSuGQUcNWlwD03Aj/6MnDZeCAmyn4A6dI4vgqXAf0ScPBQCd5+fwtefHlNp8vrb21EUVE1Wprb7K1FugdOP8/BpD9atAyLl6ww4VBtbZ2pHhIRERE5Ez5WQ+K8tCRWrF6FOTnR2NIyzF4j3V2abwFmhG1ByICr4BMQYq+V7q4hczUGBj+JoYlv22vEEzS0xGDpwd9i3Ag/pMY32Wulu0s/FIpK1wBcPnmKvabre/PtWZj5zvv2b3K6fH190bdPGm6+YQbGjx2DoKBA+5aubc7h5bhzwTcweWQkggL1XaQnOZDjQmxbGn56+WftNdLdtTe1o25LKy4bPxk9UlLttdLd7dydjoqKim7VZpBTw6wlJiYGI4cNt9ecGl2NRURERLqJtrY2M3bQW+/Owaw581BYVGzfIiIiInLqFAaJiIiIdCPsNtbc3IyoqEgEBATYa0VEREROncIgERERkW4iJCQEfXqn4bLJEzF86GCEh4fZt4iIiIicOoVBIiIiIt1AWFgY+vftjalTLsWtN12Hnj1SERTYPcYMEhERka5FYZCIiIhIN3DRiGG4/dYbcd2Mq0yFkI+Pj32LiIiIyOlRGCQiIiLSRXH2sJiYKNx9x62mGmjQgP4KgURERORT09TycsY0tbxn0tTynklTy3smTS3v2UJCgs34QJMnjsdFI4cjIT4Ogd20W9j23D3485LnsDZwAxp9Gu214gn6t/TDpKAxGJMywF4j3V4r0FLWhuT4ZISGhtorpburqKxAY2MjkpOS7TXiKQqLCtG3T9/Tnlr+vIZBa/Pakd2aYq+R7i7WtwrDA7MRkDgUPr6azcRTNJcdRGLAEiRHbLHXiCdobgvF/pLb0DvFF1ERLfZa6e4KSgLhE9BHYZAHiomJxqAB/TBu7CiMHzsa4WFh3boiKK8gH3NXLsOTVYdR3aa/QZ5kemgCZkSlwS9CHzA9RlsrWqpykRzjQlhwm71SurvyGn80NvkiJU5fCnqagrJA9Os3smuHQQfyK1DfHmyvke4u0KcZkb718A2KtN5JKln3FO1NtQjyKUZwQIW9RjxBe7sfahp7IjQECPA/L3/25TxoaPRFbGxPhUEexM/PF1FRUbh45PAjM4b5+/vbt3ZfDIM+XLUZs5qmWW1BVRN7kjH+uzE+thLBfSbba6S7a292wXVwMSYPL1I1sQdhNXFFtT+mjKq214inWLUtErGJo7t2GKRuYp5F3cQ8k7qJeSZ1E/NM6ibmWVj5w6nib7r+Glw2eRISE+LtW7o/hUGeS2GQ51EY5JkUBnmuMw2DNIC0iIiIyAUWFBSIYUMG4fMP34+pl01GbEy0fYuIiIjI2acwSEREROQCYvAzacJ43HjdNWb6+NiYGI/oGiYiIiJdl8IgERERkQvAz88PPXukYtLE8bhy6hSMungEIiMj4OurcfhERETk3FIYJCIiInIecWyg4OBgEwRdPnkSrp9xNYYPG9xtp40XERGR7kdhkIiIiJw3DEIuxNKVsCKob580fPaez+CmG2YgOSmxyx2jiIiIeDbNJiZnTLOJeSbNJuaZNJuYZ+qOs4lVVFaioqLK/u38Wbh4GT6ylgstOioKl4wfY6aN753WCyEhwV4RBGk2Mc+l2cQ8j2YT80yaTcxzaTYxERER6fJioqPRr2/v875ER0fZR3Bh+Pv5oU9aL1x7zTRcecUUc0yhoSGqCBIREZELQmGQiIiIyDkUHh6GoUMHY9qVl5mKoH59+yAoKMi+VUREROT8UxgkHq+ttRXNTY1obmxAS7NKXb1dWxtQXgVs3+NetllLVh5Q77LvIN1WW3s7amsbUVBYhczsMmRmlSG/oArVNQ1obTsvPaJFPsbX1xfRUZEYOngQrp1+JaZPm2rGB/Kz1ouIiIhcSGqNiEdrtz75u+qqUV6cj6K8TFSVFdu3iLdi6LNwJTDjIWD6A8A11vLbp4B9h+w7SLfV1NiCLTty8O+X1+DXf/wQP//9B3j2PyuxYXMW6usVBMv5FxoSbKaNv+/uz2DihHGaLUxERES6DIVB4tGaGhuwcdk8PPfLb+D3X78Dbz/3O/sW8VaHcoDNu4DaOncwxGVPBrDFWifdEyuCWP3z6z99iL8/tRTFJTUYOyoNE8b2QWWVC/96bhl++ft5KC2rRZsqhOQ84GxhvXqk4p47b8P111xtqoFEREREuhKFQeLR2traUFtVhsLsDGQf3I3Sghz7FvFWGVnu4Ke17ejCgGj7XqCpGTg/8yvK2dTgasac+TtN17BhQ1Nw1+1jcfWVQzD9yqG467YxGG6ty82vxOLl+9DQaL3IIudQREQ4Rl88ArffegPGjRmFpKQEBAYG2LeKiIiIdA0Kg8RjuepqkXd4L0oL80yFENXVVOHwnm0oyc9GTsYeHNixEXu3rUXmvh1oaXF/SGyor0VhziHs2bLaLAyQON4QtTQ345C1/d6ta5CxewvKCnPNemptbTH35Tabln2A1R++hY1L52L3plUmjGpra7XvKRdKnQs4mA3sO8xv7oGeyUBIMMBZrhkSZVovZ6tepm6HAc+CRbsRFxOGKy8fhCmT+mNAvwSzTJ7YH5Mm9ENUZDA2bclCU5NeYDk3OD4QK4DGjx2Nq6ZNxYRxYxAfH2eqhERERES6GoVB4rEqSgqwbtH72L99PepqKs26krwsLH73JezZvBrbVn2Epe+/gnmvPYXlc15HQ10t2tvbUV5cgG1rFmHOK/8wC8Od6spyc1t9bRWWznoZH7z6L6ye/xayD6Sb9S1NjSjIPGDCn7mv/BMzn/oVXvnLT/Dmv36JOS//HWsWvIPcjL1oanSZ+8uFkVvgDn1Ky4HgIOCqyUBKIseWAgpLgbVbARWOdD8+1v+CgvwxbkxvEwAdKzIiGFGRIXC5mvXfn5x1nBk+wN/fBEETJ4zFdddchQljRyM4OFjTxouIiEiXpTBIPBbDoPWLZmHftnWoq3aHQcX5WVj0zn+QvnklCrIPmttWzHkdy2e/hpqqMjPgdFHuYWxd8SFWz5tplh3rlqC0MAetLc3WYxZi5dz/YcXcN3Bo91Y0NrpMxQ8DpLee/g1e+9tPsWrem9i/Y4OpBjq4axPWLHgbbz37W/z7N9+2HjtTM5pdQFvS3WEQhYcCn78bGD4Q4JiuJeXA8vWwXlP37dJ9xMSE4rm/fxb33z0BvXrE2GvdGP5wrCCOKTRoYJL1oV1VGnJ2+fr6ITYuFrffcgNuvvFa9Ovb275FujUGx/ymwCwKkUU8nflPXv+pewy2/zou0jmFQeKxktP64+aHv4VLrroZ0XFJZl3awOF46Hu/w5Tr7sKICVcgPqWX+QPBgCY/8wBc9TWoLi9BSUG2uT+VFOSYda66GuQd3oeWVnfpSEJKGnoNGIaG+jrM/9/T2Ld9PerrqhEVl4ixU6/D3V/9KSZY+45L7mmqjg7v3Y5Fb7+I4jw7jZDzbqsdBkWGAyMGAT2st8XoYdb7IhWorHaPJVRaATS32BtIt9GxAKO5uRVl5XU4kFGCN97aZLqQ+fr6YMZVQxEc7G/fS+TT4/hAY0aNxJcefcj6eRHCw8LsW6S7K1r3Jrb/+WZs++MNyPrgT3CVHLZvERFP09TUgvWbDmPeR7uwd3+hvVa6I7YBd+zKw+tW+++PTy7E7/7yEV793wbsP1hsKsTl4xQGiceKjInHiPFTkTZwBILDrE//lpiEFIyfdiP6DrkYA0aMRXxyT/j4+prxgvIP74ertgbVFaWoqSiz7puMgMAgMw4Qp6Svt25jGNTa0oKQsEgTJHEfrBravmYxyorzEMvHv+IG3Pbo93D5jffiloe/jUuvud08Vm11BTYsmYPi3MOmykjOH44DlJ0HHMwEyqqA2GhgwsVAWCgwYjDQuwcvHu4giIEQgyHpnjiz2B6rIfez38w1M4g98+IK5ORVmO5jPVKj4eeny558eswee/ZIwdQpl+Km62dg0MB+iIyM0PhAHqSxMh/VhzaaxVWcgbYml32LiHgSFo3U1Tdj9rwdWLU2AwVFagR2V/kFVXj9rY34x7PLkL4n37y2nEV2245c/PbPC/DBgp3mPnKUWsXisRjkRMcnIzwqGv7+7plcgoJDEJ/cy1oXg9jEHibQiYiKNQFP7qG9phsYwyCGQz36DkZMYipqK8tRVV6C2qpycx8GOQmpvcy2HKukKOewGZC6qcGFxJ59cdHEaabqiNsPH3+59e+pSO0z0OyjIOsgSgtzTTWRnD+cJWzTTusiUcxvf4C4GODSsQAn+Bk6wB0GMSNoaARWbnR3GZPuiR/SGfiEhwUhPi4MvXrGIiIi2Ew3v2VbjgaQlk/FjA8U4I+BA/tjyqUTcfllkzBs6GCND+SB2ltb0dbciPaWJuvfLdaKNvsWEfEE7D6em1eJbTtyTEjw0ZI9OJRZApdLwzl0R1XVLmzdnoO3Z22xPvf5YtiQFDOJCCcV4UyzZeW11uu8C1ut15sBkbgpDBKv5R8QYCqD2J2MAU9Oxl7kZx1AVUUpAoOCTfVQ2oBhZkygqvJiE+JwEGiGOr36DzVhEAeELivKQ5s9BVVMfBKSevY1/3ZExSUhsUcf8+92qzHJsKm+Vt86nE8MeZZvAErK3L8z+PG1PrftzeDFwx0g+Pq5g6K1W4CiEs0q1l3xA/lwqwHwu5/fij//5jP45f/dhPFj+mD7zly88N/VprGgvuNyJjhbWGhoKPr27Y1rrr4CV115Gfr37aMQyEswGGquKUVDSSbqCw+goSwbLa4atHcyU2hbSxOaa8vRUJqF+oL9qC86aN0/x2xvKow6/A1qa25AY0WeeTze3tpQaz1uNRrLc83C2+Xs4diQNZVlKM7LRN6hfWYikPzM/aYKnMMBHHt94Ayz5cX5ZvbYmkrrNa2vMz9L8rNMm5G3cTvOKHusNmsd23u8LyvLuR/ul+1Ad4W4rkUXUnZOOdZvzsTcBbvwyv/WIzOrDI2NGiegu8rJrcDGrVlWG74GX/3CFbjz1jEmCJo6ZSDuu3M8HvrsJBw8VIKNW6y/y+oudoTCIPFqHM+nR7/BJuDhNPQ5GbvN+EAh4ZHoPWgkeg8cjpCwCFSWFiNr/07kZbq7iXGsoITUNHPxb3TVHWk8BIWEITQiyvzbERwS+rF1DJCarUalnB98aeqttveqje5uYLRjL/DYj4DPfBm462vAmx+4wx+OFbQnA8jKA2pUvNWtdBbw8EN6vz7xuPfOcZg+bRiWrNhnGgnsTy5yukJDQjBoQH988dEHMXniBMTGfHywcvFsrtIslGyehcOzfokDr34b2fP+YrqQtdQf2+WgHU2VBSjf+REy3/8N9r/8DRx87XvInv8XlG6ba4KkNnvsQWoozUbu4mfN45VsnYOanB2oyliP3IVPIXfR03CVZNr3lE+LX8hx4o9Ny+Zh5tO/wdM/+zL+9N378Pyvv4U5Lz+JAzs2ovWYST443uPCt/6Nua/+E1tWfmjagltXLcC7z/8RL/72e/ho5gvI2L3lyKy1HdXVVJkZbd957vd45udfxXO//AbeeuY32LBktmlrtrWq2uxCYpfyLduyzRiD/fsmYED/BISGBtm3SneTlVNuqsCvvGwweqVGm1lmHfz3tMsHISI8CEXF1WYRN78nLPa/z6msnGzsrw5GQdsnp/2V7inKpxYDAgsQENsPPn7ublhdDQeGPrxnKw7u3GS+iWHXLY7l42i3/seuYRzzp7mpAYFBISgvzkNIaDim3vxZ+Pn7IyN9s7mgc0aynIw98PPzx/Q7HsXAkeP4AOZx2UBgNzEOVJ2c1g89+w2x9wAcsvbPaez5jRBNvvYO9B82BsGhXXOg0ZbKHMT5r0dC2G57TfdWYbXT128F3vnwaMDTZrW/XI3ukIgLK4K4zsGBpdN6AKmJ9goP0NIWgszyq63n5IuIUM8JQ2pqG7F7byFmfbADcbFhiIkOtW85KigwAAVFVfhw0W7cfN1FSIwPR2CgZwwkXVIRgIaWWPROS7PXyPGk796L9D377N9OT88eqbj8sktx683XIykxEYEBAaoIOk01tTU4mF2Ava190Yyu2WboqGr/GlTuW4n21ib4+Pqjcu8ylO9aiLqcnWgozURd/l5UH1iDtpZGBMf3hn+o+0ufqoPrkLf4GeQteRa12dvRUJaFxrJs6/57rMdcjYrdS+EXbP0NikoyP+vydyN3wZOozthoKoqqD65H8bo3UXNoA3z8AxE9cBKColPMY3dVKb4l6BHSAP/orvt3qLmxwXTVf+XPP8bK+TORsWuzGfOxurzMVPdkH9yNQ7u3mGEBeg8aYYYa4H/jO9YuxpJZL/9/9u4CsK3zXB/4Y7FkZoY4dsBxGAqBNknblHFtt27roOPdwd3d3e62//Bud3C33XXcYWFtV+Y2bdokDaPDDpmZQZbFkv/n/aQ00KRNsiaxj57femb5gCT7xNKr97zf+6lJQqSf5LZVL2Lr6pfUbLEy+2zDgd0qOSQ9J+UiYWJKmno8qTh67fE/4/kH7sXhPVtVO4GezhY1WUntvirUaEv+uAlwJCSrSvVRJxxEsK8eRVnDuooZjpWfk4yZ0wtxybxSzJhagO7uIZhMRkwoy0L5eB0FgMdQMYPPgKIc/V2UHnZrr8VWM6ZOycP4cRnqXB4hw8IGnB488+Iu7T08CZcvmKBaCOhJU4cV9vhcZGee2b9dVgZRTAlrn/ilH5DK4miS0zKRU1iq/fEkqKFecgVIhn3FJ6cht2g8isqkMihJTRNfW71DCwwMyCsuR2pWjkocWR0JyCkuQ3xiskoSdbbU4eDOzejtiAwdk/uqq96phpfJEAN5POlV5EhIUo9P555UA63dBri9clUQmDYJ+NAtwN23HV0++j7gqoXQ3jgix+yoPjoFPY1u8nnc6w3guRd3orGpD6GTXGmVAMGpBQFGYxxSku2q5wvR6ZCG0NOnTsGyKxdj0fxLkJebA6vFwkRQDJF+QZ6Ow2rYlzU1D4mlc2DNKEbQPaASPH27XkHf3tejewMDB9ZiYP+b8A92wZyYjqw5tyL74jvhyC5HwNkDV8te9FQ9D99Au9pfehLJfQeGulVyafDgWjVzmVxkMztSta8WtR/9a3q0eOzNFx/Frk0rVUxn1v6OyyrnYsG1tyNXi+Pkgl79wd3YvuYVNdmHVHELn7ZehpX1d7Xh0O7NGBrsQ15JmeoJmZqRA2d/t0rw7K9ar23fqqpUA36fuo/IpCENsNjsmLXoasxeeA0ycwq1++pA9ba1WP7ofSqhRBdGSooDeTnJKMhL0V7bk5GUaIeJk0yMWSVF6Vh4aRlmTit82wU/mS1uw+Y6lRTKyUpS554i+C+edE0CdovNAUN0hpfezhase+Vx1FXvUGO8rdo2mQFM+gZJFdBAb6dKGMm6hOQ01RA6ISlF7dvf3a6u3oyfMhOJKRlqFjKLxar6Dk2adam6GtTX1a6uIr362J+w6rmH8NoTf8GOda+ppJDZYsPUixYjK78YJu04Ovek2kf6/6zfHqn+SU4EFswB7rkd+Pixyx3ATVcAhTnQAgGgphGobeJQsbHAYjapaqBBpxebtzVgT3WbqhY6wqXd3r6jCXv2tWFqRb6qHjKb+dZH70yakMvsYHNnzcDiyxbgojmzUFiQBwOTQDFHKojDIT9SKxYj77J7kL/4U8hd+BE48iaphI2rZR8GD65TfX6ksifkc8OckIaUCfORddGdyLv8Hm35BFImLoTRkYKRYADO+u0IDkfHLR9DEkTmhHRkzb1VHZM+41pYklhR/6+S5IxUBW1a8QwGejrVhbmZ86/C1Xd+Csvu+KT29dMoq5wDk8miJgrZ+OrTcA32azHE0YoYSfJILChJoCve93Fcdecnsfjmu1VCyGgyq76S0hdI+gTJxCLV29epJFFiajrmLbkRV2rHLNOOueiKm5FbUq76Dm1Z9aI6xud1Rx+FiM6WxILFhWnIzEiAQRqDauTvVoYBrt9ch+de3IWSwnRMn1oAh330V6eeL4yISdckCaRmD0tK1d7kzdqb/EE89rv/Vm/AUgosJOlTNmU2TGaLaiyYnJqhSn2lkkcSQTIjmQzpkm2yT9nUuUhMjvSKkIRQfGKKGnom683a9pp92/HEH3+EB/7363jqvp9oAcFalUQqmjBFDT2T++ZV5fPDNQw0tgH7Dkf6AY0rBOZMBebNAGZNOX6ZMw2YrW2Tam0ZWiaVQQ0t0TuiUctiMSInO0k1Cdy5pxlPPbcDb647jD37WrG3uk1NE/vqG9Xo6BzE7bfMUmXB/Pujd2LWXgQy0iVgnIJbbroOc2fPRHp6ZOgHxR4ZImZNK0T2JR9AzvwPIXPOzci77GNIrViikj6S1JFKHl9fm2r2nFgyCxmzbkLm7JvVPmr4WJwWbhuM2n8m1bcm6OpViaMTGcx2pFVeiXG3fAfFN3xdJYVkOBn9a6SJs1QDydAtadxcMmk6Lr3mdiy47k5MmjVfJXZmLlyG9Jx8lQQ6vHcr+ro7EJSrSFES70kS6eIrbsJFS2/GrAXLcNUdn0BucbmadMTnHlZ9g4KBgGoP0NfZqtoPJKakY/KsS5GamYu07HzVRiC3eLxKNMlFxnbteTn7o7NbENF7xu3xqz5CazfU4PGnt6O1bQBLL5+IubOKo3uQYDKIdE2SMxNnXKS98U9DkvYmLj2E+rvaMaC9ycv4cSHTzJdVzlaVO/JmL8mfI7N/iay8YqSk56ht8oY/Yeo8lUA6QtbNXnQNbvrolzF9/hWwat/LcCQ1Rb0WFEj10YTpF+HD//4jzJx/pQoM6PyQRNCeg0AwKFViwIwKYNwpWhqkpQAXzQBsVu2FUXtlrG8Bdu2PbqRRTRoCfuULV6CsNBNPP78DH/rk33HnR/+qvt7zbw9h34F23HjddHzwjnlwODjkgt5ZZkY6Fs6/GJ/82IcxvrQENnlRoJgl1T8JBZUwJ2ZotyNDD2ToVlKpFjckRGKBcMAD/2A7DCarquZJn3EdDFYHOjc/joMPfAG7f3kjml/+hZox7J1YUnJUxZH0IKL3jmuwD/09kWF5Ir+kHOnZ+dHvIvKKy95aJwmjnvam4yp2pBVAdkGp6vEjFwvFkeH/0l9IkjtSFSRfpUpchpcJmaVMegf95Udfxh+/9zm88OCvVXX6Ed3a4zj7uqLfEdF7QSqCDtV04Tf3rcZ3/+dFNLX04UffvQnXXz1VVQ7RUUwGka5JAsfuSMRtn/ov/L/7nsd/P/A6/us3T+L6D38BmXmRYEuSRJde/T788MGV+OVTW/H5/74PsxYuU9vElbd/HP/12yfVtu//7TUUT6xUCaATlU+bhw9/5X/w3b8ux1d/+Qg+9Z3f4Cs//we+fd8L+PR3fqsSQhwedn6Vaaf4Sx8FNjwZWb75OWDqxOjGE2SnA3deD7z2QGTf+34IXHt5dCONahKQZ6TH4/OfvAz/+MvH8OSDn8RPvncz/vvbN+LJhz6Fe396B66+okIN/WFNEJ2KVIzNnD4Vt918PZZduQR2O6vIKPLvwmBLeCsRJGSd0ZaoxRjRddoHD5khTJb21X9Vs43VP/09dG99Ss0eZknJQ0LJDNgyx0X2PwVLYiZM9uNnJKV/nVT4+L1Hp+h3JKXAZj9+Eo/4Y9aNhEfgHXap2WOPkHMu26W6652o4WQup5ptVo4J+DyqL9CRRdoV+DxudWFQFrloqd175GAi+pfIxXhpG3Df39bhv3/6Mnp7h/Glzy7Br392J6ZNyeMFwZNgMoh0LzJUrADjJk3HpBkXq/4+0iPIarer7TJ8LCk1AyUTp6K0YqZqJCjVQkdIpVDh+Mlqm8wwIdPHS5LpRDIFfXbBOEyYNk9VCF205EbMXHClSgLJfcp2frA4v7TPcsjLBqZPjiyFuVrAFzntbyPDwzLTgMqJkX3LSiLVQjT6yZ+V2WREbk6y6gt0yUWlWHDpeMy/eDxmzyhUFUMylpx/fnQykkxMSkzE0sWLVKNoGR6Wlpry1tV/im0j4SC8PY0I+45WiYyEQ/D2NiPkj6yTWb9MtkR4OmvRt+91OGs2IhzwIa1iMcbd+h2Mu/n/IX3aNW9VEp2KQbufY5NO9N6QBs4Sgx0h1eEyHOxY0kvI5YyskxhP4kBpDXBUnBZPGt71fUTivHg5VostRd64iXj/F76LD/37D7XlR+qi4Ue/9jN88v/dq5YF196JrDzOBkn0r5Lm0HUNPfj7QxuwfWcTLppTgrvumIurlk5Ws8PFx1u193UGgidipEMxw2AwqqFgcmVH3uBlZrD3mgQBct+JyWlIzylQV32kiohJIKLzw2QyIN5h0T7MxyMtxaFmlOCfH52K1WqJTBu/4BJcsXgRKismIzWVWWA6SmYTc7cdgKenESHvkEryePta4azdovoFyTAy6QskjZ49nTXwdterZtIy81j2Je9HzqUfQtrUq6L9hQai93oK8mLFF6z3nCR2ZAiYJIUkHpNp5Jtr98M9NKiGdUkiSGaTlSbQMpmIVAll5Baq/c+UDCeT5I7VHpmtyO5IUBcj5199Oy674S5Mv3SpunAosaLMaCbDzOycYZboX9bR6cSW7Q1qmTYlHzdfPwOLF05Qs8XxZfXUmAwiIiKimOOw21FUWID5l8zDLTdeq/oDydAwomNJFZD0Axo4sAb92jJYswm9u15W1T+S3JFeQvasMu1rJkI+F0ZCAXWcJIkM1gT4+lsx1FCFofrt8PbINOIjkCbS8pXOj/jEZGQXjkN+yQSV7Gmp3Y/dm1ZqyyrU7qvC9jdfVlPDS09J6QkkDaZTs/JUL6AzJfefpz1OmhxvtaG7oxlrXvwnavZuVwmnHWtfw8uP/B6P3PsdPPu3X6rnIj2KiOhfs3tfKzZtrce4kgx8+P3zMKEsC2ZzZDZpOjUmg4iIiCimSHVAeVkpbr7hWrWkpBxtCkt0vDjVG6ht5R9R/fsPYe+vb0fNI19VQ8JkyvnE4hlIq1wKg9kGW3qxSgDJMVJNVPv4N1H/9Pdx4G+fRtfWp1Q/CyHVRghLQojOB+nzk1dcjiW33A2bIxHOgV6sevZB/OKrH8SPP38rfvvtT2H/9vXw+zzIKSzFlbd9DI6EJPU6caZkmvmi8imYetHl6jG7Wxvx3N9/if/98p34H+2x/vyjL+PN5x9WjaNlhrEUbZH2A0T0r9m9twU1dd2449bZsNnNCIXCJ11kOBkdxciHiIiIYoJ8uIuPj8d1V1+J22+7EVMrJ6vG4kSnYrDYkDHjOqRWLIUpIV0NAROSIEqffg1yF30EKZMWqX4/SaVzkDXnFvVVKoqGW/ahd8+rMNmSkDn3VmTOvgmq2XTQD1fbfnj7WtR90bmXkpGNS5e9D+///LdROmm6GqYV8Pkw2NuFsPYBUYZ1zV18A279xH9i8uwFagjXv2LBNXfgmrs+iylzF0k6EQPa48h0897hIaRl52HRdR/A7Z/5hprZjIj+NcNuP5xDXmzaUoePfPp+XH7t/2HBVb846fJ/v1uJrp6h6JEUNyJt78+DNevX4YXmFFQFK6JraKwrMrRjWXwV7GVLEWc+83HVNDp5G9aj3HYvJmc9GV1DeuANpmJVzY8xp9KIvAx/dC2NdfvqHBjwlGHR/AXRNXQqzz7/MtZv2oJLL5qLGdOnIjcnm9PGn0et7W1Yvm47nvUvgXtk9McMruY9cDXu1G6NwJZZqoZ/+Qe74BtoV72DLElZcORNRHzeJFiScyIHaWT2MFm83Q3a/h0wa/vZM4q1fbLVbGPu9oNqv8SSWbBnlWr35cLAwbUI+93afWYjvqACtowStc9YMctUjblpA7CVzI+uGZ1k6nfpC9RwcA+6Wurh7O+Bxz2segqlpGehoHSSWpK120fIMK6Gg7vh93mRlpWP0ooZatIREfD7cKBqA/q6I9PWSy+gSTMvUbflsXo729BStx9tDYcw0NOt+hM5EhKRnlOoPc5EFJVNUUPJRmNfyZGAB56aNzB/SmdMxAz+QAh7q9vg8wVRkJ+CwvyjE8noicQM/U4TFsyIJLX1IqCdv117WrBHO4fv1iR60oQcTK3Q38xi63Ymaa9RM7WfbUp0zelhMojOGpNB+sRkkD4xGaRPTAadvp279qKtowMXzZmlmkRzWNj5NdaSQScjw7tkBjFJ4JgT0lU1kPZJPrr1KAmtw75hBFy9qqeQQYuRTjYLqV6MlWTQESPhMLxuF1zOAXg9LiQkpSJeW6RH0HudmJEEkCSSnH09kWRQfCIciSkwyRSmo1isJYNihV6TQTRGkkErW6w4EBoXXUNjXY6hBxfbDsJaOBdxRl5d1Qt/+y4UWh5DSdrK6BrSA18wEdtbP4fJpUZkprBZpV7UtdrgC5cyGXQa/P6A9mEszGqgC0QPySA6ubGWDKJ3x2SQPjEZpF9jIhnUogUC2kNGVpAuxKnZMLRzytOqH+olYQRxceflpYHOF+10jsBwsovYNJZp5zUvN4/JIBr1mAzSLyaD9IfJIH1iMki/xkQy6PUWGw4ES6NraKyTyqBL7fthLbqIlUE64m/biSLrIxiX9np0DemBL5iEbS1fQMV4VgbpSW2rDd4QK4No9GMySL+YDNIfJoP0ickg/WLPIDrv2DNIn9gzSJ/YM0if2DOIxgomg/SLySD9YTJIn5gM0q+zTQaxeyIRERERERERUQxhMoiIiIiIiIiIKIYwGUREREREREREFEOYDCIiIiIiIiIiiiFMBhERERERERERxRAmg4iIiIiIiIiIYgiTQUREREREREREMYTJICLStZERIBwGgqFTL6HoIvvJ/qQfI9oJPbIQEREREVEEk0FEpGv1LcDP/gTccA9w5Yfevlx1N3Db54AvfA/49QNAczvgD0QPpjGvamczVqw8gN1726JriIiIiIiIySAi0jWPF6hvBnZUA9v3nmTZA6zfDrzyJvCPZ4Ef/hbYqe3r80fvgMakUCiM5tZ+PPLEVjzxzHYcPNwR3UJEREREREwGEZGuyeggGQIWCEaW4nxg6fzocimwYA4wriCyrfow8MyrwJZdQE9f9A5ozJEhYUMuH55/eTe2VjWioakXff3D0a1ERERERBSnBc3npZHCmvXr8EJzCqqCFdE1NNYVGdqxLL4K9rKliDPbo2tprPM2rEe57V5MznoyumZs23sI+NXfgGdeA9we4O5bI4uQV79hN3CgFli5EXhtbWT9x94HfPQ2YN6MyPd64A2mYlXNjzGn0oi8DH2XPbmGfdi3vx0//N9X4PUGkJmegEXzy/GZexZG99CPfXUODHjKtJ9vQXQN0ejU2t6G19ZtxZuBOfDCGl1LejDJWI+KpCFYcqdH19BYNxL0wdeyFdPG9SEzhWPn9aKuzQbnsBEzynmBTG92Ho5HTt4MTK2YEl1zepgMorPGZJA+6T0Z9K3PA//v36Ibo1xu4PkVwCe/GWkivWwh8Om7gGsuj+6gA7GSDJJ3tD3Vrfjz/euRkmyH3x+E1xdExcQcfPrjTAYRXSiSDJJYcARx2kJ6EqcW7azGyS3SDe0NladUfyRO4nnVHzmvlRVTmAyi84fJIH2KxWRQTSPw6AvA//wu8v3nPwx8+BZg+uTI93oQK8mgpuY+rFi5Hy8u34sffPsGrFl3GIdqu5gMIrrAjlQGrQpcBM8IK4P0ZLKpFpVSGZSvo3LaGKcqg5o2Y8b4PmSmsjJIL2pbIpVBMyeyMkhvdhyMR3YuK4PoPGIySJ/0ngyaP1tb5kQ3arxeoL0L2F8LHKiL9BSShNFVC4H0lOhOOhALySCPN4DnXtyFDVvqMG9WCW6+YToee2o7du9rZTKI6AKTZNDyddvxrH8J3COMGfRklqkac9MGYCuZH11DY91IwANPzRuYP6VT90PLY4nEDP1OExbMcEbXkF6s25mEtKyZZ5wMYgNpIoopO/cD9z95zPIU8NzrkaSRyQiU5ANFeUBSfPQAGjNkGvnqgx1ISXZg2RWT4bBboluIiIiIiOhYTAYRUUyxWYCUpKNLVrq2ZADJiZHxtjKrWEcX0M+LJmNGODyC3r5hvPpGtXY7jCsXT0JmRiIMBg6KJyIiIiI6GSaDiCimXLEA+MnXji4/+HfgM3cBl8wC/AFgzRbgD48A67dFD6BRT4aHSSJI+gVNLMvGgkvKoluOOi/joYmIiIiIxggmg4gopsgQsAVzji5LLo1MNf/x24GpkwCzGThUBzR3RCqFaHSTqePr6nvw1wc3YMrkXEypyENP3zC6eyOLTDPv8QQw5PKp6iG5LZVERERERESxjMkgIoopFjOQmHB0keFhmWmRxaptk4FFMtW8xxuZZp5GN7fHj4amXvT1D2P9xlr85f71+OHPXn5reXH5HmytasArr+3Fz3/9OrbvaMLQkHZyiYiIiIhiGJNBRBRTXMNAW+fRpakN2H0AqNoHdPYAoTCQmgwkOoA4tpwZ9cwmI3Kyk/D+2+Zg5vRCZGclIi3F8dYSb7fAZjUj3mFFSrIdVpuJvYSIiIiIKOYxGUREMeVgPfDiyqPLs68BDz0DPPlKJDEk1UCVE4CSQu0Fkq+Qo15iog1zZxXj6/9+Fb77jevettxw7TTMm1OC66+uVPvIvnIMEREREVEs40cdIoopy98EvvSDo8vXfwr89kFg0w7AqL0i2q3A0vnAtEnRA4iIiIiIiHSGySAiimlGI5CUAJQVA9cvBe79LnCj9jU7I7oDERERERGRzjAZRES6lp8DfOx9wG++B9z3P29f/vhD4NffBf7nq8CXPgpcuUA7Jlt60UTvgMa0RZeW4a7b5+LyhROia4iIiIiIiMkgItK11CRg/hzgrhuBu295+/Khm4E7r49UBV0yK1IRJNPLkz6Ul2XhojklmFieHV1DRERERERMBhERERERERERxRAmg4iIiIiIiIiIYgiTQUREREREREREMYTJICIiIiIiIiKiGMJkEBERERER6VY4HIbf58Xw0ACGnQPqNsW2UCiMto5BbKtqxMo1B/HG6gPYvK0BLa0DCARC0b1orBse9uFQTRdq63vgdvuja+kIJoOIiIiIiEi3fF432hoOYffGldix7lV0NNVGt1AsCgbDOFjThZVvHsTzr+zBS8v34oXle/Dcy7uxYtV+VB9ohz8QwshI9AAak+Qc1jb04Mlnq7BqzUH09g1Ht9AR5zUZFIcR7QHDXPSyxIW1s6q9Ssor5Yh2m4s+FnVOtTM8YuKis0XIKQ5z0c3CQJWI6N31d7djzYuP4t7/+hh+/pW7sOHVp6JbKNaEwyMYGHTjp798FX/4yxr09Q9j9swizJtdgmGXF3++fx1+rG3r6h7S9tXeaGnMknP4xuqD+MVv3sD6TbXaefdEt9ARcSOa6O1zas36dahp64UHtugaGussCCDB4IXBEq/9S2KRmV6M+IdhMfTCahqMriE9GBkxwuXPgcMaB5OJwY1e+PwGpKcXYNH8BdE1RKNTa3sblq/bjmf9S+AesUfXkh7MMlVjbtoAbCXzo2tGn7bGw3j9yb/h5Yd/D6/bhff/23e15TvRrXSikYAHnpo3MH9KJ/Iy9DW0ZmjIiz/8dS1272vFgovH44ZrpyLeYVXbZBjRMy/uxIbNdbh47jh87IOXICEhsk0P9tU50O80YcEMZ3SNfklV0COPb8WDj26CxxNAZUUevviZxZg6JS+6h76s25mEtKyZmFoxJbrm9JzXZNCGFqAhrM8TEIvS4wYx1doAc/YUxBnN0bU01gV6DiPbvAJ5iVuja0gP/OF4HOh6H8blG5CSEIyupbGutVsLUk0lTAbRqMdkkH6N9mRQV2sD9m1bi81vPI/tb74Mv9eDRde/H1e+7x4kpWVhoLsdrqEBxMXFITO3CBOmX6SOk2qi1vpD6OlogdliRfm0uUjNyFG3Zdv+qg0I+H1ISs1AQelEZOYVQz5WBQN+1Ozdpo4d7O2C1zOMxOQ0pGXnoWTiNOQVl8NgNKrHGK30nAzq6XXhU198GJMm5ODm66eriqBjvb76AF58ZY+qIPr+t65HaoojumXsi6VkkFQErdlwGA2Nvepv2+Gw4LOfWISpFUwGHeu8JoNeaE5BVbAiuobGuiJDO5bFV8FethRxZgZ2euFtWI9y272YnPVkdA3pgTeYilU1P8acSqPuArtYJoHdgKeMySAa9ZgM0q/RngzavuYVrHr2IRzesxXdrY0IhYLIK5mAyrmLUD51Lnq7WtFwcI+qGJo8az5u/+w3YTSasGfzamxZ+Txqq7VY15GIK973cUyZvQDxSak4sHMjnvj9jxAI+FChrZu39EaUTp6JoYFe7NrwOnZvWomWugNw9vXA6x1GQmIqUrNy1eNNv3QpJs28VCWV5EPqaKTryiCXF395YAOmVeZj2pR8ZGYkRLdEvPHmQSxfsU+dm29+9WqkJOvn9SoWkkHSGLy9w4k/P7AOZpMR+Xkp2LOvDYFgEJ/62EImg07AsT1ERERERKRL7iEn+rra1CxiYdUbEXAN9qGrrRFD2tdgIIDGQ3tUEufgzo2R/cJhNNfuR/W2ddi3ZQ32bV2DQ7u3qAoiSRpJM+od61/D3i1vwu1yquSRzFRWvX0dnvrzz7DmpX+ifv8ueNxDsFht6OtuV/u+9vifsOKJv6jjJSlF519igg1f/twSLL1sokoESV2EzB4mQ8TaOwZR39ADt8eP6VMLYDGP7gouOp6cS9ewT1V39fYOY2J5NubMKo5upZNhMoiIiIiIiHRp0sxLsOzOT2HaxYthsUR6l85ccBVu/8w3MHfx9aiYPR8JSanqg6QkdtobDiMcDKKnvQmDfd2qQkQSN231h+AZdmnrutDd1qTuR9uIwrIKZOQWqhnKXnnk9yrRI0PF8krKsPC6O3HHZ7+lHjsxJQ1DA31qeJlUKvncnNnoQjm2IMvnD6KjawgHDnXikSe24rWV+2E0GnDVksmw2dgGYyzx+0NoaR3AfX9fi3lzSrB40QQYDaOz+m60YDKIiIiIiIh0KTUzF8XllUjPKVC9elRvoLxilFXORU5hKcZXzkZiSjriDAZ4hofU8K5g0I/ejlaMjISRlpWnHWNAW/1BeLXtA72SDGqEwWBESnq26jMk5LhDu7eqRJAMB7vmrs/hlnv+ExctvQkf/6+f4+Irb9HuKxf93R2oWrMczv4eVgddYNIXaFtVEz78ib/jk198GL/542oMOj2YXlmgKoiOTRrR6He4tgt/un8dliyaiFnTC5Gio35P5wqTQUREREREpEsmsxkWu1316DlCbtsc8bDYbEhMTkd2QQmSUtLhdg2hqaYafV3tqv+PIyEJheMnIz07T61zDfajt7MVXa2NMGr3WzJpGpLSMlRFkTSaliFkUmEkxxRPmKoSSQnJaSr5NG7SdKRl56tkkSSC5H6kmTVdOJIYHFeSjs99chG+8m9L8Zl7FqEgL1VNQ/7ks1VqFioaG5qa+7C1qhGdnU5cf/VUFBelw2RkquPd8DdEREREREQxKA5Gkwl54yaoxI1n2InGw3vVVPRu16CaKax44lTkFpfD7/Oo3j8yjEz6DZnNFlUBJMker3sYw87+6H1CJX1kWNix5P4l8SSkImiwvxsBPyd0uJCk8ic/NwV33Dobd90+Bx/94MWql1AwGMY/n9qGvv5h1ZCYRjfp8bRleyOqdjZh5vRClJZkwGCIw7DbD483oJ3PkOoL5dVu+3xB7Zyel/mzxgQmg4iIiIiIKGblj5uohpFJUkd6AzUc2KWqfWQYmFT4yNTxRpNZJYIkWTTQ0xmZbn7qHCQkp2r3oH24PObzpVScyHKsyLroN0JN6MwPpedTMBSGc8iL5pZ+eDzHJ+Lk/ORkJ+GqpZNx6cWl2LmnBT29wwgEmQwa7eQ8bdvRqPo+FRakqnO3YXOdWnbsbkFbx6CaYUxuHzjcqf0bYEXeEUwGERERERFRDDk+CVNQOkk1gZYhXP3d7di/fT2c/b1ITs9CUfkU5KtkkAmH925Tw8hkP1t8IkomTkN8YrK2pCApPVO7p0i2R5JGvZ1tasiYkN5D7Y01aqiZkPtKzy6A1aafacvHgmGXD7v2tuK+v69DXWNvdO3x0lLjkZeTom7LNPRSVUKjW1eXU1X9SNLnR/+7HF/5xpP48tefUMtPfvEq3lx7COs31uJn//cq/v7QBtTWdUePJCaDiIiIiIgoJkiCJhQMqoTOEWlZ+cjIKVA9ggLa+gM7NsDndatkUE7ReOSXTILRaEb9gV3obKpTyR/pAWRzJKhG0tI3KKegVCWGpBF1bfUOHNq5Cb0dLdrjBNBwYI92nxvR3d4Mq82hegilZ+fDbGUy6HwymY1quvjlK/apHjMnq/rp6XWhtbUfZpMBuTnJsFk5o9hoN2VyLr725avw9MOfetvy65/djuuvmYZrrpqCX/30drWf7E8RTAadYLhtP2r++XUcevCLaH3jPgy3Vke3EJEeeH3All3Al34AfPH72vI94IGngMbW6A40Zm3aWo+nntuBx57a/rZl+evVqG/sVSXiREQUW0wms0r0SKJG7Nr4Bp77+/+hettaBPw+mC0WVRmUXViKkXAYw0ODSE7NREp6ljouIycf8UkpCPi8qneQTEVfVjn7rabUZosNuSVlmLvkelisNvR0NGPNS//E/f/7dfz9Z/+Jh3/1bZVg8ricSNfua/7V71P3Z4g+Hzo/rBYTsjMTkZxsx+urD2DVmoNqiNERvX3Dav2WqgYsXjQRKdp+Ms08jW52uwV5ucmYWJ79tqWkOB2pKQ6kpNhVU2nZT/anCP7rPoGvrw2dGx5F+9oH0Lfvde37lugWItKDrl5g3TbgwaeBh7TlwWeA514H9h6M7kBjjlThS2NASfi8+sZ+HDzcqaYXPXaRK4BDQ14tyGd/BiKiWGOPT0TB+MlIzciGyWxBw4Hd2LjiGdTt36kqd0RGTqEaLiakeigzr0hVBhmNJtgTkrTvC1WiR7YlpKRhwtR5qom0kKROVl4xLrv+LsxccJVKIDUd3oeNrz6FVc88gG1rXsZgX7dqVC1Tzc9dfD2HiF0AJpMBGekJuOWGGejvd6sZw/58/zr847EtePSJrbj/4Y1Yu6FGTSt/521zkBBvPb7PE5HOMBl0opEQQn43wj43RgJ+7YMDx4kS6UltE7B9b6RCyOsHfNpyqA7YUQ2EWTQyJklgLg0hZRYJ17APFZNyUTk577ilrDQTKSkONbsEERHFFkdisqrkmbXwalTMWYii8gqkZeaqIVtHGj1L8qdi9nxMmnmpWirmLFAJHiEVQFPnLcaUuYvUtonTL1KzjMn08kfIrGJTL74c137w8yrZM2H6PJWAkpnFpLeQ3PflN34IS2/7mEo6SUNqOv8cDgs+8L45uGhuCZxOL5a/vg9PPFOFp57fiTfePAi7zYIbrpmGKy6fBJuN52iskyqgkuI0jCvOQDwrgt4mTguiz8tl0jXr1+GF5hRUBSuia0anvj2vYe/v7kLIPYj06dci/4rPIG3asuinRPlVaW8YcQbtP3njePuHCmkQB7Uc+bXK/tEZBbTj3qLtE9k3+v3JqOO0Y0ZpSrrI0I5l8VWwly1FnHn0X92Qst9w9Nyof/by+5X/GQxvK9OV7bK/9v/q3Knzpx1y5Hg51hA9N0eCiGPJ8WFJJMr9aN+rx5F9tcc52f6jibdhPcpt92Jy1pPRNfohp+6vjwO//CtQ3yxX8iLrTEbg6suAv/0UiHeM2j+5f4k3mIpVNT/GnEoj8jL0NZWtVAXtP9SBH/zkZSy4ZDy+/Lkl0S36t6/OgQFPGRbNXxBdQzQ6tba3Yfm67XjWvwTuEVZE6MksUzXmpg3AVjI/umZ0k15AXrdLi9PCsDsSYbUfTQi9V8KhEJz9PejpaIHL2a/6A0lPIukxNNrjQDES8MBT8wbmT+nUXcxwLI8ngP4BtxoeJp/tCvJSkJRo0+2FI4kZ+p0mLJjhjK4hvVi3MwlpWTMxtWJKdM3pMX5PE719TjU2N+GQ04b2sHTaH708XbXo2vqU9iLogyOnHLaMYgRcveja9Bi6Nj+BoYYdCAd9MDtSYbRqnxqPEXQPwtW4U9vvSbVv765X4GzYjsBgh/rEabQmwGCyIOhxwtW0C11bnsLggbUYPLzhpIunsxZGix0mhzSj0z6tjjLJcS6UWdphTitFnHF0Z86lGeDhPVux9qXHsOaFR7Dy2Qexe+MbanrQgBYUSCM/lRCKvkFLw78Nrz2FvVveRH93B/weD7rbGrFRW7dGu4/W+kORmSS0N3WbPV4dc4SMJe9qrsfaFx/Fmy88iq0rn8fBXRvR29mKxJQ0WK12GIym6N6jT3CgGemmzciM11+/rO4+4OXVwMoNMpMHMHca4PYCwx4gKQEoKwHysqWMOHqAjgTDdjT0XYG8LAMSHfqqeJRkkMwO0tDUi8kTczC9siC6Rf+6+83wBtNQXFQUXUM0Og25hlDT1I4DoXEIgFfb9STX0I18uxemlLHxOmQ0GmG22lRVkAzzOtJH6L0k9yl9hJJS0lVlUFJqhnrMMdMjKBxEsK8eRVnDuosZjiX9gOwOs+opk5YWD7vNrOseQSpm8BlQlOOLriG9aOqwwh6fi+zMrOia08Nk0AmOTQYZbfHw9Tajf/+bGDy0HsPNe+FuP6CaSkuCyJZZou0jGX4DvD2N6Nn5ElpX/B4DB9fC1bQb7o6Dan+5PXh4o7p/c3waRkZCcNZsRMfaB+Cs3wpX8+6TLkFXH+zZZbBlFCFuFCYPxkIySDUBdPbjzecfxqrnHlIJoIaDe9T0np0t9WirP4SWuoPo62xDdtE4NX5bZoVobTiE5f/8I6q3rcNAT4caU75j3WvYs3k1Gg7s0o7Zj9p9VejpbFElxDI2XN7g+7V9d29ciRce/DV2bXgD9dpxrfUHVfKo+XA1WmqqkagFBomp6W81HRxt9JwMksbRr60F9tdEkj9f+hjQ1gF0dEeqhGTdvGmAdXSemn+JnpNBXl8Q6zfXqit8kgySZoEybCwUCqugTs9Dw5gMorGCySD9GmvJIKnMkZhNlnNZpSP3L0PBJOEkfYfGQkXQW2IkGSTnxKidJ5PJqPoJ6X0oOZNB+nW2ySD9pj7fA97eJgw17VKJHpMjRVUC+frbMHBgDbq2Pq0qf8IBj9p3uGUfurV1/dUr4Xd2wZZegISCSlVB5Greg97dy9G9/Tk1W5kkjwxmG0zxqSo5pBbt/mWdt6se7rYDavH2NYM9i/41fr8PuzetwrqXH8fO9SvQ3d6k/aEkYPyUWSopM9DTiX1b38Tq5x/GznUrVEmv8HncaG+sRXNtNaq3r1fTgfZ1talGgtJ4sKO5Trvfldj6xgvYu3WNmokiFAqibt8OvPnCI9i66kV0tTaq/XOLy2GzxUcaCa54BmtffkzdpvOvSvu11zQCNitQmAssnAtMmwSkpwJ9A8CmHYDTBXDCqbFFkj4trf2qX1DVrmb8/R8bcf/Dm/Dn+9er2yvXHEJ7x2B0byIiIiIiYjLoHciwL2tKLjLn3Iy8xZ9E1iXvhyN3gqrS8XTVoGvz4wi4+jESCsA30A6/ttjSi5EycSHyLv8Eiq79D2RffAfMCekqAeRq3KUdV6eqiRKKZiBv0ceQv/TTyF/yaWRfeheSxs2FQc1KEKeGhtnSi2BLyx+VQ8TGAhkLPjzYr5IzDQd3a2tGUDh+MhZd/wHc+NEvYfFNH1ZJIYPRqJI7sl9nS4M67ljOvm41teiCa+/ADXd/EfOvuUNVAxlNJgz2d0emJQ344NIea3/VelV9JEorZmDxzR/GdR/6vDomp7AUXo8bW1Y+r+23AQG/V+1H5570BXK5IzOGNbcDyYnAjMlAZhowXftalBfZfrAOaGgFPDw1Y4okg5pb+tHU0odNW+rw4it7sGb9YaxYuR+PPb0d/3xyK1avO4yBQY/29y1dvIiIiIiIYhuTQe9AkjhZF92B0tt+gLzLPobSW7+HzHnvU32EQp4hVQ3k7WlCYHgQ1tR81XA6d9FHUHTdfyJj1o1InjAf8UXTYE7MkMHDCLh6tOOcMFrjEZ8/GVkX34Gc+R9SSab4wmlwdxxCOOiXmkUkjpuLbG19QtH0Ud+PZ7QK+Lyqz8+BqvUYGuhFTtF4LLz+A3j/v30Xcy6/Hrd+8mu44raPIX/cJJWY2bN5lUoKSc+fY8l0onOX3ICbP/4fajrQu//jf1A59zI4EpK1fb3o625XjQKl2qeldj/cLidsjnhcdfsnMP/qO3DRFTerRNLFV96shqH1dbWjrfEwejvboo9A51ogCByoARpbAddwpBLo0tmAxQJMmQAU50cSRm7t1K/bCvT0RQ+kMSEcGkFX1xA87gCuv3oq7v/j3XjmkU/jpSc/j//+fzcgGAzjLw+sx6atDfD7tX8MREREREQxjsmgd2DPKoU1vUA1fT4iPm+yqtgRMoTLPyAf6EeQXH4Jsi6+E/acCWqoWO0T38KeX92KQw9+UQ35Ggmf+gPI4KF1aF/9FwzVb1PJoOTyS5Ez/y6kVV4Z3YPOhtczjM7WBoRCkaF26dkFyC/RPvkfQ5r65ZWUq9tSEST9gYadA+r7I9Ky8pCclgnjMRVaCcmpsDsSVE+icDCg1skQs2FXpDu/z+NRw8Ee/MV/4Q/f+Qwe/c33VL8hGU4mBnu70N3WpG7TuSfTx6/eHGkgLSQZdMkswGoGJo6LJINkdljZb82Wo/vR2JCcbMdP//sW/O6X78ftt8xCiva9kPYM0yrz8b6bZ2LShGw8+OhGDLv1OysKEREREdHpYjLoHchQLZkBTH2iiIr0DtLWKSMIBTwq0eNq2YuO9f9A26o/oXPjP9G/7w3Vc8hgssGSkqvdxcmHejlrt6B761MqgSSJoPiCSuQs+BBSK5aox6ezFwoEMDw0qBI2wpGYhKS04xuYq3WpGdHvAM+wC37vCZVB8Qmw2LQPl8f8O5ChZUdmn1DT1Gs8w0NvHRsOBVW/oUO7NquhY7X7tqvpReV+5DFlJguZjYzOPTk9Hu20rN16NMnT2ALc+3fgv34GfP/XkW0j2j8TqSDafSAylExmGaOxQRo/TizPRvn4TKSnJRw3E4jDbkHFxFyUlmRgb3U7vN7AW3+zRERERESxismgdyBTwId97uh3ESHvEML+I+viYLTEI+Dqw8D+1Wr6+YFD61UlUerky5Gz4MPInH2TaiZ9Yt+fkVAQ7s4aNXNZ354VanYye2aJGjYmFUG2tNiZGvlckYSNxXo0ieP3euEddqnbRwRknfvoOrPFonoBHUtmgJAZxt6NNJaWY2VmAkn6zFp4NS5Zdhsuvfp9mH/N7bjsxrtw7Qc/h+s+9G+Ys/h6ZOZx9p/zQfr/NLRE+gFJXyDR3gU8tRz4x7PAI88Du/ZHmkZL3rB3ADhQC3Ro+9DoJ/2Chod96Ol1qSnmj8nZvkUqh1KTHXAOedSQMeaCiIiIiCjWMRn0Djzd9fD2NiIkyR/t00PI68Jw6341o5j0AJLZv6TBtDSOdjXvVZVARosdWRfdjuIbv4mia76C1CmLVeJHu4PInWqk4bTf2Ynurc+gZ/tz8HTVR3sOXYOc+R+ENS1fezjtA4vMJMZPLWdNEjKZuYWwWG3aB0QDejua0XR4L3yeYVUZIDOGSY+gtobDKoEjU72nZOTAkXh2FVnSZDo+MUWdMqvNgctu/CDu+Mw38aEv/xB3fvb/4Zr3fwYLr7kT86++HTMuWYrcorLokXQuySxhm3cBg0OSOABStdMrw8KyM44uhXlAXpb2ghhNJOzYB9RyFN+YIAmgji4nXn5tHxqaeuH3v30GRukT5Nf2s9vM2kv3SbJFREREREQxhsmgd+Dvb1PTwg+3HUDI58JQ024MHFoHT08DDGYrLCk5sGYUqWqhoDvSZ8Zgsqr+Qeb4VAS19Z7OWjjrtkYaQ0cTQoHhAfQfWIPm5b9U1UFGWzwSS+cg/4rPqaRFUNsu1UYym1nI72FC6CxJE+fcovFIzcxViR5J/OzbthZNh6tVQqi1/gAO7NyI5ppqVfmTnlOAzNwixCecXTIoQzteegvJh03pV7T59efU9PLSJ0i+vv70/fjddz6N33zzHqx96TF4ov2F6NySoWFvbgG8vkiR2MI5wDc+B3zvS8cvH7wZsFoj++ysBmob+ac3FgRDYXR0OvGdH72Al17dh85u53HnTRK/La0DaGnrx7iidJUQMjAhREREREQxjsmgdyA9YXp3voT9f/wIdv3iRuz/08cwsP9NhH0uNYxLKoBM9iTVE0iSP0KGljU8+z+oe+o7OPTAF9D40v9GKnw08nVkJARfXwu6Nz+p7etSnzal4qhv96vY/YsbUPU/S1D1o8vVsu/3H0THuocQ8g2r4+nMSIJHGj0vveUjyMovVrN87Vy/Ar/8zw/hh5+5Ef/3tY9g3cuPqfVWRzyufN/H1YxjR3oBnanswlJMnj0fpRUzVbLp9af+jl9/8x788LM34d5vfhwv/+N3aDiwW1UspWblnXUFEp2+QABo6wI27wD82u3CXGD+HODay4Gl848uV2jL5RcDs6YAFjPQ2ROpDJJjaXSTnkDjStIxtSIPq9cexKuvV6O7Zyi6FWhs7sOLr+7B3uo2fPDOeYh3HJ0QgIiIiIgoVjEZ9A4SCqfDkTtJVfU467fB01WrEjOyLnPebcicfTOMFgccOeVImbQISaXzIL2BnPVb0VP1gqookpnHZD+Dxa6Gh/n62+HuOIzAcJ90GVaPI0kiqQKS9TLz2JFFHk96CcmQMTo7FrsDcxZfp6aQL6+cq6aCb2+swaHdW9BSp/2Oh13IGzcB1971WcxbehNSM7KjR545qT6aMmchrnzfPaiYvQA+twsNB3fjQNUG1O/fieGhAZROmYnLb/ggJk6fp3oa0bklyZz9NUC/M9IPaEo5MKEUSEkCkhKOXwpygHnTI8kgaSQtyaB9h6J3RKOWVPmkpcbj3z59OQoL0vDSq3vxn99+Gt/43rP45vefww9++jKamvuxeNFEbZkAq/X4nmBERERERLHI+D1N9PY51djchENOG9rDx8/mNNpIwkYSOonjZqkePsllF8ORO1EldSTpI0PAMrT16dOWIaGgUlWRSELIZE+EJTkb1rQCWLWvckxK+aVInbIUyRMugTUpCwkls5A8fh5sGUUwx6fAnjsBSaVzkTT+opMuKdpjJY2fq6a4jzOOvg8wyXEulFnaYU6T56d9gh6FDNr5SUhKRUp6turpI9PE5xaXISOnEOMmTcfkWZdi9qKrcfGVNyO/pFwldEQoGFTJmuLyqZg08xKMnzILqZk5apuQWcOStfsr0e5j4oyLUTZ1LsxmC+wJSWo/2ZaalYvMvGLkFJRq91OJKfMWYd6SGzBj/pXIyC1UQwJHo+BAM9JNm5EZXx1dM3a5PYDXD2SmAnOnAcsWATMmR5JBJ5IJqBITIttmVkSqhMpKgPyzzw+OKsGwHQ19VyAvy4BEx9v76oxlJu3kFeSnwmHTXofi4lQfIRkqJgnAxAQb5swswuULJ2BccYbuhoh195vhDaahuIgN6Wl0G3INoaapHQdC4xDA6IwZ6OzkGrqRb/fClMLXId0IBxHsq0dR1rDuYoZYpmIGnwFFOb7oGtKLpg4r7PG5yM7Miq45PXEj52mO3TXr1+GF5hRUBbVPWWOMVO6EfG4EnF0wJ2bAaEtQCaO3kSFfAR+8PQ3afulqGnrDKE2SvBeKDO1YFl8Fe9lSxJnt0bWjl0wx7/O6MdDTCedAL+KTUlSCyJGQ9J4nZuTPyu/zoL+7QzWqttodSJPeRaqZ9ej+MOptWI9y272YnPVkdA3pgTeYilU1P8acSiPyMqSHmT5JA2mny4v+ATdMBgMyMxLgcFh02ydoX50DA54yLJq/ILqGaHRqbW/D8nXb8ax/Cdwjoz9moNM3y1SNuWkDsJXMj66hsW4k4IGn5g3Mn9Kp65gh1kjM0O80YcEM9i3Vm3U7k5CWNRNTK6ZE15weDhM7DZL4kcofe/Z4mBzJJ08ECe1DvtFiQ3zeJFgSM3WdCBqLpIrL5khQfYEmTJuH/JIJavavc1GhIwkfmVEsp7AUxRMq1VfpFTTaE0FEY53FYkRGWjzKSzNVL6GEBKtuE0FERERERGeLySAiIiIiIiIiohjCZBARERERERERUQxhzyA6a2OtZxCdHvYM0qdY6RkUa9gziMYK6Rn0+vrN2BOcAP8Ih9HrSaGxA0UON0xppdE1NOaFAgj0HMK4nCEkJ7CBtF6095jh8RlRmu+NriG9qGu1obBo2hn3DGIyiM4ak0H6xGSQPjEZpE9MBtFYIcmg1es3oDecgjAL03UlPs6NRFMQBttJpuqkMWlkJIywZwBJjgAs5nB0LY11bq8RwVAckuKD0TWkF85hEyaUVzIZROcPk0H6xGSQPjEZpE9MBtFYwdnE9IuziekPZxPTJ84mpl+cTYyIiIiIiIiIiN7Vea0M2tM2rMqDSR/i4zzIM/XClJgLnGq6fRpzQq4uJBkPINnWGF1DehAasaBjaBbSk+PgsLHkWy8GhoyITyxiZRCNeqwM0i9WBukPK4P0iZVB+nW2lUHnNRm0o9WL7pG06Boa6xLjhlFk6oYppRBxBlN0LY11QWcbUk07kWqvia4hPQiFrWgZnI+s9DjE29gMUi/6nGbYHEwG0ejHZJB+MRmkP0wG6ROTQfo1JpJB7BmkL+wZpE/sGaRP7BmkT+wZRGMFk0H6xWSQ/jAZpE9MBukXewYREREREREREdG7YjKIiIiIiIiIiCiGMBlERERERERERBRDmAwiIiIiIiIiIoohTAYREREREREREcUQJoOIiIiIiIiIiGIIk0FERERERERERDGEySAiIiIiIiIiohjCZBAR6VrfALB6E/C3J4A/PXry5cGngWdeA9ZtAwacQCgUPZjGHI83gNa2AWzf2YTVaw9hb3UbevuGtXMaju5BRERERERMBhGRrnX0AE+8DHz3/4Bv/Oztyzf/V9v2K+Bn9wH3PQqs3Ah09QLMHYw9/QNu7N7bihWrDuDVN6q1ZT/eWH0Qb647jN372jA87MPIyEh0byIiIiKi2MVkEBHpWjgM+PyA2xtZfIFIoufIEggCPf3A7gPA08uBL30fWLtV29cTvQMaE8LhEazfVIvf/HEV/nz/Ogw5vZhYnoWmlj78/Ncr8P9+8ByqD3QgEGCWj4iIiIiIySAiiilXLgB++l/R5evAd74I3HkdUF4SSRz1O4Fd+4Gm1ugBNOoFAiFUH2jHI09sRUZGIn7+o9vw5X9bipuvn4H//PKV+MRHFiAh3oo/3b9OVQcREREREcU6JoOIKKZMGAdcvziyXLcEuHUZ8PE7gBuvAOLiIv2CGlqArr7oATTq+XxBrHzzIOw2C2bPKMT0ynxkZyYiJdmOnKwkLLq0DNdfMw3FhWkwGPm2R0TvrH3N33HooS+j7slvo7vqBYT9LBUl0puNW+rxxDNVePTJbW9bXlmxD/WNvQgGWU081oTCI+jsGsKGLXV46rkdePr5ndi9rxXDbr+qIqfjMSomopiSGA/k50SWAm0ZVxhZstKjO2hsVsBiin5Do5q0AJKm0avXHUZBXgoqJuXC4bBEt0YUFqRi8cIJuGppBWw2nlgiemcDB9ehc8Mj6Nr6DFyNOxEOBaJbiGisk7hBKoqXv74PK1btx+HaLtTWdR+3NLf0Y2jIyz6DY4ycs6qdTfjHY1vw+qoD2Le/HdUH2/Hq69X464PrsWtPC1ysED8Ok0FEFFM6uoGqfUeXrbuBNzcB2/YAcdr2pASgojySLKLRLxwOY8jlQ/WBNmRmJMJht6jAbvuOJmzZ3oCd2ht/e+cgkpNtmDe7GFZm+YjoXYQDPoT8bu2rByOSCOIHQiLdkASPc8iLHbuaVbXIlEm5mDol/7ilfHwWUlMcMBgkMqSxQKrED9d24/Gnt2P12oPweYMoHZeB8SUZ6O514W8PbsALr+xBY1Nv9AgSTAYRUUyRKeQ/+tWjyx2fBz73HeCxFwGzGaicCMydBuRnRw+gUc3vD6G3z6USQjIsrKauGz+/93Xc8/mH8OFP3Y8v/ufj+PPf12P33jYEOUUcEZ0pyQONhFVSKBz0a4svmiA6xeuJ2jcY2Tfge2v/kXBIPoVGd9JE9xvR9nvH5cTj6F8W0n7vwYAfAb8Pfp9XfQ0GtPMrv+sTyAWHUDCAoLaEQyH1vXw9crxsk3UnrSDR1sl9Htk38jh+9fisOLlwQlos0No2AIvFhLmzinHbTTNx03XTjlsWL5qgqoqNHFo+ZnR0ObF63SG89Ope/NdXluEbX12GD905Dx+4fS6+9dWrcc1Vldha1agtTdEjSBi/p4nePqcam5twyGlDezgzuobGuuQ4F8os7TCnlSLOqH2KJl0IDjQj3bQZmfHV0TVjm0wTv2kHcKA2MnOYX4vhnS5gcCiyDHu0n1lbL2GZFI1MKQcWzgXysrQXSGPkPvQgGLajoe8K7ecyINHx9oB3rHJ7Aqhr6FHj+/v63WjrGER2VhI+9bGFeP/75qCyIg+HarqwZv1hWK1mFBWmwWzSz4nt7jfDG0xDcVFRdA3R6DTkGkJNUzsOhMYhgNEdM3RvfRru9gMw2hIQnz8ZlqRM9O19HV2bH0fv7tfg6aqDOSENRku8Fv8cX20o2/r2voGuTY9p+z+BgQNr4OmsRcjnQpzJApMjObJfdwP6q1eiZ8eLGDy84ZSLJJLkecgyWuUaupFv98KUMrpfhyQBIwmZHWtfxdqXH8Obzz+slupta9HWeAgmkxkpGdkwGI6+R9Tv34mtK1/A/qoNGHb2I+DzoU5bt2H5k9jw6tPo6WjR9jfA5oiHxWqLHhXhdjnV8auefQirX3hYe9zlqK/eodYnp2XCrO0fJ80KR6NwEMG+ehRlDesqZhAyRGzX3lY0NPVi8sQcTK8siG7RPxUz+AwoytHfUKlNW+tVokcqu66/eiqSk+xv/X0Ztb/RgvxUJCbYUDY+C0UFaapPqJ40dVhhj89Fdqb2AeYMMBlEZ43JIH3SezJo3nTglqsi1T+yzKgAivIAyQ909ESmlJf+cump+qoO0msyyOsNaAFdH559cZe62nfJ3HG45YYZqJici7zcFJUYkmaC0ghy+45GXLF4shpKppcggMkgGivGYjJIPkjExRkweGgD+qtXYai+Cu62/XC37oereTdMjhRYEtNhsNhVBZCzdgtaV/0F3duexlDdNgzLvp2HMdxarR27FZ6uepjjU2FOyoKn/SB6dryAnqrn1X2dajEnZsKWWaI9Tkb02Y0+YyEZJBU5Pe3NeOkfv8X6V57A/qr1aK6pRkdzLTpb6tFSewBtjYfhdbuQW1wGk9mszv+ezaux+vmHcXDnJgwN9qnE0Y51r6rjGw/vRXPtfhzevQUBnxdpmblwJEaSfR3Nddiw/Cm89sRfsXfrGu2x9qFdu/+W+oNoksdtqkFWQQlsjgQYTaNw+LKOk0FeXxDrN9WqfoMVE3O09890NWxMYgipBNLz0DC9JoOkMfSKVQewe08rrltWicmTcmAxH03qyjlNSrQhJztJiw2T39ZbUg/ONhnE2jciiikzJgMfue3o8lFtuecO4KYrI02k2zqBFeuAfYdYmT8WSOAmb+oSxGWkJahKoKlT8tSbvs1qQmZGAubMLEJ5WRa272xCT68LwaC+AlsiOjeCniG4WvZhqHGn9t2IquqRZtKulj2qokeSPpLwEWG/Fz1VL6B350sq+ROnfcBPHDcLCYVTEfI4MXh4E3q1Y3p2vYJwwBupErInwZyYcXSJT0XINwx3xyG42w+qJeR18s3oPTDQ24Vtq1/CmhcfVYkc12AfUjNyUD51Dqx2B7paG7Fj3WtY/8qTKuEjFUTC5exHe1MNGg/vw94tq1Gzd7saWpaUFrm43XR4rzpu2+qXVcWQ/DuRIWW7Nryuqo/2bn1TVRTllZQjr7hcVSfV7tuO9cufxNqXHkNfZ6u6Hzp/JF5obu2Hy+XDtqom/PWB9fjbQxtw39/W4S8PbsAbqw+oKmMaOySx19npxLDHh/HjMrF7T4uaSezv/9iIBx7ZFOkV1NyH9LR4tdBRTAYRUUzJSAMmlx1dpk0GFl8CLL00UiEkQ8NaOoDuPsbfY4E0hJYkkMlkUAkfqQY6UW52MsYVp6vmgr19w/D5g9EtRESnNhLyq+RMyqRFyFlwN3IXfQRpU5aqiiDpByRDx5z12yO9gQJeDLcdgMFkRULRdGTOuQVF1/yHtnwFCcUzYbTGwz/Uo2Yqk/1taYVIn3Y1CpZ+BvmyLPk00qYuU+vj5H8GI6xpBbBlFL81tIzOTigYVJU4UuHT3dYEq82OCdMvwpJbPoIb7v4SFl73fpWskf3qDuzE2pf+CfeQU4sBjvaFkt4/fV1tKJ5QiSU3342r3/8ZzFt8AxKSUtWwMqkEqj+wC+FQGAM9naha+yrqqnfAHp+IKXMXqf2v/eDnMXvRNUjNyEV/dwdWPvMAWusPqqolOn8kGdTS2o+mlj410cTy16vVNPOr1hzE08/twGNPb9duH0L/gFtVnNDoJ5VdQy4vvF6J81x4ecU+PPfybpUEenH5Hryg3X5eW/Yf6lBJQDqKySAiiimS4Alr8d2RRYsJVM8g6SXkj8ZjR7YxGTT6mc1GpKU6YLOZYdcWs+ntb2synXxSgk3tK70CRhjcEdFpMJjtcOROwvjbf4iCKz+PwmVfQsGyLyK57BIYTBZ4exrh6aiBf7BTVXwkl1+KrHnvU8md3Ms+rn1/MZJK58KWUQSj1aESRv7Bdu0NJgRLSg5SJl+G7EvvQs4lH0Dm3FtV1ZHf2YUR7X9GexJyFnwYqVOWwpqaF31GdDY8w0Noqz+MQ7s2q8TLuIqZuOqOT+LGj34Zcy6/Dh/80g9w8ZW3ID2nAM6+buzetBIDvZ3avlpgEGWIMyAhOQ1Xvu/juOrOT+LyGz+ID3zhuygonQSLzaY9hhND/T3ae4xfPU5XSwN8Xjey80tw9Qc+ox5n3tIbMf/q96FizgJIE+mu1gY1NG1ogLMbnU+S4OnpccHvC6reMn/7w4fx5EOfxAuPfw4/+NYN2t/hCP7+0AZs2tqgxYW8eDQWDA/71CQhkuT73Z9Wa18H8P7bZuPen92On/7gFly5tAJPPFOFR5/Ypqaap6OYDCKimNJ+wtTyG6uAf74IPPQMsD/aV6isODK1vIGvkKOe9P6xWk2YN6sEA4MetHc6o1uOkmqgZi0wkN5BMlbcZmePMyJ6d5KQSSisVM2bpVJHyFCuxNI5Khkkgp5BBIf7VU8fqR6S5E3Q40Tryj+h+r6PYsdPrkLnpn+qJM+pSHPp1hW/Q++OF+Dta4Y1JVcllfIu+xhs6ewH9q+SXj99PUc/AOaPm4j07PzodxFSGZSenaeSejLMSyqIJJlzhMFoRHZBKRwJyaoSSMi/ieT0LJgtNqhZxsIhyExjUkHk93nUPj0dzXj1n3/Cn/77C/j9dz6N5x/4FWr3aYFHVJf2OIN9WmBC501ysh0//e9b8btfvB+33zILKUl2tV7iiWmV+bjt5pmYNCEHDz66SU09T6OfJPgkcSfVQcFgGF/5wlIsurQcOVlJqnH0ZfPL1cxiu/e2YPPWBrU/RfCjDhHFlNWbgO/+6ujyw98Cf/gHsHKjNBWUGQeABXMjs4rppcmw3jnsZtx64wx097iwbmOtml7+CI8ngA2b67C1qgHzLy5FaooDJk4VS0SnQYZ8mRPStQ/9Rxv8GsxWWBIzJTugvpfp4UNBnxpOJj2EWlf9Ce1r7lf9g2QImWyX/U32kw/18g92aMc9i85Nj0VnKUtHauWVyF/yKVjTCt9KOtHZk8SMd9gV/Q5ISs2AIyEp+l3EsetGwmEMDw0idGxlkMGA+MRkmMxHz4fECEajSfuq3RgZUYkkGVo27BxQVUWyXqqS6g/uwsFdm3Fg5yY0HtqrklPSaFo1m9aOkeFpdP6YjEaUj89E6bhMpKXGq96DR9i1eEJmGCstycC+/W1qkgo5rzS6JSZYYbOaVb/ImTOKUJifigRtnVSESyNpqSC/bMEENUGM9IMaHIwka4nJICKKMfXNwMoNR5e1W4F9hyNDxCQBdOvVwDWXAeMKowfQqGexmDD/4vGqUXRnl1Ndzbv/4U149Imt+MsD67Fi5QHVW+jO2+YgUQsUjkw1SkT0TmSGsMBQr/qAf0Q46EdguE8uRavvpRG0fKB3tx9C58ZHVQPpwGAH4nMnIOfSu5C3+B5VSXSyvj/+oW4MHFqP9rUPYLh1n0o+pcrQsYvvRELxDCaC3iMyZbxU7xwhCRq/9/gPg2qdz6tuy3uE9BWSaqCj4iIzjL3LTFNyrEwZb4gmGNKy8nDpstuw8No71bLo+g/gits+hhvu/qJapl50OVLSz2z2Hzp70i9IhhTJxaNAIKidr+iGY8iU5CnJdtWHRqpMmAsa/ZK0c5YQb1UxniTyTrzoJ30lS8dlIN5hgcfjx7CbfYOOYDKIiHQt3g5MGAdcOgtYMOcky9xIA+lrFwN33QR89ZORfVOOv2hIo5hc1ZPpQt9/+xw1m1j1gQ688MpuvPTqXry2slqV719x+SRcvbRCXTkiIjodMguYq3Ufgq4+jIQCqvGzr78NrkZpFOxHnNEEc3yK9sHfDFfzLrhbqxHyulQD6fwrPotxt3wHeZd9HNbkHIyEj5/FUCqJnHVb0bX5CfTvX63WSdIoc86tqpeQfAKVY6RKhZ9G/zXxiSlIzcxRyRz59C/TyLc31aqEkCT6PK4hNc18b2erGgJmtccjPbsAFltk+NCZkOMzcgthtTnU9xk5hao/0Z2f/zbu+uL3ccs9X8XSWz6Ci5behIuvuBmTZ87Xnluu2pfOPekb2NHlVPFBXWPvSXsCSS8hv7af3W551+QfjQ5SIZ6a6kBigi3SGzK6/lhG7VwajbIYVKUfRfA3QUS6JhU+X/s08MJfgBUPvX159X7gmT8C9/0I+Mo9wNSJWuAYieFojCkbl4kvfXYxHrzvo/j5j27Df/37Mvzt93fjVz+9HbfcOEP1FmJREBGdLknYeNoPYrBuC3yDnaph9GDNZgwe3oCRoB8mRyqsqQUw2hNUkuhIwkf6/MTnTVb7+AY6MNS4A97eZm2L9hElmtiRaeO7Nj2G7q1Pa69LBpgTM5F18Z1qOvrg8AD8zm61SEJKGkvT2UtMSUd2wTgkp2WrD4ENB3fhwI6NaG+sgdvlVFO976/aoPoEWex2ZOWXqISOxXrmySCjyYS8ojI4EpNU4qmnowWbVjwL12A/fF6P6hf0woO/xm++eQ9+9+1PaY+77rjeRHRuSZPhjk4nvv+TF/Hya3vR0TWk/UkeTR1IL5mm1n7ViLi0OF0lGQxMCI16UpFXUpSu+gPt2df6tuF9kiA6eLhTVXtJ9VB6ekJ0CzEZREREuiKzhxXkpaip5mWcuMl0bKk/EdFp0j5ghLxDqP3n17H33vdh72/fj+aXf46Aq0clflKnLEFiyUyYbEkqAXSkt5BMOV/z+LdQ++S3se8PH4Kzbpu2NpIIGglLJcII+vetxFDDzreqf6R3UL22/86fXo0dP7r8raXuqe9gSB1PZ8toNCKvpAxLbrkbNns8nH09alr3//3KB/Cjz96EX3/rE6jeHknKZOePUzOGSf+gsxlSbDSZUTRhCirnXY7covHobKnHs3/9OX76xdvVY/3ph1/E6uf+oWYSS8nI1pYc9Zzo/HDYLWoYUWVFPlavOYRXX69WQ8aOaGruw0vL92JPdRs+eOc8tT+NDTOnF2LG1AK8smIfVmnnViYPEZIIam0fxG/uW43MjERMnZIHi5kpkCP4myAiIl2Rq3jSNFAqgaQc+CzieSIiNUNYyqTLYEnKhqenEcNt+9WsYNLbJ33GtZHePoVTYYpPQdL4i5A2/WqVFPINdmBg30r07HhJJYAkaST7yZAkqTZyafcjlURh/5GKkBHVaFrWeTpr4O44/Nbi629H6K396KxobwJpWflYcM0duPrOTyOnsFRVBLXWH0TNnu3oaqlXU71XzF6AZXd8AtMuWQqL9WiPoTMhCSSpKLrkqltx+Y0fQvGESgz2dqJm7zYc3LkJrXUHVS+iqRcvxjJ5LkVliOOQlfNG4gO5SPTFT1+O4qI0vPTqHvzHN5/C1779DL7+nWfwvZ+8hObWfiy9fCIuXzhBxRE0NuTmJGPxogm46frpePyZ7fj2D1/AN773LL75/efwHe22VAtdt6wSc2eVnFWiV6+M39NEb59Tjc1NOOS0oT2cGV1DY11ynAtllnaY00oRZ2QfDr0IDjQj3bQZmfHV0TWkB8GwHQ19VyAvy4BEx/G9K2js6u43wxtM04JaTj9No9uQawg1Te04EBqHAEZ3zBD2e2DPKEHKpIVIm7pMJXLsmeNgzy5DYtE0pFYsQeacm5FcfomaKUx6B5nsiTDLsLH0QljT8mHLKNb2nY60yitVU2hH7gQ4tOOTx89DYvEsNV29JI6kv1By2cWnXFImLkBCQSXMienRZzf65Bq6kW/3wpQyel+HpF9QQkoa0rJykZSWiez8EuQUjVdDwsqnzkHlvMswb8mNmH7pUmTmSpVXJEETDPiRkJSK0ooZmDTzUpRMmn50JrKREZVEkiFoch+TZl6CwvGT1SYZmpaSnomUzByk5xQgK68YucXlKKucrR5jzuLrMVV7zPjEs6tAOufCQQT76lGUNay7mEEuEuXnpcLhsKhG36HwCGQkmJyH5CQH5s4qwuULJqhhR3obIqZiBp8BRTn6a6BsNhmRnGhDfm4K3N4AImcuTp3D5GQ7Fl5apqabz89N1uXQv6YOK+zxucjOPLOG9HEj52m+vDXr1+GF5hRUBSuia2isKzK0Y1l8FexlSxFnPvNx1TQ6eRvWo9x2LyZnPRldQ3rgDaZiVc2PMafSiLwMf3QtjXX76hwY8GgBzvwF0TVEo1NrexuWr9uOZ/1L4B4ZezGDNI+WXj4j4QAsydkqASQfNE4kw74Czh5VzWNJyYZR4iOdX4WeZarG3LQB2ErmR9eMbjKpgHtoEIN9XapCKDktU1uyVMPo9zoxEw6F4PW40NfVrm7HJ6WoaezNFmt0j9FpJOCBp+YNzJ/SqeuYwe8PYcjlRf+AWyWJMjMS1NAwPSYLhMQM/U4TFsxwRtfok2Q35JzKuTUaIudVZp7V80vxup1JSMuaiakVU6JrTg/rEomIiIiI3oHBbFXJHWtaQbQa+uSfKuIMRrWfPWscjBaH7hNBY5E0kU5ITkX+uIkonzpXVQdZ7Y73PBEkZEiYIyEZBaWTUFQ+BenZ+aM+ERRLLBYj0tPiUVaaiXHF6Wp6cr0mgmKJ/CnLcMDiwjQU5KdwApF3wGQQEREREREREVEMYTKIiIiIiIiIiCiGnNeeQZtbQ2gN50TX0FiXEufEJEsLTBnlbCCtI9IwMMO0FtkJu6JrSA8CYQdqe65FQY4ByQlsIK0XHb1mGC0l7BlEo95Y7xlEpzbWegbRu4uVnkGxJlZ6BsWis+0ZdF6TQQfbBjA0Eh9dQ2OdLc6HVIMLBnsq4uJYZKYXYe8g7IZWOCzd0TWkB+ERMwY845AYHweLORxdS2Od22NESmoBk0E06jEZpF9MBukPk0H6xGSQfo2JZBBnE9MXziamT5xNTJ84m5g+cTYxGiuYDNIvJoP0h8kgfWIySL84mxgREREREREREb0rJoOIiIiIiIiIiGIIk0FERERERERERDGEySAiIiIiIiIiohjCZBARERERERERUQxhMoiIiIiIiIiIKIYwGUREREREREREFEOYDCIiIiIiIiIiiiFMBpHuhUJB+H1e+LxuBPy+6FqKVaEQ0N0LbKwCNkSXw/WAyx3dgcacUCiM5tZ+1DX0vOPS2NQHry+IkZGR6JFERERERLEpTguKz0tUvGb9OrzQnIKqYEV0DY11RYZ2LIuvgr1sKeLM9uja0SUcDsM12AtnX49KCDkSk5FTWBrdSifjbViPctu9mJz1ZHSNvjhdwIsrgX//b0Be/WS55SrgU3cBc6ZGd9IhbzAVq2p+jDmVRuRl+KNr9WFoyIs//HUtevtcCIVP8pamneSwtj7eYcU9H7kUebkpsJiN0Y1j2746BwY8ZVg0f0F0DdHo1NrehuXrtuFF/+XwjNiia0kPppsOYHbqAKzFl0TX0Fg3EvDCW7sKF0/uRq7OYoZYtr/ejoEhEy6ZNhRdQ3qxcXci0rNnYmrFlOia08NkEJ21sZAM8nqGsWH5k1j9/D/Q0VSH6Zcsxed/+KfoVjoZvSeDdlYDDz0D/PGR6ArNLO1188O3AJ/6QHSFDuk5GeQc8uLe369Ed69LJX1O1N/vRmNTL1xuPx7568dRVpoBi8UU3Tq2MRlEY4Ukg1avXw/XiAMjLEzXFSt8sBvDozYWpDMnHw9HAsOwW0IwGc/LR0U6D/yBOITCcbBbw9E1pBcenwGTJlYyGUTnz1hIBnmGXXjj6b/hlUf+iJa6A5i35AZ86w/PRbfSyeg9GfTUcuC3DwKbdkRXaNJTgJuuBP7v/wFms/bCGBfdoCN6TgYFAiEcONwJ30mGgAWDYby0fA/Wb67D7BmF+NqXr0JGegIMBn2cZCaDaKyQZNCKdVuwPTgFPmgvtKQb4wytKE1ww5w5IbqGxrqRUACBjr2YUDCI1MRgdC2NdS1dVgx7DJhY7ImuIb042GhHfuF0JoPo/BntySC3y4nmmmqsX/4kNr72FLpaG1ExewE+/o1fICk1A57hIbVITyG7IxHFEyphMlvUuv7udvR0tKj7kWFlKRnZsFjtCAb8qN+/Cz7vsPo+NTMHmXnFaj+5n17tmM7megwN9sHn0faxOZCYnIb0nHzkFpdpH0BH/9AUPSeDpC/Q7x4CfvMAMOgE8nOA7j7A5wMWzgN++S2grAQw66No5Dh6Tga9k6pdzXjy2Sp097jwqY8twPTKfN1UBQkmg2isiAwT245n/UvgHmEFiZ7MMlVjbtoAbCXzo2torBsJeOCpeQPzp3TGVMygdxIz9DtNWDBDC4JJV9btTEJa1pkPE2OdLulWf3cHNr3xHA7t2oxh54Ba193WiDeeuh/V29dj14Y38OYLj+CVR/6AN59/WFURSW60r6sNO9e/jpce/p1aZF9nf6+2LYzhoUGseu5BvPzw77HhtafQXHtAHRPwedF0aB82rXhWHfP0n3+KR3/7Azz1p5/gxYd+g3WvPIG66p0qQST3QxdGUytQ2wj09gM2K3DVQiAvWwt6tG2dPcCGHYCfMY8uyN/lkMuHV1+vRv+AGwsvKcPcWcW6SgQREREREZ0tJoNItwb7urBr3Wuoq96hqoREb2cb1i9/AjV7tqK7rQk1e7dh/StPYN0rj8M50INwOISulgbsXL8Cm157Ri17N69WFT/BQEBVDEmlkSyNB/do63wIh0LqviQB9Njvf4hNK55B3f5d6O9qQ4O2z5aVL+DZv/4cD/zv19HeVMMZzS6gHfuA2qbIMLCkBOCjtwGV5ZHEUE8fsHYL4OXp0QUZOra3ug3bdjSipDgDt940I7qFiIiIiIiYDCLdyi0ajxs/+mVctPRGpKRnq3VF5VPwkf/8CeZfczumXnQ5MnIKI5U9AT/aGw7DO+zCYF83utub1P5CbktiSYaPtdQdRCgYGTudmVeEwrIKeN0uvPLPP+Lgrs3wuJxITs/CnMuuwZ2f/7Z6bBkiJvvUH9iFFU/+XQ1XowujSpJB2q9fEkFTJkSqgmZUaP8ucoF+J7B9L9DTDwQ4PH7MG3b7cf8/NmL8uExcPKcEDrsluoWIiIiIiJgMIt1KSE7D5FkLVMLG5tA+/Wuk98+shdegeMJUlE6ZqZJBcQYDQsEAWusPqgoiZ38PhgZ6kZaVB7PVqnoHDfZ2q2SQ7CO9gRwJyerYxOR0lSzas2kV+rrbVeLn4ituwm2f/DoWXHsHbrnnq+prWnY+3EOD2LbqRVV5JFVGdP4EQ0B9c6QqqH8QSEsBLpoBOOzA1IlAUb40Go5s27Y78pXGLpldbNfeVuw70IapFXmomJSrm4bRRERERETvBSaDSLfMFiuS0jLhSEyC0RTpE2Kx2pCWlYv4xGSkZeYiI7dANZOWZJDMNiYJHUkGhUNBFJROQnp2AVyD/apaaGigT+0j+2bmF2nHFmr3OILOlnr0draqvkFZ+SWYMvcyTJx5CXIKx2PC9ItQMWs+8krKVRJJ9pXkklQK0fnjDwBbdwPtXZHb6anApbMAqwWYVAaU5ANGI+D1Amu2RppK09jV2eXEqjcPoiAvFRPKs5GeFh/dQkREREREgskgillGk1lV98hwMhn61VJ7QA0Vc/Z3q5nCxk2ahqKyCtXwebC3Cz3tTWhVyaAgCsdXICO3CD6vF32dbapvkJDhaJIQOpYMG8uKzjimmtoO9MI9zC7+55P0AVqz5WiSRzsNcHuBqr1AW0ckQWTQXg192leZcr6jO1JNRGOPTCXf3NKPNRtqcNXSChTmp7IqiIiIiIjoBEwGUUxLzy1AfulEleBpbTiE5pp9qgrInpCkhpJJjyF7fCIGejtVM+i2hsOqwqewbLLqGTQSDsLv82BEzUcFWGx2bf/IkLQjJLF0ZJia8Pu9CHGY2HkTDgMuF7Bhe6QfkNh3CPjCd4EPfhm4+z+Ap1+Fdl4jQ8UO1QMNLYCTxVtjkgwRa2jqRXNrPxZcMh6Zmcf/PRIREREREZNBFOOkMqigdLKaRUwqdmr2VqmePpIAKppQqRJCcluSQId2b4bP41ZDzvJLJiI9Kw8WmwPp2fkwGIzq/mRa+vbGGnX7CBl61t5UG/0OSFZD15Kj39G5Jv1/jjSGlmSP8PkjVUJHFpc7kjQ6Qs06xj7fY9Lh2i4crunC1Cl5SEm2wyTj/4iIiIiI6DhMBlFMCWuf+IMBf2SckCY5LQPZBePgSEjCSHgEDQd3qennpfm09PyR5tOO+ER0NNeitnoHDAYD8sdNRGpmjmoubXPEI7e4HAlJKSpJ1NlchwM7NqK7vTky5bz2tXZfFVpq96uEkQwjkz5E8nh0fkgSaO1WwOONnPaZU4BP3Al86q6jy2e05bolgNkEyICiHdWRZtM09khVUGv7IObNLoHNZkYcR4gREREREb0Nk0Gka3HaJ0GrPR6GaLpUgqQAAEFdSURBVHVAd1sTVj77EA7t3qJm95IhXJLYyS0uU8mcwf4elQ2Q5tLxSSmq/48khrwet+obZDJbUFYxC4kp6dp9G1STaqkMmjJ3kWpE3d/dgV0b38BLD/0Gyx+7Dy8//HtUrVmurW9XyaPp86/Q7rNY3Q+de6FwpP/P+u2RfkApScCC2cBHbtOWW49ZtO9vWBKZVUz+qdQ1RSqDBoeid0RjgvTk6uh0on9gGFMr8mE2syqIiIiIiOhkmAwiXTNqn+wz84pV8kYSMG2Nh/H0n3+G7WuWq1nDhCR7yirnaNvNGAmHkZSaicz8YlUFJLOOyXT0dke82ib3UT5trnZMqjpWEkKyz8Lr3o9JMy6BVduv4cAuPPf3X+LRX38PLzzwKxzatVn1Eho/ZRYuu+EuZOYWqiQVnXtDrkj/nwO1kSFi44uA2VO1pRKYNun4ZZa2bo62WCzAgDNSGVSvHUtjh8cbRG+vCz5fEKUlGTAZ+RZHRERERHQyjJRJ10zaJ/sJU+eirHK2avhsNJrgcTkx7OxHMBhp4pyYnIryqXNUUkj6A2Vp++UUlqptIqdovLauRG2TJFBZpSSD0qJbAbPVhhnzr8T1d38BsxYuQ0JKmrbODq9nWFUkJWrfV8xegLu++H1Mu3jJccfSudXaAdQ0RqaQT3BEEkGlRdGNJ0hLAS6ZBaQma/8m4oGuHuDA8e2faJTr7XPB7fEjKcmG/Nxk7e+db3FERERERCcTNyJ19efBmvXr8EJzCqqCFdE1NNYVGdqxLL4K9rKliDPbo2tHH+kTNNTfg6HBPrhdTtUzSIaBpWblwmpzqNnBvG4XnP29GAmHVFNoqfaR5I8YGuiDZzhynMFoQlpWnhoedmJ1jzSXdjn7MdDTid7OVjUrmVQkpWmPI48nt6VCaLRXBXkb1qPcdi8mZz0ZXTN2SaNoqQ7qj87kn5QAJGun1WaNfH8sqRySRtJ9A5HhZXZtnyRtXzlGD7zBVKyq+THmVBqRl6H9YnQoGAyhr9+NQCCE3JzkmJhSfl+dAwOeMiyavyC6hmh0am1vw/J12/GsfwncI6M3ZqAzN8tUjblpA7CVzI+uobFuJOCBp+YNzJ/SqduYIRZJzNDvNGHBjGhgTLqxbmeS9plzJqZWTImuOT28bEq6J8O9ktOzkFdSjnGTpqvhWhl5RapfkJBqofjEFOQWjdf2mYCMnIK3EkFCKnukd5Bsk4ohi9V20oSO1e5QiSKZgWzKnIWYc9k1qJy7SD1mRm6B2s7hYeeXVARlpAHlJZElO+PkiSBhMkV6CknlkOxbkKufRFCsMJmMyMpMRH5eSkwkgoiIiIiIzhaTQRQzZDYvqeiRaiCTSWYZeu8/LMp9Su8haT6dmpmrhpXJY6qu1ERERERERESjAJNBRERERESkW9IVIxQMwO/1wOd1q9sUm0KhMJpa+lBb34Pauu5TLg2NvfB6A+rfDo0NcqqkVUB7xyBqtHN48HAn6hp60NU9hGAwrLbT8ZgMIiIiIiIi3ZK+j9LLsbX+IFpq92u3IzPKUuxxu/3455Pb8ae/r8Uf/vr25fd/WYPf/ulN/OXB9ejociIQDEePpNHOHwiivdOJ51/Zgz9o5/FXv1+FvzywHq++UY3Obu1catvpeEwGERERERGRbvV3t2PVcw/hl//5YfzkC7dj/SuPR7dQrJHiEJ8vAI83oCp/TlwkmbBlewNeXL4HbncgUm5Co57PH8SGTXX4zJcewZr1h1UPySmTchFniFPJoc98+VFs2FKv9qOjmAwiIiIiIiLdCgYDGHYOoLutSVsaMTw0GN1CscZuM+OWG2fgI3ddjI9+6JLjlg+9fx5KSzJgtZhw5eLJyEiPV5NT0Oh34FAnNm6pg8VixIfvnIebr5uOa66agvffOht3v/8iuIZ82KRtlyGAdBSTQUREREREpEsDvZ1oqT2A3s42hMMh1QOmp6MZdft3orOlHrX7tmPf1jXYt20tWuoORI8Chgb60HBwN3ZvWqm2DfR2IRiI9BoaGuxD9bZ1alvt3u0Y1LYp2n1L4qmpZh92rHsN615+HCufeRAbX3tGPUZPe7P2HDjs6EIym42onJyH2TOKMGfm8YvZbFLnZ3xpJu64dTZSku2cnXSMaGzqRWNzH6Zo5/aSi0oxcUI2xo/LwNQp+Vhw8XiUj89Ea9sA2tqZCD5WnPaCeF5q39asX4fVLWYcCpVE19BYl23oxVzrIVgKZiPOaImupbHO37EXBZanUZT6ZnQN6YE/mIidbZ/AxBIj0lPYOFMvGtpsCGAcFs1fEF1DNDq1trdh+brteNa/BO4Re3Qt6cEsUzXmpg3AVjI/umZ02bN5Nda9/BgO7Nio+gVJsqZ08gzMXLAMJROnoau1Hq0Nh1VfoQnT5uG6D/+bmoH20K4tqFq3HPX7d8HmiMfim+5GWeVsOBKTULuvCi88cC/8Pq+6r1mLrkFpxQx43S40HtyL7WteUcmmvs42eIadSErLRHZ+CSrmLsTUiy5HXnE5jCaT9uxGZ6JhJOCBp+YNzJ/SibwMf3StfsnHYdewD7+5bzWaW/pxybxS3P2Bi6Jb9WNfnQP9ThMWzHBG1+jH409vxyuvV2N6ZT7uuXs+EhNkNueIQacHP//163A6vbj6ygpcc+WU6Bb9WLczCWlZMzG14sx+tvOaDGpq70AYLLXTizjtbJoQQpxBezM7B9O004UxEg7CAD8McRxTqy9xCIatMGovwbzIpR+hMJCbnc9kEI16TAbp12hPBq144i949m+/RHtTLUJBiW1GYDSZkT9uAuZefj18nmFsWfWiGj42e9E1+Oqv/gmbPR6vP/k3rHjyrzi4cxMcCUm48aP/jsU3fxgp6dnYtOIZ/N/X7lb3f9Udn8AV77sHRWUVqN+/E3/7yVfRVFONgM8Dg9EEg8GAUCiIcCikjp275AZ84AvfRUpGtko6jUaxlgySPjLbdzThF795HRfNGYfPfXIREuKPJhP0Qs/JoNdW7scLL+/W4qIRfOfr1yI9LV5VdYVHRtDd48JXv/UUJpZn4/plUzF7ZlH0KP0YE8mg11oc2Bcsi66hsS7P0IWF9n2wFl+KOJMtupbGOn/rdpRYH0Rp+ivRNaQHvmAyNjf9ByrLjchOZWWQXhxutsEdHM9kEI16TAbp12hPBjXX7sfOdStQtfYV7N3ypqrmmbv4elx2wweRmVeInvYWPP3nn6G2ugoVsxfgk//vXhSVT8Hjf/gR3nzhEXQ01cJqd2De0ptw2ye/phJDsv7hX31b3f893/glFlx7JwZ7O/Hkn36CqjXL4fUMI6ewFBOnX4SC0knYvXkVavftgMflRF5JuUoqXXvX52DX7ms0irVkUH+/G//13WeRnGLHdcsqsfCSMl0OD9NzMqindxhvvHkAf/zrWlw0pwTzLx6P3Jxkbb0L6zfVYntVEz77yUVavFSO5CT9fW4dE8mgF5pTUBWsiK6hsa7I0I5l8VWwly1FnJmBnV54G9aj3HYvJmc9GV1DeuANpmJVzY8xp9IYE4FdrJDAbsBTxmQQjXpMBunXaE8GSeVPw8E9WP38w1j5zANqKNfNH/8KbvnE12A2W+Aa7MfvvvNp7N64EiUTp+K2T30d85bcgD/995ewa8MKlTyS5I4kdT7xrV/BZDJjRbRqKCEpFf/2oz+rJNLujW/gzz/6Mpx9PSgsq8CCa27H7MuuRXxSCvq62vDyP36negz5PG6UTJqO//jFw8jIKYBBSnZHmVhKBjmHvKja2YRv/eB5fOaehbj6yinITE+IbtUXPSeDgqEw9la34U9/X4cNm2uRn5eK1BS7Or/SK0gagsvQP6kOMhr11zb5bJNBbCBNRERERES6ZLXHIzE1Hfb4BMTFxanFHp+ElPQsxCcmIz0nHxm5haoXkHt4SA3xGuzvwWBfFyw2B/JKJiApNUM1fx52DqrETldro0oKSYJIhnv5vG61bqCnUzWpLp5QiYo5CzF+yixVISTJookzLkZadr5KLHU016n7Cfh90WdJF0pHpxMr1xxCYUEqJpRlIz01PrqFxpK2tgE1o5iYf9F4zJ1VjGlT8jF7ehEunjsOfn8Q1Qc72ED6BEwGERERERFR7ImLg8lsUUO30jJz1TCupsP70NFUp6aflySQVAvlFpXBrW2ToWCSyJH+QnJc+bS5SExOg3vICWd/T/ROgaz8YpVsOlZmXjGS0zLV7XAoiP6eDlV1RBdOMBhGc2s/1q4/jGVLK1RCiLOHjU07djfjtTeqYbWY8OXPL8U3vrIMX/vyVfgv7euXP7cUMhTq1dersWNPS+QAUpgMIiIiIiKimJU/biLScwrgGR5Cc80+tXi125LQkSqf/NIJqum0TEXfeGivmppeJYOmzkVCchpCwQCCgaNVPnZHAizW44dDyoxkR9ZJlw6/14NwmJN1XEhOpweNjb1oaRtQPWYyM/Q5PEzvwuERHDzchYFBN77wmcsxrjgdVqvM1gf1dVxJOr70mcXo6x/GgYMdCMnsG6QwGURERERERDFLhnvJUDGZXr6vqx37t6+Hc6AXyelZKCqvRP64SWoq+Jp92yMzhfn9KrkzbtJ0NdRMlqTUSNWPaGusVcPAjiWNqPu729VtmUUsPTsfFqtDfU8XxuHaLhzSlqlT8pCSbIdpFPZvoncnTaJlkZlz8/NS3tYTyGgwIC83GdIpubtnSDWbpggmg4iIiIiIKCZIVY5M9S7VPEdIIkiaOcusYdL/Z/+ODarRtCSDcovLUTBuoqoMqqveiY6mGtgd8SgonYzElHS1PjE1A1n5JW/1Jao/sBO1+6pUDyGZzr614RAO7d6K7vZmmK02pGXlIj27ABbtNl04DU19qofMvNklsNnMMmqQxqD4eKuqAPL5AujudiEcPr7yR77v7BqC1xvQ9jNr+1uiW4jJICIiIiIi0i2j0aQSPXFxkY8+kqhZv/xJNeRLkkIyrCsjJ5IQCodC6O1shc2RiOT0bNU3KDO/GPb4RAwN9GLYOYD4pFSUVc5SyRxJ/kiVUG5xGSbPXgCzxYrO5jpsev1ZvPSP32L5P+/DSw/9Fgd2bIBrsA8p2n3OXHCVamot1UZ0YUhSUJpH9w8Mo7IiH2Yzq4LGKrvNjOLCNJXoefalXejsHkIgGFLbpC9Ud48Lz720WyWMZD+HncmgI5gMIiIiIiIi3ZJEkFTuyIxhkhiq3rYWLz/ye+zfvu6tGb2kOii/dJK6PRIOIzOvSPUMMpnNqkm0VPOYLRaVRJDvpV+Q9A0SMuwru2AcLr/xQ2raeNlnz+bVeOavP8c/f/t9vKI9lgwTk8TSlDkLMP+a22HTnhNdOB5vAL19Lvh8QZSWZMCkw+nGY4U0/Z5WWYApk3OxYtV+vPrGfmzYVIdtVY3YuKVOW3cAq9YcRGVFHqZPzWeT8GPwXz0R6ZpUinq0OG9oGHC6Tr7ItmEP4NX2O6GylMYYaQoogZ3HE1CBns8fZKNAIqIYJ8mbybMuVVO9p2bmqFnEPK4hDLucKnEjJBlUMmEqHInJaskfNyGyr8ZoNmvbpiEtM09tk+noy6bMeSsZJGSK+UuuvAW3fvJrkVnGUlLVEDKf16OSUWr7Vbfixo/+O8oqjz+Wzr++PreKE5KT7SftM0Njy5yZRfjA++aivDQLP/nlq/j3bzyBr3zzKXzt28/gf+9dgUkTc3DX7XMxe0Zx9AgScdoLYOQV8Bxbs34dXmhOQVWwIrqGxroiQzuWxVfBXrYUcebjZ0ygscvbsB7ltnsxOevJ6JqxrbYRePg54I0NkWTPiWR8eHIikJ8NTCoD7rgWyNNuW8zRHXTCG0zFqpofY06lEXkZ/uhafQkEQti9rxWbtzWgpbUfJpNRzSgxZ2axCgLMJv0FevvqHBjwlGHR/AXRNUSjU2t7G5av245n/UvgHmHMoCezTNWYmzYAW8n86JrRRz7uSJ8gZ183hp398LhdqponNSMHqZm5MBiNqnm0JIhc2nYhw8IcCUmw2OwIh0Nw9vfC53GraeGtNofqJ3TiMC95HJ9nGEMDfapZtDSRlinq5XHSsvORkpGF+MQUNZRsNBsJeOCpeQPzp3TqNmaQ4UP9A241nCgnKykmqkUkZuh3mrBghjO6Rl/8/iAGBj3o7R9GV9cQQuERJMZbkZrqUA3CkxJtsFj0OTRz3c4kpGXNxNSKKdE1p8f4PU309jnV2NyEQ04b2sNHO+3T2JYc50KZpR3mtFLEGXX2yTmGBQeakW7ajMz46uiasa29G3h9PbB+O9DWBXT3Hb/0aEtXD9DcAdQ0ANU1kWRQZhqgp6H8wbAdDX1XIC/LgERHZBy1Xkjw7fUG8fd/bMSKlfvhcvmQrQV2cqmjrqEH23Y0oa1jABUTc7VzalD9HfSiu98MbzANxUVF0TVEo9OQ9iG7pqkdB0LjEABjBj3JNXQj3+6FKWX0vg7J674kfyTBI1VCkshJTst6a9iYkISQVPAkpqSpxeZIUJU9QnoNSV+ghKQUtc2ekKjd39svMMjjSMWPJJFkSJjMGJZdOA45haVqmJlDO+7I441q4SCCffUoyhrWXcxwhCR/4h0WJCZE+j7FAhUz+AwoyjnJ1VEdkOouaSadluJARkYCcrOTkZuTjEzttqzXc/VXU4dVe33LRXZmVnTN6WE9HBHpmiQEQlocEwjKVSCgrBi4bvHRZel8YOL4yL6H6oGXVwNbd0USRTQ2+P0hbNneoCqCDNob/YJLxuPyhRPUcslFpQhoJ3/N+hrs3NOiqoeIiCh2GYwmmC021fz5XCVmJLkg95+QnKaqgiQ5FEkssVcJ0bkmSR9J8iUn2WC3m2Oi6utsMRlERDHl4hnAlz8eXT4G/NvdwAdvAuZNiySOht3A/lqgrTN6AI16Xl9ANQc0GuOweOEE3HTddMyaXoj5F5fizltna1/HqyTQ+k21qocQEREREVGsYzKIiGJKfk4kIaSWmcDSS4EP3wzcfJWUDEf2kWFj/focTq1L0iC6qaUPmZmJyMpKjK49SkqEpTlkZ5dT2/e8tMkjIiIiIhrVmAwiopjX0QPUNR2dSaysBMg7syG3dAEZDQbk5SSjp8ellhPJuoEBN8pKs1TPICIiIiKiWMeomIhiyuvrgK/95Ojyhe8B3/xf4OlXIw2jJ4wD5kwFCnOjB9CoJ+PBZWiYjBF/482DePr5nag+2IGDhzvx/Mu7sWV7IxITrFh46XhYdTqLBBERERHRmWAyiIhiyp5DwKMvHF0eexF4dQ1wsA4wGYGivMhQsgRH9AAa9cxmI6ZX5qOsNFPNHnb/Ixvx0D83q+X+hzeipa0fkybkoHRcpppunoiIiIgo1jEZREQxJTEeyM08ukjyp1Bb0lIiDaQ9XqCpFejpjx5Ao14oPILuHhcSEqxISbarZtGtbQNoae2H1xtQM0o4HBZ0dTsRPjIWkIiIiIgohjEZREQxZcklwI/+4+jynS8Cn/4AsGB2ZAr69duBPz8GbKiKHkCjntvtx4P/3IwVK/fjotkleOi+j+LB+z6C+//4Ee3rRzFzWgFeXL4HDz++FcPavkREREREsY7JICKKKVIFNH/O0UVmE7v7VuBjtwNTJwEWc2TIWEt7pFKIRj+PJ4BXX9+HyxdOwHVXT0Vq6tExfnL7+mumqm0vv7oXbo+f55WIiIiIYh6TQUQUU8wmwGE/usQ7gJQkIFlbjrSTkaFiXt/R2cVo9PL5gmrK+I5Op5pRTBZpJH2E3M7NTkZOVhLaOwbVfj5/MLqViIiIiCg2MRlERDHF6QKa248u9c1A1V5gy06gvUv6zwDpKUBSIhAXFz2IRi/tHMUZ4hDSTpwkeYLBt2fwAsEQvL7INoN2UnlaiYiIiCjWMRlERDFlfw3wzKtHlydeAR54OjK1fEsHMBIGpk0CSgu1F0i+Qo56FrMJGWkJyM9LxeHabm3pgt8fim6FaiZdE12fn5eCjPQEWCycUYyIiIiIYhs/6hBRTHl9PfD1nx5dvvt/wJ//CWzfA1gtkSFjS+cDlROjB9CoJtVb8fEWXHd1JbZWNeCl1/aiqaUPQy6vtvjQ3DqA5a9XY/vOJtU7SGYci2PJFxERERHFOCaDiCimGY1AYgJQVgJcvxS49zvAjVcA2RnRHWjUS4i34hN3z8dVSyqwaUs97rrnb/jgPX/HRz/9AD7y6ftVkuiaK6fgng9finhtXyIiIiKiWBc3oonePqfWrF+HF5pTUBWsiK6hsa7I0I5l8VWwly1FnNkeXUtjnbdhPcpt92Jy1pPRNWPb4BBwuB5o6YxMHX8iKRKRptJ2G5CaDBTnA8mJkXV64g2mYlXNjzGn0oi8DP1Nry5vZQ1Nfahr6FGNomXWMIfNAqvVhKzMRJQUpaOwIBUGg76qgvbVOTDgKcOi+Quia4hGp9b2Nixftx3P+pfAPcKYQU9mmaoxN20AtpL50TU01o0EPPDUvIH5Uzp1GTPEKokZ+p0mLJjhjK4hvVi3MwlpWTMxtWJKdM3pYWUQEemaJHbmTANuvhK47eq3L7cuA25YClyhxbCzK4GMVP0lgmKBDP0aV5yOyxeU4+brp+P6ZVNx9ZUVuOGaqVh4aRmKi9J0lwgiIiIiIjpbrAyis8bKIH3SW2UQRei9MihWsTKIxgqpDFqxbgvWB2fCN8LhmnpSZmzExEQXLDlndkWaRq+RoB/+1ipMKRlAenIgupbGusZ2G4bcRlSOH46uIb3YWxuP3PzpZ1wZxGQQnTUmg/SJySB9YjJIn5gMorGivaMDGzZvjH5HRERE76XJkyajYuKk6Henh8kgOmtMBukTk0H6xGSQPjEZRGNFMBSE1+uNfkdERETvJYvZAovFEv3u9DAZRGeNySB9YjJIn5gM0icmg4iIiIjobLCBNBERERERERFRDGEyiIiIiIiIiIgohpzXYWIvNydid2hidA2NdQWGTiyx74Jt/GWIM9mia2ms8zVtxnjbfZiQ8Vx0DemBN5iCdfXfwYxJRuSkc5iYXhxodGDIN57DxIiIiIjojJzXZFBdWw/8MEfX0FhnQgh2gw9xJrv2LykuupbGupGgF+Y4JyxGTjupJyMjBniCabBqL8FG43l52afzIBA0IDMjn8kgIiIiIjoj5y0Z1N3TA4/XE/2OiIiI3gt2mx2ZGRnR74iIiIiI3t15SwYREREREREREdGFxwbSREREREREREQxhMkgIiIiIiIiIqIYwmQQEREREREREVEMYTKIiIiIiIiIiCiGMBlERERERERERBRDzs9sYtojhP0jGAlHv4/T/pPFHIc4pqOIiM6JcEB73Q1pN455lTdYtNddY/QbIqLRirEj0YUjf38SQ8jf35EYQvv7UzEE//6IdOPcJ4Oib+ae9iBC7qPv6AZbHGw5RpgcfEUhIjoXvJ1BBAbDGAkefZl3FJphSuTrLhGNYowdiS6okdAI3K3y9yd/jJEYIs4YB3u+CUbt748JISJ9OOfJIHkx8bQF0fiQE65DfrVOXkysuUaUfDgZiRMtah0REb23Gh9xom+zB8HBIx+mgPIvpyJlhi36HRHR6MPYkejCCg6FUXvfAFy1foQ9kY+KciGp9FMpSBhvVgkhIhr7zv1fsvb6IcMU5Oq0rycUWXpDCPSHVPkhERGdG6HhMPx90dfd6BKOfK4iIhq9GDsSXVAyPCzgDGkxxNG/QYkn1NBN/gkS6QbTukREREREREREMYTJICIiIiIiIiKiGMJkEBERERERERFRDGEyiIiIiIiIiIgohjAZREREREREREQUQ5gMIiIiIiIiIiKKIXEjmujtc2IkOAJ3SxC1fxiAc59PrYszApYMI/JuSEB8sVmtIyKi91b7y8MY3OtDcCgcXQNUfCcDafNs0e+IiEYfxo5EF1bQPYKWJ5zq7zDsjXxUNCcbMOEraUicZIEpnvUERHpwQZJBRER0YTAZRESjHWNHotGHySAi/eFfMhERERERERFRDGEyiIiIiIiIiIgohjAZREREREREREQUQy5Mz6A4wGiLg73ADFMC81FEROeCpyWAwEAY4cDRl3n2DCKi0Y6xI9GFJX+Dw40BhIbDGAlF1rFnEJH+XJjZxEzam3m+EeM/m4rkSqtaR0RE7626Pw+ge40bgX7OJkZEYwdjR6ILKzAYxsFf9GLoYCQhJJgMItIf/iUTEREREREREcUQJoOIiIiIiIiIiGIIk0FERERERERERDGEySAiIiIiIiIiohjCZBARERERERERUQxhMoiIiIiIiIiIKIYwGUREREREREREFEPiRjTR2+fESBgIDIbQt9kLX1cwstIQB3OSAWkX2WDLNkXWERHRe6pvqxfDDQGEPdoLcVTWknjYC/i6S0SjF2NHogsr5B1Bzzo3fN0hjAQiHxUNVgMyFthhzTTCYIlT64hobDvnySAiIiIiIiIiIho9OEyMiIiIiIiIiCiGMBlERERERERERBRDmAwiIiIiIiIiIoohTAYREREREREREcUQJoOIiIiIiIiIiGIIk0FERERERERERDGEySAiIiIiIiIiohjCZBARERERERERUQxhMoiIiIiIiIiIKIYwGUREREREREREFEOYDCIiIiIiIiIiiiFMBhERERERERERxRAmg4iIiIiIiIiIYkjciCZ6m2JQyB2GtyOEkZD2zyAOsKQZ1XI2Qp4RBAZDCA6F1ffmFCPMSQYYrNodv9e0pxscDsPfF4LBEgdLqvGsHsffH0KgP4w47T7suSbEHfuja48R8o/A1x0CwiPqZ5GfabSR5xfyhGF0GGDNGH3Pj4iIaKzzdgYRdGnxjfZfnFmLGQpMMJjOPO4Y0Y4POLXYYzCMES3GkNhFYhhTgkHFYe+1sPYYAWdYLbZMoxYrxGmxzpk90EhwBJ7WIOQTg0Viu5TjryXL9oAW+/l7Q+rnONuY7FySGNXXHVS/Y2uGCUb76Hp+REQXgvF7muhtikHejiC6V7sxdCiA4Tq/SoZYMrQ3cS3QOVOeliAGdvjQv9MLV11AC5IAU5IW4Dje+wI0SV5524Po2+pTwZkl1XBWj+Pc70ffFo8KYOLHWY77uSXoCQyE0LfJA3ez9vNY4mDL1n6oUWagygvnAb8K+BxF5uhaIiIieq/0bfagv8oH12E/PG1B2PNNMNjiEGc4s3hJEkADu3wY3BF575aLWupiU7LhjO/rdAQGwnAd8qN/mxfWdC0mizeccYwX9o6g8/VhuBsC6sLTibFQyD2C4foAetZ5VCwiFxXPRez3r5ALZ73rPSqpZc0ywZw4up4fEdGFwFfCGOfvCak3+I5XXGh/aRi9G73wakHOGRuBCpDkfjpe1u5PWyTRIle/zgW5siYVTb3r3BjY6VNXvE4kV6okURTSghjZ/2SG6wLaz+9G7yYtgPFpP8SxwiPwD4a134kHPWs9KtAZjQb3+bTn54az2h9dQ0RERO+lgd0+dL42jHaJcZZrMU61D6HhUwQXpyIVx54RdK10o/2VSKwkCRRPRxAj5yZcUhU7knTqXDEMT3sQ4ZOECvKcpFI8HDghDooKafFR95sedK12w9349lgo5A2ri4Adrw5jYIf3rQrx0UQu+nVrsVKv9vsO9J2jXzYR0RjDZBBFyL8EbZGrXUOHzzypIMGGuzWoEjQGKU557y9unRFJ/kjwc+CnvWh7bgi+rlMkuLTnKeXSanjYBX7ORERENIpJzKDFSuFgpLrH339mSQ9Jtvh6g6oSO+wNHz80/QKRn6X5n4Oo/+uAqh46FcZKRET6w2QQIU57Y5eSYemZI9UxrppA5OrQyS8QndRwg19VFBnscYgvM5/VOPr31MiI6ikklT/ertDbq36i0i+xo/yLqSj+YLIaR09ERER0MpIMMSUZYM8zYSg6xEv1XDxNUsXs3OdTlTi2fJMaln9BRZ+6pz0Ed0vwpFXWQvoAlX4qBWWfTUXqbFt0LRERjXVMBlGE9i8hYbxZjaGWXjyelsAZBTiuwwEVFElzwvgi86i42oVQpLR5JKAtp/hRJKCTwCZpivWs+iQRERFRjNDCBGmgnDTZqnrxuLVYSRpBny7pQzi4xwejLQ6OArNqtDwayAVA6fVzqrhP4qOU6VakzLTBljP6eicSEdHZYTKI3hJfZoEt1xgJVvb6teAguuGdaHGDjDOXfjoSREgDY3OyFtzwX5YqvZaeRbJIkHUmlVbHUr2PtN+xDMVTwdpZ3s8RMoROkmRyBVCqp860CoyIiChWyUxaKdMsiDMDw7UB1YfndKghYj0hVbFsLzTBlm1USaFYp2ISbyQmkZlRz+RC5HG0w6QKXMVdWsx01vdzDBXHaXGS9EB6p/6TRERjFT+y01scBVpwkm9S06nLWHg1tOpd3kvD2putuzkIX2cQ5lQjEsrfeTYrSWbIG6skkN6VvLFr+6sA4QzehOW+VaJDCyrUfWgBmAQHR5IfxzZpVM9HmkzL8zmLuEHuS02pr923BA3yHOX3Jt9LhZVzv08tMhuZTLsv207r59Cey5HgyNsVhOugH4O7o/fTH1LPV5JEZ0J+D3KcVHBJA8iBXV4Mafcrw/uk0bc83ql+B7JNgqETf38no37f2n5vJa9O87wRERGNdjJkKqHcqmb/kgth3tbgacUPgf6wmnU16BpB8lTt+JRTVwUdF1vIBZt3Ie+zKmmhLaezv1DTwUtcJFPca8cc+5jqcbX377d+Lu3rW/cv68/CifGWPL6KSaSHUoM/EpPURIb2y36nFeNE70fFHFqMNdwQUI29JbaRxJvELacdd0XJvkdiHplxV+5rYI9PO9cyLFA7f/I7OMVzU88lGm8e9/s7GW2b/L5VouksYjoiovcCp5aPcfJGJ7NlSRCQucChpgKV5IC7KYDUuTYV9EjTwFOR6UZldgaZOSxpkgUpM2zq+KFDfiSMtyC+9Pgy6O61HrQ87lQzYMnwrHeaRlVmp5BmhjW/7le3rZlG9XyEPF+VbNnrU5VISZMtbz1O3R8H0PjQIPq3exEaHoFPCyz6tPvpen0YrtoA4kvMkZ9Le2yZGaP50SHVNDupwqqmj3+LFhD4B8IY0O5nRIv1ErSfJXGiNboxwtMaQOvTQ2h6eFBVRUljSfl9Nv1jEO0vDqN3gwd9m71qthC5LdstMrXrO0y5eiSo63hlGC1PDqH9BZd2vBd9WyOzmslU+BJQSt8CCSZl5g6ZMlWmej3VWP6RkRH1c7Q951L32fW6G/1bveiV57ZGu63dh8yKYi80q9+B9JE6YiQ8gtZnh9D8T6eascxRYlJT057q3MnUu82POtH2vEvtZ0kzwGhj3pmIiMYumXVUJtmQYVIZl9rVhBnuhuiFMC3eMVpPHc8ImXFV3nPlgkzB7YkqASPJJElWyFB1R74WQ0T7LXrbtNjiuSEVy9i19fL+fuz78rEkZpBESP1fBlV8YNCeh9zXETKcTR5HKpLStLhOnr9UJA3u8WP/D3vULGNyUU+Gu8lz7F41rGZNkzhJpqKX92+5uFP7u34146wMGZN451iSzHA3BtUQOLmwKD/PiUPguld70PyEFkfs1+K/WVbVn7L1WRdan3K9FZP0bfCi+023iiNNCca3TWF/IqlylnhT4riWp4a05+5WMVjvJi22edODgZ1a/KbFPzJ1v8SDEhdK7CKxkkwvfzJycVOeT5MWx0gc1huNv3rXa89Nu3+Zml5iOIlJj4uDRrRzrMWY0oi7Tfu5pA+lNSPy+zsZqV5qeUKLrR4bUhf65N+R/L6JiM4nfkKjo7T3NHu+CfHjzepqhTQ5lKsbpyRXNbQ3YqlYMdrjVP8dU+I7/5OSgMGnBUISnCjvcCFEXZ3RnodXe2OWK2mSkDkdCRMsSJ1rR0KZ5a3kS3KlVQuC7CphZZJG0dGoKuSWmT0iz+dMrhwdIc9JhtX5OkPq9yDTzUoQIsFW9lXxKLwjEfk3JyJtjk39tcn2zlddKig7GQkK3U1+NP5jUCWqJEGTqD3nrCscKniUr/YCs2r02PyYMzKF6zucIxUkOkNof9GFthdcKliTc5y1RLs/7bnlXhePlJlW9evoekMLfrTAc7jWf9xVrzhtY7IW2FkzTSroan/Jpc7Hyc6dBJwSbA03BlRDckmgvVPii4iIaKyRiyYpM6wwJcSpxIVUtrwTeS+WJIJcxIofZ1Hvp8ddfDpBWGKLQS1eOjIBxruMD5eLNv7+kJrdTC7SnQ5LikHFRalz7Gromyk+DvHFZrVOFluOEXFHnqP2/CWJJdOzy1CusyHJDzneXR9UiZXmx4dU/CK/x7ybE1D4/iTkXBMPR6FJJVUkZulZ6478/CchsZdsb35iSFUDSTPu1ItsyLshAfk3JWg/lw1x5jiVwOl8fVjFJe9EKnMG9njR+swQurRjJNGTMt2G3OvjUXCrFn8ttmvnzvxWEksSZsdVVGu/KknmyO9OLuh1azHc4F7fSaupJbYe2OlTFwvlOEehmb2YiOiC4Kc0Oo68mcqbnYyFH9jtU2+2pyJvghLcyJUySQRJkuG0ZhGT987Ti1Ui+x1ZTlPKNKtKdshXqWqy5ZqQpgUIWUsdSJ1thylRC3COfZrq/s/gAU6kHSqHS2JGElcJZWZkXu5AlrZkLtIW7Wv2lfHIviJeBYR9W71wHvCpRNqJfD1BLQiR6h+vupIls51lL4vXnns8Mi/T7mexdvsK7WfTgqcRLa7pfN2tApzwKeJQKT+WK3VyRU5KlpO130n2VQnqdyHPTZ6jJK0ytNuSZJJETn+VVyW33qL9riR4lStptiyjto9P/azHNc3UfhQpje7d7FEJI0uaUZ0D+d2/U8BLREQ01kgFT2K5JHWM8HUH4Tr0zokGSaRIrCQXkJIrLTDZtffFd3trjMYWpxX/HNnvdPfXSLwnsUDWYges6SYVc6iLT7JOWyRBYTzm/Vvd9b8UK0WGa8nQ9+51bjXMThI2EttkaUvmIrt6LjnXJKiqcqmWkYtikuQ6Wf8fiVF71ntUhbvENjlaLCNxVqZ2Hyru0mIl+Tms2SaVwJGKITX87BQ/wnBTQCVnnAf8qn+mHJt9ZeS+1HPU4rCcqxPUBTRJ9siFP4nljr14Jj+TxGdSgSUXGgeqIsPLjqUu+mlxmyScJEEm+8vzl98/EdH5xlceOo4M65GrE7JIY0QZfnSq8eGBoZAaHibVO/LGLR/8RwN5HlKRosqLtX/hMkOaBDVSxq0SVhLcnIP8hL8vrJJiklyRq0nyO5RhXFImnDhRC7C0AEXe9CWJIpVBEhweS4bCyXh3GVImAVjGAi0w0oKPlGk2VXYtM5jYta+pM2zIXhKP9Pl2dY687SGEfG+/UqeCrs6gGlomY+dlCJ8kkiRIkd+HlHDLc0yaZFWJoZyr42GwG1TyyFXnPy74ksqvpClScWXTnugIut6MJqGiCS3pMyVX5iSZhPCICvBSZtk4QxsREenOkapjGVotPXrkvVsSBKdKxMh2qQqSSiLpFyQVKxeaxHsJpRZVDW6Mj1PDyyS5JbGSLBK/HBm29l6SyiWpxpbETYYWx0gVt/wuZci/xG/pF9mRfrFdrZPp++Wio6rAiZLYxj8YUhfWZJvEe3nXJ6hjJEFnyzKpuEvuN3Nh5GKcDHmTIXDBIe1+TpINkoSOVOrI48m+udckqARQohYfSSwpz0WGxslFMYmVpMpckj296z2qgvvIeZffl1wMy9ZiN4kHpVpaLu5JEupIok6SVzI0X6rvJTZMm2dXQwGJiC4EJoPobSTpIFU1wWEZshRQV2VORt7MJXFgsED14bFmxHaJq/QcksSNBCInI4kRGScvAZYkgiQwPJZU4wwd0gJKZ0gLDmwqoSQBzclIYCJBTlKFRY1LlxLuE0kpt5w/CXDix5lUgkamsj0ZCQpVUKLt49WehySZVGB7DPm5JBGVPN2qgpjB3V51hU+CKPl5pEeQX5JOM23qKp+qEmMuiIiIdCqhPNKvUD7gS7XHsVUib9FWuWr8Knmgki1lltOrotYpiV+k55Lqs2Q/+ccQuXAnMYlUUkkiTfr9HCHDuVSSqDmgYiRJAsl5OFXiSrUJmG2DPc8cGbJ1wimS5JKKZ3f7VNJJptCXpM+pqprlfiShJ+dSLoDJeT22abfEelJhJRfe5FOW7CNNqOXCqly469/pVT0kLakG5N+cEOk3yVZBRHSBMBlEbyNjx5OnS1WHFsAcDqgrLyeSN77IFKl+1VRZroTE+puZqo7KOfUvQa4kSoNASZ5JP4ATK67c2u956JAPBlucqsCRxsvvRK7iZV5mV70HTkZK0mXIliRkMhY4TplYOkL1QJhpU5VUKrBtfvt5l6t2uddrwUuBWZVIS7Noj7afNKB01QWQogVQksiSn5OIiEjPEsvNKnEhyQS58CJNoY+jfSsXZqQaWGKA+COJoNjNBanhUNJgWmLMU5FegxKLSBGPJGikJ9IREjsNVHnVBB+OYhMSK7Sg6l1I9ZMM7zoZdX+7tPvTYlrpmSRV1O9GhtVLFZJUxkuiR4bknyj9UunHZFNVQS1PD6kLq1IlJEPtJWGUd2MkEfRujceJiM4lJoPobQxWA+w5RtiLTPC0RZJBJzbAk6aG7noZSoTIWOcUfviX5I3M8HVKcXFqVgk1+4QW2Jw4Bl4aKcqihm9lm9R5eCdyFSy+1KKaPp6M3Jc0a5QkT2S/d7k/7XlJMkuSTFIVJNPNnkgCGGkMnXdTgho61rfJo4IcGYsvQY0agiZXufjKQkREOiexjwwHkos8UiktyYFjK0+kUkguysh7scxelVim7Rjjn/3lgpe6cHbsTFwnkGF0EovIL1NipWNHdqnZZDtCWgykxV0ZkSH070aqkSRpd1JaPCYXwKRqR+13Gi0PJFElF0HluUhl9MnaKchsaFJtLRf3pEpbZjtrf2kYwaGQqrCWiU5UZVSM/3sgoguLH9nobeSDvDHegOQKq3qjk2SQNDY+lqc9qMZCyxuilPKao1O+xzJJ9LxbjxxVPaXtogKbE2IHaSQogaQ0IIwkjaIbTkFVGiUbVZLnZP0HJKEjVyvD3rCaPv7ItPKnWmSK/M4VbnV1TJ6HGuN+Iu1hJEklV86k9Fqe8+Aun+odJFVKEui+W9KJiIhID9QFEpn6Pdek4iJ3S0BVAh2hqk7U8KOwSjLYC9890aB3ciHL6NDilncKl7Rtb03bLr/OY5NBMnNaX0j97uVi2LvFXUJiKnOSTPMud3z8/hLnqv6YWhwj1e7trwyfNEY6dml7yaWqiSSRpOKsEyvCNBKjSQVR6szIRbKBHT7VFFvWyeQgMvMYL5wR0YXGlyE6KakmkYofmSpeTZt6zFTo8qbnbQ2q3jKOIpOaYSpyBSfGSaLnLP+iZIaOsF8LKLTAUSpuTvdKkSSX5CrbyfoPSGm1JITC2qmTMesy64Y0pz7lom3v3+ZV51KujsmMciejklBJBtXMWhpdS3m0ajA92fLOlVFEREQ6Y8szqf430hh5cK9fTRsupBdNyC2TK/hVEkIqU+Rizznz9nzEqCS5mCMXxs6GJIMktlHxz2kkgoTELVK9dbL4Si7OSSW1DN+X4fHSz+ekMdIxS98mb2QmXZlxTbvPUyV15LxLb6HIUMLIrGgyU5kMRyMiGg34yY1OSpILUvEjU4+qaVMP+98KNOQqiLwJSlJISl0NlnP0z0geb4wEN++JkUhAIdPhn1GQpH5HJ/lFaask6JKEXvbV8ci7OeG0lvzbEtWUqjK07KS0+5WrnO6GgBqzL0kwCX6HG4ORWTWIiIhihHzYd4yLNAGWJsT+fu19UHuflEoTGX4kjY5V9VCeSXtPPpM399OkPZYknk4SBYxeZ/trOOaHlFjpTCprJOlzbO+hY8nvz6CdP5k19WRx0cmW/FsStSVB9QUyJUt26+0kTpYhgsM1AVXBLRfnZLIQmel1bJ0wItIrJoPo5LQ3aqNVph01AyaoacQDQ2H1himJIUkGqVnHZsiMC9Fj3mOnHKqkQxIgmhxxqiJLkm0nmx3sZKQfgfyOQt7oimPI/clwPwk4UqZakT7PpmbdOJ0ldboNjlOMrw9pAW7XajcGdvnU1S6ZHlZKsGWYmav+FLOpEBER6ZBcPJMhPwnlZtUbxtcl/Wdk+FBIvU9KAkBmuzplz5p/1Yj2WINafHaSoUq6o8WmBmOcFn8aVCWW6tF0GiR2lf0jU8tHV0ZJQkn6/8jVM5k19f+3d669cV1VGN625+a5OHZqOyYtLS2BlELTpnygfChKkLgUCZD4xAfEb+E3QLkJhEAIBK0EggpKUUtUmqhcpJBCA1TETZqLGztO7LmP52KznnU86diZsWOrSezM+6ijmXrOnLNnHyv79bvWXos6P910UbcHbeFHPpLsuT2+NF0PV45X3Pyh/T0t6YumoWdfKnuNIhlCQog7jcwg0RtbdBEwLI5ENgr/XopaetpCRgG8lAkbCiJe39d9E0SRHDuehXkT4UI9mna6dT8wSM2hxEBYahcj3EQkkG7sRQ+9YOWNBw8OD3pWkKdUY6rZvJOy3PPBVj87D5lgNXs0Kzees2X3hBa5c3+qRF3PPp7yLKJ9n8t4p4z5VyuhRAczIYQQoh+wpZPGD3sOpXzdprMmf/yTOZv/Vy0kxwe9yPRWait6lnDcTx2WKaC8gRTiPTRatyLGdyWmZaiX2A4YUvNnM5qFlreA93lcr5dskumiy3yTzcWjq0bqeJAFhh6qXmpE27+6BMFqc03fek9XXrqn0V2MbqxkibF1cPalim/nF0KIO4nMILEhmfvjLmIwBhb/UXOBU73Y8LoyZA25gYBauUnYW81nPaOlEGUa9YKCfkTZ+gUiU5hrLRM3GG6NTbKiiDZSvBkh0o3k3kiA+nFv2HH5jRUTQvLa32vh8h/KXugQw68TxE5lphnmjpX93ux5NOl1pdj7Thex3MGk15aiva6nQAshhBB9AIEXr5uXGQjl6boHTVgHCdgQVPM6fF1q+/WCwFksQ7ZKCK3yime19ILAGh3LGmS99AEYMWnTHZg37aLdm0E2O/ekG2R2ZR6Me3YP5yu9tXlAC206d6zieqlq93iNEWcvyQzDCMqfrnuG9uSn054ZRuONUdNNBP7mj1d8TJhKQghxp5AZJDYkjqFgC9gQbVPfWFo1hFohOU5K9Nb3h7G1jAUXcVM5T8v67uLFa9CYoOosXL0l0Fw87PRdkmZ2JHQjyR5IhJVmCFdPVNx06xXp4+c1Ey2YN6SHd8vOSk7EXOBg2F0zUcJ890qp9qLgJlxnX66E+VerLpzWt32tzbfC4qmaXzP7wdU28vfRUncgDE/FwuTRtHcay5+235NTUYcxpUALIYS42yFbhDWcxgpsEyNQQ5YswRiCJlstHE3QjFpEmEKeZbTQPZiDFqAGDW3tm5sEfLrSucyzXu+CNZui0cwp2ViVtxth8WQtMlR6jB09iVlWerPuRhLbwTrBpMt9OBFS+6J7x9Y+z/bp4dGQjcR8s9Vr8eRSlJnUcUqCnZRTuPpa1TTXchg7nAxjT6R83DTf8EDaR5Om4VpuCGFAdcssEkKI24HMILEh1LKh6OHw/fFQvdSKWo/bIsnPaJW5VZL7hjxC1ii0wrW/Vd3IQMywmPLAlMCwyP+zFgr/rfv728NWZv6zB/voWWhZ2KMU4eiInQZtZ0ceSYRYbsDmpuZikqgipsr18duzF6U08XD1tYpHp+ydrp2/iFRiBuUOxkPlbMM7ipXP1T0tmXn28zHniMk5ux+kM5tY4nOYPakpVFMEx+Rfr7lRhLm0/4vZKDJnQhUQrvc8mTKRk/CWry5wZmxsPcw+IYQQ4m6CtZGmGggPAiILJ2shlh0IIw8n3QTYCtT8o1sra2vRtBBbz1i7e2kBnlmnt0VbK9l5r2sDHpxuBy7hbgY9mnQNSpby1b9Wo/IFpajFO7pjvZ4kmFnPt7p2E8MgwggiswtNQxFw9JJ3GHN9+u6ccw/QppH5thwyppXIkm/XDPK296aRZ54vhurFpps+E59Ke9CsfV3Ppv5EygOtc69UQ+E0mdt2ASGEuAPIDBKbwv7m3IfIWFnxtpupiVhI2898i9gWSY6T/RJ3YUT7zgu/LPiii3FQvdzwBfvSr4vhwrNFX4gxR7YD++0RDAO2AFP8unqp6bVwiPY0q6zqqwfuIDz12cQNXSpIK555vhTO/SQfZl8ueyox4ye6RTTq/M8LbsxNHEl7S9te9yI1FQtTX2CPeizMn6iE8z8rhHd+V/L6T5yP/e5k+lz6TTHM/Lbkn5n6fCaMHU65Edhm8fWaG1QrDXv/s1kTQIkQG177zwfZSZNHMx6x4/fk4nNF3+q2WzKzhBBCiO2C5hh9LBXio0OuNTAiMIIIsLQDJzfLkK2v6AG6W2H0sB3pnd+XvEnD0tVmKJ1rhLk/V1wrXX6x4tuP4hRB3gYUZKbGIGZK2c7rmUh2jWYxMld2HDaVbO2aODIc6Q2bkzPPLIaLvyq6nkR/oG14feHZgunMYgitECaeSrv27JA2a9j7yWGvg8j3fvunhXD+F4UwbzqVOVmyOSmdaYTLfyybtimE4pt1z46//6u560YQYE5dOVYJhdP1kLN7TzFqsrTXYNdPvz8e7v2KfTY94NvNFk6ZvurR6UwIIW4lMoPEprB4Dt8XD8lJExr2lz1ZI94VY2vaxsHwYPGeejrjUS+iZyzU099dDNPfWXSzgowhMlooTMyx24UUYvZmkyKMwXTmWwt+raoJhZ2asUIqOd0pHvjaiEecEDWYN2d/lPfxn/tx3os3I9CYw8kjad+y1+teIChzBxLhga/vCXtN5NARjs8jdDjf9PdMQJlYopgh4oTrIobaKe1E10hhnj9e9e2B2YPxMP7UsAkYe7/LNfkdIR2alOvCf+rhyiuVUJ+3kwghhBB3MRg+w/upszgUhmyNjOcGw+hjUX2YLWMfiWUHw/4vZU0TpHy70eyL5XD2h6YFvrkQzv4gH2ZfKHuWNVqJmjSuBbYJAT9MLLZITT+zEP5n17j2l2rw7qY7EZuf7EOJ8L6ns97AIgyshPkTUYDxre+bnkTbPFf0LJ/cw4mw7zOZMPIx05Mb/NXD/E0cTXtADi1DEGzGtCNzfebbNuemwy6/UDL9FUwH2XFfjopBt40+tCZaCt3DXO59MhUypr98a9o6+P1AS3Pflushqi9kYxVCiNvN0DeM1deiTyELZeRgwrsdIF7Ww0I3GMcUiuoEYRZgDvXKRkH40IFszyNJL2CMIdEJabqJsZibNZgORFWI8rQ/l7OxEE3hmXatHDdi52I//pprIpbY0mSLLUbG+uswbmoUJewaROwGE4MhtW/IFue4f892nR0KNyOEMh+wRX1NgccBjyBRB4dFO3cg2VVsUSuA+SAyl9jTW4y1o1GMBbMr+2AkvjphzHwPCkkz9tSEzZE9kyrOe7zO2meJPnIfUlOMmS1mjC/h892Jj9/mldoDfLY9n1yD95h75pX7Tw2g0SdSIWnz0TkPbLNbbhLJioWxx1M+32RedYMxYhRxDc7DfSH9mjkSQgghdi0rtg7ey3aipG+TvgHWW7SGrZ9eLNg0FduZ0E691kzfzm3aw4tM09Gqo1ZfW8PERmxNtWd0ixtLdgy6hoDa6KFIC5BFhLZCW2Qe4lzvagvOiIagth9ayjXFGq0T6Rj0CwWw+Z5tbYVmGkpFg2dsbIni596KfR2ckzIAaKFoPOu+9Er0PtnM6J+NYHSYKGgJ5pFt9HyHTpgL1zUTMdcbqcmoJiXj4Psk7fvyWQJhzK/rTUwYe43m68zoAddY9r3Red7Qw565d55lbueMj9m9svs++ngyjJlG9axstM3qsHw7WXPFNePoYdNTh6K6Rt1wbWbnZfzcd0xEtFi3eRVCiFvJwIqx+lqI24v95tFxgS5X7c5i8RETC+O26CNU1q7724NrVJc97ZksF7KcvKuHLfq7AcRFq7LidXhotY94QSwQMdwWPufLHu2jICXiCvHjgmed0BJCCCHEnQeToVk2vcRW9/JyGEqbVhozLZDrbTRtFTKO0WNsdfKgzvhq4Og9Ov8txbQNhZvRNa4n7f8xf5L3xNxU2g5s2yLbB73k7eaZ81GbE3veLRpSCCE2Q2aQEEIIIYQQQgghRB+xG/x+IYQQQgghhBBCCPEeITNICCGEEEIIIYQQoo+QGSSEEEIIIYQQQgjRR8gMEkIIIYQQQgghhOgjZAYJIYQQQgghhBBC9BEyg4QQQgghhBBCCCH6CJlBQgghhBBCCCGEEH2EzCAhhBBCCCGEEEKIPkJmkBBCCCGEEEIIIUQfITNICCGEEEIIIYQQoo+QGSSEEEIIIYQQQgjRR8gMEkIIIYQQQgghhOgjZAYJIYQQQgghhBBC9BEyg4QQQgghhBBCCCH6CJlBQgghhBBCCCGEEH2EzCAhhBBCCCGEEEKIviGE/wM8+1OROHbhIQAAAABJRU5ErkJggg==)"
      ],
      "metadata": {
        "id": "1PbnJ406plVU"
      }
    },
    {
      "cell_type": "code",
      "execution_count": null,
      "metadata": {
        "colab": {
          "base_uri": "https://localhost:8080/",
          "height": 332
        },
        "id": "q9qZgXGja9Kv",
        "outputId": "c3ab2200-dab5-4580-ba2c-313a45bfa7ae"
      },
      "outputs": [
        {
          "output_type": "execute_result",
          "data": {
            "text/html": [
              "\n",
              "  <div id=\"df-84b69409-c5d8-457b-b175-db100d3618f7\">\n",
              "    <div class=\"colab-df-container\">\n",
              "      <div>\n",
              "<style scoped>\n",
              "    .dataframe tbody tr th:only-of-type {\n",
              "        vertical-align: middle;\n",
              "    }\n",
              "\n",
              "    .dataframe tbody tr th {\n",
              "        vertical-align: top;\n",
              "    }\n",
              "\n",
              "    .dataframe thead th {\n",
              "        text-align: right;\n",
              "    }\n",
              "</style>\n",
              "<table border=\"1\" class=\"dataframe\">\n",
              "  <thead>\n",
              "    <tr style=\"text-align: right;\">\n",
              "      <th></th>\n",
              "      <th></th>\n",
              "      <th>price</th>\n",
              "      <th>mileage</th>\n",
              "      <th>weight</th>\n",
              "    </tr>\n",
              "    <tr>\n",
              "      <th>make</th>\n",
              "      <th>model</th>\n",
              "      <th></th>\n",
              "      <th></th>\n",
              "      <th></th>\n",
              "    </tr>\n",
              "  </thead>\n",
              "  <tbody>\n",
              "    <tr>\n",
              "      <th rowspan=\"2\" valign=\"top\">audi</th>\n",
              "      <th>hatchback</th>\n",
              "      <td>56323</td>\n",
              "      <td>29293</td>\n",
              "      <td>41975</td>\n",
              "    </tr>\n",
              "    <tr>\n",
              "      <th>sedan</th>\n",
              "      <td>20420</td>\n",
              "      <td>3314</td>\n",
              "      <td>53152</td>\n",
              "    </tr>\n",
              "    <tr>\n",
              "      <th rowspan=\"2\" valign=\"top\">bmw</th>\n",
              "      <th>hatchback</th>\n",
              "      <td>62739</td>\n",
              "      <td>56071</td>\n",
              "      <td>40913</td>\n",
              "    </tr>\n",
              "    <tr>\n",
              "      <th>sedan</th>\n",
              "      <td>90565</td>\n",
              "      <td>6585</td>\n",
              "      <td>14462</td>\n",
              "    </tr>\n",
              "    <tr>\n",
              "      <th rowspan=\"2\" valign=\"top\">opel</th>\n",
              "      <th>hatchback</th>\n",
              "      <td>69629</td>\n",
              "      <td>54185</td>\n",
              "      <td>38352</td>\n",
              "    </tr>\n",
              "    <tr>\n",
              "      <th>sedan</th>\n",
              "      <td>27289</td>\n",
              "      <td>77744</td>\n",
              "      <td>36300</td>\n",
              "    </tr>\n",
              "    <tr>\n",
              "      <th rowspan=\"2\" valign=\"top\">toyota</th>\n",
              "      <th>hatchback</th>\n",
              "      <td>30264</td>\n",
              "      <td>28646</td>\n",
              "      <td>22105</td>\n",
              "    </tr>\n",
              "    <tr>\n",
              "      <th>sedan</th>\n",
              "      <td>97356</td>\n",
              "      <td>81491</td>\n",
              "      <td>22270</td>\n",
              "    </tr>\n",
              "  </tbody>\n",
              "</table>\n",
              "</div>\n",
              "      <button class=\"colab-df-convert\" onclick=\"convertToInteractive('df-84b69409-c5d8-457b-b175-db100d3618f7')\"\n",
              "              title=\"Convert this dataframe to an interactive table.\"\n",
              "              style=\"display:none;\">\n",
              "        \n",
              "  <svg xmlns=\"http://www.w3.org/2000/svg\" height=\"24px\"viewBox=\"0 0 24 24\"\n",
              "       width=\"24px\">\n",
              "    <path d=\"M0 0h24v24H0V0z\" fill=\"none\"/>\n",
              "    <path d=\"M18.56 5.44l.94 2.06.94-2.06 2.06-.94-2.06-.94-.94-2.06-.94 2.06-2.06.94zm-11 1L8.5 8.5l.94-2.06 2.06-.94-2.06-.94L8.5 2.5l-.94 2.06-2.06.94zm10 10l.94 2.06.94-2.06 2.06-.94-2.06-.94-.94-2.06-.94 2.06-2.06.94z\"/><path d=\"M17.41 7.96l-1.37-1.37c-.4-.4-.92-.59-1.43-.59-.52 0-1.04.2-1.43.59L10.3 9.45l-7.72 7.72c-.78.78-.78 2.05 0 2.83L4 21.41c.39.39.9.59 1.41.59.51 0 1.02-.2 1.41-.59l7.78-7.78 2.81-2.81c.8-.78.8-2.07 0-2.86zM5.41 20L4 18.59l7.72-7.72 1.47 1.35L5.41 20z\"/>\n",
              "  </svg>\n",
              "      </button>\n",
              "      \n",
              "  <style>\n",
              "    .colab-df-container {\n",
              "      display:flex;\n",
              "      flex-wrap:wrap;\n",
              "      gap: 12px;\n",
              "    }\n",
              "\n",
              "    .colab-df-convert {\n",
              "      background-color: #E8F0FE;\n",
              "      border: none;\n",
              "      border-radius: 50%;\n",
              "      cursor: pointer;\n",
              "      display: none;\n",
              "      fill: #1967D2;\n",
              "      height: 32px;\n",
              "      padding: 0 0 0 0;\n",
              "      width: 32px;\n",
              "    }\n",
              "\n",
              "    .colab-df-convert:hover {\n",
              "      background-color: #E2EBFA;\n",
              "      box-shadow: 0px 1px 2px rgba(60, 64, 67, 0.3), 0px 1px 3px 1px rgba(60, 64, 67, 0.15);\n",
              "      fill: #174EA6;\n",
              "    }\n",
              "\n",
              "    [theme=dark] .colab-df-convert {\n",
              "      background-color: #3B4455;\n",
              "      fill: #D2E3FC;\n",
              "    }\n",
              "\n",
              "    [theme=dark] .colab-df-convert:hover {\n",
              "      background-color: #434B5C;\n",
              "      box-shadow: 0px 1px 3px 1px rgba(0, 0, 0, 0.15);\n",
              "      filter: drop-shadow(0px 1px 2px rgba(0, 0, 0, 0.3));\n",
              "      fill: #FFFFFF;\n",
              "    }\n",
              "  </style>\n",
              "\n",
              "      <script>\n",
              "        const buttonEl =\n",
              "          document.querySelector('#df-84b69409-c5d8-457b-b175-db100d3618f7 button.colab-df-convert');\n",
              "        buttonEl.style.display =\n",
              "          google.colab.kernel.accessAllowed ? 'block' : 'none';\n",
              "\n",
              "        async function convertToInteractive(key) {\n",
              "          const element = document.querySelector('#df-84b69409-c5d8-457b-b175-db100d3618f7');\n",
              "          const dataTable =\n",
              "            await google.colab.kernel.invokeFunction('convertToInteractive',\n",
              "                                                     [key], {});\n",
              "          if (!dataTable) return;\n",
              "\n",
              "          const docLinkHtml = 'Like what you see? Visit the ' +\n",
              "            '<a target=\"_blank\" href=https://colab.research.google.com/notebooks/data_table.ipynb>data table notebook</a>'\n",
              "            + ' to learn more about interactive tables.';\n",
              "          element.innerHTML = '';\n",
              "          dataTable['output_type'] = 'display_data';\n",
              "          await google.colab.output.renderOutput(dataTable, element);\n",
              "          const docLink = document.createElement('div');\n",
              "          docLink.innerHTML = docLinkHtml;\n",
              "          element.appendChild(docLink);\n",
              "        }\n",
              "      </script>\n",
              "    </div>\n",
              "  </div>\n",
              "  "
            ],
            "text/plain": [
              "                  price  mileage  weight\n",
              "make   model                            \n",
              "audi   hatchback  56323    29293   41975\n",
              "       sedan      20420     3314   53152\n",
              "bmw    hatchback  62739    56071   40913\n",
              "       sedan      90565     6585   14462\n",
              "opel   hatchback  69629    54185   38352\n",
              "       sedan      27289    77744   36300\n",
              "toyota hatchback  30264    28646   22105\n",
              "       sedan      97356    81491   22270"
            ]
          },
          "metadata": {},
          "execution_count": 94
        }
      ],
      "source": [
        "stacked.unstack()  \n",
        "#or\n",
        "#stacked.unstack(2)\n",
        "#stacked.unstack(-1)\n",
        "\n",
        "\n",
        "# stacked.unstack(0)\n",
        "# stacked.unstack(1)"
      ]
    },
    {
      "cell_type": "markdown",
      "source": [
        "## Pivot Tables"
      ],
      "metadata": {
        "id": "OBeo6f_7mPu8"
      }
    },
    {
      "cell_type": "markdown",
      "source": [
        "**df.pivot_table()**\n",
        "<br>index, columns, aggfunc, margins parameters"
      ],
      "metadata": {
        "id": "bSubWFD8n3tl"
      }
    },
    {
      "cell_type": "code",
      "source": [
        "df = pd.DataFrame(np.random.randint(10**5, size=(8,3)), \n",
        "                  index=index,  \n",
        "                  columns=[\"price\",\"mileage\",\"weight\"]).reset_index()\n",
        "df"
      ],
      "metadata": {
        "id": "VEV4L06rlAs3",
        "colab": {
          "base_uri": "https://localhost:8080/",
          "height": 300
        },
        "outputId": "d77c457d-5439-40b8-c938-89dce20a40a6"
      },
      "execution_count": null,
      "outputs": [
        {
          "output_type": "execute_result",
          "data": {
            "text/html": [
              "\n",
              "  <div id=\"df-2733c650-f426-44f2-989c-30feb51ce984\">\n",
              "    <div class=\"colab-df-container\">\n",
              "      <div>\n",
              "<style scoped>\n",
              "    .dataframe tbody tr th:only-of-type {\n",
              "        vertical-align: middle;\n",
              "    }\n",
              "\n",
              "    .dataframe tbody tr th {\n",
              "        vertical-align: top;\n",
              "    }\n",
              "\n",
              "    .dataframe thead th {\n",
              "        text-align: right;\n",
              "    }\n",
              "</style>\n",
              "<table border=\"1\" class=\"dataframe\">\n",
              "  <thead>\n",
              "    <tr style=\"text-align: right;\">\n",
              "      <th></th>\n",
              "      <th>make</th>\n",
              "      <th>model</th>\n",
              "      <th>price</th>\n",
              "      <th>mileage</th>\n",
              "      <th>weight</th>\n",
              "    </tr>\n",
              "  </thead>\n",
              "  <tbody>\n",
              "    <tr>\n",
              "      <th>0</th>\n",
              "      <td>opel</td>\n",
              "      <td>sedan</td>\n",
              "      <td>14544</td>\n",
              "      <td>31676</td>\n",
              "      <td>19052</td>\n",
              "    </tr>\n",
              "    <tr>\n",
              "      <th>1</th>\n",
              "      <td>opel</td>\n",
              "      <td>hatchback</td>\n",
              "      <td>176</td>\n",
              "      <td>86929</td>\n",
              "      <td>82515</td>\n",
              "    </tr>\n",
              "    <tr>\n",
              "      <th>2</th>\n",
              "      <td>bmw</td>\n",
              "      <td>sedan</td>\n",
              "      <td>25820</td>\n",
              "      <td>50753</td>\n",
              "      <td>36045</td>\n",
              "    </tr>\n",
              "    <tr>\n",
              "      <th>3</th>\n",
              "      <td>bmw</td>\n",
              "      <td>hatchback</td>\n",
              "      <td>43956</td>\n",
              "      <td>59110</td>\n",
              "      <td>97257</td>\n",
              "    </tr>\n",
              "    <tr>\n",
              "      <th>4</th>\n",
              "      <td>audi</td>\n",
              "      <td>sedan</td>\n",
              "      <td>27164</td>\n",
              "      <td>49125</td>\n",
              "      <td>98966</td>\n",
              "    </tr>\n",
              "    <tr>\n",
              "      <th>5</th>\n",
              "      <td>audi</td>\n",
              "      <td>hatchback</td>\n",
              "      <td>46623</td>\n",
              "      <td>21674</td>\n",
              "      <td>49585</td>\n",
              "    </tr>\n",
              "    <tr>\n",
              "      <th>6</th>\n",
              "      <td>toyota</td>\n",
              "      <td>sedan</td>\n",
              "      <td>61571</td>\n",
              "      <td>36884</td>\n",
              "      <td>38668</td>\n",
              "    </tr>\n",
              "    <tr>\n",
              "      <th>7</th>\n",
              "      <td>toyota</td>\n",
              "      <td>hatchback</td>\n",
              "      <td>60566</td>\n",
              "      <td>75041</td>\n",
              "      <td>33129</td>\n",
              "    </tr>\n",
              "  </tbody>\n",
              "</table>\n",
              "</div>\n",
              "      <button class=\"colab-df-convert\" onclick=\"convertToInteractive('df-2733c650-f426-44f2-989c-30feb51ce984')\"\n",
              "              title=\"Convert this dataframe to an interactive table.\"\n",
              "              style=\"display:none;\">\n",
              "        \n",
              "  <svg xmlns=\"http://www.w3.org/2000/svg\" height=\"24px\"viewBox=\"0 0 24 24\"\n",
              "       width=\"24px\">\n",
              "    <path d=\"M0 0h24v24H0V0z\" fill=\"none\"/>\n",
              "    <path d=\"M18.56 5.44l.94 2.06.94-2.06 2.06-.94-2.06-.94-.94-2.06-.94 2.06-2.06.94zm-11 1L8.5 8.5l.94-2.06 2.06-.94-2.06-.94L8.5 2.5l-.94 2.06-2.06.94zm10 10l.94 2.06.94-2.06 2.06-.94-2.06-.94-.94-2.06-.94 2.06-2.06.94z\"/><path d=\"M17.41 7.96l-1.37-1.37c-.4-.4-.92-.59-1.43-.59-.52 0-1.04.2-1.43.59L10.3 9.45l-7.72 7.72c-.78.78-.78 2.05 0 2.83L4 21.41c.39.39.9.59 1.41.59.51 0 1.02-.2 1.41-.59l7.78-7.78 2.81-2.81c.8-.78.8-2.07 0-2.86zM5.41 20L4 18.59l7.72-7.72 1.47 1.35L5.41 20z\"/>\n",
              "  </svg>\n",
              "      </button>\n",
              "      \n",
              "  <style>\n",
              "    .colab-df-container {\n",
              "      display:flex;\n",
              "      flex-wrap:wrap;\n",
              "      gap: 12px;\n",
              "    }\n",
              "\n",
              "    .colab-df-convert {\n",
              "      background-color: #E8F0FE;\n",
              "      border: none;\n",
              "      border-radius: 50%;\n",
              "      cursor: pointer;\n",
              "      display: none;\n",
              "      fill: #1967D2;\n",
              "      height: 32px;\n",
              "      padding: 0 0 0 0;\n",
              "      width: 32px;\n",
              "    }\n",
              "\n",
              "    .colab-df-convert:hover {\n",
              "      background-color: #E2EBFA;\n",
              "      box-shadow: 0px 1px 2px rgba(60, 64, 67, 0.3), 0px 1px 3px 1px rgba(60, 64, 67, 0.15);\n",
              "      fill: #174EA6;\n",
              "    }\n",
              "\n",
              "    [theme=dark] .colab-df-convert {\n",
              "      background-color: #3B4455;\n",
              "      fill: #D2E3FC;\n",
              "    }\n",
              "\n",
              "    [theme=dark] .colab-df-convert:hover {\n",
              "      background-color: #434B5C;\n",
              "      box-shadow: 0px 1px 3px 1px rgba(0, 0, 0, 0.15);\n",
              "      filter: drop-shadow(0px 1px 2px rgba(0, 0, 0, 0.3));\n",
              "      fill: #FFFFFF;\n",
              "    }\n",
              "  </style>\n",
              "\n",
              "      <script>\n",
              "        const buttonEl =\n",
              "          document.querySelector('#df-2733c650-f426-44f2-989c-30feb51ce984 button.colab-df-convert');\n",
              "        buttonEl.style.display =\n",
              "          google.colab.kernel.accessAllowed ? 'block' : 'none';\n",
              "\n",
              "        async function convertToInteractive(key) {\n",
              "          const element = document.querySelector('#df-2733c650-f426-44f2-989c-30feb51ce984');\n",
              "          const dataTable =\n",
              "            await google.colab.kernel.invokeFunction('convertToInteractive',\n",
              "                                                     [key], {});\n",
              "          if (!dataTable) return;\n",
              "\n",
              "          const docLinkHtml = 'Like what you see? Visit the ' +\n",
              "            '<a target=\"_blank\" href=https://colab.research.google.com/notebooks/data_table.ipynb>data table notebook</a>'\n",
              "            + ' to learn more about interactive tables.';\n",
              "          element.innerHTML = '';\n",
              "          dataTable['output_type'] = 'display_data';\n",
              "          await google.colab.output.renderOutput(dataTable, element);\n",
              "          const docLink = document.createElement('div');\n",
              "          docLink.innerHTML = docLinkHtml;\n",
              "          element.appendChild(docLink);\n",
              "        }\n",
              "      </script>\n",
              "    </div>\n",
              "  </div>\n",
              "  "
            ],
            "text/plain": [
              "     make      model  price  mileage  weight\n",
              "0    opel      sedan  14544    31676   19052\n",
              "1    opel  hatchback    176    86929   82515\n",
              "2     bmw      sedan  25820    50753   36045\n",
              "3     bmw  hatchback  43956    59110   97257\n",
              "4    audi      sedan  27164    49125   98966\n",
              "5    audi  hatchback  46623    21674   49585\n",
              "6  toyota      sedan  61571    36884   38668\n",
              "7  toyota  hatchback  60566    75041   33129"
            ]
          },
          "metadata": {},
          "execution_count": 103
        }
      ]
    },
    {
      "cell_type": "code",
      "source": [
        "# pd.pivot_table(df, values=\"price\", index=\"make\") # as a default:  aggfunc=np.mean\n",
        "pd.pivot_table(df, values=\"price\", index=\"make\", aggfunc=np.sum)"
      ],
      "metadata": {
        "colab": {
          "base_uri": "https://localhost:8080/",
          "height": 206
        },
        "id": "wJMeur1g_FUw",
        "outputId": "a1f3d06a-f8e2-4bd3-9840-234838f73631"
      },
      "execution_count": null,
      "outputs": [
        {
          "output_type": "execute_result",
          "data": {
            "text/html": [
              "\n",
              "  <div id=\"df-d47a0aa3-f899-4627-8794-d6f1fe6cccf1\">\n",
              "    <div class=\"colab-df-container\">\n",
              "      <div>\n",
              "<style scoped>\n",
              "    .dataframe tbody tr th:only-of-type {\n",
              "        vertical-align: middle;\n",
              "    }\n",
              "\n",
              "    .dataframe tbody tr th {\n",
              "        vertical-align: top;\n",
              "    }\n",
              "\n",
              "    .dataframe thead th {\n",
              "        text-align: right;\n",
              "    }\n",
              "</style>\n",
              "<table border=\"1\" class=\"dataframe\">\n",
              "  <thead>\n",
              "    <tr style=\"text-align: right;\">\n",
              "      <th></th>\n",
              "      <th>price</th>\n",
              "    </tr>\n",
              "    <tr>\n",
              "      <th>make</th>\n",
              "      <th></th>\n",
              "    </tr>\n",
              "  </thead>\n",
              "  <tbody>\n",
              "    <tr>\n",
              "      <th>audi</th>\n",
              "      <td>73787</td>\n",
              "    </tr>\n",
              "    <tr>\n",
              "      <th>bmw</th>\n",
              "      <td>69776</td>\n",
              "    </tr>\n",
              "    <tr>\n",
              "      <th>opel</th>\n",
              "      <td>14720</td>\n",
              "    </tr>\n",
              "    <tr>\n",
              "      <th>toyota</th>\n",
              "      <td>122137</td>\n",
              "    </tr>\n",
              "  </tbody>\n",
              "</table>\n",
              "</div>\n",
              "      <button class=\"colab-df-convert\" onclick=\"convertToInteractive('df-d47a0aa3-f899-4627-8794-d6f1fe6cccf1')\"\n",
              "              title=\"Convert this dataframe to an interactive table.\"\n",
              "              style=\"display:none;\">\n",
              "        \n",
              "  <svg xmlns=\"http://www.w3.org/2000/svg\" height=\"24px\"viewBox=\"0 0 24 24\"\n",
              "       width=\"24px\">\n",
              "    <path d=\"M0 0h24v24H0V0z\" fill=\"none\"/>\n",
              "    <path d=\"M18.56 5.44l.94 2.06.94-2.06 2.06-.94-2.06-.94-.94-2.06-.94 2.06-2.06.94zm-11 1L8.5 8.5l.94-2.06 2.06-.94-2.06-.94L8.5 2.5l-.94 2.06-2.06.94zm10 10l.94 2.06.94-2.06 2.06-.94-2.06-.94-.94-2.06-.94 2.06-2.06.94z\"/><path d=\"M17.41 7.96l-1.37-1.37c-.4-.4-.92-.59-1.43-.59-.52 0-1.04.2-1.43.59L10.3 9.45l-7.72 7.72c-.78.78-.78 2.05 0 2.83L4 21.41c.39.39.9.59 1.41.59.51 0 1.02-.2 1.41-.59l7.78-7.78 2.81-2.81c.8-.78.8-2.07 0-2.86zM5.41 20L4 18.59l7.72-7.72 1.47 1.35L5.41 20z\"/>\n",
              "  </svg>\n",
              "      </button>\n",
              "      \n",
              "  <style>\n",
              "    .colab-df-container {\n",
              "      display:flex;\n",
              "      flex-wrap:wrap;\n",
              "      gap: 12px;\n",
              "    }\n",
              "\n",
              "    .colab-df-convert {\n",
              "      background-color: #E8F0FE;\n",
              "      border: none;\n",
              "      border-radius: 50%;\n",
              "      cursor: pointer;\n",
              "      display: none;\n",
              "      fill: #1967D2;\n",
              "      height: 32px;\n",
              "      padding: 0 0 0 0;\n",
              "      width: 32px;\n",
              "    }\n",
              "\n",
              "    .colab-df-convert:hover {\n",
              "      background-color: #E2EBFA;\n",
              "      box-shadow: 0px 1px 2px rgba(60, 64, 67, 0.3), 0px 1px 3px 1px rgba(60, 64, 67, 0.15);\n",
              "      fill: #174EA6;\n",
              "    }\n",
              "\n",
              "    [theme=dark] .colab-df-convert {\n",
              "      background-color: #3B4455;\n",
              "      fill: #D2E3FC;\n",
              "    }\n",
              "\n",
              "    [theme=dark] .colab-df-convert:hover {\n",
              "      background-color: #434B5C;\n",
              "      box-shadow: 0px 1px 3px 1px rgba(0, 0, 0, 0.15);\n",
              "      filter: drop-shadow(0px 1px 2px rgba(0, 0, 0, 0.3));\n",
              "      fill: #FFFFFF;\n",
              "    }\n",
              "  </style>\n",
              "\n",
              "      <script>\n",
              "        const buttonEl =\n",
              "          document.querySelector('#df-d47a0aa3-f899-4627-8794-d6f1fe6cccf1 button.colab-df-convert');\n",
              "        buttonEl.style.display =\n",
              "          google.colab.kernel.accessAllowed ? 'block' : 'none';\n",
              "\n",
              "        async function convertToInteractive(key) {\n",
              "          const element = document.querySelector('#df-d47a0aa3-f899-4627-8794-d6f1fe6cccf1');\n",
              "          const dataTable =\n",
              "            await google.colab.kernel.invokeFunction('convertToInteractive',\n",
              "                                                     [key], {});\n",
              "          if (!dataTable) return;\n",
              "\n",
              "          const docLinkHtml = 'Like what you see? Visit the ' +\n",
              "            '<a target=\"_blank\" href=https://colab.research.google.com/notebooks/data_table.ipynb>data table notebook</a>'\n",
              "            + ' to learn more about interactive tables.';\n",
              "          element.innerHTML = '';\n",
              "          dataTable['output_type'] = 'display_data';\n",
              "          await google.colab.output.renderOutput(dataTable, element);\n",
              "          const docLink = document.createElement('div');\n",
              "          docLink.innerHTML = docLinkHtml;\n",
              "          element.appendChild(docLink);\n",
              "        }\n",
              "      </script>\n",
              "    </div>\n",
              "  </div>\n",
              "  "
            ],
            "text/plain": [
              "         price\n",
              "make          \n",
              "audi     73787\n",
              "bmw      69776\n",
              "opel     14720\n",
              "toyota  122137"
            ]
          },
          "metadata": {},
          "execution_count": 105
        }
      ]
    },
    {
      "cell_type": "code",
      "source": [
        "pd.pivot_table(df, values=[\"price\",\"mileage\",\"weight\"], index=\"make\", aggfunc={'price': np.mean,\n",
        "                                                                               'mileage': np.median,\n",
        "                                                                               \"weight\": np.max})"
      ],
      "metadata": {
        "colab": {
          "base_uri": "https://localhost:8080/",
          "height": 206
        },
        "id": "djmBlTqp_FX0",
        "outputId": "532732da-4ff9-4b86-e75e-8cc3b883cf8e"
      },
      "execution_count": null,
      "outputs": [
        {
          "output_type": "execute_result",
          "data": {
            "text/html": [
              "\n",
              "  <div id=\"df-2e4f4932-bf0b-4674-ac9b-0487a4b2d611\">\n",
              "    <div class=\"colab-df-container\">\n",
              "      <div>\n",
              "<style scoped>\n",
              "    .dataframe tbody tr th:only-of-type {\n",
              "        vertical-align: middle;\n",
              "    }\n",
              "\n",
              "    .dataframe tbody tr th {\n",
              "        vertical-align: top;\n",
              "    }\n",
              "\n",
              "    .dataframe thead th {\n",
              "        text-align: right;\n",
              "    }\n",
              "</style>\n",
              "<table border=\"1\" class=\"dataframe\">\n",
              "  <thead>\n",
              "    <tr style=\"text-align: right;\">\n",
              "      <th></th>\n",
              "      <th>mileage</th>\n",
              "      <th>price</th>\n",
              "      <th>weight</th>\n",
              "    </tr>\n",
              "    <tr>\n",
              "      <th>make</th>\n",
              "      <th></th>\n",
              "      <th></th>\n",
              "      <th></th>\n",
              "    </tr>\n",
              "  </thead>\n",
              "  <tbody>\n",
              "    <tr>\n",
              "      <th>audi</th>\n",
              "      <td>35399.5</td>\n",
              "      <td>36893.5</td>\n",
              "      <td>98966</td>\n",
              "    </tr>\n",
              "    <tr>\n",
              "      <th>bmw</th>\n",
              "      <td>54931.5</td>\n",
              "      <td>34888.0</td>\n",
              "      <td>97257</td>\n",
              "    </tr>\n",
              "    <tr>\n",
              "      <th>opel</th>\n",
              "      <td>59302.5</td>\n",
              "      <td>7360.0</td>\n",
              "      <td>82515</td>\n",
              "    </tr>\n",
              "    <tr>\n",
              "      <th>toyota</th>\n",
              "      <td>55962.5</td>\n",
              "      <td>61068.5</td>\n",
              "      <td>38668</td>\n",
              "    </tr>\n",
              "  </tbody>\n",
              "</table>\n",
              "</div>\n",
              "      <button class=\"colab-df-convert\" onclick=\"convertToInteractive('df-2e4f4932-bf0b-4674-ac9b-0487a4b2d611')\"\n",
              "              title=\"Convert this dataframe to an interactive table.\"\n",
              "              style=\"display:none;\">\n",
              "        \n",
              "  <svg xmlns=\"http://www.w3.org/2000/svg\" height=\"24px\"viewBox=\"0 0 24 24\"\n",
              "       width=\"24px\">\n",
              "    <path d=\"M0 0h24v24H0V0z\" fill=\"none\"/>\n",
              "    <path d=\"M18.56 5.44l.94 2.06.94-2.06 2.06-.94-2.06-.94-.94-2.06-.94 2.06-2.06.94zm-11 1L8.5 8.5l.94-2.06 2.06-.94-2.06-.94L8.5 2.5l-.94 2.06-2.06.94zm10 10l.94 2.06.94-2.06 2.06-.94-2.06-.94-.94-2.06-.94 2.06-2.06.94z\"/><path d=\"M17.41 7.96l-1.37-1.37c-.4-.4-.92-.59-1.43-.59-.52 0-1.04.2-1.43.59L10.3 9.45l-7.72 7.72c-.78.78-.78 2.05 0 2.83L4 21.41c.39.39.9.59 1.41.59.51 0 1.02-.2 1.41-.59l7.78-7.78 2.81-2.81c.8-.78.8-2.07 0-2.86zM5.41 20L4 18.59l7.72-7.72 1.47 1.35L5.41 20z\"/>\n",
              "  </svg>\n",
              "      </button>\n",
              "      \n",
              "  <style>\n",
              "    .colab-df-container {\n",
              "      display:flex;\n",
              "      flex-wrap:wrap;\n",
              "      gap: 12px;\n",
              "    }\n",
              "\n",
              "    .colab-df-convert {\n",
              "      background-color: #E8F0FE;\n",
              "      border: none;\n",
              "      border-radius: 50%;\n",
              "      cursor: pointer;\n",
              "      display: none;\n",
              "      fill: #1967D2;\n",
              "      height: 32px;\n",
              "      padding: 0 0 0 0;\n",
              "      width: 32px;\n",
              "    }\n",
              "\n",
              "    .colab-df-convert:hover {\n",
              "      background-color: #E2EBFA;\n",
              "      box-shadow: 0px 1px 2px rgba(60, 64, 67, 0.3), 0px 1px 3px 1px rgba(60, 64, 67, 0.15);\n",
              "      fill: #174EA6;\n",
              "    }\n",
              "\n",
              "    [theme=dark] .colab-df-convert {\n",
              "      background-color: #3B4455;\n",
              "      fill: #D2E3FC;\n",
              "    }\n",
              "\n",
              "    [theme=dark] .colab-df-convert:hover {\n",
              "      background-color: #434B5C;\n",
              "      box-shadow: 0px 1px 3px 1px rgba(0, 0, 0, 0.15);\n",
              "      filter: drop-shadow(0px 1px 2px rgba(0, 0, 0, 0.3));\n",
              "      fill: #FFFFFF;\n",
              "    }\n",
              "  </style>\n",
              "\n",
              "      <script>\n",
              "        const buttonEl =\n",
              "          document.querySelector('#df-2e4f4932-bf0b-4674-ac9b-0487a4b2d611 button.colab-df-convert');\n",
              "        buttonEl.style.display =\n",
              "          google.colab.kernel.accessAllowed ? 'block' : 'none';\n",
              "\n",
              "        async function convertToInteractive(key) {\n",
              "          const element = document.querySelector('#df-2e4f4932-bf0b-4674-ac9b-0487a4b2d611');\n",
              "          const dataTable =\n",
              "            await google.colab.kernel.invokeFunction('convertToInteractive',\n",
              "                                                     [key], {});\n",
              "          if (!dataTable) return;\n",
              "\n",
              "          const docLinkHtml = 'Like what you see? Visit the ' +\n",
              "            '<a target=\"_blank\" href=https://colab.research.google.com/notebooks/data_table.ipynb>data table notebook</a>'\n",
              "            + ' to learn more about interactive tables.';\n",
              "          element.innerHTML = '';\n",
              "          dataTable['output_type'] = 'display_data';\n",
              "          await google.colab.output.renderOutput(dataTable, element);\n",
              "          const docLink = document.createElement('div');\n",
              "          docLink.innerHTML = docLinkHtml;\n",
              "          element.appendChild(docLink);\n",
              "        }\n",
              "      </script>\n",
              "    </div>\n",
              "  </div>\n",
              "  "
            ],
            "text/plain": [
              "        mileage    price  weight\n",
              "make                            \n",
              "audi    35399.5  36893.5   98966\n",
              "bmw     54931.5  34888.0   97257\n",
              "opel    59302.5   7360.0   82515\n",
              "toyota  55962.5  61068.5   38668"
            ]
          },
          "metadata": {},
          "execution_count": 110
        }
      ]
    },
    {
      "cell_type": "code",
      "source": [
        "# Alternative\n",
        "df.groupby(\"make\").agg({'price' : ['mean'], \n",
        "                        'mileage' : ['median'], \n",
        "                        'weight' : ['max']}).droplevel(1, axis=1)"
      ],
      "metadata": {
        "colab": {
          "base_uri": "https://localhost:8080/",
          "height": 206
        },
        "id": "K_KYnIG-_Fz5",
        "outputId": "9d2ed0ad-e558-4dc9-e681-9f04a92ef0bd"
      },
      "execution_count": null,
      "outputs": [
        {
          "output_type": "execute_result",
          "data": {
            "text/html": [
              "\n",
              "  <div id=\"df-e477e842-0b51-4c13-9037-e7c9a002d569\">\n",
              "    <div class=\"colab-df-container\">\n",
              "      <div>\n",
              "<style scoped>\n",
              "    .dataframe tbody tr th:only-of-type {\n",
              "        vertical-align: middle;\n",
              "    }\n",
              "\n",
              "    .dataframe tbody tr th {\n",
              "        vertical-align: top;\n",
              "    }\n",
              "\n",
              "    .dataframe thead th {\n",
              "        text-align: right;\n",
              "    }\n",
              "</style>\n",
              "<table border=\"1\" class=\"dataframe\">\n",
              "  <thead>\n",
              "    <tr style=\"text-align: right;\">\n",
              "      <th></th>\n",
              "      <th>price</th>\n",
              "      <th>mileage</th>\n",
              "      <th>weight</th>\n",
              "    </tr>\n",
              "    <tr>\n",
              "      <th>make</th>\n",
              "      <th></th>\n",
              "      <th></th>\n",
              "      <th></th>\n",
              "    </tr>\n",
              "  </thead>\n",
              "  <tbody>\n",
              "    <tr>\n",
              "      <th>audi</th>\n",
              "      <td>36893.5</td>\n",
              "      <td>35399.5</td>\n",
              "      <td>98966</td>\n",
              "    </tr>\n",
              "    <tr>\n",
              "      <th>bmw</th>\n",
              "      <td>34888.0</td>\n",
              "      <td>54931.5</td>\n",
              "      <td>97257</td>\n",
              "    </tr>\n",
              "    <tr>\n",
              "      <th>opel</th>\n",
              "      <td>7360.0</td>\n",
              "      <td>59302.5</td>\n",
              "      <td>82515</td>\n",
              "    </tr>\n",
              "    <tr>\n",
              "      <th>toyota</th>\n",
              "      <td>61068.5</td>\n",
              "      <td>55962.5</td>\n",
              "      <td>38668</td>\n",
              "    </tr>\n",
              "  </tbody>\n",
              "</table>\n",
              "</div>\n",
              "      <button class=\"colab-df-convert\" onclick=\"convertToInteractive('df-e477e842-0b51-4c13-9037-e7c9a002d569')\"\n",
              "              title=\"Convert this dataframe to an interactive table.\"\n",
              "              style=\"display:none;\">\n",
              "        \n",
              "  <svg xmlns=\"http://www.w3.org/2000/svg\" height=\"24px\"viewBox=\"0 0 24 24\"\n",
              "       width=\"24px\">\n",
              "    <path d=\"M0 0h24v24H0V0z\" fill=\"none\"/>\n",
              "    <path d=\"M18.56 5.44l.94 2.06.94-2.06 2.06-.94-2.06-.94-.94-2.06-.94 2.06-2.06.94zm-11 1L8.5 8.5l.94-2.06 2.06-.94-2.06-.94L8.5 2.5l-.94 2.06-2.06.94zm10 10l.94 2.06.94-2.06 2.06-.94-2.06-.94-.94-2.06-.94 2.06-2.06.94z\"/><path d=\"M17.41 7.96l-1.37-1.37c-.4-.4-.92-.59-1.43-.59-.52 0-1.04.2-1.43.59L10.3 9.45l-7.72 7.72c-.78.78-.78 2.05 0 2.83L4 21.41c.39.39.9.59 1.41.59.51 0 1.02-.2 1.41-.59l7.78-7.78 2.81-2.81c.8-.78.8-2.07 0-2.86zM5.41 20L4 18.59l7.72-7.72 1.47 1.35L5.41 20z\"/>\n",
              "  </svg>\n",
              "      </button>\n",
              "      \n",
              "  <style>\n",
              "    .colab-df-container {\n",
              "      display:flex;\n",
              "      flex-wrap:wrap;\n",
              "      gap: 12px;\n",
              "    }\n",
              "\n",
              "    .colab-df-convert {\n",
              "      background-color: #E8F0FE;\n",
              "      border: none;\n",
              "      border-radius: 50%;\n",
              "      cursor: pointer;\n",
              "      display: none;\n",
              "      fill: #1967D2;\n",
              "      height: 32px;\n",
              "      padding: 0 0 0 0;\n",
              "      width: 32px;\n",
              "    }\n",
              "\n",
              "    .colab-df-convert:hover {\n",
              "      background-color: #E2EBFA;\n",
              "      box-shadow: 0px 1px 2px rgba(60, 64, 67, 0.3), 0px 1px 3px 1px rgba(60, 64, 67, 0.15);\n",
              "      fill: #174EA6;\n",
              "    }\n",
              "\n",
              "    [theme=dark] .colab-df-convert {\n",
              "      background-color: #3B4455;\n",
              "      fill: #D2E3FC;\n",
              "    }\n",
              "\n",
              "    [theme=dark] .colab-df-convert:hover {\n",
              "      background-color: #434B5C;\n",
              "      box-shadow: 0px 1px 3px 1px rgba(0, 0, 0, 0.15);\n",
              "      filter: drop-shadow(0px 1px 2px rgba(0, 0, 0, 0.3));\n",
              "      fill: #FFFFFF;\n",
              "    }\n",
              "  </style>\n",
              "\n",
              "      <script>\n",
              "        const buttonEl =\n",
              "          document.querySelector('#df-e477e842-0b51-4c13-9037-e7c9a002d569 button.colab-df-convert');\n",
              "        buttonEl.style.display =\n",
              "          google.colab.kernel.accessAllowed ? 'block' : 'none';\n",
              "\n",
              "        async function convertToInteractive(key) {\n",
              "          const element = document.querySelector('#df-e477e842-0b51-4c13-9037-e7c9a002d569');\n",
              "          const dataTable =\n",
              "            await google.colab.kernel.invokeFunction('convertToInteractive',\n",
              "                                                     [key], {});\n",
              "          if (!dataTable) return;\n",
              "\n",
              "          const docLinkHtml = 'Like what you see? Visit the ' +\n",
              "            '<a target=\"_blank\" href=https://colab.research.google.com/notebooks/data_table.ipynb>data table notebook</a>'\n",
              "            + ' to learn more about interactive tables.';\n",
              "          element.innerHTML = '';\n",
              "          dataTable['output_type'] = 'display_data';\n",
              "          await google.colab.output.renderOutput(dataTable, element);\n",
              "          const docLink = document.createElement('div');\n",
              "          docLink.innerHTML = docLinkHtml;\n",
              "          element.appendChild(docLink);\n",
              "        }\n",
              "      </script>\n",
              "    </div>\n",
              "  </div>\n",
              "  "
            ],
            "text/plain": [
              "          price  mileage  weight\n",
              "make                            \n",
              "audi    36893.5  35399.5   98966\n",
              "bmw     34888.0  54931.5   97257\n",
              "opel     7360.0  59302.5   82515\n",
              "toyota  61068.5  55962.5   38668"
            ]
          },
          "metadata": {},
          "execution_count": 116
        }
      ]
    },
    {
      "cell_type": "markdown",
      "source": [
        "## What is Missing Data?"
      ],
      "metadata": {
        "id": "KJWv4MwgGKCX"
      }
    },
    {
      "cell_type": "code",
      "source": [
        ""
      ],
      "metadata": {
        "id": "iNouXx_AGLfe"
      },
      "execution_count": null,
      "outputs": []
    },
    {
      "cell_type": "code",
      "source": [
        ""
      ],
      "metadata": {
        "id": "Ny3f6LK9G-Wt"
      },
      "execution_count": null,
      "outputs": []
    },
    {
      "cell_type": "code",
      "source": [
        ""
      ],
      "metadata": {
        "id": "VQE7CKoEG-Zs"
      },
      "execution_count": null,
      "outputs": []
    },
    {
      "cell_type": "markdown",
      "source": [
        "## Missingno  visual anaylsis"
      ],
      "metadata": {
        "id": "heVWBTcZG-nG"
      }
    },
    {
      "cell_type": "markdown",
      "source": [
        "**missingno**"
      ],
      "metadata": {
        "id": "ZwJnICd1LiwX"
      }
    },
    {
      "cell_type": "code",
      "source": [
        "import missingno as msno\n",
        "msno.matrix(df);"
      ],
      "metadata": {
        "id": "Nc3KHUnbHGSh",
        "colab": {
          "base_uri": "https://localhost:8080/",
          "height": 698
        },
        "outputId": "33bb74fa-160b-4b35-ecab-a33b28010d4d"
      },
      "execution_count": 107,
      "outputs": [
        {
          "output_type": "display_data",
          "data": {
            "image/png": "[encoded data removed]",
            "text/plain": [
              "<Figure size 1800x720 with 2 Axes>"
            ]
          },
          "metadata": {
            "needs_background": "light"
          }
        }
      ]
    },
    {
      "cell_type": "code",
      "source": [
        "msno.bar(df);"
      ],
      "metadata": {
        "id": "fpwqchplHf-J"
      },
      "execution_count": null,
      "outputs": []
    },
    {
      "cell_type": "code",
      "source": [
        "msno.heatmap(df);"
      ],
      "metadata": {
        "id": "PSHRJ3I8HgA7",
        "colab": {
          "base_uri": "https://localhost:8080/",
          "height": 799
        },
        "outputId": "be0226e8-3ecf-4c13-fca7-9809b3ad657d"
      },
      "execution_count": 109,
      "outputs": [
        {
          "output_type": "display_data",
          "data": {
            "image/png": "[encoded data removed]",
            "text/plain": [
              "<Figure size 1440x864 with 2 Axes>"
            ]
          },
          "metadata": {
            "needs_background": "light"
          }
        }
      ]
    },
    {
      "cell_type": "markdown",
      "source": [
        "**headmap**"
      ],
      "metadata": {
        "id": "qfalKAYeLspi"
      }
    },
    {
      "cell_type": "code",
      "source": [
        "plt.figure(figsize=(15,6))\n",
        "sns.heatmap(df.isnull(), yticklabels=False, cbar=False, cmap='viridis');"
      ],
      "metadata": {
        "id": "jGuCxJSsLvUp",
        "colab": {
          "base_uri": "https://localhost:8080/",
          "height": 446
        },
        "outputId": "8020e3ee-4dc8-4df8-adcb-db556b1bf5e5"
      },
      "execution_count": 114,
      "outputs": [
        {
          "output_type": "display_data",
          "data": {
            "image/png": "[encoded data removed]",
            "text/plain": [
              "<Figure size 1080x432 with 1 Axes>"
            ]
          },
          "metadata": {
            "needs_background": "light"
          }
        }
      ]
    },
    {
      "cell_type": "code",
      "source": [
        "plt.figure(figsize=(15,6))\n",
        "df.corr()[\"total\"].sort_values()[:-1].plot.barh();"
      ],
      "metadata": {
        "id": "exJVAL9VLvXB",
        "colab": {
          "base_uri": "https://localhost:8080/",
          "height": 374
        },
        "outputId": "a8efee86-b9fe-4425-8e25-1514b08f4b2c"
      },
      "execution_count": 116,
      "outputs": [
        {
          "output_type": "display_data",
          "data": {
            "image/png": "[encoded data removed]",
            "text/plain": [
              "<Figure size 1080x432 with 1 Axes>"
            ]
          },
          "metadata": {
            "needs_background": "light"
          }
        }
      ]
    },
    {
      "cell_type": "markdown",
      "source": [
        "## Dealing with Missing Values"
      ],
      "metadata": {
        "id": "hbuyFjx-HgOJ"
      }
    },
    {
      "cell_type": "code",
      "source": [
        "# Grup Sutununa(group_col) gore gruplayip, uzerinde calisilan sutunun(col_name) null degerlerini ffill & bfill ile doldurur.\n",
        "# Hala null deger kalma ihtimaline binaen, gruplama yapmaksizin, uzerinde calisilan sutunda da(col_name) ekstradan ffill & bfill yapar\n",
        "def fill_prop(df, group_col, col_name):\n",
        "    for group in list(df[group_col].unique()):\n",
        "        cond = df[group_col]==group\n",
        "        grp_inx = list(df[cond][col_name].index)\n",
        "        df.loc[cond, col_name] = df.loc[cond, col_name].fillna(method=\"ffill\").fillna(method=\"bfill\")\n",
        "    df[col_name] = df[col_name].fillna(method=\"ffill\").fillna(method=\"bfill\")\n",
        "    print(\"Number of NaN : \",df[col_name].isnull().sum())\n",
        "    print(\"------------------\")\n",
        "    print(df[col_name].value_counts(dropna=False))"
      ],
      "metadata": {
        "id": "QzwTMd7_eHXE"
      },
      "execution_count": 155,
      "outputs": []
    },
    {
      "cell_type": "markdown",
      "source": [
        "### Mean and Median"
      ],
      "metadata": {
        "id": "v2TwVS47Jm2A"
      }
    },
    {
      "cell_type": "code",
      "source": [
        ""
      ],
      "metadata": {
        "id": "2wU3enhMfuLV"
      },
      "execution_count": null,
      "outputs": []
    },
    {
      "cell_type": "markdown",
      "source": [
        "### ffill and bfill"
      ],
      "metadata": {
        "id": "87sY_xOYfub7"
      }
    },
    {
      "cell_type": "code",
      "source": [
        "df = sns.load_dataset('taxis')\n",
        "df.head()"
      ],
      "metadata": {
        "id": "0WW5dUUjJ2SX",
        "colab": {
          "base_uri": "https://localhost:8080/",
          "height": 206
        },
        "outputId": "1db7593d-0622-48dd-9a12-71bf0b81a5f1"
      },
      "execution_count": 166,
      "outputs": [
        {
          "output_type": "execute_result",
          "data": {
            "text/html": [
              "\n",
              "  <div id=\"df-45048e98-63d8-4a76-b95e-22b5f541d81e\">\n",
              "    <div class=\"colab-df-container\">\n",
              "      <div>\n",
              "<style scoped>\n",
              "    .dataframe tbody tr th:only-of-type {\n",
              "        vertical-align: middle;\n",
              "    }\n",
              "\n",
              "    .dataframe tbody tr th {\n",
              "        vertical-align: top;\n",
              "    }\n",
              "\n",
              "    .dataframe thead th {\n",
              "        text-align: right;\n",
              "    }\n",
              "</style>\n",
              "<table border=\"1\" class=\"dataframe\">\n",
              "  <thead>\n",
              "    <tr style=\"text-align: right;\">\n",
              "      <th></th>\n",
              "      <th>pickup</th>\n",
              "      <th>dropoff</th>\n",
              "      <th>passengers</th>\n",
              "      <th>distance</th>\n",
              "      <th>fare</th>\n",
              "      <th>tip</th>\n",
              "      <th>tolls</th>\n",
              "      <th>total</th>\n",
              "      <th>color</th>\n",
              "      <th>payment</th>\n",
              "      <th>pickup_zone</th>\n",
              "      <th>dropoff_zone</th>\n",
              "      <th>pickup_borough</th>\n",
              "      <th>dropoff_borough</th>\n",
              "    </tr>\n",
              "  </thead>\n",
              "  <tbody>\n",
              "    <tr>\n",
              "      <th>0</th>\n",
              "      <td>2019-03-23 20:21:09</td>\n",
              "      <td>2019-03-23 20:27:24</td>\n",
              "      <td>1</td>\n",
              "      <td>1.60</td>\n",
              "      <td>7.0</td>\n",
              "      <td>2.15</td>\n",
              "      <td>0.0</td>\n",
              "      <td>12.95</td>\n",
              "      <td>yellow</td>\n",
              "      <td>credit card</td>\n",
              "      <td>Lenox Hill West</td>\n",
              "      <td>UN/Turtle Bay South</td>\n",
              "      <td>Manhattan</td>\n",
              "      <td>Manhattan</td>\n",
              "    </tr>\n",
              "    <tr>\n",
              "      <th>1</th>\n",
              "      <td>2019-03-04 16:11:55</td>\n",
              "      <td>2019-03-04 16:19:00</td>\n",
              "      <td>1</td>\n",
              "      <td>0.79</td>\n",
              "      <td>5.0</td>\n",
              "      <td>0.00</td>\n",
              "      <td>0.0</td>\n",
              "      <td>9.30</td>\n",
              "      <td>yellow</td>\n",
              "      <td>cash</td>\n",
              "      <td>Upper West Side South</td>\n",
              "      <td>Upper West Side South</td>\n",
              "      <td>Manhattan</td>\n",
              "      <td>Manhattan</td>\n",
              "    </tr>\n",
              "    <tr>\n",
              "      <th>2</th>\n",
              "      <td>2019-03-27 17:53:01</td>\n",
              "      <td>2019-03-27 18:00:25</td>\n",
              "      <td>1</td>\n",
              "      <td>1.37</td>\n",
              "      <td>7.5</td>\n",
              "      <td>2.36</td>\n",
              "      <td>0.0</td>\n",
              "      <td>14.16</td>\n",
              "      <td>yellow</td>\n",
              "      <td>credit card</td>\n",
              "      <td>Alphabet City</td>\n",
              "      <td>West Village</td>\n",
              "      <td>Manhattan</td>\n",
              "      <td>Manhattan</td>\n",
              "    </tr>\n",
              "    <tr>\n",
              "      <th>3</th>\n",
              "      <td>2019-03-10 01:23:59</td>\n",
              "      <td>2019-03-10 01:49:51</td>\n",
              "      <td>1</td>\n",
              "      <td>7.70</td>\n",
              "      <td>27.0</td>\n",
              "      <td>6.15</td>\n",
              "      <td>0.0</td>\n",
              "      <td>36.95</td>\n",
              "      <td>yellow</td>\n",
              "      <td>credit card</td>\n",
              "      <td>Hudson Sq</td>\n",
              "      <td>Yorkville West</td>\n",
              "      <td>Manhattan</td>\n",
              "      <td>Manhattan</td>\n",
              "    </tr>\n",
              "    <tr>\n",
              "      <th>4</th>\n",
              "      <td>2019-03-30 13:27:42</td>\n",
              "      <td>2019-03-30 13:37:14</td>\n",
              "      <td>3</td>\n",
              "      <td>2.16</td>\n",
              "      <td>9.0</td>\n",
              "      <td>1.10</td>\n",
              "      <td>0.0</td>\n",
              "      <td>13.40</td>\n",
              "      <td>yellow</td>\n",
              "      <td>credit card</td>\n",
              "      <td>Midtown East</td>\n",
              "      <td>Yorkville West</td>\n",
              "      <td>Manhattan</td>\n",
              "      <td>Manhattan</td>\n",
              "    </tr>\n",
              "  </tbody>\n",
              "</table>\n",
              "</div>\n",
              "      <button class=\"colab-df-convert\" onclick=\"convertToInteractive('df-45048e98-63d8-4a76-b95e-22b5f541d81e')\"\n",
              "              title=\"Convert this dataframe to an interactive table.\"\n",
              "              style=\"display:none;\">\n",
              "        \n",
              "  <svg xmlns=\"http://www.w3.org/2000/svg\" height=\"24px\"viewBox=\"0 0 24 24\"\n",
              "       width=\"24px\">\n",
              "    <path d=\"M0 0h24v24H0V0z\" fill=\"none\"/>\n",
              "    <path d=\"M18.56 5.44l.94 2.06.94-2.06 2.06-.94-2.06-.94-.94-2.06-.94 2.06-2.06.94zm-11 1L8.5 8.5l.94-2.06 2.06-.94-2.06-.94L8.5 2.5l-.94 2.06-2.06.94zm10 10l.94 2.06.94-2.06 2.06-.94-2.06-.94-.94-2.06-.94 2.06-2.06.94z\"/><path d=\"M17.41 7.96l-1.37-1.37c-.4-.4-.92-.59-1.43-.59-.52 0-1.04.2-1.43.59L10.3 9.45l-7.72 7.72c-.78.78-.78 2.05 0 2.83L4 21.41c.39.39.9.59 1.41.59.51 0 1.02-.2 1.41-.59l7.78-7.78 2.81-2.81c.8-.78.8-2.07 0-2.86zM5.41 20L4 18.59l7.72-7.72 1.47 1.35L5.41 20z\"/>\n",
              "  </svg>\n",
              "      </button>\n",
              "      \n",
              "  <style>\n",
              "    .colab-df-container {\n",
              "      display:flex;\n",
              "      flex-wrap:wrap;\n",
              "      gap: 12px;\n",
              "    }\n",
              "\n",
              "    .colab-df-convert {\n",
              "      background-color: #E8F0FE;\n",
              "      border: none;\n",
              "      border-radius: 50%;\n",
              "      cursor: pointer;\n",
              "      display: none;\n",
              "      fill: #1967D2;\n",
              "      height: 32px;\n",
              "      padding: 0 0 0 0;\n",
              "      width: 32px;\n",
              "    }\n",
              "\n",
              "    .colab-df-convert:hover {\n",
              "      background-color: #E2EBFA;\n",
              "      box-shadow: 0px 1px 2px rgba(60, 64, 67, 0.3), 0px 1px 3px 1px rgba(60, 64, 67, 0.15);\n",
              "      fill: #174EA6;\n",
              "    }\n",
              "\n",
              "    [theme=dark] .colab-df-convert {\n",
              "      background-color: #3B4455;\n",
              "      fill: #D2E3FC;\n",
              "    }\n",
              "\n",
              "    [theme=dark] .colab-df-convert:hover {\n",
              "      background-color: #434B5C;\n",
              "      box-shadow: 0px 1px 3px 1px rgba(0, 0, 0, 0.15);\n",
              "      filter: drop-shadow(0px 1px 2px rgba(0, 0, 0, 0.3));\n",
              "      fill: #FFFFFF;\n",
              "    }\n",
              "  </style>\n",
              "\n",
              "      <script>\n",
              "        const buttonEl =\n",
              "          document.querySelector('#df-45048e98-63d8-4a76-b95e-22b5f541d81e button.colab-df-convert');\n",
              "        buttonEl.style.display =\n",
              "          google.colab.kernel.accessAllowed ? 'block' : 'none';\n",
              "\n",
              "        async function convertToInteractive(key) {\n",
              "          const element = document.querySelector('#df-45048e98-63d8-4a76-b95e-22b5f541d81e');\n",
              "          const dataTable =\n",
              "            await google.colab.kernel.invokeFunction('convertToInteractive',\n",
              "                                                     [key], {});\n",
              "          if (!dataTable) return;\n",
              "\n",
              "          const docLinkHtml = 'Like what you see? Visit the ' +\n",
              "            '<a target=\"_blank\" href=https://colab.research.google.com/notebooks/data_table.ipynb>data table notebook</a>'\n",
              "            + ' to learn more about interactive tables.';\n",
              "          element.innerHTML = '';\n",
              "          dataTable['output_type'] = 'display_data';\n",
              "          await google.colab.output.renderOutput(dataTable, element);\n",
              "          const docLink = document.createElement('div');\n",
              "          docLink.innerHTML = docLinkHtml;\n",
              "          element.appendChild(docLink);\n",
              "        }\n",
              "      </script>\n",
              "    </div>\n",
              "  </div>\n",
              "  "
            ],
            "text/plain": [
              "                pickup              dropoff  ...  pickup_borough  dropoff_borough\n",
              "0  2019-03-23 20:21:09  2019-03-23 20:27:24  ...       Manhattan        Manhattan\n",
              "1  2019-03-04 16:11:55  2019-03-04 16:19:00  ...       Manhattan        Manhattan\n",
              "2  2019-03-27 17:53:01  2019-03-27 18:00:25  ...       Manhattan        Manhattan\n",
              "3  2019-03-10 01:23:59  2019-03-10 01:49:51  ...       Manhattan        Manhattan\n",
              "4  2019-03-30 13:27:42  2019-03-30 13:37:14  ...       Manhattan        Manhattan\n",
              "\n",
              "[5 rows x 14 columns]"
            ]
          },
          "metadata": {},
          "execution_count": 166
        }
      ]
    },
    {
      "cell_type": "code",
      "source": [
        "df.isna().sum()"
      ],
      "metadata": {
        "id": "cRCVi4NmJ2VL",
        "colab": {
          "base_uri": "https://localhost:8080/"
        },
        "outputId": "c38e4748-a2be-4fe8-e1c8-e40608b14411"
      },
      "execution_count": 167,
      "outputs": [
        {
          "output_type": "execute_result",
          "data": {
            "text/plain": [
              "pickup              0\n",
              "dropoff             0\n",
              "passengers          0\n",
              "distance            0\n",
              "fare                0\n",
              "tip                 0\n",
              "tolls               0\n",
              "total               0\n",
              "color               0\n",
              "payment            44\n",
              "pickup_zone        26\n",
              "dropoff_zone       45\n",
              "pickup_borough     26\n",
              "dropoff_borough    45\n",
              "dtype: int64"
            ]
          },
          "metadata": {},
          "execution_count": 167
        }
      ]
    },
    {
      "cell_type": "code",
      "source": [
        "fill_prop(df, \"pickup_zone\", \"pickup_borough\")"
      ],
      "metadata": {
        "colab": {
          "base_uri": "https://localhost:8080/"
        },
        "id": "htEbEo5PfF3y",
        "outputId": "2d533966-e74e-4435-d61b-61217e80d640"
      },
      "execution_count": 168,
      "outputs": [
        {
          "output_type": "stream",
          "name": "stdout",
          "text": [
            "Number of NaN :  0\n",
            "------------------\n",
            "Manhattan    5290\n",
            "Queens        660\n",
            "Brooklyn      384\n",
            "Bronx          99\n",
            "Name: pickup_borough, dtype: int64\n"
          ]
        }
      ]
    },
    {
      "cell_type": "code",
      "source": [
        "fill_prop(df, \"pickup_zone\", \"dropoff_borough\")"
      ],
      "metadata": {
        "colab": {
          "base_uri": "https://localhost:8080/"
        },
        "id": "QMvHZ0i8fPww",
        "outputId": "02f10e51-fb1d-4e15-9a18-4e631c31a60b"
      },
      "execution_count": 169,
      "outputs": [
        {
          "output_type": "stream",
          "name": "stdout",
          "text": [
            "Number of NaN :  0\n",
            "------------------\n",
            "Manhattan        5238\n",
            "Queens            549\n",
            "Brooklyn          506\n",
            "Bronx             138\n",
            "Staten Island       2\n",
            "Name: dropoff_borough, dtype: int64\n"
          ]
        }
      ]
    },
    {
      "cell_type": "code",
      "source": [
        "fill_prop(df, \"pickup_zone\", \"dropoff_zone\")"
      ],
      "metadata": {
        "colab": {
          "base_uri": "https://localhost:8080/"
        },
        "id": "zPOV59tfeMTI",
        "outputId": "dd170a0e-f272-43a9-93c7-f18173d8bed5"
      },
      "execution_count": 170,
      "outputs": [
        {
          "output_type": "stream",
          "name": "stdout",
          "text": [
            "Number of NaN :  0\n",
            "------------------\n",
            "Upper East Side North    245\n",
            "Murray Hill              222\n",
            "Midtown Center           216\n",
            "Upper East Side South    179\n",
            "Midtown East             177\n",
            "                        ... \n",
            "Auburndale                 1\n",
            "Queensboro Hill            1\n",
            "Ozone Park                 1\n",
            "Brooklyn Navy Yard         1\n",
            "Jamaica Estates            1\n",
            "Name: dropoff_zone, Length: 203, dtype: int64\n"
          ]
        }
      ]
    },
    {
      "cell_type": "code",
      "source": [
        "fill_prop(df, \"dropoff_zone\", \"pickup_zone\")"
      ],
      "metadata": {
        "colab": {
          "base_uri": "https://localhost:8080/"
        },
        "outputId": "0ae3e3df-d341-49fd-b237-c6bf5e773ff6",
        "id": "p3t0ec5Uexvy"
      },
      "execution_count": 171,
      "outputs": [
        {
          "output_type": "stream",
          "name": "stdout",
          "text": [
            "Number of NaN :  0\n",
            "------------------\n",
            "Midtown Center                         230\n",
            "Upper East Side South                  212\n",
            "Penn Station/Madison Sq West           210\n",
            "Clinton East                           208\n",
            "Midtown East                           199\n",
            "                                      ... \n",
            "Pelham Parkway                           1\n",
            "West Farms/Bronx River                   1\n",
            "Bensonhurst West                         1\n",
            "Glendale                                 1\n",
            "Riverdale/North Riverdale/Fieldston      1\n",
            "Name: pickup_zone, Length: 194, dtype: int64\n"
          ]
        }
      ]
    },
    {
      "cell_type": "code",
      "source": [
        "df.isna().sum()"
      ],
      "metadata": {
        "colab": {
          "base_uri": "https://localhost:8080/"
        },
        "outputId": "712566ac-adeb-4bc4-fe1a-f6750a1f7e03",
        "id": "vkcPtgmJexvy"
      },
      "execution_count": 172,
      "outputs": [
        {
          "output_type": "execute_result",
          "data": {
            "text/plain": [
              "pickup              0\n",
              "dropoff             0\n",
              "passengers          0\n",
              "distance            0\n",
              "fare                0\n",
              "tip                 0\n",
              "tolls               0\n",
              "total               0\n",
              "color               0\n",
              "payment            44\n",
              "pickup_zone         0\n",
              "dropoff_zone        0\n",
              "pickup_borough      0\n",
              "dropoff_borough     0\n",
              "dtype: int64"
            ]
          },
          "metadata": {},
          "execution_count": 172
        }
      ]
    },
    {
      "cell_type": "code",
      "source": [
        "df = df.ffill()\n",
        "df.isna().sum()"
      ],
      "metadata": {
        "colab": {
          "base_uri": "https://localhost:8080/"
        },
        "id": "xdr6sWBMZcZZ",
        "outputId": "d26c7b9f-361e-40e4-8c16-1a718ab46436"
      },
      "execution_count": 173,
      "outputs": [
        {
          "output_type": "execute_result",
          "data": {
            "text/plain": [
              "pickup             0\n",
              "dropoff            0\n",
              "passengers         0\n",
              "distance           0\n",
              "fare               0\n",
              "tip                0\n",
              "tolls              0\n",
              "total              0\n",
              "color              0\n",
              "payment            0\n",
              "pickup_zone        0\n",
              "dropoff_zone       0\n",
              "pickup_borough     0\n",
              "dropoff_borough    0\n",
              "dtype: int64"
            ]
          },
          "metadata": {},
          "execution_count": 173
        }
      ]
    },
    {
      "cell_type": "markdown",
      "source": [
        "###  Mode"
      ],
      "metadata": {
        "id": "Aq-k5XvTZXGP"
      }
    },
    {
      "cell_type": "code",
      "source": [
        ""
      ],
      "metadata": {
        "id": "FdS4-iqvbG39"
      },
      "execution_count": null,
      "outputs": []
    },
    {
      "cell_type": "markdown",
      "source": [
        "### Interpolation"
      ],
      "metadata": {
        "id": "bs2bPgjzH--s"
      }
    },
    {
      "cell_type": "code",
      "source": [
        ""
      ],
      "metadata": {
        "id": "04eb2CoYHkFs"
      },
      "execution_count": null,
      "outputs": []
    },
    {
      "cell_type": "code",
      "source": [
        ""
      ],
      "metadata": {
        "id": "CSJxg_3sHkm5"
      },
      "execution_count": null,
      "outputs": []
    },
    {
      "cell_type": "markdown",
      "source": [
        "### Others methods"
      ],
      "metadata": {
        "id": "HbZLLR6AJ824"
      }
    },
    {
      "cell_type": "markdown",
      "source": [
        "You can use Simple imputation, Multivaried Imputation and Ycimpute methods for dealing with missing values. These methods predict the missing values by using some machine learning algorithms."
      ],
      "metadata": {
        "id": "y9JY68BrKQgX"
      }
    },
    {
      "cell_type": "markdown",
      "source": [
        "## Outlier Analysis"
      ],
      "metadata": {
        "id": "Ni04w26SJgQ2"
      }
    },
    {
      "cell_type": "markdown",
      "source": [
        "### IQR"
      ],
      "metadata": {
        "id": "bvsHLWTVMITI"
      }
    },
    {
      "cell_type": "code",
      "source": [
        ""
      ],
      "metadata": {
        "id": "BferOqsSMLHC"
      },
      "execution_count": null,
      "outputs": []
    },
    {
      "cell_type": "markdown",
      "source": [
        "### Logarithm"
      ],
      "metadata": {
        "id": "Da_QBNK5LBEo"
      }
    },
    {
      "cell_type": "code",
      "source": [
        ""
      ],
      "metadata": {
        "id": "RNHd6B1aJjal"
      },
      "execution_count": null,
      "outputs": []
    },
    {
      "cell_type": "markdown",
      "source": [
        "### Root"
      ],
      "metadata": {
        "id": "MKLsUIoILHK9"
      }
    },
    {
      "cell_type": "code",
      "source": [
        ""
      ],
      "metadata": {
        "id": "q-0BBZ-jLIcx"
      },
      "execution_count": null,
      "outputs": []
    },
    {
      "cell_type": "markdown",
      "source": [
        "### Winsorization"
      ],
      "metadata": {
        "id": "FC5LYRRpLK7_"
      }
    },
    {
      "cell_type": "code",
      "source": [
        ""
      ],
      "metadata": {
        "id": "bCl8PWMlLNwW"
      },
      "execution_count": null,
      "outputs": []
    }
  ],
  "metadata": {
    "kernelspec": {
      "display_name": "Python 3",
      "language": "python",
      "name": "python3"
    },
    "language_info": {
      "codemirror_mode": {
        "name": "ipython",
        "version": 3
      },
      "file_extension": ".py",
      "mimetype": "text/x-python",
      "name": "python",
      "nbconvert_exporter": "python",
      "pygments_lexer": "ipython3",
      "version": "3.8.5"
    },
    "colab": {
      "name": "class5_data_manuplation_week3.ipynb",
      "provenance": [],
      "toc_visible": true,
      "collapsed_sections": [
        "XoZBTuYSkKyK",
        "gHDdF2r1a9Ke",
        "vnTTBL4Eof0k",
        "OBeo6f_7mPu8",
        "bs2bPgjzH--s",
        "HbZLLR6AJ824",
        "Ni04w26SJgQ2",
        "bvsHLWTVMITI",
        "Da_QBNK5LBEo",
        "MKLsUIoILHK9",
        "FC5LYRRpLK7_"
      ],
      "include_colab_link": true
    }
  },
  "nbformat": 4,
  "nbformat_minor": 0
}