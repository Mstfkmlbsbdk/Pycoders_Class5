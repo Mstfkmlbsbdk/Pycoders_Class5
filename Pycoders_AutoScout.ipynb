{
  "cells": [
    {
      "cell_type": "markdown",
      "metadata": {
        "id": "view-in-github",
        "colab_type": "text"
      },
      "source": [
        "<a href=\"https://colab.research.google.com/github/fidanfatih/Pycoders_Capstone/blob/main/Pycoders_AutoScout.ipynb\" target=\"_parent\"><img src=\"https://colab.research.google.com/assets/colab-badge.svg\" alt=\"Open In Colab\"/></a>"
      ]
    },
    {
      "cell_type": "markdown",
      "metadata": {
        "id": "rr7a0pc4ffWV"
      },
      "source": [
        "## Introduction\n",
        "    ** We will work with 3 notebooks. **\n",
        "\n",
        "    . First notebook is related with 'cleaning data'. It deals with Incorrect Headers, Incorrect Format, Anomalies, Dropping useless columns\n",
        "    \n",
        "    . Second notebook is related with 'filling data'. It deals with Missing Values. Categorical to numeric transformation is done.\n",
        "\n",
        "    . Third notebook is related with 'outliers of data' via Visualisation libraries. Final review "
      ]
    },
    {
      "cell_type": "markdown",
      "metadata": {
        "id": "CJSYyLJhffWZ"
      },
      "source": [
        "## Import Libraries and Data"
      ]
    },
    {
      "cell_type": "code",
      "execution_count": 724,
      "metadata": {
        "id": "wpqteHNPffWa"
      },
      "outputs": [],
      "source": [
        "import numpy as np\n",
        "import pandas as pd\n",
        "import seaborn as sns \n",
        "import matplotlib.pyplot as plt\n",
        "import warnings\n",
        "warnings.filterwarnings('ignore')\n",
        "warnings.warn(\"this will not show\")"
      ]
    },
    {
      "cell_type": "code",
      "execution_count": 725,
      "metadata": {
        "id": "yo0ekQp9ffWc"
      },
      "outputs": [],
      "source": [
        "pd.options.display.max_rows = 100\n",
        "pd.options.display.max_columns = 100"
      ]
    },
    {
      "cell_type": "code",
      "source": [
        "from google.colab import drive\n",
        "drive.mount('/content/drive')"
      ],
      "metadata": {
        "id": "PiysqguTfu0T",
        "colab": {
          "base_uri": "https://localhost:8080/"
        },
        "outputId": "21bf7236-fcc1-4f7f-c240-36ee89c58b56"
      },
      "execution_count": 726,
      "outputs": [
        {
          "output_type": "stream",
          "name": "stdout",
          "text": [
            "Drive already mounted at /content/drive; to attempt to forcibly remount, call drive.mount(\"/content/drive\", force_remount=True).\n"
          ]
        }
      ]
    },
    {
      "cell_type": "code",
      "execution_count": 727,
      "metadata": {
        "id": "FABp2YghffWc",
        "colab": {
          "base_uri": "https://localhost:8080/"
        },
        "outputId": "f617af3a-f571-41d6-b9ed-5f3515573a00"
      },
      "outputs": [
        {
          "output_type": "execute_result",
          "data": {
            "text/plain": [
              "(65841, 46)"
            ]
          },
          "metadata": {},
          "execution_count": 727
        }
      ],
      "source": [
        "data = pd.read_csv('/content/drive/MyDrive/Colab Notebooks/AutoScout24/autoscout_data_manuplated.csv')\n",
        "df = data.copy()\n",
        "df.shape"
      ]
    },
    {
      "cell_type": "markdown",
      "metadata": {
        "id": "9YXy4vfBffWd"
      },
      "source": [
        "## Check Data"
      ]
    },
    {
      "cell_type": "code",
      "execution_count": 728,
      "metadata": {
        "id": "X5WPFAVUffWd",
        "outputId": "e47b96a7-e9dc-4031-d995-17fc6badddf1",
        "colab": {
          "base_uri": "https://localhost:8080/",
          "height": 0
        }
      },
      "outputs": [
        {
          "output_type": "execute_result",
          "data": {
            "text/html": [
              "\n",
              "  <div id=\"df-17ebe35f-c354-4902-b7eb-99acbb7dcd80\">\n",
              "    <div class=\"colab-df-container\">\n",
              "      <div>\n",
              "<style scoped>\n",
              "    .dataframe tbody tr th:only-of-type {\n",
              "        vertical-align: middle;\n",
              "    }\n",
              "\n",
              "    .dataframe tbody tr th {\n",
              "        vertical-align: top;\n",
              "    }\n",
              "\n",
              "    .dataframe thead th {\n",
              "        text-align: right;\n",
              "    }\n",
              "</style>\n",
              "<table border=\"1\" class=\"dataframe\">\n",
              "  <thead>\n",
              "    <tr style=\"text-align: right;\">\n",
              "      <th></th>\n",
              "      <th>location</th>\n",
              "      <th>url</th>\n",
              "      <th>make</th>\n",
              "      <th>model</th>\n",
              "      <th>short_description</th>\n",
              "      <th>price</th>\n",
              "      <th>mileage</th>\n",
              "      <th>gearbox</th>\n",
              "      <th>registration</th>\n",
              "      <th>fuel_type</th>\n",
              "      <th>power</th>\n",
              "      <th>seller</th>\n",
              "      <th>body_type</th>\n",
              "      <th>type</th>\n",
              "      <th>drivetrain</th>\n",
              "      <th>seats</th>\n",
              "      <th>doors</th>\n",
              "      <th>country_version</th>\n",
              "      <th>offer_number</th>\n",
              "      <th>warranty</th>\n",
              "      <th>Mileage</th>\n",
              "      <th>first_registration</th>\n",
              "      <th>production_date</th>\n",
              "      <th>general_inspection</th>\n",
              "      <th>last_service</th>\n",
              "      <th>full_service_history</th>\n",
              "      <th>non_smoker_vehicle</th>\n",
              "      <th>Power</th>\n",
              "      <th>Gearbox</th>\n",
              "      <th>engine_size</th>\n",
              "      <th>gears</th>\n",
              "      <th>cylinders</th>\n",
              "      <th>empty_weight</th>\n",
              "      <th>Fuel_type</th>\n",
              "      <th>fuel_consumption</th>\n",
              "      <th>co2_emissions</th>\n",
              "      <th>emission_class</th>\n",
              "      <th>\\nComfort &amp; Convenience\\n</th>\n",
              "      <th>\\nEntertainment &amp; Media\\n</th>\n",
              "      <th>\\nSafety &amp; Security\\n</th>\n",
              "      <th>extras</th>\n",
              "      <th>\\ncolour</th>\n",
              "      <th>\\nmanufacturer_color</th>\n",
              "      <th>\\npaint</th>\n",
              "      <th>upholstery_colour</th>\n",
              "      <th>upholstery</th>\n",
              "    </tr>\n",
              "  </thead>\n",
              "  <tbody>\n",
              "    <tr>\n",
              "      <th>0</th>\n",
              "      <td>WAGENINGEN, NL</td>\n",
              "      <td>https://www.autoscout24.com/offers/audi-a1-1-4...</td>\n",
              "      <td>\\n,Audi ,\\n</td>\n",
              "      <td>\\n,A1,\\n</td>\n",
              "      <td>1.4 TFSI 122 pk Pro Line S-Line 1 eigenaar/ NL...</td>\n",
              "      <td>[['\\n', '€ 15,945.-', '\\n']]</td>\n",
              "      <td>['', ['42,091 km']]</td>\n",
              "      <td>\\n,Automatic,\\n</td>\n",
              "      <td>05/2012</td>\n",
              "      <td>\\n,Gasoline,\\n</td>\n",
              "      <td>90 kW (122 hp),</td>\n",
              "      <td>['\\n', ['Dealer\\n']]</td>\n",
              "      <td>\\n,Compact,\\n</td>\n",
              "      <td>\\n,Used,\\n</td>\n",
              "      <td>\\n,Front,\\n</td>\n",
              "      <td>\\n4</td>\n",
              "      <td>\\n3</td>\n",
              "      <td>Country version,None</td>\n",
              "      <td>\\n82-XDG-9</td>\n",
              "      <td>\\n,None,\\n</td>\n",
              "      <td>[['\\n'], ['']]</td>\n",
              "      <td>05/2012</td>\n",
              "      <td>None</td>\n",
              "      <td>03/2022</td>\n",
              "      <td>None</td>\n",
              "      <td>\\n,Yes,\\n</td>\n",
              "      <td>\\n,None,\\n</td>\n",
              "      <td>\\n,90 kW (122 hp),\\n</td>\n",
              "      <td>\\n,Automatic,\\n</td>\n",
              "      <td>\\n,1,390 cc,\\n</td>\n",
              "      <td>\\n,7,\\n</td>\n",
              "      <td>\\n,4,\\n</td>\n",
              "      <td>\\n,1,100 kg,\\n</td>\n",
              "      <td>\\n,Super 95,\\n</td>\n",
              "      <td>['\\n', ['5.3 l/100 km (comb.)', '6.5 l/100 km ...</td>\n",
              "      <td>\\n,122 g/km (comb.),\\n</td>\n",
              "      <td>\\n,Euro 5,\\n</td>\n",
              "      <td>[['Air conditioning', 'Armrest', 'Automatic cl...</td>\n",
              "      <td>[['CD player', 'Digital radio', 'MP3', 'On-boa...</td>\n",
              "      <td>[['ABS', 'Alarm system', 'Bi-Xenon headlights'...</td>\n",
              "      <td>[['Alloy wheels (18\")', 'Sport seats', 'Sport ...</td>\n",
              "      <td>\\n4, Red</td>\n",
              "      <td>None</td>\n",
              "      <td>\\npaint, Metallic</td>\n",
              "      <td>\\nupholstery, Black</td>\n",
              "      <td>\\n8, Part leather</td>\n",
              "    </tr>\n",
              "    <tr>\n",
              "      <th>1</th>\n",
              "      <td>BREUKELEN, NL</td>\n",
              "      <td>https://www.autoscout24.com/offers/audi-a3-spo...</td>\n",
              "      <td>\\n,Audi ,\\n</td>\n",
              "      <td>\\n,A3,\\n</td>\n",
              "      <td>Sportback 1.0 TFSI ultra S tronic sport Lease ...</td>\n",
              "      <td>[['\\n', '€ 19,490.-', '\\n']]</td>\n",
              "      <td>['', ['133,585 km']]</td>\n",
              "      <td>\\n,Automatic,\\n</td>\n",
              "      <td>05/2017</td>\n",
              "      <td>\\n,Gasoline,\\n</td>\n",
              "      <td>85 kW (116 hp),</td>\n",
              "      <td>['\\n', ['Dealer\\n']]</td>\n",
              "      <td>\\n,Compact,\\n</td>\n",
              "      <td>\\n,Used,\\n</td>\n",
              "      <td>\\n,Front,\\n</td>\n",
              "      <td>\\n5</td>\n",
              "      <td>\\n5</td>\n",
              "      <td>Country version,None</td>\n",
              "      <td>\\nNV922G</td>\n",
              "      <td>\\n,6 months,\\n</td>\n",
              "      <td>[['\\n'], ['']]</td>\n",
              "      <td>05/2017</td>\n",
              "      <td>None</td>\n",
              "      <td>None</td>\n",
              "      <td>None</td>\n",
              "      <td>\\n,None,\\n</td>\n",
              "      <td>\\n,None,\\n</td>\n",
              "      <td>\\n,85 kW (116 hp),\\n</td>\n",
              "      <td>\\n,Automatic,\\n</td>\n",
              "      <td>\\n,999 cc,\\n</td>\n",
              "      <td>\\n,None,\\n</td>\n",
              "      <td>\\n,None,\\n</td>\n",
              "      <td>\\n,1,175 kg,\\n</td>\n",
              "      <td>\\n,Gasoline,\\n</td>\n",
              "      <td>\\n,None,\\n</td>\n",
              "      <td>['\\n', [' ', ' ', ' '], '\\n']</td>\n",
              "      <td>\\n,Euro 6,\\n</td>\n",
              "      <td>[['Air conditioning', 'Armrest', 'Cruise contr...</td>\n",
              "      <td>[['CD player', 'On-board computer', 'Radio']]</td>\n",
              "      <td>[['ABS', 'Central door lock', 'Central door lo...</td>\n",
              "      <td>[['Alloy wheels', 'Sport suspension']]</td>\n",
              "      <td>\\n4, Blue</td>\n",
              "      <td>None</td>\n",
              "      <td>None</td>\n",
              "      <td>\\nupholstery, Black</td>\n",
              "      <td>\\n8, Cloth</td>\n",
              "    </tr>\n",
              "  </tbody>\n",
              "</table>\n",
              "</div>\n",
              "      <button class=\"colab-df-convert\" onclick=\"convertToInteractive('df-17ebe35f-c354-4902-b7eb-99acbb7dcd80')\"\n",
              "              title=\"Convert this dataframe to an interactive table.\"\n",
              "              style=\"display:none;\">\n",
              "        \n",
              "  <svg xmlns=\"http://www.w3.org/2000/svg\" height=\"24px\"viewBox=\"0 0 24 24\"\n",
              "       width=\"24px\">\n",
              "    <path d=\"M0 0h24v24H0V0z\" fill=\"none\"/>\n",
              "    <path d=\"M18.56 5.44l.94 2.06.94-2.06 2.06-.94-2.06-.94-.94-2.06-.94 2.06-2.06.94zm-11 1L8.5 8.5l.94-2.06 2.06-.94-2.06-.94L8.5 2.5l-.94 2.06-2.06.94zm10 10l.94 2.06.94-2.06 2.06-.94-2.06-.94-.94-2.06-.94 2.06-2.06.94z\"/><path d=\"M17.41 7.96l-1.37-1.37c-.4-.4-.92-.59-1.43-.59-.52 0-1.04.2-1.43.59L10.3 9.45l-7.72 7.72c-.78.78-.78 2.05 0 2.83L4 21.41c.39.39.9.59 1.41.59.51 0 1.02-.2 1.41-.59l7.78-7.78 2.81-2.81c.8-.78.8-2.07 0-2.86zM5.41 20L4 18.59l7.72-7.72 1.47 1.35L5.41 20z\"/>\n",
              "  </svg>\n",
              "      </button>\n",
              "      \n",
              "  <style>\n",
              "    .colab-df-container {\n",
              "      display:flex;\n",
              "      flex-wrap:wrap;\n",
              "      gap: 12px;\n",
              "    }\n",
              "\n",
              "    .colab-df-convert {\n",
              "      background-color: #E8F0FE;\n",
              "      border: none;\n",
              "      border-radius: 50%;\n",
              "      cursor: pointer;\n",
              "      display: none;\n",
              "      fill: #1967D2;\n",
              "      height: 32px;\n",
              "      padding: 0 0 0 0;\n",
              "      width: 32px;\n",
              "    }\n",
              "\n",
              "    .colab-df-convert:hover {\n",
              "      background-color: #E2EBFA;\n",
              "      box-shadow: 0px 1px 2px rgba(60, 64, 67, 0.3), 0px 1px 3px 1px rgba(60, 64, 67, 0.15);\n",
              "      fill: #174EA6;\n",
              "    }\n",
              "\n",
              "    [theme=dark] .colab-df-convert {\n",
              "      background-color: #3B4455;\n",
              "      fill: #D2E3FC;\n",
              "    }\n",
              "\n",
              "    [theme=dark] .colab-df-convert:hover {\n",
              "      background-color: #434B5C;\n",
              "      box-shadow: 0px 1px 3px 1px rgba(0, 0, 0, 0.15);\n",
              "      filter: drop-shadow(0px 1px 2px rgba(0, 0, 0, 0.3));\n",
              "      fill: #FFFFFF;\n",
              "    }\n",
              "  </style>\n",
              "\n",
              "      <script>\n",
              "        const buttonEl =\n",
              "          document.querySelector('#df-17ebe35f-c354-4902-b7eb-99acbb7dcd80 button.colab-df-convert');\n",
              "        buttonEl.style.display =\n",
              "          google.colab.kernel.accessAllowed ? 'block' : 'none';\n",
              "\n",
              "        async function convertToInteractive(key) {\n",
              "          const element = document.querySelector('#df-17ebe35f-c354-4902-b7eb-99acbb7dcd80');\n",
              "          const dataTable =\n",
              "            await google.colab.kernel.invokeFunction('convertToInteractive',\n",
              "                                                     [key], {});\n",
              "          if (!dataTable) return;\n",
              "\n",
              "          const docLinkHtml = 'Like what you see? Visit the ' +\n",
              "            '<a target=\"_blank\" href=https://colab.research.google.com/notebooks/data_table.ipynb>data table notebook</a>'\n",
              "            + ' to learn more about interactive tables.';\n",
              "          element.innerHTML = '';\n",
              "          dataTable['output_type'] = 'display_data';\n",
              "          await google.colab.output.renderOutput(dataTable, element);\n",
              "          const docLink = document.createElement('div');\n",
              "          docLink.innerHTML = docLinkHtml;\n",
              "          element.appendChild(docLink);\n",
              "        }\n",
              "      </script>\n",
              "    </div>\n",
              "  </div>\n",
              "  "
            ],
            "text/plain": [
              "         location                                                url  \\\n",
              "0  WAGENINGEN, NL  https://www.autoscout24.com/offers/audi-a1-1-4...   \n",
              "1   BREUKELEN, NL  https://www.autoscout24.com/offers/audi-a3-spo...   \n",
              "\n",
              "          make     model                                  short_description  \\\n",
              "0  \\n,Audi ,\\n  \\n,A1,\\n  1.4 TFSI 122 pk Pro Line S-Line 1 eigenaar/ NL...   \n",
              "1  \\n,Audi ,\\n  \\n,A3,\\n  Sportback 1.0 TFSI ultra S tronic sport Lease ...   \n",
              "\n",
              "                          price               mileage          gearbox  \\\n",
              "0  [['\\n', '€ 15,945.-', '\\n']]   ['', ['42,091 km']]  \\n,Automatic,\\n   \n",
              "1  [['\\n', '€ 19,490.-', '\\n']]  ['', ['133,585 km']]  \\n,Automatic,\\n   \n",
              "\n",
              "  registration       fuel_type            power                seller  \\\n",
              "0      05/2012  \\n,Gasoline,\\n  90 kW (122 hp),  ['\\n', ['Dealer\\n']]   \n",
              "1      05/2017  \\n,Gasoline,\\n  85 kW (116 hp),  ['\\n', ['Dealer\\n']]   \n",
              "\n",
              "       body_type        type   drivetrain seats doors       country_version  \\\n",
              "0  \\n,Compact,\\n  \\n,Used,\\n  \\n,Front,\\n   \\n4   \\n3  Country version,None   \n",
              "1  \\n,Compact,\\n  \\n,Used,\\n  \\n,Front,\\n   \\n5   \\n5  Country version,None   \n",
              "\n",
              "  offer_number        warranty         Mileage first_registration  \\\n",
              "0   \\n82-XDG-9      \\n,None,\\n  [['\\n'], ['']]            05/2012   \n",
              "1     \\nNV922G  \\n,6 months,\\n  [['\\n'], ['']]            05/2017   \n",
              "\n",
              "  production_date general_inspection last_service full_service_history  \\\n",
              "0            None            03/2022         None            \\n,Yes,\\n   \n",
              "1            None               None         None           \\n,None,\\n   \n",
              "\n",
              "  non_smoker_vehicle                 Power          Gearbox     engine_size  \\\n",
              "0         \\n,None,\\n  \\n,90 kW (122 hp),\\n  \\n,Automatic,\\n  \\n,1,390 cc,\\n   \n",
              "1         \\n,None,\\n  \\n,85 kW (116 hp),\\n  \\n,Automatic,\\n    \\n,999 cc,\\n   \n",
              "\n",
              "        gears   cylinders    empty_weight       Fuel_type  \\\n",
              "0     \\n,7,\\n     \\n,4,\\n  \\n,1,100 kg,\\n  \\n,Super 95,\\n   \n",
              "1  \\n,None,\\n  \\n,None,\\n  \\n,1,175 kg,\\n  \\n,Gasoline,\\n   \n",
              "\n",
              "                                    fuel_consumption  \\\n",
              "0  ['\\n', ['5.3 l/100 km (comb.)', '6.5 l/100 km ...   \n",
              "1                                         \\n,None,\\n   \n",
              "\n",
              "                   co2_emissions emission_class  \\\n",
              "0         \\n,122 g/km (comb.),\\n   \\n,Euro 5,\\n   \n",
              "1  ['\\n', [' ', ' ', ' '], '\\n']   \\n,Euro 6,\\n   \n",
              "\n",
              "                           \\nComfort & Convenience\\n  \\\n",
              "0  [['Air conditioning', 'Armrest', 'Automatic cl...   \n",
              "1  [['Air conditioning', 'Armrest', 'Cruise contr...   \n",
              "\n",
              "                           \\nEntertainment & Media\\n  \\\n",
              "0  [['CD player', 'Digital radio', 'MP3', 'On-boa...   \n",
              "1      [['CD player', 'On-board computer', 'Radio']]   \n",
              "\n",
              "                               \\nSafety & Security\\n  \\\n",
              "0  [['ABS', 'Alarm system', 'Bi-Xenon headlights'...   \n",
              "1  [['ABS', 'Central door lock', 'Central door lo...   \n",
              "\n",
              "                                              extras   \\ncolour  \\\n",
              "0  [['Alloy wheels (18\")', 'Sport seats', 'Sport ...   \\n4, Red   \n",
              "1             [['Alloy wheels', 'Sport suspension']]  \\n4, Blue   \n",
              "\n",
              "  \\nmanufacturer_color            \\npaint   upholstery_colour   \\\n",
              "0                 None  \\npaint, Metallic  \\nupholstery, Black   \n",
              "1                 None               None  \\nupholstery, Black   \n",
              "\n",
              "         upholstery   \n",
              "0  \\n8, Part leather  \n",
              "1         \\n8, Cloth  "
            ]
          },
          "metadata": {},
          "execution_count": 728
        }
      ],
      "source": [
        "df.head(2)"
      ]
    },
    {
      "cell_type": "code",
      "source": [
        "df = df.replace(\"None\",np.nan)"
      ],
      "metadata": {
        "id": "dfOprDHbZ_QV"
      },
      "execution_count": 729,
      "outputs": []
    },
    {
      "cell_type": "code",
      "execution_count": 730,
      "metadata": {
        "id": "8Kfvwel0ffWe",
        "outputId": "f11371af-208f-439c-e215-76931b3dd3ab",
        "colab": {
          "base_uri": "https://localhost:8080/"
        }
      },
      "outputs": [
        {
          "output_type": "stream",
          "name": "stdout",
          "text": [
            "<class 'pandas.core.frame.DataFrame'>\n",
            "RangeIndex: 65841 entries, 0 to 65840\n",
            "Data columns (total 46 columns):\n",
            " #   Column                   Non-Null Count  Dtype  \n",
            "---  ------                   --------------  -----  \n",
            " 0   location                 65841 non-null  object \n",
            " 1   url                      65841 non-null  object \n",
            " 2   make                     65841 non-null  object \n",
            " 3   model                    65841 non-null  object \n",
            " 4   short_description        65732 non-null  object \n",
            " 5   price                    65841 non-null  object \n",
            " 6   mileage                  65841 non-null  object \n",
            " 7   gearbox                  65841 non-null  object \n",
            " 8   registration             65795 non-null  object \n",
            " 9   fuel_type                65841 non-null  object \n",
            " 10  power                    65841 non-null  object \n",
            " 11  seller                   65841 non-null  object \n",
            " 12  body_type                65841 non-null  object \n",
            " 13  type                     65841 non-null  object \n",
            " 14  drivetrain               65841 non-null  object \n",
            " 15  seats                    65841 non-null  object \n",
            " 16  doors                    65841 non-null  object \n",
            " 17  country_version          65841 non-null  object \n",
            " 18  offer_number             65841 non-null  object \n",
            " 19  warranty                 65841 non-null  object \n",
            " 20  Mileage                  65841 non-null  object \n",
            " 21  first_registration       65796 non-null  object \n",
            " 22  production_date          6931 non-null   object \n",
            " 23  general_inspection       50111 non-null  object \n",
            " 24  last_service             0 non-null      float64\n",
            " 25  full_service_history     65841 non-null  object \n",
            " 26  non_smoker_vehicle       65841 non-null  object \n",
            " 27  Power                    65841 non-null  object \n",
            " 28  Gearbox                  65841 non-null  object \n",
            " 29  engine_size              65841 non-null  object \n",
            " 30  gears                    65841 non-null  object \n",
            " 31  cylinders                65841 non-null  object \n",
            " 32  empty_weight             65841 non-null  object \n",
            " 33  Fuel_type                65841 non-null  object \n",
            " 34  fuel_consumption         65841 non-null  object \n",
            " 35  co2_emissions            65841 non-null  object \n",
            " 36  emission_class           65841 non-null  object \n",
            " 37  \n",
            "Comfort & Convenience\n",
            "  65841 non-null  object \n",
            " 38  \n",
            "Entertainment & Media\n",
            "  65841 non-null  object \n",
            " 39  \n",
            "Safety & Security\n",
            "      65841 non-null  object \n",
            " 40  extras                   65841 non-null  object \n",
            " 41  \n",
            "colour                  64787 non-null  object \n",
            " 42  \n",
            "manufacturer_color      0 non-null      float64\n",
            " 43  \n",
            "paint                   47297 non-null  object \n",
            " 44   upholstery_colour       43764 non-null  object \n",
            " 45   upholstery              55307 non-null  object \n",
            "dtypes: float64(2), object(44)\n",
            "memory usage: 23.1+ MB\n"
          ]
        }
      ],
      "source": [
        "df.info()"
      ]
    },
    {
      "cell_type": "code",
      "execution_count": 731,
      "metadata": {
        "id": "S7zVhGPqffWf",
        "outputId": "4dbc665f-012c-4c3b-dc41-2c70d9c2660a",
        "colab": {
          "base_uri": "https://localhost:8080/"
        }
      },
      "outputs": [
        {
          "output_type": "execute_result",
          "data": {
            "text/plain": [
              "Index(['location', 'url', 'make', 'model', 'short_description', 'price',\n",
              "       'mileage', 'gearbox', 'registration', 'fuel_type', 'power', 'seller',\n",
              "       'body_type', 'type', 'drivetrain', 'seats', 'doors', 'country_version',\n",
              "       'offer_number', 'warranty', 'Mileage', 'first_registration',\n",
              "       'production_date', 'general_inspection', 'last_service',\n",
              "       'full_service_history', 'non_smoker_vehicle', 'Power', 'Gearbox',\n",
              "       'engine_size', 'gears', 'cylinders', 'empty_weight', 'Fuel_type',\n",
              "       'fuel_consumption', 'co2_emissions', 'emission_class',\n",
              "       '\\nComfort & Convenience\\n', '\\nEntertainment & Media\\n',\n",
              "       '\\nSafety & Security\\n', 'extras', '\\ncolour', '\\nmanufacturer_color',\n",
              "       '\\npaint', ' upholstery_colour ', ' upholstery '],\n",
              "      dtype='object')"
            ]
          },
          "metadata": {},
          "execution_count": 731
        }
      ],
      "source": [
        "df.columns"
      ]
    },
    {
      "cell_type": "code",
      "execution_count": 732,
      "metadata": {
        "id": "ABnh1bdLffWg",
        "outputId": "8754a363-3a9f-4be2-a1c5-437d32066f4b",
        "colab": {
          "base_uri": "https://localhost:8080/"
        }
      },
      "outputs": [
        {
          "output_type": "stream",
          "name": "stdout",
          "text": [
            "location\n",
            "url\n",
            "make\n",
            "model\n",
            "short_description\n",
            "price\n",
            "mileage\n",
            "gearbox\n",
            "registration\n",
            "fuel_type\n",
            "power\n",
            "seller\n",
            "body_type\n",
            "type\n",
            "drivetrain\n",
            "seats\n",
            "doors\n",
            "country_version\n",
            "offer_number\n",
            "warranty\n",
            "Mileage\n",
            "first_registration\n",
            "production_date\n",
            "general_inspection\n",
            "last_service\n",
            "full_service_history\n",
            "non_smoker_vehicle\n",
            "Power\n",
            "Gearbox\n",
            "engine_size\n",
            "gears\n",
            "cylinders\n",
            "empty_weight\n",
            "Fuel_type\n",
            "fuel_consumption\n",
            "co2_emissions\n",
            "emission_class\n",
            "\n",
            "Comfort & Convenience\n",
            "\n",
            "\n",
            "Entertainment & Media\n",
            "\n",
            "\n",
            "Safety & Security\n",
            "\n",
            "extras\n",
            "\n",
            "colour\n",
            "\n",
            "manufacturer_color\n",
            "\n",
            "paint\n",
            " upholstery_colour \n",
            " upholstery \n"
          ]
        }
      ],
      "source": [
        "print(*df.columns,sep='\\n')"
      ]
    },
    {
      "cell_type": "code",
      "execution_count": 733,
      "metadata": {
        "id": "FzsE3VX8ffWg",
        "outputId": "f6332a74-70b5-4ec4-9c65-f7099a61c693",
        "colab": {
          "base_uri": "https://localhost:8080/"
        }
      },
      "outputs": [
        {
          "output_type": "execute_result",
          "data": {
            "text/plain": [
              "location                         0\n",
              "url                              0\n",
              "make                             0\n",
              "model                            0\n",
              "short_description              109\n",
              "price                            0\n",
              "mileage                          0\n",
              "gearbox                          0\n",
              "registration                    46\n",
              "fuel_type                        0\n",
              "power                            0\n",
              "seller                           0\n",
              "body_type                        0\n",
              "type                             0\n",
              "drivetrain                       0\n",
              "seats                            0\n",
              "doors                            0\n",
              "country_version                  0\n",
              "offer_number                     0\n",
              "warranty                         0\n",
              "Mileage                          0\n",
              "first_registration              45\n",
              "production_date              58910\n",
              "general_inspection           15730\n",
              "last_service                 65841\n",
              "full_service_history             0\n",
              "non_smoker_vehicle               0\n",
              "Power                            0\n",
              "Gearbox                          0\n",
              "engine_size                      0\n",
              "gears                            0\n",
              "cylinders                        0\n",
              "empty_weight                     0\n",
              "Fuel_type                        0\n",
              "fuel_consumption                 0\n",
              "co2_emissions                    0\n",
              "emission_class                   0\n",
              "\\nComfort & Convenience\\n        0\n",
              "\\nEntertainment & Media\\n        0\n",
              "\\nSafety & Security\\n            0\n",
              "extras                           0\n",
              "\\ncolour                      1054\n",
              "\\nmanufacturer_color         65841\n",
              "\\npaint                      18544\n",
              " upholstery_colour           22077\n",
              " upholstery                  10534\n",
              "dtype: int64"
            ]
          },
          "metadata": {},
          "execution_count": 733
        }
      ],
      "source": [
        "df.isnull().sum()"
      ]
    },
    {
      "cell_type": "code",
      "execution_count": 734,
      "metadata": {
        "id": "6VUdRXbDffWh",
        "outputId": "e4a1a286-d93f-4fc9-aef9-0d3ced3ade80",
        "colab": {
          "base_uri": "https://localhost:8080/",
          "height": 0
        }
      },
      "outputs": [
        {
          "output_type": "display_data",
          "data": {
            "image/png": "[encoded data removed]",
            "text/plain": [
              "<Figure size 2160x720 with 1 Axes>"
            ]
          },
          "metadata": {
            "needs_background": "light"
          }
        }
      ],
      "source": [
        "plt.figure(figsize=(30,10))\n",
        "sns.heatmap(df.isnull(),yticklabels=False,cbar=False,cmap='viridis');"
      ]
    },
    {
      "cell_type": "code",
      "execution_count": 735,
      "metadata": {
        "id": "QeFuZ8ppffWh"
      },
      "outputs": [],
      "source": [
        "def show_nans(df, limit):\n",
        "    missing = df.isnull().sum()*100/df.shape[0]\n",
        "    return missing.loc[lambda x : x >= limit]\n",
        "\n",
        "def perc_nans(serial):\n",
        "    # display percentage of nans in a Series\n",
        "    return serial.isnull().sum()/serial.shape[0]*100"
      ]
    },
    {
      "cell_type": "code",
      "execution_count": 736,
      "metadata": {
        "id": "sdwfReg8ffWi",
        "outputId": "d46e6fb0-65e6-46bd-cb56-00bcb7d9c2c6",
        "colab": {
          "base_uri": "https://localhost:8080/"
        }
      },
      "outputs": [
        {
          "output_type": "execute_result",
          "data": {
            "text/plain": [
              "location                       0.000000\n",
              "url                            0.000000\n",
              "make                           0.000000\n",
              "model                          0.000000\n",
              "short_description              0.165550\n",
              "price                          0.000000\n",
              "mileage                        0.000000\n",
              "gearbox                        0.000000\n",
              "registration                   0.069865\n",
              "fuel_type                      0.000000\n",
              "power                          0.000000\n",
              "seller                         0.000000\n",
              "body_type                      0.000000\n",
              "type                           0.000000\n",
              "drivetrain                     0.000000\n",
              "seats                          0.000000\n",
              "doors                          0.000000\n",
              "country_version                0.000000\n",
              "offer_number                   0.000000\n",
              "warranty                       0.000000\n",
              "Mileage                        0.000000\n",
              "first_registration             0.068346\n",
              "production_date               89.473125\n",
              "general_inspection            23.890889\n",
              "last_service                 100.000000\n",
              "full_service_history           0.000000\n",
              "non_smoker_vehicle             0.000000\n",
              "Power                          0.000000\n",
              "Gearbox                        0.000000\n",
              "engine_size                    0.000000\n",
              "gears                          0.000000\n",
              "cylinders                      0.000000\n",
              "empty_weight                   0.000000\n",
              "Fuel_type                      0.000000\n",
              "fuel_consumption               0.000000\n",
              "co2_emissions                  0.000000\n",
              "emission_class                 0.000000\n",
              "\\nComfort & Convenience\\n      0.000000\n",
              "\\nEntertainment & Media\\n      0.000000\n",
              "\\nSafety & Security\\n          0.000000\n",
              "extras                         0.000000\n",
              "\\ncolour                       1.600826\n",
              "\\nmanufacturer_color         100.000000\n",
              "\\npaint                       28.164821\n",
              " upholstery_colour            33.530779\n",
              " upholstery                   15.999149\n",
              "dtype: float64"
            ]
          },
          "metadata": {},
          "execution_count": 736
        }
      ],
      "source": [
        "show_nans(df,0)"
      ]
    },
    {
      "cell_type": "code",
      "source": [
        "df.head(1)"
      ],
      "metadata": {
        "colab": {
          "base_uri": "https://localhost:8080/",
          "height": 0
        },
        "id": "7bWhcIbReViG",
        "outputId": "fb1dfcff-43e1-4e9c-e413-2bc6928bacbd"
      },
      "execution_count": 737,
      "outputs": [
        {
          "output_type": "execute_result",
          "data": {
            "text/html": [
              "\n",
              "  <div id=\"df-4162a2c5-786b-44bd-a917-505b394dd576\">\n",
              "    <div class=\"colab-df-container\">\n",
              "      <div>\n",
              "<style scoped>\n",
              "    .dataframe tbody tr th:only-of-type {\n",
              "        vertical-align: middle;\n",
              "    }\n",
              "\n",
              "    .dataframe tbody tr th {\n",
              "        vertical-align: top;\n",
              "    }\n",
              "\n",
              "    .dataframe thead th {\n",
              "        text-align: right;\n",
              "    }\n",
              "</style>\n",
              "<table border=\"1\" class=\"dataframe\">\n",
              "  <thead>\n",
              "    <tr style=\"text-align: right;\">\n",
              "      <th></th>\n",
              "      <th>location</th>\n",
              "      <th>url</th>\n",
              "      <th>make</th>\n",
              "      <th>model</th>\n",
              "      <th>short_description</th>\n",
              "      <th>price</th>\n",
              "      <th>mileage</th>\n",
              "      <th>gearbox</th>\n",
              "      <th>registration</th>\n",
              "      <th>fuel_type</th>\n",
              "      <th>power</th>\n",
              "      <th>seller</th>\n",
              "      <th>body_type</th>\n",
              "      <th>type</th>\n",
              "      <th>drivetrain</th>\n",
              "      <th>seats</th>\n",
              "      <th>doors</th>\n",
              "      <th>country_version</th>\n",
              "      <th>offer_number</th>\n",
              "      <th>warranty</th>\n",
              "      <th>Mileage</th>\n",
              "      <th>first_registration</th>\n",
              "      <th>production_date</th>\n",
              "      <th>general_inspection</th>\n",
              "      <th>last_service</th>\n",
              "      <th>full_service_history</th>\n",
              "      <th>non_smoker_vehicle</th>\n",
              "      <th>Power</th>\n",
              "      <th>Gearbox</th>\n",
              "      <th>engine_size</th>\n",
              "      <th>gears</th>\n",
              "      <th>cylinders</th>\n",
              "      <th>empty_weight</th>\n",
              "      <th>Fuel_type</th>\n",
              "      <th>fuel_consumption</th>\n",
              "      <th>co2_emissions</th>\n",
              "      <th>emission_class</th>\n",
              "      <th>\\nComfort &amp; Convenience\\n</th>\n",
              "      <th>\\nEntertainment &amp; Media\\n</th>\n",
              "      <th>\\nSafety &amp; Security\\n</th>\n",
              "      <th>extras</th>\n",
              "      <th>\\ncolour</th>\n",
              "      <th>\\nmanufacturer_color</th>\n",
              "      <th>\\npaint</th>\n",
              "      <th>upholstery_colour</th>\n",
              "      <th>upholstery</th>\n",
              "    </tr>\n",
              "  </thead>\n",
              "  <tbody>\n",
              "    <tr>\n",
              "      <th>0</th>\n",
              "      <td>WAGENINGEN, NL</td>\n",
              "      <td>https://www.autoscout24.com/offers/audi-a1-1-4...</td>\n",
              "      <td>\\n,Audi ,\\n</td>\n",
              "      <td>\\n,A1,\\n</td>\n",
              "      <td>1.4 TFSI 122 pk Pro Line S-Line 1 eigenaar/ NL...</td>\n",
              "      <td>[['\\n', '€ 15,945.-', '\\n']]</td>\n",
              "      <td>['', ['42,091 km']]</td>\n",
              "      <td>\\n,Automatic,\\n</td>\n",
              "      <td>05/2012</td>\n",
              "      <td>\\n,Gasoline,\\n</td>\n",
              "      <td>90 kW (122 hp),</td>\n",
              "      <td>['\\n', ['Dealer\\n']]</td>\n",
              "      <td>\\n,Compact,\\n</td>\n",
              "      <td>\\n,Used,\\n</td>\n",
              "      <td>\\n,Front,\\n</td>\n",
              "      <td>\\n4</td>\n",
              "      <td>\\n3</td>\n",
              "      <td>Country version,None</td>\n",
              "      <td>\\n82-XDG-9</td>\n",
              "      <td>\\n,None,\\n</td>\n",
              "      <td>[['\\n'], ['']]</td>\n",
              "      <td>05/2012</td>\n",
              "      <td>NaN</td>\n",
              "      <td>03/2022</td>\n",
              "      <td>NaN</td>\n",
              "      <td>\\n,Yes,\\n</td>\n",
              "      <td>\\n,None,\\n</td>\n",
              "      <td>\\n,90 kW (122 hp),\\n</td>\n",
              "      <td>\\n,Automatic,\\n</td>\n",
              "      <td>\\n,1,390 cc,\\n</td>\n",
              "      <td>\\n,7,\\n</td>\n",
              "      <td>\\n,4,\\n</td>\n",
              "      <td>\\n,1,100 kg,\\n</td>\n",
              "      <td>\\n,Super 95,\\n</td>\n",
              "      <td>['\\n', ['5.3 l/100 km (comb.)', '6.5 l/100 km ...</td>\n",
              "      <td>\\n,122 g/km (comb.),\\n</td>\n",
              "      <td>\\n,Euro 5,\\n</td>\n",
              "      <td>[['Air conditioning', 'Armrest', 'Automatic cl...</td>\n",
              "      <td>[['CD player', 'Digital radio', 'MP3', 'On-boa...</td>\n",
              "      <td>[['ABS', 'Alarm system', 'Bi-Xenon headlights'...</td>\n",
              "      <td>[['Alloy wheels (18\")', 'Sport seats', 'Sport ...</td>\n",
              "      <td>\\n4, Red</td>\n",
              "      <td>NaN</td>\n",
              "      <td>\\npaint, Metallic</td>\n",
              "      <td>\\nupholstery, Black</td>\n",
              "      <td>\\n8, Part leather</td>\n",
              "    </tr>\n",
              "  </tbody>\n",
              "</table>\n",
              "</div>\n",
              "      <button class=\"colab-df-convert\" onclick=\"convertToInteractive('df-4162a2c5-786b-44bd-a917-505b394dd576')\"\n",
              "              title=\"Convert this dataframe to an interactive table.\"\n",
              "              style=\"display:none;\">\n",
              "        \n",
              "  <svg xmlns=\"http://www.w3.org/2000/svg\" height=\"24px\"viewBox=\"0 0 24 24\"\n",
              "       width=\"24px\">\n",
              "    <path d=\"M0 0h24v24H0V0z\" fill=\"none\"/>\n",
              "    <path d=\"M18.56 5.44l.94 2.06.94-2.06 2.06-.94-2.06-.94-.94-2.06-.94 2.06-2.06.94zm-11 1L8.5 8.5l.94-2.06 2.06-.94-2.06-.94L8.5 2.5l-.94 2.06-2.06.94zm10 10l.94 2.06.94-2.06 2.06-.94-2.06-.94-.94-2.06-.94 2.06-2.06.94z\"/><path d=\"M17.41 7.96l-1.37-1.37c-.4-.4-.92-.59-1.43-.59-.52 0-1.04.2-1.43.59L10.3 9.45l-7.72 7.72c-.78.78-.78 2.05 0 2.83L4 21.41c.39.39.9.59 1.41.59.51 0 1.02-.2 1.41-.59l7.78-7.78 2.81-2.81c.8-.78.8-2.07 0-2.86zM5.41 20L4 18.59l7.72-7.72 1.47 1.35L5.41 20z\"/>\n",
              "  </svg>\n",
              "      </button>\n",
              "      \n",
              "  <style>\n",
              "    .colab-df-container {\n",
              "      display:flex;\n",
              "      flex-wrap:wrap;\n",
              "      gap: 12px;\n",
              "    }\n",
              "\n",
              "    .colab-df-convert {\n",
              "      background-color: #E8F0FE;\n",
              "      border: none;\n",
              "      border-radius: 50%;\n",
              "      cursor: pointer;\n",
              "      display: none;\n",
              "      fill: #1967D2;\n",
              "      height: 32px;\n",
              "      padding: 0 0 0 0;\n",
              "      width: 32px;\n",
              "    }\n",
              "\n",
              "    .colab-df-convert:hover {\n",
              "      background-color: #E2EBFA;\n",
              "      box-shadow: 0px 1px 2px rgba(60, 64, 67, 0.3), 0px 1px 3px 1px rgba(60, 64, 67, 0.15);\n",
              "      fill: #174EA6;\n",
              "    }\n",
              "\n",
              "    [theme=dark] .colab-df-convert {\n",
              "      background-color: #3B4455;\n",
              "      fill: #D2E3FC;\n",
              "    }\n",
              "\n",
              "    [theme=dark] .colab-df-convert:hover {\n",
              "      background-color: #434B5C;\n",
              "      box-shadow: 0px 1px 3px 1px rgba(0, 0, 0, 0.15);\n",
              "      filter: drop-shadow(0px 1px 2px rgba(0, 0, 0, 0.3));\n",
              "      fill: #FFFFFF;\n",
              "    }\n",
              "  </style>\n",
              "\n",
              "      <script>\n",
              "        const buttonEl =\n",
              "          document.querySelector('#df-4162a2c5-786b-44bd-a917-505b394dd576 button.colab-df-convert');\n",
              "        buttonEl.style.display =\n",
              "          google.colab.kernel.accessAllowed ? 'block' : 'none';\n",
              "\n",
              "        async function convertToInteractive(key) {\n",
              "          const element = document.querySelector('#df-4162a2c5-786b-44bd-a917-505b394dd576');\n",
              "          const dataTable =\n",
              "            await google.colab.kernel.invokeFunction('convertToInteractive',\n",
              "                                                     [key], {});\n",
              "          if (!dataTable) return;\n",
              "\n",
              "          const docLinkHtml = 'Like what you see? Visit the ' +\n",
              "            '<a target=\"_blank\" href=https://colab.research.google.com/notebooks/data_table.ipynb>data table notebook</a>'\n",
              "            + ' to learn more about interactive tables.';\n",
              "          element.innerHTML = '';\n",
              "          dataTable['output_type'] = 'display_data';\n",
              "          await google.colab.output.renderOutput(dataTable, element);\n",
              "          const docLink = document.createElement('div');\n",
              "          docLink.innerHTML = docLinkHtml;\n",
              "          element.appendChild(docLink);\n",
              "        }\n",
              "      </script>\n",
              "    </div>\n",
              "  </div>\n",
              "  "
            ],
            "text/plain": [
              "         location                                                url  \\\n",
              "0  WAGENINGEN, NL  https://www.autoscout24.com/offers/audi-a1-1-4...   \n",
              "\n",
              "          make     model                                  short_description  \\\n",
              "0  \\n,Audi ,\\n  \\n,A1,\\n  1.4 TFSI 122 pk Pro Line S-Line 1 eigenaar/ NL...   \n",
              "\n",
              "                          price              mileage          gearbox  \\\n",
              "0  [['\\n', '€ 15,945.-', '\\n']]  ['', ['42,091 km']]  \\n,Automatic,\\n   \n",
              "\n",
              "  registration       fuel_type            power                seller  \\\n",
              "0      05/2012  \\n,Gasoline,\\n  90 kW (122 hp),  ['\\n', ['Dealer\\n']]   \n",
              "\n",
              "       body_type        type   drivetrain seats doors       country_version  \\\n",
              "0  \\n,Compact,\\n  \\n,Used,\\n  \\n,Front,\\n   \\n4   \\n3  Country version,None   \n",
              "\n",
              "  offer_number    warranty         Mileage first_registration production_date  \\\n",
              "0   \\n82-XDG-9  \\n,None,\\n  [['\\n'], ['']]            05/2012             NaN   \n",
              "\n",
              "  general_inspection  last_service full_service_history non_smoker_vehicle  \\\n",
              "0            03/2022           NaN            \\n,Yes,\\n         \\n,None,\\n   \n",
              "\n",
              "                  Power          Gearbox     engine_size    gears cylinders  \\\n",
              "0  \\n,90 kW (122 hp),\\n  \\n,Automatic,\\n  \\n,1,390 cc,\\n  \\n,7,\\n   \\n,4,\\n   \n",
              "\n",
              "     empty_weight       Fuel_type  \\\n",
              "0  \\n,1,100 kg,\\n  \\n,Super 95,\\n   \n",
              "\n",
              "                                    fuel_consumption           co2_emissions  \\\n",
              "0  ['\\n', ['5.3 l/100 km (comb.)', '6.5 l/100 km ...  \\n,122 g/km (comb.),\\n   \n",
              "\n",
              "  emission_class                          \\nComfort & Convenience\\n  \\\n",
              "0   \\n,Euro 5,\\n  [['Air conditioning', 'Armrest', 'Automatic cl...   \n",
              "\n",
              "                           \\nEntertainment & Media\\n  \\\n",
              "0  [['CD player', 'Digital radio', 'MP3', 'On-boa...   \n",
              "\n",
              "                               \\nSafety & Security\\n  \\\n",
              "0  [['ABS', 'Alarm system', 'Bi-Xenon headlights'...   \n",
              "\n",
              "                                              extras  \\ncolour  \\\n",
              "0  [['Alloy wheels (18\")', 'Sport seats', 'Sport ...  \\n4, Red   \n",
              "\n",
              "   \\nmanufacturer_color            \\npaint   upholstery_colour   \\\n",
              "0                   NaN  \\npaint, Metallic  \\nupholstery, Black   \n",
              "\n",
              "         upholstery   \n",
              "0  \\n8, Part leather  "
            ]
          },
          "metadata": {},
          "execution_count": 737
        }
      ]
    },
    {
      "cell_type": "markdown",
      "metadata": {
        "id": "E0m26bbyffWh"
      },
      "source": [
        "> Drop columns that have %65 precentage and higher of missing values."
      ]
    },
    {
      "cell_type": "code",
      "source": [
        "drop_columns=[\n",
        "              # 'location', \n",
        "              'url', # useless\n",
        "              # 'make', \n",
        "              # 'model', \n",
        "              'short_description', # complicated data ---------------------->\n",
        "              # 'price',\n",
        "              # 'mileage', \n",
        "              # 'gearbox', \n",
        "              # 'registration', \n",
        "              # 'fuel_type', \n",
        "              # 'power', \n",
        "              # 'seller',\n",
        "              # 'body_type', \n",
        "              # 'type', \n",
        "              # 'drivetrain', \n",
        "              # 'seats', \n",
        "              # 'doors', \n",
        "              'country_version', # useless\n",
        "              'offer_number', # useless\n",
        "              # 'warranty', \n",
        "              'Mileage', # useless\n",
        "              # 'first_registration',\n",
        "              'production_date', # null\n",
        "              # 'general_inspection', \n",
        "              'last_service', #null\n",
        "              # 'full_service_history', \n",
        "              # 'non_smoker_vehicle', \n",
        "              'Power', # dublicate column\n",
        "              'Gearbox', # dublicate column\n",
        "              # 'engine_size', \n",
        "              # 'gears', \n",
        "              # 'cylinders', \n",
        "              # 'empty_weight', \n",
        "              'Fuel_type',# dublicate column\n",
        "              # 'fuel_consumption', \n",
        "              # 'co2_emissions', \n",
        "              # 'emission_class',\n",
        "              # '\\nComfort & Convenience\\n', \n",
        "              # '\\nEntertainment & Media\\n',\n",
        "              # '\\nSafety & Security\\n',\n",
        "              # 'extras', \n",
        "              # '\\ncolour', # dublicate column\n",
        "              '\\nmanufacturer_color', # null\n",
        "              # '\\npaint',\n",
        "              # ' upholstery_colour ',\n",
        "              # ' upholstery ',\n",
        "]\n",
        "df.drop(drop_columns, axis = 1, inplace = True)"
      ],
      "metadata": {
        "id": "LTv-gbheeL8e"
      },
      "execution_count": 738,
      "outputs": []
    },
    {
      "cell_type": "code",
      "execution_count": 739,
      "metadata": {
        "id": "3Z6Yj39TffWi",
        "outputId": "3c688fdb-c52b-4f42-ffdb-04e785af5491",
        "colab": {
          "base_uri": "https://localhost:8080/"
        }
      },
      "outputs": [
        {
          "output_type": "execute_result",
          "data": {
            "text/plain": [
              "(65841, 35)"
            ]
          },
          "metadata": {},
          "execution_count": 739
        }
      ],
      "source": [
        "df.shape"
      ]
    },
    {
      "cell_type": "markdown",
      "metadata": {
        "id": "KVAWStuUffWj"
      },
      "source": [
        "## Percentages of Null Data"
      ]
    },
    {
      "cell_type": "code",
      "execution_count": 740,
      "metadata": {
        "id": "i8taq5GbffWj",
        "outputId": "d0d031c8-3951-476a-be6f-24ba4e36a71b",
        "colab": {
          "base_uri": "https://localhost:8080/"
        }
      },
      "outputs": [
        {
          "output_type": "execute_result",
          "data": {
            "text/plain": [
              "location                      0.000000\n",
              "make                          0.000000\n",
              "model                         0.000000\n",
              "price                         0.000000\n",
              "mileage                       0.000000\n",
              "gearbox                       0.000000\n",
              "registration                  0.069865\n",
              "fuel_type                     0.000000\n",
              "power                         0.000000\n",
              "seller                        0.000000\n",
              "body_type                     0.000000\n",
              "type                          0.000000\n",
              "drivetrain                    0.000000\n",
              "seats                         0.000000\n",
              "doors                         0.000000\n",
              "warranty                      0.000000\n",
              "first_registration            0.068346\n",
              "general_inspection           23.890889\n",
              "full_service_history          0.000000\n",
              "non_smoker_vehicle            0.000000\n",
              "engine_size                   0.000000\n",
              "gears                         0.000000\n",
              "cylinders                     0.000000\n",
              "empty_weight                  0.000000\n",
              "fuel_consumption              0.000000\n",
              "co2_emissions                 0.000000\n",
              "emission_class                0.000000\n",
              "\\nComfort & Convenience\\n     0.000000\n",
              "\\nEntertainment & Media\\n     0.000000\n",
              "\\nSafety & Security\\n         0.000000\n",
              "extras                        0.000000\n",
              "\\ncolour                      1.600826\n",
              "\\npaint                      28.164821\n",
              " upholstery_colour           33.530779\n",
              " upholstery                  15.999149\n",
              "dtype: float64"
            ]
          },
          "metadata": {},
          "execution_count": 740
        }
      ],
      "source": [
        "show_nans(df,0)"
      ]
    },
    {
      "cell_type": "markdown",
      "metadata": {
        "id": "6Gzi7hLYffWj"
      },
      "source": [
        "\\> At the begining, focus on the columns that have %15 precentage and higher of missing values. "
      ]
    },
    {
      "cell_type": "code",
      "execution_count": 741,
      "metadata": {
        "id": "4GC3e-4iffWj",
        "outputId": "f07dfd28-b353-4f38-e8d8-c598675ec0ba",
        "colab": {
          "base_uri": "https://localhost:8080/"
        }
      },
      "outputs": [
        {
          "output_type": "execute_result",
          "data": {
            "text/plain": [
              "general_inspection     23.890889\n",
              "\\npaint                28.164821\n",
              " upholstery_colour     33.530779\n",
              " upholstery            15.999149\n",
              "dtype: float64"
            ]
          },
          "metadata": {},
          "execution_count": 741
        }
      ],
      "source": [
        "show_nans(df,15)"
      ]
    },
    {
      "cell_type": "markdown",
      "metadata": {
        "id": "oVbPjgG0ffWk"
      },
      "source": [
        "## Rename Columns"
      ]
    },
    {
      "cell_type": "code",
      "execution_count": 742,
      "metadata": {
        "id": "elsAqu0HffWk",
        "outputId": "336b8407-2d24-42d4-dc83-4946dce2752b",
        "colab": {
          "base_uri": "https://localhost:8080/"
        }
      },
      "outputs": [
        {
          "output_type": "execute_result",
          "data": {
            "text/plain": [
              "Index(['location', 'make', 'model', 'price', 'mileage', 'gearbox',\n",
              "       'registration', 'fuel_type', 'power', 'seller', 'body_type', 'type',\n",
              "       'drivetrain', 'seats', 'doors', 'warranty', 'first_registration',\n",
              "       'general_inspection', 'full_service_history', 'non_smoker_vehicle',\n",
              "       'engine_size', 'gears', 'cylinders', 'empty_weight', 'fuel_consumption',\n",
              "       'co2_emissions', 'emission_class', '\\nComfort & Convenience\\n',\n",
              "       '\\nEntertainment & Media\\n', '\\nSafety & Security\\n', 'extras',\n",
              "       '\\ncolour', '\\npaint', ' upholstery_colour ', ' upholstery '],\n",
              "      dtype='object')"
            ]
          },
          "metadata": {},
          "execution_count": 742
        }
      ],
      "source": [
        "df.columns"
      ]
    },
    {
      "cell_type": "code",
      "execution_count": 743,
      "metadata": {
        "id": "Fez4hF7KffWk"
      },
      "outputs": [],
      "source": [
        "df.rename(columns={\n",
        "                  \"\\nComfort & Convenience\\n\":\"comfort_convenience\",\n",
        "                  \"\\nEntertainment & Media\\n\":\"entertainment_media\",\n",
        "                  \"\\nSafety & Security\\n\":\"safety_security\",\n",
        "                  \"\\ncolour\":\"colour\",\n",
        "                  \"\\nmanufacturer_color\":\"manufacturer_color\",\n",
        "                  \"\\npaint\":\"paint\",\n",
        "                  \" upholstery_colour \":\"upholstery_colour\",\n",
        "                  \" upholstery \":\"upholstery\" },inplace=True)"
      ]
    },
    {
      "cell_type": "markdown",
      "metadata": {
        "id": "pK60-WpjffWk"
      },
      "source": [
        "> Open a header for all columns"
      ]
    },
    {
      "cell_type": "markdown",
      "metadata": {
        "id": "pIKIjAbklmXA"
      },
      "source": [
        "## location"
      ]
    },
    {
      "cell_type": "code",
      "execution_count": 744,
      "metadata": {
        "outputId": "323b7574-b248-4d75-8e0b-e8c6f5ac18df",
        "colab": {
          "base_uri": "https://localhost:8080/"
        },
        "id": "Xnn-ysXElmXB"
      },
      "outputs": [
        {
          "output_type": "execute_result",
          "data": {
            "text/plain": [
              "0.0"
            ]
          },
          "metadata": {},
          "execution_count": 744
        }
      ],
      "source": [
        "perc_nans(df.location)"
      ]
    },
    {
      "cell_type": "code",
      "execution_count": 745,
      "metadata": {
        "outputId": "e9caf820-d564-4bd4-ef9a-7e779b9d879a",
        "colab": {
          "base_uri": "https://localhost:8080/"
        },
        "id": "coPE-SoqlmXB"
      },
      "outputs": [
        {
          "output_type": "execute_result",
          "data": {
            "text/plain": [
              "ROTTERDAM, NL              1431\n",
              "APELDOORN, NL              1176\n",
              "AMSTERDAM, NL               959\n",
              "TILBURG, NL                 906\n",
              "HAARLEM, NL                 736\n",
              "                           ... \n",
              "Luttenberg, NL                1\n",
              "Zandvoort, NL                 1\n",
              "Steensel, NL                  1\n",
              "Wekerom, NL                   1\n",
              "Berkel en rodenrijs, NL       1\n",
              "Name: location, Length: 2288, dtype: int64"
            ]
          },
          "metadata": {},
          "execution_count": 745
        }
      ],
      "source": [
        "df.location.value_counts(dropna=False)"
      ]
    },
    {
      "cell_type": "code",
      "source": [
        "df.location = df.location.str.strip(\", NL\")\n",
        "df.location = df.location.str.title()"
      ],
      "metadata": {
        "id": "cQLoFjYWmOvx"
      },
      "execution_count": 746,
      "outputs": []
    },
    {
      "cell_type": "markdown",
      "metadata": {
        "id": "eSofjsY-ffWk"
      },
      "source": [
        "## make"
      ]
    },
    {
      "cell_type": "code",
      "execution_count": 747,
      "metadata": {
        "id": "SI3J3grpffWk",
        "outputId": "26542429-bbd3-48ae-af1c-54deedc2b579",
        "colab": {
          "base_uri": "https://localhost:8080/"
        }
      },
      "outputs": [
        {
          "output_type": "execute_result",
          "data": {
            "text/plain": [
              "0.0"
            ]
          },
          "metadata": {},
          "execution_count": 747
        }
      ],
      "source": [
        "perc_nans(df.make)"
      ]
    },
    {
      "cell_type": "code",
      "execution_count": 748,
      "metadata": {
        "id": "wqv2gly8ffWl",
        "outputId": "6be8e552-8c46-46d9-b927-534022ef40ab",
        "colab": {
          "base_uri": "https://localhost:8080/"
        }
      },
      "outputs": [
        {
          "output_type": "execute_result",
          "data": {
            "text/plain": [
              "\\n,BMW ,\\n              7775\n",
              "\\n,Volkswagen ,\\n       7344\n",
              "\\n,Audi ,\\n             6344\n",
              "\\n,Mercedes-Benz ,\\n    5580\n",
              "\\n,Volvo ,\\n            5184\n",
              "\\n,Renault ,\\n          4839\n",
              "\\n,Peugeot ,\\n          3869\n",
              "\\n,Toyota ,\\n           3026\n",
              "\\n,Skoda ,\\n            2911\n",
              "\\n,Kia ,\\n              2894\n",
              "\\n,Hyundai ,\\n          2631\n",
              "\\n,Opel ,\\n             2574\n",
              "\\n,Citroen ,\\n          2473\n",
              "\\n,Mazda ,\\n            2324\n",
              "\\n,Fiat ,\\n             2195\n",
              "\\n,Honda ,\\n            1045\n",
              "\\n,Ford ,\\n              971\n",
              "\\n,Dacia ,\\n             937\n",
              "\\n,Chevrolet ,\\n         465\n",
              "\\n,Tesla ,\\n             460\n",
              "Name: make, dtype: int64"
            ]
          },
          "metadata": {},
          "execution_count": 748
        }
      ],
      "source": [
        "df.make.value_counts(dropna=False)"
      ]
    },
    {
      "cell_type": "code",
      "source": [
        "df.make = df.make.str.split(\",\").apply(lambda x: x[1])"
      ],
      "metadata": {
        "id": "dtaJ0UYbnrSz"
      },
      "execution_count": 749,
      "outputs": []
    },
    {
      "cell_type": "code",
      "source": [
        "df.make.value_counts(dropna=False)"
      ],
      "metadata": {
        "colab": {
          "base_uri": "https://localhost:8080/"
        },
        "id": "Wa7_r3odqKzZ",
        "outputId": "4a19b6c5-d44a-452b-92a8-809e5a616334"
      },
      "execution_count": 750,
      "outputs": [
        {
          "output_type": "execute_result",
          "data": {
            "text/plain": [
              "BMW               7775\n",
              "Volkswagen        7344\n",
              "Audi              6344\n",
              "Mercedes-Benz     5580\n",
              "Volvo             5184\n",
              "Renault           4839\n",
              "Peugeot           3869\n",
              "Toyota            3026\n",
              "Skoda             2911\n",
              "Kia               2894\n",
              "Hyundai           2631\n",
              "Opel              2574\n",
              "Citroen           2473\n",
              "Mazda             2324\n",
              "Fiat              2195\n",
              "Honda             1045\n",
              "Ford               971\n",
              "Dacia              937\n",
              "Chevrolet          465\n",
              "Tesla              460\n",
              "Name: make, dtype: int64"
            ]
          },
          "metadata": {},
          "execution_count": 750
        }
      ]
    },
    {
      "cell_type": "markdown",
      "metadata": {
        "id": "5RmRif86qT7d"
      },
      "source": [
        "## model"
      ]
    },
    {
      "cell_type": "code",
      "execution_count": 751,
      "metadata": {
        "outputId": "e5c8bbb6-c3c9-488e-c30c-3e955c43b9b6",
        "colab": {
          "base_uri": "https://localhost:8080/"
        },
        "id": "StuIwrujqT7e"
      },
      "outputs": [
        {
          "output_type": "execute_result",
          "data": {
            "text/plain": [
              "0.0"
            ]
          },
          "metadata": {},
          "execution_count": 751
        }
      ],
      "source": [
        "perc_nans(df.model)"
      ]
    },
    {
      "cell_type": "code",
      "source": [
        "df.model"
      ],
      "metadata": {
        "colab": {
          "base_uri": "https://localhost:8080/"
        },
        "id": "U8dLamLQ4NDh",
        "outputId": "7648a799-ef99-419f-96d2-f0b84fa9aad2"
      },
      "execution_count": 752,
      "outputs": [
        {
          "output_type": "execute_result",
          "data": {
            "text/plain": [
              "0         \\n,A1,\\n\n",
              "1         \\n,A3,\\n\n",
              "2         \\n,A3,\\n\n",
              "3         \\n,A7,\\n\n",
              "4         \\n,A3,\\n\n",
              "           ...    \n",
              "65836    \\n,S60,\\n\n",
              "65837    \\n,S60,\\n\n",
              "65838    \\n,S40,\\n\n",
              "65839    \\n,S60,\\n\n",
              "65840    \\n,S60,\\n\n",
              "Name: model, Length: 65841, dtype: object"
            ]
          },
          "metadata": {},
          "execution_count": 752
        }
      ]
    },
    {
      "cell_type": "code",
      "execution_count": 753,
      "metadata": {
        "outputId": "ccfe7123-ed78-4295-81af-4afcbee8d671",
        "colab": {
          "base_uri": "https://localhost:8080/"
        },
        "id": "-15-Sbs5qT7e"
      },
      "outputs": [
        {
          "output_type": "execute_result",
          "data": {
            "text/plain": [
              "\\n,A3,\\n              1349\n",
              "\\n,Golf,\\n            1025\n",
              "\\n,Megane,\\n           968\n",
              "\\n,A4,\\n               857\n",
              "\\n,2008,\\n             851\n",
              "                      ... \n",
              "\\n,T6 Caravelle,\\n       1\n",
              "\\n,300,\\n                1\n",
              "\\n,E 270,\\n              1\n",
              "\\n,CLA 35 AMG,\\n         1\n",
              "\\n,Previa,\\n             1\n",
              "Name: model, Length: 694, dtype: int64"
            ]
          },
          "metadata": {},
          "execution_count": 753
        }
      ],
      "source": [
        "df.model.value_counts(dropna=False)"
      ]
    },
    {
      "cell_type": "code",
      "source": [
        "df.model = df.model.str.split(\",\").apply(lambda x: x[1])"
      ],
      "metadata": {
        "id": "O9H8g38iqT7e"
      },
      "execution_count": 754,
      "outputs": []
    },
    {
      "cell_type": "code",
      "source": [
        "df.model.value_counts(dropna=False)"
      ],
      "metadata": {
        "colab": {
          "base_uri": "https://localhost:8080/"
        },
        "outputId": "395e442e-7be6-4b9c-de2d-80b9afaba2f8",
        "id": "3W8okQigqT7e"
      },
      "execution_count": 755,
      "outputs": [
        {
          "output_type": "execute_result",
          "data": {
            "text/plain": [
              "A3          1349\n",
              "Golf        1025\n",
              "Megane       968\n",
              "A4           857\n",
              "2008         851\n",
              "            ... \n",
              "S 300          1\n",
              "Sienna         1\n",
              "Stream         1\n",
              "T6 Kombi       1\n",
              "Elantra        1\n",
              "Name: model, Length: 694, dtype: int64"
            ]
          },
          "metadata": {},
          "execution_count": 755
        }
      ]
    },
    {
      "cell_type": "code",
      "source": [
        "df['make_model'] = df[['make','model']].apply(lambda x: x[0].strip()+' '+x[1].strip(), axis=1)\n",
        "df.make_model.value_counts(dropna=False)"
      ],
      "metadata": {
        "colab": {
          "base_uri": "https://localhost:8080/"
        },
        "id": "AbNPo0923wIs",
        "outputId": "a92e7b8d-c96d-4901-d8d8-222defaa844a"
      },
      "execution_count": 756,
      "outputs": [
        {
          "output_type": "execute_result",
          "data": {
            "text/plain": [
              "Audi A3                1349\n",
              "Volkswagen Golf        1025\n",
              "Renault Megane          968\n",
              "Audi A4                 857\n",
              "Peugeot 2008            851\n",
              "                       ... \n",
              "Opel GT                   1\n",
              "Volkswagen T6 Kombi       1\n",
              "Mercedes-Benz E 270       1\n",
              "Toyota Previa             1\n",
              "Honda CRX                 1\n",
              "Name: make_model, Length: 716, dtype: int64"
            ]
          },
          "metadata": {},
          "execution_count": 756
        }
      ]
    },
    {
      "cell_type": "code",
      "source": [
        "df = df.drop(['make','model'], axis=1)"
      ],
      "metadata": {
        "id": "C3cf9oIA5Ebc"
      },
      "execution_count": 757,
      "outputs": []
    },
    {
      "cell_type": "markdown",
      "metadata": {
        "id": "1H3f8Xu2ffWl"
      },
      "source": [
        "## price"
      ]
    },
    {
      "cell_type": "markdown",
      "metadata": {
        "id": "JyQmXBIVffWl"
      },
      "source": [
        "> Target Column"
      ]
    },
    {
      "cell_type": "code",
      "execution_count": 758,
      "metadata": {
        "id": "-V04njqeffWl",
        "outputId": "3acd88fa-5cb8-47d5-fe42-60cc35e4cf75",
        "colab": {
          "base_uri": "https://localhost:8080/"
        }
      },
      "outputs": [
        {
          "output_type": "execute_result",
          "data": {
            "text/plain": [
              "0.0"
            ]
          },
          "metadata": {},
          "execution_count": 758
        }
      ],
      "source": [
        "perc_nans(df.price)"
      ]
    },
    {
      "cell_type": "code",
      "source": [
        "df.price.value_counts(dropna=False).sample(10)"
      ],
      "metadata": {
        "colab": {
          "base_uri": "https://localhost:8080/"
        },
        "id": "p0RHXdAqq7GU",
        "outputId": "67f3153c-1a44-498f-ec88-6514b5278fcb"
      },
      "execution_count": 759,
      "outputs": [
        {
          "output_type": "execute_result",
          "data": {
            "text/plain": [
              "[['\\n', '€ 7,744.-', '\\n']]       1\n",
              "[['\\n', '€ 98,258.-', '\\n']]      1\n",
              "[['\\n', '€ 132,215.-', '\\n']]     1\n",
              "[['\\n', '€ 33,865.-', '\\n']]      2\n",
              "[['\\n', '€ 12,640.-', '\\n']]      1\n",
              "[['\\n', '€ 35,140.-', '\\n']]      1\n",
              "[['\\n', '€ 127,714.-', '\\n']]     1\n",
              "[['\\n', '€ 20,745.-', '\\n']]     23\n",
              "[['\\n', '€ 16,551.-', '\\n']]      2\n",
              "[['\\n', '€ 29,244.-', '\\n']]      1\n",
              "Name: price, dtype: int64"
            ]
          },
          "metadata": {},
          "execution_count": 759
        }
      ]
    },
    {
      "cell_type": "code",
      "source": [
        "df.price = df.price.str.extract('€ (\\d*\\,*\\d*).-')[0].str.replace(\",\",'').astype('float')\n",
        "df.price"
      ],
      "metadata": {
        "colab": {
          "base_uri": "https://localhost:8080/"
        },
        "id": "p9F-mRJEq7Nh",
        "outputId": "3ee3f6d8-261b-4e3a-9797-7d569b08ce3d"
      },
      "execution_count": 760,
      "outputs": [
        {
          "output_type": "execute_result",
          "data": {
            "text/plain": [
              "0        15945.0\n",
              "1        19490.0\n",
              "2        19900.0\n",
              "3        19800.0\n",
              "4         5950.0\n",
              "          ...   \n",
              "65836     2495.0\n",
              "65837     8950.0\n",
              "65838     9250.0\n",
              "65839     1999.0\n",
              "65840     3950.0\n",
              "Name: price, Length: 65841, dtype: float64"
            ]
          },
          "metadata": {},
          "execution_count": 760
        }
      ]
    },
    {
      "cell_type": "code",
      "source": [
        "perc_nans(df.price)"
      ],
      "metadata": {
        "colab": {
          "base_uri": "https://localhost:8080/"
        },
        "id": "uAz4HVoEsKBC",
        "outputId": "6de562ad-bc71-490f-ae5a-966a31504ef5"
      },
      "execution_count": 761,
      "outputs": [
        {
          "output_type": "execute_result",
          "data": {
            "text/plain": [
              "2.2372078188362874"
            ]
          },
          "metadata": {},
          "execution_count": 761
        }
      ]
    },
    {
      "cell_type": "code",
      "source": [
        "df = df.iloc[df[df.price.notna()==True].index,:]"
      ],
      "metadata": {
        "id": "rkKhMk4zsrf_"
      },
      "execution_count": 762,
      "outputs": []
    },
    {
      "cell_type": "code",
      "source": [
        "perc_nans(df.price)"
      ],
      "metadata": {
        "colab": {
          "base_uri": "https://localhost:8080/"
        },
        "id": "pqabTCrEua5-",
        "outputId": "c2cbda40-cc40-4e8f-93a9-dd01e8e6cdd8"
      },
      "execution_count": 763,
      "outputs": [
        {
          "output_type": "execute_result",
          "data": {
            "text/plain": [
              "0.0"
            ]
          },
          "metadata": {},
          "execution_count": 763
        }
      ]
    },
    {
      "cell_type": "code",
      "source": [
        ""
      ],
      "metadata": {
        "id": "AUY3Xaox5B5z"
      },
      "execution_count": 763,
      "outputs": []
    },
    {
      "cell_type": "markdown",
      "metadata": {
        "id": "--nndCkQffWm"
      },
      "source": [
        "## mileage"
      ]
    },
    {
      "cell_type": "code",
      "execution_count": 764,
      "metadata": {
        "id": "HqPZrY86ffWm",
        "outputId": "ac2db473-2047-4eb7-cf6d-1e49c34d5634",
        "colab": {
          "base_uri": "https://localhost:8080/"
        }
      },
      "outputs": [
        {
          "output_type": "execute_result",
          "data": {
            "text/plain": [
              "0.0"
            ]
          },
          "metadata": {},
          "execution_count": 764
        }
      ],
      "source": [
        "perc_nans(df.mileage)"
      ]
    },
    {
      "cell_type": "code",
      "execution_count": 765,
      "metadata": {
        "id": "b2oc8l47ffWm",
        "outputId": "ee5470d6-bc5f-467c-b492-77d48ff51a1b",
        "colab": {
          "base_uri": "https://localhost:8080/"
        }
      },
      "outputs": [
        {
          "output_type": "execute_result",
          "data": {
            "text/plain": [
              "0         ['', ['42,091 km']]\n",
              "1        ['', ['133,585 km']]\n",
              "2         ['', ['66,352 km']]\n",
              "3        ['', ['156,201 km']]\n",
              "4        ['', ['176,370 km']]\n",
              "                 ...         \n",
              "65836    ['', ['413,529 km']]\n",
              "65837    ['', ['126,181 km']]\n",
              "65838    ['', ['155,300 km']]\n",
              "65839    ['', ['442,713 km']]\n",
              "65840    ['', ['251,723 km']]\n",
              "Name: mileage, Length: 64368, dtype: object"
            ]
          },
          "metadata": {},
          "execution_count": 765
        }
      ],
      "source": [
        "# df.mileage.sample(10)\n",
        "df.mileage"
      ]
    },
    {
      "cell_type": "code",
      "execution_count": 766,
      "metadata": {
        "id": "U1s7Riw0ffWm"
      },
      "outputs": [],
      "source": [
        "  df.mileage = df.mileage.str.extract('(\\d*),(\\d*) km').apply(lambda x: x[0]+x[1], axis=1).astype('float')"
      ]
    },
    {
      "cell_type": "code",
      "execution_count": 767,
      "metadata": {
        "id": "dJnKbk4RffWn",
        "outputId": "f6540bea-a8dd-4c32-ab35-f61dcbebfd93",
        "colab": {
          "base_uri": "https://localhost:8080/"
        }
      },
      "outputs": [
        {
          "output_type": "execute_result",
          "data": {
            "text/plain": [
              "0         42091.0\n",
              "1        133585.0\n",
              "2         66352.0\n",
              "3        156201.0\n",
              "4        176370.0\n",
              "           ...   \n",
              "65836    413529.0\n",
              "65837    126181.0\n",
              "65838    155300.0\n",
              "65839    442713.0\n",
              "65840    251723.0\n",
              "Name: mileage, Length: 64368, dtype: float64"
            ]
          },
          "metadata": {},
          "execution_count": 767
        }
      ],
      "source": [
        "df.mileage"
      ]
    },
    {
      "cell_type": "code",
      "source": [
        "perc_nans(df.mileage)"
      ],
      "metadata": {
        "colab": {
          "base_uri": "https://localhost:8080/"
        },
        "id": "ygjauyxdyFbz",
        "outputId": "c0bd61c6-bbd4-431d-9fa7-3fa06021d1ff"
      },
      "execution_count": 768,
      "outputs": [
        {
          "output_type": "execute_result",
          "data": {
            "text/plain": [
              "9.778150633855331"
            ]
          },
          "metadata": {},
          "execution_count": 768
        }
      ]
    },
    {
      "cell_type": "markdown",
      "metadata": {
        "id": "bmvmvHEzffWw"
      },
      "source": [
        "## gearbox"
      ]
    },
    {
      "cell_type": "code",
      "execution_count": 769,
      "metadata": {
        "id": "JFoDnnx8ffWx",
        "outputId": "16ad52d8-991f-4703-9ef8-b57f8ccd2b08",
        "colab": {
          "base_uri": "https://localhost:8080/"
        }
      },
      "outputs": [
        {
          "output_type": "execute_result",
          "data": {
            "text/plain": [
              "42743    \\n,Automatic,\\n\n",
              "19574    \\n,Automatic,\\n\n",
              "5992     \\n,Automatic,\\n\n",
              "12136       \\n,Manual,\\n\n",
              "16123    \\n,Automatic,\\n\n",
              "9698        \\n,Manual,\\n\n",
              "45340       \\n,Manual,\\n\n",
              "53432       \\n,Manual,\\n\n",
              "57589    \\n,Automatic,\\n\n",
              "51150       \\n,Manual,\\n\n",
              "Name: gearbox, dtype: object"
            ]
          },
          "metadata": {},
          "execution_count": 769
        }
      ],
      "source": [
        "df.gearbox.sample(10)"
      ]
    },
    {
      "cell_type": "code",
      "execution_count": 770,
      "metadata": {
        "id": "h9WbyPtsffWx"
      },
      "outputs": [],
      "source": [
        "df.gearbox = df.gearbox.str.extract(',(\\w*),')"
      ]
    },
    {
      "cell_type": "code",
      "execution_count": 771,
      "metadata": {
        "id": "-i5G1TXhffWx",
        "outputId": "b3c48699-c1a8-47b8-edf3-55acf7ff5567",
        "colab": {
          "base_uri": "https://localhost:8080/"
        }
      },
      "outputs": [
        {
          "output_type": "execute_result",
          "data": {
            "text/plain": [
              "Automatic    38790\n",
              "Manual       24895\n",
              "NaN            683\n",
              "Name: gearbox, dtype: int64"
            ]
          },
          "metadata": {},
          "execution_count": 771
        }
      ],
      "source": [
        "df.gearbox.value_counts(dropna=False)"
      ]
    },
    {
      "cell_type": "code",
      "source": [
        "perc_nans(df.gearbox)"
      ],
      "metadata": {
        "colab": {
          "base_uri": "https://localhost:8080/"
        },
        "id": "wUnLJJDW0lpM",
        "outputId": "95529aa7-fcd1-47ca-f1cd-5910a01f131b"
      },
      "execution_count": 772,
      "outputs": [
        {
          "output_type": "execute_result",
          "data": {
            "text/plain": [
              "1.061086254039274"
            ]
          },
          "metadata": {},
          "execution_count": 772
        }
      ]
    },
    {
      "cell_type": "markdown",
      "metadata": {
        "id": "fE5VB8IRffWs"
      },
      "source": [
        "## first_registration"
      ]
    },
    {
      "cell_type": "code",
      "source": [
        "perc_nans(df.first_registration)"
      ],
      "metadata": {
        "colab": {
          "base_uri": "https://localhost:8080/"
        },
        "id": "XcWBixKn1TjW",
        "outputId": "b3396ead-4787-40f2-bb55-467c920ef70f"
      },
      "execution_count": 773,
      "outputs": [
        {
          "output_type": "execute_result",
          "data": {
            "text/plain": [
              "0.06991051454138703"
            ]
          },
          "metadata": {},
          "execution_count": 773
        }
      ]
    },
    {
      "cell_type": "code",
      "source": [
        "df.first_registration"
      ],
      "metadata": {
        "colab": {
          "base_uri": "https://localhost:8080/"
        },
        "id": "F20JEnx-1iBK",
        "outputId": "b980d0f2-1e12-4c48-e9fd-a29d1ce59306"
      },
      "execution_count": 774,
      "outputs": [
        {
          "output_type": "execute_result",
          "data": {
            "text/plain": [
              "0        05/2012\n",
              "1        05/2017\n",
              "2        07/2016\n",
              "3        01/2011\n",
              "4        04/2005\n",
              "          ...   \n",
              "65836    06/2005\n",
              "65837    03/2005\n",
              "65838    06/2012\n",
              "65839    02/2005\n",
              "65840    10/2005\n",
              "Name: first_registration, Length: 64368, dtype: object"
            ]
          },
          "metadata": {},
          "execution_count": 774
        }
      ]
    },
    {
      "cell_type": "code",
      "execution_count": 775,
      "metadata": {
        "id": "HxJhMl2sffWs"
      },
      "outputs": [],
      "source": [
        "df.first_registration = df.first_registration.str.extract('/(\\d*)').astype('float')"
      ]
    },
    {
      "cell_type": "code",
      "execution_count": 776,
      "metadata": {
        "id": "5VGocnynffWs"
      },
      "outputs": [],
      "source": [
        "df['age']= 2022 - df.first_registration"
      ]
    },
    {
      "cell_type": "code",
      "execution_count": 777,
      "metadata": {
        "id": "MdboMDOYffWs",
        "outputId": "3a895285-469f-40d3-bc01-55556e13afc5",
        "colab": {
          "base_uri": "https://localhost:8080/"
        }
      },
      "outputs": [
        {
          "output_type": "execute_result",
          "data": {
            "text/plain": [
              " 1.0     9099\n",
              " 5.0     6107\n",
              " 6.0     5671\n",
              " 4.0     4655\n",
              " 2.0     4387\n",
              " 7.0     3776\n",
              " 3.0     3389\n",
              " 11.0    3285\n",
              " 10.0    3256\n",
              " 8.0     3135\n",
              " 9.0     3133\n",
              " 12.0    2876\n",
              " 14.0    2331\n",
              " 13.0    2288\n",
              " 15.0    1978\n",
              " 16.0    1706\n",
              " 17.0    1596\n",
              " 0.0     1549\n",
              " NaN       45\n",
              " 18.0      21\n",
              " 19.0      16\n",
              " 20.0      14\n",
              " 21.0      13\n",
              " 22.0       8\n",
              " 25.0       6\n",
              " 23.0       6\n",
              " 26.0       4\n",
              " 29.0       3\n",
              " 24.0       3\n",
              " 27.0       2\n",
              " 30.0       2\n",
              " 37.0       1\n",
              " 28.0       1\n",
              " 46.0       1\n",
              "-6.0        1\n",
              "-3.0        1\n",
              " 41.0       1\n",
              " 39.0       1\n",
              " 31.0       1\n",
              "Name: age, dtype: int64"
            ]
          },
          "metadata": {},
          "execution_count": 777
        }
      ],
      "source": [
        "df.age.value_counts(dropna=False)"
      ]
    },
    {
      "cell_type": "markdown",
      "metadata": {
        "id": "lctJnKMuffWq"
      },
      "source": [
        "## registration"
      ]
    },
    {
      "cell_type": "code",
      "source": [
        "data[data['first_registration']!=data['registration']][['first_registration','registration','power','empty_weight']]"
      ],
      "metadata": {
        "colab": {
          "base_uri": "https://localhost:8080/",
          "height": 1000
        },
        "id": "JsiJ7OoDTfYu",
        "outputId": "00579b25-aaac-496a-8d61-4924b582ebb4"
      },
      "execution_count": 778,
      "outputs": [
        {
          "output_type": "execute_result",
          "data": {
            "text/html": [
              "\n",
              "  <div id=\"df-462f6339-f4b0-4051-90fe-0f7e12ab16f6\">\n",
              "    <div class=\"colab-df-container\">\n",
              "      <div>\n",
              "<style scoped>\n",
              "    .dataframe tbody tr th:only-of-type {\n",
              "        vertical-align: middle;\n",
              "    }\n",
              "\n",
              "    .dataframe tbody tr th {\n",
              "        vertical-align: top;\n",
              "    }\n",
              "\n",
              "    .dataframe thead th {\n",
              "        text-align: right;\n",
              "    }\n",
              "</style>\n",
              "<table border=\"1\" class=\"dataframe\">\n",
              "  <thead>\n",
              "    <tr style=\"text-align: right;\">\n",
              "      <th></th>\n",
              "      <th>first_registration</th>\n",
              "      <th>registration</th>\n",
              "      <th>power</th>\n",
              "      <th>empty_weight</th>\n",
              "    </tr>\n",
              "  </thead>\n",
              "  <tbody>\n",
              "    <tr>\n",
              "      <th>12810</th>\n",
              "      <td>None</td>\n",
              "      <td>NaN</td>\n",
              "      <td>240 kW (326 hp),</td>\n",
              "      <td>\\n,2,340 kg,\\n</td>\n",
              "    </tr>\n",
              "    <tr>\n",
              "      <th>12888</th>\n",
              "      <td>None</td>\n",
              "      <td>NaN</td>\n",
              "      <td>210 kW (286 hp),</td>\n",
              "      <td>\\n,2,185 kg,\\n</td>\n",
              "    </tr>\n",
              "    <tr>\n",
              "      <th>12908</th>\n",
              "      <td>None</td>\n",
              "      <td>NaN</td>\n",
              "      <td>210 kW (286 hp),</td>\n",
              "      <td>\\n,2,185 kg,\\n</td>\n",
              "    </tr>\n",
              "    <tr>\n",
              "      <th>12909</th>\n",
              "      <td>None</td>\n",
              "      <td>NaN</td>\n",
              "      <td>210 kW (286 hp),</td>\n",
              "      <td>\\n,2,185 kg,\\n</td>\n",
              "    </tr>\n",
              "    <tr>\n",
              "      <th>12911</th>\n",
              "      <td>None</td>\n",
              "      <td>NaN</td>\n",
              "      <td>210 kW (286 hp),</td>\n",
              "      <td>\\n,2,185 kg,\\n</td>\n",
              "    </tr>\n",
              "    <tr>\n",
              "      <th>14671</th>\n",
              "      <td>None</td>\n",
              "      <td>NaN</td>\n",
              "      <td>552 kW (751 hp),</td>\n",
              "      <td>\\n,None,\\n</td>\n",
              "    </tr>\n",
              "    <tr>\n",
              "      <th>14800</th>\n",
              "      <td>None</td>\n",
              "      <td>NaN</td>\n",
              "      <td>291 kW (396 hp),</td>\n",
              "      <td>\\n,None,\\n</td>\n",
              "    </tr>\n",
              "    <tr>\n",
              "      <th>14810</th>\n",
              "      <td>None</td>\n",
              "      <td>NaN</td>\n",
              "      <td>570 kW (775 hp),</td>\n",
              "      <td>\\n,None,\\n</td>\n",
              "    </tr>\n",
              "    <tr>\n",
              "      <th>14811</th>\n",
              "      <td>None</td>\n",
              "      <td>NaN</td>\n",
              "      <td>441 kW (600 hp),</td>\n",
              "      <td>\\n,2,585 kg,\\n</td>\n",
              "    </tr>\n",
              "    <tr>\n",
              "      <th>14812</th>\n",
              "      <td>None</td>\n",
              "      <td>NaN</td>\n",
              "      <td>570 kW (775 hp),</td>\n",
              "      <td>\\n,None,\\n</td>\n",
              "    </tr>\n",
              "    <tr>\n",
              "      <th>14813</th>\n",
              "      <td>None</td>\n",
              "      <td>NaN</td>\n",
              "      <td>570 kW (775 hp),</td>\n",
              "      <td>\\n,None,\\n</td>\n",
              "    </tr>\n",
              "    <tr>\n",
              "      <th>14814</th>\n",
              "      <td>None</td>\n",
              "      <td>NaN</td>\n",
              "      <td>570 kW (775 hp),</td>\n",
              "      <td>\\n,None,\\n</td>\n",
              "    </tr>\n",
              "    <tr>\n",
              "      <th>14817</th>\n",
              "      <td>None</td>\n",
              "      <td>NaN</td>\n",
              "      <td>552 kW (751 hp),</td>\n",
              "      <td>\\n,None,\\n</td>\n",
              "    </tr>\n",
              "    <tr>\n",
              "      <th>17072</th>\n",
              "      <td>08/2021</td>\n",
              "      <td>NaN</td>\n",
              "      <td>[None, '']</td>\n",
              "      <td>\\n,2,780 kg,\\n</td>\n",
              "    </tr>\n",
              "    <tr>\n",
              "      <th>18260</th>\n",
              "      <td>None</td>\n",
              "      <td>NaN</td>\n",
              "      <td>243 kW (330 hp),</td>\n",
              "      <td>\\n,None,\\n</td>\n",
              "    </tr>\n",
              "    <tr>\n",
              "      <th>19521</th>\n",
              "      <td>None</td>\n",
              "      <td>NaN</td>\n",
              "      <td>[None, '']</td>\n",
              "      <td>\\n,2,480 kg,\\n</td>\n",
              "    </tr>\n",
              "    <tr>\n",
              "      <th>19635</th>\n",
              "      <td>08/2021</td>\n",
              "      <td>NaN</td>\n",
              "      <td>[None, '']</td>\n",
              "      <td>\\n,2,780 kg,\\n</td>\n",
              "    </tr>\n",
              "    <tr>\n",
              "      <th>19636</th>\n",
              "      <td>12/2020</td>\n",
              "      <td>NaN</td>\n",
              "      <td>[None, '']</td>\n",
              "      <td>\\n,2,120 kg,\\n</td>\n",
              "    </tr>\n",
              "    <tr>\n",
              "      <th>19845</th>\n",
              "      <td>None</td>\n",
              "      <td>NaN</td>\n",
              "      <td>[None, '']</td>\n",
              "      <td>\\n,2,505 kg,\\n</td>\n",
              "    </tr>\n",
              "    <tr>\n",
              "      <th>27791</th>\n",
              "      <td>None</td>\n",
              "      <td>NaN</td>\n",
              "      <td>[None, '']</td>\n",
              "      <td>\\n,2,020 kg,\\n</td>\n",
              "    </tr>\n",
              "    <tr>\n",
              "      <th>29016</th>\n",
              "      <td>03/2014</td>\n",
              "      <td>75 kW (102 hp)</td>\n",
              "      <td>2,159 kg,</td>\n",
              "      <td>\\n,None,\\n</td>\n",
              "    </tr>\n",
              "    <tr>\n",
              "      <th>29516</th>\n",
              "      <td>None</td>\n",
              "      <td>NaN</td>\n",
              "      <td>[None, '']</td>\n",
              "      <td>\\n,2,020 kg,\\n</td>\n",
              "    </tr>\n",
              "    <tr>\n",
              "      <th>34491</th>\n",
              "      <td>None</td>\n",
              "      <td>NaN</td>\n",
              "      <td>[None, '']</td>\n",
              "      <td>\\n,1,101 kg,\\n</td>\n",
              "    </tr>\n",
              "    <tr>\n",
              "      <th>34606</th>\n",
              "      <td>None</td>\n",
              "      <td>NaN</td>\n",
              "      <td>[None, '']</td>\n",
              "      <td>\\n,1,108 kg,\\n</td>\n",
              "    </tr>\n",
              "    <tr>\n",
              "      <th>35308</th>\n",
              "      <td>None</td>\n",
              "      <td>NaN</td>\n",
              "      <td>118 kW (160 hp),</td>\n",
              "      <td>\\n,1,678 kg,\\n</td>\n",
              "    </tr>\n",
              "    <tr>\n",
              "      <th>35458</th>\n",
              "      <td>None</td>\n",
              "      <td>NaN</td>\n",
              "      <td>81 kW (110 hp),</td>\n",
              "      <td>\\n,1,065 kg,\\n</td>\n",
              "    </tr>\n",
              "    <tr>\n",
              "      <th>37232</th>\n",
              "      <td>09/2021</td>\n",
              "      <td>130 kW (177 hp)</td>\n",
              "      <td>2,735 kg,</td>\n",
              "      <td>\\n,None,\\n</td>\n",
              "    </tr>\n",
              "    <tr>\n",
              "      <th>37515</th>\n",
              "      <td>09/2021</td>\n",
              "      <td>130 kW (177 hp)</td>\n",
              "      <td>2,735 kg,</td>\n",
              "      <td>\\n,None,\\n</td>\n",
              "    </tr>\n",
              "    <tr>\n",
              "      <th>37579</th>\n",
              "      <td>07/2017</td>\n",
              "      <td>90 kW (122 hp)</td>\n",
              "      <td>1,588 kg,</td>\n",
              "      <td>\\n,None,\\n</td>\n",
              "    </tr>\n",
              "    <tr>\n",
              "      <th>38283</th>\n",
              "      <td>None</td>\n",
              "      <td>265 kW (360 hp)</td>\n",
              "      <td>[None, '']</td>\n",
              "      <td>\\n,None,\\n</td>\n",
              "    </tr>\n",
              "    <tr>\n",
              "      <th>38289</th>\n",
              "      <td>None</td>\n",
              "      <td>265 kW (360 hp)</td>\n",
              "      <td>[None, '']</td>\n",
              "      <td>\\n,None,\\n</td>\n",
              "    </tr>\n",
              "    <tr>\n",
              "      <th>44705</th>\n",
              "      <td>None</td>\n",
              "      <td>NaN</td>\n",
              "      <td>118 kW (160 hp),</td>\n",
              "      <td>\\n,1,312 kg,\\n</td>\n",
              "    </tr>\n",
              "    <tr>\n",
              "      <th>44819</th>\n",
              "      <td>None</td>\n",
              "      <td>NaN</td>\n",
              "      <td>[None, '']</td>\n",
              "      <td>\\n,1,793 kg,\\n</td>\n",
              "    </tr>\n",
              "    <tr>\n",
              "      <th>44820</th>\n",
              "      <td>None</td>\n",
              "      <td>NaN</td>\n",
              "      <td>[None, '']</td>\n",
              "      <td>\\n,1,539 kg,\\n</td>\n",
              "    </tr>\n",
              "    <tr>\n",
              "      <th>44821</th>\n",
              "      <td>None</td>\n",
              "      <td>NaN</td>\n",
              "      <td>[None, '']</td>\n",
              "      <td>\\n,1,793 kg,\\n</td>\n",
              "    </tr>\n",
              "    <tr>\n",
              "      <th>46059</th>\n",
              "      <td>None</td>\n",
              "      <td>NaN</td>\n",
              "      <td>[None, '']</td>\n",
              "      <td>\\n,1,494 kg,\\n</td>\n",
              "    </tr>\n",
              "    <tr>\n",
              "      <th>46570</th>\n",
              "      <td>None</td>\n",
              "      <td>NaN</td>\n",
              "      <td>88 kW (120 hp),</td>\n",
              "      <td>\\n,1,234 kg,\\n</td>\n",
              "    </tr>\n",
              "    <tr>\n",
              "      <th>47935</th>\n",
              "      <td>None</td>\n",
              "      <td>NaN</td>\n",
              "      <td>[None, '']</td>\n",
              "      <td>\\n,1,494 kg,\\n</td>\n",
              "    </tr>\n",
              "    <tr>\n",
              "      <th>53778</th>\n",
              "      <td>None</td>\n",
              "      <td>NaN</td>\n",
              "      <td>100 kW (136 hp),</td>\n",
              "      <td>\\n,1,430 kg,\\n</td>\n",
              "    </tr>\n",
              "    <tr>\n",
              "      <th>53779</th>\n",
              "      <td>None</td>\n",
              "      <td>NaN</td>\n",
              "      <td>100 kW (136 hp),</td>\n",
              "      <td>\\n,1,430 kg,\\n</td>\n",
              "    </tr>\n",
              "    <tr>\n",
              "      <th>53781</th>\n",
              "      <td>None</td>\n",
              "      <td>NaN</td>\n",
              "      <td>100 kW (136 hp),</td>\n",
              "      <td>\\n,1,430 kg,\\n</td>\n",
              "    </tr>\n",
              "    <tr>\n",
              "      <th>53785</th>\n",
              "      <td>None</td>\n",
              "      <td>NaN</td>\n",
              "      <td>100 kW (136 hp),</td>\n",
              "      <td>\\n,1,430 kg,\\n</td>\n",
              "    </tr>\n",
              "    <tr>\n",
              "      <th>53786</th>\n",
              "      <td>None</td>\n",
              "      <td>NaN</td>\n",
              "      <td>100 kW (136 hp),</td>\n",
              "      <td>\\n,1,430 kg,\\n</td>\n",
              "    </tr>\n",
              "    <tr>\n",
              "      <th>53787</th>\n",
              "      <td>None</td>\n",
              "      <td>NaN</td>\n",
              "      <td>100 kW (136 hp),</td>\n",
              "      <td>\\n,1,430 kg,\\n</td>\n",
              "    </tr>\n",
              "    <tr>\n",
              "      <th>53788</th>\n",
              "      <td>None</td>\n",
              "      <td>NaN</td>\n",
              "      <td>100 kW (136 hp),</td>\n",
              "      <td>\\n,1,430 kg,\\n</td>\n",
              "    </tr>\n",
              "    <tr>\n",
              "      <th>53790</th>\n",
              "      <td>None</td>\n",
              "      <td>NaN</td>\n",
              "      <td>100 kW (136 hp),</td>\n",
              "      <td>\\n,1,430 kg,\\n</td>\n",
              "    </tr>\n",
              "    <tr>\n",
              "      <th>53791</th>\n",
              "      <td>None</td>\n",
              "      <td>NaN</td>\n",
              "      <td>100 kW (136 hp),</td>\n",
              "      <td>\\n,1,430 kg,\\n</td>\n",
              "    </tr>\n",
              "    <tr>\n",
              "      <th>53864</th>\n",
              "      <td>None</td>\n",
              "      <td>NaN</td>\n",
              "      <td>100 kW (136 hp),</td>\n",
              "      <td>\\n,1,430 kg,\\n</td>\n",
              "    </tr>\n",
              "    <tr>\n",
              "      <th>57179</th>\n",
              "      <td>None</td>\n",
              "      <td>NaN</td>\n",
              "      <td>53 kW (72 hp),</td>\n",
              "      <td>\\n,None,\\n</td>\n",
              "    </tr>\n",
              "    <tr>\n",
              "      <th>57216</th>\n",
              "      <td>None</td>\n",
              "      <td>NaN</td>\n",
              "      <td>53 kW (72 hp),</td>\n",
              "      <td>\\n,None,\\n</td>\n",
              "    </tr>\n",
              "    <tr>\n",
              "      <th>57224</th>\n",
              "      <td>None</td>\n",
              "      <td>NaN</td>\n",
              "      <td>53 kW (72 hp),</td>\n",
              "      <td>\\n,None,\\n</td>\n",
              "    </tr>\n",
              "    <tr>\n",
              "      <th>58169</th>\n",
              "      <td>02/2022</td>\n",
              "      <td>96 kW (131 hp)</td>\n",
              "      <td>[None, '']</td>\n",
              "      <td>\\n,None,\\n</td>\n",
              "    </tr>\n",
              "    <tr>\n",
              "      <th>58171</th>\n",
              "      <td>02/2022</td>\n",
              "      <td>96 kW (131 hp)</td>\n",
              "      <td>[None, '']</td>\n",
              "      <td>\\n,None,\\n</td>\n",
              "    </tr>\n",
              "    <tr>\n",
              "      <th>58628</th>\n",
              "      <td>None</td>\n",
              "      <td>NaN</td>\n",
              "      <td>53 kW (72 hp),</td>\n",
              "      <td>\\n,None,\\n</td>\n",
              "    </tr>\n",
              "  </tbody>\n",
              "</table>\n",
              "</div>\n",
              "      <button class=\"colab-df-convert\" onclick=\"convertToInteractive('df-462f6339-f4b0-4051-90fe-0f7e12ab16f6')\"\n",
              "              title=\"Convert this dataframe to an interactive table.\"\n",
              "              style=\"display:none;\">\n",
              "        \n",
              "  <svg xmlns=\"http://www.w3.org/2000/svg\" height=\"24px\"viewBox=\"0 0 24 24\"\n",
              "       width=\"24px\">\n",
              "    <path d=\"M0 0h24v24H0V0z\" fill=\"none\"/>\n",
              "    <path d=\"M18.56 5.44l.94 2.06.94-2.06 2.06-.94-2.06-.94-.94-2.06-.94 2.06-2.06.94zm-11 1L8.5 8.5l.94-2.06 2.06-.94-2.06-.94L8.5 2.5l-.94 2.06-2.06.94zm10 10l.94 2.06.94-2.06 2.06-.94-2.06-.94-.94-2.06-.94 2.06-2.06.94z\"/><path d=\"M17.41 7.96l-1.37-1.37c-.4-.4-.92-.59-1.43-.59-.52 0-1.04.2-1.43.59L10.3 9.45l-7.72 7.72c-.78.78-.78 2.05 0 2.83L4 21.41c.39.39.9.59 1.41.59.51 0 1.02-.2 1.41-.59l7.78-7.78 2.81-2.81c.8-.78.8-2.07 0-2.86zM5.41 20L4 18.59l7.72-7.72 1.47 1.35L5.41 20z\"/>\n",
              "  </svg>\n",
              "      </button>\n",
              "      \n",
              "  <style>\n",
              "    .colab-df-container {\n",
              "      display:flex;\n",
              "      flex-wrap:wrap;\n",
              "      gap: 12px;\n",
              "    }\n",
              "\n",
              "    .colab-df-convert {\n",
              "      background-color: #E8F0FE;\n",
              "      border: none;\n",
              "      border-radius: 50%;\n",
              "      cursor: pointer;\n",
              "      display: none;\n",
              "      fill: #1967D2;\n",
              "      height: 32px;\n",
              "      padding: 0 0 0 0;\n",
              "      width: 32px;\n",
              "    }\n",
              "\n",
              "    .colab-df-convert:hover {\n",
              "      background-color: #E2EBFA;\n",
              "      box-shadow: 0px 1px 2px rgba(60, 64, 67, 0.3), 0px 1px 3px 1px rgba(60, 64, 67, 0.15);\n",
              "      fill: #174EA6;\n",
              "    }\n",
              "\n",
              "    [theme=dark] .colab-df-convert {\n",
              "      background-color: #3B4455;\n",
              "      fill: #D2E3FC;\n",
              "    }\n",
              "\n",
              "    [theme=dark] .colab-df-convert:hover {\n",
              "      background-color: #434B5C;\n",
              "      box-shadow: 0px 1px 3px 1px rgba(0, 0, 0, 0.15);\n",
              "      filter: drop-shadow(0px 1px 2px rgba(0, 0, 0, 0.3));\n",
              "      fill: #FFFFFF;\n",
              "    }\n",
              "  </style>\n",
              "\n",
              "      <script>\n",
              "        const buttonEl =\n",
              "          document.querySelector('#df-462f6339-f4b0-4051-90fe-0f7e12ab16f6 button.colab-df-convert');\n",
              "        buttonEl.style.display =\n",
              "          google.colab.kernel.accessAllowed ? 'block' : 'none';\n",
              "\n",
              "        async function convertToInteractive(key) {\n",
              "          const element = document.querySelector('#df-462f6339-f4b0-4051-90fe-0f7e12ab16f6');\n",
              "          const dataTable =\n",
              "            await google.colab.kernel.invokeFunction('convertToInteractive',\n",
              "                                                     [key], {});\n",
              "          if (!dataTable) return;\n",
              "\n",
              "          const docLinkHtml = 'Like what you see? Visit the ' +\n",
              "            '<a target=\"_blank\" href=https://colab.research.google.com/notebooks/data_table.ipynb>data table notebook</a>'\n",
              "            + ' to learn more about interactive tables.';\n",
              "          element.innerHTML = '';\n",
              "          dataTable['output_type'] = 'display_data';\n",
              "          await google.colab.output.renderOutput(dataTable, element);\n",
              "          const docLink = document.createElement('div');\n",
              "          docLink.innerHTML = docLinkHtml;\n",
              "          element.appendChild(docLink);\n",
              "        }\n",
              "      </script>\n",
              "    </div>\n",
              "  </div>\n",
              "  "
            ],
            "text/plain": [
              "      first_registration     registration             power    empty_weight\n",
              "12810               None              NaN  240 kW (326 hp),  \\n,2,340 kg,\\n\n",
              "12888               None              NaN  210 kW (286 hp),  \\n,2,185 kg,\\n\n",
              "12908               None              NaN  210 kW (286 hp),  \\n,2,185 kg,\\n\n",
              "12909               None              NaN  210 kW (286 hp),  \\n,2,185 kg,\\n\n",
              "12911               None              NaN  210 kW (286 hp),  \\n,2,185 kg,\\n\n",
              "14671               None              NaN  552 kW (751 hp),      \\n,None,\\n\n",
              "14800               None              NaN  291 kW (396 hp),      \\n,None,\\n\n",
              "14810               None              NaN  570 kW (775 hp),      \\n,None,\\n\n",
              "14811               None              NaN  441 kW (600 hp),  \\n,2,585 kg,\\n\n",
              "14812               None              NaN  570 kW (775 hp),      \\n,None,\\n\n",
              "14813               None              NaN  570 kW (775 hp),      \\n,None,\\n\n",
              "14814               None              NaN  570 kW (775 hp),      \\n,None,\\n\n",
              "14817               None              NaN  552 kW (751 hp),      \\n,None,\\n\n",
              "17072            08/2021              NaN        [None, '']  \\n,2,780 kg,\\n\n",
              "18260               None              NaN  243 kW (330 hp),      \\n,None,\\n\n",
              "19521               None              NaN        [None, '']  \\n,2,480 kg,\\n\n",
              "19635            08/2021              NaN        [None, '']  \\n,2,780 kg,\\n\n",
              "19636            12/2020              NaN        [None, '']  \\n,2,120 kg,\\n\n",
              "19845               None              NaN        [None, '']  \\n,2,505 kg,\\n\n",
              "27791               None              NaN        [None, '']  \\n,2,020 kg,\\n\n",
              "29016            03/2014   75 kW (102 hp)         2,159 kg,      \\n,None,\\n\n",
              "29516               None              NaN        [None, '']  \\n,2,020 kg,\\n\n",
              "34491               None              NaN        [None, '']  \\n,1,101 kg,\\n\n",
              "34606               None              NaN        [None, '']  \\n,1,108 kg,\\n\n",
              "35308               None              NaN  118 kW (160 hp),  \\n,1,678 kg,\\n\n",
              "35458               None              NaN   81 kW (110 hp),  \\n,1,065 kg,\\n\n",
              "37232            09/2021  130 kW (177 hp)         2,735 kg,      \\n,None,\\n\n",
              "37515            09/2021  130 kW (177 hp)         2,735 kg,      \\n,None,\\n\n",
              "37579            07/2017   90 kW (122 hp)         1,588 kg,      \\n,None,\\n\n",
              "38283               None  265 kW (360 hp)        [None, '']      \\n,None,\\n\n",
              "38289               None  265 kW (360 hp)        [None, '']      \\n,None,\\n\n",
              "44705               None              NaN  118 kW (160 hp),  \\n,1,312 kg,\\n\n",
              "44819               None              NaN        [None, '']  \\n,1,793 kg,\\n\n",
              "44820               None              NaN        [None, '']  \\n,1,539 kg,\\n\n",
              "44821               None              NaN        [None, '']  \\n,1,793 kg,\\n\n",
              "46059               None              NaN        [None, '']  \\n,1,494 kg,\\n\n",
              "46570               None              NaN   88 kW (120 hp),  \\n,1,234 kg,\\n\n",
              "47935               None              NaN        [None, '']  \\n,1,494 kg,\\n\n",
              "53778               None              NaN  100 kW (136 hp),  \\n,1,430 kg,\\n\n",
              "53779               None              NaN  100 kW (136 hp),  \\n,1,430 kg,\\n\n",
              "53781               None              NaN  100 kW (136 hp),  \\n,1,430 kg,\\n\n",
              "53785               None              NaN  100 kW (136 hp),  \\n,1,430 kg,\\n\n",
              "53786               None              NaN  100 kW (136 hp),  \\n,1,430 kg,\\n\n",
              "53787               None              NaN  100 kW (136 hp),  \\n,1,430 kg,\\n\n",
              "53788               None              NaN  100 kW (136 hp),  \\n,1,430 kg,\\n\n",
              "53790               None              NaN  100 kW (136 hp),  \\n,1,430 kg,\\n\n",
              "53791               None              NaN  100 kW (136 hp),  \\n,1,430 kg,\\n\n",
              "53864               None              NaN  100 kW (136 hp),  \\n,1,430 kg,\\n\n",
              "57179               None              NaN    53 kW (72 hp),      \\n,None,\\n\n",
              "57216               None              NaN    53 kW (72 hp),      \\n,None,\\n\n",
              "57224               None              NaN    53 kW (72 hp),      \\n,None,\\n\n",
              "58169            02/2022   96 kW (131 hp)        [None, '']      \\n,None,\\n\n",
              "58171            02/2022   96 kW (131 hp)        [None, '']      \\n,None,\\n\n",
              "58628               None              NaN    53 kW (72 hp),      \\n,None,\\n"
            ]
          },
          "metadata": {},
          "execution_count": 778
        }
      ]
    },
    {
      "cell_type": "code",
      "source": [
        "shifted_rows=[29016,37232,37515,37579,38283,38289,58169,58171]\n",
        "data.iloc[shifted_rows]"
      ],
      "metadata": {
        "id": "DSEkyH2PTfle",
        "colab": {
          "base_uri": "https://localhost:8080/",
          "height": 954
        },
        "outputId": "cc768c87-6b2f-4ac6-d3fc-9570d58c7a30"
      },
      "execution_count": 779,
      "outputs": [
        {
          "output_type": "execute_result",
          "data": {
            "text/html": [
              "\n",
              "  <div id=\"df-58eb47a3-7e6b-4ec2-9d62-c01bc9367931\">\n",
              "    <div class=\"colab-df-container\">\n",
              "      <div>\n",
              "<style scoped>\n",
              "    .dataframe tbody tr th:only-of-type {\n",
              "        vertical-align: middle;\n",
              "    }\n",
              "\n",
              "    .dataframe tbody tr th {\n",
              "        vertical-align: top;\n",
              "    }\n",
              "\n",
              "    .dataframe thead th {\n",
              "        text-align: right;\n",
              "    }\n",
              "</style>\n",
              "<table border=\"1\" class=\"dataframe\">\n",
              "  <thead>\n",
              "    <tr style=\"text-align: right;\">\n",
              "      <th></th>\n",
              "      <th>location</th>\n",
              "      <th>url</th>\n",
              "      <th>make</th>\n",
              "      <th>model</th>\n",
              "      <th>short_description</th>\n",
              "      <th>price</th>\n",
              "      <th>mileage</th>\n",
              "      <th>gearbox</th>\n",
              "      <th>registration</th>\n",
              "      <th>fuel_type</th>\n",
              "      <th>power</th>\n",
              "      <th>seller</th>\n",
              "      <th>body_type</th>\n",
              "      <th>type</th>\n",
              "      <th>drivetrain</th>\n",
              "      <th>seats</th>\n",
              "      <th>doors</th>\n",
              "      <th>country_version</th>\n",
              "      <th>offer_number</th>\n",
              "      <th>warranty</th>\n",
              "      <th>Mileage</th>\n",
              "      <th>first_registration</th>\n",
              "      <th>production_date</th>\n",
              "      <th>general_inspection</th>\n",
              "      <th>last_service</th>\n",
              "      <th>full_service_history</th>\n",
              "      <th>non_smoker_vehicle</th>\n",
              "      <th>Power</th>\n",
              "      <th>Gearbox</th>\n",
              "      <th>engine_size</th>\n",
              "      <th>gears</th>\n",
              "      <th>cylinders</th>\n",
              "      <th>empty_weight</th>\n",
              "      <th>Fuel_type</th>\n",
              "      <th>fuel_consumption</th>\n",
              "      <th>co2_emissions</th>\n",
              "      <th>emission_class</th>\n",
              "      <th>\\nComfort &amp; Convenience\\n</th>\n",
              "      <th>\\nEntertainment &amp; Media\\n</th>\n",
              "      <th>\\nSafety &amp; Security\\n</th>\n",
              "      <th>extras</th>\n",
              "      <th>\\ncolour</th>\n",
              "      <th>\\nmanufacturer_color</th>\n",
              "      <th>\\npaint</th>\n",
              "      <th>upholstery_colour</th>\n",
              "      <th>upholstery</th>\n",
              "    </tr>\n",
              "  </thead>\n",
              "  <tbody>\n",
              "    <tr>\n",
              "      <th>29016</th>\n",
              "      <td>KERKRADE, NL</td>\n",
              "      <td>https://www.autoscout24.com/offers/volkswagen-...</td>\n",
              "      <td>\\n,Volkswagen ,\\n</td>\n",
              "      <td>['\\n', None, '\\n']</td>\n",
              "      <td>Caddy 1.6 TDI Airco Trekhaak</td>\n",
              "      <td>[['\\n', '€ 6,950.-', '\\n']]</td>\n",
              "      <td>['', ['152,938 km']]</td>\n",
              "      <td>\\n,03/2014,\\n</td>\n",
              "      <td>75 kW (102 hp)</td>\n",
              "      <td>\\n,Manual,\\n</td>\n",
              "      <td>2,159 kg,</td>\n",
              "      <td>['\\n', ['Diesel\\n']]</td>\n",
              "      <td>\\n,Panel van,\\n</td>\n",
              "      <td>\\n,Used,\\n</td>\n",
              "      <td>\\n,Front,\\n</td>\n",
              "      <td>\\n2</td>\n",
              "      <td>\\n4</td>\n",
              "      <td>Country version,None</td>\n",
              "      <td>\\nVLB16G</td>\n",
              "      <td>\\n,None,\\n</td>\n",
              "      <td>[['\\n'], ['']]</td>\n",
              "      <td>03/2014</td>\n",
              "      <td>None</td>\n",
              "      <td>New</td>\n",
              "      <td>None</td>\n",
              "      <td>\\n,None,\\n</td>\n",
              "      <td>\\n,None,\\n</td>\n",
              "      <td>\\n,75 kW (102 hp),\\n</td>\n",
              "      <td>\\n,Manual,\\n</td>\n",
              "      <td>\\n,1,598 cc,\\n</td>\n",
              "      <td>\\n,5,\\n</td>\n",
              "      <td>\\n,4,\\n</td>\n",
              "      <td>\\n,None,\\n</td>\n",
              "      <td>\\n,Diesel,\\n</td>\n",
              "      <td>['\\n', ['5.7 l/100 km (comb.)', '6.6 l/100 km ...</td>\n",
              "      <td>\\n,149 g/km (comb.),\\n</td>\n",
              "      <td>\\n,Euro 5,\\n</td>\n",
              "      <td>[['Air conditioning', 'Electrical side mirrors...</td>\n",
              "      <td>[['On-board computer']]</td>\n",
              "      <td>[['ABS', 'Central door lock', 'Driver-side air...</td>\n",
              "      <td>[['Trailer hitch']]</td>\n",
              "      <td>\\n4, Red</td>\n",
              "      <td>None</td>\n",
              "      <td>None</td>\n",
              "      <td>\\nupholstery, Grey</td>\n",
              "      <td>\\n8, Other</td>\n",
              "    </tr>\n",
              "    <tr>\n",
              "      <th>37232</th>\n",
              "      <td>GRONINGEN, NL</td>\n",
              "      <td>https://www.autoscout24.com/offers/citroen-jum...</td>\n",
              "      <td>\\n,Citroen ,\\n</td>\n",
              "      <td>['\\n', None, '\\n']</td>\n",
              "      <td>Jumpy bestel 2.0 BlueHDI 180 M Driver | 19'' L...</td>\n",
              "      <td>[['\\n', '€ 28,989.-', '\\n']]</td>\n",
              "      <td>['', ['4,997 km']]</td>\n",
              "      <td>\\n,09/2021,\\n</td>\n",
              "      <td>130 kW (177 hp)</td>\n",
              "      <td>\\n,Automatic,\\n</td>\n",
              "      <td>2,735 kg,</td>\n",
              "      <td>['\\n', ['Diesel\\n']]</td>\n",
              "      <td>\\n,Panel van,\\n</td>\n",
              "      <td>\\n,Used,\\n</td>\n",
              "      <td>\\n,Front,\\n</td>\n",
              "      <td>\\n2</td>\n",
              "      <td>\\n5</td>\n",
              "      <td>Country version,Netherlands</td>\n",
              "      <td>\\nVLL62P</td>\n",
              "      <td>\\n,6 months,\\n</td>\n",
              "      <td>[['\\n'], ['']]</td>\n",
              "      <td>09/2021</td>\n",
              "      <td>None</td>\n",
              "      <td>New</td>\n",
              "      <td>None</td>\n",
              "      <td>\\n,Yes,\\n</td>\n",
              "      <td>\\n,None,\\n</td>\n",
              "      <td>\\n,130 kW (177 hp),\\n</td>\n",
              "      <td>\\n,Automatic,\\n</td>\n",
              "      <td>\\n,1,997 cc,\\n</td>\n",
              "      <td>\\n,None,\\n</td>\n",
              "      <td>\\n,4,\\n</td>\n",
              "      <td>\\n,None,\\n</td>\n",
              "      <td>\\n,Diesel,\\n</td>\n",
              "      <td>\\n,None,\\n</td>\n",
              "      <td>['\\n', [' ', ' ', ' '], '\\n']</td>\n",
              "      <td>\\n,Euro 6,\\n</td>\n",
              "      <td>[['Air conditioning', 'Armrest', 'Automatic cl...</td>\n",
              "      <td>[['Android Auto', 'Apple CarPlay', 'Digital ra...</td>\n",
              "      <td>[['ABS', 'Adaptive Cruise Control', 'Alarm sys...</td>\n",
              "      <td>[['Alloy wheels (17\")', 'Trailer hitch', 'Voic...</td>\n",
              "      <td>\\n4, Grey</td>\n",
              "      <td>None</td>\n",
              "      <td>\\npaint, Metallic</td>\n",
              "      <td>None</td>\n",
              "      <td>None</td>\n",
              "    </tr>\n",
              "    <tr>\n",
              "      <th>37515</th>\n",
              "      <td>GRONINGEN, NL</td>\n",
              "      <td>https://www.autoscout24.com/offers/citroen-jum...</td>\n",
              "      <td>\\n,Citroen ,\\n</td>\n",
              "      <td>['\\n', None, '\\n']</td>\n",
              "      <td>Jumpy bestel 2.0 BlueHDI 180 M Driver | 19'' L...</td>\n",
              "      <td>[['\\n', '€ 28,989.-', '\\n']]</td>\n",
              "      <td>['', ['4,997 km']]</td>\n",
              "      <td>\\n,09/2021,\\n</td>\n",
              "      <td>130 kW (177 hp)</td>\n",
              "      <td>\\n,Automatic,\\n</td>\n",
              "      <td>2,735 kg,</td>\n",
              "      <td>['\\n', ['Diesel\\n']]</td>\n",
              "      <td>\\n,Panel van,\\n</td>\n",
              "      <td>\\n,Used,\\n</td>\n",
              "      <td>\\n,Front,\\n</td>\n",
              "      <td>\\n2</td>\n",
              "      <td>\\n5</td>\n",
              "      <td>Country version,Netherlands</td>\n",
              "      <td>\\nVLL62P</td>\n",
              "      <td>\\n,6 months,\\n</td>\n",
              "      <td>[['\\n'], ['']]</td>\n",
              "      <td>09/2021</td>\n",
              "      <td>None</td>\n",
              "      <td>New</td>\n",
              "      <td>None</td>\n",
              "      <td>\\n,Yes,\\n</td>\n",
              "      <td>\\n,None,\\n</td>\n",
              "      <td>\\n,130 kW (177 hp),\\n</td>\n",
              "      <td>\\n,Automatic,\\n</td>\n",
              "      <td>\\n,1,997 cc,\\n</td>\n",
              "      <td>\\n,None,\\n</td>\n",
              "      <td>\\n,4,\\n</td>\n",
              "      <td>\\n,None,\\n</td>\n",
              "      <td>\\n,Diesel,\\n</td>\n",
              "      <td>\\n,None,\\n</td>\n",
              "      <td>['\\n', [' ', ' ', ' '], '\\n']</td>\n",
              "      <td>\\n,Euro 6,\\n</td>\n",
              "      <td>[['Air conditioning', 'Armrest', 'Automatic cl...</td>\n",
              "      <td>[['Android Auto', 'Apple CarPlay', 'Digital ra...</td>\n",
              "      <td>[['ABS', 'Adaptive Cruise Control', 'Alarm sys...</td>\n",
              "      <td>[['Alloy wheels (17\")', 'Trailer hitch', 'Voic...</td>\n",
              "      <td>\\n4, Grey</td>\n",
              "      <td>None</td>\n",
              "      <td>\\npaint, Metallic</td>\n",
              "      <td>None</td>\n",
              "      <td>None</td>\n",
              "    </tr>\n",
              "    <tr>\n",
              "      <th>37579</th>\n",
              "      <td>'T LOO OLDEBROEK, NL</td>\n",
              "      <td>https://www.autoscout24.com/offers/citroen-jum...</td>\n",
              "      <td>\\n,Citroen ,\\n</td>\n",
              "      <td>['\\n', None, '\\n']</td>\n",
              "      <td>jumpy</td>\n",
              "      <td>[['\\n', '€ 17,500.-', '\\n']]</td>\n",
              "      <td>['', ['59,000 km']]</td>\n",
              "      <td>\\n,07/2017,\\n</td>\n",
              "      <td>90 kW (122 hp)</td>\n",
              "      <td>\\n,Manual,\\n</td>\n",
              "      <td>1,588 kg,</td>\n",
              "      <td>['\\n', ['Diesel\\n']]</td>\n",
              "      <td>\\n,Car transport,\\n</td>\n",
              "      <td>\\n,Used,\\n</td>\n",
              "      <td>\\n,Front,\\n</td>\n",
              "      <td>\\n3</td>\n",
              "      <td>\\n4</td>\n",
              "      <td>Country version,Netherlands</td>\n",
              "      <td>\\n1</td>\n",
              "      <td>\\n,None,\\n</td>\n",
              "      <td>[['\\n'], ['']]</td>\n",
              "      <td>07/2017</td>\n",
              "      <td>2017</td>\n",
              "      <td>New</td>\n",
              "      <td>None</td>\n",
              "      <td>\\n,Yes,\\n</td>\n",
              "      <td>\\n,None,\\n</td>\n",
              "      <td>\\n,90 kW (122 hp),\\n</td>\n",
              "      <td>\\n,Manual,\\n</td>\n",
              "      <td>\\n,1,997 cc,\\n</td>\n",
              "      <td>\\n,6,\\n</td>\n",
              "      <td>\\n,4,\\n</td>\n",
              "      <td>\\n,None,\\n</td>\n",
              "      <td>\\n,Diesel,\\n</td>\n",
              "      <td>\\n,None,\\n</td>\n",
              "      <td>\\n,None,\\n</td>\n",
              "      <td>['\\n', [' ', ' ', ' '], '\\n']</td>\n",
              "      <td>[['Air conditioning', 'Armrest', 'Automatic cl...</td>\n",
              "      <td>[['Android Auto', 'Apple CarPlay', 'Bluetooth'...</td>\n",
              "      <td>[['ABS', 'Alarm system', 'Central door lock wi...</td>\n",
              "      <td>[['Alloy wheels', 'Touch screen', 'Trailer hit...</td>\n",
              "      <td>\\n4, Red</td>\n",
              "      <td>None</td>\n",
              "      <td>\\npaint, Metallic</td>\n",
              "      <td>\\nupholstery, Grey</td>\n",
              "      <td>\\n8, Cloth</td>\n",
              "    </tr>\n",
              "    <tr>\n",
              "      <th>38283</th>\n",
              "      <td>URSEM, NL</td>\n",
              "      <td>https://www.autoscout24.com/offers/chevrolet-s...</td>\n",
              "      <td>\\n,Chevrolet ,\\n</td>\n",
              "      <td>['\\n', None, '\\n']</td>\n",
              "      <td>Silverado 1500 RST 4x4</td>\n",
              "      <td>[['\\n', '€ 59,950.-', '\\n']]</td>\n",
              "      <td>['', ['56 km']]</td>\n",
              "      <td>['\\n', None, '\\n']</td>\n",
              "      <td>265 kW (360 hp)</td>\n",
              "      <td>\\n,Automatic,\\n</td>\n",
              "      <td>[None, '']</td>\n",
              "      <td>['\\n', ['Gasoline\\n']]</td>\n",
              "      <td>\\n,Flatbed van,\\n</td>\n",
              "      <td>\\n,New,\\n</td>\n",
              "      <td>\\n,4WD,\\n</td>\n",
              "      <td>\\n6</td>\n",
              "      <td>\\n4</td>\n",
              "      <td>Country version,Netherlands</td>\n",
              "      <td>None\\n</td>\n",
              "      <td>\\n,None,\\n</td>\n",
              "      <td>[['\\n'], ['']]</td>\n",
              "      <td>None</td>\n",
              "      <td>2021</td>\n",
              "      <td>None</td>\n",
              "      <td>None</td>\n",
              "      <td>\\n,None,\\n</td>\n",
              "      <td>\\n,None,\\n</td>\n",
              "      <td>\\n,265 kW (360 hp),\\n</td>\n",
              "      <td>\\n,Automatic,\\n</td>\n",
              "      <td>\\n,5,238 cc,\\n</td>\n",
              "      <td>\\n,1,\\n</td>\n",
              "      <td>\\n,8,\\n</td>\n",
              "      <td>\\n,None,\\n</td>\n",
              "      <td>\\n,Gasoline,\\n</td>\n",
              "      <td>\\n,None,\\n</td>\n",
              "      <td>\\n,None,\\n</td>\n",
              "      <td>['\\n', [' ', ' ', ' '], '\\n']</td>\n",
              "      <td>[['Armrest', 'Automatic climate control, 2 zon...</td>\n",
              "      <td>[['Android Auto', 'Apple CarPlay', 'Bluetooth'...</td>\n",
              "      <td>[['ABS', 'Central door lock with remote contro...</td>\n",
              "      <td>[['Alloy wheels (20\")', 'Automatically dimming...</td>\n",
              "      <td>\\n4, Red</td>\n",
              "      <td>None</td>\n",
              "      <td>None</td>\n",
              "      <td>\\nupholstery, Other</td>\n",
              "      <td>\\n8, Cloth</td>\n",
              "    </tr>\n",
              "    <tr>\n",
              "      <th>38289</th>\n",
              "      <td>URSEM, NL</td>\n",
              "      <td>https://www.autoscout24.com/offers/chevrolet-s...</td>\n",
              "      <td>\\n,Chevrolet ,\\n</td>\n",
              "      <td>['\\n', None, '\\n']</td>\n",
              "      <td>Silverado 1500 RST 4x4</td>\n",
              "      <td>[['\\n', '€ 59,950.-', '\\n']]</td>\n",
              "      <td>['', ['56 km']]</td>\n",
              "      <td>['\\n', None, '\\n']</td>\n",
              "      <td>265 kW (360 hp)</td>\n",
              "      <td>\\n,Automatic,\\n</td>\n",
              "      <td>[None, '']</td>\n",
              "      <td>['\\n', ['Gasoline\\n']]</td>\n",
              "      <td>\\n,Flatbed van,\\n</td>\n",
              "      <td>\\n,New,\\n</td>\n",
              "      <td>\\n,4WD,\\n</td>\n",
              "      <td>\\n6</td>\n",
              "      <td>\\n4</td>\n",
              "      <td>Country version,Netherlands</td>\n",
              "      <td>None\\n</td>\n",
              "      <td>\\n,None,\\n</td>\n",
              "      <td>[['\\n'], ['']]</td>\n",
              "      <td>None</td>\n",
              "      <td>2021</td>\n",
              "      <td>None</td>\n",
              "      <td>None</td>\n",
              "      <td>\\n,None,\\n</td>\n",
              "      <td>\\n,None,\\n</td>\n",
              "      <td>\\n,265 kW (360 hp),\\n</td>\n",
              "      <td>\\n,Automatic,\\n</td>\n",
              "      <td>\\n,5,238 cc,\\n</td>\n",
              "      <td>\\n,1,\\n</td>\n",
              "      <td>\\n,8,\\n</td>\n",
              "      <td>\\n,None,\\n</td>\n",
              "      <td>\\n,Gasoline,\\n</td>\n",
              "      <td>\\n,None,\\n</td>\n",
              "      <td>\\n,None,\\n</td>\n",
              "      <td>['\\n', [' ', ' ', ' '], '\\n']</td>\n",
              "      <td>[['Armrest', 'Automatic climate control, 2 zon...</td>\n",
              "      <td>[['Android Auto', 'Apple CarPlay', 'Bluetooth'...</td>\n",
              "      <td>[['ABS', 'Central door lock with remote contro...</td>\n",
              "      <td>[['Alloy wheels (20\")', 'Automatically dimming...</td>\n",
              "      <td>\\n4, Red</td>\n",
              "      <td>None</td>\n",
              "      <td>None</td>\n",
              "      <td>\\nupholstery, Other</td>\n",
              "      <td>\\n8, Cloth</td>\n",
              "    </tr>\n",
              "    <tr>\n",
              "      <th>58169</th>\n",
              "      <td>ALPHEN AAN DEN RIJN, NL</td>\n",
              "      <td>https://www.autoscout24.com/offers/toyota-proa...</td>\n",
              "      <td>\\n,Toyota ,\\n</td>\n",
              "      <td>['\\n', None, '\\n']</td>\n",
              "      <td>PROACE CITY Verso 1.2 Turbo Dynamic, Unieke Auto!</td>\n",
              "      <td>[['\\n', '€ 29,690.-', '\\n']]</td>\n",
              "      <td>['', ['3 km']]</td>\n",
              "      <td>\\n,02/2022,\\n</td>\n",
              "      <td>96 kW (131 hp)</td>\n",
              "      <td>\\n,Automatic,\\n</td>\n",
              "      <td>[None, '']</td>\n",
              "      <td>['\\n', ['Gasoline\\n']]</td>\n",
              "      <td>\\n,Other,\\n</td>\n",
              "      <td>\\n,Used,\\n</td>\n",
              "      <td>\\n,Front,\\n</td>\n",
              "      <td>\\n5</td>\n",
              "      <td>\\n5</td>\n",
              "      <td>Country version,None</td>\n",
              "      <td>\\nVE-RS-03</td>\n",
              "      <td>\\n,6 months,\\n</td>\n",
              "      <td>[['\\n'], ['']]</td>\n",
              "      <td>02/2022</td>\n",
              "      <td>None</td>\n",
              "      <td>None</td>\n",
              "      <td>None</td>\n",
              "      <td>\\n,Yes,\\n</td>\n",
              "      <td>\\n,None,\\n</td>\n",
              "      <td>\\n,96 kW (131 hp),\\n</td>\n",
              "      <td>\\n,Automatic,\\n</td>\n",
              "      <td>\\n,1,200 cc,\\n</td>\n",
              "      <td>\\n,6,\\n</td>\n",
              "      <td>\\n,3,\\n</td>\n",
              "      <td>\\n,None,\\n</td>\n",
              "      <td>\\n,Super 95,\\n</td>\n",
              "      <td>['\\n', ['6.7 l/100 km (comb.)', ' ', ' '], '\\n']</td>\n",
              "      <td>\\n,0 g/km (comb.),\\n</td>\n",
              "      <td>\\n,None,\\n</td>\n",
              "      <td>[['Air conditioning', 'Automatic climate contr...</td>\n",
              "      <td>[['Android Auto', 'Apple CarPlay', 'Digital ra...</td>\n",
              "      <td>[['ABS', 'Adaptive Cruise Control', 'Adaptive ...</td>\n",
              "      <td>[['Alloy wheels (17\")', 'Automatically dimming...</td>\n",
              "      <td>\\n4, Silver</td>\n",
              "      <td>None</td>\n",
              "      <td>\\npaint, Metallic</td>\n",
              "      <td>\\nupholstery, Black</td>\n",
              "      <td>\\n8, Cloth</td>\n",
              "    </tr>\n",
              "    <tr>\n",
              "      <th>58171</th>\n",
              "      <td>ALPHEN AAN DEN RIJN, NL</td>\n",
              "      <td>https://www.autoscout24.com/offers/toyota-proa...</td>\n",
              "      <td>\\n,Toyota ,\\n</td>\n",
              "      <td>['\\n', None, '\\n']</td>\n",
              "      <td>PROACE CITY Verso 1.2 Turbo Dynamic, Unieke Auto!</td>\n",
              "      <td>[['\\n', '€ 29,690.-', '\\n']]</td>\n",
              "      <td>['', ['3 km']]</td>\n",
              "      <td>\\n,02/2022,\\n</td>\n",
              "      <td>96 kW (131 hp)</td>\n",
              "      <td>\\n,Automatic,\\n</td>\n",
              "      <td>[None, '']</td>\n",
              "      <td>['\\n', ['Gasoline\\n']]</td>\n",
              "      <td>\\n,Other,\\n</td>\n",
              "      <td>\\n,Used,\\n</td>\n",
              "      <td>\\n,Front,\\n</td>\n",
              "      <td>\\n5</td>\n",
              "      <td>\\n5</td>\n",
              "      <td>Country version,None</td>\n",
              "      <td>\\nVE-RS-03</td>\n",
              "      <td>\\n,6 months,\\n</td>\n",
              "      <td>[['\\n'], ['']]</td>\n",
              "      <td>02/2022</td>\n",
              "      <td>None</td>\n",
              "      <td>None</td>\n",
              "      <td>None</td>\n",
              "      <td>\\n,Yes,\\n</td>\n",
              "      <td>\\n,None,\\n</td>\n",
              "      <td>\\n,96 kW (131 hp),\\n</td>\n",
              "      <td>\\n,Automatic,\\n</td>\n",
              "      <td>\\n,1,200 cc,\\n</td>\n",
              "      <td>\\n,6,\\n</td>\n",
              "      <td>\\n,3,\\n</td>\n",
              "      <td>\\n,None,\\n</td>\n",
              "      <td>\\n,Super 95,\\n</td>\n",
              "      <td>['\\n', ['6.7 l/100 km (comb.)', ' ', ' '], '\\n']</td>\n",
              "      <td>\\n,0 g/km (comb.),\\n</td>\n",
              "      <td>\\n,None,\\n</td>\n",
              "      <td>[['Air conditioning', 'Automatic climate contr...</td>\n",
              "      <td>[['Android Auto', 'Apple CarPlay', 'Digital ra...</td>\n",
              "      <td>[['ABS', 'Adaptive Cruise Control', 'Adaptive ...</td>\n",
              "      <td>[['Alloy wheels (17\")', 'Automatically dimming...</td>\n",
              "      <td>\\n4, Silver</td>\n",
              "      <td>None</td>\n",
              "      <td>\\npaint, Metallic</td>\n",
              "      <td>\\nupholstery, Black</td>\n",
              "      <td>\\n8, Cloth</td>\n",
              "    </tr>\n",
              "  </tbody>\n",
              "</table>\n",
              "</div>\n",
              "      <button class=\"colab-df-convert\" onclick=\"convertToInteractive('df-58eb47a3-7e6b-4ec2-9d62-c01bc9367931')\"\n",
              "              title=\"Convert this dataframe to an interactive table.\"\n",
              "              style=\"display:none;\">\n",
              "        \n",
              "  <svg xmlns=\"http://www.w3.org/2000/svg\" height=\"24px\"viewBox=\"0 0 24 24\"\n",
              "       width=\"24px\">\n",
              "    <path d=\"M0 0h24v24H0V0z\" fill=\"none\"/>\n",
              "    <path d=\"M18.56 5.44l.94 2.06.94-2.06 2.06-.94-2.06-.94-.94-2.06-.94 2.06-2.06.94zm-11 1L8.5 8.5l.94-2.06 2.06-.94-2.06-.94L8.5 2.5l-.94 2.06-2.06.94zm10 10l.94 2.06.94-2.06 2.06-.94-2.06-.94-.94-2.06-.94 2.06-2.06.94z\"/><path d=\"M17.41 7.96l-1.37-1.37c-.4-.4-.92-.59-1.43-.59-.52 0-1.04.2-1.43.59L10.3 9.45l-7.72 7.72c-.78.78-.78 2.05 0 2.83L4 21.41c.39.39.9.59 1.41.59.51 0 1.02-.2 1.41-.59l7.78-7.78 2.81-2.81c.8-.78.8-2.07 0-2.86zM5.41 20L4 18.59l7.72-7.72 1.47 1.35L5.41 20z\"/>\n",
              "  </svg>\n",
              "      </button>\n",
              "      \n",
              "  <style>\n",
              "    .colab-df-container {\n",
              "      display:flex;\n",
              "      flex-wrap:wrap;\n",
              "      gap: 12px;\n",
              "    }\n",
              "\n",
              "    .colab-df-convert {\n",
              "      background-color: #E8F0FE;\n",
              "      border: none;\n",
              "      border-radius: 50%;\n",
              "      cursor: pointer;\n",
              "      display: none;\n",
              "      fill: #1967D2;\n",
              "      height: 32px;\n",
              "      padding: 0 0 0 0;\n",
              "      width: 32px;\n",
              "    }\n",
              "\n",
              "    .colab-df-convert:hover {\n",
              "      background-color: #E2EBFA;\n",
              "      box-shadow: 0px 1px 2px rgba(60, 64, 67, 0.3), 0px 1px 3px 1px rgba(60, 64, 67, 0.15);\n",
              "      fill: #174EA6;\n",
              "    }\n",
              "\n",
              "    [theme=dark] .colab-df-convert {\n",
              "      background-color: #3B4455;\n",
              "      fill: #D2E3FC;\n",
              "    }\n",
              "\n",
              "    [theme=dark] .colab-df-convert:hover {\n",
              "      background-color: #434B5C;\n",
              "      box-shadow: 0px 1px 3px 1px rgba(0, 0, 0, 0.15);\n",
              "      filter: drop-shadow(0px 1px 2px rgba(0, 0, 0, 0.3));\n",
              "      fill: #FFFFFF;\n",
              "    }\n",
              "  </style>\n",
              "\n",
              "      <script>\n",
              "        const buttonEl =\n",
              "          document.querySelector('#df-58eb47a3-7e6b-4ec2-9d62-c01bc9367931 button.colab-df-convert');\n",
              "        buttonEl.style.display =\n",
              "          google.colab.kernel.accessAllowed ? 'block' : 'none';\n",
              "\n",
              "        async function convertToInteractive(key) {\n",
              "          const element = document.querySelector('#df-58eb47a3-7e6b-4ec2-9d62-c01bc9367931');\n",
              "          const dataTable =\n",
              "            await google.colab.kernel.invokeFunction('convertToInteractive',\n",
              "                                                     [key], {});\n",
              "          if (!dataTable) return;\n",
              "\n",
              "          const docLinkHtml = 'Like what you see? Visit the ' +\n",
              "            '<a target=\"_blank\" href=https://colab.research.google.com/notebooks/data_table.ipynb>data table notebook</a>'\n",
              "            + ' to learn more about interactive tables.';\n",
              "          element.innerHTML = '';\n",
              "          dataTable['output_type'] = 'display_data';\n",
              "          await google.colab.output.renderOutput(dataTable, element);\n",
              "          const docLink = document.createElement('div');\n",
              "          docLink.innerHTML = docLinkHtml;\n",
              "          element.appendChild(docLink);\n",
              "        }\n",
              "      </script>\n",
              "    </div>\n",
              "  </div>\n",
              "  "
            ],
            "text/plain": [
              "                      location  \\\n",
              "29016             KERKRADE, NL   \n",
              "37232            GRONINGEN, NL   \n",
              "37515            GRONINGEN, NL   \n",
              "37579     'T LOO OLDEBROEK, NL   \n",
              "38283                URSEM, NL   \n",
              "38289                URSEM, NL   \n",
              "58169  ALPHEN AAN DEN RIJN, NL   \n",
              "58171  ALPHEN AAN DEN RIJN, NL   \n",
              "\n",
              "                                                     url               make  \\\n",
              "29016  https://www.autoscout24.com/offers/volkswagen-...  \\n,Volkswagen ,\\n   \n",
              "37232  https://www.autoscout24.com/offers/citroen-jum...     \\n,Citroen ,\\n   \n",
              "37515  https://www.autoscout24.com/offers/citroen-jum...     \\n,Citroen ,\\n   \n",
              "37579  https://www.autoscout24.com/offers/citroen-jum...     \\n,Citroen ,\\n   \n",
              "38283  https://www.autoscout24.com/offers/chevrolet-s...   \\n,Chevrolet ,\\n   \n",
              "38289  https://www.autoscout24.com/offers/chevrolet-s...   \\n,Chevrolet ,\\n   \n",
              "58169  https://www.autoscout24.com/offers/toyota-proa...      \\n,Toyota ,\\n   \n",
              "58171  https://www.autoscout24.com/offers/toyota-proa...      \\n,Toyota ,\\n   \n",
              "\n",
              "                    model                                  short_description  \\\n",
              "29016  ['\\n', None, '\\n']                       Caddy 1.6 TDI Airco Trekhaak   \n",
              "37232  ['\\n', None, '\\n']  Jumpy bestel 2.0 BlueHDI 180 M Driver | 19'' L...   \n",
              "37515  ['\\n', None, '\\n']  Jumpy bestel 2.0 BlueHDI 180 M Driver | 19'' L...   \n",
              "37579  ['\\n', None, '\\n']                                              jumpy   \n",
              "38283  ['\\n', None, '\\n']                             Silverado 1500 RST 4x4   \n",
              "38289  ['\\n', None, '\\n']                             Silverado 1500 RST 4x4   \n",
              "58169  ['\\n', None, '\\n']  PROACE CITY Verso 1.2 Turbo Dynamic, Unieke Auto!   \n",
              "58171  ['\\n', None, '\\n']  PROACE CITY Verso 1.2 Turbo Dynamic, Unieke Auto!   \n",
              "\n",
              "                              price               mileage             gearbox  \\\n",
              "29016   [['\\n', '€ 6,950.-', '\\n']]  ['', ['152,938 km']]       \\n,03/2014,\\n   \n",
              "37232  [['\\n', '€ 28,989.-', '\\n']]    ['', ['4,997 km']]       \\n,09/2021,\\n   \n",
              "37515  [['\\n', '€ 28,989.-', '\\n']]    ['', ['4,997 km']]       \\n,09/2021,\\n   \n",
              "37579  [['\\n', '€ 17,500.-', '\\n']]   ['', ['59,000 km']]       \\n,07/2017,\\n   \n",
              "38283  [['\\n', '€ 59,950.-', '\\n']]       ['', ['56 km']]  ['\\n', None, '\\n']   \n",
              "38289  [['\\n', '€ 59,950.-', '\\n']]       ['', ['56 km']]  ['\\n', None, '\\n']   \n",
              "58169  [['\\n', '€ 29,690.-', '\\n']]        ['', ['3 km']]       \\n,02/2022,\\n   \n",
              "58171  [['\\n', '€ 29,690.-', '\\n']]        ['', ['3 km']]       \\n,02/2022,\\n   \n",
              "\n",
              "          registration        fuel_type       power                  seller  \\\n",
              "29016   75 kW (102 hp)     \\n,Manual,\\n   2,159 kg,    ['\\n', ['Diesel\\n']]   \n",
              "37232  130 kW (177 hp)  \\n,Automatic,\\n   2,735 kg,    ['\\n', ['Diesel\\n']]   \n",
              "37515  130 kW (177 hp)  \\n,Automatic,\\n   2,735 kg,    ['\\n', ['Diesel\\n']]   \n",
              "37579   90 kW (122 hp)     \\n,Manual,\\n   1,588 kg,    ['\\n', ['Diesel\\n']]   \n",
              "38283  265 kW (360 hp)  \\n,Automatic,\\n  [None, '']  ['\\n', ['Gasoline\\n']]   \n",
              "38289  265 kW (360 hp)  \\n,Automatic,\\n  [None, '']  ['\\n', ['Gasoline\\n']]   \n",
              "58169   96 kW (131 hp)  \\n,Automatic,\\n  [None, '']  ['\\n', ['Gasoline\\n']]   \n",
              "58171   96 kW (131 hp)  \\n,Automatic,\\n  [None, '']  ['\\n', ['Gasoline\\n']]   \n",
              "\n",
              "                 body_type        type   drivetrain seats doors  \\\n",
              "29016      \\n,Panel van,\\n  \\n,Used,\\n  \\n,Front,\\n   \\n2   \\n4   \n",
              "37232      \\n,Panel van,\\n  \\n,Used,\\n  \\n,Front,\\n   \\n2   \\n5   \n",
              "37515      \\n,Panel van,\\n  \\n,Used,\\n  \\n,Front,\\n   \\n2   \\n5   \n",
              "37579  \\n,Car transport,\\n  \\n,Used,\\n  \\n,Front,\\n   \\n3   \\n4   \n",
              "38283    \\n,Flatbed van,\\n   \\n,New,\\n    \\n,4WD,\\n   \\n6   \\n4   \n",
              "38289    \\n,Flatbed van,\\n   \\n,New,\\n    \\n,4WD,\\n   \\n6   \\n4   \n",
              "58169          \\n,Other,\\n  \\n,Used,\\n  \\n,Front,\\n   \\n5   \\n5   \n",
              "58171          \\n,Other,\\n  \\n,Used,\\n  \\n,Front,\\n   \\n5   \\n5   \n",
              "\n",
              "                   country_version offer_number        warranty  \\\n",
              "29016         Country version,None     \\nVLB16G      \\n,None,\\n   \n",
              "37232  Country version,Netherlands     \\nVLL62P  \\n,6 months,\\n   \n",
              "37515  Country version,Netherlands     \\nVLL62P  \\n,6 months,\\n   \n",
              "37579  Country version,Netherlands          \\n1      \\n,None,\\n   \n",
              "38283  Country version,Netherlands       None\\n      \\n,None,\\n   \n",
              "38289  Country version,Netherlands       None\\n      \\n,None,\\n   \n",
              "58169         Country version,None   \\nVE-RS-03  \\n,6 months,\\n   \n",
              "58171         Country version,None   \\nVE-RS-03  \\n,6 months,\\n   \n",
              "\n",
              "              Mileage first_registration production_date general_inspection  \\\n",
              "29016  [['\\n'], ['']]            03/2014            None                New   \n",
              "37232  [['\\n'], ['']]            09/2021            None                New   \n",
              "37515  [['\\n'], ['']]            09/2021            None                New   \n",
              "37579  [['\\n'], ['']]            07/2017            2017                New   \n",
              "38283  [['\\n'], ['']]               None            2021               None   \n",
              "38289  [['\\n'], ['']]               None            2021               None   \n",
              "58169  [['\\n'], ['']]            02/2022            None               None   \n",
              "58171  [['\\n'], ['']]            02/2022            None               None   \n",
              "\n",
              "      last_service full_service_history non_smoker_vehicle  \\\n",
              "29016         None           \\n,None,\\n         \\n,None,\\n   \n",
              "37232         None            \\n,Yes,\\n         \\n,None,\\n   \n",
              "37515         None            \\n,Yes,\\n         \\n,None,\\n   \n",
              "37579         None            \\n,Yes,\\n         \\n,None,\\n   \n",
              "38283         None           \\n,None,\\n         \\n,None,\\n   \n",
              "38289         None           \\n,None,\\n         \\n,None,\\n   \n",
              "58169         None            \\n,Yes,\\n         \\n,None,\\n   \n",
              "58171         None            \\n,Yes,\\n         \\n,None,\\n   \n",
              "\n",
              "                       Power          Gearbox     engine_size       gears  \\\n",
              "29016   \\n,75 kW (102 hp),\\n     \\n,Manual,\\n  \\n,1,598 cc,\\n     \\n,5,\\n   \n",
              "37232  \\n,130 kW (177 hp),\\n  \\n,Automatic,\\n  \\n,1,997 cc,\\n  \\n,None,\\n   \n",
              "37515  \\n,130 kW (177 hp),\\n  \\n,Automatic,\\n  \\n,1,997 cc,\\n  \\n,None,\\n   \n",
              "37579   \\n,90 kW (122 hp),\\n     \\n,Manual,\\n  \\n,1,997 cc,\\n     \\n,6,\\n   \n",
              "38283  \\n,265 kW (360 hp),\\n  \\n,Automatic,\\n  \\n,5,238 cc,\\n     \\n,1,\\n   \n",
              "38289  \\n,265 kW (360 hp),\\n  \\n,Automatic,\\n  \\n,5,238 cc,\\n     \\n,1,\\n   \n",
              "58169   \\n,96 kW (131 hp),\\n  \\n,Automatic,\\n  \\n,1,200 cc,\\n     \\n,6,\\n   \n",
              "58171   \\n,96 kW (131 hp),\\n  \\n,Automatic,\\n  \\n,1,200 cc,\\n     \\n,6,\\n   \n",
              "\n",
              "      cylinders empty_weight       Fuel_type  \\\n",
              "29016   \\n,4,\\n   \\n,None,\\n    \\n,Diesel,\\n   \n",
              "37232   \\n,4,\\n   \\n,None,\\n    \\n,Diesel,\\n   \n",
              "37515   \\n,4,\\n   \\n,None,\\n    \\n,Diesel,\\n   \n",
              "37579   \\n,4,\\n   \\n,None,\\n    \\n,Diesel,\\n   \n",
              "38283   \\n,8,\\n   \\n,None,\\n  \\n,Gasoline,\\n   \n",
              "38289   \\n,8,\\n   \\n,None,\\n  \\n,Gasoline,\\n   \n",
              "58169   \\n,3,\\n   \\n,None,\\n  \\n,Super 95,\\n   \n",
              "58171   \\n,3,\\n   \\n,None,\\n  \\n,Super 95,\\n   \n",
              "\n",
              "                                        fuel_consumption  \\\n",
              "29016  ['\\n', ['5.7 l/100 km (comb.)', '6.6 l/100 km ...   \n",
              "37232                                         \\n,None,\\n   \n",
              "37515                                         \\n,None,\\n   \n",
              "37579                                         \\n,None,\\n   \n",
              "38283                                         \\n,None,\\n   \n",
              "38289                                         \\n,None,\\n   \n",
              "58169   ['\\n', ['6.7 l/100 km (comb.)', ' ', ' '], '\\n']   \n",
              "58171   ['\\n', ['6.7 l/100 km (comb.)', ' ', ' '], '\\n']   \n",
              "\n",
              "                       co2_emissions                 emission_class  \\\n",
              "29016         \\n,149 g/km (comb.),\\n                   \\n,Euro 5,\\n   \n",
              "37232  ['\\n', [' ', ' ', ' '], '\\n']                   \\n,Euro 6,\\n   \n",
              "37515  ['\\n', [' ', ' ', ' '], '\\n']                   \\n,Euro 6,\\n   \n",
              "37579                     \\n,None,\\n  ['\\n', [' ', ' ', ' '], '\\n']   \n",
              "38283                     \\n,None,\\n  ['\\n', [' ', ' ', ' '], '\\n']   \n",
              "38289                     \\n,None,\\n  ['\\n', [' ', ' ', ' '], '\\n']   \n",
              "58169           \\n,0 g/km (comb.),\\n                     \\n,None,\\n   \n",
              "58171           \\n,0 g/km (comb.),\\n                     \\n,None,\\n   \n",
              "\n",
              "                               \\nComfort & Convenience\\n  \\\n",
              "29016  [['Air conditioning', 'Electrical side mirrors...   \n",
              "37232  [['Air conditioning', 'Armrest', 'Automatic cl...   \n",
              "37515  [['Air conditioning', 'Armrest', 'Automatic cl...   \n",
              "37579  [['Air conditioning', 'Armrest', 'Automatic cl...   \n",
              "38283  [['Armrest', 'Automatic climate control, 2 zon...   \n",
              "38289  [['Armrest', 'Automatic climate control, 2 zon...   \n",
              "58169  [['Air conditioning', 'Automatic climate contr...   \n",
              "58171  [['Air conditioning', 'Automatic climate contr...   \n",
              "\n",
              "                               \\nEntertainment & Media\\n  \\\n",
              "29016                            [['On-board computer']]   \n",
              "37232  [['Android Auto', 'Apple CarPlay', 'Digital ra...   \n",
              "37515  [['Android Auto', 'Apple CarPlay', 'Digital ra...   \n",
              "37579  [['Android Auto', 'Apple CarPlay', 'Bluetooth'...   \n",
              "38283  [['Android Auto', 'Apple CarPlay', 'Bluetooth'...   \n",
              "38289  [['Android Auto', 'Apple CarPlay', 'Bluetooth'...   \n",
              "58169  [['Android Auto', 'Apple CarPlay', 'Digital ra...   \n",
              "58171  [['Android Auto', 'Apple CarPlay', 'Digital ra...   \n",
              "\n",
              "                                   \\nSafety & Security\\n  \\\n",
              "29016  [['ABS', 'Central door lock', 'Driver-side air...   \n",
              "37232  [['ABS', 'Adaptive Cruise Control', 'Alarm sys...   \n",
              "37515  [['ABS', 'Adaptive Cruise Control', 'Alarm sys...   \n",
              "37579  [['ABS', 'Alarm system', 'Central door lock wi...   \n",
              "38283  [['ABS', 'Central door lock with remote contro...   \n",
              "38289  [['ABS', 'Central door lock with remote contro...   \n",
              "58169  [['ABS', 'Adaptive Cruise Control', 'Adaptive ...   \n",
              "58171  [['ABS', 'Adaptive Cruise Control', 'Adaptive ...   \n",
              "\n",
              "                                                  extras     \\ncolour  \\\n",
              "29016                                [['Trailer hitch']]     \\n4, Red   \n",
              "37232  [['Alloy wheels (17\")', 'Trailer hitch', 'Voic...    \\n4, Grey   \n",
              "37515  [['Alloy wheels (17\")', 'Trailer hitch', 'Voic...    \\n4, Grey   \n",
              "37579  [['Alloy wheels', 'Touch screen', 'Trailer hit...     \\n4, Red   \n",
              "38283  [['Alloy wheels (20\")', 'Automatically dimming...     \\n4, Red   \n",
              "38289  [['Alloy wheels (20\")', 'Automatically dimming...     \\n4, Red   \n",
              "58169  [['Alloy wheels (17\")', 'Automatically dimming...  \\n4, Silver   \n",
              "58171  [['Alloy wheels (17\")', 'Automatically dimming...  \\n4, Silver   \n",
              "\n",
              "      \\nmanufacturer_color            \\npaint   upholstery_colour   \\\n",
              "29016                 None               None   \\nupholstery, Grey   \n",
              "37232                 None  \\npaint, Metallic                 None   \n",
              "37515                 None  \\npaint, Metallic                 None   \n",
              "37579                 None  \\npaint, Metallic   \\nupholstery, Grey   \n",
              "38283                 None               None  \\nupholstery, Other   \n",
              "38289                 None               None  \\nupholstery, Other   \n",
              "58169                 None  \\npaint, Metallic  \\nupholstery, Black   \n",
              "58171                 None  \\npaint, Metallic  \\nupholstery, Black   \n",
              "\n",
              "       upholstery   \n",
              "29016   \\n8, Other  \n",
              "37232         None  \n",
              "37515         None  \n",
              "37579   \\n8, Cloth  \n",
              "38283   \\n8, Cloth  \n",
              "38289   \\n8, Cloth  \n",
              "58169   \\n8, Cloth  \n",
              "58171   \\n8, Cloth  "
            ]
          },
          "metadata": {},
          "execution_count": 779
        }
      ]
    },
    {
      "cell_type": "code",
      "source": [
        "df.loc[shifted_rows,['empty_weight']] = df.loc[shifted_rows,['power']]\n",
        "df.loc[shifted_rows,['power']] = df.loc[shifted_rows,['registration']]"
      ],
      "metadata": {
        "id": "y4HJgBIeZqLR"
      },
      "execution_count": 780,
      "outputs": []
    },
    {
      "cell_type": "code",
      "source": [
        "df = df.drop(['registration','first_registration'],axis=1)"
      ],
      "metadata": {
        "id": "IwaUAFs0bJEp"
      },
      "execution_count": 781,
      "outputs": []
    },
    {
      "cell_type": "markdown",
      "metadata": {
        "id": "l7PQXaPk90u7"
      },
      "source": [
        "## fuel_type"
      ]
    },
    {
      "cell_type": "code",
      "execution_count": 782,
      "metadata": {
        "outputId": "87c0d9c6-5e65-4dea-8a96-edb5f5ddcbbc",
        "colab": {
          "base_uri": "https://localhost:8080/"
        },
        "id": "gqRmoflW90u8"
      },
      "outputs": [
        {
          "output_type": "execute_result",
          "data": {
            "text/plain": [
              "0.0"
            ]
          },
          "metadata": {},
          "execution_count": 782
        }
      ],
      "source": [
        "perc_nans(df.fuel_type)"
      ]
    },
    {
      "cell_type": "code",
      "source": [
        "df.fuel_type"
      ],
      "metadata": {
        "colab": {
          "base_uri": "https://localhost:8080/"
        },
        "id": "c1uJLc7D97fc",
        "outputId": "4ab044cd-7b5d-4ead-c1c2-468bec6ac838"
      },
      "execution_count": 783,
      "outputs": [
        {
          "output_type": "execute_result",
          "data": {
            "text/plain": [
              "0        \\n,Gasoline,\\n\n",
              "1        \\n,Gasoline,\\n\n",
              "2        \\n,Gasoline,\\n\n",
              "3        \\n,Gasoline,\\n\n",
              "4        \\n,Gasoline,\\n\n",
              "              ...      \n",
              "65836         \\n,LPG,\\n\n",
              "65837         \\n,LPG,\\n\n",
              "65838     \\n,Ethanol,\\n\n",
              "65839         \\n,LPG,\\n\n",
              "65840         \\n,CNG,\\n\n",
              "Name: fuel_type, Length: 64368, dtype: object"
            ]
          },
          "metadata": {},
          "execution_count": 783
        }
      ]
    },
    {
      "cell_type": "code",
      "source": [
        "df.fuel_type = df.fuel_type.str.split(\",\").apply(lambda x: x[1])"
      ],
      "metadata": {
        "id": "wPXistVt-GMc"
      },
      "execution_count": 784,
      "outputs": []
    },
    {
      "cell_type": "code",
      "source": [
        "df.fuel_type.value_counts(dropna=False)"
      ],
      "metadata": {
        "colab": {
          "base_uri": "https://localhost:8080/"
        },
        "outputId": "568bee6d-7437-4112-9251-a6c2b2c5afde",
        "id": "ueX2b_O5-GMd"
      },
      "execution_count": 785,
      "outputs": [
        {
          "output_type": "execute_result",
          "data": {
            "text/plain": [
              "Gasoline             37191\n",
              "Diesel               12343\n",
              "Electric/Gasoline     8645\n",
              "Electric              5185\n",
              "LPG                    486\n",
              "Electric/Diesel        292\n",
              "CNG                    105\n",
              "Hydrogen                88\n",
              "Others                  11\n",
              "Ethanol                  9\n",
              "Automatic                9\n",
              " None                    2\n",
              "Manual                   2\n",
              "Name: fuel_type, dtype: int64"
            ]
          },
          "metadata": {},
          "execution_count": 785
        }
      ]
    },
    {
      "cell_type": "markdown",
      "metadata": {
        "id": "gPq92SfA-hwI"
      },
      "source": [
        "## power"
      ]
    },
    {
      "cell_type": "markdown",
      "source": [
        "1 kW = 1.359622 hp"
      ],
      "metadata": {
        "id": "b8IYzqp2_p6c"
      }
    },
    {
      "cell_type": "code",
      "execution_count": 786,
      "metadata": {
        "outputId": "dd24d00e-e28c-438c-ae51-079b7f90db9d",
        "colab": {
          "base_uri": "https://localhost:8080/"
        },
        "id": "0gKYkC67-hwJ"
      },
      "outputs": [
        {
          "output_type": "execute_result",
          "data": {
            "text/plain": [
              "0.012428535918468804"
            ]
          },
          "metadata": {},
          "execution_count": 786
        }
      ],
      "source": [
        "perc_nans(df.power) "
      ]
    },
    {
      "cell_type": "code",
      "source": [
        "df.power"
      ],
      "metadata": {
        "colab": {
          "base_uri": "https://localhost:8080/"
        },
        "id": "zqYILXmB-nhQ",
        "outputId": "42e3dfb3-cf72-451f-be44-cff418b6a78f"
      },
      "execution_count": 787,
      "outputs": [
        {
          "output_type": "execute_result",
          "data": {
            "text/plain": [
              "0         90 kW (122 hp),\n",
              "1         85 kW (116 hp),\n",
              "2        110 kW (150 hp),\n",
              "3        221 kW (300 hp),\n",
              "4        147 kW (200 hp),\n",
              "               ...       \n",
              "65836    103 kW (140 hp),\n",
              "65837    104 kW (141 hp),\n",
              "65838    107 kW (145 hp),\n",
              "65839    103 kW (140 hp),\n",
              "65840    103 kW (140 hp),\n",
              "Name: power, Length: 64368, dtype: object"
            ]
          },
          "metadata": {},
          "execution_count": 787
        }
      ]
    },
    {
      "cell_type": "code",
      "source": [
        "df.power = df.power.str.extract('(\\d*) hp')"
      ],
      "metadata": {
        "id": "hjCnUsfI-nk7"
      },
      "execution_count": 788,
      "outputs": []
    },
    {
      "cell_type": "code",
      "source": [
        "perc_nans(df.power)"
      ],
      "metadata": {
        "colab": {
          "base_uri": "https://localhost:8080/"
        },
        "id": "WXbtUX61-ntn",
        "outputId": "12030d74-b1c1-4581-92d7-fa7a8e176829"
      },
      "execution_count": 789,
      "outputs": [
        {
          "output_type": "execute_result",
          "data": {
            "text/plain": [
              "8.856885408898831"
            ]
          },
          "metadata": {},
          "execution_count": 789
        }
      ]
    },
    {
      "cell_type": "code",
      "source": [
        "df.columns"
      ],
      "metadata": {
        "colab": {
          "base_uri": "https://localhost:8080/"
        },
        "id": "TK4EskVNCp-t",
        "outputId": "d1f1dbee-6ea4-42e3-e12d-97a77ac3f11e"
      },
      "execution_count": 790,
      "outputs": [
        {
          "output_type": "execute_result",
          "data": {
            "text/plain": [
              "Index(['location', 'price', 'mileage', 'gearbox', 'fuel_type', 'power',\n",
              "       'seller', 'body_type', 'type', 'drivetrain', 'seats', 'doors',\n",
              "       'warranty', 'general_inspection', 'full_service_history',\n",
              "       'non_smoker_vehicle', 'engine_size', 'gears', 'cylinders',\n",
              "       'empty_weight', 'fuel_consumption', 'co2_emissions', 'emission_class',\n",
              "       'comfort_convenience', 'entertainment_media', 'safety_security',\n",
              "       'extras', 'colour', 'paint', 'upholstery_colour', 'upholstery',\n",
              "       'make_model', 'age'],\n",
              "      dtype='object')"
            ]
          },
          "metadata": {},
          "execution_count": 790
        }
      ]
    },
    {
      "cell_type": "code",
      "source": [
        ""
      ],
      "metadata": {
        "id": "Z6xzHZcOCqBe"
      },
      "execution_count": 790,
      "outputs": []
    },
    {
      "cell_type": "markdown",
      "source": [
        "## seller"
      ],
      "metadata": {
        "id": "L5Ge31vRCtfR"
      }
    },
    {
      "cell_type": "code",
      "source": [
        "perc_nans(df.seller) "
      ],
      "metadata": {
        "colab": {
          "base_uri": "https://localhost:8080/"
        },
        "id": "NNNLsIW7M1mt",
        "outputId": "0707bd39-f809-47d0-f161-a371c320717f"
      },
      "execution_count": 791,
      "outputs": [
        {
          "output_type": "execute_result",
          "data": {
            "text/plain": [
              "0.0"
            ]
          },
          "metadata": {},
          "execution_count": 791
        }
      ]
    },
    {
      "cell_type": "code",
      "source": [
        "df.seller.value_counts()"
      ],
      "metadata": {
        "colab": {
          "base_uri": "https://localhost:8080/"
        },
        "id": "OwBg6L9aCqEF",
        "outputId": "bf73ede5-d7fd-48ce-abee-cd4f330e26d4"
      },
      "execution_count": 792,
      "outputs": [
        {
          "output_type": "execute_result",
          "data": {
            "text/plain": [
              "['\\n', ['Dealer\\n']]            59529\n",
              "['\\n', ['Private seller\\n']]     4828\n",
              "['\\n', ['Diesel\\n']]                4\n",
              "['\\n', ['Gasoline\\n']]              4\n",
              "['\\n', ['Electric\\n']]              3\n",
              "Name: seller, dtype: int64"
            ]
          },
          "metadata": {},
          "execution_count": 792
        }
      ]
    },
    {
      "cell_type": "code",
      "source": [
        "df.seller =df.seller.str.extract(' \\W*(\\w*)\\\\n*')"
      ],
      "metadata": {
        "id": "lS1_ccrTCqGm"
      },
      "execution_count": 793,
      "outputs": []
    },
    {
      "cell_type": "code",
      "source": [
        "df.seller.value_counts()"
      ],
      "metadata": {
        "colab": {
          "base_uri": "https://localhost:8080/"
        },
        "id": "gwP4WaRHMpBy",
        "outputId": "788cd5ff-e31a-4cd6-bad7-be60a54545e2"
      },
      "execution_count": 794,
      "outputs": [
        {
          "output_type": "execute_result",
          "data": {
            "text/plain": [
              "Dealer      59529\n",
              "Private      4828\n",
              "Gasoline        4\n",
              "Diesel          4\n",
              "Electric        3\n",
              "Name: seller, dtype: int64"
            ]
          },
          "metadata": {},
          "execution_count": 794
        }
      ]
    },
    {
      "cell_type": "markdown",
      "metadata": {
        "id": "Fx_Uw5QNffWl"
      },
      "source": [
        "## body_type"
      ]
    },
    {
      "cell_type": "code",
      "execution_count": 795,
      "metadata": {
        "id": "C-R-_CT-ffWl",
        "outputId": "033583cf-2208-4e4d-a0f3-e4f7799794b4",
        "colab": {
          "base_uri": "https://localhost:8080/"
        }
      },
      "outputs": [
        {
          "output_type": "execute_result",
          "data": {
            "text/plain": [
              "0.0"
            ]
          },
          "metadata": {},
          "execution_count": 795
        }
      ],
      "source": [
        "perc_nans(df.body_type)"
      ]
    },
    {
      "cell_type": "code",
      "execution_count": 796,
      "metadata": {
        "id": "RJet9A6tffWl",
        "outputId": "84ebfaa5-f1c7-48dd-a50f-171c615ab865",
        "colab": {
          "base_uri": "https://localhost:8080/"
        }
      },
      "outputs": [
        {
          "output_type": "execute_result",
          "data": {
            "text/plain": [
              "\\n,Off-Road/Pick-up,\\n    17436\n",
              "\\n,Compact,\\n             13909\n",
              "\\n,Station wagon,\\n       11959\n",
              "\\n,Van,\\n                  6756\n",
              "\\n,Sedan,\\n                5652\n",
              "\\n,Convertible,\\n          3045\n",
              "\\n,Transporter,\\n          2229\n",
              "\\n,Coupe,\\n                1945\n",
              "\\n,None,\\n                  848\n",
              "\\n,Other,\\n                 583\n",
              "\\n,Panel van,\\n               3\n",
              "\\n,Flatbed van,\\n             2\n",
              "\\n,Car transport,\\n           1\n",
              "Name: body_type, dtype: int64"
            ]
          },
          "metadata": {},
          "execution_count": 796
        }
      ],
      "source": [
        "df.body_type.value_counts(dropna=False)"
      ]
    },
    {
      "cell_type": "code",
      "source": [
        "df.body_type = df.body_type.apply(lambda x:x.split(',')[1])"
      ],
      "metadata": {
        "id": "xamsk7zENjl-"
      },
      "execution_count": 797,
      "outputs": []
    },
    {
      "cell_type": "code",
      "source": [
        "df.body_type.value_counts(dropna=False)"
      ],
      "metadata": {
        "colab": {
          "base_uri": "https://localhost:8080/"
        },
        "id": "8ngDVJHJNjou",
        "outputId": "733dede9-cb42-44d6-e3fe-d5d9ced02617"
      },
      "execution_count": 798,
      "outputs": [
        {
          "output_type": "execute_result",
          "data": {
            "text/plain": [
              "Off-Road/Pick-up    17436\n",
              "Compact             13909\n",
              "Station wagon       11959\n",
              "Van                  6756\n",
              "Sedan                5652\n",
              "Convertible          3045\n",
              "Transporter          2229\n",
              "Coupe                1945\n",
              "None                  848\n",
              "Other                 583\n",
              "Panel van               3\n",
              "Flatbed van             2\n",
              "Car transport           1\n",
              "Name: body_type, dtype: int64"
            ]
          },
          "metadata": {},
          "execution_count": 798
        }
      ]
    },
    {
      "cell_type": "markdown",
      "metadata": {
        "id": "KTIOXcM8ffWm"
      },
      "source": [
        "## type"
      ]
    },
    {
      "cell_type": "code",
      "execution_count": 799,
      "metadata": {
        "id": "mwhCIYRPffWm",
        "outputId": "1f5008fa-bf44-4fae-f0f3-a76e502e1850",
        "colab": {
          "base_uri": "https://localhost:8080/"
        }
      },
      "outputs": [
        {
          "output_type": "execute_result",
          "data": {
            "text/plain": [
              "0.0"
            ]
          },
          "metadata": {},
          "execution_count": 799
        }
      ],
      "source": [
        "perc_nans(df.type)"
      ]
    },
    {
      "cell_type": "code",
      "execution_count": 800,
      "metadata": {
        "id": "jv0YmFg9ffWm",
        "outputId": "fa18ff99-7e38-43d4-ce8c-ffcf1a798c01",
        "colab": {
          "base_uri": "https://localhost:8080/"
        }
      },
      "outputs": [
        {
          "output_type": "execute_result",
          "data": {
            "text/plain": [
              "\\n,Used,\\n                 56380\n",
              "\\n,New,\\n                   4044\n",
              "\\n,Demonstration,\\n         2029\n",
              "\\n,Pre-registered,\\n        1066\n",
              "\\n,None,\\n                   848\n",
              "\\n,Antique / Classic,\\n        1\n",
              "Name: type, dtype: int64"
            ]
          },
          "metadata": {},
          "execution_count": 800
        }
      ],
      "source": [
        "df.type.value_counts(dropna=False)"
      ]
    },
    {
      "cell_type": "code",
      "source": [
        "df.type = df.type.apply(lambda x:x.split(',')[1])"
      ],
      "metadata": {
        "id": "VJJcQ93YO5Ic"
      },
      "execution_count": 801,
      "outputs": []
    },
    {
      "cell_type": "code",
      "source": [
        "df.type.value_counts(dropna=False)"
      ],
      "metadata": {
        "colab": {
          "base_uri": "https://localhost:8080/"
        },
        "id": "tfUlwCQBO-9y",
        "outputId": "6ea9a7b6-216d-4fb2-bb61-d047f8175093"
      },
      "execution_count": 802,
      "outputs": [
        {
          "output_type": "execute_result",
          "data": {
            "text/plain": [
              "Used                 56380\n",
              "New                   4044\n",
              "Demonstration         2029\n",
              "Pre-registered        1066\n",
              "None                   848\n",
              "Antique / Classic        1\n",
              "Name: type, dtype: int64"
            ]
          },
          "metadata": {},
          "execution_count": 802
        }
      ]
    },
    {
      "cell_type": "markdown",
      "metadata": {
        "id": "Mivi7xirffWn"
      },
      "source": [
        "## drivetrain"
      ]
    },
    {
      "cell_type": "code",
      "execution_count": 803,
      "metadata": {
        "id": "QbB1T-lDffWn",
        "outputId": "68fa77f9-1787-4c73-846f-7a185dfd5b90",
        "colab": {
          "base_uri": "https://localhost:8080/"
        }
      },
      "outputs": [
        {
          "output_type": "execute_result",
          "data": {
            "text/plain": [
              "0.0"
            ]
          },
          "metadata": {},
          "execution_count": 803
        }
      ],
      "source": [
        "perc_nans(df.drivetrain)"
      ]
    },
    {
      "cell_type": "code",
      "execution_count": 804,
      "metadata": {
        "id": "xUMCtZDiffWn",
        "outputId": "eb8f3b95-b00d-4835-ad66-f5fb846407fe",
        "colab": {
          "base_uri": "https://localhost:8080/"
        }
      },
      "outputs": [
        {
          "output_type": "execute_result",
          "data": {
            "text/plain": [
              "27469    \\n,Front,\\n\n",
              "41464    \\n,Front,\\n\n",
              "6566     \\n,Front,\\n\n",
              "16202     \\n,Rear,\\n\n",
              "18895     \\n,Rear,\\n\n",
              "24572    \\n,Front,\\n\n",
              "6201       \\n,4WD,\\n\n",
              "31779    \\n,Front,\\n\n",
              "22297    \\n,Front,\\n\n",
              "43482    \\n,Front,\\n\n",
              "Name: drivetrain, dtype: object"
            ]
          },
          "metadata": {},
          "execution_count": 804
        }
      ],
      "source": [
        "df.drivetrain.sample(10)"
      ]
    },
    {
      "cell_type": "code",
      "execution_count": 805,
      "metadata": {
        "id": "5mobjHlsffWo"
      },
      "outputs": [],
      "source": [
        "df.drivetrain = df.drivetrain.apply(lambda x:x.split(',')[1])"
      ]
    },
    {
      "cell_type": "code",
      "execution_count": 806,
      "metadata": {
        "id": "MXbG7ld7ffWo",
        "outputId": "0347e8b5-5d10-4285-a6ac-7d567e04c91e",
        "colab": {
          "base_uri": "https://localhost:8080/"
        }
      },
      "outputs": [
        {
          "output_type": "execute_result",
          "data": {
            "text/plain": [
              "Front    34729\n",
              "None     14588\n",
              "4WD       7698\n",
              "Rear      7353\n",
              "Name: drivetrain, dtype: int64"
            ]
          },
          "metadata": {},
          "execution_count": 806
        }
      ],
      "source": [
        "df.drivetrain.value_counts(dropna=False)"
      ]
    },
    {
      "cell_type": "code",
      "source": [
        "df.columns"
      ],
      "metadata": {
        "colab": {
          "base_uri": "https://localhost:8080/"
        },
        "id": "97jfBetOPtMI",
        "outputId": "d506c5dd-2415-4b87-e364-b4e4a735cdfa"
      },
      "execution_count": 807,
      "outputs": [
        {
          "output_type": "execute_result",
          "data": {
            "text/plain": [
              "Index(['location', 'price', 'mileage', 'gearbox', 'fuel_type', 'power',\n",
              "       'seller', 'body_type', 'type', 'drivetrain', 'seats', 'doors',\n",
              "       'warranty', 'general_inspection', 'full_service_history',\n",
              "       'non_smoker_vehicle', 'engine_size', 'gears', 'cylinders',\n",
              "       'empty_weight', 'fuel_consumption', 'co2_emissions', 'emission_class',\n",
              "       'comfort_convenience', 'entertainment_media', 'safety_security',\n",
              "       'extras', 'colour', 'paint', 'upholstery_colour', 'upholstery',\n",
              "       'make_model', 'age'],\n",
              "      dtype='object')"
            ]
          },
          "metadata": {},
          "execution_count": 807
        }
      ]
    },
    {
      "cell_type": "markdown",
      "metadata": {
        "id": "9wfb78n0ffWo"
      },
      "source": [
        "## seats"
      ]
    },
    {
      "cell_type": "code",
      "execution_count": 808,
      "metadata": {
        "id": "QFeaKPPyffWo",
        "outputId": "ddfc6f2a-1131-4670-e700-229e5e60649e",
        "colab": {
          "base_uri": "https://localhost:8080/"
        }
      },
      "outputs": [
        {
          "output_type": "execute_result",
          "data": {
            "text/plain": [
              "0.0"
            ]
          },
          "metadata": {},
          "execution_count": 808
        }
      ],
      "source": [
        "perc_nans(df.seats)"
      ]
    },
    {
      "cell_type": "code",
      "execution_count": 809,
      "metadata": {
        "id": "EuavtpjnffWo",
        "outputId": "e86b3c49-bc68-4265-ccbb-60da72b7eed6",
        "colab": {
          "base_uri": "https://localhost:8080/"
        }
      },
      "outputs": [
        {
          "output_type": "execute_result",
          "data": {
            "text/plain": [
              "array(['\\n4', '\\n5', 'None\\n', '\\n2', '\\n6', '\\n7', '\\n3', '\\n8', '\\n9',\n",
              "       '\\n1'], dtype=object)"
            ]
          },
          "metadata": {},
          "execution_count": 809
        }
      ],
      "source": [
        "df.seats.unique()"
      ]
    },
    {
      "cell_type": "code",
      "source": [
        "df.seats = df.seats.str.extract('(\\d)')"
      ],
      "metadata": {
        "id": "9XNe3mzOP8x6"
      },
      "execution_count": 810,
      "outputs": []
    },
    {
      "cell_type": "code",
      "execution_count": 811,
      "metadata": {
        "id": "hnPsHmF2ffWp",
        "colab": {
          "base_uri": "https://localhost:8080/"
        },
        "outputId": "0c3e3f60-2daf-4d49-f91d-0dc49fb6d0c4"
      },
      "outputs": [
        {
          "output_type": "execute_result",
          "data": {
            "text/plain": [
              "5      48302\n",
              "4       6196\n",
              "NaN     4940\n",
              "7       1986\n",
              "2       1718\n",
              "3        853\n",
              "6        259\n",
              "8         57\n",
              "9         54\n",
              "1          3\n",
              "Name: seats, dtype: int64"
            ]
          },
          "metadata": {},
          "execution_count": 811
        }
      ],
      "source": [
        "df.seats.value_counts(dropna=False)"
      ]
    },
    {
      "cell_type": "markdown",
      "metadata": {
        "id": "XI2e9o47ffWp"
      },
      "source": [
        "## doors"
      ]
    },
    {
      "cell_type": "code",
      "execution_count": 812,
      "metadata": {
        "id": "DeQs7hktffWp",
        "outputId": "a7065290-004d-4d79-b57a-80b10c349ba8",
        "colab": {
          "base_uri": "https://localhost:8080/"
        }
      },
      "outputs": [
        {
          "output_type": "execute_result",
          "data": {
            "text/plain": [
              "0.0"
            ]
          },
          "metadata": {},
          "execution_count": 812
        }
      ],
      "source": [
        "perc_nans(df.doors)"
      ]
    },
    {
      "cell_type": "code",
      "execution_count": 813,
      "metadata": {
        "id": "GCcY5YHmffWp",
        "outputId": "19c1ef0d-28e0-43c4-8386-dbd36c20d622",
        "colab": {
          "base_uri": "https://localhost:8080/"
        }
      },
      "outputs": [
        {
          "output_type": "execute_result",
          "data": {
            "text/plain": [
              "42631    \\n5\n",
              "29786    \\n5\n",
              "28445    \\n5\n",
              "29886    \\n5\n",
              "9219     \\n5\n",
              "65192    \\n5\n",
              "59404    \\n5\n",
              "43631    \\n5\n",
              "49781    \\n4\n",
              "65309    \\n5\n",
              "Name: doors, dtype: object"
            ]
          },
          "metadata": {},
          "execution_count": 813
        }
      ],
      "source": [
        "df.doors.sample(10)"
      ]
    },
    {
      "cell_type": "code",
      "execution_count": 814,
      "metadata": {
        "id": "AtwgGOZlffWp"
      },
      "outputs": [],
      "source": [
        "df.doors = df.doors.str.extract('(\\d)')"
      ]
    },
    {
      "cell_type": "code",
      "execution_count": 815,
      "metadata": {
        "id": "FfBChDllffWp",
        "outputId": "7e506ee5-2817-4fc7-95e3-87b36bf9e451",
        "colab": {
          "base_uri": "https://localhost:8080/"
        }
      },
      "outputs": [
        {
          "output_type": "execute_result",
          "data": {
            "text/plain": [
              "5      47683\n",
              "4       8631\n",
              "2       4659\n",
              "3       2272\n",
              "NaN     1044\n",
              "6         75\n",
              "1          4\n",
              "Name: doors, dtype: int64"
            ]
          },
          "metadata": {},
          "execution_count": 815
        }
      ],
      "source": [
        "df.doors.value_counts(dropna=False)"
      ]
    },
    {
      "cell_type": "markdown",
      "metadata": {
        "id": "ygf1lyjtffWp"
      },
      "source": [
        "## warranty"
      ]
    },
    {
      "cell_type": "code",
      "execution_count": 816,
      "metadata": {
        "id": "y4w7cOAFffWp",
        "outputId": "f286c23b-0952-4a17-d1cc-2016306f1c92",
        "colab": {
          "base_uri": "https://localhost:8080/"
        }
      },
      "outputs": [
        {
          "output_type": "execute_result",
          "data": {
            "text/plain": [
              "\\n,None,\\n         41751\n",
              "\\n,6 months,\\n     17683\n",
              "\\n,3 months,\\n      1767\n",
              "\\n,12 months,\\n     1467\n",
              "\\n,24 months,\\n     1142\n",
              "\\n,84 months,\\n      252\n",
              "\\n,1 months,\\n       232\n",
              "\\n,18 months,\\n       34\n",
              "\\n,36 months,\\n       15\n",
              "\\n,2 months,\\n         8\n",
              "\\n,48 months,\\n        7\n",
              "\\n,Yes,\\n              3\n",
              "\\n,60 months,\\n        2\n",
              "\\n,9 months,\\n         1\n",
              "\\n,26 months,\\n        1\n",
              "\\n,4 months,\\n         1\n",
              "\\n,5 months,\\n         1\n",
              "\\n,10 months,\\n        1\n",
              "Name: warranty, dtype: int64"
            ]
          },
          "metadata": {},
          "execution_count": 816
        }
      ],
      "source": [
        "df.warranty.value_counts()"
      ]
    },
    {
      "cell_type": "code",
      "source": [
        "df.warranty = df.warranty.replace('\\n,Yes,\\n','\\n,1 months,\\n')"
      ],
      "metadata": {
        "id": "pLdyTqQbST_0"
      },
      "execution_count": 817,
      "outputs": []
    },
    {
      "cell_type": "code",
      "execution_count": 818,
      "metadata": {
        "id": "RHQLjC22ffWq"
      },
      "outputs": [],
      "source": [
        "df.warranty = df.warranty.str.extract(',(\\d*) months')"
      ]
    },
    {
      "cell_type": "code",
      "execution_count": 819,
      "metadata": {
        "id": "YvKp7yTHffWq",
        "outputId": "29169870-6779-46bf-f8f8-fc58049f2a8f",
        "colab": {
          "base_uri": "https://localhost:8080/"
        }
      },
      "outputs": [
        {
          "output_type": "execute_result",
          "data": {
            "text/plain": [
              "NaN    41751\n",
              "6      17683\n",
              "3       1767\n",
              "12      1467\n",
              "24      1142\n",
              "84       252\n",
              "1        235\n",
              "18        34\n",
              "36        15\n",
              "2          8\n",
              "48         7\n",
              "60         2\n",
              "26         1\n",
              "4          1\n",
              "10         1\n",
              "9          1\n",
              "5          1\n",
              "Name: warranty, dtype: int64"
            ]
          },
          "metadata": {},
          "execution_count": 819
        }
      ],
      "source": [
        "df.warranty.value_counts(dropna=False)"
      ]
    },
    {
      "cell_type": "code",
      "execution_count": 820,
      "metadata": {
        "id": "uF-sdos_ffWq",
        "outputId": "9d4bf153-7280-4443-a471-45622703903b",
        "colab": {
          "base_uri": "https://localhost:8080/"
        }
      },
      "outputs": [
        {
          "output_type": "execute_result",
          "data": {
            "text/plain": [
              "Index(['location', 'price', 'mileage', 'gearbox', 'fuel_type', 'power',\n",
              "       'seller', 'body_type', 'type', 'drivetrain', 'seats', 'doors',\n",
              "       'warranty', 'general_inspection', 'full_service_history',\n",
              "       'non_smoker_vehicle', 'engine_size', 'gears', 'cylinders',\n",
              "       'empty_weight', 'fuel_consumption', 'co2_emissions', 'emission_class',\n",
              "       'comfort_convenience', 'entertainment_media', 'safety_security',\n",
              "       'extras', 'colour', 'paint', 'upholstery_colour', 'upholstery',\n",
              "       'make_model', 'age'],\n",
              "      dtype='object')"
            ]
          },
          "metadata": {},
          "execution_count": 820
        }
      ],
      "source": [
        "# perc_nans(df.warranty)\n",
        "df.columns"
      ]
    },
    {
      "cell_type": "markdown",
      "metadata": {
        "id": "yR7m76reffWr"
      },
      "source": [
        "## Make"
      ]
    },
    {
      "cell_type": "code",
      "execution_count": null,
      "metadata": {
        "id": "UWEHMGHDffWr",
        "outputId": "cebe34f7-9962-47bb-9b73-0d9c635d872f"
      },
      "outputs": [
        {
          "data": {
            "text/plain": [
              "10749       \\nOpel\\n\n",
              "11931       \\nOpel\\n\n",
              "8865        \\nOpel\\n\n",
              "1995        \\nAudi\\n\n",
              "4941        \\nAudi\\n\n",
              "1714        \\nAudi\\n\n",
              "4285        \\nAudi\\n\n",
              "2840        \\nAudi\\n\n",
              "14577    \\nRenault\\n\n",
              "3885        \\nAudi\\n\n",
              "7884        \\nOpel\\n\n",
              "3607        \\nAudi\\n\n",
              "9717        \\nOpel\\n\n",
              "11499       \\nOpel\\n\n",
              "3900        \\nAudi\\n\n",
              "12408       \\nOpel\\n\n",
              "15757    \\nRenault\\n\n",
              "13667    \\nRenault\\n\n",
              "967         \\nAudi\\n\n",
              "7196        \\nOpel\\n\n",
              "Name: Make, dtype: object"
            ]
          },
          "execution_count": 52,
          "metadata": {},
          "output_type": "execute_result"
        }
      ],
      "source": [
        "df.Make.sample(20)"
      ]
    },
    {
      "cell_type": "code",
      "execution_count": null,
      "metadata": {
        "id": "-BxRtPXnffWr"
      },
      "outputs": [],
      "source": [
        "df.Make= df.Make.str.strip('\\n')"
      ]
    },
    {
      "cell_type": "code",
      "execution_count": null,
      "metadata": {
        "id": "8MvHLeXdffWr",
        "outputId": "0bf3bc79-d561-45b5-8422-b3858d5f761e"
      },
      "outputs": [
        {
          "data": {
            "text/plain": [
              "Opel       7343\n",
              "Audi       5712\n",
              "Renault    2864\n",
              "Name: Make, dtype: int64"
            ]
          },
          "execution_count": 54,
          "metadata": {},
          "output_type": "execute_result"
        }
      ],
      "source": [
        "df.Make.value_counts(dropna=False)"
      ]
    },
    {
      "cell_type": "markdown",
      "metadata": {
        "id": "qxBFivksffWr"
      },
      "source": [
        "## Model"
      ]
    },
    {
      "cell_type": "code",
      "execution_count": null,
      "metadata": {
        "id": "7Gjwr8IOffWs",
        "outputId": "da381b4e-349a-4aa5-d7e3-c31e70ba9f40"
      },
      "outputs": [
        {
          "data": {
            "text/plain": [
              "9622        [\\n, Corsa, \\n]\n",
              "5943        [\\n, Astra, \\n]\n",
              "8444        [\\n, Corsa, \\n]\n",
              "14870        [\\n, Clio, \\n]\n",
              "12907    [\\n, Insignia, \\n]\n",
              "6459        [\\n, Astra, \\n]\n",
              "9062        [\\n, Corsa, \\n]\n",
              "11479    [\\n, Insignia, \\n]\n",
              "3669           [\\n, A3, \\n]\n",
              "3545           [\\n, A3, \\n]\n",
              "9610        [\\n, Corsa, \\n]\n",
              "15665      [\\n, Espace, \\n]\n",
              "15839      [\\n, Espace, \\n]\n",
              "13637        [\\n, Clio, \\n]\n",
              "11599    [\\n, Insignia, \\n]\n",
              "940            [\\n, A1, \\n]\n",
              "1211           [\\n, A1, \\n]\n",
              "913            [\\n, A1, \\n]\n",
              "1687           [\\n, A1, \\n]\n",
              "10742    [\\n, Insignia, \\n]\n",
              "Name: Model, dtype: object"
            ]
          },
          "execution_count": 55,
          "metadata": {},
          "output_type": "execute_result"
        }
      ],
      "source": [
        "df.Model.sample(20)"
      ]
    },
    {
      "cell_type": "code",
      "execution_count": null,
      "metadata": {
        "id": "YYehECJpffWs"
      },
      "outputs": [],
      "source": [
        "df.Modal = df.Model.str[1]"
      ]
    },
    {
      "cell_type": "code",
      "execution_count": null,
      "metadata": {
        "id": "mag-PPWqffWs",
        "outputId": "418f102c-b781-4446-866a-87d7c5c42484"
      },
      "outputs": [
        {
          "data": {
            "text/plain": [
              "A3          3097\n",
              "A1          2614\n",
              "Insignia    2598\n",
              "Astra       2526\n",
              "Corsa       2219\n",
              "Clio        1839\n",
              "Espace       991\n",
              "Duster        34\n",
              "A2             1\n",
              "Name: Model, dtype: int64"
            ]
          },
          "execution_count": 57,
          "metadata": {},
          "output_type": "execute_result"
        }
      ],
      "source": [
        "df.Modal.value_counts(dropna=False)"
      ]
    },
    {
      "cell_type": "markdown",
      "metadata": {
        "id": "Fbzdt86lffWt"
      },
      "source": [
        "## Body_Color"
      ]
    },
    {
      "cell_type": "code",
      "execution_count": null,
      "metadata": {
        "id": "YCh7q9r2ffWt",
        "outputId": "1c196484-5b79-43b3-afc6-56dc863e4a73"
      },
      "outputs": [
        {
          "data": {
            "text/plain": [
              "0        [\\n, Black, \\n]\n",
              "1          [\\n, Red, \\n]\n",
              "2        [\\n, Black, \\n]\n",
              "3        [\\n, Brown, \\n]\n",
              "4        [\\n, Black, \\n]\n",
              "              ...       \n",
              "15914     [\\n, Grey, \\n]\n",
              "15915     [\\n, Grey, \\n]\n",
              "15916    [\\n, White, \\n]\n",
              "15917     [\\n, Grey, \\n]\n",
              "15918     [\\n, Grey, \\n]\n",
              "Name: Body_Color, Length: 15919, dtype: object"
            ]
          },
          "execution_count": 64,
          "metadata": {},
          "output_type": "execute_result"
        }
      ],
      "source": [
        "df.Body_Color"
      ]
    },
    {
      "cell_type": "code",
      "execution_count": null,
      "metadata": {
        "id": "AswCbTMgffWt"
      },
      "outputs": [],
      "source": [
        "df.Body_Color= df.Body_Color.str[1]"
      ]
    },
    {
      "cell_type": "code",
      "execution_count": null,
      "metadata": {
        "id": "Zw_u2Y26ffWt",
        "outputId": "2e86f99d-5d0c-4a74-9101-cf984d3f781c"
      },
      "outputs": [
        {
          "data": {
            "text/plain": [
              "Black     3745\n",
              "Grey      3505\n",
              "White     3406\n",
              "Silver    1647\n",
              "Blue      1431\n",
              "Red        957\n",
              "NaN        597\n",
              "Brown      289\n",
              "Green      154\n",
              "Beige      108\n",
              "Yellow      51\n",
              "Violet      18\n",
              "Bronze       6\n",
              "Orange       3\n",
              "Gold         2\n",
              "Name: Body_Color, dtype: int64"
            ]
          },
          "execution_count": 66,
          "metadata": {},
          "output_type": "execute_result"
        }
      ],
      "source": [
        "df.Body_Color.value_counts(dropna=False)"
      ]
    },
    {
      "cell_type": "markdown",
      "metadata": {
        "id": "9uIzR1HSffWt"
      },
      "source": [
        "## Paint_Type"
      ]
    },
    {
      "cell_type": "code",
      "execution_count": null,
      "metadata": {
        "id": "Lk09TkGrffWt"
      },
      "outputs": [],
      "source": [
        "df.Paint_Type = df.Paint_Type.str[0].str.strip('\\n')"
      ]
    },
    {
      "cell_type": "code",
      "execution_count": null,
      "metadata": {
        "id": "1vi2M1myffWt",
        "outputId": "5182c42f-db06-44d2-9c5a-591b7bce01ab"
      },
      "outputs": [
        {
          "data": {
            "text/plain": [
              "Metallic       9794\n",
              "NaN            5772\n",
              "Uni/basic       347\n",
              "Perl effect       6\n",
              "Name: Paint_Type, dtype: int64"
            ]
          },
          "execution_count": 68,
          "metadata": {},
          "output_type": "execute_result"
        }
      ],
      "source": [
        "df.Paint_Type.value_counts(dropna=False)"
      ]
    },
    {
      "cell_type": "markdown",
      "metadata": {
        "id": "Ov1NFK5CffWt"
      },
      "source": [
        "## Upholstery"
      ]
    },
    {
      "cell_type": "code",
      "execution_count": null,
      "metadata": {
        "id": "FuYy1enuffWu",
        "outputId": "1b8646c8-b81c-40ab-f65b-84eb48ea429e"
      },
      "outputs": [
        {
          "data": {
            "text/plain": [
              "7440      [\\nCloth, Grey\\n]\n",
              "9569                    NaN\n",
              "6386     [\\nCloth, Black\\n]\n",
              "14657    [\\nCloth, Black\\n]\n",
              "4410                    NaN\n",
              "14825    [\\nCloth, Black\\n]\n",
              "8720     [\\nCloth, Black\\n]\n",
              "13952                   NaN\n",
              "172      [\\nOther, Black\\n]\n",
              "14829    [\\nCloth, Black\\n]\n",
              "Name: Upholstery, dtype: object"
            ]
          },
          "execution_count": 69,
          "metadata": {},
          "output_type": "execute_result"
        }
      ],
      "source": [
        "df.Upholstery.sample(10)"
      ]
    },
    {
      "cell_type": "code",
      "execution_count": null,
      "metadata": {
        "id": "Zsr2datwffWu"
      },
      "outputs": [],
      "source": [
        "df.Upholstery = df.Upholstery.apply(lambda x : x[0] if type(x)==list else x)"
      ]
    },
    {
      "cell_type": "code",
      "execution_count": null,
      "metadata": {
        "id": "CvGfQv6mffWu",
        "outputId": "0afff5ec-17f8-493c-cdbe-d0886fac76c3"
      },
      "outputs": [
        {
          "data": {
            "text/plain": [
              "3318         \\nFull leather\\n\n",
              "12069        \\nCloth, Black\\n\n",
              "10420                     NaN\n",
              "7721                \\nBlack\\n\n",
              "6667                      NaN\n",
              "13766        \\nCloth, Black\\n\n",
              "12775    \\nalcantara, Black\\n\n",
              "10330        \\nCloth, Black\\n\n",
              "3306                      NaN\n",
              "10174        \\nCloth, Black\\n\n",
              "Name: Upholstery, dtype: object"
            ]
          },
          "execution_count": 71,
          "metadata": {},
          "output_type": "execute_result"
        }
      ],
      "source": [
        "df.Upholstery.sample(10)"
      ]
    },
    {
      "cell_type": "code",
      "execution_count": null,
      "metadata": {
        "id": "AzkWSsazffWu"
      },
      "outputs": [],
      "source": [
        "df.Upholstery = df.Upholstery.str.strip(\"\\n\").str.split(\", \")"
      ]
    },
    {
      "cell_type": "code",
      "execution_count": null,
      "metadata": {
        "id": "8071SLBVffWu",
        "outputId": "776373af-9303-4292-b9f3-4989577fb5ba"
      },
      "outputs": [
        {
          "data": {
            "text/plain": [
              "6847                       NaN\n",
              "5194            [Cloth, Other]\n",
              "15756    [Part leather, Brown]\n",
              "12991           [Cloth, Other]\n",
              "5555                   [Cloth]\n",
              "3631                       NaN\n",
              "11421                  [Black]\n",
              "838                        NaN\n",
              "13626                  [Black]\n",
              "3365            [Cloth, Black]\n",
              "Name: Upholstery, dtype: object"
            ]
          },
          "execution_count": 73,
          "metadata": {},
          "output_type": "execute_result"
        }
      ],
      "source": [
        "df.Upholstery.sample(10)"
      ]
    },
    {
      "cell_type": "code",
      "execution_count": null,
      "metadata": {
        "id": "B0je26fpffWu",
        "outputId": "1e745c60-8c31-4cdc-e7ce-1c7d67ec2a36"
      },
      "outputs": [
        {
          "ename": "TypeError",
          "evalue": "unhashable type: 'list'",
          "output_type": "error",
          "traceback": [
            "\u001b[1;31m---------------------------------------------------------------------------\u001b[0m",
            "\u001b[1;31mTypeError\u001b[0m                                 Traceback (most recent call last)",
            "\u001b[1;32mpandas\\_libs\\hashtable_class_helper.pxi\u001b[0m in \u001b[0;36mpandas._libs.hashtable.PyObjectHashTable.map_locations\u001b[1;34m()\u001b[0m\n",
            "\u001b[1;31mTypeError\u001b[0m: unhashable type: 'list'"
          ]
        },
        {
          "name": "stderr",
          "output_type": "stream",
          "text": [
            "Exception ignored in: 'pandas._libs.index.IndexEngine._call_map_locations'\n",
            "Traceback (most recent call last):\n",
            "  File \"pandas\\_libs\\hashtable_class_helper.pxi\", line 1709, in pandas._libs.hashtable.PyObjectHashTable.map_locations\n",
            "TypeError: unhashable type: 'list'\n"
          ]
        },
        {
          "data": {
            "text/plain": [
              "[Cloth, Black]           5821\n",
              "NaN                      3720\n",
              "[Part leather, Black]    1121\n",
              "[Cloth]                  1005\n",
              "[Cloth, Grey]             891\n",
              "[Cloth, Other]            639\n",
              "[Full leather, Black]     575\n",
              "[Black]                   491\n",
              "[Grey]                    273\n",
              "[Other, Other]            182\n",
              "[Part leather]            140\n",
              "[Full leather]            139\n",
              "[Full leather, Brown]     116\n",
              "[Part leather, Grey]      116\n",
              "[Other, Black]            110\n",
              "[Full leather, Other]      72\n",
              "[Full leather, Grey]       67\n",
              "[Part leather, Other]      65\n",
              "[Other]                    56\n",
              "[Part leather, Brown]      50\n",
              "[alcantara, Black]         47\n",
              "[Velour, Black]            36\n",
              "[Full leather, Beige]      36\n",
              "[Cloth, Brown]             28\n",
              "[Velour]                   16\n",
              "[Other, Grey]              15\n",
              "[Cloth, Beige]             13\n",
              "[Cloth, Blue]              12\n",
              "[Brown]                    12\n",
              "[Velour, Grey]              8\n",
              "[Cloth, White]              8\n",
              "[alcantara, Grey]           6\n",
              "[Cloth, Red]                5\n",
              "[Other, Yellow]             4\n",
              "[Beige]                     3\n",
              "[Part leather, Red]         3\n",
              "[Part leather, Beige]       2\n",
              "[Full leather, Blue]        2\n",
              "[alcantara]                 2\n",
              "[White]                     2\n",
              "[Part leather, White]       2\n",
              "[alcantara, Other]          2\n",
              "[Blue]                      2\n",
              "[Other, Brown]              1\n",
              "[Full leather, Red]         1\n",
              "[Full leather, White]       1\n",
              "[Cloth, Orange]             1\n",
              "Name: Upholstery, dtype: int64"
            ]
          },
          "execution_count": 74,
          "metadata": {},
          "output_type": "execute_result"
        }
      ],
      "source": [
        "df.Upholstery.value_counts(dropna=False)"
      ]
    },
    {
      "cell_type": "markdown",
      "metadata": {
        "id": "PM_kz67BffWu"
      },
      "source": [
        "    >> It has 2 types of infos. kind and color. we will create 2 new columns for these.\n",
        "\n",
        "    >> We divide it into 5 categories to find out what kind of material it is made of."
      ]
    },
    {
      "cell_type": "code",
      "execution_count": null,
      "metadata": {
        "id": "yQFBUbK-ffWv"
      },
      "outputs": [],
      "source": [
        "types = [\"Cloth\",'Part leather', 'Full leather','Velour', 'alcantara']\n",
        "df['Upholstery_Type'] = df.Upholstery.apply(lambda x : x[0] if type(x) == list and x[0] in types else np.nan)"
      ]
    },
    {
      "cell_type": "code",
      "execution_count": null,
      "metadata": {
        "id": "3L_BBwyuffWv",
        "outputId": "24b9d7c0-2bcb-47a1-b6f2-c472a361257a"
      },
      "outputs": [
        {
          "data": {
            "text/plain": [
              "Cloth           8423\n",
              "NaN             4871\n",
              "Part leather    1499\n",
              "Full leather    1009\n",
              "Velour            60\n",
              "alcantara         57\n",
              "Name: Upholstery_Type, dtype: int64"
            ]
          },
          "execution_count": 76,
          "metadata": {},
          "output_type": "execute_result"
        }
      ],
      "source": [
        "df.Upholstery_Type.value_counts(dropna=False)"
      ]
    },
    {
      "cell_type": "markdown",
      "metadata": {
        "id": "Iq2l48x5ffWv"
      },
      "source": [
        "    >> We divide it into 9 categories to find out what colour Upholstery has."
      ]
    },
    {
      "cell_type": "code",
      "execution_count": null,
      "metadata": {
        "id": "30td5ncpffWv"
      },
      "outputs": [],
      "source": [
        "colors = ['Black', 'Grey', 'Brown', 'Beige', 'White', 'Blue', 'Red', 'Yellow', 'Orange']\n",
        "\n",
        "def finder(x):\n",
        "    if type(x) == list and len(x) == 2:\n",
        "        return x[1]\n",
        "    elif type(x) == list and x[0] in colors:\n",
        "        return x[0]\n",
        "    else:\n",
        "        return np.nan\n",
        "    \n",
        "df['Upholstery_Color']= df.Upholstery.apply(finder)"
      ]
    },
    {
      "cell_type": "code",
      "execution_count": null,
      "metadata": {
        "id": "4l1IYgrvffWv",
        "outputId": "63ebffea-5ff4-4c03-fd8d-d00c7244ad07"
      },
      "outputs": [
        {
          "data": {
            "text/plain": [
              "Black     8201\n",
              "NaN       5078\n",
              "Grey      1376\n",
              "Other      960\n",
              "Brown      207\n",
              "Beige       54\n",
              "Blue        16\n",
              "White       13\n",
              "Red          9\n",
              "Yellow       4\n",
              "Orange       1\n",
              "Name: Upholstery_Color, dtype: int64"
            ]
          },
          "execution_count": 78,
          "metadata": {},
          "output_type": "execute_result"
        }
      ],
      "source": [
        "df.Upholstery_Color.value_counts(dropna=False)"
      ]
    },
    {
      "cell_type": "code",
      "execution_count": null,
      "metadata": {
        "id": "P1p4DcaiffWv"
      },
      "outputs": [],
      "source": [
        "df.drop(\"Upholstery\", axis=1, inplace=True)"
      ]
    },
    {
      "cell_type": "markdown",
      "metadata": {
        "id": "BVMNB1i4ffWv"
      },
      "source": [
        "## Nr_of_Doors"
      ]
    },
    {
      "cell_type": "code",
      "execution_count": null,
      "metadata": {
        "id": "VI-PsFGrffWv",
        "outputId": "8e182683-ee07-492d-c098-6c10a0735716"
      },
      "outputs": [
        {
          "data": {
            "text/plain": [
              "3391     [\\n5\\n]\n",
              "7059     [\\n5\\n]\n",
              "13084    [\\n5\\n]\n",
              "12311    [\\n4\\n]\n",
              "7223     [\\n5\\n]\n",
              "1219     [\\n5\\n]\n",
              "12035    [\\n5\\n]\n",
              "15726    [\\n5\\n]\n",
              "13421    [\\n5\\n]\n",
              "7147     [\\n5\\n]\n",
              "Name: Nr_of_Doors, dtype: object"
            ]
          },
          "execution_count": 80,
          "metadata": {},
          "output_type": "execute_result"
        }
      ],
      "source": [
        " df.Nr_of_Doors.sample(10)"
      ]
    },
    {
      "cell_type": "code",
      "execution_count": null,
      "metadata": {
        "id": "BYYo-As3ffWv"
      },
      "outputs": [],
      "source": [
        "df.Nr_of_Doors = df.Nr_of_Doors.str[0].str.strip('\\n').astype('float')"
      ]
    },
    {
      "cell_type": "code",
      "execution_count": null,
      "metadata": {
        "id": "2HxO2FizffWw",
        "outputId": "5a78a948-b65b-45db-b6d5-b0885af41591"
      },
      "outputs": [
        {
          "data": {
            "text/plain": [
              "5.0    11575\n",
              "4.0     3079\n",
              "3.0      832\n",
              "2.0      219\n",
              "NaN      212\n",
              "7.0        1\n",
              "1.0        1\n",
              "Name: Nr_of_Doors, dtype: int64"
            ]
          },
          "execution_count": 82,
          "metadata": {},
          "output_type": "execute_result"
        }
      ],
      "source": [
        "df.Nr_of_Doors.value_counts(dropna=False)"
      ]
    },
    {
      "cell_type": "markdown",
      "metadata": {
        "id": "1pJV0XryffWw"
      },
      "source": [
        "## Nr_of_Seats"
      ]
    },
    {
      "cell_type": "code",
      "execution_count": null,
      "metadata": {
        "id": "jSsBmw7qffWw",
        "outputId": "c1a78e2f-57f7-41a1-875b-cac9b4871449"
      },
      "outputs": [
        {
          "data": {
            "text/plain": [
              "10368    [\\n5\\n]\n",
              "5854     [\\n5\\n]\n",
              "8057     [\\n5\\n]\n",
              "7219     [\\n5\\n]\n",
              "6692     [\\n5\\n]\n",
              "6989     [\\n5\\n]\n",
              "8402     [\\n5\\n]\n",
              "15208    [\\n5\\n]\n",
              "10952    [\\n5\\n]\n",
              "13440    [\\n5\\n]\n",
              "Name: Nr_of_Seats, dtype: object"
            ]
          },
          "execution_count": 83,
          "metadata": {},
          "output_type": "execute_result"
        }
      ],
      "source": [
        "df.Nr_of_Seats.sample(10)"
      ]
    },
    {
      "cell_type": "code",
      "execution_count": null,
      "metadata": {
        "id": "o6aP0lkAffWw"
      },
      "outputs": [],
      "source": [
        "df.Nr_of_Seats = df.Nr_of_Seats.str[0].str.strip('\\n').astype('float')"
      ]
    },
    {
      "cell_type": "code",
      "execution_count": null,
      "metadata": {
        "id": "sYTiOcAoffWw",
        "outputId": "1cb22790-87d1-44bb-8d75-b8820fd7b22d"
      },
      "outputs": [
        {
          "data": {
            "text/plain": [
              "5.0    13336\n",
              "4.0     1125\n",
              "NaN      977\n",
              "7.0      362\n",
              "2.0      116\n",
              "6.0        2\n",
              "3.0        1\n",
              "Name: Nr_of_Seats, dtype: int64"
            ]
          },
          "execution_count": 85,
          "metadata": {},
          "output_type": "execute_result"
        }
      ],
      "source": [
        "df.Nr_of_Seats.value_counts(dropna=False)"
      ]
    },
    {
      "cell_type": "markdown",
      "metadata": {
        "id": "2pl6kldFffWx"
      },
      "source": [
        "## Displacement"
      ]
    },
    {
      "cell_type": "markdown",
      "metadata": {
        "id": "Vvec2A39ffWx"
      },
      "source": [
        "    >> Engine displacement is the measure of the cylinder volume."
      ]
    },
    {
      "cell_type": "code",
      "execution_count": null,
      "metadata": {
        "id": "hw7IbcYbffWx",
        "outputId": "f58b72b7-c386-4c12-a1d9-daf3e4d417b7"
      },
      "outputs": [
        {
          "data": {
            "text/plain": [
              "15276    [\\n1,598 cc\\n]\n",
              "3658     [\\n1,598 cc\\n]\n",
              "11150    [\\n1,598 cc\\n]\n",
              "14419    [\\n1,618 cc\\n]\n",
              "13109    [\\n1,197 cc\\n]\n",
              "15322    [\\n1,598 cc\\n]\n",
              "9870     [\\n1,398 cc\\n]\n",
              "2792     [\\n1,598 cc\\n]\n",
              "4272     [\\n1,968 cc\\n]\n",
              "3454     [\\n1,598 cc\\n]\n",
              "Name: Displacement, dtype: object"
            ]
          },
          "execution_count": 89,
          "metadata": {},
          "output_type": "execute_result"
        }
      ],
      "source": [
        "df.Displacement.sample(10)"
      ]
    },
    {
      "cell_type": "code",
      "execution_count": null,
      "metadata": {
        "id": "1G6EuaTaffWy"
      },
      "outputs": [],
      "source": [
        "df.Displacement = df.Displacement.str[0].str.strip('\\n').str.replace(',','').str.extract('(\\d{1,5})')[0].astype(\"float\")"
      ]
    },
    {
      "cell_type": "markdown",
      "metadata": {
        "id": "xOpLstxYffWy"
      },
      "source": [
        "## Cylinders"
      ]
    },
    {
      "cell_type": "code",
      "execution_count": null,
      "metadata": {
        "id": "lTgvkcYHffWy",
        "outputId": "f10c8826-2659-41a5-becf-c9b69179aaf1"
      },
      "outputs": [
        {
          "data": {
            "text/plain": [
              "12377        NaN\n",
              "5116     [\\n4\\n]\n",
              "926      [\\n3\\n]\n",
              "4645         NaN\n",
              "2339         NaN\n",
              "12428        NaN\n",
              "15332    [\\n4\\n]\n",
              "13472        NaN\n",
              "1827     [\\n3\\n]\n",
              "11815        NaN\n",
              "Name: Cylinders, dtype: object"
            ]
          },
          "execution_count": 91,
          "metadata": {},
          "output_type": "execute_result"
        }
      ],
      "source": [
        "df.Cylinders.sample(10)"
      ]
    },
    {
      "cell_type": "code",
      "execution_count": null,
      "metadata": {
        "id": "2XkrN1ycffWy"
      },
      "outputs": [],
      "source": [
        "df.Cylinders= df.Cylinders.str[0].str.strip('\\n').astype(\"float\")"
      ]
    },
    {
      "cell_type": "code",
      "execution_count": null,
      "metadata": {
        "id": "8MGOJ1TGffWy",
        "outputId": "de9d4ecc-f65a-4052-f7c9-f14b223495e4"
      },
      "outputs": [
        {
          "data": {
            "text/plain": [
              "4.0    8105\n",
              "NaN    5680\n",
              "3.0    2104\n",
              "5.0      22\n",
              "6.0       3\n",
              "2.0       2\n",
              "8.0       2\n",
              "1.0       1\n",
              "Name: Cylinders, dtype: int64"
            ]
          },
          "execution_count": 93,
          "metadata": {},
          "output_type": "execute_result"
        }
      ],
      "source": [
        "df.Cylinders.value_counts(dropna=False)"
      ]
    },
    {
      "cell_type": "markdown",
      "metadata": {
        "id": "5u7VChzxffWy"
      },
      "source": [
        "## Weight"
      ]
    },
    {
      "cell_type": "code",
      "execution_count": null,
      "metadata": {
        "id": "bZg92oMHffWy",
        "outputId": "5c4cf59a-da3e-44d6-8c03-94fbed1c6cf0"
      },
      "outputs": [
        {
          "data": {
            "text/plain": [
              "6863                NaN\n",
              "7950                NaN\n",
              "772      [\\n1,275 kg\\n]\n",
              "15258    [\\n1,734 kg\\n]\n",
              "12739    [\\n1,503 kg\\n]\n",
              "7894                NaN\n",
              "3155     [\\n1,865 kg\\n]\n",
              "4977     [\\n1,335 kg\\n]\n",
              "3196                NaN\n",
              "3706                NaN\n",
              "Name: Weight, dtype: object"
            ]
          },
          "execution_count": 94,
          "metadata": {},
          "output_type": "execute_result"
        }
      ],
      "source": [
        "df.Weight.sample(10)"
      ]
    },
    {
      "cell_type": "code",
      "execution_count": null,
      "metadata": {
        "id": "y1jPU1X7ffWz"
      },
      "outputs": [],
      "source": [
        "df.Weight= df.Weight.str[0].str.strip('\\n').str.replace(',','').str.extract('(\\d{1,6})')[0].astype('float')"
      ]
    },
    {
      "cell_type": "code",
      "execution_count": null,
      "metadata": {
        "id": "pMCNKoIMffWz",
        "outputId": "e76682a1-7d0c-4700-f46c-6c1a4e681ce5"
      },
      "outputs": [
        {
          "data": {
            "text/plain": [
              "NaN       6974\n",
              "1163.0     574\n",
              "1360.0     356\n",
              "1165.0     301\n",
              "1335.0     242\n",
              "          ... \n",
              "900.0        1\n",
              "1650.0       1\n",
              "1428.0       1\n",
              "2355.0       1\n",
              "1523.0       1\n",
              "Name: Weight, Length: 435, dtype: int64"
            ]
          },
          "execution_count": 96,
          "metadata": {},
          "output_type": "execute_result"
        }
      ],
      "source": [
        "df.Weight.value_counts(dropna=False)"
      ]
    },
    {
      "cell_type": "markdown",
      "metadata": {
        "id": "urvOjL8IffWz"
      },
      "source": [
        "## Drive_Chain"
      ]
    },
    {
      "cell_type": "code",
      "execution_count": null,
      "metadata": {
        "id": "9cZL3wlpffWz",
        "outputId": "f1d1142f-392c-4015-fcdc-5838eafde793"
      },
      "outputs": [
        {
          "data": {
            "text/plain": [
              "12741    [\\nfront\\n]\n",
              "14527    [\\nfront\\n]\n",
              "13860    [\\nfront\\n]\n",
              "2661     [\\nfront\\n]\n",
              "3270     [\\nfront\\n]\n",
              "7198             NaN\n",
              "4493     [\\nfront\\n]\n",
              "15615    [\\nfront\\n]\n",
              "12726            NaN\n",
              "6011     [\\nfront\\n]\n",
              "Name: Drive_Chain, dtype: object"
            ]
          },
          "execution_count": 97,
          "metadata": {},
          "output_type": "execute_result"
        }
      ],
      "source": [
        "df.Drive_Chain.sample(10)"
      ]
    },
    {
      "cell_type": "code",
      "execution_count": null,
      "metadata": {
        "id": "f8ryHNkbffWz"
      },
      "outputs": [],
      "source": [
        "df.Drive_Chain= df.Drive_Chain.str[0].str.strip('\\n')"
      ]
    },
    {
      "cell_type": "code",
      "execution_count": null,
      "metadata": {
        "id": "8-6UbvLKffWz",
        "outputId": "e5a82fbd-219b-43b6-a234-e807835e7e9d"
      },
      "outputs": [
        {
          "data": {
            "text/plain": [
              "front    8886\n",
              "NaN      6858\n",
              "4WD       171\n",
              "rear        4\n",
              "Name: Drive_Chain, dtype: int64"
            ]
          },
          "execution_count": 99,
          "metadata": {},
          "output_type": "execute_result"
        }
      ],
      "source": [
        "df.Drive_Chain.value_counts(dropna=False)"
      ]
    },
    {
      "cell_type": "markdown",
      "metadata": {
        "id": "Tdm_WenIffWz"
      },
      "source": [
        "## Fuel"
      ]
    },
    {
      "cell_type": "code",
      "execution_count": null,
      "metadata": {
        "id": "NVocVl6effW0",
        "outputId": "eda61bdb-13d4-45bb-e270-167d68698f42"
      },
      "outputs": [
        {
          "data": {
            "text/plain": [
              "1575                        [\\n, Gasoline, \\n]\n",
              "2071                        [\\n, Gasoline, \\n]\n",
              "5963                          [\\n, Diesel, \\n]\n",
              "15519                         [\\n, Diesel, \\n]\n",
              "2179                        [\\n, Gasoline, \\n]\n",
              "10467    [\\n, Diesel (Particulate Filter), \\n]\n",
              "3465     [\\n, Diesel (Particulate Filter), \\n]\n",
              "13495                         [\\n, Diesel, \\n]\n",
              "5997                        [\\n, Super 95, \\n]\n",
              "3467     [\\n, Diesel (Particulate Filter), \\n]\n",
              "Name: Fuel, dtype: object"
            ]
          },
          "execution_count": 100,
          "metadata": {},
          "output_type": "execute_result"
        }
      ],
      "source": [
        "df.Fuel.sample(10)"
      ]
    },
    {
      "cell_type": "code",
      "execution_count": null,
      "metadata": {
        "id": "vvFiH74DffW0",
        "outputId": "b5d7ca52-78ad-4179-c287-a2794a3e69fb"
      },
      "outputs": [
        {
          "data": {
            "text/plain": [
              "array(['Diesel (Particulate Filter)', 'Gasoline', 'Super 95',\n",
              "       'Regular/Benzine 91', 'Diesel',\n",
              "       'Regular/Benzine 91 / Super Plus 98 / Regular/Benzine E10 91 / Super 95 / Super E10 95 / Super Plus E10 98',\n",
              "       'Super E10 95', 'Super 95 (Particulate Filter)',\n",
              "       'Super 95 / Regular/Benzine 91',\n",
              "       'Super 95 / Super Plus 98 / Super E10 95 / Super Plus E10 98',\n",
              "       'Super E10 95 / Super 95',\n",
              "       'Super 95 / Regular/Benzine 91 / Super Plus 98',\n",
              "       'Super 95 / Super Plus 98 / Super E10 95',\n",
              "       'Super 95 / Super Plus 98',\n",
              "       'Super 95 / Regular/Benzine 91 / Super E10 95 / Super Plus E10 98 / Super Plus 98 / Regular/Benzine E10 91',\n",
              "       'Others', 'Super 95 / Super E10 95',\n",
              "       'Gasoline (Particulate Filter)',\n",
              "       'Regular/Benzine E10 91 / Regular/Benzine 91 / Super 95 / Super Plus 98 / Super E10 95 / Super Plus E10 98',\n",
              "       'Super E10 95 / Super 95 / Super Plus 98 / Super Plus E10 98 (Particulate Filter)',\n",
              "       'Regular/Benzine E10 91',\n",
              "       'Super 95 / Super Plus 98 / Super Plus E10 98 / Super E10 95',\n",
              "       'Regular/Benzine 91 (Particulate Filter)',\n",
              "       'Super E10 95 (Particulate Filter)', 'Super Plus 98', 'CNG',\n",
              "       'Electric/Gasoline', 'CNG (Particulate Filter)',\n",
              "       'Others (Particulate Filter)',\n",
              "       'Super 95 / Super E10 95 (Particulate Filter)', 'Biogas',\n",
              "       'Super 95 / Biodiesel',\n",
              "       'Regular/Benzine 91 / Super 95 / Super Plus 98 / Regular/Benzine E10 91 / Super Plus E10 98 / Super E10 95',\n",
              "       'Super E10 95 / Super 95 / Super Plus 98 / Super Plus E10 98',\n",
              "       'Regular/Benzine 91 / Super 95 / Super Plus 98 / Super Plus E10 98 / Super E10 95 / Regular/Benzine E10 91 (Particulate Filter)',\n",
              "       'Regular/Benzine 91 / Super 95 / Super Plus 98',\n",
              "       'Regular/Benzine 91 / Super 95',\n",
              "       'Regular/Benzine 91 / Super 95 / Super Plus 98 / Regular/Benzine E10 91 / Super E10 95 / Super Plus E10 98',\n",
              "       'Super 95 / Regular/Benzine 91 / Super Plus 98 / Regular/Benzine E10 91 / Super E10 95 / Super Plus E10 98',\n",
              "       'Domestic gas H',\n",
              "       'Super 95 / Super E10 95 / Super Plus E10 98 / Super Plus 98',\n",
              "       'Regular/Benzine 91 / Regular/Benzine E10 91',\n",
              "       'Super E10 95 / Regular/Benzine 91 / Super 95 / Super Plus 98 / Regular/Benzine E10 91 / Super Plus E10 98',\n",
              "       'Super Plus E10 98 / Super 95 / Super Plus 98 / Super E10 95',\n",
              "       'Super 95 / Super Plus 98 (Particulate Filter)',\n",
              "       'Super Plus 98 / Super 95 / Super E10 95',\n",
              "       'Super 95 / Super Plus 98 / Super E10 95 / Super Plus E10 98 (Particulate Filter)',\n",
              "       'Super Plus E10 98',\n",
              "       'Regular/Benzine 91 / Super 95 / Regular/Benzine E10 91',\n",
              "       'Super Plus 98 / Super E10 95',\n",
              "       'Regular/Benzine 91 / Super 95 / Regular/Benzine E10 91 / Super E10 95 / Super Plus 98 / Super Plus E10 98',\n",
              "       'Super 95 / Regular/Benzine 91 / Super Plus 98 / Regular/Benzine E10 91 / Super Plus E10 98 / Super E10 95',\n",
              "       'LPG', 'Liquid petroleum gas (LPG)',\n",
              "       'Super 95 / Regular/Benzine 91 / Super E10 95 / Super Plus E10 98 / Super Plus 98',\n",
              "       'Regular/Benzine E10 91 / Super E10 95 / Super Plus E10 98 / Super Plus 98 / Super 95 / Regular/Benzine 91',\n",
              "       'Regular/Benzine 91 / Super 95 / Super E10 95',\n",
              "       'Super 95 / Regular/Benzine E10 91 / Super E10 95',\n",
              "       'Regular/Benzine 91 / Super 95 / Super E10 95 / Regular/Benzine E10 91',\n",
              "       'Super E10 95 / Super Plus E10 98',\n",
              "       'Super 95 / Regular/Benzine 91 / Super E10 95 / Super Plus 98 / Super Plus E10 98 / Regular/Benzine E10 91',\n",
              "       'Super E10 95 / Super 95 / Super Plus 98',\n",
              "       'Super E10 95 / Regular/Benzine 91 / Regular/Benzine E10 91 / Super 95',\n",
              "       'Super 95 / Regular/Benzine E10 91',\n",
              "       'Regular/Benzine 91 / Super 95 / Super Plus E10 98 / Super E10 95 / Regular/Benzine E10 91 / Super Plus 98',\n",
              "       'Regular/Benzine 91 / Super 95 / Super Plus 98 / Super Plus E10 98 / Super E10 95 / Regular/Benzine E10 91',\n",
              "       'Super 95 / Super E10 95 / Super Plus E10 98',\n",
              "       'Regular/Benzine 91 / Super 95 / Super E10 95 / Super Plus E10 98 / Super Plus 98 / Regular/Benzine E10 91',\n",
              "       'Super 95 / Super Plus 98 / Regular/Benzine E10 91 / Super Plus E10 98 / Super E10 95 / Regular/Benzine 91',\n",
              "       'Super Plus 98 / Regular/Benzine 91',\n",
              "       'Super 95 / Regular/Benzine 91 (Particulate Filter)',\n",
              "       'Super 95 / Super E10 95 / Regular/Benzine 91',\n",
              "       'Super 95 / Super E10 95 / Super Plus 98', 'Electric',\n",
              "       'Super E10 95 / Regular/Benzine 91',\n",
              "       'Super 95 / Super Plus 98 / Super Plus E10 98',\n",
              "       'Super Plus 98 / Super 95 / Super Plus E10 98'], dtype=object)"
            ]
          },
          "execution_count": 101,
          "metadata": {},
          "output_type": "execute_result"
        }
      ],
      "source": [
        "df.Fuel.str[1].unique()"
      ]
    },
    {
      "cell_type": "code",
      "execution_count": null,
      "metadata": {
        "id": "yi9xKnMZffW0",
        "outputId": "03c67ec6-846f-4bb0-a051-4c36b50e8c7f"
      },
      "outputs": [
        {
          "data": {
            "text/plain": [
              "0        Diesel (Particulate Filter)\n",
              "1                           Gasoline\n",
              "2        Diesel (Particulate Filter)\n",
              "3        Diesel (Particulate Filter)\n",
              "4        Diesel (Particulate Filter)\n",
              "                    ...             \n",
              "15914    Diesel (Particulate Filter)\n",
              "15915                       Super 95\n",
              "15916                         Diesel\n",
              "15917                         Diesel\n",
              "15918                       Super 95\n",
              "Name: Fuel, Length: 15919, dtype: object"
            ]
          },
          "execution_count": 102,
          "metadata": {},
          "output_type": "execute_result"
        }
      ],
      "source": [
        "df.Fuel.str[1].str.split(\"/\").str[0].str.strip()"
      ]
    },
    {
      "cell_type": "code",
      "execution_count": null,
      "metadata": {
        "id": "KsSy5M-qffW0"
      },
      "outputs": [],
      "source": [
        "df.Fuel = df.Fuel.str[1].str.split(\"/\").str[0].str.strip()"
      ]
    },
    {
      "cell_type": "code",
      "execution_count": null,
      "metadata": {
        "id": "8vRolbTPffW0",
        "outputId": "0e06de85-b7f2-4fd7-cbdf-a79fdd14fab4"
      },
      "outputs": [
        {
          "data": {
            "text/plain": [
              "0          Diesel\n",
              "1        Gasoline\n",
              "2          Diesel\n",
              "3          Diesel\n",
              "4          Diesel\n",
              "           ...   \n",
              "15914      Diesel\n",
              "15915    Super 95\n",
              "15916      Diesel\n",
              "15917      Diesel\n",
              "15918    Super 95\n",
              "Name: Fuel, Length: 15919, dtype: object"
            ]
          },
          "execution_count": 104,
          "metadata": {},
          "output_type": "execute_result"
        }
      ],
      "source": [
        "df.Fuel.str.split(\"(\").str[0].str.strip()"
      ]
    },
    {
      "cell_type": "code",
      "execution_count": null,
      "metadata": {
        "id": "KKMq4UCeffW0"
      },
      "outputs": [],
      "source": [
        "df.Fuel=df.Fuel.str.split(\"(\").str[0].str.strip()"
      ]
    },
    {
      "cell_type": "markdown",
      "metadata": {
        "id": "wOb3dbo1ffW0"
      },
      "source": [
        "    >> Group those with the same or close type of fuel to reduce complexity."
      ]
    },
    {
      "cell_type": "code",
      "execution_count": null,
      "metadata": {
        "id": "ri1EUdI8ffW0"
      },
      "outputs": [],
      "source": [
        "benzine = [\"Gasoline\", \"Super 95\",\"Regular\",\"Super E10 95\",\"Super Plus 98\",\"Super Plus E10 98\", \"Others\"]\n",
        "lpg = [\"LPG\",\"Liquid petroleum gas\", \"CNG\", \"Biogas\", \"Domestic gas H\"]"
      ]
    },
    {
      "cell_type": "code",
      "execution_count": null,
      "metadata": {
        "id": "LYa2IO0qffW1"
      },
      "outputs": [],
      "source": [
        "fueltype = lambda x : (\"Benzine\"*(x in benzine)) or (\"LPG/CNG\"*(x in lpg)) or x"
      ]
    },
    {
      "cell_type": "code",
      "execution_count": null,
      "metadata": {
        "id": "mmngOP4tffW1",
        "outputId": "6a2df7a9-5c42-4eca-90fd-94da4f3a0a8d"
      },
      "outputs": [
        {
          "data": {
            "text/plain": [
              "array(['Diesel', 'Benzine', 'LPG/CNG', 'Electric'], dtype=object)"
            ]
          },
          "execution_count": 108,
          "metadata": {},
          "output_type": "execute_result"
        }
      ],
      "source": [
        "df.Fuel.apply(fueltype).unique()"
      ]
    },
    {
      "cell_type": "code",
      "execution_count": null,
      "metadata": {
        "id": "jmf2TkD5ffW1"
      },
      "outputs": [],
      "source": [
        "df.Fuel = df.Fuel.apply(fueltype)"
      ]
    },
    {
      "cell_type": "code",
      "execution_count": null,
      "metadata": {
        "scrolled": true,
        "id": "8rvn2NBlffW1",
        "outputId": "250ed18f-f644-44e4-8798-f33541332ad0"
      },
      "outputs": [
        {
          "data": {
            "text/plain": [
              "Benzine     8551\n",
              "Diesel      7299\n",
              "LPG/CNG       64\n",
              "Electric       5\n",
              "Name: Fuel, dtype: int64"
            ]
          },
          "execution_count": 110,
          "metadata": {},
          "output_type": "execute_result"
        }
      ],
      "source": [
        "df.Fuel.value_counts(dropna=False)"
      ]
    },
    {
      "cell_type": "markdown",
      "metadata": {
        "id": "fHjT3PxTffW1"
      },
      "source": [
        "## Consumption"
      ]
    },
    {
      "cell_type": "code",
      "execution_count": null,
      "metadata": {
        "id": "JXEgeh1SffW2",
        "outputId": "19e315ab-f485-4cd6-e5c2-acdfa84f2c01"
      },
      "outputs": [
        {
          "data": {
            "text/plain": [
              "660      [\\n, 4.2 l/100 km (comb), \\n, 5 l/100 km (city...\n",
              "13551    [[3.3 l/100 km (comb)], [3.5 l/100 km (city)],...\n",
              "5770     [\\n, 5.1 l/100 km (comb), \\n, 6.3 l/100 km (ci...\n",
              "2341     [\\n, 4.8 l/100 km (comb), \\n, 5.9 l/100 km (ci...\n",
              "3190     [[4 l/100 km (comb)], [4.7 l/100 km (city)], [...\n",
              "15616    [[4.7 l/100 km (comb)], [5.1 l/100 km (city)],...\n",
              "1043     [[4.4 l/100 km (comb)], [5.4 l/100 km (city)],...\n",
              "2450     [\\n, 4.7 l/100 km (comb), \\n, 5.9 l/100 km (ci...\n",
              "3545     [[3.8 l/100 km (comb)], [4.3 l/100 km (city)],...\n",
              "1836     [[3.8 l/100 km (comb)], [4.6 l/100 km (city)],...\n",
              "Name: Consumption, dtype: object"
            ]
          },
          "execution_count": 111,
          "metadata": {},
          "output_type": "execute_result"
        }
      ],
      "source": [
        "df.Consumption.sample(10)"
      ]
    },
    {
      "cell_type": "code",
      "execution_count": null,
      "metadata": {
        "id": "TB9PZLIMffW2"
      },
      "outputs": [],
      "source": [
        "def parser1(x):\n",
        "    if type(x) == float:\n",
        "        return np.nan\n",
        "    elif type(x[0]) == list:\n",
        "        if x[0] != []:\n",
        "            return x[0][0]\n",
        "        else:\n",
        "            return np.nan\n",
        "    else:\n",
        "        return x[1]\n",
        "\n",
        "def parser2(x):\n",
        "    if type(x) == float:\n",
        "        return np.nan\n",
        "    elif type(x[0]) == list:\n",
        "        if x[1] != []:\n",
        "            return x[1][0]\n",
        "        else:\n",
        "            return np.nan\n",
        "    elif x[3].endswith(')'):\n",
        "        return x[3]\n",
        "    else:\n",
        "        return np.nan\n",
        "\n",
        "def parser3(x):\n",
        "    if type(x) == float:\n",
        "        return np.nan\n",
        "    elif type(x[0]) == list:\n",
        "        if x[2] != []:\n",
        "            return x[2][0]\n",
        "        else:\n",
        "            return np.nan\n",
        "    elif type(x[0]) != list and x[3].endswith(')'):\n",
        "        return x[5]\n",
        "    else:\n",
        "        return np.nan"
      ]
    },
    {
      "cell_type": "code",
      "execution_count": null,
      "metadata": {
        "id": "v1M4lVmhffW2"
      },
      "outputs": [],
      "source": [
        "df['Combumption_Comb'] = df.Consumption.apply(parser1).str.extract('(\\d{1,2}.\\d|\\d{1,3})')[0].astype(\"float\")\n",
        "df['Consumption_City'] = df.Consumption.apply(parser2).str.extract('(\\d{1,2}.\\d|\\d{1,3})')[0].astype(\"float\")\n",
        "df['Consumption_Country'] = df.Consumption.apply(parser3).str.extract('(\\d{1,2}.\\d|\\d{1,3})')[0].astype(\"float\")"
      ]
    },
    {
      "cell_type": "code",
      "execution_count": null,
      "metadata": {
        "id": "NtmjlxciffW2"
      },
      "outputs": [],
      "source": [
        "df.drop('Consumption', axis=1,inplace=True)"
      ]
    },
    {
      "cell_type": "markdown",
      "metadata": {
        "id": "uQzK40GuffW2"
      },
      "source": [
        "## CO2_Emission"
      ]
    },
    {
      "cell_type": "code",
      "execution_count": null,
      "metadata": {
        "id": "6UozoisqffW3",
        "outputId": "ce0541b2-4a5f-4f7f-a597-cc08d97767b0"
      },
      "outputs": [
        {
          "data": {
            "text/plain": [
              "14113    [\\n114 g CO2/km (comb)\\n]\n",
              "15783    [\\n168 g CO2/km (comb)\\n]\n",
              "2749     [\\n102 g CO2/km (comb)\\n]\n",
              "2938     [\\n116 g CO2/km (comb)\\n]\n",
              "4569     [\\n103 g CO2/km (comb)\\n]\n",
              "7822     [\\n130 g CO2/km (comb)\\n]\n",
              "2840      [\\n99 g CO2/km (comb)\\n]\n",
              "13372     [\\n92 g CO2/km (comb)\\n]\n",
              "5519     [\\n114 g CO2/km (comb)\\n]\n",
              "10895    [\\n118 g CO2/km (comb)\\n]\n",
              "Name: CO2_Emission, dtype: object"
            ]
          },
          "execution_count": 115,
          "metadata": {},
          "output_type": "execute_result"
        }
      ],
      "source": [
        "df.CO2_Emission.sample(10)"
      ]
    },
    {
      "cell_type": "code",
      "execution_count": null,
      "metadata": {
        "id": "rWgPslnhffW3"
      },
      "outputs": [],
      "source": [
        "df.CO2_Emission=df.CO2_Emission.apply(lambda x : x[0] if type(x)==list else x).str.strip('\\n').str.extract('(\\d*)')[0].astype(\"float\")"
      ]
    },
    {
      "cell_type": "code",
      "execution_count": null,
      "metadata": {
        "id": "7TDE-SrJffW3",
        "outputId": "2d54d87d-a1cf-4537-ef3c-e416627e4558"
      },
      "outputs": [
        {
          "data": {
            "text/plain": [
              "NaN      2436\n",
              "120.0     740\n",
              "99.0      545\n",
              "97.0      537\n",
              "104.0     501\n",
              "         ... \n",
              "193.0       1\n",
              "239.0       1\n",
              "51.0        1\n",
              "45.0        1\n",
              "253.0       1\n",
              "Name: CO2_Emission, Length: 120, dtype: int64"
            ]
          },
          "execution_count": 117,
          "metadata": {},
          "output_type": "execute_result"
        }
      ],
      "source": [
        "df.CO2_Emission.value_counts(dropna=False)"
      ]
    },
    {
      "cell_type": "markdown",
      "metadata": {
        "id": "TZke6AOxffW3"
      },
      "source": [
        "## Emission_Class"
      ]
    },
    {
      "cell_type": "code",
      "execution_count": null,
      "metadata": {
        "id": "KFUnYSFqffW3",
        "outputId": "d25a6a4e-c8b4-40a7-8d20-5cebf563c876"
      },
      "outputs": [
        {
          "data": {
            "text/plain": [
              "11214          [\\nEuro 6\\n]\n",
              "50             [\\nEuro 6\\n]\n",
              "6137           [\\nEuro 6\\n]\n",
              "10027    [\\nEuro 6d-TEMP\\n]\n",
              "3806           [\\nEuro 6\\n]\n",
              "2111     [\\nEuro 6d-TEMP\\n]\n",
              "7939     [\\nEuro 6d-TEMP\\n]\n",
              "7592     [\\nEuro 6d-TEMP\\n]\n",
              "11671                   NaN\n",
              "11213          [\\nEuro 6\\n]\n",
              "1223           [\\nEuro 6\\n]\n",
              "14851          [\\nEuro 6\\n]\n",
              "15294          [\\nEuro 6\\n]\n",
              "9533           [\\nEuro 6\\n]\n",
              "10133    [\\nEuro 6d-TEMP\\n]\n",
              "9795           [\\nEuro 6\\n]\n",
              "2877           [\\nEuro 6\\n]\n",
              "10287    [\\nEuro 6d-TEMP\\n]\n",
              "13186                   NaN\n",
              "4808           [\\nEuro 6\\n]\n",
              "Name: Emission_Class, dtype: object"
            ]
          },
          "execution_count": 118,
          "metadata": {},
          "output_type": "execute_result"
        }
      ],
      "source": [
        "df.Emission_Class.sample(20)"
      ]
    },
    {
      "cell_type": "code",
      "execution_count": null,
      "metadata": {
        "id": "IiQBan66ffW3"
      },
      "outputs": [],
      "source": [
        "df.Emission_Class = df.Emission_Class.apply(lambda x : x[0] if type(x)==list else x).str.strip(\"\\n\")"
      ]
    },
    {
      "cell_type": "code",
      "execution_count": null,
      "metadata": {
        "id": "ZJpfJzQYffW4",
        "outputId": "203962e6-0b78-424c-980b-9fab1f569635"
      },
      "outputs": [
        {
          "data": {
            "text/plain": [
              "Euro 6          10139\n",
              "NaN              3628\n",
              "Euro 6d-TEMP     1845\n",
              "Euro 6c           127\n",
              "Euro 5             78\n",
              "Euro 6d            62\n",
              "Euro 4             40\n",
              "Name: Emission_Class, dtype: int64"
            ]
          },
          "execution_count": 120,
          "metadata": {},
          "output_type": "execute_result"
        }
      ],
      "source": [
        "df.Emission_Class.value_counts(dropna=False)"
      ]
    },
    {
      "cell_type": "markdown",
      "metadata": {
        "id": "I450zyw6ffW4"
      },
      "source": [
        "    >> Group them"
      ]
    },
    {
      "cell_type": "code",
      "execution_count": null,
      "metadata": {
        "id": "neIYzc4GffW4"
      },
      "outputs": [],
      "source": [
        "df.Emission_Class=df.Emission_Class.str.extract('(Euro \\d)')[0]"
      ]
    },
    {
      "cell_type": "code",
      "execution_count": null,
      "metadata": {
        "id": "9gSVzfhuffW4"
      },
      "outputs": [],
      "source": [
        "# Alternative\n",
        "# df.replace({\"Emission_Class\" : {\"Euro 6d-TEMP\":\"Euro 6\", \"Euro 6c\":\"Euro 6\", \"Euro 6d\":\"Euro 6\"}}, regex = True, inplace = True)"
      ]
    },
    {
      "cell_type": "code",
      "execution_count": null,
      "metadata": {
        "id": "H91N8EplffW4",
        "outputId": "874b4bfd-5862-4c9b-f961-5fe30a4edd40"
      },
      "outputs": [
        {
          "data": {
            "text/plain": [
              "Euro 6    12173\n",
              "NaN        3628\n",
              "Euro 5       78\n",
              "Euro 4       40\n",
              "Name: Emission_Class, dtype: int64"
            ]
          },
          "execution_count": 123,
          "metadata": {},
          "output_type": "execute_result"
        }
      ],
      "source": [
        "df.Emission_Class.value_counts(dropna=False)"
      ]
    },
    {
      "cell_type": "markdown",
      "metadata": {
        "id": "6KSxk4BnffW4"
      },
      "source": [
        "## Gears"
      ]
    },
    {
      "cell_type": "code",
      "execution_count": null,
      "metadata": {
        "id": "jrd3jLQjffW4",
        "outputId": "6bb0112c-a2d4-44c6-a401-82994c5f8fad"
      },
      "outputs": [
        {
          "data": {
            "text/plain": [
              "15420    [\\n6\\n]\n",
              "14398        NaN\n",
              "15119        NaN\n",
              "14123        NaN\n",
              "14603    [\\n5\\n]\n",
              "11501    [\\n6\\n]\n",
              "10314        NaN\n",
              "9857     [\\n6\\n]\n",
              "5103     [\\n7\\n]\n",
              "13929        NaN\n",
              "Name: Gears, dtype: object"
            ]
          },
          "execution_count": 124,
          "metadata": {},
          "output_type": "execute_result"
        }
      ],
      "source": [
        "df.Gears.sample(10)"
      ]
    },
    {
      "cell_type": "code",
      "execution_count": null,
      "metadata": {
        "id": "Lkn20Mi5ffW5"
      },
      "outputs": [],
      "source": [
        "df.Gears = df.Gears.str[0].str.strip('\\n')"
      ]
    },
    {
      "cell_type": "markdown",
      "metadata": {
        "id": "fjd1mDIqffW5"
      },
      "source": [
        "## Comfort_Convenience"
      ]
    },
    {
      "cell_type": "code",
      "execution_count": null,
      "metadata": {
        "id": "v0tsosQBffW5",
        "outputId": "19b6b2c0-3cb7-4261-971b-50fe0f433ba8"
      },
      "outputs": [
        {
          "data": {
            "text/plain": [
              "10090    [Air conditioning, Cruise control, Electricall...\n",
              "4654     [Air conditioning, Armrest, Automatic climate ...\n",
              "7751     [Air conditioning, Armrest, Automatic climate ...\n",
              "12038    [Air conditioning, Armrest, Automatic climate ...\n",
              "318      [Air conditioning, Armrest, Automatic climate ...\n",
              "8793     [Air conditioning, Electrical side mirrors, Mu...\n",
              "11151    [Air conditioning, Cruise control, Electricall...\n",
              "15042    [Air conditioning, Automatic climate control, ...\n",
              "9037     [Air conditioning, Cruise control, Electrical ...\n",
              "553      [Air conditioning, Automatic climate control, ...\n",
              "2361                                                   NaN\n",
              "6872     [Air conditioning, Armrest, Automatic climate ...\n",
              "9788     [Air conditioning, Electrical side mirrors, Hi...\n",
              "2893     [Air conditioning, Electrical side mirrors, Mu...\n",
              "11823    [Air conditioning, Armrest, Automatic climate ...\n",
              "7600     [Air conditioning, Armrest, Automatic climate ...\n",
              "10235    [Air conditioning, Electrical side mirrors, Le...\n",
              "3487     [Air conditioning, Armrest, Automatic climate ...\n",
              "3068                                                   NaN\n",
              "15727             [Cruise control, Power windows, Sunroof]\n",
              "Name: Comfort_Convenience, dtype: object"
            ]
          },
          "execution_count": 126,
          "metadata": {},
          "output_type": "execute_result"
        }
      ],
      "source": [
        "df.Comfort_Convenience.sample(20)"
      ]
    },
    {
      "cell_type": "code",
      "execution_count": null,
      "metadata": {
        "id": "PYrB1NO3ffW5"
      },
      "outputs": [],
      "source": [
        "df.Comfort_Convenience=df.Comfort_Convenience.apply(lambda x : \",\".join(x) if type(x)==list else x)"
      ]
    },
    {
      "cell_type": "code",
      "execution_count": null,
      "metadata": {
        "id": "B8SVm_8QffW5",
        "outputId": "9670f978-bd15-43f5-9f89-ad1696a0ab43"
      },
      "outputs": [
        {
          "data": {
            "text/plain": [
              "Air conditioning,Electrical side mirrors,Hill Holder,Power windows                                                                                                                                                                                                                                                                                                                                                                              216\n",
              "Air conditioning,Electrical side mirrors,Power windows                                                                                                                                                                                                                                                                                                                                                                                          134\n",
              "Air conditioning,Power windows                                                                                                                                                                                                                                                                                                                                                                                                                  130\n",
              "Air conditioning,Armrest,Automatic climate control,Cruise control,Electrical side mirrors,Leather steering wheel,Light sensor,Lumbar support,Multi-function steering wheel,Navigation system,Park Distance Control,Parking assist system sensors front,Parking assist system sensors rear,Power windows,Rain sensor,Seat heating,Start-stop system                                                                                              105\n",
              "Air conditioning,Armrest,Automatic climate control,Cruise control,Electrical side mirrors,Hill Holder,Leather steering wheel,Light sensor,Multi-function steering wheel,Navigation system,Park Distance Control,Parking assist system sensors rear,Power windows,Rain sensor,Seat heating,Start-stop system                                                                                                                                      92\n",
              "                                                                                                                                                                                                                                                                                                                                                                                                                                               ... \n",
              "Air conditioning,Armrest,Cruise control,Electrical side mirrors,Leather steering wheel,Light sensor,Multi-function steering wheel,Navigation system,Park Distance Control,Parking assist system camera,Parking assist system sensors front,Parking assist system sensors rear,Power windows,Start-stop system                                                                                                                                     1\n",
              "Air conditioning,Armrest,Automatic climate control,Electrically heated windshield,Electrical side mirrors,Keyless central door lock,Leather steering wheel,Light sensor,Lumbar support,Multi-function steering wheel,Parking assist system sensors rear,Power windows,Rain sensor,Seat heating,Start-stop system                                                                                                                                  1\n",
              "Air conditioning,Cruise control,Navigation system,Power windows,Tinted windows                                                                                                                                                                                                                                                                                                                                                                    1\n",
              "Cruise control,Electrically adjustable seats,Electrical side mirrors,Multi-function steering wheel,Navigation system,Rain sensor,Seat heating,Sunroof                                                                                                                                                                                                                                                                                             1\n",
              "Air conditioning,Armrest,Automatic climate control,Cruise control,Electrically adjustable seats,Electrical side mirrors,Electric tailgate,Heads-up display,Keyless central door lock,Leather steering wheel,Light sensor,Lumbar support,Navigation system,Park Distance Control,Parking assist system camera,Parking assist system sensors front,Parking assist system sensors rear,Power windows,Rain sensor,Seat heating,Start-stop system      1\n",
              "Name: Comfort_Convenience, Length: 6198, dtype: int64"
            ]
          },
          "execution_count": 128,
          "metadata": {},
          "output_type": "execute_result"
        }
      ],
      "source": [
        "df.Comfort_Convenience.value_counts()"
      ]
    },
    {
      "cell_type": "markdown",
      "metadata": {
        "id": "QIaFmVUEffW5"
      },
      "source": [
        "## Entertainment_Media"
      ]
    },
    {
      "cell_type": "code",
      "execution_count": null,
      "metadata": {
        "id": "fc4eav8bffW5",
        "outputId": "9d251754-60da-48ad-b3ba-5597518d798c"
      },
      "outputs": [
        {
          "data": {
            "text/plain": [
              "8194     [Bluetooth, Hands-free equipment, On-board com...\n",
              "9076     [Bluetooth, CD player, Hands-free equipment, O...\n",
              "11374                                                  NaN\n",
              "13857    [Bluetooth, Hands-free equipment, On-board com...\n",
              "3009     [Bluetooth, CD player, Hands-free equipment, M...\n",
              "8843     [Bluetooth, Digital radio, Hands-free equipmen...\n",
              "7530     [Bluetooth, Hands-free equipment, On-board com...\n",
              "3272                                          [MP3, Radio]\n",
              "9866                         [Bluetooth, CD player, Radio]\n",
              "2018     [Bluetooth, CD player, Hands-free equipment, M...\n",
              "Name: Entertainment_Media, dtype: object"
            ]
          },
          "execution_count": 129,
          "metadata": {},
          "output_type": "execute_result"
        }
      ],
      "source": [
        "df.Entertainment_Media.sample(10)"
      ]
    },
    {
      "cell_type": "code",
      "execution_count": null,
      "metadata": {
        "id": "dgC0zeyoffW5",
        "outputId": "42e3ed18-6b22-492e-df1e-36ba4b33ab7f"
      },
      "outputs": [
        {
          "data": {
            "text/plain": [
              "NaN                                                                                                         1374\n",
              "Bluetooth,Hands-free equipment,On-board computer,Radio,USB                                                  1282\n",
              "Bluetooth,Hands-free equipment,MP3,On-board computer,Radio,USB                                               982\n",
              "Bluetooth,CD player,Hands-free equipment,MP3,On-board computer,Radio,USB                                     783\n",
              "On-board computer,Radio                                                                                      487\n",
              "                                                                                                            ... \n",
              "Bluetooth,Digital radio,MP3,Sound system,USB                                                                   1\n",
              "Bluetooth,CD player,Digital radio,Hands-free equipment,MP3,On-board computer,Sound system,Television,USB       1\n",
              "CD player,Digital radio,MP3                                                                                    1\n",
              "Bluetooth,Digital radio,MP3,On-board computer,Radio,Sound system                                               1\n",
              "Bluetooth,CD player,Hands-free equipment,On-board computer,Sound system,Television,USB                         1\n",
              "Name: Entertainment_Media, Length: 347, dtype: int64"
            ]
          },
          "execution_count": 130,
          "metadata": {},
          "output_type": "execute_result"
        }
      ],
      "source": [
        "df.Entertainment_Media=df.Entertainment_Media.apply(lambda x : \",\".join(x) if type(x)==list else x)\n",
        "df.Entertainment_Media.value_counts(dropna=False)"
      ]
    },
    {
      "cell_type": "markdown",
      "metadata": {
        "id": "aytfeB4IffW6"
      },
      "source": [
        "## Extras"
      ]
    },
    {
      "cell_type": "code",
      "execution_count": null,
      "metadata": {
        "id": "JxuiPFhXffW6",
        "outputId": "f239c3ff-9c9f-4dd4-de21-37fc1b77833d"
      },
      "outputs": [
        {
          "data": {
            "text/plain": [
              "3619         [Alloy wheels, Sport seats, Sport suspension]\n",
              "10548    [Alloy wheels, Catalytic Converter, Roof rack,...\n",
              "13801    [Alloy wheels, Shift paddles, Sport package, S...\n",
              "15071                         [Alloy wheels, Touch screen]\n",
              "7398                             [Roof rack, Touch screen]\n",
              "1437            [Alloy wheels, Sport seats, Voice Control]\n",
              "10080                                       [Alloy wheels]\n",
              "4941                             [Alloy wheels, Roof rack]\n",
              "6298                                           [Roof rack]\n",
              "3041                                        [Alloy wheels]\n",
              "Name: Extras, dtype: object"
            ]
          },
          "execution_count": 131,
          "metadata": {},
          "output_type": "execute_result"
        }
      ],
      "source": [
        "df.Extras.sample(10)"
      ]
    },
    {
      "cell_type": "code",
      "execution_count": null,
      "metadata": {
        "id": "xgzsfXPTffW6"
      },
      "outputs": [],
      "source": [
        "df.Extras=df.Extras.apply(lambda x : \",\".join(x) if type(x)==list else x)"
      ]
    },
    {
      "cell_type": "code",
      "execution_count": null,
      "metadata": {
        "id": "eB1tKfZfffW6",
        "outputId": "d8c3d20c-0226-45ef-8ef1-cba783f8084e"
      },
      "outputs": [
        {
          "data": {
            "text/plain": [
              "Alloy wheels                                                                        3245\n",
              "NaN                                                                                 2962\n",
              "Alloy wheels,Touch screen                                                            697\n",
              "Alloy wheels,Voice Control                                                           577\n",
              "Alloy wheels,Touch screen,Voice Control                                              541\n",
              "                                                                                    ... \n",
              "Alloy wheels,Catalytic Converter,Ski bag,Sport package,Sport seats,Voice Control       1\n",
              "Roof rack,Sport seats,Trailer hitch                                                    1\n",
              "Alloy wheels,Handicapped enabled,Shift paddles,Sport seats,Touch screen                1\n",
              "Catalytic Converter,Roof rack,Shift paddles,Touch screen,Trailer hitch                 1\n",
              "Alloy wheels,Catalytic Converter,Roof rack,Sport suspension                            1\n",
              "Name: Extras, Length: 660, dtype: int64"
            ]
          },
          "execution_count": 133,
          "metadata": {},
          "output_type": "execute_result"
        }
      ],
      "source": [
        "df.Extras.value_counts(dropna=False)"
      ]
    },
    {
      "cell_type": "markdown",
      "metadata": {
        "id": "Chd9YWR5ffW6"
      },
      "source": [
        "## Safety_Security"
      ]
    },
    {
      "cell_type": "code",
      "execution_count": null,
      "metadata": {
        "id": "gKq8_dmZffW6",
        "outputId": "eda9dd18-caed-4fc0-bfd2-9ac34a2c3943"
      },
      "outputs": [
        {
          "data": {
            "text/plain": [
              "6355     [ABS, Central door lock, Daytime running light...\n",
              "5965     [ABS, Central door lock, Daytime running light...\n",
              "12300                    [Fog lights, Immobilizer, Isofix]\n",
              "9969     [ABS, Central door lock, Daytime running light...\n",
              "891      [ABS, Central door lock, Daytime running light...\n",
              "2668     [ABS, Alarm system, Central door lock, Central...\n",
              "4771     [ABS, Central door lock, Driver-side airbag, E...\n",
              "769                                                    NaN\n",
              "10118    [ABS, Central door lock, Daytime running light...\n",
              "11437    [ABS, Adaptive headlights, Blind spot monitor,...\n",
              "Name: Safety_Security, dtype: object"
            ]
          },
          "execution_count": 134,
          "metadata": {},
          "output_type": "execute_result"
        }
      ],
      "source": [
        "df.Safety_Security.sample(10)"
      ]
    },
    {
      "cell_type": "code",
      "execution_count": null,
      "metadata": {
        "id": "7UCSHv1uffW6"
      },
      "outputs": [],
      "source": [
        "df.Safety_Security=df.Safety_Security.apply(lambda x : \",\".join(x) if type(x)==list else x)"
      ]
    },
    {
      "cell_type": "code",
      "execution_count": null,
      "metadata": {
        "id": "9EOzXd15ffW6",
        "outputId": "ec22ca1d-1dbd-4d86-8223-3bb352f8337b"
      },
      "outputs": [
        {
          "data": {
            "text/plain": [
              "'ABS,Central door lock,Daytime running lights,Driver-side airbag,Electronic stability control,Fog lights,Immobilizer,Isofix,Passenger-side airbag,Power steering,Side airbag,Tire pressure monitoring system,Traction control,Xenon headlights'"
            ]
          },
          "execution_count": 136,
          "metadata": {},
          "output_type": "execute_result"
        }
      ],
      "source": [
        "df.Safety_Security[0]"
      ]
    },
    {
      "cell_type": "markdown",
      "metadata": {
        "id": "Oc0oU8jbffW6"
      },
      "source": [
        "    >> All columns are cleaned"
      ]
    },
    {
      "cell_type": "code",
      "execution_count": null,
      "metadata": {
        "id": "uV7CYd7XffW7",
        "outputId": "4dec9ef4-8ce3-492c-db50-8da02c0c335a"
      },
      "outputs": [
        {
          "data": {
            "text/plain": [
              "(15919, 36)"
            ]
          },
          "execution_count": 137,
          "metadata": {},
          "output_type": "execute_result"
        }
      ],
      "source": [
        "df.shape"
      ]
    },
    {
      "cell_type": "code",
      "execution_count": null,
      "metadata": {
        "id": "1RN9TuadffW7",
        "outputId": "648abf35-a4b3-40e3-90b1-9203207eb7dd"
      },
      "outputs": [
        {
          "name": "stdout",
          "output_type": "stream",
          "text": [
            "<class 'pandas.core.frame.DataFrame'>\n",
            "RangeIndex: 15919 entries, 0 to 15918\n",
            "Data columns (total 36 columns):\n",
            " #   Column               Non-Null Count  Dtype  \n",
            "---  ------               --------------  -----  \n",
            " 0   url                  15919 non-null  object \n",
            " 1   make_model           15919 non-null  object \n",
            " 2   body_type            15859 non-null  object \n",
            " 3   price                15919 non-null  int64  \n",
            " 4   vat                  11406 non-null  object \n",
            " 5   km                   14895 non-null  float64\n",
            " 6   hp                   15831 non-null  float64\n",
            " 7   Type                 15917 non-null  object \n",
            " 8   Previous_Owners      9279 non-null   float64\n",
            " 9   Inspection_New       3932 non-null   object \n",
            " 10  Warranty             4853 non-null   float64\n",
            " 11  Make                 15919 non-null  object \n",
            " 12  Model                15919 non-null  object \n",
            " 13  Body_Color           15322 non-null  object \n",
            " 14  Paint_Type           10147 non-null  object \n",
            " 15  Nr_of_Doors          15707 non-null  float64\n",
            " 16  Nr_of_Seats          14942 non-null  float64\n",
            " 17  Gearing_Type         15919 non-null  object \n",
            " 18  Displacement         15423 non-null  float64\n",
            " 19  Cylinders            10239 non-null  float64\n",
            " 20  Weight               8945 non-null   float64\n",
            " 21  Drive_Chain          9061 non-null   object \n",
            " 22  Fuel                 15919 non-null  object \n",
            " 23  CO2_Emission         13483 non-null  float64\n",
            " 24  Emission_Class       12291 non-null  object \n",
            " 25  Gears                11207 non-null  object \n",
            " 26  Comfort_Convenience  14999 non-null  object \n",
            " 27  Entertainment_Media  14545 non-null  object \n",
            " 28  Extras               12957 non-null  object \n",
            " 29  Safety_Security      14937 non-null  object \n",
            " 30  Age                  14322 non-null  float64\n",
            " 31  Upholstery_Type      11048 non-null  object \n",
            " 32  Upholstery_Color     10841 non-null  object \n",
            " 33  Combumption_Comb     13886 non-null  float64\n",
            " 34  Consumption_City     13483 non-null  float64\n",
            " 35  Consumption_Country  13543 non-null  float64\n",
            "dtypes: float64(14), int64(1), object(21)\n",
            "memory usage: 4.4+ MB\n"
          ]
        }
      ],
      "source": [
        "df.info()"
      ]
    },
    {
      "cell_type": "code",
      "execution_count": null,
      "metadata": {
        "id": "wTFDIh7pffW7"
      },
      "outputs": [],
      "source": [
        "df.to_csv(\"clean_scout_20201204.csv\", index=False)"
      ]
    },
    {
      "cell_type": "code",
      "execution_count": null,
      "metadata": {
        "id": "WfeGr8aSffW7"
      },
      "outputs": [],
      "source": [
        ""
      ]
    },
    {
      "cell_type": "code",
      "execution_count": null,
      "metadata": {
        "id": "FIEL1nJPffW7"
      },
      "outputs": [],
      "source": [
        ""
      ]
    }
  ],
  "metadata": {
    "kernelspec": {
      "display_name": "Python 3 (ipykernel)",
      "language": "python",
      "name": "python3"
    },
    "language_info": {
      "codemirror_mode": {
        "name": "ipython",
        "version": 3
      },
      "file_extension": ".py",
      "mimetype": "text/x-python",
      "name": "python",
      "nbconvert_exporter": "python",
      "pygments_lexer": "ipython3",
      "version": "3.8.8"
    },
    "colab": {
      "name": "Pycoders_AutoScout.ipynb",
      "provenance": [],
      "collapsed_sections": [
        "eSofjsY-ffWk",
        "Fx_Uw5QNffWl",
        "1H3f8Xu2ffWl",
        "--nndCkQffWm",
        "Mivi7xirffWn",
        "9wfb78n0ffWo",
        "XI2e9o47ffWp",
        "ygf1lyjtffWp",
        "lctJnKMuffWq",
        "yR7m76reffWr",
        "qxBFivksffWr",
        "fE5VB8IRffWs",
        "Fbzdt86lffWt",
        "9uIzR1HSffWt",
        "Ov1NFK5CffWt",
        "BVMNB1i4ffWv",
        "1pJV0XryffWw",
        "bmvmvHEzffWw",
        "2pl6kldFffWx",
        "xOpLstxYffWy",
        "5u7VChzxffWy",
        "urvOjL8IffWz",
        "Tdm_WenIffWz",
        "fHjT3PxTffW1",
        "uQzK40GuffW2",
        "TZke6AOxffW3",
        "6KSxk4BnffW4",
        "fjd1mDIqffW5",
        "QIaFmVUEffW5",
        "aytfeB4IffW6",
        "Chd9YWR5ffW6"
      ],
      "toc_visible": true,
      "include_colab_link": true
    }
  },
  "nbformat": 4,
  "nbformat_minor": 0
}