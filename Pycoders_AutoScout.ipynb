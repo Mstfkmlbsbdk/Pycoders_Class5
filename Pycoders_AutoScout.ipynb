{
  "cells": [
    {
      "cell_type": "markdown",
      "metadata": {
        "id": "view-in-github",
        "colab_type": "text"
      },
      "source": [
        "<a href=\"https://colab.research.google.com/github/fidanfatih/Pycoders_Capstone/blob/main/Pycoders_AutoScout.ipynb\" target=\"_parent\"><img src=\"https://colab.research.google.com/assets/colab-badge.svg\" alt=\"Open In Colab\"/></a>"
      ]
    },
    {
      "cell_type": "markdown",
      "metadata": {
        "id": "rr7a0pc4ffWV"
      },
      "source": [
        "# Introduction\n",
        "    ** In this notebook, We will make EDA in 3 stages.**\n",
        "\n",
        "    . Part-1 : Data Cleansing. It deals with Incorrect Headers, Incorrect Format, Anomalies, Dropping useless columns\n",
        "    \n",
        "    . Part-2 : Filling Columns. It deals with Missing Values. Categorical to numeric transformation will be done.\n",
        "\n",
        "    . Part-3 : Outliers and Final review "
      ]
    },
    {
      "cell_type": "markdown",
      "metadata": {
        "id": "CJSYyLJhffWZ"
      },
      "source": [
        "## Import Libraries and Data"
      ]
    },
    {
      "cell_type": "code",
      "execution_count": 345,
      "metadata": {
        "id": "wpqteHNPffWa"
      },
      "outputs": [],
      "source": [
        "import numpy as np\n",
        "import pandas as pd\n",
        "import seaborn as sns \n",
        "import matplotlib.pyplot as plt\n",
        "import warnings\n",
        "warnings.filterwarnings('ignore')\n",
        "warnings.warn(\"this will not show\")"
      ]
    },
    {
      "cell_type": "code",
      "execution_count": 346,
      "metadata": {
        "id": "yo0ekQp9ffWc"
      },
      "outputs": [],
      "source": [
        "pd.options.display.max_rows = 100\n",
        "pd.options.display.max_columns = 100"
      ]
    },
    {
      "cell_type": "code",
      "source": [
        "from google.colab import drive\n",
        "drive.mount('/content/drive')"
      ],
      "metadata": {
        "id": "PiysqguTfu0T",
        "colab": {
          "base_uri": "https://localhost:8080/"
        },
        "outputId": "b0fc3f9f-d954-4492-ac07-197eedc42b9e"
      },
      "execution_count": 347,
      "outputs": [
        {
          "output_type": "stream",
          "name": "stdout",
          "text": [
            "Drive already mounted at /content/drive; to attempt to forcibly remount, call drive.mount(\"/content/drive\", force_remount=True).\n"
          ]
        }
      ]
    },
    {
      "cell_type": "code",
      "execution_count": 348,
      "metadata": {
        "id": "FABp2YghffWc",
        "colab": {
          "base_uri": "https://localhost:8080/"
        },
        "outputId": "b56993c1-f2f0-4c5a-c32c-94a71462c57c"
      },
      "outputs": [
        {
          "output_type": "execute_result",
          "data": {
            "text/plain": [
              "(65841, 46)"
            ]
          },
          "metadata": {},
          "execution_count": 348
        }
      ],
      "source": [
        "data = pd.read_csv('/content/drive/MyDrive/Colab Notebooks/AutoScout24/autoscout_data_manuplated.csv')\n",
        "df = data.copy()\n",
        "df.shape"
      ]
    },
    {
      "cell_type": "markdown",
      "metadata": {
        "id": "9YXy4vfBffWd"
      },
      "source": [
        "## Check Data"
      ]
    },
    {
      "cell_type": "code",
      "execution_count": 349,
      "metadata": {
        "id": "X5WPFAVUffWd",
        "outputId": "ee72fc90-d461-4cd3-8813-c315e8b10722",
        "colab": {
          "base_uri": "https://localhost:8080/",
          "height": 332
        }
      },
      "outputs": [
        {
          "output_type": "execute_result",
          "data": {
            "text/html": [
              "\n",
              "  <div id=\"df-9d08f979-3ccd-4f6d-b8ec-9a27442a20a5\">\n",
              "    <div class=\"colab-df-container\">\n",
              "      <div>\n",
              "<style scoped>\n",
              "    .dataframe tbody tr th:only-of-type {\n",
              "        vertical-align: middle;\n",
              "    }\n",
              "\n",
              "    .dataframe tbody tr th {\n",
              "        vertical-align: top;\n",
              "    }\n",
              "\n",
              "    .dataframe thead th {\n",
              "        text-align: right;\n",
              "    }\n",
              "</style>\n",
              "<table border=\"1\" class=\"dataframe\">\n",
              "  <thead>\n",
              "    <tr style=\"text-align: right;\">\n",
              "      <th></th>\n",
              "      <th>location</th>\n",
              "      <th>url</th>\n",
              "      <th>make</th>\n",
              "      <th>model</th>\n",
              "      <th>short_description</th>\n",
              "      <th>price</th>\n",
              "      <th>mileage</th>\n",
              "      <th>gearbox</th>\n",
              "      <th>registration</th>\n",
              "      <th>fuel_type</th>\n",
              "      <th>power</th>\n",
              "      <th>seller</th>\n",
              "      <th>body_type</th>\n",
              "      <th>type</th>\n",
              "      <th>drivetrain</th>\n",
              "      <th>seats</th>\n",
              "      <th>doors</th>\n",
              "      <th>country_version</th>\n",
              "      <th>offer_number</th>\n",
              "      <th>warranty</th>\n",
              "      <th>Mileage</th>\n",
              "      <th>first_registration</th>\n",
              "      <th>production_date</th>\n",
              "      <th>general_inspection</th>\n",
              "      <th>last_service</th>\n",
              "      <th>full_service_history</th>\n",
              "      <th>non_smoker_vehicle</th>\n",
              "      <th>Power</th>\n",
              "      <th>Gearbox</th>\n",
              "      <th>engine_size</th>\n",
              "      <th>gears</th>\n",
              "      <th>cylinders</th>\n",
              "      <th>empty_weight</th>\n",
              "      <th>Fuel_type</th>\n",
              "      <th>fuel_consumption</th>\n",
              "      <th>co2_emissions</th>\n",
              "      <th>emission_class</th>\n",
              "      <th>\\nComfort &amp; Convenience\\n</th>\n",
              "      <th>\\nEntertainment &amp; Media\\n</th>\n",
              "      <th>\\nSafety &amp; Security\\n</th>\n",
              "      <th>extras</th>\n",
              "      <th>\\ncolour</th>\n",
              "      <th>\\nmanufacturer_color</th>\n",
              "      <th>\\npaint</th>\n",
              "      <th>upholstery_colour</th>\n",
              "      <th>upholstery</th>\n",
              "    </tr>\n",
              "  </thead>\n",
              "  <tbody>\n",
              "    <tr>\n",
              "      <th>0</th>\n",
              "      <td>WAGENINGEN, NL</td>\n",
              "      <td>https://www.autoscout24.com/offers/audi-a1-1-4...</td>\n",
              "      <td>\\n,Audi ,\\n</td>\n",
              "      <td>\\n,A1,\\n</td>\n",
              "      <td>1.4 TFSI 122 pk Pro Line S-Line 1 eigenaar/ NL...</td>\n",
              "      <td>[['\\n', '€ 15,945.-', '\\n']]</td>\n",
              "      <td>['', ['42,091 km']]</td>\n",
              "      <td>\\n,Automatic,\\n</td>\n",
              "      <td>05/2012</td>\n",
              "      <td>\\n,Gasoline,\\n</td>\n",
              "      <td>90 kW (122 hp),</td>\n",
              "      <td>['\\n', ['Dealer\\n']]</td>\n",
              "      <td>\\n,Compact,\\n</td>\n",
              "      <td>\\n,Used,\\n</td>\n",
              "      <td>\\n,Front,\\n</td>\n",
              "      <td>\\n4</td>\n",
              "      <td>\\n3</td>\n",
              "      <td>Country version,None</td>\n",
              "      <td>\\n82-XDG-9</td>\n",
              "      <td>\\n,None,\\n</td>\n",
              "      <td>[['\\n'], ['']]</td>\n",
              "      <td>05/2012</td>\n",
              "      <td>None</td>\n",
              "      <td>03/2022</td>\n",
              "      <td>None</td>\n",
              "      <td>\\n,Yes,\\n</td>\n",
              "      <td>\\n,None,\\n</td>\n",
              "      <td>\\n,90 kW (122 hp),\\n</td>\n",
              "      <td>\\n,Automatic,\\n</td>\n",
              "      <td>\\n,1,390 cc,\\n</td>\n",
              "      <td>\\n,7,\\n</td>\n",
              "      <td>\\n,4,\\n</td>\n",
              "      <td>\\n,1,100 kg,\\n</td>\n",
              "      <td>\\n,Super 95,\\n</td>\n",
              "      <td>['\\n', ['5.3 l/100 km (comb.)', '6.5 l/100 km ...</td>\n",
              "      <td>\\n,122 g/km (comb.),\\n</td>\n",
              "      <td>\\n,Euro 5,\\n</td>\n",
              "      <td>[['Air conditioning', 'Armrest', 'Automatic cl...</td>\n",
              "      <td>[['CD player', 'Digital radio', 'MP3', 'On-boa...</td>\n",
              "      <td>[['ABS', 'Alarm system', 'Bi-Xenon headlights'...</td>\n",
              "      <td>[['Alloy wheels (18\")', 'Sport seats', 'Sport ...</td>\n",
              "      <td>\\n4, Red</td>\n",
              "      <td>None</td>\n",
              "      <td>\\npaint, Metallic</td>\n",
              "      <td>\\nupholstery, Black</td>\n",
              "      <td>\\n8, Part leather</td>\n",
              "    </tr>\n",
              "    <tr>\n",
              "      <th>1</th>\n",
              "      <td>BREUKELEN, NL</td>\n",
              "      <td>https://www.autoscout24.com/offers/audi-a3-spo...</td>\n",
              "      <td>\\n,Audi ,\\n</td>\n",
              "      <td>\\n,A3,\\n</td>\n",
              "      <td>Sportback 1.0 TFSI ultra S tronic sport Lease ...</td>\n",
              "      <td>[['\\n', '€ 19,490.-', '\\n']]</td>\n",
              "      <td>['', ['133,585 km']]</td>\n",
              "      <td>\\n,Automatic,\\n</td>\n",
              "      <td>05/2017</td>\n",
              "      <td>\\n,Gasoline,\\n</td>\n",
              "      <td>85 kW (116 hp),</td>\n",
              "      <td>['\\n', ['Dealer\\n']]</td>\n",
              "      <td>\\n,Compact,\\n</td>\n",
              "      <td>\\n,Used,\\n</td>\n",
              "      <td>\\n,Front,\\n</td>\n",
              "      <td>\\n5</td>\n",
              "      <td>\\n5</td>\n",
              "      <td>Country version,None</td>\n",
              "      <td>\\nNV922G</td>\n",
              "      <td>\\n,6 months,\\n</td>\n",
              "      <td>[['\\n'], ['']]</td>\n",
              "      <td>05/2017</td>\n",
              "      <td>None</td>\n",
              "      <td>None</td>\n",
              "      <td>None</td>\n",
              "      <td>\\n,None,\\n</td>\n",
              "      <td>\\n,None,\\n</td>\n",
              "      <td>\\n,85 kW (116 hp),\\n</td>\n",
              "      <td>\\n,Automatic,\\n</td>\n",
              "      <td>\\n,999 cc,\\n</td>\n",
              "      <td>\\n,None,\\n</td>\n",
              "      <td>\\n,None,\\n</td>\n",
              "      <td>\\n,1,175 kg,\\n</td>\n",
              "      <td>\\n,Gasoline,\\n</td>\n",
              "      <td>\\n,None,\\n</td>\n",
              "      <td>['\\n', [' ', ' ', ' '], '\\n']</td>\n",
              "      <td>\\n,Euro 6,\\n</td>\n",
              "      <td>[['Air conditioning', 'Armrest', 'Cruise contr...</td>\n",
              "      <td>[['CD player', 'On-board computer', 'Radio']]</td>\n",
              "      <td>[['ABS', 'Central door lock', 'Central door lo...</td>\n",
              "      <td>[['Alloy wheels', 'Sport suspension']]</td>\n",
              "      <td>\\n4, Blue</td>\n",
              "      <td>None</td>\n",
              "      <td>None</td>\n",
              "      <td>\\nupholstery, Black</td>\n",
              "      <td>\\n8, Cloth</td>\n",
              "    </tr>\n",
              "  </tbody>\n",
              "</table>\n",
              "</div>\n",
              "      <button class=\"colab-df-convert\" onclick=\"convertToInteractive('df-9d08f979-3ccd-4f6d-b8ec-9a27442a20a5')\"\n",
              "              title=\"Convert this dataframe to an interactive table.\"\n",
              "              style=\"display:none;\">\n",
              "        \n",
              "  <svg xmlns=\"http://www.w3.org/2000/svg\" height=\"24px\"viewBox=\"0 0 24 24\"\n",
              "       width=\"24px\">\n",
              "    <path d=\"M0 0h24v24H0V0z\" fill=\"none\"/>\n",
              "    <path d=\"M18.56 5.44l.94 2.06.94-2.06 2.06-.94-2.06-.94-.94-2.06-.94 2.06-2.06.94zm-11 1L8.5 8.5l.94-2.06 2.06-.94-2.06-.94L8.5 2.5l-.94 2.06-2.06.94zm10 10l.94 2.06.94-2.06 2.06-.94-2.06-.94-.94-2.06-.94 2.06-2.06.94z\"/><path d=\"M17.41 7.96l-1.37-1.37c-.4-.4-.92-.59-1.43-.59-.52 0-1.04.2-1.43.59L10.3 9.45l-7.72 7.72c-.78.78-.78 2.05 0 2.83L4 21.41c.39.39.9.59 1.41.59.51 0 1.02-.2 1.41-.59l7.78-7.78 2.81-2.81c.8-.78.8-2.07 0-2.86zM5.41 20L4 18.59l7.72-7.72 1.47 1.35L5.41 20z\"/>\n",
              "  </svg>\n",
              "      </button>\n",
              "      \n",
              "  <style>\n",
              "    .colab-df-container {\n",
              "      display:flex;\n",
              "      flex-wrap:wrap;\n",
              "      gap: 12px;\n",
              "    }\n",
              "\n",
              "    .colab-df-convert {\n",
              "      background-color: #E8F0FE;\n",
              "      border: none;\n",
              "      border-radius: 50%;\n",
              "      cursor: pointer;\n",
              "      display: none;\n",
              "      fill: #1967D2;\n",
              "      height: 32px;\n",
              "      padding: 0 0 0 0;\n",
              "      width: 32px;\n",
              "    }\n",
              "\n",
              "    .colab-df-convert:hover {\n",
              "      background-color: #E2EBFA;\n",
              "      box-shadow: 0px 1px 2px rgba(60, 64, 67, 0.3), 0px 1px 3px 1px rgba(60, 64, 67, 0.15);\n",
              "      fill: #174EA6;\n",
              "    }\n",
              "\n",
              "    [theme=dark] .colab-df-convert {\n",
              "      background-color: #3B4455;\n",
              "      fill: #D2E3FC;\n",
              "    }\n",
              "\n",
              "    [theme=dark] .colab-df-convert:hover {\n",
              "      background-color: #434B5C;\n",
              "      box-shadow: 0px 1px 3px 1px rgba(0, 0, 0, 0.15);\n",
              "      filter: drop-shadow(0px 1px 2px rgba(0, 0, 0, 0.3));\n",
              "      fill: #FFFFFF;\n",
              "    }\n",
              "  </style>\n",
              "\n",
              "      <script>\n",
              "        const buttonEl =\n",
              "          document.querySelector('#df-9d08f979-3ccd-4f6d-b8ec-9a27442a20a5 button.colab-df-convert');\n",
              "        buttonEl.style.display =\n",
              "          google.colab.kernel.accessAllowed ? 'block' : 'none';\n",
              "\n",
              "        async function convertToInteractive(key) {\n",
              "          const element = document.querySelector('#df-9d08f979-3ccd-4f6d-b8ec-9a27442a20a5');\n",
              "          const dataTable =\n",
              "            await google.colab.kernel.invokeFunction('convertToInteractive',\n",
              "                                                     [key], {});\n",
              "          if (!dataTable) return;\n",
              "\n",
              "          const docLinkHtml = 'Like what you see? Visit the ' +\n",
              "            '<a target=\"_blank\" href=https://colab.research.google.com/notebooks/data_table.ipynb>data table notebook</a>'\n",
              "            + ' to learn more about interactive tables.';\n",
              "          element.innerHTML = '';\n",
              "          dataTable['output_type'] = 'display_data';\n",
              "          await google.colab.output.renderOutput(dataTable, element);\n",
              "          const docLink = document.createElement('div');\n",
              "          docLink.innerHTML = docLinkHtml;\n",
              "          element.appendChild(docLink);\n",
              "        }\n",
              "      </script>\n",
              "    </div>\n",
              "  </div>\n",
              "  "
            ],
            "text/plain": [
              "         location                                                url  \\\n",
              "0  WAGENINGEN, NL  https://www.autoscout24.com/offers/audi-a1-1-4...   \n",
              "1   BREUKELEN, NL  https://www.autoscout24.com/offers/audi-a3-spo...   \n",
              "\n",
              "          make     model                                  short_description  \\\n",
              "0  \\n,Audi ,\\n  \\n,A1,\\n  1.4 TFSI 122 pk Pro Line S-Line 1 eigenaar/ NL...   \n",
              "1  \\n,Audi ,\\n  \\n,A3,\\n  Sportback 1.0 TFSI ultra S tronic sport Lease ...   \n",
              "\n",
              "                          price               mileage          gearbox  \\\n",
              "0  [['\\n', '€ 15,945.-', '\\n']]   ['', ['42,091 km']]  \\n,Automatic,\\n   \n",
              "1  [['\\n', '€ 19,490.-', '\\n']]  ['', ['133,585 km']]  \\n,Automatic,\\n   \n",
              "\n",
              "  registration       fuel_type            power                seller  \\\n",
              "0      05/2012  \\n,Gasoline,\\n  90 kW (122 hp),  ['\\n', ['Dealer\\n']]   \n",
              "1      05/2017  \\n,Gasoline,\\n  85 kW (116 hp),  ['\\n', ['Dealer\\n']]   \n",
              "\n",
              "       body_type        type   drivetrain seats doors       country_version  \\\n",
              "0  \\n,Compact,\\n  \\n,Used,\\n  \\n,Front,\\n   \\n4   \\n3  Country version,None   \n",
              "1  \\n,Compact,\\n  \\n,Used,\\n  \\n,Front,\\n   \\n5   \\n5  Country version,None   \n",
              "\n",
              "  offer_number        warranty         Mileage first_registration  \\\n",
              "0   \\n82-XDG-9      \\n,None,\\n  [['\\n'], ['']]            05/2012   \n",
              "1     \\nNV922G  \\n,6 months,\\n  [['\\n'], ['']]            05/2017   \n",
              "\n",
              "  production_date general_inspection last_service full_service_history  \\\n",
              "0            None            03/2022         None            \\n,Yes,\\n   \n",
              "1            None               None         None           \\n,None,\\n   \n",
              "\n",
              "  non_smoker_vehicle                 Power          Gearbox     engine_size  \\\n",
              "0         \\n,None,\\n  \\n,90 kW (122 hp),\\n  \\n,Automatic,\\n  \\n,1,390 cc,\\n   \n",
              "1         \\n,None,\\n  \\n,85 kW (116 hp),\\n  \\n,Automatic,\\n    \\n,999 cc,\\n   \n",
              "\n",
              "        gears   cylinders    empty_weight       Fuel_type  \\\n",
              "0     \\n,7,\\n     \\n,4,\\n  \\n,1,100 kg,\\n  \\n,Super 95,\\n   \n",
              "1  \\n,None,\\n  \\n,None,\\n  \\n,1,175 kg,\\n  \\n,Gasoline,\\n   \n",
              "\n",
              "                                    fuel_consumption  \\\n",
              "0  ['\\n', ['5.3 l/100 km (comb.)', '6.5 l/100 km ...   \n",
              "1                                         \\n,None,\\n   \n",
              "\n",
              "                   co2_emissions emission_class  \\\n",
              "0         \\n,122 g/km (comb.),\\n   \\n,Euro 5,\\n   \n",
              "1  ['\\n', [' ', ' ', ' '], '\\n']   \\n,Euro 6,\\n   \n",
              "\n",
              "                           \\nComfort & Convenience\\n  \\\n",
              "0  [['Air conditioning', 'Armrest', 'Automatic cl...   \n",
              "1  [['Air conditioning', 'Armrest', 'Cruise contr...   \n",
              "\n",
              "                           \\nEntertainment & Media\\n  \\\n",
              "0  [['CD player', 'Digital radio', 'MP3', 'On-boa...   \n",
              "1      [['CD player', 'On-board computer', 'Radio']]   \n",
              "\n",
              "                               \\nSafety & Security\\n  \\\n",
              "0  [['ABS', 'Alarm system', 'Bi-Xenon headlights'...   \n",
              "1  [['ABS', 'Central door lock', 'Central door lo...   \n",
              "\n",
              "                                              extras   \\ncolour  \\\n",
              "0  [['Alloy wheels (18\")', 'Sport seats', 'Sport ...   \\n4, Red   \n",
              "1             [['Alloy wheels', 'Sport suspension']]  \\n4, Blue   \n",
              "\n",
              "  \\nmanufacturer_color            \\npaint   upholstery_colour   \\\n",
              "0                 None  \\npaint, Metallic  \\nupholstery, Black   \n",
              "1                 None               None  \\nupholstery, Black   \n",
              "\n",
              "         upholstery   \n",
              "0  \\n8, Part leather  \n",
              "1         \\n8, Cloth  "
            ]
          },
          "metadata": {},
          "execution_count": 349
        }
      ],
      "source": [
        "df.head(2)"
      ]
    },
    {
      "cell_type": "code",
      "source": [
        "df = df.replace(\"None\",np.nan)"
      ],
      "metadata": {
        "id": "dfOprDHbZ_QV"
      },
      "execution_count": 350,
      "outputs": []
    },
    {
      "cell_type": "code",
      "execution_count": 351,
      "metadata": {
        "id": "8Kfvwel0ffWe",
        "outputId": "76a7d085-3053-4f67-fc6f-c16ff08da06a",
        "colab": {
          "base_uri": "https://localhost:8080/"
        }
      },
      "outputs": [
        {
          "output_type": "stream",
          "name": "stdout",
          "text": [
            "<class 'pandas.core.frame.DataFrame'>\n",
            "RangeIndex: 65841 entries, 0 to 65840\n",
            "Data columns (total 46 columns):\n",
            " #   Column                   Non-Null Count  Dtype  \n",
            "---  ------                   --------------  -----  \n",
            " 0   location                 65841 non-null  object \n",
            " 1   url                      65841 non-null  object \n",
            " 2   make                     65841 non-null  object \n",
            " 3   model                    65841 non-null  object \n",
            " 4   short_description        65732 non-null  object \n",
            " 5   price                    65841 non-null  object \n",
            " 6   mileage                  65841 non-null  object \n",
            " 7   gearbox                  65841 non-null  object \n",
            " 8   registration             65795 non-null  object \n",
            " 9   fuel_type                65841 non-null  object \n",
            " 10  power                    65841 non-null  object \n",
            " 11  seller                   65841 non-null  object \n",
            " 12  body_type                65841 non-null  object \n",
            " 13  type                     65841 non-null  object \n",
            " 14  drivetrain               65841 non-null  object \n",
            " 15  seats                    65841 non-null  object \n",
            " 16  doors                    65841 non-null  object \n",
            " 17  country_version          65841 non-null  object \n",
            " 18  offer_number             65841 non-null  object \n",
            " 19  warranty                 65841 non-null  object \n",
            " 20  Mileage                  65841 non-null  object \n",
            " 21  first_registration       65796 non-null  object \n",
            " 22  production_date          6931 non-null   object \n",
            " 23  general_inspection       50111 non-null  object \n",
            " 24  last_service             0 non-null      float64\n",
            " 25  full_service_history     65841 non-null  object \n",
            " 26  non_smoker_vehicle       65841 non-null  object \n",
            " 27  Power                    65841 non-null  object \n",
            " 28  Gearbox                  65841 non-null  object \n",
            " 29  engine_size              65841 non-null  object \n",
            " 30  gears                    65841 non-null  object \n",
            " 31  cylinders                65841 non-null  object \n",
            " 32  empty_weight             65841 non-null  object \n",
            " 33  Fuel_type                65841 non-null  object \n",
            " 34  fuel_consumption         65841 non-null  object \n",
            " 35  co2_emissions            65841 non-null  object \n",
            " 36  emission_class           65841 non-null  object \n",
            " 37  \n",
            "Comfort & Convenience\n",
            "  65841 non-null  object \n",
            " 38  \n",
            "Entertainment & Media\n",
            "  65841 non-null  object \n",
            " 39  \n",
            "Safety & Security\n",
            "      65841 non-null  object \n",
            " 40  extras                   65841 non-null  object \n",
            " 41  \n",
            "colour                  64787 non-null  object \n",
            " 42  \n",
            "manufacturer_color      0 non-null      float64\n",
            " 43  \n",
            "paint                   47297 non-null  object \n",
            " 44   upholstery_colour       43764 non-null  object \n",
            " 45   upholstery              55307 non-null  object \n",
            "dtypes: float64(2), object(44)\n",
            "memory usage: 23.1+ MB\n"
          ]
        }
      ],
      "source": [
        "df.info()"
      ]
    },
    {
      "cell_type": "code",
      "execution_count": 352,
      "metadata": {
        "id": "S7zVhGPqffWf",
        "outputId": "f4f01d5e-eea4-48c9-df49-b0c56cd8d21b",
        "colab": {
          "base_uri": "https://localhost:8080/"
        }
      },
      "outputs": [
        {
          "output_type": "execute_result",
          "data": {
            "text/plain": [
              "Index(['location', 'url', 'make', 'model', 'short_description', 'price',\n",
              "       'mileage', 'gearbox', 'registration', 'fuel_type', 'power', 'seller',\n",
              "       'body_type', 'type', 'drivetrain', 'seats', 'doors', 'country_version',\n",
              "       'offer_number', 'warranty', 'Mileage', 'first_registration',\n",
              "       'production_date', 'general_inspection', 'last_service',\n",
              "       'full_service_history', 'non_smoker_vehicle', 'Power', 'Gearbox',\n",
              "       'engine_size', 'gears', 'cylinders', 'empty_weight', 'Fuel_type',\n",
              "       'fuel_consumption', 'co2_emissions', 'emission_class',\n",
              "       '\\nComfort & Convenience\\n', '\\nEntertainment & Media\\n',\n",
              "       '\\nSafety & Security\\n', 'extras', '\\ncolour', '\\nmanufacturer_color',\n",
              "       '\\npaint', ' upholstery_colour ', ' upholstery '],\n",
              "      dtype='object')"
            ]
          },
          "metadata": {},
          "execution_count": 352
        }
      ],
      "source": [
        "df.columns"
      ]
    },
    {
      "cell_type": "code",
      "execution_count": 353,
      "metadata": {
        "id": "ABnh1bdLffWg",
        "outputId": "f8fe1f18-7956-4142-e78a-4b04387f6527",
        "colab": {
          "base_uri": "https://localhost:8080/"
        }
      },
      "outputs": [
        {
          "output_type": "stream",
          "name": "stdout",
          "text": [
            "location\n",
            "url\n",
            "make\n",
            "model\n",
            "short_description\n",
            "price\n",
            "mileage\n",
            "gearbox\n",
            "registration\n",
            "fuel_type\n",
            "power\n",
            "seller\n",
            "body_type\n",
            "type\n",
            "drivetrain\n",
            "seats\n",
            "doors\n",
            "country_version\n",
            "offer_number\n",
            "warranty\n",
            "Mileage\n",
            "first_registration\n",
            "production_date\n",
            "general_inspection\n",
            "last_service\n",
            "full_service_history\n",
            "non_smoker_vehicle\n",
            "Power\n",
            "Gearbox\n",
            "engine_size\n",
            "gears\n",
            "cylinders\n",
            "empty_weight\n",
            "Fuel_type\n",
            "fuel_consumption\n",
            "co2_emissions\n",
            "emission_class\n",
            "\n",
            "Comfort & Convenience\n",
            "\n",
            "\n",
            "Entertainment & Media\n",
            "\n",
            "\n",
            "Safety & Security\n",
            "\n",
            "extras\n",
            "\n",
            "colour\n",
            "\n",
            "manufacturer_color\n",
            "\n",
            "paint\n",
            " upholstery_colour \n",
            " upholstery \n"
          ]
        }
      ],
      "source": [
        "print(*df.columns,sep='\\n')"
      ]
    },
    {
      "cell_type": "code",
      "execution_count": 354,
      "metadata": {
        "id": "FzsE3VX8ffWg",
        "outputId": "ae453c55-76b3-48ef-fb5b-e4c8cb320aa2",
        "colab": {
          "base_uri": "https://localhost:8080/"
        }
      },
      "outputs": [
        {
          "output_type": "execute_result",
          "data": {
            "text/plain": [
              "location                         0\n",
              "url                              0\n",
              "make                             0\n",
              "model                            0\n",
              "short_description              109\n",
              "price                            0\n",
              "mileage                          0\n",
              "gearbox                          0\n",
              "registration                    46\n",
              "fuel_type                        0\n",
              "power                            0\n",
              "seller                           0\n",
              "body_type                        0\n",
              "type                             0\n",
              "drivetrain                       0\n",
              "seats                            0\n",
              "doors                            0\n",
              "country_version                  0\n",
              "offer_number                     0\n",
              "warranty                         0\n",
              "Mileage                          0\n",
              "first_registration              45\n",
              "production_date              58910\n",
              "general_inspection           15730\n",
              "last_service                 65841\n",
              "full_service_history             0\n",
              "non_smoker_vehicle               0\n",
              "Power                            0\n",
              "Gearbox                          0\n",
              "engine_size                      0\n",
              "gears                            0\n",
              "cylinders                        0\n",
              "empty_weight                     0\n",
              "Fuel_type                        0\n",
              "fuel_consumption                 0\n",
              "co2_emissions                    0\n",
              "emission_class                   0\n",
              "\\nComfort & Convenience\\n        0\n",
              "\\nEntertainment & Media\\n        0\n",
              "\\nSafety & Security\\n            0\n",
              "extras                           0\n",
              "\\ncolour                      1054\n",
              "\\nmanufacturer_color         65841\n",
              "\\npaint                      18544\n",
              " upholstery_colour           22077\n",
              " upholstery                  10534\n",
              "dtype: int64"
            ]
          },
          "metadata": {},
          "execution_count": 354
        }
      ],
      "source": [
        "df.isnull().sum()"
      ]
    },
    {
      "cell_type": "code",
      "execution_count": 355,
      "metadata": {
        "id": "6VUdRXbDffWh",
        "outputId": "69b1b54a-dd3d-471f-e947-f009eb32569e",
        "colab": {
          "base_uri": "https://localhost:8080/",
          "height": 674
        }
      },
      "outputs": [
        {
          "output_type": "display_data",
          "data": {
            "image/png": "[encoded data removed]",
            "text/plain": [
              "<Figure size 2160x720 with 1 Axes>"
            ]
          },
          "metadata": {
            "needs_background": "light"
          }
        }
      ],
      "source": [
        "plt.figure(figsize=(30,10))\n",
        "sns.heatmap(df.isnull(),yticklabels=False,cbar=False,cmap='viridis');"
      ]
    },
    {
      "cell_type": "code",
      "execution_count": 356,
      "metadata": {
        "id": "QeFuZ8ppffWh"
      },
      "outputs": [],
      "source": [
        "def show_nans(df, limit):\n",
        "    missing = df.isnull().sum()*100/df.shape[0]\n",
        "    return missing.loc[lambda x : x >= limit]\n",
        "\n",
        "def perc_nans(serial):\n",
        "    # display percentage of nans in a Series\n",
        "    return serial.isnull().sum()/serial.shape[0]*100"
      ]
    },
    {
      "cell_type": "code",
      "execution_count": 357,
      "metadata": {
        "id": "sdwfReg8ffWi",
        "outputId": "234d7892-f456-4a61-ae4c-f271847d22fb",
        "colab": {
          "base_uri": "https://localhost:8080/"
        }
      },
      "outputs": [
        {
          "output_type": "execute_result",
          "data": {
            "text/plain": [
              "location                       0.000000\n",
              "url                            0.000000\n",
              "make                           0.000000\n",
              "model                          0.000000\n",
              "short_description              0.165550\n",
              "price                          0.000000\n",
              "mileage                        0.000000\n",
              "gearbox                        0.000000\n",
              "registration                   0.069865\n",
              "fuel_type                      0.000000\n",
              "power                          0.000000\n",
              "seller                         0.000000\n",
              "body_type                      0.000000\n",
              "type                           0.000000\n",
              "drivetrain                     0.000000\n",
              "seats                          0.000000\n",
              "doors                          0.000000\n",
              "country_version                0.000000\n",
              "offer_number                   0.000000\n",
              "warranty                       0.000000\n",
              "Mileage                        0.000000\n",
              "first_registration             0.068346\n",
              "production_date               89.473125\n",
              "general_inspection            23.890889\n",
              "last_service                 100.000000\n",
              "full_service_history           0.000000\n",
              "non_smoker_vehicle             0.000000\n",
              "Power                          0.000000\n",
              "Gearbox                        0.000000\n",
              "engine_size                    0.000000\n",
              "gears                          0.000000\n",
              "cylinders                      0.000000\n",
              "empty_weight                   0.000000\n",
              "Fuel_type                      0.000000\n",
              "fuel_consumption               0.000000\n",
              "co2_emissions                  0.000000\n",
              "emission_class                 0.000000\n",
              "\\nComfort & Convenience\\n      0.000000\n",
              "\\nEntertainment & Media\\n      0.000000\n",
              "\\nSafety & Security\\n          0.000000\n",
              "extras                         0.000000\n",
              "\\ncolour                       1.600826\n",
              "\\nmanufacturer_color         100.000000\n",
              "\\npaint                       28.164821\n",
              " upholstery_colour            33.530779\n",
              " upholstery                   15.999149\n",
              "dtype: float64"
            ]
          },
          "metadata": {},
          "execution_count": 357
        }
      ],
      "source": [
        "show_nans(df,0)"
      ]
    },
    {
      "cell_type": "code",
      "source": [
        "df.head(1)"
      ],
      "metadata": {
        "colab": {
          "base_uri": "https://localhost:8080/",
          "height": 266
        },
        "id": "7bWhcIbReViG",
        "outputId": "fab5e9f2-b008-4c92-a491-755b12ed1c30"
      },
      "execution_count": 358,
      "outputs": [
        {
          "output_type": "execute_result",
          "data": {
            "text/html": [
              "\n",
              "  <div id=\"df-3c414b3d-e165-47d6-a278-02c1dfa53b22\">\n",
              "    <div class=\"colab-df-container\">\n",
              "      <div>\n",
              "<style scoped>\n",
              "    .dataframe tbody tr th:only-of-type {\n",
              "        vertical-align: middle;\n",
              "    }\n",
              "\n",
              "    .dataframe tbody tr th {\n",
              "        vertical-align: top;\n",
              "    }\n",
              "\n",
              "    .dataframe thead th {\n",
              "        text-align: right;\n",
              "    }\n",
              "</style>\n",
              "<table border=\"1\" class=\"dataframe\">\n",
              "  <thead>\n",
              "    <tr style=\"text-align: right;\">\n",
              "      <th></th>\n",
              "      <th>location</th>\n",
              "      <th>url</th>\n",
              "      <th>make</th>\n",
              "      <th>model</th>\n",
              "      <th>short_description</th>\n",
              "      <th>price</th>\n",
              "      <th>mileage</th>\n",
              "      <th>gearbox</th>\n",
              "      <th>registration</th>\n",
              "      <th>fuel_type</th>\n",
              "      <th>power</th>\n",
              "      <th>seller</th>\n",
              "      <th>body_type</th>\n",
              "      <th>type</th>\n",
              "      <th>drivetrain</th>\n",
              "      <th>seats</th>\n",
              "      <th>doors</th>\n",
              "      <th>country_version</th>\n",
              "      <th>offer_number</th>\n",
              "      <th>warranty</th>\n",
              "      <th>Mileage</th>\n",
              "      <th>first_registration</th>\n",
              "      <th>production_date</th>\n",
              "      <th>general_inspection</th>\n",
              "      <th>last_service</th>\n",
              "      <th>full_service_history</th>\n",
              "      <th>non_smoker_vehicle</th>\n",
              "      <th>Power</th>\n",
              "      <th>Gearbox</th>\n",
              "      <th>engine_size</th>\n",
              "      <th>gears</th>\n",
              "      <th>cylinders</th>\n",
              "      <th>empty_weight</th>\n",
              "      <th>Fuel_type</th>\n",
              "      <th>fuel_consumption</th>\n",
              "      <th>co2_emissions</th>\n",
              "      <th>emission_class</th>\n",
              "      <th>\\nComfort &amp; Convenience\\n</th>\n",
              "      <th>\\nEntertainment &amp; Media\\n</th>\n",
              "      <th>\\nSafety &amp; Security\\n</th>\n",
              "      <th>extras</th>\n",
              "      <th>\\ncolour</th>\n",
              "      <th>\\nmanufacturer_color</th>\n",
              "      <th>\\npaint</th>\n",
              "      <th>upholstery_colour</th>\n",
              "      <th>upholstery</th>\n",
              "    </tr>\n",
              "  </thead>\n",
              "  <tbody>\n",
              "    <tr>\n",
              "      <th>0</th>\n",
              "      <td>WAGENINGEN, NL</td>\n",
              "      <td>https://www.autoscout24.com/offers/audi-a1-1-4...</td>\n",
              "      <td>\\n,Audi ,\\n</td>\n",
              "      <td>\\n,A1,\\n</td>\n",
              "      <td>1.4 TFSI 122 pk Pro Line S-Line 1 eigenaar/ NL...</td>\n",
              "      <td>[['\\n', '€ 15,945.-', '\\n']]</td>\n",
              "      <td>['', ['42,091 km']]</td>\n",
              "      <td>\\n,Automatic,\\n</td>\n",
              "      <td>05/2012</td>\n",
              "      <td>\\n,Gasoline,\\n</td>\n",
              "      <td>90 kW (122 hp),</td>\n",
              "      <td>['\\n', ['Dealer\\n']]</td>\n",
              "      <td>\\n,Compact,\\n</td>\n",
              "      <td>\\n,Used,\\n</td>\n",
              "      <td>\\n,Front,\\n</td>\n",
              "      <td>\\n4</td>\n",
              "      <td>\\n3</td>\n",
              "      <td>Country version,None</td>\n",
              "      <td>\\n82-XDG-9</td>\n",
              "      <td>\\n,None,\\n</td>\n",
              "      <td>[['\\n'], ['']]</td>\n",
              "      <td>05/2012</td>\n",
              "      <td>NaN</td>\n",
              "      <td>03/2022</td>\n",
              "      <td>NaN</td>\n",
              "      <td>\\n,Yes,\\n</td>\n",
              "      <td>\\n,None,\\n</td>\n",
              "      <td>\\n,90 kW (122 hp),\\n</td>\n",
              "      <td>\\n,Automatic,\\n</td>\n",
              "      <td>\\n,1,390 cc,\\n</td>\n",
              "      <td>\\n,7,\\n</td>\n",
              "      <td>\\n,4,\\n</td>\n",
              "      <td>\\n,1,100 kg,\\n</td>\n",
              "      <td>\\n,Super 95,\\n</td>\n",
              "      <td>['\\n', ['5.3 l/100 km (comb.)', '6.5 l/100 km ...</td>\n",
              "      <td>\\n,122 g/km (comb.),\\n</td>\n",
              "      <td>\\n,Euro 5,\\n</td>\n",
              "      <td>[['Air conditioning', 'Armrest', 'Automatic cl...</td>\n",
              "      <td>[['CD player', 'Digital radio', 'MP3', 'On-boa...</td>\n",
              "      <td>[['ABS', 'Alarm system', 'Bi-Xenon headlights'...</td>\n",
              "      <td>[['Alloy wheels (18\")', 'Sport seats', 'Sport ...</td>\n",
              "      <td>\\n4, Red</td>\n",
              "      <td>NaN</td>\n",
              "      <td>\\npaint, Metallic</td>\n",
              "      <td>\\nupholstery, Black</td>\n",
              "      <td>\\n8, Part leather</td>\n",
              "    </tr>\n",
              "  </tbody>\n",
              "</table>\n",
              "</div>\n",
              "      <button class=\"colab-df-convert\" onclick=\"convertToInteractive('df-3c414b3d-e165-47d6-a278-02c1dfa53b22')\"\n",
              "              title=\"Convert this dataframe to an interactive table.\"\n",
              "              style=\"display:none;\">\n",
              "        \n",
              "  <svg xmlns=\"http://www.w3.org/2000/svg\" height=\"24px\"viewBox=\"0 0 24 24\"\n",
              "       width=\"24px\">\n",
              "    <path d=\"M0 0h24v24H0V0z\" fill=\"none\"/>\n",
              "    <path d=\"M18.56 5.44l.94 2.06.94-2.06 2.06-.94-2.06-.94-.94-2.06-.94 2.06-2.06.94zm-11 1L8.5 8.5l.94-2.06 2.06-.94-2.06-.94L8.5 2.5l-.94 2.06-2.06.94zm10 10l.94 2.06.94-2.06 2.06-.94-2.06-.94-.94-2.06-.94 2.06-2.06.94z\"/><path d=\"M17.41 7.96l-1.37-1.37c-.4-.4-.92-.59-1.43-.59-.52 0-1.04.2-1.43.59L10.3 9.45l-7.72 7.72c-.78.78-.78 2.05 0 2.83L4 21.41c.39.39.9.59 1.41.59.51 0 1.02-.2 1.41-.59l7.78-7.78 2.81-2.81c.8-.78.8-2.07 0-2.86zM5.41 20L4 18.59l7.72-7.72 1.47 1.35L5.41 20z\"/>\n",
              "  </svg>\n",
              "      </button>\n",
              "      \n",
              "  <style>\n",
              "    .colab-df-container {\n",
              "      display:flex;\n",
              "      flex-wrap:wrap;\n",
              "      gap: 12px;\n",
              "    }\n",
              "\n",
              "    .colab-df-convert {\n",
              "      background-color: #E8F0FE;\n",
              "      border: none;\n",
              "      border-radius: 50%;\n",
              "      cursor: pointer;\n",
              "      display: none;\n",
              "      fill: #1967D2;\n",
              "      height: 32px;\n",
              "      padding: 0 0 0 0;\n",
              "      width: 32px;\n",
              "    }\n",
              "\n",
              "    .colab-df-convert:hover {\n",
              "      background-color: #E2EBFA;\n",
              "      box-shadow: 0px 1px 2px rgba(60, 64, 67, 0.3), 0px 1px 3px 1px rgba(60, 64, 67, 0.15);\n",
              "      fill: #174EA6;\n",
              "    }\n",
              "\n",
              "    [theme=dark] .colab-df-convert {\n",
              "      background-color: #3B4455;\n",
              "      fill: #D2E3FC;\n",
              "    }\n",
              "\n",
              "    [theme=dark] .colab-df-convert:hover {\n",
              "      background-color: #434B5C;\n",
              "      box-shadow: 0px 1px 3px 1px rgba(0, 0, 0, 0.15);\n",
              "      filter: drop-shadow(0px 1px 2px rgba(0, 0, 0, 0.3));\n",
              "      fill: #FFFFFF;\n",
              "    }\n",
              "  </style>\n",
              "\n",
              "      <script>\n",
              "        const buttonEl =\n",
              "          document.querySelector('#df-3c414b3d-e165-47d6-a278-02c1dfa53b22 button.colab-df-convert');\n",
              "        buttonEl.style.display =\n",
              "          google.colab.kernel.accessAllowed ? 'block' : 'none';\n",
              "\n",
              "        async function convertToInteractive(key) {\n",
              "          const element = document.querySelector('#df-3c414b3d-e165-47d6-a278-02c1dfa53b22');\n",
              "          const dataTable =\n",
              "            await google.colab.kernel.invokeFunction('convertToInteractive',\n",
              "                                                     [key], {});\n",
              "          if (!dataTable) return;\n",
              "\n",
              "          const docLinkHtml = 'Like what you see? Visit the ' +\n",
              "            '<a target=\"_blank\" href=https://colab.research.google.com/notebooks/data_table.ipynb>data table notebook</a>'\n",
              "            + ' to learn more about interactive tables.';\n",
              "          element.innerHTML = '';\n",
              "          dataTable['output_type'] = 'display_data';\n",
              "          await google.colab.output.renderOutput(dataTable, element);\n",
              "          const docLink = document.createElement('div');\n",
              "          docLink.innerHTML = docLinkHtml;\n",
              "          element.appendChild(docLink);\n",
              "        }\n",
              "      </script>\n",
              "    </div>\n",
              "  </div>\n",
              "  "
            ],
            "text/plain": [
              "         location                                                url  \\\n",
              "0  WAGENINGEN, NL  https://www.autoscout24.com/offers/audi-a1-1-4...   \n",
              "\n",
              "          make     model                                  short_description  \\\n",
              "0  \\n,Audi ,\\n  \\n,A1,\\n  1.4 TFSI 122 pk Pro Line S-Line 1 eigenaar/ NL...   \n",
              "\n",
              "                          price              mileage          gearbox  \\\n",
              "0  [['\\n', '€ 15,945.-', '\\n']]  ['', ['42,091 km']]  \\n,Automatic,\\n   \n",
              "\n",
              "  registration       fuel_type            power                seller  \\\n",
              "0      05/2012  \\n,Gasoline,\\n  90 kW (122 hp),  ['\\n', ['Dealer\\n']]   \n",
              "\n",
              "       body_type        type   drivetrain seats doors       country_version  \\\n",
              "0  \\n,Compact,\\n  \\n,Used,\\n  \\n,Front,\\n   \\n4   \\n3  Country version,None   \n",
              "\n",
              "  offer_number    warranty         Mileage first_registration production_date  \\\n",
              "0   \\n82-XDG-9  \\n,None,\\n  [['\\n'], ['']]            05/2012             NaN   \n",
              "\n",
              "  general_inspection  last_service full_service_history non_smoker_vehicle  \\\n",
              "0            03/2022           NaN            \\n,Yes,\\n         \\n,None,\\n   \n",
              "\n",
              "                  Power          Gearbox     engine_size    gears cylinders  \\\n",
              "0  \\n,90 kW (122 hp),\\n  \\n,Automatic,\\n  \\n,1,390 cc,\\n  \\n,7,\\n   \\n,4,\\n   \n",
              "\n",
              "     empty_weight       Fuel_type  \\\n",
              "0  \\n,1,100 kg,\\n  \\n,Super 95,\\n   \n",
              "\n",
              "                                    fuel_consumption           co2_emissions  \\\n",
              "0  ['\\n', ['5.3 l/100 km (comb.)', '6.5 l/100 km ...  \\n,122 g/km (comb.),\\n   \n",
              "\n",
              "  emission_class                          \\nComfort & Convenience\\n  \\\n",
              "0   \\n,Euro 5,\\n  [['Air conditioning', 'Armrest', 'Automatic cl...   \n",
              "\n",
              "                           \\nEntertainment & Media\\n  \\\n",
              "0  [['CD player', 'Digital radio', 'MP3', 'On-boa...   \n",
              "\n",
              "                               \\nSafety & Security\\n  \\\n",
              "0  [['ABS', 'Alarm system', 'Bi-Xenon headlights'...   \n",
              "\n",
              "                                              extras  \\ncolour  \\\n",
              "0  [['Alloy wheels (18\")', 'Sport seats', 'Sport ...  \\n4, Red   \n",
              "\n",
              "   \\nmanufacturer_color            \\npaint   upholstery_colour   \\\n",
              "0                   NaN  \\npaint, Metallic  \\nupholstery, Black   \n",
              "\n",
              "         upholstery   \n",
              "0  \\n8, Part leather  "
            ]
          },
          "metadata": {},
          "execution_count": 358
        }
      ]
    },
    {
      "cell_type": "markdown",
      "metadata": {
        "id": "E0m26bbyffWh"
      },
      "source": [
        "> Drop columns that have %65 precentage and higher of missing values."
      ]
    },
    {
      "cell_type": "code",
      "source": [
        "drop_columns=[\n",
        "              # 'location', \n",
        "              'url', # useless\n",
        "              # 'make', \n",
        "              # 'model', \n",
        "              'short_description', # complicated data ---------------------->\n",
        "              # 'price',\n",
        "              # 'mileage', \n",
        "              # 'gearbox', \n",
        "              # 'registration', \n",
        "              # 'fuel_type', \n",
        "              # 'power', \n",
        "              # 'seller',\n",
        "              # 'body_type', \n",
        "              # 'type', \n",
        "              # 'drivetrain', \n",
        "              # 'seats', \n",
        "              # 'doors', \n",
        "              'country_version', # useless\n",
        "              'offer_number', # useless\n",
        "              # 'warranty', \n",
        "              'Mileage', # useless\n",
        "              # 'first_registration',\n",
        "              'production_date', # null\n",
        "              # 'general_inspection', \n",
        "              'last_service', #null\n",
        "              # 'full_service_history', \n",
        "              # 'non_smoker_vehicle', \n",
        "              'Power', # dublicate column\n",
        "              'Gearbox', # dublicate column\n",
        "              # 'engine_size', \n",
        "              # 'gears', \n",
        "              # 'cylinders', \n",
        "              # 'empty_weight', \n",
        "              'Fuel_type',# dublicate column\n",
        "              # 'fuel_consumption', \n",
        "              # 'co2_emissions', \n",
        "              # 'emission_class',\n",
        "              # '\\nComfort & Convenience\\n', \n",
        "              # '\\nEntertainment & Media\\n',\n",
        "              # '\\nSafety & Security\\n',\n",
        "              # 'extras', \n",
        "              # '\\ncolour', # dublicate column\n",
        "              '\\nmanufacturer_color', # null\n",
        "              # '\\npaint',\n",
        "              # ' upholstery_colour ',\n",
        "              # ' upholstery ',\n",
        "]\n",
        "df.drop(drop_columns, axis = 1, inplace = True)"
      ],
      "metadata": {
        "id": "LTv-gbheeL8e"
      },
      "execution_count": 359,
      "outputs": []
    },
    {
      "cell_type": "code",
      "execution_count": 360,
      "metadata": {
        "id": "3Z6Yj39TffWi",
        "outputId": "e69b11b7-5e26-469d-be85-50e6a65dfb7c",
        "colab": {
          "base_uri": "https://localhost:8080/"
        }
      },
      "outputs": [
        {
          "output_type": "execute_result",
          "data": {
            "text/plain": [
              "(65841, 35)"
            ]
          },
          "metadata": {},
          "execution_count": 360
        }
      ],
      "source": [
        "df.shape"
      ]
    },
    {
      "cell_type": "markdown",
      "metadata": {
        "id": "KVAWStuUffWj"
      },
      "source": [
        "## Percentages of Null Data"
      ]
    },
    {
      "cell_type": "code",
      "execution_count": 361,
      "metadata": {
        "id": "i8taq5GbffWj",
        "outputId": "8fa49677-9cf6-4b2c-eb70-5b376fcf7b50",
        "colab": {
          "base_uri": "https://localhost:8080/"
        }
      },
      "outputs": [
        {
          "output_type": "execute_result",
          "data": {
            "text/plain": [
              "location                      0.000000\n",
              "make                          0.000000\n",
              "model                         0.000000\n",
              "price                         0.000000\n",
              "mileage                       0.000000\n",
              "gearbox                       0.000000\n",
              "registration                  0.069865\n",
              "fuel_type                     0.000000\n",
              "power                         0.000000\n",
              "seller                        0.000000\n",
              "body_type                     0.000000\n",
              "type                          0.000000\n",
              "drivetrain                    0.000000\n",
              "seats                         0.000000\n",
              "doors                         0.000000\n",
              "warranty                      0.000000\n",
              "first_registration            0.068346\n",
              "general_inspection           23.890889\n",
              "full_service_history          0.000000\n",
              "non_smoker_vehicle            0.000000\n",
              "engine_size                   0.000000\n",
              "gears                         0.000000\n",
              "cylinders                     0.000000\n",
              "empty_weight                  0.000000\n",
              "fuel_consumption              0.000000\n",
              "co2_emissions                 0.000000\n",
              "emission_class                0.000000\n",
              "\\nComfort & Convenience\\n     0.000000\n",
              "\\nEntertainment & Media\\n     0.000000\n",
              "\\nSafety & Security\\n         0.000000\n",
              "extras                        0.000000\n",
              "\\ncolour                      1.600826\n",
              "\\npaint                      28.164821\n",
              " upholstery_colour           33.530779\n",
              " upholstery                  15.999149\n",
              "dtype: float64"
            ]
          },
          "metadata": {},
          "execution_count": 361
        }
      ],
      "source": [
        "show_nans(df,0)"
      ]
    },
    {
      "cell_type": "markdown",
      "metadata": {
        "id": "6Gzi7hLYffWj"
      },
      "source": [
        "\\> At the begining, focus on the columns that have %15 precentage and higher of missing values. "
      ]
    },
    {
      "cell_type": "code",
      "execution_count": 362,
      "metadata": {
        "id": "4GC3e-4iffWj",
        "outputId": "9c0fb0ff-5bf9-4037-a55f-41d7ba0882e8",
        "colab": {
          "base_uri": "https://localhost:8080/"
        }
      },
      "outputs": [
        {
          "output_type": "execute_result",
          "data": {
            "text/plain": [
              "general_inspection     23.890889\n",
              "\\npaint                28.164821\n",
              " upholstery_colour     33.530779\n",
              " upholstery            15.999149\n",
              "dtype: float64"
            ]
          },
          "metadata": {},
          "execution_count": 362
        }
      ],
      "source": [
        "show_nans(df,15)"
      ]
    },
    {
      "cell_type": "markdown",
      "metadata": {
        "id": "oVbPjgG0ffWk"
      },
      "source": [
        "## Rename Columns"
      ]
    },
    {
      "cell_type": "code",
      "execution_count": 363,
      "metadata": {
        "id": "elsAqu0HffWk",
        "outputId": "8be6d22f-3ebb-47fa-8907-7f3dda61d9c8",
        "colab": {
          "base_uri": "https://localhost:8080/"
        }
      },
      "outputs": [
        {
          "output_type": "execute_result",
          "data": {
            "text/plain": [
              "Index(['location', 'make', 'model', 'price', 'mileage', 'gearbox',\n",
              "       'registration', 'fuel_type', 'power', 'seller', 'body_type', 'type',\n",
              "       'drivetrain', 'seats', 'doors', 'warranty', 'first_registration',\n",
              "       'general_inspection', 'full_service_history', 'non_smoker_vehicle',\n",
              "       'engine_size', 'gears', 'cylinders', 'empty_weight', 'fuel_consumption',\n",
              "       'co2_emissions', 'emission_class', '\\nComfort & Convenience\\n',\n",
              "       '\\nEntertainment & Media\\n', '\\nSafety & Security\\n', 'extras',\n",
              "       '\\ncolour', '\\npaint', ' upholstery_colour ', ' upholstery '],\n",
              "      dtype='object')"
            ]
          },
          "metadata": {},
          "execution_count": 363
        }
      ],
      "source": [
        "df.columns"
      ]
    },
    {
      "cell_type": "code",
      "execution_count": 364,
      "metadata": {
        "id": "Fez4hF7KffWk"
      },
      "outputs": [],
      "source": [
        "df.rename(columns={\n",
        "                  \"\\nComfort & Convenience\\n\":\"comfort_convenience\",\n",
        "                  \"\\nEntertainment & Media\\n\":\"entertainment_media\",\n",
        "                  \"\\nSafety & Security\\n\":\"safety_security\",\n",
        "                  \"\\ncolour\":\"colour\",\n",
        "                  \"\\nmanufacturer_color\":\"manufacturer_color\",\n",
        "                  \"\\npaint\":\"paint\",\n",
        "                  \" upholstery_colour \":\"upholstery_colour\",\n",
        "                  \" upholstery \":\"upholstery\" },inplace=True)"
      ]
    },
    {
      "cell_type": "markdown",
      "source": [
        "# 1-Data Cleansing"
      ],
      "metadata": {
        "id": "oeurrbXIMdFe"
      }
    },
    {
      "cell_type": "markdown",
      "metadata": {
        "id": "pK60-WpjffWk"
      },
      "source": [
        "> Open a header for all columns"
      ]
    },
    {
      "cell_type": "markdown",
      "metadata": {
        "id": "pIKIjAbklmXA"
      },
      "source": [
        "## location"
      ]
    },
    {
      "cell_type": "code",
      "execution_count": 365,
      "metadata": {
        "outputId": "a9e89fa2-a7a5-4c88-fdd3-d7d580dffd23",
        "colab": {
          "base_uri": "https://localhost:8080/"
        },
        "id": "Xnn-ysXElmXB"
      },
      "outputs": [
        {
          "output_type": "execute_result",
          "data": {
            "text/plain": [
              "0.0"
            ]
          },
          "metadata": {},
          "execution_count": 365
        }
      ],
      "source": [
        "perc_nans(df.location)"
      ]
    },
    {
      "cell_type": "code",
      "execution_count": 366,
      "metadata": {
        "outputId": "698b70b3-a777-47b5-ddc0-24981f9f743a",
        "colab": {
          "base_uri": "https://localhost:8080/"
        },
        "id": "coPE-SoqlmXB"
      },
      "outputs": [
        {
          "output_type": "execute_result",
          "data": {
            "text/plain": [
              "ROTTERDAM, NL                1431\n",
              "APELDOORN, NL                1176\n",
              "AMSTERDAM, NL                 959\n",
              "TILBURG, NL                   906\n",
              "HAARLEM, NL                   736\n",
              "                             ... \n",
              "Driebergen-Rijsenburg, NL       1\n",
              "Wolphaartsdijk, NL              1\n",
              "FERWERT, NL                     1\n",
              "heerlen, NL                     1\n",
              "Gulpen-Wittem, NL               1\n",
              "Name: location, Length: 2288, dtype: int64"
            ]
          },
          "metadata": {},
          "execution_count": 366
        }
      ],
      "source": [
        "df.location.value_counts(dropna=False)"
      ]
    },
    {
      "cell_type": "code",
      "source": [
        "df.location = df.location.str.strip(\", NL\")\n",
        "df.location = df.location.str.title()"
      ],
      "metadata": {
        "id": "cQLoFjYWmOvx"
      },
      "execution_count": 367,
      "outputs": []
    },
    {
      "cell_type": "markdown",
      "metadata": {
        "id": "eSofjsY-ffWk"
      },
      "source": [
        "## make"
      ]
    },
    {
      "cell_type": "code",
      "execution_count": 368,
      "metadata": {
        "id": "SI3J3grpffWk",
        "outputId": "ee316526-df34-43fd-874d-230623f7b3b9",
        "colab": {
          "base_uri": "https://localhost:8080/"
        }
      },
      "outputs": [
        {
          "output_type": "execute_result",
          "data": {
            "text/plain": [
              "0.0"
            ]
          },
          "metadata": {},
          "execution_count": 368
        }
      ],
      "source": [
        "perc_nans(df.make)"
      ]
    },
    {
      "cell_type": "code",
      "execution_count": 369,
      "metadata": {
        "id": "wqv2gly8ffWl",
        "outputId": "863cd74e-ae93-4068-ea5f-57dfe81ceac0",
        "colab": {
          "base_uri": "https://localhost:8080/"
        }
      },
      "outputs": [
        {
          "output_type": "execute_result",
          "data": {
            "text/plain": [
              "\\n,BMW ,\\n              7775\n",
              "\\n,Volkswagen ,\\n       7344\n",
              "\\n,Audi ,\\n             6344\n",
              "\\n,Mercedes-Benz ,\\n    5580\n",
              "\\n,Volvo ,\\n            5184\n",
              "\\n,Renault ,\\n          4839\n",
              "\\n,Peugeot ,\\n          3869\n",
              "\\n,Toyota ,\\n           3026\n",
              "\\n,Skoda ,\\n            2911\n",
              "\\n,Kia ,\\n              2894\n",
              "\\n,Hyundai ,\\n          2631\n",
              "\\n,Opel ,\\n             2574\n",
              "\\n,Citroen ,\\n          2473\n",
              "\\n,Mazda ,\\n            2324\n",
              "\\n,Fiat ,\\n             2195\n",
              "\\n,Honda ,\\n            1045\n",
              "\\n,Ford ,\\n              971\n",
              "\\n,Dacia ,\\n             937\n",
              "\\n,Chevrolet ,\\n         465\n",
              "\\n,Tesla ,\\n             460\n",
              "Name: make, dtype: int64"
            ]
          },
          "metadata": {},
          "execution_count": 369
        }
      ],
      "source": [
        "df.make.value_counts(dropna=False)"
      ]
    },
    {
      "cell_type": "code",
      "source": [
        "df.make = df.make.str.split(\",\").apply(lambda x: x[1])"
      ],
      "metadata": {
        "id": "dtaJ0UYbnrSz"
      },
      "execution_count": 370,
      "outputs": []
    },
    {
      "cell_type": "code",
      "source": [
        "df.make.value_counts(dropna=False)"
      ],
      "metadata": {
        "colab": {
          "base_uri": "https://localhost:8080/"
        },
        "id": "Wa7_r3odqKzZ",
        "outputId": "fdbf6401-4322-4e0d-f3bd-cbcd895a89c8"
      },
      "execution_count": 371,
      "outputs": [
        {
          "output_type": "execute_result",
          "data": {
            "text/plain": [
              "BMW               7775\n",
              "Volkswagen        7344\n",
              "Audi              6344\n",
              "Mercedes-Benz     5580\n",
              "Volvo             5184\n",
              "Renault           4839\n",
              "Peugeot           3869\n",
              "Toyota            3026\n",
              "Skoda             2911\n",
              "Kia               2894\n",
              "Hyundai           2631\n",
              "Opel              2574\n",
              "Citroen           2473\n",
              "Mazda             2324\n",
              "Fiat              2195\n",
              "Honda             1045\n",
              "Ford               971\n",
              "Dacia              937\n",
              "Chevrolet          465\n",
              "Tesla              460\n",
              "Name: make, dtype: int64"
            ]
          },
          "metadata": {},
          "execution_count": 371
        }
      ]
    },
    {
      "cell_type": "markdown",
      "metadata": {
        "id": "5RmRif86qT7d"
      },
      "source": [
        "## model"
      ]
    },
    {
      "cell_type": "code",
      "execution_count": 372,
      "metadata": {
        "outputId": "7e389881-4ead-4c59-8408-b5a1848c8eb7",
        "colab": {
          "base_uri": "https://localhost:8080/"
        },
        "id": "StuIwrujqT7e"
      },
      "outputs": [
        {
          "output_type": "execute_result",
          "data": {
            "text/plain": [
              "0.0"
            ]
          },
          "metadata": {},
          "execution_count": 372
        }
      ],
      "source": [
        "perc_nans(df.model)"
      ]
    },
    {
      "cell_type": "code",
      "source": [
        "df.model"
      ],
      "metadata": {
        "colab": {
          "base_uri": "https://localhost:8080/"
        },
        "id": "U8dLamLQ4NDh",
        "outputId": "27029976-5769-404d-c36f-cd05fb50d800"
      },
      "execution_count": 373,
      "outputs": [
        {
          "output_type": "execute_result",
          "data": {
            "text/plain": [
              "0         \\n,A1,\\n\n",
              "1         \\n,A3,\\n\n",
              "2         \\n,A3,\\n\n",
              "3         \\n,A7,\\n\n",
              "4         \\n,A3,\\n\n",
              "           ...    \n",
              "65836    \\n,S60,\\n\n",
              "65837    \\n,S60,\\n\n",
              "65838    \\n,S40,\\n\n",
              "65839    \\n,S60,\\n\n",
              "65840    \\n,S60,\\n\n",
              "Name: model, Length: 65841, dtype: object"
            ]
          },
          "metadata": {},
          "execution_count": 373
        }
      ]
    },
    {
      "cell_type": "code",
      "execution_count": 374,
      "metadata": {
        "outputId": "38eccb95-5add-426b-a083-719e816921cd",
        "colab": {
          "base_uri": "https://localhost:8080/"
        },
        "id": "-15-Sbs5qT7e"
      },
      "outputs": [
        {
          "output_type": "execute_result",
          "data": {
            "text/plain": [
              "\\n,A3,\\n           1349\n",
              "\\n,Golf,\\n         1025\n",
              "\\n,Megane,\\n        968\n",
              "\\n,A4,\\n            857\n",
              "\\n,2008,\\n          851\n",
              "                   ... \n",
              "\\n,Speedster,\\n       1\n",
              "\\n,S1,\\n              1\n",
              "\\n,425,\\n             1\n",
              "\\n,ML 400,\\n          1\n",
              "\\n,QUATTRO,\\n         1\n",
              "Name: model, Length: 694, dtype: int64"
            ]
          },
          "metadata": {},
          "execution_count": 374
        }
      ],
      "source": [
        "df.model.value_counts(dropna=False)"
      ]
    },
    {
      "cell_type": "code",
      "source": [
        "df.model = df.model.str.split(\",\").apply(lambda x: x[1])"
      ],
      "metadata": {
        "id": "O9H8g38iqT7e"
      },
      "execution_count": 375,
      "outputs": []
    },
    {
      "cell_type": "code",
      "source": [
        "df.model.value_counts(dropna=False)"
      ],
      "metadata": {
        "colab": {
          "base_uri": "https://localhost:8080/"
        },
        "outputId": "5be20aad-bec5-478e-fefd-d195952c9b08",
        "id": "3W8okQigqT7e"
      },
      "execution_count": 376,
      "outputs": [
        {
          "output_type": "execute_result",
          "data": {
            "text/plain": [
              "A3           1349\n",
              "Golf         1025\n",
              "Megane        968\n",
              "A4            857\n",
              "2008          851\n",
              "             ... \n",
              "Sienna          1\n",
              "T5 Kombi        1\n",
              "GL 63 AMG       1\n",
              "GLK 300         1\n",
              "LT              1\n",
              "Name: model, Length: 694, dtype: int64"
            ]
          },
          "metadata": {},
          "execution_count": 376
        }
      ]
    },
    {
      "cell_type": "code",
      "source": [
        "df['make_model'] = df[['make','model']].apply(lambda x: x[0].strip()+' '+x[1].strip(), axis=1)\n",
        "df.make_model.value_counts(dropna=False)"
      ],
      "metadata": {
        "colab": {
          "base_uri": "https://localhost:8080/"
        },
        "id": "AbNPo0923wIs",
        "outputId": "c5f08804-1a73-4ac6-f796-99105aa86c41"
      },
      "execution_count": 377,
      "outputs": [
        {
          "output_type": "execute_result",
          "data": {
            "text/plain": [
              "Audi A3                  1349\n",
              "Volkswagen Golf          1025\n",
              "Renault Megane            968\n",
              "Audi A4                   857\n",
              "Peugeot 2008              851\n",
              "                         ... \n",
              "Mercedes-Benz 500           1\n",
              "Mercedes-Benz SLK 320       1\n",
              "Chevrolet Trailblazer       1\n",
              "Mercedes-Benz CL 600        1\n",
              "Mercedes-Benz 300           1\n",
              "Name: make_model, Length: 716, dtype: int64"
            ]
          },
          "metadata": {},
          "execution_count": 377
        }
      ]
    },
    {
      "cell_type": "code",
      "source": [
        "df = df.drop(['make','model'], axis=1)"
      ],
      "metadata": {
        "id": "C3cf9oIA5Ebc"
      },
      "execution_count": 378,
      "outputs": []
    },
    {
      "cell_type": "markdown",
      "metadata": {
        "id": "1H3f8Xu2ffWl"
      },
      "source": [
        "## price"
      ]
    },
    {
      "cell_type": "markdown",
      "metadata": {
        "id": "JyQmXBIVffWl"
      },
      "source": [
        "> Target Column"
      ]
    },
    {
      "cell_type": "code",
      "execution_count": 379,
      "metadata": {
        "id": "-V04njqeffWl",
        "outputId": "1b6dd9df-6261-4054-fd4c-a4469d171a1f",
        "colab": {
          "base_uri": "https://localhost:8080/"
        }
      },
      "outputs": [
        {
          "output_type": "execute_result",
          "data": {
            "text/plain": [
              "0.0"
            ]
          },
          "metadata": {},
          "execution_count": 379
        }
      ],
      "source": [
        "perc_nans(df.price)"
      ]
    },
    {
      "cell_type": "code",
      "source": [
        "df.price.value_counts(dropna=False).sample(10)"
      ],
      "metadata": {
        "colab": {
          "base_uri": "https://localhost:8080/"
        },
        "id": "p0RHXdAqq7GU",
        "outputId": "53b4561c-2730-4081-de5c-053a2391fc34"
      },
      "execution_count": 380,
      "outputs": [
        {
          "output_type": "execute_result",
          "data": {
            "text/plain": [
              "[['\\n', '€ 44,970.-', '\\n']]     1\n",
              "[['\\n', '€ 24,244.-', '\\n']]     1\n",
              "[['\\n', '€ 7,599.-', '\\n']]      1\n",
              "[['\\n', '€ 86,470.-', '\\n']]     1\n",
              "[['\\n', '€ 40,740.-', '\\n']]     1\n",
              "[['\\n', '€ 19,949.-', '\\n']]    16\n",
              "[['\\n', '€ 93,950.-', '\\n']]     2\n",
              "[['\\n', '€ 28,930.-', '\\n']]     6\n",
              "[['\\n', '€ 51,897.-', '\\n']]     3\n",
              "[['\\n', '€ 7,990.-', '\\n']]     26\n",
              "Name: price, dtype: int64"
            ]
          },
          "metadata": {},
          "execution_count": 380
        }
      ]
    },
    {
      "cell_type": "code",
      "source": [
        "df.price = df.price.str.extract('€ (\\d*\\,*\\d*).-')[0].str.replace(\",\",'').astype('float')\n",
        "df.price"
      ],
      "metadata": {
        "colab": {
          "base_uri": "https://localhost:8080/"
        },
        "id": "p9F-mRJEq7Nh",
        "outputId": "327b59b5-4a29-402b-bfe2-548f7df7779e"
      },
      "execution_count": 381,
      "outputs": [
        {
          "output_type": "execute_result",
          "data": {
            "text/plain": [
              "0        15945.0\n",
              "1        19490.0\n",
              "2        19900.0\n",
              "3        19800.0\n",
              "4         5950.0\n",
              "          ...   \n",
              "65836     2495.0\n",
              "65837     8950.0\n",
              "65838     9250.0\n",
              "65839     1999.0\n",
              "65840     3950.0\n",
              "Name: price, Length: 65841, dtype: float64"
            ]
          },
          "metadata": {},
          "execution_count": 381
        }
      ]
    },
    {
      "cell_type": "code",
      "source": [
        "perc_nans(df.price)"
      ],
      "metadata": {
        "colab": {
          "base_uri": "https://localhost:8080/"
        },
        "id": "uAz4HVoEsKBC",
        "outputId": "d815b09d-b8bd-4b34-ce11-7b487d4fd48f"
      },
      "execution_count": 382,
      "outputs": [
        {
          "output_type": "execute_result",
          "data": {
            "text/plain": [
              "2.2372078188362874"
            ]
          },
          "metadata": {},
          "execution_count": 382
        }
      ]
    },
    {
      "cell_type": "code",
      "source": [
        "df = df.iloc[df[df.price.notna()==True].index,:]"
      ],
      "metadata": {
        "id": "rkKhMk4zsrf_"
      },
      "execution_count": 383,
      "outputs": []
    },
    {
      "cell_type": "code",
      "source": [
        "perc_nans(df.price)"
      ],
      "metadata": {
        "colab": {
          "base_uri": "https://localhost:8080/"
        },
        "id": "pqabTCrEua5-",
        "outputId": "f7d7404f-7ec1-4bf2-f71f-48b1f969d54a"
      },
      "execution_count": 384,
      "outputs": [
        {
          "output_type": "execute_result",
          "data": {
            "text/plain": [
              "0.0"
            ]
          },
          "metadata": {},
          "execution_count": 384
        }
      ]
    },
    {
      "cell_type": "markdown",
      "metadata": {
        "id": "--nndCkQffWm"
      },
      "source": [
        "## mileage"
      ]
    },
    {
      "cell_type": "code",
      "execution_count": 385,
      "metadata": {
        "id": "HqPZrY86ffWm",
        "outputId": "a9476f4a-ac93-49cf-c3a9-cfaaffda128a",
        "colab": {
          "base_uri": "https://localhost:8080/"
        }
      },
      "outputs": [
        {
          "output_type": "execute_result",
          "data": {
            "text/plain": [
              "0.0"
            ]
          },
          "metadata": {},
          "execution_count": 385
        }
      ],
      "source": [
        "perc_nans(df.mileage)"
      ]
    },
    {
      "cell_type": "code",
      "execution_count": 386,
      "metadata": {
        "id": "b2oc8l47ffWm",
        "outputId": "37adb59e-17a6-421b-b388-1b9c3539edb2",
        "colab": {
          "base_uri": "https://localhost:8080/"
        }
      },
      "outputs": [
        {
          "output_type": "execute_result",
          "data": {
            "text/plain": [
              "0         ['', ['42,091 km']]\n",
              "1        ['', ['133,585 km']]\n",
              "2         ['', ['66,352 km']]\n",
              "3        ['', ['156,201 km']]\n",
              "4        ['', ['176,370 km']]\n",
              "                 ...         \n",
              "65836    ['', ['413,529 km']]\n",
              "65837    ['', ['126,181 km']]\n",
              "65838    ['', ['155,300 km']]\n",
              "65839    ['', ['442,713 km']]\n",
              "65840    ['', ['251,723 km']]\n",
              "Name: mileage, Length: 64368, dtype: object"
            ]
          },
          "metadata": {},
          "execution_count": 386
        }
      ],
      "source": [
        "# df.mileage.sample(10)\n",
        "df.mileage"
      ]
    },
    {
      "cell_type": "code",
      "execution_count": 387,
      "metadata": {
        "id": "U1s7Riw0ffWm"
      },
      "outputs": [],
      "source": [
        "df.mileage = df.mileage.str.extract('(\\d*),(\\d*) km').apply(lambda x: x[0]+x[1], axis=1).astype('float')"
      ]
    },
    {
      "cell_type": "code",
      "execution_count": 388,
      "metadata": {
        "id": "dJnKbk4RffWn",
        "outputId": "6abdbfc1-3bf4-4155-a915-ec9488226a8b",
        "colab": {
          "base_uri": "https://localhost:8080/"
        }
      },
      "outputs": [
        {
          "output_type": "execute_result",
          "data": {
            "text/plain": [
              "0         42091.0\n",
              "1        133585.0\n",
              "2         66352.0\n",
              "3        156201.0\n",
              "4        176370.0\n",
              "           ...   \n",
              "65836    413529.0\n",
              "65837    126181.0\n",
              "65838    155300.0\n",
              "65839    442713.0\n",
              "65840    251723.0\n",
              "Name: mileage, Length: 64368, dtype: float64"
            ]
          },
          "metadata": {},
          "execution_count": 388
        }
      ],
      "source": [
        "df.mileage"
      ]
    },
    {
      "cell_type": "code",
      "source": [
        "perc_nans(df.mileage)"
      ],
      "metadata": {
        "colab": {
          "base_uri": "https://localhost:8080/"
        },
        "id": "ygjauyxdyFbz",
        "outputId": "b58d16e7-3d4a-40fd-c113-6d3d0a8befed"
      },
      "execution_count": 389,
      "outputs": [
        {
          "output_type": "execute_result",
          "data": {
            "text/plain": [
              "9.778150633855331"
            ]
          },
          "metadata": {},
          "execution_count": 389
        }
      ]
    },
    {
      "cell_type": "markdown",
      "metadata": {
        "id": "bmvmvHEzffWw"
      },
      "source": [
        "## gearbox"
      ]
    },
    {
      "cell_type": "code",
      "execution_count": 390,
      "metadata": {
        "id": "JFoDnnx8ffWx",
        "outputId": "9c67fc81-8cda-4337-a150-242d0f3841ee",
        "colab": {
          "base_uri": "https://localhost:8080/"
        }
      },
      "outputs": [
        {
          "output_type": "execute_result",
          "data": {
            "text/plain": [
              "40497       \\n,Manual,\\n\n",
              "31479    \\n,Automatic,\\n\n",
              "39266       \\n,Manual,\\n\n",
              "45793       \\n,Manual,\\n\n",
              "16333       \\n,Manual,\\n\n",
              "25539       \\n,Manual,\\n\n",
              "11543    \\n,Automatic,\\n\n",
              "1748     \\n,Automatic,\\n\n",
              "57032    \\n,Automatic,\\n\n",
              "41612       \\n,Manual,\\n\n",
              "Name: gearbox, dtype: object"
            ]
          },
          "metadata": {},
          "execution_count": 390
        }
      ],
      "source": [
        "df.gearbox.sample(10)"
      ]
    },
    {
      "cell_type": "code",
      "execution_count": 391,
      "metadata": {
        "id": "h9WbyPtsffWx"
      },
      "outputs": [],
      "source": [
        "df.gearbox = df.gearbox.str.extract(',(\\w*),')"
      ]
    },
    {
      "cell_type": "code",
      "execution_count": 392,
      "metadata": {
        "id": "-i5G1TXhffWx",
        "outputId": "672a7fae-d0fe-4bd8-b86c-704907b44a2f",
        "colab": {
          "base_uri": "https://localhost:8080/"
        }
      },
      "outputs": [
        {
          "output_type": "execute_result",
          "data": {
            "text/plain": [
              "Automatic    38790\n",
              "Manual       24895\n",
              "NaN            683\n",
              "Name: gearbox, dtype: int64"
            ]
          },
          "metadata": {},
          "execution_count": 392
        }
      ],
      "source": [
        "df.gearbox.value_counts(dropna=False)"
      ]
    },
    {
      "cell_type": "code",
      "source": [
        "perc_nans(df.gearbox)"
      ],
      "metadata": {
        "colab": {
          "base_uri": "https://localhost:8080/"
        },
        "id": "wUnLJJDW0lpM",
        "outputId": "8acc288b-af97-4ab9-e670-59ab51e6b683"
      },
      "execution_count": 393,
      "outputs": [
        {
          "output_type": "execute_result",
          "data": {
            "text/plain": [
              "1.061086254039274"
            ]
          },
          "metadata": {},
          "execution_count": 393
        }
      ]
    },
    {
      "cell_type": "markdown",
      "metadata": {
        "id": "fE5VB8IRffWs"
      },
      "source": [
        "## first_registration"
      ]
    },
    {
      "cell_type": "code",
      "source": [
        "perc_nans(df.first_registration)"
      ],
      "metadata": {
        "colab": {
          "base_uri": "https://localhost:8080/"
        },
        "id": "XcWBixKn1TjW",
        "outputId": "93aa5731-30c1-43fc-8d43-1850c4e7fd19"
      },
      "execution_count": 394,
      "outputs": [
        {
          "output_type": "execute_result",
          "data": {
            "text/plain": [
              "0.06991051454138703"
            ]
          },
          "metadata": {},
          "execution_count": 394
        }
      ]
    },
    {
      "cell_type": "code",
      "source": [
        "df.first_registration"
      ],
      "metadata": {
        "colab": {
          "base_uri": "https://localhost:8080/"
        },
        "id": "F20JEnx-1iBK",
        "outputId": "8e8de929-b231-481e-eedb-3dc23d8049bb"
      },
      "execution_count": 395,
      "outputs": [
        {
          "output_type": "execute_result",
          "data": {
            "text/plain": [
              "0        05/2012\n",
              "1        05/2017\n",
              "2        07/2016\n",
              "3        01/2011\n",
              "4        04/2005\n",
              "          ...   \n",
              "65836    06/2005\n",
              "65837    03/2005\n",
              "65838    06/2012\n",
              "65839    02/2005\n",
              "65840    10/2005\n",
              "Name: first_registration, Length: 64368, dtype: object"
            ]
          },
          "metadata": {},
          "execution_count": 395
        }
      ]
    },
    {
      "cell_type": "code",
      "execution_count": 396,
      "metadata": {
        "id": "HxJhMl2sffWs"
      },
      "outputs": [],
      "source": [
        "df.first_registration = df.first_registration.str.extract('/(\\d*)').astype('float')"
      ]
    },
    {
      "cell_type": "code",
      "execution_count": 397,
      "metadata": {
        "id": "5VGocnynffWs"
      },
      "outputs": [],
      "source": [
        "df['age']= 2022 - df.first_registration"
      ]
    },
    {
      "cell_type": "code",
      "execution_count": 398,
      "metadata": {
        "id": "MdboMDOYffWs",
        "outputId": "004f97c3-d2ed-4962-cab7-c69530b4b6f2",
        "colab": {
          "base_uri": "https://localhost:8080/"
        }
      },
      "outputs": [
        {
          "output_type": "execute_result",
          "data": {
            "text/plain": [
              " 1.0     9099\n",
              " 5.0     6107\n",
              " 6.0     5671\n",
              " 4.0     4655\n",
              " 2.0     4387\n",
              " 7.0     3776\n",
              " 3.0     3389\n",
              " 11.0    3285\n",
              " 10.0    3256\n",
              " 8.0     3135\n",
              " 9.0     3133\n",
              " 12.0    2876\n",
              " 14.0    2331\n",
              " 13.0    2288\n",
              " 15.0    1978\n",
              " 16.0    1706\n",
              " 17.0    1596\n",
              " 0.0     1549\n",
              " NaN       45\n",
              " 18.0      21\n",
              " 19.0      16\n",
              " 20.0      14\n",
              " 21.0      13\n",
              " 22.0       8\n",
              " 25.0       6\n",
              " 23.0       6\n",
              " 26.0       4\n",
              " 29.0       3\n",
              " 24.0       3\n",
              " 27.0       2\n",
              " 30.0       2\n",
              " 37.0       1\n",
              " 28.0       1\n",
              " 46.0       1\n",
              "-6.0        1\n",
              "-3.0        1\n",
              " 41.0       1\n",
              " 39.0       1\n",
              " 31.0       1\n",
              "Name: age, dtype: int64"
            ]
          },
          "metadata": {},
          "execution_count": 398
        }
      ],
      "source": [
        "df.age.value_counts(dropna=False)"
      ]
    },
    {
      "cell_type": "markdown",
      "metadata": {
        "id": "lctJnKMuffWq"
      },
      "source": [
        "## registration"
      ]
    },
    {
      "cell_type": "code",
      "source": [
        "data[data['first_registration']!=data['registration']][['first_registration','registration','power','empty_weight']]"
      ],
      "metadata": {
        "colab": {
          "base_uri": "https://localhost:8080/",
          "height": 1000
        },
        "id": "JsiJ7OoDTfYu",
        "outputId": "6527d0af-75fc-4200-bd65-c2fed1b28b13"
      },
      "execution_count": 399,
      "outputs": [
        {
          "output_type": "execute_result",
          "data": {
            "text/html": [
              "\n",
              "  <div id=\"df-ac72b43c-ca63-4199-8739-b713cc41d8f4\">\n",
              "    <div class=\"colab-df-container\">\n",
              "      <div>\n",
              "<style scoped>\n",
              "    .dataframe tbody tr th:only-of-type {\n",
              "        vertical-align: middle;\n",
              "    }\n",
              "\n",
              "    .dataframe tbody tr th {\n",
              "        vertical-align: top;\n",
              "    }\n",
              "\n",
              "    .dataframe thead th {\n",
              "        text-align: right;\n",
              "    }\n",
              "</style>\n",
              "<table border=\"1\" class=\"dataframe\">\n",
              "  <thead>\n",
              "    <tr style=\"text-align: right;\">\n",
              "      <th></th>\n",
              "      <th>first_registration</th>\n",
              "      <th>registration</th>\n",
              "      <th>power</th>\n",
              "      <th>empty_weight</th>\n",
              "    </tr>\n",
              "  </thead>\n",
              "  <tbody>\n",
              "    <tr>\n",
              "      <th>12810</th>\n",
              "      <td>None</td>\n",
              "      <td>NaN</td>\n",
              "      <td>240 kW (326 hp),</td>\n",
              "      <td>\\n,2,340 kg,\\n</td>\n",
              "    </tr>\n",
              "    <tr>\n",
              "      <th>12888</th>\n",
              "      <td>None</td>\n",
              "      <td>NaN</td>\n",
              "      <td>210 kW (286 hp),</td>\n",
              "      <td>\\n,2,185 kg,\\n</td>\n",
              "    </tr>\n",
              "    <tr>\n",
              "      <th>12908</th>\n",
              "      <td>None</td>\n",
              "      <td>NaN</td>\n",
              "      <td>210 kW (286 hp),</td>\n",
              "      <td>\\n,2,185 kg,\\n</td>\n",
              "    </tr>\n",
              "    <tr>\n",
              "      <th>12909</th>\n",
              "      <td>None</td>\n",
              "      <td>NaN</td>\n",
              "      <td>210 kW (286 hp),</td>\n",
              "      <td>\\n,2,185 kg,\\n</td>\n",
              "    </tr>\n",
              "    <tr>\n",
              "      <th>12911</th>\n",
              "      <td>None</td>\n",
              "      <td>NaN</td>\n",
              "      <td>210 kW (286 hp),</td>\n",
              "      <td>\\n,2,185 kg,\\n</td>\n",
              "    </tr>\n",
              "    <tr>\n",
              "      <th>14671</th>\n",
              "      <td>None</td>\n",
              "      <td>NaN</td>\n",
              "      <td>552 kW (751 hp),</td>\n",
              "      <td>\\n,None,\\n</td>\n",
              "    </tr>\n",
              "    <tr>\n",
              "      <th>14800</th>\n",
              "      <td>None</td>\n",
              "      <td>NaN</td>\n",
              "      <td>291 kW (396 hp),</td>\n",
              "      <td>\\n,None,\\n</td>\n",
              "    </tr>\n",
              "    <tr>\n",
              "      <th>14810</th>\n",
              "      <td>None</td>\n",
              "      <td>NaN</td>\n",
              "      <td>570 kW (775 hp),</td>\n",
              "      <td>\\n,None,\\n</td>\n",
              "    </tr>\n",
              "    <tr>\n",
              "      <th>14811</th>\n",
              "      <td>None</td>\n",
              "      <td>NaN</td>\n",
              "      <td>441 kW (600 hp),</td>\n",
              "      <td>\\n,2,585 kg,\\n</td>\n",
              "    </tr>\n",
              "    <tr>\n",
              "      <th>14812</th>\n",
              "      <td>None</td>\n",
              "      <td>NaN</td>\n",
              "      <td>570 kW (775 hp),</td>\n",
              "      <td>\\n,None,\\n</td>\n",
              "    </tr>\n",
              "    <tr>\n",
              "      <th>14813</th>\n",
              "      <td>None</td>\n",
              "      <td>NaN</td>\n",
              "      <td>570 kW (775 hp),</td>\n",
              "      <td>\\n,None,\\n</td>\n",
              "    </tr>\n",
              "    <tr>\n",
              "      <th>14814</th>\n",
              "      <td>None</td>\n",
              "      <td>NaN</td>\n",
              "      <td>570 kW (775 hp),</td>\n",
              "      <td>\\n,None,\\n</td>\n",
              "    </tr>\n",
              "    <tr>\n",
              "      <th>14817</th>\n",
              "      <td>None</td>\n",
              "      <td>NaN</td>\n",
              "      <td>552 kW (751 hp),</td>\n",
              "      <td>\\n,None,\\n</td>\n",
              "    </tr>\n",
              "    <tr>\n",
              "      <th>17072</th>\n",
              "      <td>08/2021</td>\n",
              "      <td>NaN</td>\n",
              "      <td>[None, '']</td>\n",
              "      <td>\\n,2,780 kg,\\n</td>\n",
              "    </tr>\n",
              "    <tr>\n",
              "      <th>18260</th>\n",
              "      <td>None</td>\n",
              "      <td>NaN</td>\n",
              "      <td>243 kW (330 hp),</td>\n",
              "      <td>\\n,None,\\n</td>\n",
              "    </tr>\n",
              "    <tr>\n",
              "      <th>19521</th>\n",
              "      <td>None</td>\n",
              "      <td>NaN</td>\n",
              "      <td>[None, '']</td>\n",
              "      <td>\\n,2,480 kg,\\n</td>\n",
              "    </tr>\n",
              "    <tr>\n",
              "      <th>19635</th>\n",
              "      <td>08/2021</td>\n",
              "      <td>NaN</td>\n",
              "      <td>[None, '']</td>\n",
              "      <td>\\n,2,780 kg,\\n</td>\n",
              "    </tr>\n",
              "    <tr>\n",
              "      <th>19636</th>\n",
              "      <td>12/2020</td>\n",
              "      <td>NaN</td>\n",
              "      <td>[None, '']</td>\n",
              "      <td>\\n,2,120 kg,\\n</td>\n",
              "    </tr>\n",
              "    <tr>\n",
              "      <th>19845</th>\n",
              "      <td>None</td>\n",
              "      <td>NaN</td>\n",
              "      <td>[None, '']</td>\n",
              "      <td>\\n,2,505 kg,\\n</td>\n",
              "    </tr>\n",
              "    <tr>\n",
              "      <th>27791</th>\n",
              "      <td>None</td>\n",
              "      <td>NaN</td>\n",
              "      <td>[None, '']</td>\n",
              "      <td>\\n,2,020 kg,\\n</td>\n",
              "    </tr>\n",
              "    <tr>\n",
              "      <th>29016</th>\n",
              "      <td>03/2014</td>\n",
              "      <td>75 kW (102 hp)</td>\n",
              "      <td>2,159 kg,</td>\n",
              "      <td>\\n,None,\\n</td>\n",
              "    </tr>\n",
              "    <tr>\n",
              "      <th>29516</th>\n",
              "      <td>None</td>\n",
              "      <td>NaN</td>\n",
              "      <td>[None, '']</td>\n",
              "      <td>\\n,2,020 kg,\\n</td>\n",
              "    </tr>\n",
              "    <tr>\n",
              "      <th>34491</th>\n",
              "      <td>None</td>\n",
              "      <td>NaN</td>\n",
              "      <td>[None, '']</td>\n",
              "      <td>\\n,1,101 kg,\\n</td>\n",
              "    </tr>\n",
              "    <tr>\n",
              "      <th>34606</th>\n",
              "      <td>None</td>\n",
              "      <td>NaN</td>\n",
              "      <td>[None, '']</td>\n",
              "      <td>\\n,1,108 kg,\\n</td>\n",
              "    </tr>\n",
              "    <tr>\n",
              "      <th>35308</th>\n",
              "      <td>None</td>\n",
              "      <td>NaN</td>\n",
              "      <td>118 kW (160 hp),</td>\n",
              "      <td>\\n,1,678 kg,\\n</td>\n",
              "    </tr>\n",
              "    <tr>\n",
              "      <th>35458</th>\n",
              "      <td>None</td>\n",
              "      <td>NaN</td>\n",
              "      <td>81 kW (110 hp),</td>\n",
              "      <td>\\n,1,065 kg,\\n</td>\n",
              "    </tr>\n",
              "    <tr>\n",
              "      <th>37232</th>\n",
              "      <td>09/2021</td>\n",
              "      <td>130 kW (177 hp)</td>\n",
              "      <td>2,735 kg,</td>\n",
              "      <td>\\n,None,\\n</td>\n",
              "    </tr>\n",
              "    <tr>\n",
              "      <th>37515</th>\n",
              "      <td>09/2021</td>\n",
              "      <td>130 kW (177 hp)</td>\n",
              "      <td>2,735 kg,</td>\n",
              "      <td>\\n,None,\\n</td>\n",
              "    </tr>\n",
              "    <tr>\n",
              "      <th>37579</th>\n",
              "      <td>07/2017</td>\n",
              "      <td>90 kW (122 hp)</td>\n",
              "      <td>1,588 kg,</td>\n",
              "      <td>\\n,None,\\n</td>\n",
              "    </tr>\n",
              "    <tr>\n",
              "      <th>38283</th>\n",
              "      <td>None</td>\n",
              "      <td>265 kW (360 hp)</td>\n",
              "      <td>[None, '']</td>\n",
              "      <td>\\n,None,\\n</td>\n",
              "    </tr>\n",
              "    <tr>\n",
              "      <th>38289</th>\n",
              "      <td>None</td>\n",
              "      <td>265 kW (360 hp)</td>\n",
              "      <td>[None, '']</td>\n",
              "      <td>\\n,None,\\n</td>\n",
              "    </tr>\n",
              "    <tr>\n",
              "      <th>44705</th>\n",
              "      <td>None</td>\n",
              "      <td>NaN</td>\n",
              "      <td>118 kW (160 hp),</td>\n",
              "      <td>\\n,1,312 kg,\\n</td>\n",
              "    </tr>\n",
              "    <tr>\n",
              "      <th>44819</th>\n",
              "      <td>None</td>\n",
              "      <td>NaN</td>\n",
              "      <td>[None, '']</td>\n",
              "      <td>\\n,1,793 kg,\\n</td>\n",
              "    </tr>\n",
              "    <tr>\n",
              "      <th>44820</th>\n",
              "      <td>None</td>\n",
              "      <td>NaN</td>\n",
              "      <td>[None, '']</td>\n",
              "      <td>\\n,1,539 kg,\\n</td>\n",
              "    </tr>\n",
              "    <tr>\n",
              "      <th>44821</th>\n",
              "      <td>None</td>\n",
              "      <td>NaN</td>\n",
              "      <td>[None, '']</td>\n",
              "      <td>\\n,1,793 kg,\\n</td>\n",
              "    </tr>\n",
              "    <tr>\n",
              "      <th>46059</th>\n",
              "      <td>None</td>\n",
              "      <td>NaN</td>\n",
              "      <td>[None, '']</td>\n",
              "      <td>\\n,1,494 kg,\\n</td>\n",
              "    </tr>\n",
              "    <tr>\n",
              "      <th>46570</th>\n",
              "      <td>None</td>\n",
              "      <td>NaN</td>\n",
              "      <td>88 kW (120 hp),</td>\n",
              "      <td>\\n,1,234 kg,\\n</td>\n",
              "    </tr>\n",
              "    <tr>\n",
              "      <th>47935</th>\n",
              "      <td>None</td>\n",
              "      <td>NaN</td>\n",
              "      <td>[None, '']</td>\n",
              "      <td>\\n,1,494 kg,\\n</td>\n",
              "    </tr>\n",
              "    <tr>\n",
              "      <th>53778</th>\n",
              "      <td>None</td>\n",
              "      <td>NaN</td>\n",
              "      <td>100 kW (136 hp),</td>\n",
              "      <td>\\n,1,430 kg,\\n</td>\n",
              "    </tr>\n",
              "    <tr>\n",
              "      <th>53779</th>\n",
              "      <td>None</td>\n",
              "      <td>NaN</td>\n",
              "      <td>100 kW (136 hp),</td>\n",
              "      <td>\\n,1,430 kg,\\n</td>\n",
              "    </tr>\n",
              "    <tr>\n",
              "      <th>53781</th>\n",
              "      <td>None</td>\n",
              "      <td>NaN</td>\n",
              "      <td>100 kW (136 hp),</td>\n",
              "      <td>\\n,1,430 kg,\\n</td>\n",
              "    </tr>\n",
              "    <tr>\n",
              "      <th>53785</th>\n",
              "      <td>None</td>\n",
              "      <td>NaN</td>\n",
              "      <td>100 kW (136 hp),</td>\n",
              "      <td>\\n,1,430 kg,\\n</td>\n",
              "    </tr>\n",
              "    <tr>\n",
              "      <th>53786</th>\n",
              "      <td>None</td>\n",
              "      <td>NaN</td>\n",
              "      <td>100 kW (136 hp),</td>\n",
              "      <td>\\n,1,430 kg,\\n</td>\n",
              "    </tr>\n",
              "    <tr>\n",
              "      <th>53787</th>\n",
              "      <td>None</td>\n",
              "      <td>NaN</td>\n",
              "      <td>100 kW (136 hp),</td>\n",
              "      <td>\\n,1,430 kg,\\n</td>\n",
              "    </tr>\n",
              "    <tr>\n",
              "      <th>53788</th>\n",
              "      <td>None</td>\n",
              "      <td>NaN</td>\n",
              "      <td>100 kW (136 hp),</td>\n",
              "      <td>\\n,1,430 kg,\\n</td>\n",
              "    </tr>\n",
              "    <tr>\n",
              "      <th>53790</th>\n",
              "      <td>None</td>\n",
              "      <td>NaN</td>\n",
              "      <td>100 kW (136 hp),</td>\n",
              "      <td>\\n,1,430 kg,\\n</td>\n",
              "    </tr>\n",
              "    <tr>\n",
              "      <th>53791</th>\n",
              "      <td>None</td>\n",
              "      <td>NaN</td>\n",
              "      <td>100 kW (136 hp),</td>\n",
              "      <td>\\n,1,430 kg,\\n</td>\n",
              "    </tr>\n",
              "    <tr>\n",
              "      <th>53864</th>\n",
              "      <td>None</td>\n",
              "      <td>NaN</td>\n",
              "      <td>100 kW (136 hp),</td>\n",
              "      <td>\\n,1,430 kg,\\n</td>\n",
              "    </tr>\n",
              "    <tr>\n",
              "      <th>57179</th>\n",
              "      <td>None</td>\n",
              "      <td>NaN</td>\n",
              "      <td>53 kW (72 hp),</td>\n",
              "      <td>\\n,None,\\n</td>\n",
              "    </tr>\n",
              "    <tr>\n",
              "      <th>57216</th>\n",
              "      <td>None</td>\n",
              "      <td>NaN</td>\n",
              "      <td>53 kW (72 hp),</td>\n",
              "      <td>\\n,None,\\n</td>\n",
              "    </tr>\n",
              "    <tr>\n",
              "      <th>57224</th>\n",
              "      <td>None</td>\n",
              "      <td>NaN</td>\n",
              "      <td>53 kW (72 hp),</td>\n",
              "      <td>\\n,None,\\n</td>\n",
              "    </tr>\n",
              "    <tr>\n",
              "      <th>58169</th>\n",
              "      <td>02/2022</td>\n",
              "      <td>96 kW (131 hp)</td>\n",
              "      <td>[None, '']</td>\n",
              "      <td>\\n,None,\\n</td>\n",
              "    </tr>\n",
              "    <tr>\n",
              "      <th>58171</th>\n",
              "      <td>02/2022</td>\n",
              "      <td>96 kW (131 hp)</td>\n",
              "      <td>[None, '']</td>\n",
              "      <td>\\n,None,\\n</td>\n",
              "    </tr>\n",
              "    <tr>\n",
              "      <th>58628</th>\n",
              "      <td>None</td>\n",
              "      <td>NaN</td>\n",
              "      <td>53 kW (72 hp),</td>\n",
              "      <td>\\n,None,\\n</td>\n",
              "    </tr>\n",
              "  </tbody>\n",
              "</table>\n",
              "</div>\n",
              "      <button class=\"colab-df-convert\" onclick=\"convertToInteractive('df-ac72b43c-ca63-4199-8739-b713cc41d8f4')\"\n",
              "              title=\"Convert this dataframe to an interactive table.\"\n",
              "              style=\"display:none;\">\n",
              "        \n",
              "  <svg xmlns=\"http://www.w3.org/2000/svg\" height=\"24px\"viewBox=\"0 0 24 24\"\n",
              "       width=\"24px\">\n",
              "    <path d=\"M0 0h24v24H0V0z\" fill=\"none\"/>\n",
              "    <path d=\"M18.56 5.44l.94 2.06.94-2.06 2.06-.94-2.06-.94-.94-2.06-.94 2.06-2.06.94zm-11 1L8.5 8.5l.94-2.06 2.06-.94-2.06-.94L8.5 2.5l-.94 2.06-2.06.94zm10 10l.94 2.06.94-2.06 2.06-.94-2.06-.94-.94-2.06-.94 2.06-2.06.94z\"/><path d=\"M17.41 7.96l-1.37-1.37c-.4-.4-.92-.59-1.43-.59-.52 0-1.04.2-1.43.59L10.3 9.45l-7.72 7.72c-.78.78-.78 2.05 0 2.83L4 21.41c.39.39.9.59 1.41.59.51 0 1.02-.2 1.41-.59l7.78-7.78 2.81-2.81c.8-.78.8-2.07 0-2.86zM5.41 20L4 18.59l7.72-7.72 1.47 1.35L5.41 20z\"/>\n",
              "  </svg>\n",
              "      </button>\n",
              "      \n",
              "  <style>\n",
              "    .colab-df-container {\n",
              "      display:flex;\n",
              "      flex-wrap:wrap;\n",
              "      gap: 12px;\n",
              "    }\n",
              "\n",
              "    .colab-df-convert {\n",
              "      background-color: #E8F0FE;\n",
              "      border: none;\n",
              "      border-radius: 50%;\n",
              "      cursor: pointer;\n",
              "      display: none;\n",
              "      fill: #1967D2;\n",
              "      height: 32px;\n",
              "      padding: 0 0 0 0;\n",
              "      width: 32px;\n",
              "    }\n",
              "\n",
              "    .colab-df-convert:hover {\n",
              "      background-color: #E2EBFA;\n",
              "      box-shadow: 0px 1px 2px rgba(60, 64, 67, 0.3), 0px 1px 3px 1px rgba(60, 64, 67, 0.15);\n",
              "      fill: #174EA6;\n",
              "    }\n",
              "\n",
              "    [theme=dark] .colab-df-convert {\n",
              "      background-color: #3B4455;\n",
              "      fill: #D2E3FC;\n",
              "    }\n",
              "\n",
              "    [theme=dark] .colab-df-convert:hover {\n",
              "      background-color: #434B5C;\n",
              "      box-shadow: 0px 1px 3px 1px rgba(0, 0, 0, 0.15);\n",
              "      filter: drop-shadow(0px 1px 2px rgba(0, 0, 0, 0.3));\n",
              "      fill: #FFFFFF;\n",
              "    }\n",
              "  </style>\n",
              "\n",
              "      <script>\n",
              "        const buttonEl =\n",
              "          document.querySelector('#df-ac72b43c-ca63-4199-8739-b713cc41d8f4 button.colab-df-convert');\n",
              "        buttonEl.style.display =\n",
              "          google.colab.kernel.accessAllowed ? 'block' : 'none';\n",
              "\n",
              "        async function convertToInteractive(key) {\n",
              "          const element = document.querySelector('#df-ac72b43c-ca63-4199-8739-b713cc41d8f4');\n",
              "          const dataTable =\n",
              "            await google.colab.kernel.invokeFunction('convertToInteractive',\n",
              "                                                     [key], {});\n",
              "          if (!dataTable) return;\n",
              "\n",
              "          const docLinkHtml = 'Like what you see? Visit the ' +\n",
              "            '<a target=\"_blank\" href=https://colab.research.google.com/notebooks/data_table.ipynb>data table notebook</a>'\n",
              "            + ' to learn more about interactive tables.';\n",
              "          element.innerHTML = '';\n",
              "          dataTable['output_type'] = 'display_data';\n",
              "          await google.colab.output.renderOutput(dataTable, element);\n",
              "          const docLink = document.createElement('div');\n",
              "          docLink.innerHTML = docLinkHtml;\n",
              "          element.appendChild(docLink);\n",
              "        }\n",
              "      </script>\n",
              "    </div>\n",
              "  </div>\n",
              "  "
            ],
            "text/plain": [
              "      first_registration     registration             power    empty_weight\n",
              "12810               None              NaN  240 kW (326 hp),  \\n,2,340 kg,\\n\n",
              "12888               None              NaN  210 kW (286 hp),  \\n,2,185 kg,\\n\n",
              "12908               None              NaN  210 kW (286 hp),  \\n,2,185 kg,\\n\n",
              "12909               None              NaN  210 kW (286 hp),  \\n,2,185 kg,\\n\n",
              "12911               None              NaN  210 kW (286 hp),  \\n,2,185 kg,\\n\n",
              "14671               None              NaN  552 kW (751 hp),      \\n,None,\\n\n",
              "14800               None              NaN  291 kW (396 hp),      \\n,None,\\n\n",
              "14810               None              NaN  570 kW (775 hp),      \\n,None,\\n\n",
              "14811               None              NaN  441 kW (600 hp),  \\n,2,585 kg,\\n\n",
              "14812               None              NaN  570 kW (775 hp),      \\n,None,\\n\n",
              "14813               None              NaN  570 kW (775 hp),      \\n,None,\\n\n",
              "14814               None              NaN  570 kW (775 hp),      \\n,None,\\n\n",
              "14817               None              NaN  552 kW (751 hp),      \\n,None,\\n\n",
              "17072            08/2021              NaN        [None, '']  \\n,2,780 kg,\\n\n",
              "18260               None              NaN  243 kW (330 hp),      \\n,None,\\n\n",
              "19521               None              NaN        [None, '']  \\n,2,480 kg,\\n\n",
              "19635            08/2021              NaN        [None, '']  \\n,2,780 kg,\\n\n",
              "19636            12/2020              NaN        [None, '']  \\n,2,120 kg,\\n\n",
              "19845               None              NaN        [None, '']  \\n,2,505 kg,\\n\n",
              "27791               None              NaN        [None, '']  \\n,2,020 kg,\\n\n",
              "29016            03/2014   75 kW (102 hp)         2,159 kg,      \\n,None,\\n\n",
              "29516               None              NaN        [None, '']  \\n,2,020 kg,\\n\n",
              "34491               None              NaN        [None, '']  \\n,1,101 kg,\\n\n",
              "34606               None              NaN        [None, '']  \\n,1,108 kg,\\n\n",
              "35308               None              NaN  118 kW (160 hp),  \\n,1,678 kg,\\n\n",
              "35458               None              NaN   81 kW (110 hp),  \\n,1,065 kg,\\n\n",
              "37232            09/2021  130 kW (177 hp)         2,735 kg,      \\n,None,\\n\n",
              "37515            09/2021  130 kW (177 hp)         2,735 kg,      \\n,None,\\n\n",
              "37579            07/2017   90 kW (122 hp)         1,588 kg,      \\n,None,\\n\n",
              "38283               None  265 kW (360 hp)        [None, '']      \\n,None,\\n\n",
              "38289               None  265 kW (360 hp)        [None, '']      \\n,None,\\n\n",
              "44705               None              NaN  118 kW (160 hp),  \\n,1,312 kg,\\n\n",
              "44819               None              NaN        [None, '']  \\n,1,793 kg,\\n\n",
              "44820               None              NaN        [None, '']  \\n,1,539 kg,\\n\n",
              "44821               None              NaN        [None, '']  \\n,1,793 kg,\\n\n",
              "46059               None              NaN        [None, '']  \\n,1,494 kg,\\n\n",
              "46570               None              NaN   88 kW (120 hp),  \\n,1,234 kg,\\n\n",
              "47935               None              NaN        [None, '']  \\n,1,494 kg,\\n\n",
              "53778               None              NaN  100 kW (136 hp),  \\n,1,430 kg,\\n\n",
              "53779               None              NaN  100 kW (136 hp),  \\n,1,430 kg,\\n\n",
              "53781               None              NaN  100 kW (136 hp),  \\n,1,430 kg,\\n\n",
              "53785               None              NaN  100 kW (136 hp),  \\n,1,430 kg,\\n\n",
              "53786               None              NaN  100 kW (136 hp),  \\n,1,430 kg,\\n\n",
              "53787               None              NaN  100 kW (136 hp),  \\n,1,430 kg,\\n\n",
              "53788               None              NaN  100 kW (136 hp),  \\n,1,430 kg,\\n\n",
              "53790               None              NaN  100 kW (136 hp),  \\n,1,430 kg,\\n\n",
              "53791               None              NaN  100 kW (136 hp),  \\n,1,430 kg,\\n\n",
              "53864               None              NaN  100 kW (136 hp),  \\n,1,430 kg,\\n\n",
              "57179               None              NaN    53 kW (72 hp),      \\n,None,\\n\n",
              "57216               None              NaN    53 kW (72 hp),      \\n,None,\\n\n",
              "57224               None              NaN    53 kW (72 hp),      \\n,None,\\n\n",
              "58169            02/2022   96 kW (131 hp)        [None, '']      \\n,None,\\n\n",
              "58171            02/2022   96 kW (131 hp)        [None, '']      \\n,None,\\n\n",
              "58628               None              NaN    53 kW (72 hp),      \\n,None,\\n"
            ]
          },
          "metadata": {},
          "execution_count": 399
        }
      ]
    },
    {
      "cell_type": "code",
      "source": [
        "shifted_rows=[29016,37232,37515,37579,38283,38289,58169,58171]\n",
        "data.iloc[shifted_rows]"
      ],
      "metadata": {
        "id": "DSEkyH2PTfle",
        "colab": {
          "base_uri": "https://localhost:8080/",
          "height": 954
        },
        "outputId": "d9dd5baa-6fb8-4016-8ec7-587feb20c9d7"
      },
      "execution_count": 400,
      "outputs": [
        {
          "output_type": "execute_result",
          "data": {
            "text/html": [
              "\n",
              "  <div id=\"df-bb7cfa49-47ae-45cb-901f-a846cb61ad6b\">\n",
              "    <div class=\"colab-df-container\">\n",
              "      <div>\n",
              "<style scoped>\n",
              "    .dataframe tbody tr th:only-of-type {\n",
              "        vertical-align: middle;\n",
              "    }\n",
              "\n",
              "    .dataframe tbody tr th {\n",
              "        vertical-align: top;\n",
              "    }\n",
              "\n",
              "    .dataframe thead th {\n",
              "        text-align: right;\n",
              "    }\n",
              "</style>\n",
              "<table border=\"1\" class=\"dataframe\">\n",
              "  <thead>\n",
              "    <tr style=\"text-align: right;\">\n",
              "      <th></th>\n",
              "      <th>location</th>\n",
              "      <th>url</th>\n",
              "      <th>make</th>\n",
              "      <th>model</th>\n",
              "      <th>short_description</th>\n",
              "      <th>price</th>\n",
              "      <th>mileage</th>\n",
              "      <th>gearbox</th>\n",
              "      <th>registration</th>\n",
              "      <th>fuel_type</th>\n",
              "      <th>power</th>\n",
              "      <th>seller</th>\n",
              "      <th>body_type</th>\n",
              "      <th>type</th>\n",
              "      <th>drivetrain</th>\n",
              "      <th>seats</th>\n",
              "      <th>doors</th>\n",
              "      <th>country_version</th>\n",
              "      <th>offer_number</th>\n",
              "      <th>warranty</th>\n",
              "      <th>Mileage</th>\n",
              "      <th>first_registration</th>\n",
              "      <th>production_date</th>\n",
              "      <th>general_inspection</th>\n",
              "      <th>last_service</th>\n",
              "      <th>full_service_history</th>\n",
              "      <th>non_smoker_vehicle</th>\n",
              "      <th>Power</th>\n",
              "      <th>Gearbox</th>\n",
              "      <th>engine_size</th>\n",
              "      <th>gears</th>\n",
              "      <th>cylinders</th>\n",
              "      <th>empty_weight</th>\n",
              "      <th>Fuel_type</th>\n",
              "      <th>fuel_consumption</th>\n",
              "      <th>co2_emissions</th>\n",
              "      <th>emission_class</th>\n",
              "      <th>\\nComfort &amp; Convenience\\n</th>\n",
              "      <th>\\nEntertainment &amp; Media\\n</th>\n",
              "      <th>\\nSafety &amp; Security\\n</th>\n",
              "      <th>extras</th>\n",
              "      <th>\\ncolour</th>\n",
              "      <th>\\nmanufacturer_color</th>\n",
              "      <th>\\npaint</th>\n",
              "      <th>upholstery_colour</th>\n",
              "      <th>upholstery</th>\n",
              "    </tr>\n",
              "  </thead>\n",
              "  <tbody>\n",
              "    <tr>\n",
              "      <th>29016</th>\n",
              "      <td>KERKRADE, NL</td>\n",
              "      <td>https://www.autoscout24.com/offers/volkswagen-...</td>\n",
              "      <td>\\n,Volkswagen ,\\n</td>\n",
              "      <td>['\\n', None, '\\n']</td>\n",
              "      <td>Caddy 1.6 TDI Airco Trekhaak</td>\n",
              "      <td>[['\\n', '€ 6,950.-', '\\n']]</td>\n",
              "      <td>['', ['152,938 km']]</td>\n",
              "      <td>\\n,03/2014,\\n</td>\n",
              "      <td>75 kW (102 hp)</td>\n",
              "      <td>\\n,Manual,\\n</td>\n",
              "      <td>2,159 kg,</td>\n",
              "      <td>['\\n', ['Diesel\\n']]</td>\n",
              "      <td>\\n,Panel van,\\n</td>\n",
              "      <td>\\n,Used,\\n</td>\n",
              "      <td>\\n,Front,\\n</td>\n",
              "      <td>\\n2</td>\n",
              "      <td>\\n4</td>\n",
              "      <td>Country version,None</td>\n",
              "      <td>\\nVLB16G</td>\n",
              "      <td>\\n,None,\\n</td>\n",
              "      <td>[['\\n'], ['']]</td>\n",
              "      <td>03/2014</td>\n",
              "      <td>None</td>\n",
              "      <td>New</td>\n",
              "      <td>None</td>\n",
              "      <td>\\n,None,\\n</td>\n",
              "      <td>\\n,None,\\n</td>\n",
              "      <td>\\n,75 kW (102 hp),\\n</td>\n",
              "      <td>\\n,Manual,\\n</td>\n",
              "      <td>\\n,1,598 cc,\\n</td>\n",
              "      <td>\\n,5,\\n</td>\n",
              "      <td>\\n,4,\\n</td>\n",
              "      <td>\\n,None,\\n</td>\n",
              "      <td>\\n,Diesel,\\n</td>\n",
              "      <td>['\\n', ['5.7 l/100 km (comb.)', '6.6 l/100 km ...</td>\n",
              "      <td>\\n,149 g/km (comb.),\\n</td>\n",
              "      <td>\\n,Euro 5,\\n</td>\n",
              "      <td>[['Air conditioning', 'Electrical side mirrors...</td>\n",
              "      <td>[['On-board computer']]</td>\n",
              "      <td>[['ABS', 'Central door lock', 'Driver-side air...</td>\n",
              "      <td>[['Trailer hitch']]</td>\n",
              "      <td>\\n4, Red</td>\n",
              "      <td>None</td>\n",
              "      <td>None</td>\n",
              "      <td>\\nupholstery, Grey</td>\n",
              "      <td>\\n8, Other</td>\n",
              "    </tr>\n",
              "    <tr>\n",
              "      <th>37232</th>\n",
              "      <td>GRONINGEN, NL</td>\n",
              "      <td>https://www.autoscout24.com/offers/citroen-jum...</td>\n",
              "      <td>\\n,Citroen ,\\n</td>\n",
              "      <td>['\\n', None, '\\n']</td>\n",
              "      <td>Jumpy bestel 2.0 BlueHDI 180 M Driver | 19'' L...</td>\n",
              "      <td>[['\\n', '€ 28,989.-', '\\n']]</td>\n",
              "      <td>['', ['4,997 km']]</td>\n",
              "      <td>\\n,09/2021,\\n</td>\n",
              "      <td>130 kW (177 hp)</td>\n",
              "      <td>\\n,Automatic,\\n</td>\n",
              "      <td>2,735 kg,</td>\n",
              "      <td>['\\n', ['Diesel\\n']]</td>\n",
              "      <td>\\n,Panel van,\\n</td>\n",
              "      <td>\\n,Used,\\n</td>\n",
              "      <td>\\n,Front,\\n</td>\n",
              "      <td>\\n2</td>\n",
              "      <td>\\n5</td>\n",
              "      <td>Country version,Netherlands</td>\n",
              "      <td>\\nVLL62P</td>\n",
              "      <td>\\n,6 months,\\n</td>\n",
              "      <td>[['\\n'], ['']]</td>\n",
              "      <td>09/2021</td>\n",
              "      <td>None</td>\n",
              "      <td>New</td>\n",
              "      <td>None</td>\n",
              "      <td>\\n,Yes,\\n</td>\n",
              "      <td>\\n,None,\\n</td>\n",
              "      <td>\\n,130 kW (177 hp),\\n</td>\n",
              "      <td>\\n,Automatic,\\n</td>\n",
              "      <td>\\n,1,997 cc,\\n</td>\n",
              "      <td>\\n,None,\\n</td>\n",
              "      <td>\\n,4,\\n</td>\n",
              "      <td>\\n,None,\\n</td>\n",
              "      <td>\\n,Diesel,\\n</td>\n",
              "      <td>\\n,None,\\n</td>\n",
              "      <td>['\\n', [' ', ' ', ' '], '\\n']</td>\n",
              "      <td>\\n,Euro 6,\\n</td>\n",
              "      <td>[['Air conditioning', 'Armrest', 'Automatic cl...</td>\n",
              "      <td>[['Android Auto', 'Apple CarPlay', 'Digital ra...</td>\n",
              "      <td>[['ABS', 'Adaptive Cruise Control', 'Alarm sys...</td>\n",
              "      <td>[['Alloy wheels (17\")', 'Trailer hitch', 'Voic...</td>\n",
              "      <td>\\n4, Grey</td>\n",
              "      <td>None</td>\n",
              "      <td>\\npaint, Metallic</td>\n",
              "      <td>None</td>\n",
              "      <td>None</td>\n",
              "    </tr>\n",
              "    <tr>\n",
              "      <th>37515</th>\n",
              "      <td>GRONINGEN, NL</td>\n",
              "      <td>https://www.autoscout24.com/offers/citroen-jum...</td>\n",
              "      <td>\\n,Citroen ,\\n</td>\n",
              "      <td>['\\n', None, '\\n']</td>\n",
              "      <td>Jumpy bestel 2.0 BlueHDI 180 M Driver | 19'' L...</td>\n",
              "      <td>[['\\n', '€ 28,989.-', '\\n']]</td>\n",
              "      <td>['', ['4,997 km']]</td>\n",
              "      <td>\\n,09/2021,\\n</td>\n",
              "      <td>130 kW (177 hp)</td>\n",
              "      <td>\\n,Automatic,\\n</td>\n",
              "      <td>2,735 kg,</td>\n",
              "      <td>['\\n', ['Diesel\\n']]</td>\n",
              "      <td>\\n,Panel van,\\n</td>\n",
              "      <td>\\n,Used,\\n</td>\n",
              "      <td>\\n,Front,\\n</td>\n",
              "      <td>\\n2</td>\n",
              "      <td>\\n5</td>\n",
              "      <td>Country version,Netherlands</td>\n",
              "      <td>\\nVLL62P</td>\n",
              "      <td>\\n,6 months,\\n</td>\n",
              "      <td>[['\\n'], ['']]</td>\n",
              "      <td>09/2021</td>\n",
              "      <td>None</td>\n",
              "      <td>New</td>\n",
              "      <td>None</td>\n",
              "      <td>\\n,Yes,\\n</td>\n",
              "      <td>\\n,None,\\n</td>\n",
              "      <td>\\n,130 kW (177 hp),\\n</td>\n",
              "      <td>\\n,Automatic,\\n</td>\n",
              "      <td>\\n,1,997 cc,\\n</td>\n",
              "      <td>\\n,None,\\n</td>\n",
              "      <td>\\n,4,\\n</td>\n",
              "      <td>\\n,None,\\n</td>\n",
              "      <td>\\n,Diesel,\\n</td>\n",
              "      <td>\\n,None,\\n</td>\n",
              "      <td>['\\n', [' ', ' ', ' '], '\\n']</td>\n",
              "      <td>\\n,Euro 6,\\n</td>\n",
              "      <td>[['Air conditioning', 'Armrest', 'Automatic cl...</td>\n",
              "      <td>[['Android Auto', 'Apple CarPlay', 'Digital ra...</td>\n",
              "      <td>[['ABS', 'Adaptive Cruise Control', 'Alarm sys...</td>\n",
              "      <td>[['Alloy wheels (17\")', 'Trailer hitch', 'Voic...</td>\n",
              "      <td>\\n4, Grey</td>\n",
              "      <td>None</td>\n",
              "      <td>\\npaint, Metallic</td>\n",
              "      <td>None</td>\n",
              "      <td>None</td>\n",
              "    </tr>\n",
              "    <tr>\n",
              "      <th>37579</th>\n",
              "      <td>'T LOO OLDEBROEK, NL</td>\n",
              "      <td>https://www.autoscout24.com/offers/citroen-jum...</td>\n",
              "      <td>\\n,Citroen ,\\n</td>\n",
              "      <td>['\\n', None, '\\n']</td>\n",
              "      <td>jumpy</td>\n",
              "      <td>[['\\n', '€ 17,500.-', '\\n']]</td>\n",
              "      <td>['', ['59,000 km']]</td>\n",
              "      <td>\\n,07/2017,\\n</td>\n",
              "      <td>90 kW (122 hp)</td>\n",
              "      <td>\\n,Manual,\\n</td>\n",
              "      <td>1,588 kg,</td>\n",
              "      <td>['\\n', ['Diesel\\n']]</td>\n",
              "      <td>\\n,Car transport,\\n</td>\n",
              "      <td>\\n,Used,\\n</td>\n",
              "      <td>\\n,Front,\\n</td>\n",
              "      <td>\\n3</td>\n",
              "      <td>\\n4</td>\n",
              "      <td>Country version,Netherlands</td>\n",
              "      <td>\\n1</td>\n",
              "      <td>\\n,None,\\n</td>\n",
              "      <td>[['\\n'], ['']]</td>\n",
              "      <td>07/2017</td>\n",
              "      <td>2017</td>\n",
              "      <td>New</td>\n",
              "      <td>None</td>\n",
              "      <td>\\n,Yes,\\n</td>\n",
              "      <td>\\n,None,\\n</td>\n",
              "      <td>\\n,90 kW (122 hp),\\n</td>\n",
              "      <td>\\n,Manual,\\n</td>\n",
              "      <td>\\n,1,997 cc,\\n</td>\n",
              "      <td>\\n,6,\\n</td>\n",
              "      <td>\\n,4,\\n</td>\n",
              "      <td>\\n,None,\\n</td>\n",
              "      <td>\\n,Diesel,\\n</td>\n",
              "      <td>\\n,None,\\n</td>\n",
              "      <td>\\n,None,\\n</td>\n",
              "      <td>['\\n', [' ', ' ', ' '], '\\n']</td>\n",
              "      <td>[['Air conditioning', 'Armrest', 'Automatic cl...</td>\n",
              "      <td>[['Android Auto', 'Apple CarPlay', 'Bluetooth'...</td>\n",
              "      <td>[['ABS', 'Alarm system', 'Central door lock wi...</td>\n",
              "      <td>[['Alloy wheels', 'Touch screen', 'Trailer hit...</td>\n",
              "      <td>\\n4, Red</td>\n",
              "      <td>None</td>\n",
              "      <td>\\npaint, Metallic</td>\n",
              "      <td>\\nupholstery, Grey</td>\n",
              "      <td>\\n8, Cloth</td>\n",
              "    </tr>\n",
              "    <tr>\n",
              "      <th>38283</th>\n",
              "      <td>URSEM, NL</td>\n",
              "      <td>https://www.autoscout24.com/offers/chevrolet-s...</td>\n",
              "      <td>\\n,Chevrolet ,\\n</td>\n",
              "      <td>['\\n', None, '\\n']</td>\n",
              "      <td>Silverado 1500 RST 4x4</td>\n",
              "      <td>[['\\n', '€ 59,950.-', '\\n']]</td>\n",
              "      <td>['', ['56 km']]</td>\n",
              "      <td>['\\n', None, '\\n']</td>\n",
              "      <td>265 kW (360 hp)</td>\n",
              "      <td>\\n,Automatic,\\n</td>\n",
              "      <td>[None, '']</td>\n",
              "      <td>['\\n', ['Gasoline\\n']]</td>\n",
              "      <td>\\n,Flatbed van,\\n</td>\n",
              "      <td>\\n,New,\\n</td>\n",
              "      <td>\\n,4WD,\\n</td>\n",
              "      <td>\\n6</td>\n",
              "      <td>\\n4</td>\n",
              "      <td>Country version,Netherlands</td>\n",
              "      <td>None\\n</td>\n",
              "      <td>\\n,None,\\n</td>\n",
              "      <td>[['\\n'], ['']]</td>\n",
              "      <td>None</td>\n",
              "      <td>2021</td>\n",
              "      <td>None</td>\n",
              "      <td>None</td>\n",
              "      <td>\\n,None,\\n</td>\n",
              "      <td>\\n,None,\\n</td>\n",
              "      <td>\\n,265 kW (360 hp),\\n</td>\n",
              "      <td>\\n,Automatic,\\n</td>\n",
              "      <td>\\n,5,238 cc,\\n</td>\n",
              "      <td>\\n,1,\\n</td>\n",
              "      <td>\\n,8,\\n</td>\n",
              "      <td>\\n,None,\\n</td>\n",
              "      <td>\\n,Gasoline,\\n</td>\n",
              "      <td>\\n,None,\\n</td>\n",
              "      <td>\\n,None,\\n</td>\n",
              "      <td>['\\n', [' ', ' ', ' '], '\\n']</td>\n",
              "      <td>[['Armrest', 'Automatic climate control, 2 zon...</td>\n",
              "      <td>[['Android Auto', 'Apple CarPlay', 'Bluetooth'...</td>\n",
              "      <td>[['ABS', 'Central door lock with remote contro...</td>\n",
              "      <td>[['Alloy wheels (20\")', 'Automatically dimming...</td>\n",
              "      <td>\\n4, Red</td>\n",
              "      <td>None</td>\n",
              "      <td>None</td>\n",
              "      <td>\\nupholstery, Other</td>\n",
              "      <td>\\n8, Cloth</td>\n",
              "    </tr>\n",
              "    <tr>\n",
              "      <th>38289</th>\n",
              "      <td>URSEM, NL</td>\n",
              "      <td>https://www.autoscout24.com/offers/chevrolet-s...</td>\n",
              "      <td>\\n,Chevrolet ,\\n</td>\n",
              "      <td>['\\n', None, '\\n']</td>\n",
              "      <td>Silverado 1500 RST 4x4</td>\n",
              "      <td>[['\\n', '€ 59,950.-', '\\n']]</td>\n",
              "      <td>['', ['56 km']]</td>\n",
              "      <td>['\\n', None, '\\n']</td>\n",
              "      <td>265 kW (360 hp)</td>\n",
              "      <td>\\n,Automatic,\\n</td>\n",
              "      <td>[None, '']</td>\n",
              "      <td>['\\n', ['Gasoline\\n']]</td>\n",
              "      <td>\\n,Flatbed van,\\n</td>\n",
              "      <td>\\n,New,\\n</td>\n",
              "      <td>\\n,4WD,\\n</td>\n",
              "      <td>\\n6</td>\n",
              "      <td>\\n4</td>\n",
              "      <td>Country version,Netherlands</td>\n",
              "      <td>None\\n</td>\n",
              "      <td>\\n,None,\\n</td>\n",
              "      <td>[['\\n'], ['']]</td>\n",
              "      <td>None</td>\n",
              "      <td>2021</td>\n",
              "      <td>None</td>\n",
              "      <td>None</td>\n",
              "      <td>\\n,None,\\n</td>\n",
              "      <td>\\n,None,\\n</td>\n",
              "      <td>\\n,265 kW (360 hp),\\n</td>\n",
              "      <td>\\n,Automatic,\\n</td>\n",
              "      <td>\\n,5,238 cc,\\n</td>\n",
              "      <td>\\n,1,\\n</td>\n",
              "      <td>\\n,8,\\n</td>\n",
              "      <td>\\n,None,\\n</td>\n",
              "      <td>\\n,Gasoline,\\n</td>\n",
              "      <td>\\n,None,\\n</td>\n",
              "      <td>\\n,None,\\n</td>\n",
              "      <td>['\\n', [' ', ' ', ' '], '\\n']</td>\n",
              "      <td>[['Armrest', 'Automatic climate control, 2 zon...</td>\n",
              "      <td>[['Android Auto', 'Apple CarPlay', 'Bluetooth'...</td>\n",
              "      <td>[['ABS', 'Central door lock with remote contro...</td>\n",
              "      <td>[['Alloy wheels (20\")', 'Automatically dimming...</td>\n",
              "      <td>\\n4, Red</td>\n",
              "      <td>None</td>\n",
              "      <td>None</td>\n",
              "      <td>\\nupholstery, Other</td>\n",
              "      <td>\\n8, Cloth</td>\n",
              "    </tr>\n",
              "    <tr>\n",
              "      <th>58169</th>\n",
              "      <td>ALPHEN AAN DEN RIJN, NL</td>\n",
              "      <td>https://www.autoscout24.com/offers/toyota-proa...</td>\n",
              "      <td>\\n,Toyota ,\\n</td>\n",
              "      <td>['\\n', None, '\\n']</td>\n",
              "      <td>PROACE CITY Verso 1.2 Turbo Dynamic, Unieke Auto!</td>\n",
              "      <td>[['\\n', '€ 29,690.-', '\\n']]</td>\n",
              "      <td>['', ['3 km']]</td>\n",
              "      <td>\\n,02/2022,\\n</td>\n",
              "      <td>96 kW (131 hp)</td>\n",
              "      <td>\\n,Automatic,\\n</td>\n",
              "      <td>[None, '']</td>\n",
              "      <td>['\\n', ['Gasoline\\n']]</td>\n",
              "      <td>\\n,Other,\\n</td>\n",
              "      <td>\\n,Used,\\n</td>\n",
              "      <td>\\n,Front,\\n</td>\n",
              "      <td>\\n5</td>\n",
              "      <td>\\n5</td>\n",
              "      <td>Country version,None</td>\n",
              "      <td>\\nVE-RS-03</td>\n",
              "      <td>\\n,6 months,\\n</td>\n",
              "      <td>[['\\n'], ['']]</td>\n",
              "      <td>02/2022</td>\n",
              "      <td>None</td>\n",
              "      <td>None</td>\n",
              "      <td>None</td>\n",
              "      <td>\\n,Yes,\\n</td>\n",
              "      <td>\\n,None,\\n</td>\n",
              "      <td>\\n,96 kW (131 hp),\\n</td>\n",
              "      <td>\\n,Automatic,\\n</td>\n",
              "      <td>\\n,1,200 cc,\\n</td>\n",
              "      <td>\\n,6,\\n</td>\n",
              "      <td>\\n,3,\\n</td>\n",
              "      <td>\\n,None,\\n</td>\n",
              "      <td>\\n,Super 95,\\n</td>\n",
              "      <td>['\\n', ['6.7 l/100 km (comb.)', ' ', ' '], '\\n']</td>\n",
              "      <td>\\n,0 g/km (comb.),\\n</td>\n",
              "      <td>\\n,None,\\n</td>\n",
              "      <td>[['Air conditioning', 'Automatic climate contr...</td>\n",
              "      <td>[['Android Auto', 'Apple CarPlay', 'Digital ra...</td>\n",
              "      <td>[['ABS', 'Adaptive Cruise Control', 'Adaptive ...</td>\n",
              "      <td>[['Alloy wheels (17\")', 'Automatically dimming...</td>\n",
              "      <td>\\n4, Silver</td>\n",
              "      <td>None</td>\n",
              "      <td>\\npaint, Metallic</td>\n",
              "      <td>\\nupholstery, Black</td>\n",
              "      <td>\\n8, Cloth</td>\n",
              "    </tr>\n",
              "    <tr>\n",
              "      <th>58171</th>\n",
              "      <td>ALPHEN AAN DEN RIJN, NL</td>\n",
              "      <td>https://www.autoscout24.com/offers/toyota-proa...</td>\n",
              "      <td>\\n,Toyota ,\\n</td>\n",
              "      <td>['\\n', None, '\\n']</td>\n",
              "      <td>PROACE CITY Verso 1.2 Turbo Dynamic, Unieke Auto!</td>\n",
              "      <td>[['\\n', '€ 29,690.-', '\\n']]</td>\n",
              "      <td>['', ['3 km']]</td>\n",
              "      <td>\\n,02/2022,\\n</td>\n",
              "      <td>96 kW (131 hp)</td>\n",
              "      <td>\\n,Automatic,\\n</td>\n",
              "      <td>[None, '']</td>\n",
              "      <td>['\\n', ['Gasoline\\n']]</td>\n",
              "      <td>\\n,Other,\\n</td>\n",
              "      <td>\\n,Used,\\n</td>\n",
              "      <td>\\n,Front,\\n</td>\n",
              "      <td>\\n5</td>\n",
              "      <td>\\n5</td>\n",
              "      <td>Country version,None</td>\n",
              "      <td>\\nVE-RS-03</td>\n",
              "      <td>\\n,6 months,\\n</td>\n",
              "      <td>[['\\n'], ['']]</td>\n",
              "      <td>02/2022</td>\n",
              "      <td>None</td>\n",
              "      <td>None</td>\n",
              "      <td>None</td>\n",
              "      <td>\\n,Yes,\\n</td>\n",
              "      <td>\\n,None,\\n</td>\n",
              "      <td>\\n,96 kW (131 hp),\\n</td>\n",
              "      <td>\\n,Automatic,\\n</td>\n",
              "      <td>\\n,1,200 cc,\\n</td>\n",
              "      <td>\\n,6,\\n</td>\n",
              "      <td>\\n,3,\\n</td>\n",
              "      <td>\\n,None,\\n</td>\n",
              "      <td>\\n,Super 95,\\n</td>\n",
              "      <td>['\\n', ['6.7 l/100 km (comb.)', ' ', ' '], '\\n']</td>\n",
              "      <td>\\n,0 g/km (comb.),\\n</td>\n",
              "      <td>\\n,None,\\n</td>\n",
              "      <td>[['Air conditioning', 'Automatic climate contr...</td>\n",
              "      <td>[['Android Auto', 'Apple CarPlay', 'Digital ra...</td>\n",
              "      <td>[['ABS', 'Adaptive Cruise Control', 'Adaptive ...</td>\n",
              "      <td>[['Alloy wheels (17\")', 'Automatically dimming...</td>\n",
              "      <td>\\n4, Silver</td>\n",
              "      <td>None</td>\n",
              "      <td>\\npaint, Metallic</td>\n",
              "      <td>\\nupholstery, Black</td>\n",
              "      <td>\\n8, Cloth</td>\n",
              "    </tr>\n",
              "  </tbody>\n",
              "</table>\n",
              "</div>\n",
              "      <button class=\"colab-df-convert\" onclick=\"convertToInteractive('df-bb7cfa49-47ae-45cb-901f-a846cb61ad6b')\"\n",
              "              title=\"Convert this dataframe to an interactive table.\"\n",
              "              style=\"display:none;\">\n",
              "        \n",
              "  <svg xmlns=\"http://www.w3.org/2000/svg\" height=\"24px\"viewBox=\"0 0 24 24\"\n",
              "       width=\"24px\">\n",
              "    <path d=\"M0 0h24v24H0V0z\" fill=\"none\"/>\n",
              "    <path d=\"M18.56 5.44l.94 2.06.94-2.06 2.06-.94-2.06-.94-.94-2.06-.94 2.06-2.06.94zm-11 1L8.5 8.5l.94-2.06 2.06-.94-2.06-.94L8.5 2.5l-.94 2.06-2.06.94zm10 10l.94 2.06.94-2.06 2.06-.94-2.06-.94-.94-2.06-.94 2.06-2.06.94z\"/><path d=\"M17.41 7.96l-1.37-1.37c-.4-.4-.92-.59-1.43-.59-.52 0-1.04.2-1.43.59L10.3 9.45l-7.72 7.72c-.78.78-.78 2.05 0 2.83L4 21.41c.39.39.9.59 1.41.59.51 0 1.02-.2 1.41-.59l7.78-7.78 2.81-2.81c.8-.78.8-2.07 0-2.86zM5.41 20L4 18.59l7.72-7.72 1.47 1.35L5.41 20z\"/>\n",
              "  </svg>\n",
              "      </button>\n",
              "      \n",
              "  <style>\n",
              "    .colab-df-container {\n",
              "      display:flex;\n",
              "      flex-wrap:wrap;\n",
              "      gap: 12px;\n",
              "    }\n",
              "\n",
              "    .colab-df-convert {\n",
              "      background-color: #E8F0FE;\n",
              "      border: none;\n",
              "      border-radius: 50%;\n",
              "      cursor: pointer;\n",
              "      display: none;\n",
              "      fill: #1967D2;\n",
              "      height: 32px;\n",
              "      padding: 0 0 0 0;\n",
              "      width: 32px;\n",
              "    }\n",
              "\n",
              "    .colab-df-convert:hover {\n",
              "      background-color: #E2EBFA;\n",
              "      box-shadow: 0px 1px 2px rgba(60, 64, 67, 0.3), 0px 1px 3px 1px rgba(60, 64, 67, 0.15);\n",
              "      fill: #174EA6;\n",
              "    }\n",
              "\n",
              "    [theme=dark] .colab-df-convert {\n",
              "      background-color: #3B4455;\n",
              "      fill: #D2E3FC;\n",
              "    }\n",
              "\n",
              "    [theme=dark] .colab-df-convert:hover {\n",
              "      background-color: #434B5C;\n",
              "      box-shadow: 0px 1px 3px 1px rgba(0, 0, 0, 0.15);\n",
              "      filter: drop-shadow(0px 1px 2px rgba(0, 0, 0, 0.3));\n",
              "      fill: #FFFFFF;\n",
              "    }\n",
              "  </style>\n",
              "\n",
              "      <script>\n",
              "        const buttonEl =\n",
              "          document.querySelector('#df-bb7cfa49-47ae-45cb-901f-a846cb61ad6b button.colab-df-convert');\n",
              "        buttonEl.style.display =\n",
              "          google.colab.kernel.accessAllowed ? 'block' : 'none';\n",
              "\n",
              "        async function convertToInteractive(key) {\n",
              "          const element = document.querySelector('#df-bb7cfa49-47ae-45cb-901f-a846cb61ad6b');\n",
              "          const dataTable =\n",
              "            await google.colab.kernel.invokeFunction('convertToInteractive',\n",
              "                                                     [key], {});\n",
              "          if (!dataTable) return;\n",
              "\n",
              "          const docLinkHtml = 'Like what you see? Visit the ' +\n",
              "            '<a target=\"_blank\" href=https://colab.research.google.com/notebooks/data_table.ipynb>data table notebook</a>'\n",
              "            + ' to learn more about interactive tables.';\n",
              "          element.innerHTML = '';\n",
              "          dataTable['output_type'] = 'display_data';\n",
              "          await google.colab.output.renderOutput(dataTable, element);\n",
              "          const docLink = document.createElement('div');\n",
              "          docLink.innerHTML = docLinkHtml;\n",
              "          element.appendChild(docLink);\n",
              "        }\n",
              "      </script>\n",
              "    </div>\n",
              "  </div>\n",
              "  "
            ],
            "text/plain": [
              "                      location  \\\n",
              "29016             KERKRADE, NL   \n",
              "37232            GRONINGEN, NL   \n",
              "37515            GRONINGEN, NL   \n",
              "37579     'T LOO OLDEBROEK, NL   \n",
              "38283                URSEM, NL   \n",
              "38289                URSEM, NL   \n",
              "58169  ALPHEN AAN DEN RIJN, NL   \n",
              "58171  ALPHEN AAN DEN RIJN, NL   \n",
              "\n",
              "                                                     url               make  \\\n",
              "29016  https://www.autoscout24.com/offers/volkswagen-...  \\n,Volkswagen ,\\n   \n",
              "37232  https://www.autoscout24.com/offers/citroen-jum...     \\n,Citroen ,\\n   \n",
              "37515  https://www.autoscout24.com/offers/citroen-jum...     \\n,Citroen ,\\n   \n",
              "37579  https://www.autoscout24.com/offers/citroen-jum...     \\n,Citroen ,\\n   \n",
              "38283  https://www.autoscout24.com/offers/chevrolet-s...   \\n,Chevrolet ,\\n   \n",
              "38289  https://www.autoscout24.com/offers/chevrolet-s...   \\n,Chevrolet ,\\n   \n",
              "58169  https://www.autoscout24.com/offers/toyota-proa...      \\n,Toyota ,\\n   \n",
              "58171  https://www.autoscout24.com/offers/toyota-proa...      \\n,Toyota ,\\n   \n",
              "\n",
              "                    model                                  short_description  \\\n",
              "29016  ['\\n', None, '\\n']                       Caddy 1.6 TDI Airco Trekhaak   \n",
              "37232  ['\\n', None, '\\n']  Jumpy bestel 2.0 BlueHDI 180 M Driver | 19'' L...   \n",
              "37515  ['\\n', None, '\\n']  Jumpy bestel 2.0 BlueHDI 180 M Driver | 19'' L...   \n",
              "37579  ['\\n', None, '\\n']                                              jumpy   \n",
              "38283  ['\\n', None, '\\n']                             Silverado 1500 RST 4x4   \n",
              "38289  ['\\n', None, '\\n']                             Silverado 1500 RST 4x4   \n",
              "58169  ['\\n', None, '\\n']  PROACE CITY Verso 1.2 Turbo Dynamic, Unieke Auto!   \n",
              "58171  ['\\n', None, '\\n']  PROACE CITY Verso 1.2 Turbo Dynamic, Unieke Auto!   \n",
              "\n",
              "                              price               mileage             gearbox  \\\n",
              "29016   [['\\n', '€ 6,950.-', '\\n']]  ['', ['152,938 km']]       \\n,03/2014,\\n   \n",
              "37232  [['\\n', '€ 28,989.-', '\\n']]    ['', ['4,997 km']]       \\n,09/2021,\\n   \n",
              "37515  [['\\n', '€ 28,989.-', '\\n']]    ['', ['4,997 km']]       \\n,09/2021,\\n   \n",
              "37579  [['\\n', '€ 17,500.-', '\\n']]   ['', ['59,000 km']]       \\n,07/2017,\\n   \n",
              "38283  [['\\n', '€ 59,950.-', '\\n']]       ['', ['56 km']]  ['\\n', None, '\\n']   \n",
              "38289  [['\\n', '€ 59,950.-', '\\n']]       ['', ['56 km']]  ['\\n', None, '\\n']   \n",
              "58169  [['\\n', '€ 29,690.-', '\\n']]        ['', ['3 km']]       \\n,02/2022,\\n   \n",
              "58171  [['\\n', '€ 29,690.-', '\\n']]        ['', ['3 km']]       \\n,02/2022,\\n   \n",
              "\n",
              "          registration        fuel_type       power                  seller  \\\n",
              "29016   75 kW (102 hp)     \\n,Manual,\\n   2,159 kg,    ['\\n', ['Diesel\\n']]   \n",
              "37232  130 kW (177 hp)  \\n,Automatic,\\n   2,735 kg,    ['\\n', ['Diesel\\n']]   \n",
              "37515  130 kW (177 hp)  \\n,Automatic,\\n   2,735 kg,    ['\\n', ['Diesel\\n']]   \n",
              "37579   90 kW (122 hp)     \\n,Manual,\\n   1,588 kg,    ['\\n', ['Diesel\\n']]   \n",
              "38283  265 kW (360 hp)  \\n,Automatic,\\n  [None, '']  ['\\n', ['Gasoline\\n']]   \n",
              "38289  265 kW (360 hp)  \\n,Automatic,\\n  [None, '']  ['\\n', ['Gasoline\\n']]   \n",
              "58169   96 kW (131 hp)  \\n,Automatic,\\n  [None, '']  ['\\n', ['Gasoline\\n']]   \n",
              "58171   96 kW (131 hp)  \\n,Automatic,\\n  [None, '']  ['\\n', ['Gasoline\\n']]   \n",
              "\n",
              "                 body_type        type   drivetrain seats doors  \\\n",
              "29016      \\n,Panel van,\\n  \\n,Used,\\n  \\n,Front,\\n   \\n2   \\n4   \n",
              "37232      \\n,Panel van,\\n  \\n,Used,\\n  \\n,Front,\\n   \\n2   \\n5   \n",
              "37515      \\n,Panel van,\\n  \\n,Used,\\n  \\n,Front,\\n   \\n2   \\n5   \n",
              "37579  \\n,Car transport,\\n  \\n,Used,\\n  \\n,Front,\\n   \\n3   \\n4   \n",
              "38283    \\n,Flatbed van,\\n   \\n,New,\\n    \\n,4WD,\\n   \\n6   \\n4   \n",
              "38289    \\n,Flatbed van,\\n   \\n,New,\\n    \\n,4WD,\\n   \\n6   \\n4   \n",
              "58169          \\n,Other,\\n  \\n,Used,\\n  \\n,Front,\\n   \\n5   \\n5   \n",
              "58171          \\n,Other,\\n  \\n,Used,\\n  \\n,Front,\\n   \\n5   \\n5   \n",
              "\n",
              "                   country_version offer_number        warranty  \\\n",
              "29016         Country version,None     \\nVLB16G      \\n,None,\\n   \n",
              "37232  Country version,Netherlands     \\nVLL62P  \\n,6 months,\\n   \n",
              "37515  Country version,Netherlands     \\nVLL62P  \\n,6 months,\\n   \n",
              "37579  Country version,Netherlands          \\n1      \\n,None,\\n   \n",
              "38283  Country version,Netherlands       None\\n      \\n,None,\\n   \n",
              "38289  Country version,Netherlands       None\\n      \\n,None,\\n   \n",
              "58169         Country version,None   \\nVE-RS-03  \\n,6 months,\\n   \n",
              "58171         Country version,None   \\nVE-RS-03  \\n,6 months,\\n   \n",
              "\n",
              "              Mileage first_registration production_date general_inspection  \\\n",
              "29016  [['\\n'], ['']]            03/2014            None                New   \n",
              "37232  [['\\n'], ['']]            09/2021            None                New   \n",
              "37515  [['\\n'], ['']]            09/2021            None                New   \n",
              "37579  [['\\n'], ['']]            07/2017            2017                New   \n",
              "38283  [['\\n'], ['']]               None            2021               None   \n",
              "38289  [['\\n'], ['']]               None            2021               None   \n",
              "58169  [['\\n'], ['']]            02/2022            None               None   \n",
              "58171  [['\\n'], ['']]            02/2022            None               None   \n",
              "\n",
              "      last_service full_service_history non_smoker_vehicle  \\\n",
              "29016         None           \\n,None,\\n         \\n,None,\\n   \n",
              "37232         None            \\n,Yes,\\n         \\n,None,\\n   \n",
              "37515         None            \\n,Yes,\\n         \\n,None,\\n   \n",
              "37579         None            \\n,Yes,\\n         \\n,None,\\n   \n",
              "38283         None           \\n,None,\\n         \\n,None,\\n   \n",
              "38289         None           \\n,None,\\n         \\n,None,\\n   \n",
              "58169         None            \\n,Yes,\\n         \\n,None,\\n   \n",
              "58171         None            \\n,Yes,\\n         \\n,None,\\n   \n",
              "\n",
              "                       Power          Gearbox     engine_size       gears  \\\n",
              "29016   \\n,75 kW (102 hp),\\n     \\n,Manual,\\n  \\n,1,598 cc,\\n     \\n,5,\\n   \n",
              "37232  \\n,130 kW (177 hp),\\n  \\n,Automatic,\\n  \\n,1,997 cc,\\n  \\n,None,\\n   \n",
              "37515  \\n,130 kW (177 hp),\\n  \\n,Automatic,\\n  \\n,1,997 cc,\\n  \\n,None,\\n   \n",
              "37579   \\n,90 kW (122 hp),\\n     \\n,Manual,\\n  \\n,1,997 cc,\\n     \\n,6,\\n   \n",
              "38283  \\n,265 kW (360 hp),\\n  \\n,Automatic,\\n  \\n,5,238 cc,\\n     \\n,1,\\n   \n",
              "38289  \\n,265 kW (360 hp),\\n  \\n,Automatic,\\n  \\n,5,238 cc,\\n     \\n,1,\\n   \n",
              "58169   \\n,96 kW (131 hp),\\n  \\n,Automatic,\\n  \\n,1,200 cc,\\n     \\n,6,\\n   \n",
              "58171   \\n,96 kW (131 hp),\\n  \\n,Automatic,\\n  \\n,1,200 cc,\\n     \\n,6,\\n   \n",
              "\n",
              "      cylinders empty_weight       Fuel_type  \\\n",
              "29016   \\n,4,\\n   \\n,None,\\n    \\n,Diesel,\\n   \n",
              "37232   \\n,4,\\n   \\n,None,\\n    \\n,Diesel,\\n   \n",
              "37515   \\n,4,\\n   \\n,None,\\n    \\n,Diesel,\\n   \n",
              "37579   \\n,4,\\n   \\n,None,\\n    \\n,Diesel,\\n   \n",
              "38283   \\n,8,\\n   \\n,None,\\n  \\n,Gasoline,\\n   \n",
              "38289   \\n,8,\\n   \\n,None,\\n  \\n,Gasoline,\\n   \n",
              "58169   \\n,3,\\n   \\n,None,\\n  \\n,Super 95,\\n   \n",
              "58171   \\n,3,\\n   \\n,None,\\n  \\n,Super 95,\\n   \n",
              "\n",
              "                                        fuel_consumption  \\\n",
              "29016  ['\\n', ['5.7 l/100 km (comb.)', '6.6 l/100 km ...   \n",
              "37232                                         \\n,None,\\n   \n",
              "37515                                         \\n,None,\\n   \n",
              "37579                                         \\n,None,\\n   \n",
              "38283                                         \\n,None,\\n   \n",
              "38289                                         \\n,None,\\n   \n",
              "58169   ['\\n', ['6.7 l/100 km (comb.)', ' ', ' '], '\\n']   \n",
              "58171   ['\\n', ['6.7 l/100 km (comb.)', ' ', ' '], '\\n']   \n",
              "\n",
              "                       co2_emissions                 emission_class  \\\n",
              "29016         \\n,149 g/km (comb.),\\n                   \\n,Euro 5,\\n   \n",
              "37232  ['\\n', [' ', ' ', ' '], '\\n']                   \\n,Euro 6,\\n   \n",
              "37515  ['\\n', [' ', ' ', ' '], '\\n']                   \\n,Euro 6,\\n   \n",
              "37579                     \\n,None,\\n  ['\\n', [' ', ' ', ' '], '\\n']   \n",
              "38283                     \\n,None,\\n  ['\\n', [' ', ' ', ' '], '\\n']   \n",
              "38289                     \\n,None,\\n  ['\\n', [' ', ' ', ' '], '\\n']   \n",
              "58169           \\n,0 g/km (comb.),\\n                     \\n,None,\\n   \n",
              "58171           \\n,0 g/km (comb.),\\n                     \\n,None,\\n   \n",
              "\n",
              "                               \\nComfort & Convenience\\n  \\\n",
              "29016  [['Air conditioning', 'Electrical side mirrors...   \n",
              "37232  [['Air conditioning', 'Armrest', 'Automatic cl...   \n",
              "37515  [['Air conditioning', 'Armrest', 'Automatic cl...   \n",
              "37579  [['Air conditioning', 'Armrest', 'Automatic cl...   \n",
              "38283  [['Armrest', 'Automatic climate control, 2 zon...   \n",
              "38289  [['Armrest', 'Automatic climate control, 2 zon...   \n",
              "58169  [['Air conditioning', 'Automatic climate contr...   \n",
              "58171  [['Air conditioning', 'Automatic climate contr...   \n",
              "\n",
              "                               \\nEntertainment & Media\\n  \\\n",
              "29016                            [['On-board computer']]   \n",
              "37232  [['Android Auto', 'Apple CarPlay', 'Digital ra...   \n",
              "37515  [['Android Auto', 'Apple CarPlay', 'Digital ra...   \n",
              "37579  [['Android Auto', 'Apple CarPlay', 'Bluetooth'...   \n",
              "38283  [['Android Auto', 'Apple CarPlay', 'Bluetooth'...   \n",
              "38289  [['Android Auto', 'Apple CarPlay', 'Bluetooth'...   \n",
              "58169  [['Android Auto', 'Apple CarPlay', 'Digital ra...   \n",
              "58171  [['Android Auto', 'Apple CarPlay', 'Digital ra...   \n",
              "\n",
              "                                   \\nSafety & Security\\n  \\\n",
              "29016  [['ABS', 'Central door lock', 'Driver-side air...   \n",
              "37232  [['ABS', 'Adaptive Cruise Control', 'Alarm sys...   \n",
              "37515  [['ABS', 'Adaptive Cruise Control', 'Alarm sys...   \n",
              "37579  [['ABS', 'Alarm system', 'Central door lock wi...   \n",
              "38283  [['ABS', 'Central door lock with remote contro...   \n",
              "38289  [['ABS', 'Central door lock with remote contro...   \n",
              "58169  [['ABS', 'Adaptive Cruise Control', 'Adaptive ...   \n",
              "58171  [['ABS', 'Adaptive Cruise Control', 'Adaptive ...   \n",
              "\n",
              "                                                  extras     \\ncolour  \\\n",
              "29016                                [['Trailer hitch']]     \\n4, Red   \n",
              "37232  [['Alloy wheels (17\")', 'Trailer hitch', 'Voic...    \\n4, Grey   \n",
              "37515  [['Alloy wheels (17\")', 'Trailer hitch', 'Voic...    \\n4, Grey   \n",
              "37579  [['Alloy wheels', 'Touch screen', 'Trailer hit...     \\n4, Red   \n",
              "38283  [['Alloy wheels (20\")', 'Automatically dimming...     \\n4, Red   \n",
              "38289  [['Alloy wheels (20\")', 'Automatically dimming...     \\n4, Red   \n",
              "58169  [['Alloy wheels (17\")', 'Automatically dimming...  \\n4, Silver   \n",
              "58171  [['Alloy wheels (17\")', 'Automatically dimming...  \\n4, Silver   \n",
              "\n",
              "      \\nmanufacturer_color            \\npaint   upholstery_colour   \\\n",
              "29016                 None               None   \\nupholstery, Grey   \n",
              "37232                 None  \\npaint, Metallic                 None   \n",
              "37515                 None  \\npaint, Metallic                 None   \n",
              "37579                 None  \\npaint, Metallic   \\nupholstery, Grey   \n",
              "38283                 None               None  \\nupholstery, Other   \n",
              "38289                 None               None  \\nupholstery, Other   \n",
              "58169                 None  \\npaint, Metallic  \\nupholstery, Black   \n",
              "58171                 None  \\npaint, Metallic  \\nupholstery, Black   \n",
              "\n",
              "       upholstery   \n",
              "29016   \\n8, Other  \n",
              "37232         None  \n",
              "37515         None  \n",
              "37579   \\n8, Cloth  \n",
              "38283   \\n8, Cloth  \n",
              "38289   \\n8, Cloth  \n",
              "58169   \\n8, Cloth  \n",
              "58171   \\n8, Cloth  "
            ]
          },
          "metadata": {},
          "execution_count": 400
        }
      ]
    },
    {
      "cell_type": "code",
      "source": [
        "df.loc[shifted_rows,['empty_weight']] = df.loc[shifted_rows,['power']]\n",
        "df.loc[shifted_rows,['power']] = df.loc[shifted_rows,['registration']]"
      ],
      "metadata": {
        "id": "y4HJgBIeZqLR"
      },
      "execution_count": 401,
      "outputs": []
    },
    {
      "cell_type": "code",
      "source": [
        "df = df.drop(['registration','first_registration'],axis=1)"
      ],
      "metadata": {
        "id": "IwaUAFs0bJEp"
      },
      "execution_count": 402,
      "outputs": []
    },
    {
      "cell_type": "markdown",
      "metadata": {
        "id": "l7PQXaPk90u7"
      },
      "source": [
        "## fuel_type"
      ]
    },
    {
      "cell_type": "code",
      "execution_count": 403,
      "metadata": {
        "outputId": "12c047ba-3a80-48d0-8690-fd74d6ddd216",
        "colab": {
          "base_uri": "https://localhost:8080/"
        },
        "id": "gqRmoflW90u8"
      },
      "outputs": [
        {
          "output_type": "execute_result",
          "data": {
            "text/plain": [
              "0.0"
            ]
          },
          "metadata": {},
          "execution_count": 403
        }
      ],
      "source": [
        "perc_nans(df.fuel_type)"
      ]
    },
    {
      "cell_type": "code",
      "source": [
        "df.fuel_type"
      ],
      "metadata": {
        "colab": {
          "base_uri": "https://localhost:8080/"
        },
        "id": "c1uJLc7D97fc",
        "outputId": "122accbb-1084-4964-a9f8-6a74c3fdef13"
      },
      "execution_count": 404,
      "outputs": [
        {
          "output_type": "execute_result",
          "data": {
            "text/plain": [
              "0        \\n,Gasoline,\\n\n",
              "1        \\n,Gasoline,\\n\n",
              "2        \\n,Gasoline,\\n\n",
              "3        \\n,Gasoline,\\n\n",
              "4        \\n,Gasoline,\\n\n",
              "              ...      \n",
              "65836         \\n,LPG,\\n\n",
              "65837         \\n,LPG,\\n\n",
              "65838     \\n,Ethanol,\\n\n",
              "65839         \\n,LPG,\\n\n",
              "65840         \\n,CNG,\\n\n",
              "Name: fuel_type, Length: 64368, dtype: object"
            ]
          },
          "metadata": {},
          "execution_count": 404
        }
      ]
    },
    {
      "cell_type": "code",
      "source": [
        "df.fuel_type = df.fuel_type.str.split(\",\").apply(lambda x: x[1])"
      ],
      "metadata": {
        "id": "wPXistVt-GMc"
      },
      "execution_count": 405,
      "outputs": []
    },
    {
      "cell_type": "code",
      "source": [
        "df.fuel_type.value_counts(dropna=False)"
      ],
      "metadata": {
        "colab": {
          "base_uri": "https://localhost:8080/"
        },
        "outputId": "337ec9c8-c591-435f-c9bb-df5eeda80596",
        "id": "ueX2b_O5-GMd"
      },
      "execution_count": 406,
      "outputs": [
        {
          "output_type": "execute_result",
          "data": {
            "text/plain": [
              "Gasoline             37191\n",
              "Diesel               12343\n",
              "Electric/Gasoline     8645\n",
              "Electric              5185\n",
              "LPG                    486\n",
              "Electric/Diesel        292\n",
              "CNG                    105\n",
              "Hydrogen                88\n",
              "Others                  11\n",
              "Automatic                9\n",
              "Ethanol                  9\n",
              " None                    2\n",
              "Manual                   2\n",
              "Name: fuel_type, dtype: int64"
            ]
          },
          "metadata": {},
          "execution_count": 406
        }
      ]
    },
    {
      "cell_type": "markdown",
      "metadata": {
        "id": "gPq92SfA-hwI"
      },
      "source": [
        "## power"
      ]
    },
    {
      "cell_type": "markdown",
      "source": [
        "1 kW = 1.359622 hp"
      ],
      "metadata": {
        "id": "b8IYzqp2_p6c"
      }
    },
    {
      "cell_type": "code",
      "execution_count": 407,
      "metadata": {
        "outputId": "b516f2f2-4a20-4b16-906e-3b0f75b6795a",
        "colab": {
          "base_uri": "https://localhost:8080/"
        },
        "id": "0gKYkC67-hwJ"
      },
      "outputs": [
        {
          "output_type": "execute_result",
          "data": {
            "text/plain": [
              "0.012428535918468804"
            ]
          },
          "metadata": {},
          "execution_count": 407
        }
      ],
      "source": [
        "perc_nans(df.power) "
      ]
    },
    {
      "cell_type": "code",
      "source": [
        "df.power"
      ],
      "metadata": {
        "colab": {
          "base_uri": "https://localhost:8080/"
        },
        "id": "zqYILXmB-nhQ",
        "outputId": "f39f4499-38f2-4a8c-ae05-ff87c7be4f93"
      },
      "execution_count": 408,
      "outputs": [
        {
          "output_type": "execute_result",
          "data": {
            "text/plain": [
              "0         90 kW (122 hp),\n",
              "1         85 kW (116 hp),\n",
              "2        110 kW (150 hp),\n",
              "3        221 kW (300 hp),\n",
              "4        147 kW (200 hp),\n",
              "               ...       \n",
              "65836    103 kW (140 hp),\n",
              "65837    104 kW (141 hp),\n",
              "65838    107 kW (145 hp),\n",
              "65839    103 kW (140 hp),\n",
              "65840    103 kW (140 hp),\n",
              "Name: power, Length: 64368, dtype: object"
            ]
          },
          "metadata": {},
          "execution_count": 408
        }
      ]
    },
    {
      "cell_type": "code",
      "source": [
        "df.power = df.power.str.extract('(\\d*) hp')"
      ],
      "metadata": {
        "id": "hjCnUsfI-nk7"
      },
      "execution_count": 409,
      "outputs": []
    },
    {
      "cell_type": "code",
      "source": [
        "perc_nans(df.power)"
      ],
      "metadata": {
        "colab": {
          "base_uri": "https://localhost:8080/"
        },
        "id": "WXbtUX61-ntn",
        "outputId": "18b5eb29-1b1f-4988-cf4a-7a388886a696"
      },
      "execution_count": 410,
      "outputs": [
        {
          "output_type": "execute_result",
          "data": {
            "text/plain": [
              "8.856885408898831"
            ]
          },
          "metadata": {},
          "execution_count": 410
        }
      ]
    },
    {
      "cell_type": "code",
      "source": [
        "df.columns"
      ],
      "metadata": {
        "colab": {
          "base_uri": "https://localhost:8080/"
        },
        "id": "TK4EskVNCp-t",
        "outputId": "1a440610-c38d-4ea7-d2e1-76d047cb9588"
      },
      "execution_count": 411,
      "outputs": [
        {
          "output_type": "execute_result",
          "data": {
            "text/plain": [
              "Index(['location', 'price', 'mileage', 'gearbox', 'fuel_type', 'power',\n",
              "       'seller', 'body_type', 'type', 'drivetrain', 'seats', 'doors',\n",
              "       'warranty', 'general_inspection', 'full_service_history',\n",
              "       'non_smoker_vehicle', 'engine_size', 'gears', 'cylinders',\n",
              "       'empty_weight', 'fuel_consumption', 'co2_emissions', 'emission_class',\n",
              "       'comfort_convenience', 'entertainment_media', 'safety_security',\n",
              "       'extras', 'colour', 'paint', 'upholstery_colour', 'upholstery',\n",
              "       'make_model', 'age'],\n",
              "      dtype='object')"
            ]
          },
          "metadata": {},
          "execution_count": 411
        }
      ]
    },
    {
      "cell_type": "markdown",
      "source": [
        "## seller"
      ],
      "metadata": {
        "id": "L5Ge31vRCtfR"
      }
    },
    {
      "cell_type": "code",
      "source": [
        "perc_nans(df.seller) "
      ],
      "metadata": {
        "colab": {
          "base_uri": "https://localhost:8080/"
        },
        "id": "NNNLsIW7M1mt",
        "outputId": "39ca2fae-e474-44a5-d6db-1cf8fc568dda"
      },
      "execution_count": 412,
      "outputs": [
        {
          "output_type": "execute_result",
          "data": {
            "text/plain": [
              "0.0"
            ]
          },
          "metadata": {},
          "execution_count": 412
        }
      ]
    },
    {
      "cell_type": "code",
      "source": [
        "df.seller.value_counts()"
      ],
      "metadata": {
        "colab": {
          "base_uri": "https://localhost:8080/"
        },
        "id": "OwBg6L9aCqEF",
        "outputId": "2080179f-3fce-4d55-eb24-8783306bdc4b"
      },
      "execution_count": 413,
      "outputs": [
        {
          "output_type": "execute_result",
          "data": {
            "text/plain": [
              "['\\n', ['Dealer\\n']]            59529\n",
              "['\\n', ['Private seller\\n']]     4828\n",
              "['\\n', ['Gasoline\\n']]              4\n",
              "['\\n', ['Diesel\\n']]                4\n",
              "['\\n', ['Electric\\n']]              3\n",
              "Name: seller, dtype: int64"
            ]
          },
          "metadata": {},
          "execution_count": 413
        }
      ]
    },
    {
      "cell_type": "code",
      "source": [
        "df.seller =df.seller.str.extract(' \\W*(\\w*)\\\\n*')"
      ],
      "metadata": {
        "id": "lS1_ccrTCqGm"
      },
      "execution_count": 414,
      "outputs": []
    },
    {
      "cell_type": "code",
      "source": [
        "df.seller.value_counts()"
      ],
      "metadata": {
        "colab": {
          "base_uri": "https://localhost:8080/"
        },
        "id": "gwP4WaRHMpBy",
        "outputId": "580e4f38-f2a3-48f6-ddf5-99bbce424e0a"
      },
      "execution_count": 415,
      "outputs": [
        {
          "output_type": "execute_result",
          "data": {
            "text/plain": [
              "Dealer      59529\n",
              "Private      4828\n",
              "Diesel          4\n",
              "Gasoline        4\n",
              "Electric        3\n",
              "Name: seller, dtype: int64"
            ]
          },
          "metadata": {},
          "execution_count": 415
        }
      ]
    },
    {
      "cell_type": "markdown",
      "metadata": {
        "id": "Fx_Uw5QNffWl"
      },
      "source": [
        "## body_type"
      ]
    },
    {
      "cell_type": "code",
      "execution_count": 416,
      "metadata": {
        "id": "C-R-_CT-ffWl",
        "outputId": "53b57dc1-bb94-4ab7-f974-55f498131a44",
        "colab": {
          "base_uri": "https://localhost:8080/"
        }
      },
      "outputs": [
        {
          "output_type": "execute_result",
          "data": {
            "text/plain": [
              "0.0"
            ]
          },
          "metadata": {},
          "execution_count": 416
        }
      ],
      "source": [
        "perc_nans(df.body_type)"
      ]
    },
    {
      "cell_type": "code",
      "execution_count": 417,
      "metadata": {
        "id": "RJet9A6tffWl",
        "outputId": "0affc861-29a5-4a23-bb95-2a382043bc44",
        "colab": {
          "base_uri": "https://localhost:8080/"
        }
      },
      "outputs": [
        {
          "output_type": "execute_result",
          "data": {
            "text/plain": [
              "\\n,Off-Road/Pick-up,\\n    17436\n",
              "\\n,Compact,\\n             13909\n",
              "\\n,Station wagon,\\n       11959\n",
              "\\n,Van,\\n                  6756\n",
              "\\n,Sedan,\\n                5652\n",
              "\\n,Convertible,\\n          3045\n",
              "\\n,Transporter,\\n          2229\n",
              "\\n,Coupe,\\n                1945\n",
              "\\n,None,\\n                  848\n",
              "\\n,Other,\\n                 583\n",
              "\\n,Panel van,\\n               3\n",
              "\\n,Flatbed van,\\n             2\n",
              "\\n,Car transport,\\n           1\n",
              "Name: body_type, dtype: int64"
            ]
          },
          "metadata": {},
          "execution_count": 417
        }
      ],
      "source": [
        "df.body_type.value_counts(dropna=False)"
      ]
    },
    {
      "cell_type": "code",
      "source": [
        "df.body_type = df.body_type.apply(lambda x:x.split(',')[1])"
      ],
      "metadata": {
        "id": "xamsk7zENjl-"
      },
      "execution_count": 418,
      "outputs": []
    },
    {
      "cell_type": "code",
      "source": [
        "df.body_type.value_counts(dropna=False)"
      ],
      "metadata": {
        "colab": {
          "base_uri": "https://localhost:8080/"
        },
        "id": "8ngDVJHJNjou",
        "outputId": "724e31ea-ffb0-4664-e3a6-e92362b4527c"
      },
      "execution_count": 419,
      "outputs": [
        {
          "output_type": "execute_result",
          "data": {
            "text/plain": [
              "Off-Road/Pick-up    17436\n",
              "Compact             13909\n",
              "Station wagon       11959\n",
              "Van                  6756\n",
              "Sedan                5652\n",
              "Convertible          3045\n",
              "Transporter          2229\n",
              "Coupe                1945\n",
              "None                  848\n",
              "Other                 583\n",
              "Panel van               3\n",
              "Flatbed van             2\n",
              "Car transport           1\n",
              "Name: body_type, dtype: int64"
            ]
          },
          "metadata": {},
          "execution_count": 419
        }
      ]
    },
    {
      "cell_type": "markdown",
      "metadata": {
        "id": "KTIOXcM8ffWm"
      },
      "source": [
        "## type"
      ]
    },
    {
      "cell_type": "code",
      "execution_count": 420,
      "metadata": {
        "id": "mwhCIYRPffWm",
        "outputId": "ad23023e-8d32-457f-aff1-32d993ea7463",
        "colab": {
          "base_uri": "https://localhost:8080/"
        }
      },
      "outputs": [
        {
          "output_type": "execute_result",
          "data": {
            "text/plain": [
              "0.0"
            ]
          },
          "metadata": {},
          "execution_count": 420
        }
      ],
      "source": [
        "perc_nans(df.type)"
      ]
    },
    {
      "cell_type": "code",
      "execution_count": 421,
      "metadata": {
        "id": "jv0YmFg9ffWm",
        "outputId": "31f11e06-16c9-4433-e803-f6a115326122",
        "colab": {
          "base_uri": "https://localhost:8080/"
        }
      },
      "outputs": [
        {
          "output_type": "execute_result",
          "data": {
            "text/plain": [
              "\\n,Used,\\n                 56380\n",
              "\\n,New,\\n                   4044\n",
              "\\n,Demonstration,\\n         2029\n",
              "\\n,Pre-registered,\\n        1066\n",
              "\\n,None,\\n                   848\n",
              "\\n,Antique / Classic,\\n        1\n",
              "Name: type, dtype: int64"
            ]
          },
          "metadata": {},
          "execution_count": 421
        }
      ],
      "source": [
        "df.type.value_counts(dropna=False)"
      ]
    },
    {
      "cell_type": "code",
      "source": [
        "df.type = df.type.apply(lambda x:x.split(',')[1])"
      ],
      "metadata": {
        "id": "VJJcQ93YO5Ic"
      },
      "execution_count": 422,
      "outputs": []
    },
    {
      "cell_type": "code",
      "source": [
        "df.type.value_counts(dropna=False)"
      ],
      "metadata": {
        "colab": {
          "base_uri": "https://localhost:8080/"
        },
        "id": "tfUlwCQBO-9y",
        "outputId": "a7a5f64a-6181-42ac-c63d-0f1d41843499"
      },
      "execution_count": 423,
      "outputs": [
        {
          "output_type": "execute_result",
          "data": {
            "text/plain": [
              "Used                 56380\n",
              "New                   4044\n",
              "Demonstration         2029\n",
              "Pre-registered        1066\n",
              "None                   848\n",
              "Antique / Classic        1\n",
              "Name: type, dtype: int64"
            ]
          },
          "metadata": {},
          "execution_count": 423
        }
      ]
    },
    {
      "cell_type": "markdown",
      "metadata": {
        "id": "Mivi7xirffWn"
      },
      "source": [
        "## drivetrain"
      ]
    },
    {
      "cell_type": "code",
      "execution_count": 424,
      "metadata": {
        "id": "QbB1T-lDffWn",
        "outputId": "8c145843-e05b-425a-afda-0870aa02da37",
        "colab": {
          "base_uri": "https://localhost:8080/"
        }
      },
      "outputs": [
        {
          "output_type": "execute_result",
          "data": {
            "text/plain": [
              "0.0"
            ]
          },
          "metadata": {},
          "execution_count": 424
        }
      ],
      "source": [
        "perc_nans(df.drivetrain)"
      ]
    },
    {
      "cell_type": "code",
      "execution_count": 425,
      "metadata": {
        "id": "xUMCtZDiffWn",
        "outputId": "fa0d9e98-b08e-4873-d7e3-ba6e4776e631",
        "colab": {
          "base_uri": "https://localhost:8080/"
        }
      },
      "outputs": [
        {
          "output_type": "execute_result",
          "data": {
            "text/plain": [
              "21923    \\n,Front,\\n\n",
              "64012    \\n,Front,\\n\n",
              "18049      \\n,4WD,\\n\n",
              "13242      \\n,4WD,\\n\n",
              "23254    \\n,Front,\\n\n",
              "17271    \\n,Front,\\n\n",
              "63251    \\n,Front,\\n\n",
              "53422     \\n,None,\\n\n",
              "53036    \\n,Front,\\n\n",
              "47194     \\n,Rear,\\n\n",
              "Name: drivetrain, dtype: object"
            ]
          },
          "metadata": {},
          "execution_count": 425
        }
      ],
      "source": [
        "df.drivetrain.sample(10)"
      ]
    },
    {
      "cell_type": "code",
      "execution_count": 426,
      "metadata": {
        "id": "5mobjHlsffWo"
      },
      "outputs": [],
      "source": [
        "df.drivetrain = df.drivetrain.apply(lambda x:x.split(',')[1])"
      ]
    },
    {
      "cell_type": "code",
      "execution_count": 427,
      "metadata": {
        "id": "MXbG7ld7ffWo",
        "outputId": "2eae000d-3175-4dbb-aed4-013f2c3402b2",
        "colab": {
          "base_uri": "https://localhost:8080/"
        }
      },
      "outputs": [
        {
          "output_type": "execute_result",
          "data": {
            "text/plain": [
              "Front    34729\n",
              "None     14588\n",
              "4WD       7698\n",
              "Rear      7353\n",
              "Name: drivetrain, dtype: int64"
            ]
          },
          "metadata": {},
          "execution_count": 427
        }
      ],
      "source": [
        "df.drivetrain.value_counts(dropna=False)"
      ]
    },
    {
      "cell_type": "code",
      "source": [
        "df.columns"
      ],
      "metadata": {
        "colab": {
          "base_uri": "https://localhost:8080/"
        },
        "id": "97jfBetOPtMI",
        "outputId": "3308216e-c564-4f20-c2a2-dd3454407ab3"
      },
      "execution_count": 428,
      "outputs": [
        {
          "output_type": "execute_result",
          "data": {
            "text/plain": [
              "Index(['location', 'price', 'mileage', 'gearbox', 'fuel_type', 'power',\n",
              "       'seller', 'body_type', 'type', 'drivetrain', 'seats', 'doors',\n",
              "       'warranty', 'general_inspection', 'full_service_history',\n",
              "       'non_smoker_vehicle', 'engine_size', 'gears', 'cylinders',\n",
              "       'empty_weight', 'fuel_consumption', 'co2_emissions', 'emission_class',\n",
              "       'comfort_convenience', 'entertainment_media', 'safety_security',\n",
              "       'extras', 'colour', 'paint', 'upholstery_colour', 'upholstery',\n",
              "       'make_model', 'age'],\n",
              "      dtype='object')"
            ]
          },
          "metadata": {},
          "execution_count": 428
        }
      ]
    },
    {
      "cell_type": "markdown",
      "metadata": {
        "id": "9wfb78n0ffWo"
      },
      "source": [
        "## seats"
      ]
    },
    {
      "cell_type": "code",
      "execution_count": 429,
      "metadata": {
        "id": "QFeaKPPyffWo",
        "outputId": "845163eb-f49e-430c-ebca-c3276f055a3f",
        "colab": {
          "base_uri": "https://localhost:8080/"
        }
      },
      "outputs": [
        {
          "output_type": "execute_result",
          "data": {
            "text/plain": [
              "0.0"
            ]
          },
          "metadata": {},
          "execution_count": 429
        }
      ],
      "source": [
        "perc_nans(df.seats)"
      ]
    },
    {
      "cell_type": "code",
      "execution_count": 430,
      "metadata": {
        "id": "EuavtpjnffWo",
        "outputId": "fc5e2c25-59de-445f-84fe-14cbe621534c",
        "colab": {
          "base_uri": "https://localhost:8080/"
        }
      },
      "outputs": [
        {
          "output_type": "execute_result",
          "data": {
            "text/plain": [
              "array(['\\n4', '\\n5', 'None\\n', '\\n2', '\\n6', '\\n7', '\\n3', '\\n8', '\\n9',\n",
              "       '\\n1'], dtype=object)"
            ]
          },
          "metadata": {},
          "execution_count": 430
        }
      ],
      "source": [
        "df.seats.unique()"
      ]
    },
    {
      "cell_type": "code",
      "source": [
        "df.seats = df.seats.str.extract('(\\d)')"
      ],
      "metadata": {
        "id": "9XNe3mzOP8x6"
      },
      "execution_count": 431,
      "outputs": []
    },
    {
      "cell_type": "code",
      "execution_count": 432,
      "metadata": {
        "id": "hnPsHmF2ffWp",
        "colab": {
          "base_uri": "https://localhost:8080/"
        },
        "outputId": "a681db0e-8bd7-492b-fa11-466362c0f852"
      },
      "outputs": [
        {
          "output_type": "execute_result",
          "data": {
            "text/plain": [
              "5      48302\n",
              "4       6196\n",
              "NaN     4940\n",
              "7       1986\n",
              "2       1718\n",
              "3        853\n",
              "6        259\n",
              "8         57\n",
              "9         54\n",
              "1          3\n",
              "Name: seats, dtype: int64"
            ]
          },
          "metadata": {},
          "execution_count": 432
        }
      ],
      "source": [
        "df.seats.value_counts(dropna=False)"
      ]
    },
    {
      "cell_type": "markdown",
      "metadata": {
        "id": "XI2e9o47ffWp"
      },
      "source": [
        "## doors"
      ]
    },
    {
      "cell_type": "code",
      "execution_count": 433,
      "metadata": {
        "id": "DeQs7hktffWp",
        "outputId": "d6ed4f05-f34e-4db9-816c-5d3d35958f20",
        "colab": {
          "base_uri": "https://localhost:8080/"
        }
      },
      "outputs": [
        {
          "output_type": "execute_result",
          "data": {
            "text/plain": [
              "0.0"
            ]
          },
          "metadata": {},
          "execution_count": 433
        }
      ],
      "source": [
        "perc_nans(df.doors)"
      ]
    },
    {
      "cell_type": "code",
      "execution_count": 434,
      "metadata": {
        "id": "GCcY5YHmffWp",
        "outputId": "b1bd1a74-6849-4827-d332-0654e2cd55fe",
        "colab": {
          "base_uri": "https://localhost:8080/"
        }
      },
      "outputs": [
        {
          "output_type": "execute_result",
          "data": {
            "text/plain": [
              "27450    \\n5\n",
              "63575    \\n5\n",
              "41523    \\n5\n",
              "60269    \\n5\n",
              "184      \\n5\n",
              "45321    \\n5\n",
              "857      \\n2\n",
              "51438    \\n5\n",
              "36240    \\n5\n",
              "7972     \\n2\n",
              "Name: doors, dtype: object"
            ]
          },
          "metadata": {},
          "execution_count": 434
        }
      ],
      "source": [
        "df.doors.sample(10)"
      ]
    },
    {
      "cell_type": "code",
      "execution_count": 435,
      "metadata": {
        "id": "AtwgGOZlffWp"
      },
      "outputs": [],
      "source": [
        "df.doors = df.doors.str.extract('(\\d)')"
      ]
    },
    {
      "cell_type": "code",
      "execution_count": 436,
      "metadata": {
        "id": "FfBChDllffWp",
        "outputId": "92e810c9-b2fe-4e52-bdb6-4d870096ab0c",
        "colab": {
          "base_uri": "https://localhost:8080/"
        }
      },
      "outputs": [
        {
          "output_type": "execute_result",
          "data": {
            "text/plain": [
              "5      47683\n",
              "4       8631\n",
              "2       4659\n",
              "3       2272\n",
              "NaN     1044\n",
              "6         75\n",
              "1          4\n",
              "Name: doors, dtype: int64"
            ]
          },
          "metadata": {},
          "execution_count": 436
        }
      ],
      "source": [
        "df.doors.value_counts(dropna=False)"
      ]
    },
    {
      "cell_type": "markdown",
      "metadata": {
        "id": "ygf1lyjtffWp"
      },
      "source": [
        "## warranty"
      ]
    },
    {
      "cell_type": "code",
      "execution_count": 437,
      "metadata": {
        "id": "y4w7cOAFffWp",
        "outputId": "fab343fb-9882-4d6a-e1db-e7da2483f00d",
        "colab": {
          "base_uri": "https://localhost:8080/"
        }
      },
      "outputs": [
        {
          "output_type": "execute_result",
          "data": {
            "text/plain": [
              "\\n,None,\\n         41751\n",
              "\\n,6 months,\\n     17683\n",
              "\\n,3 months,\\n      1767\n",
              "\\n,12 months,\\n     1467\n",
              "\\n,24 months,\\n     1142\n",
              "\\n,84 months,\\n      252\n",
              "\\n,1 months,\\n       232\n",
              "\\n,18 months,\\n       34\n",
              "\\n,36 months,\\n       15\n",
              "\\n,2 months,\\n         8\n",
              "\\n,48 months,\\n        7\n",
              "\\n,Yes,\\n              3\n",
              "\\n,60 months,\\n        2\n",
              "\\n,5 months,\\n         1\n",
              "\\n,26 months,\\n        1\n",
              "\\n,9 months,\\n         1\n",
              "\\n,10 months,\\n        1\n",
              "\\n,4 months,\\n         1\n",
              "Name: warranty, dtype: int64"
            ]
          },
          "metadata": {},
          "execution_count": 437
        }
      ],
      "source": [
        "df.warranty.value_counts()"
      ]
    },
    {
      "cell_type": "code",
      "source": [
        "df.warranty = df.warranty.replace('\\n,Yes,\\n','\\n,1 months,\\n')"
      ],
      "metadata": {
        "id": "pLdyTqQbST_0"
      },
      "execution_count": 438,
      "outputs": []
    },
    {
      "cell_type": "code",
      "execution_count": 439,
      "metadata": {
        "id": "RHQLjC22ffWq"
      },
      "outputs": [],
      "source": [
        "df.warranty = df.warranty.str.extract(',(\\d*) months')"
      ]
    },
    {
      "cell_type": "code",
      "execution_count": 440,
      "metadata": {
        "id": "YvKp7yTHffWq",
        "outputId": "7ace2650-ca32-4348-b067-67d7bc5bc53a",
        "colab": {
          "base_uri": "https://localhost:8080/"
        }
      },
      "outputs": [
        {
          "output_type": "execute_result",
          "data": {
            "text/plain": [
              "NaN    41751\n",
              "6      17683\n",
              "3       1767\n",
              "12      1467\n",
              "24      1142\n",
              "84       252\n",
              "1        235\n",
              "18        34\n",
              "36        15\n",
              "2          8\n",
              "48         7\n",
              "60         2\n",
              "26         1\n",
              "4          1\n",
              "10         1\n",
              "9          1\n",
              "5          1\n",
              "Name: warranty, dtype: int64"
            ]
          },
          "metadata": {},
          "execution_count": 440
        }
      ],
      "source": [
        "df.warranty.value_counts(dropna=False)"
      ]
    },
    {
      "cell_type": "code",
      "execution_count": 441,
      "metadata": {
        "id": "uF-sdos_ffWq",
        "outputId": "e0c26826-fdaa-40cd-f747-248e501634e0",
        "colab": {
          "base_uri": "https://localhost:8080/"
        }
      },
      "outputs": [
        {
          "output_type": "execute_result",
          "data": {
            "text/plain": [
              "64.86297539149888"
            ]
          },
          "metadata": {},
          "execution_count": 441
        }
      ],
      "source": [
        "perc_nans(df.warranty)"
      ]
    },
    {
      "cell_type": "markdown",
      "metadata": {
        "id": "yR7m76reffWr"
      },
      "source": [
        "## general_inspection"
      ]
    },
    {
      "cell_type": "code",
      "execution_count": 442,
      "metadata": {
        "id": "UWEHMGHDffWr",
        "outputId": "4f76258d-a794-494f-df61-e03b008baa8b",
        "colab": {
          "base_uri": "https://localhost:8080/"
        }
      },
      "outputs": [
        {
          "output_type": "execute_result",
          "data": {
            "text/plain": [
              "49214        NaN\n",
              "38247    07/2022\n",
              "56712        NaN\n",
              "35397        NaN\n",
              "22629    09/2022\n",
              "57890    08/2022\n",
              "34910    08/2024\n",
              "7684     01/2024\n",
              "60671        NaN\n",
              "15510    01/2025\n",
              "57750    03/2023\n",
              "323      10/2022\n",
              "47869        New\n",
              "55332        New\n",
              "54554        NaN\n",
              "51776    03/2022\n",
              "19266    09/2022\n",
              "24576    11/2022\n",
              "16044        New\n",
              "20059        New\n",
              "Name: general_inspection, dtype: object"
            ]
          },
          "metadata": {},
          "execution_count": 442
        }
      ],
      "source": [
        "df.general_inspection.sample(20)"
      ]
    },
    {
      "cell_type": "code",
      "execution_count": 443,
      "metadata": {
        "id": "-BxRtPXnffWr"
      },
      "outputs": [],
      "source": [
        "df.general_inspection = df.general_inspection.replace('New','01/2022')\n",
        "df.general_inspection = df.general_inspection.fillna('1/0')"
      ]
    },
    {
      "cell_type": "code",
      "source": [
        "df.general_inspection = df.general_inspection.str.split('/').apply(lambda x: (int(x[1]) - 2022) * 12 + int(x[0]) - 1)"
      ],
      "metadata": {
        "id": "Gj_A5NnJfSAF"
      },
      "execution_count": 444,
      "outputs": []
    },
    {
      "cell_type": "code",
      "source": [
        "df.general_inspection.value_counts(dropna=False).sort_index()"
      ],
      "metadata": {
        "colab": {
          "base_uri": "https://localhost:8080/"
        },
        "id": "RkRVGXz9hRdo",
        "outputId": "c2452bda-8f04-4cac-a5d4-2cde222b4c70"
      },
      "execution_count": 445,
      "outputs": [
        {
          "output_type": "execute_result",
          "data": {
            "text/plain": [
              "-24264    15462\n",
              "-62           2\n",
              "-61           1\n",
              "-52           1\n",
              "-50           1\n",
              "-49           1\n",
              "-48           1\n",
              "-40           1\n",
              "-39           1\n",
              "-35           1\n",
              "-34           1\n",
              "-33           2\n",
              "-31           2\n",
              "-30           2\n",
              "-28           1\n",
              "-26           1\n",
              "-25           1\n",
              "-24           1\n",
              "-23           1\n",
              "-22           2\n",
              "-19           4\n",
              "-18           6\n",
              "-17           1\n",
              "-16           3\n",
              "-15           4\n",
              "-14           2\n",
              "-13           7\n",
              "-12           8\n",
              "-11           3\n",
              "-10          11\n",
              "-9           12\n",
              "-8           10\n",
              "-7           11\n",
              "-6           29\n",
              "-5           26\n",
              "-4           46\n",
              "-3           57\n",
              "-2          102\n",
              "-1          132\n",
              " 0        16833\n",
              " 1         1567\n",
              " 2         2006\n",
              " 3         1708\n",
              " 4         1890\n",
              " 5         2169\n",
              " 6         1916\n",
              " 7         1604\n",
              " 8         1746\n",
              " 9         1794\n",
              " 10        1826\n",
              " 11        1508\n",
              " 12         822\n",
              " 13         490\n",
              " 14         496\n",
              " 15         482\n",
              " 16         517\n",
              " 17         530\n",
              " 18         501\n",
              " 19         420\n",
              " 20         392\n",
              " 21         432\n",
              " 22         471\n",
              " 23         360\n",
              " 24         276\n",
              " 25         222\n",
              " 26         149\n",
              " 27          79\n",
              " 28         125\n",
              " 29         212\n",
              " 30         289\n",
              " 31         198\n",
              " 32         295\n",
              " 33         260\n",
              " 34         210\n",
              " 35         414\n",
              " 36         273\n",
              " 37         290\n",
              " 38         395\n",
              " 39         288\n",
              " 40         286\n",
              " 41         383\n",
              " 42         248\n",
              " 43         193\n",
              " 44         244\n",
              " 45         248\n",
              " 46         243\n",
              " 47          83\n",
              " 48           4\n",
              " 49           3\n",
              " 50           1\n",
              " 51           3\n",
              " 52           6\n",
              " 53           6\n",
              " 54           1\n",
              " 58           1\n",
              "Name: general_inspection, dtype: int64"
            ]
          },
          "metadata": {},
          "execution_count": 445
        }
      ]
    },
    {
      "cell_type": "code",
      "source": [
        "df.general_inspection = df['general_inspection'].where(df.general_inspection>=0)"
      ],
      "metadata": {
        "id": "8bbSZdkQhRhg"
      },
      "execution_count": 446,
      "outputs": []
    },
    {
      "cell_type": "code",
      "source": [
        "df.general_inspection.value_counts(dropna=False).sort_index()"
      ],
      "metadata": {
        "colab": {
          "base_uri": "https://localhost:8080/"
        },
        "id": "1q-0uD_wttrC",
        "outputId": "3dd03b14-a183-429e-9606-0156eb6f6c5f"
      },
      "execution_count": 449,
      "outputs": [
        {
          "output_type": "execute_result",
          "data": {
            "text/plain": [
              "0.0     16833\n",
              "1.0      1567\n",
              "2.0      2006\n",
              "3.0      1708\n",
              "4.0      1890\n",
              "5.0      2169\n",
              "6.0      1916\n",
              "7.0      1604\n",
              "8.0      1746\n",
              "9.0      1794\n",
              "10.0     1826\n",
              "11.0     1508\n",
              "12.0      822\n",
              "13.0      490\n",
              "14.0      496\n",
              "15.0      482\n",
              "16.0      517\n",
              "17.0      530\n",
              "18.0      501\n",
              "19.0      420\n",
              "20.0      392\n",
              "21.0      432\n",
              "22.0      471\n",
              "23.0      360\n",
              "24.0      276\n",
              "25.0      222\n",
              "26.0      149\n",
              "27.0       79\n",
              "28.0      125\n",
              "29.0      212\n",
              "30.0      289\n",
              "31.0      198\n",
              "32.0      295\n",
              "33.0      260\n",
              "34.0      210\n",
              "35.0      414\n",
              "36.0      273\n",
              "37.0      290\n",
              "38.0      395\n",
              "39.0      288\n",
              "40.0      286\n",
              "41.0      383\n",
              "42.0      248\n",
              "43.0      193\n",
              "44.0      244\n",
              "45.0      248\n",
              "46.0      243\n",
              "47.0       83\n",
              "48.0        4\n",
              "49.0        3\n",
              "50.0        1\n",
              "51.0        3\n",
              "52.0        6\n",
              "53.0        6\n",
              "54.0        1\n",
              "58.0        1\n",
              "NaN     15960\n",
              "Name: general_inspection, dtype: int64"
            ]
          },
          "metadata": {},
          "execution_count": 449
        }
      ]
    },
    {
      "cell_type": "markdown",
      "metadata": {
        "id": "qxBFivksffWr"
      },
      "source": [
        "## full_service_history"
      ]
    },
    {
      "cell_type": "code",
      "execution_count": 450,
      "metadata": {
        "id": "7Gjwr8IOffWs",
        "outputId": "7b72d653-0d6a-4964-f0e4-6e0e3b29c50a",
        "colab": {
          "base_uri": "https://localhost:8080/"
        }
      },
      "outputs": [
        {
          "output_type": "execute_result",
          "data": {
            "text/plain": [
              "35494     \\n,Yes,\\n\n",
              "26999     \\n,Yes,\\n\n",
              "31081     \\n,Yes,\\n\n",
              "11185    \\n,None,\\n\n",
              "14265     \\n,Yes,\\n\n",
              "65336    \\n,None,\\n\n",
              "37103     \\n,Yes,\\n\n",
              "27128     \\n,Yes,\\n\n",
              "18500    \\n,None,\\n\n",
              "62083     \\n,Yes,\\n\n",
              "15121     \\n,Yes,\\n\n",
              "39766    \\n,None,\\n\n",
              "6585      \\n,Yes,\\n\n",
              "55161     \\n,Yes,\\n\n",
              "11992    \\n,None,\\n\n",
              "24705     \\n,Yes,\\n\n",
              "28821     \\n,Yes,\\n\n",
              "37192     \\n,Yes,\\n\n",
              "10334     \\n,Yes,\\n\n",
              "55792    \\n,None,\\n\n",
              "Name: full_service_history, dtype: object"
            ]
          },
          "metadata": {},
          "execution_count": 450
        }
      ],
      "source": [
        "df.full_service_history.sample(20)"
      ]
    },
    {
      "cell_type": "code",
      "execution_count": 451,
      "metadata": {
        "id": "YYehECJpffWs"
      },
      "outputs": [],
      "source": [
        "df.full_service_history = df.full_service_history.str.extract(',(\\w*),')"
      ]
    },
    {
      "cell_type": "code",
      "source": [
        "df.full_service_history.value_counts(dropna=False)"
      ],
      "metadata": {
        "colab": {
          "base_uri": "https://localhost:8080/"
        },
        "id": "Qo1GHQUUw63c",
        "outputId": "e63d1a52-df56-4ecc-b83b-2c3d023feec8"
      },
      "execution_count": 452,
      "outputs": [
        {
          "output_type": "execute_result",
          "data": {
            "text/plain": [
              "Yes     44955\n",
              "None    19413\n",
              "Name: full_service_history, dtype: int64"
            ]
          },
          "metadata": {},
          "execution_count": 452
        }
      ]
    },
    {
      "cell_type": "markdown",
      "metadata": {
        "id": "Fbzdt86lffWt"
      },
      "source": [
        "## non_smoker_vehicle"
      ]
    },
    {
      "cell_type": "code",
      "execution_count": 453,
      "metadata": {
        "id": "YCh7q9r2ffWt",
        "outputId": "43f780c6-d70b-496b-9432-6024ba46d459",
        "colab": {
          "base_uri": "https://localhost:8080/"
        }
      },
      "outputs": [
        {
          "output_type": "execute_result",
          "data": {
            "text/plain": [
              "0        \\n,None,\\n\n",
              "1        \\n,None,\\n\n",
              "2        \\n,None,\\n\n",
              "3        \\n,None,\\n\n",
              "4        \\n,None,\\n\n",
              "            ...    \n",
              "65836    \\n,None,\\n\n",
              "65837    \\n,None,\\n\n",
              "65838    \\n,None,\\n\n",
              "65839    \\n,None,\\n\n",
              "65840    \\n,None,\\n\n",
              "Name: non_smoker_vehicle, Length: 64368, dtype: object"
            ]
          },
          "metadata": {},
          "execution_count": 453
        }
      ],
      "source": [
        "df.non_smoker_vehicle"
      ]
    },
    {
      "cell_type": "code",
      "execution_count": 454,
      "metadata": {
        "id": "AswCbTMgffWt"
      },
      "outputs": [],
      "source": [
        "df.non_smoker_vehicle = df.non_smoker_vehicle.str.extract(',(\\w*),')"
      ]
    },
    {
      "cell_type": "code",
      "execution_count": 455,
      "metadata": {
        "id": "Zw_u2Y26ffWt",
        "outputId": "127642d8-4345-4928-d0f0-747d1c8458c2",
        "colab": {
          "base_uri": "https://localhost:8080/"
        }
      },
      "outputs": [
        {
          "output_type": "execute_result",
          "data": {
            "text/plain": [
              "None    59393\n",
              "Yes      4975\n",
              "Name: non_smoker_vehicle, dtype: int64"
            ]
          },
          "metadata": {},
          "execution_count": 455
        }
      ],
      "source": [
        "df.non_smoker_vehicle.value_counts(dropna=False)"
      ]
    },
    {
      "cell_type": "markdown",
      "metadata": {
        "id": "9uIzR1HSffWt"
      },
      "source": [
        "## engine_size"
      ]
    },
    {
      "cell_type": "code",
      "source": [
        "df.engine_size"
      ],
      "metadata": {
        "colab": {
          "base_uri": "https://localhost:8080/"
        },
        "id": "Gjoxa7B7xtZG",
        "outputId": "d1680b26-c83d-4169-d4a0-aee4552cb403"
      },
      "execution_count": 456,
      "outputs": [
        {
          "output_type": "execute_result",
          "data": {
            "text/plain": [
              "0        \\n,1,390 cc,\\n\n",
              "1          \\n,999 cc,\\n\n",
              "2        \\n,1,395 cc,\\n\n",
              "3        \\n,2,995 cc,\\n\n",
              "4        \\n,1,984 cc,\\n\n",
              "              ...      \n",
              "65836    \\n,2,435 cc,\\n\n",
              "65837    \\n,2,435 cc,\\n\n",
              "65838    \\n,1,999 cc,\\n\n",
              "65839    \\n,2,435 cc,\\n\n",
              "65840    \\n,2,435 cc,\\n\n",
              "Name: engine_size, Length: 64368, dtype: object"
            ]
          },
          "metadata": {},
          "execution_count": 456
        }
      ]
    },
    {
      "cell_type": "code",
      "execution_count": 457,
      "metadata": {
        "id": "Lk09TkGrffWt"
      },
      "outputs": [],
      "source": [
        "df.engine_size = df.engine_size.str.extract('(\\d,\\d*)')"
      ]
    },
    {
      "cell_type": "code",
      "execution_count": 458,
      "metadata": {
        "id": "1vi2M1myffWt"
      },
      "outputs": [],
      "source": [
        "df.engine_size = df.engine_size.str.replace(',','').astype('float')"
      ]
    },
    {
      "cell_type": "code",
      "source": [
        "df.engine_size.value_counts(dropna=False)"
      ],
      "metadata": {
        "colab": {
          "base_uri": "https://localhost:8080/"
        },
        "id": "Z2VATD7H06IV",
        "outputId": "f53d779e-38c1-422f-f434-794b2b9a20f9"
      },
      "execution_count": 459,
      "outputs": [
        {
          "output_type": "execute_result",
          "data": {
            "text/plain": [
              "NaN       10540\n",
              "1598.0     5207\n",
              "1998.0     2858\n",
              "1395.0     2424\n",
              "1969.0     2281\n",
              "          ...  \n",
              "2902.0        1\n",
              "3190.0        1\n",
              "2990.0        1\n",
              "2264.0        1\n",
              "3724.0        1\n",
              "Name: engine_size, Length: 372, dtype: int64"
            ]
          },
          "metadata": {},
          "execution_count": 459
        }
      ]
    },
    {
      "cell_type": "code",
      "source": [
        "df = df.rename(columns={\"engine_size\": \"engine_size_cc\"})"
      ],
      "metadata": {
        "id": "YiJ7DdTD1DQM"
      },
      "execution_count": 460,
      "outputs": []
    },
    {
      "cell_type": "markdown",
      "metadata": {
        "id": "Ov1NFK5CffWt"
      },
      "source": [
        "## gears"
      ]
    },
    {
      "cell_type": "code",
      "source": [
        "df.gears"
      ],
      "metadata": {
        "colab": {
          "base_uri": "https://localhost:8080/"
        },
        "id": "KgsnlVQm1uUc",
        "outputId": "80b7ed46-ff2c-4e5f-d45a-43ed5b7e930c"
      },
      "execution_count": 461,
      "outputs": [
        {
          "output_type": "execute_result",
          "data": {
            "text/plain": [
              "0           \\n,7,\\n\n",
              "1        \\n,None,\\n\n",
              "2           \\n,8,\\n\n",
              "3        \\n,None,\\n\n",
              "4           \\n,6,\\n\n",
              "            ...    \n",
              "65836       \\n,5,\\n\n",
              "65837       \\n,5,\\n\n",
              "65838       \\n,5,\\n\n",
              "65839       \\n,5,\\n\n",
              "65840       \\n,5,\\n\n",
              "Name: gears, Length: 64368, dtype: object"
            ]
          },
          "metadata": {},
          "execution_count": 461
        }
      ]
    },
    {
      "cell_type": "code",
      "execution_count": 462,
      "metadata": {
        "id": "FuYy1enuffWu"
      },
      "outputs": [],
      "source": [
        "df.gears = df.gears.str.extract(',(\\d),')"
      ]
    },
    {
      "cell_type": "code",
      "execution_count": 463,
      "metadata": {
        "id": "B0je26fpffWu",
        "outputId": "8ec73482-b88f-4a9c-f100-7b4866bdabba",
        "colab": {
          "base_uri": "https://localhost:8080/"
        }
      },
      "outputs": [
        {
          "output_type": "execute_result",
          "data": {
            "text/plain": [
              "6      19791\n",
              "NaN    18234\n",
              "5       9747\n",
              "7       7689\n",
              "8       5649\n",
              "1       1610\n",
              "9       1098\n",
              "4        511\n",
              "2         35\n",
              "3          4\n",
              "Name: gears, dtype: int64"
            ]
          },
          "metadata": {},
          "execution_count": 463
        }
      ],
      "source": [
        "df.gears.value_counts(dropna=False)"
      ]
    },
    {
      "cell_type": "markdown",
      "metadata": {
        "id": "BVMNB1i4ffWv"
      },
      "source": [
        "## cylinders"
      ]
    },
    {
      "cell_type": "code",
      "execution_count": 464,
      "metadata": {
        "id": "VI-PsFGrffWv",
        "outputId": "32f44087-a0ad-42fe-c422-ace2f3a376f6",
        "colab": {
          "base_uri": "https://localhost:8080/"
        }
      },
      "outputs": [
        {
          "output_type": "execute_result",
          "data": {
            "text/plain": [
              "0           \\n,4,\\n\n",
              "1        \\n,None,\\n\n",
              "2           \\n,4,\\n\n",
              "3           \\n,6,\\n\n",
              "4           \\n,4,\\n\n",
              "            ...    \n",
              "65836       \\n,5,\\n\n",
              "65837       \\n,5,\\n\n",
              "65838       \\n,4,\\n\n",
              "65839       \\n,5,\\n\n",
              "65840       \\n,5,\\n\n",
              "Name: cylinders, Length: 64368, dtype: object"
            ]
          },
          "metadata": {},
          "execution_count": 464
        }
      ],
      "source": [
        " df.cylinders"
      ]
    },
    {
      "cell_type": "code",
      "execution_count": 465,
      "metadata": {
        "id": "BYYo-As3ffWv"
      },
      "outputs": [],
      "source": [
        "df.cylinders = df.cylinders.str.extract(',(\\d),')"
      ]
    },
    {
      "cell_type": "code",
      "execution_count": 466,
      "metadata": {
        "id": "2HxO2FizffWw",
        "outputId": "9756e6fd-d20f-4323-973e-98579c7d2eff",
        "colab": {
          "base_uri": "https://localhost:8080/"
        }
      },
      "outputs": [
        {
          "output_type": "execute_result",
          "data": {
            "text/plain": [
              "4      43525\n",
              "3       7986\n",
              "NaN     5979\n",
              "6       4049\n",
              "5       1089\n",
              "8        866\n",
              "1        445\n",
              "2        428\n",
              "7          1\n",
              "Name: cylinders, dtype: int64"
            ]
          },
          "metadata": {},
          "execution_count": 466
        }
      ],
      "source": [
        "df.cylinders.value_counts(dropna=False)"
      ]
    },
    {
      "cell_type": "markdown",
      "metadata": {
        "id": "1pJV0XryffWw"
      },
      "source": [
        "## empty_weight"
      ]
    },
    {
      "cell_type": "code",
      "execution_count": 467,
      "metadata": {
        "id": "jSsBmw7qffWw",
        "outputId": "5027a994-e966-4219-bb3c-15465c50c814",
        "colab": {
          "base_uri": "https://localhost:8080/"
        }
      },
      "outputs": [
        {
          "output_type": "execute_result",
          "data": {
            "text/plain": [
              "0        \\n,1,100 kg,\\n\n",
              "1        \\n,1,175 kg,\\n\n",
              "2        \\n,1,210 kg,\\n\n",
              "3        \\n,1,745 kg,\\n\n",
              "4            \\n,None,\\n\n",
              "              ...      \n",
              "65836    \\n,1,496 kg,\\n\n",
              "65837    \\n,1,475 kg,\\n\n",
              "65838    \\n,1,260 kg,\\n\n",
              "65839    \\n,1,441 kg,\\n\n",
              "65840    \\n,1,489 kg,\\n\n",
              "Name: empty_weight, Length: 64368, dtype: object"
            ]
          },
          "metadata": {},
          "execution_count": 467
        }
      ],
      "source": [
        "df.empty_weight"
      ]
    },
    {
      "cell_type": "code",
      "execution_count": 468,
      "metadata": {
        "id": "o6aP0lkAffWw"
      },
      "outputs": [],
      "source": [
        "df.empty_weight =df.empty_weight.str.extract('(\\d,\\d*)')"
      ]
    },
    {
      "cell_type": "code",
      "execution_count": 469,
      "metadata": {
        "id": "gyjmd05m3azx"
      },
      "outputs": [],
      "source": [
        "df.empty_weight = df.empty_weight.str.replace(',','').astype('float')"
      ]
    },
    {
      "cell_type": "code",
      "execution_count": 470,
      "metadata": {
        "id": "sYTiOcAoffWw",
        "outputId": "58167432-ebd9-4f41-ae64-a88e8348dee2",
        "colab": {
          "base_uri": "https://localhost:8080/"
        }
      },
      "outputs": [
        {
          "output_type": "execute_result",
          "data": {
            "text/plain": [
              "NaN       4611\n",
              "1295.0    1509\n",
              "1405.0    1327\n",
              "1635.0     905\n",
              "1515.0     713\n",
              "          ... \n",
              "2602.0       1\n",
              "1981.0       1\n",
              "1796.0       1\n",
              "2810.0       1\n",
              "2394.0       1\n",
              "Name: empty_weight, Length: 1339, dtype: int64"
            ]
          },
          "metadata": {},
          "execution_count": 470
        }
      ],
      "source": [
        "df.empty_weight.value_counts(dropna=False)"
      ]
    },
    {
      "cell_type": "code",
      "source": [
        "df = df.rename(columns={\"empty_weight\": \"empty_weight_kg\"})"
      ],
      "metadata": {
        "id": "94fnLGU93tVL"
      },
      "execution_count": 471,
      "outputs": []
    },
    {
      "cell_type": "markdown",
      "metadata": {
        "id": "2pl6kldFffWx"
      },
      "source": [
        "## fuel_consumption"
      ]
    },
    {
      "cell_type": "code",
      "execution_count": 472,
      "metadata": {
        "id": "hw7IbcYbffWx",
        "outputId": "4ce7c658-6465-4426-880a-f8d9216ba1ea",
        "colab": {
          "base_uri": "https://localhost:8080/"
        }
      },
      "outputs": [
        {
          "output_type": "execute_result",
          "data": {
            "text/plain": [
              "0        ['\\n', ['5.3 l/100 km (comb.)', '6.5 l/100 km ...\n",
              "1                                               \\n,None,\\n\n",
              "2        ['\\n', ['4.6 l/100 km (comb.)', '5.7 l/100 km ...\n",
              "3        ['\\n', ['8.2 l/100 km (comb.)', '10.8 l/100 km...\n",
              "4         ['\\n', ['7.7 l/100 km (comb.)', ' ', ' '], '\\n']\n",
              "                               ...                        \n",
              "65836    ['\\n', ['9.5 l/100 km (comb.)', '13.6 l/100 km...\n",
              "65837    ['\\n', ['9.5 l/100 km (comb.)', '13.8 l/100 km...\n",
              "65838    ['\\n', ['10.6 l/100 km (comb.)', '14.8 l/100 k...\n",
              "65839                                           \\n,None,\\n\n",
              "65840    ['\\n', ['8.9 l/100 km (comb.)', '12.7 l/100 km...\n",
              "Name: fuel_consumption, Length: 64368, dtype: object"
            ]
          },
          "metadata": {},
          "execution_count": 472
        }
      ],
      "source": [
        "df.fuel_consumption"
      ]
    },
    {
      "cell_type": "code",
      "source": [
        "df.fuel_consumption[0]"
      ],
      "metadata": {
        "colab": {
          "base_uri": "https://localhost:8080/",
          "height": 35
        },
        "id": "_y967zoH4C9G",
        "outputId": "11eef8cc-c225-4cf6-cb40-5cc1ad394def"
      },
      "execution_count": 473,
      "outputs": [
        {
          "output_type": "execute_result",
          "data": {
            "application/vnd.google.colaboratory.intrinsic+json": {
              "type": "string"
            },
            "text/plain": [
              "\"['\\\\n', ['5.3 l/100 km (comb.)', '6.5 l/100 km (city)', '4.6 l/100 km (country)'], '\\\\n']\""
            ]
          },
          "metadata": {},
          "execution_count": 473
        }
      ]
    },
    {
      "cell_type": "code",
      "source": [
        "df['fuel_consumption_mean'] = df.fuel_consumption.str.extract('(\\d*\\.\\d*) l\\/100 km \\(comb').astype('float')"
      ],
      "metadata": {
        "id": "U2fW9KWL4DAy"
      },
      "execution_count": 474,
      "outputs": []
    },
    {
      "cell_type": "code",
      "source": [
        "df['fuel_consumption_city'] = df.fuel_consumption.str.extract('(\\d*\\.\\d*) l\\/100 km \\(city').astype('float')"
      ],
      "metadata": {
        "id": "UAmvmMxb4DEi"
      },
      "execution_count": 475,
      "outputs": []
    },
    {
      "cell_type": "code",
      "source": [
        "df['fuel_consumption_country'] = df.fuel_consumption.str.extract('(\\d*\\.\\d*) l\\/100 km \\(country').astype('float')"
      ],
      "metadata": {
        "id": "AISvLRAb6SpU"
      },
      "execution_count": 476,
      "outputs": []
    },
    {
      "cell_type": "code",
      "execution_count": 477,
      "metadata": {
        "id": "1G6EuaTaffWy"
      },
      "outputs": [],
      "source": [
        "df = df.drop(['fuel_consumption'], axis=1)"
      ]
    },
    {
      "cell_type": "markdown",
      "metadata": {
        "id": "xOpLstxYffWy"
      },
      "source": [
        "## co2_emissions"
      ]
    },
    {
      "cell_type": "code",
      "execution_count": 478,
      "metadata": {
        "id": "lTgvkcYHffWy",
        "outputId": "550741c2-b143-4146-ed21-08ca82aa1a82",
        "colab": {
          "base_uri": "https://localhost:8080/"
        }
      },
      "outputs": [
        {
          "output_type": "execute_result",
          "data": {
            "text/plain": [
              "0               \\n,122 g/km (comb.),\\n\n",
              "1        ['\\n', [' ', ' ', ' '], '\\n']\n",
              "2               \\n,106 g/km (comb.),\\n\n",
              "3               \\n,190 g/km (comb.),\\n\n",
              "4                           \\n,None,\\n\n",
              "                     ...              \n",
              "65836           \\n,226 g/km (comb.),\\n\n",
              "65837           \\n,227 g/km (comb.),\\n\n",
              "65838           \\n,174 g/km (comb.),\\n\n",
              "65839    ['\\n', [' ', ' ', ' '], '\\n']\n",
              "65840           \\n,159 g/km (comb.),\\n\n",
              "Name: co2_emissions, Length: 64368, dtype: object"
            ]
          },
          "metadata": {},
          "execution_count": 478
        }
      ],
      "source": [
        "df.co2_emissions"
      ]
    },
    {
      "cell_type": "code",
      "execution_count": 479,
      "metadata": {
        "id": "2XkrN1ycffWy"
      },
      "outputs": [],
      "source": [
        "df.co2_emissions= df.co2_emissions.str.extract(',(\\d*)')"
      ]
    },
    {
      "cell_type": "code",
      "execution_count": 480,
      "metadata": {
        "id": "8MGOJ1TGffWy",
        "outputId": "3f131f7b-2a5e-488a-b20b-df3d73b664f9",
        "colab": {
          "base_uri": "https://localhost:8080/"
        }
      },
      "outputs": [
        {
          "output_type": "execute_result",
          "data": {
            "text/plain": [
              "       16625\n",
              "0       5561\n",
              "139     1147\n",
              "119      954\n",
              "149      881\n",
              "       ...  \n",
              "316        1\n",
              "67         1\n",
              "330        1\n",
              "70         1\n",
              "301        1\n",
              "Name: co2_emissions, Length: 333, dtype: int64"
            ]
          },
          "metadata": {},
          "execution_count": 480
        }
      ],
      "source": [
        "df.co2_emissions.value_counts(dropna=False)"
      ]
    },
    {
      "cell_type": "code",
      "source": [
        ""
      ],
      "metadata": {
        "id": "JXo4Z01vOasz"
      },
      "execution_count": 480,
      "outputs": []
    },
    {
      "cell_type": "code",
      "source": [
        "df.loc[df[df.co2_emissions==''].index,'co2_emissions']=np.nan"
      ],
      "metadata": {
        "id": "EHBU3UjO7jFn"
      },
      "execution_count": 481,
      "outputs": []
    },
    {
      "cell_type": "markdown",
      "metadata": {
        "id": "5u7VChzxffWy"
      },
      "source": [
        "## emission_class"
      ]
    },
    {
      "cell_type": "code",
      "execution_count": 482,
      "metadata": {
        "id": "bZg92oMHffWy",
        "outputId": "28a47751-b728-445e-95b4-63a09f4d08a5",
        "colab": {
          "base_uri": "https://localhost:8080/"
        }
      },
      "outputs": [
        {
          "output_type": "execute_result",
          "data": {
            "text/plain": [
              "0        \\n,Euro 5,\\n\n",
              "1        \\n,Euro 6,\\n\n",
              "2        \\n,Euro 6,\\n\n",
              "3        \\n,Euro 5,\\n\n",
              "4          \\n,None,\\n\n",
              "             ...     \n",
              "65836    \\n,Euro 4,\\n\n",
              "65837    \\n,Euro 4,\\n\n",
              "65838    \\n,Euro 5,\\n\n",
              "65839      \\n,None,\\n\n",
              "65840      \\n,None,\\n\n",
              "Name: emission_class, Length: 64368, dtype: object"
            ]
          },
          "metadata": {},
          "execution_count": 482
        }
      ],
      "source": [
        "df.emission_class"
      ]
    },
    {
      "cell_type": "code",
      "source": [
        "df.emission_class = df.emission_class.str.extract(',(\\w+\\s*\\d*)')"
      ],
      "metadata": {
        "id": "4BVIhkRv-F40"
      },
      "execution_count": 483,
      "outputs": []
    },
    {
      "cell_type": "code",
      "execution_count": 484,
      "metadata": {
        "id": "pMCNKoIMffWz",
        "outputId": "03ac8945-f2fb-4277-a3c6-8ae326b160dc",
        "colab": {
          "base_uri": "https://localhost:8080/"
        }
      },
      "outputs": [
        {
          "output_type": "execute_result",
          "data": {
            "text/plain": [
              "None      22271\n",
              "Euro 6    21922\n",
              "Euro 5    11730\n",
              "Euro 4     7038\n",
              "NaN         532\n",
              "Euro 1      475\n",
              "Euro 3      391\n",
              "Euro 2        9\n",
              "Name: emission_class, dtype: int64"
            ]
          },
          "metadata": {},
          "execution_count": 484
        }
      ],
      "source": [
        "df.emission_class.value_counts(dropna=False)"
      ]
    },
    {
      "cell_type": "markdown",
      "metadata": {
        "id": "urvOjL8IffWz"
      },
      "source": [
        "## comfort_convenience"
      ]
    },
    {
      "cell_type": "code",
      "execution_count": 485,
      "metadata": {
        "id": "9cZL3wlpffWz",
        "outputId": "f84fd675-a6f1-4aea-e018-07a88353622d",
        "colab": {
          "base_uri": "https://localhost:8080/"
        }
      },
      "outputs": [
        {
          "output_type": "execute_result",
          "data": {
            "text/plain": [
              "0        [['Air conditioning', 'Armrest', 'Automatic cl...\n",
              "1        [['Air conditioning', 'Armrest', 'Cruise contr...\n",
              "2        [['Air conditioning', 'Armrest', 'Automatic cl...\n",
              "3        [['Air conditioning', 'Automatic climate contr...\n",
              "4        [['Air conditioning', 'Armrest', 'Automatic cl...\n",
              "                               ...                        \n",
              "65836    [['Air conditioning', 'Automatic climate contr...\n",
              "65837    [['Air conditioning', 'Automatic climate contr...\n",
              "65838    [['Air conditioning', 'Armrest', 'Automatic cl...\n",
              "65839    [['Air conditioning', 'Automatic climate contr...\n",
              "65840    [['Air conditioning', 'Automatic climate contr...\n",
              "Name: comfort_convenience, Length: 64368, dtype: object"
            ]
          },
          "metadata": {},
          "execution_count": 485
        }
      ],
      "source": [
        "df.comfort_convenience"
      ]
    },
    {
      "cell_type": "code",
      "execution_count": 486,
      "metadata": {
        "id": "f8ryHNkbffWz"
      },
      "outputs": [],
      "source": [
        "df.comfort_convenience = df.comfort_convenience.str.strip(\"[']\").str.split(\"', '\")"
      ]
    },
    {
      "cell_type": "code",
      "source": [
        "df.comfort_convenience"
      ],
      "metadata": {
        "colab": {
          "base_uri": "https://localhost:8080/"
        },
        "id": "BnJL_QgjA85w",
        "outputId": "e4ae6557-8fe8-40b8-f129-e8d1220ffc77"
      },
      "execution_count": 487,
      "outputs": [
        {
          "output_type": "execute_result",
          "data": {
            "text/plain": [
              "0        [Air conditioning, Armrest, Automatic climate ...\n",
              "1        [Air conditioning, Armrest, Cruise control, El...\n",
              "2        [Air conditioning, Armrest, Automatic climate ...\n",
              "3        [Air conditioning, Automatic climate control, ...\n",
              "4        [Air conditioning, Armrest, Automatic climate ...\n",
              "                               ...                        \n",
              "65836    [Air conditioning, Automatic climate control, ...\n",
              "65837    [Air conditioning, Automatic climate control, ...\n",
              "65838    [Air conditioning, Armrest, Automatic climate ...\n",
              "65839    [Air conditioning, Automatic climate control, ...\n",
              "65840    [Air conditioning, Automatic climate control, ...\n",
              "Name: comfort_convenience, Length: 64368, dtype: object"
            ]
          },
          "metadata": {},
          "execution_count": 487
        }
      ]
    },
    {
      "cell_type": "markdown",
      "metadata": {
        "id": "Tdm_WenIffWz"
      },
      "source": [
        "## entertainment_media"
      ]
    },
    {
      "cell_type": "code",
      "execution_count": 488,
      "metadata": {
        "id": "NVocVl6effW0",
        "outputId": "79be2245-84b6-4846-837c-2c0b62b65caa",
        "colab": {
          "base_uri": "https://localhost:8080/"
        }
      },
      "outputs": [
        {
          "output_type": "execute_result",
          "data": {
            "text/plain": [
              "0        [['CD player', 'Digital radio', 'MP3', 'On-boa...\n",
              "1            [['CD player', 'On-board computer', 'Radio']]\n",
              "2        [['Bluetooth', 'Digital cockpit', 'Hands-free ...\n",
              "3                                              [['Radio']]\n",
              "4                                 [['CD player', 'Radio']]\n",
              "                               ...                        \n",
              "65836                              [['On-board computer']]\n",
              "65837                     [['On-board computer', 'Radio']]\n",
              "65838        [['CD player', 'On-board computer', 'Radio']]\n",
              "65839        [['CD player', 'On-board computer', 'Radio']]\n",
              "65840                                          [['Radio']]\n",
              "Name: entertainment_media, Length: 64368, dtype: object"
            ]
          },
          "metadata": {},
          "execution_count": 488
        }
      ],
      "source": [
        "df.entertainment_media"
      ]
    },
    {
      "cell_type": "code",
      "execution_count": 489,
      "metadata": {
        "id": "vvFiH74DffW0"
      },
      "outputs": [],
      "source": [
        "df.entertainment_media = df.entertainment_media.str.strip(\"[']\").str.split(\"', '\")"
      ]
    },
    {
      "cell_type": "code",
      "execution_count": 490,
      "metadata": {
        "id": "yi9xKnMZffW0",
        "outputId": "151137e9-5c5b-4703-e4b2-a704a6e2c2d8",
        "colab": {
          "base_uri": "https://localhost:8080/"
        }
      },
      "outputs": [
        {
          "output_type": "execute_result",
          "data": {
            "text/plain": [
              "0        [CD player, Digital radio, MP3, On-board compu...\n",
              "1                    [CD player, On-board computer, Radio]\n",
              "2        [Bluetooth, Digital cockpit, Hands-free equipm...\n",
              "3                                                  [Radio]\n",
              "4                                       [CD player, Radio]\n",
              "                               ...                        \n",
              "65836                                  [On-board computer]\n",
              "65837                           [On-board computer, Radio]\n",
              "65838                [CD player, On-board computer, Radio]\n",
              "65839                [CD player, On-board computer, Radio]\n",
              "65840                                              [Radio]\n",
              "Name: entertainment_media, Length: 64368, dtype: object"
            ]
          },
          "metadata": {},
          "execution_count": 490
        }
      ],
      "source": [
        "df.entertainment_media"
      ]
    },
    {
      "cell_type": "markdown",
      "metadata": {
        "id": "fHjT3PxTffW1"
      },
      "source": [
        "## safety_security"
      ]
    },
    {
      "cell_type": "code",
      "execution_count": 491,
      "metadata": {
        "id": "JXEgeh1SffW2",
        "outputId": "e552087a-a39f-48d0-81db-bed7bb0dc2d7",
        "colab": {
          "base_uri": "https://localhost:8080/"
        }
      },
      "outputs": [
        {
          "output_type": "execute_result",
          "data": {
            "text/plain": [
              "0        [['ABS', 'Alarm system', 'Bi-Xenon headlights'...\n",
              "1        [['ABS', 'Central door lock', 'Central door lo...\n",
              "2        [['ABS', 'Central door lock', 'Central door lo...\n",
              "3        [['ABS', 'Alarm system', 'Bi-Xenon headlights'...\n",
              "4        [['ABS', 'Central door lock', 'Central door lo...\n",
              "                               ...                        \n",
              "65836    [['ABS', 'Central door lock', 'Central door lo...\n",
              "65837    [['ABS', 'Alarm system', 'Bi-Xenon headlights'...\n",
              "65838    [['ABS', 'Alarm system', 'Central door lock', ...\n",
              "65839    [['ABS', 'Central door lock', 'Central door lo...\n",
              "65840    [['ABS', 'Alarm system', 'Central door lock', ...\n",
              "Name: safety_security, Length: 64368, dtype: object"
            ]
          },
          "metadata": {},
          "execution_count": 491
        }
      ],
      "source": [
        "df.safety_security"
      ]
    },
    {
      "cell_type": "code",
      "execution_count": 492,
      "metadata": {
        "id": "TB9PZLIMffW2"
      },
      "outputs": [],
      "source": [
        "df.safety_security = df.safety_security.str.strip(\"[']\").str.split(\"', '\")"
      ]
    },
    {
      "cell_type": "code",
      "execution_count": 493,
      "metadata": {
        "id": "NtmjlxciffW2",
        "colab": {
          "base_uri": "https://localhost:8080/"
        },
        "outputId": "7a62933d-d6ca-4fd2-b712-f06a221d141d"
      },
      "outputs": [
        {
          "output_type": "execute_result",
          "data": {
            "text/plain": [
              "0        [ABS, Alarm system, Bi-Xenon headlights, Centr...\n",
              "1        [ABS, Central door lock, Central door lock wit...\n",
              "2        [ABS, Central door lock, Central door lock wit...\n",
              "3        [ABS, Alarm system, Bi-Xenon headlights, Centr...\n",
              "4        [ABS, Central door lock, Central door lock wit...\n",
              "                               ...                        \n",
              "65836    [ABS, Central door lock, Central door lock wit...\n",
              "65837    [ABS, Alarm system, Bi-Xenon headlights, Centr...\n",
              "65838    [ABS, Alarm system, Central door lock, Central...\n",
              "65839    [ABS, Central door lock, Central door lock wit...\n",
              "65840    [ABS, Alarm system, Central door lock, Central...\n",
              "Name: safety_security, Length: 64368, dtype: object"
            ]
          },
          "metadata": {},
          "execution_count": 493
        }
      ],
      "source": [
        "df.safety_security"
      ]
    },
    {
      "cell_type": "markdown",
      "metadata": {
        "id": "uQzK40GuffW2"
      },
      "source": [
        "## extras"
      ]
    },
    {
      "cell_type": "code",
      "execution_count": 494,
      "metadata": {
        "id": "6UozoisqffW3",
        "outputId": "c6f03f68-ff1c-47b1-9cb3-b7da8619adcd",
        "colab": {
          "base_uri": "https://localhost:8080/"
        }
      },
      "outputs": [
        {
          "output_type": "execute_result",
          "data": {
            "text/plain": [
              "0        [['Alloy wheels (18\")', 'Sport seats', 'Sport ...\n",
              "1                   [['Alloy wheels', 'Sport suspension']]\n",
              "2        [['Alloy wheels (17\")', 'Ambient lighting', 'E...\n",
              "3        [['Alloy wheels (18\")', 'Automatically dimming...\n",
              "4        [['Alloy wheels (17\")', 'Headlight washer syst...\n",
              "                               ...                        \n",
              "65836    [['Alloy wheels (15\")', 'Automatically dimming...\n",
              "65837    [['Automatically dimming interior mirror', 'Tr...\n",
              "65838                             [['Alloy wheels (16\")']]\n",
              "65839                             [['Alloy wheels (15\")']]\n",
              "65840                             [['Alloy wheels (17\")']]\n",
              "Name: extras, Length: 64368, dtype: object"
            ]
          },
          "metadata": {},
          "execution_count": 494
        }
      ],
      "source": [
        "df.extras"
      ]
    },
    {
      "cell_type": "code",
      "source": [
        "# df.extras.str.replace(\"'\\'\",\"\").str.replace(\"\\''\",\"\")"
      ],
      "metadata": {
        "id": "EjEgkKxED3xa"
      },
      "execution_count": 495,
      "outputs": []
    },
    {
      "cell_type": "code",
      "execution_count": 496,
      "metadata": {
        "id": "rWgPslnhffW3"
      },
      "outputs": [],
      "source": [
        "df.extras = df.extras.str.strip(\"[']\").str.split(\"', '\")"
      ]
    },
    {
      "cell_type": "code",
      "source": [
        "df.extras"
      ],
      "metadata": {
        "colab": {
          "base_uri": "https://localhost:8080/"
        },
        "id": "Mk7uZPZ9G7n3",
        "outputId": "62a00344-5134-43fe-db75-cdd133c8cfbd"
      },
      "execution_count": 497,
      "outputs": [
        {
          "output_type": "execute_result",
          "data": {
            "text/plain": [
              "0        [Alloy wheels (18\"), Sport seats, Sport suspen...\n",
              "1                         [Alloy wheels, Sport suspension]\n",
              "2        [Alloy wheels (17\"), Ambient lighting, Electro...\n",
              "3        [Alloy wheels (18\"), Automatically dimming int...\n",
              "4        [Alloy wheels (17\"), Headlight washer system, ...\n",
              "                               ...                        \n",
              "65836    [Alloy wheels (15\"), Automatically dimming int...\n",
              "65837    [Automatically dimming interior mirror, Traile...\n",
              "65838                                 [Alloy wheels (16\")]\n",
              "65839                                 [Alloy wheels (15\")]\n",
              "65840                                 [Alloy wheels (17\")]\n",
              "Name: extras, Length: 64368, dtype: object"
            ]
          },
          "metadata": {},
          "execution_count": 497
        }
      ]
    },
    {
      "cell_type": "markdown",
      "metadata": {
        "id": "TZke6AOxffW3"
      },
      "source": [
        "## colour"
      ]
    },
    {
      "cell_type": "code",
      "execution_count": 498,
      "metadata": {
        "id": "KFUnYSFqffW3",
        "outputId": "2b9716c2-b243-46fb-804c-910ff7adf69f",
        "colab": {
          "base_uri": "https://localhost:8080/"
        }
      },
      "outputs": [
        {
          "output_type": "execute_result",
          "data": {
            "text/plain": [
              "0          \\n4, Red\n",
              "1         \\n4, Blue\n",
              "2         \\n4, Grey\n",
              "3        \\n4, Brown\n",
              "4         \\n4, Blue\n",
              "            ...    \n",
              "65836    \\n4, Black\n",
              "65837     \\n4, Blue\n",
              "65838    \\n4, Black\n",
              "65839     \\n4, Blue\n",
              "65840     \\n4, Blue\n",
              "Name: colour, Length: 64368, dtype: object"
            ]
          },
          "metadata": {},
          "execution_count": 498
        }
      ],
      "source": [
        "df.colour"
      ]
    },
    {
      "cell_type": "code",
      "execution_count": 499,
      "metadata": {
        "id": "IiQBan66ffW3"
      },
      "outputs": [],
      "source": [
        "df.colour = df.colour.str.extract('\\n4, (\\w*)')"
      ]
    },
    {
      "cell_type": "code",
      "execution_count": 500,
      "metadata": {
        "id": "ZJpfJzQYffW4",
        "outputId": "8d05a5fa-7b2c-4258-85d0-e301a074ca06",
        "colab": {
          "base_uri": "https://localhost:8080/"
        }
      },
      "outputs": [
        {
          "output_type": "execute_result",
          "data": {
            "text/plain": [
              "Grey      21036\n",
              "Black     16661\n",
              "White      9521\n",
              "Blue       7744\n",
              "Red        2963\n",
              "Brown      1853\n",
              "Silver     1568\n",
              "NaN        1042\n",
              "Green       655\n",
              "Beige       505\n",
              "Orange      337\n",
              "Yellow      252\n",
              "Violet      158\n",
              "Gold         44\n",
              "Bronze       29\n",
              "Name: colour, dtype: int64"
            ]
          },
          "metadata": {},
          "execution_count": 500
        }
      ],
      "source": [
        "df.colour.value_counts(dropna=False)"
      ]
    },
    {
      "cell_type": "markdown",
      "metadata": {
        "id": "6KSxk4BnffW4"
      },
      "source": [
        "## paint"
      ]
    },
    {
      "cell_type": "code",
      "execution_count": 501,
      "metadata": {
        "id": "jrd3jLQjffW4",
        "outputId": "74bd2378-16e5-495f-af20-29ba756e425b",
        "colab": {
          "base_uri": "https://localhost:8080/"
        }
      },
      "outputs": [
        {
          "output_type": "execute_result",
          "data": {
            "text/plain": [
              "0        \\npaint, Metallic\n",
              "1                      NaN\n",
              "2        \\npaint, Metallic\n",
              "3                      NaN\n",
              "4        \\npaint, Metallic\n",
              "               ...        \n",
              "65836                  NaN\n",
              "65837    \\npaint, Metallic\n",
              "65838    \\npaint, Metallic\n",
              "65839                  NaN\n",
              "65840    \\npaint, Metallic\n",
              "Name: paint, Length: 64368, dtype: object"
            ]
          },
          "metadata": {},
          "execution_count": 501
        }
      ],
      "source": [
        "df.paint"
      ]
    },
    {
      "cell_type": "code",
      "execution_count": 502,
      "metadata": {
        "id": "Lkn20Mi5ffW5"
      },
      "outputs": [],
      "source": [
        "df.paint = df.paint.str.extract('(\\w*)$')"
      ]
    },
    {
      "cell_type": "code",
      "source": [
        "df.paint.value_counts(dropna=False)"
      ],
      "metadata": {
        "colab": {
          "base_uri": "https://localhost:8080/"
        },
        "id": "IVCIiwVFImC3",
        "outputId": "74bb0857-c4f6-44c8-b30b-f8dd994c4946"
      },
      "execution_count": 503,
      "outputs": [
        {
          "output_type": "execute_result",
          "data": {
            "text/plain": [
              "Metallic    46207\n",
              "NaN         18161\n",
              "Name: paint, dtype: int64"
            ]
          },
          "metadata": {},
          "execution_count": 503
        }
      ]
    },
    {
      "cell_type": "markdown",
      "metadata": {
        "id": "fjd1mDIqffW5"
      },
      "source": [
        "## upholstery_colour"
      ]
    },
    {
      "cell_type": "code",
      "execution_count": 504,
      "metadata": {
        "id": "v0tsosQBffW5",
        "outputId": "786f49fb-3b06-410f-913c-bd48675ede9d",
        "colab": {
          "base_uri": "https://localhost:8080/"
        }
      },
      "outputs": [
        {
          "output_type": "execute_result",
          "data": {
            "text/plain": [
              "0        \\nupholstery, Black\n",
              "1        \\nupholstery, Black\n",
              "2         \\nupholstery, Grey\n",
              "3                        NaN\n",
              "4        \\nupholstery, Black\n",
              "                ...         \n",
              "65836    \\nupholstery, Black\n",
              "65837    \\nupholstery, Beige\n",
              "65838    \\nupholstery, Black\n",
              "65839                    NaN\n",
              "65840    \\nupholstery, Beige\n",
              "Name: upholstery_colour, Length: 64368, dtype: object"
            ]
          },
          "metadata": {},
          "execution_count": 504
        }
      ],
      "source": [
        "df.upholstery_colour"
      ]
    },
    {
      "cell_type": "code",
      "execution_count": 505,
      "metadata": {
        "id": "PYrB1NO3ffW5"
      },
      "outputs": [],
      "source": [
        "df.upholstery_colour=df.upholstery_colour.str.extract('(\\w*)$')"
      ]
    },
    {
      "cell_type": "code",
      "execution_count": 506,
      "metadata": {
        "id": "B8SVm_8QffW5",
        "outputId": "752b79cc-8355-4743-a584-0518bb80ad7e",
        "colab": {
          "base_uri": "https://localhost:8080/"
        }
      },
      "outputs": [
        {
          "output_type": "execute_result",
          "data": {
            "text/plain": [
              "Black     32062\n",
              "NaN       21613\n",
              "Grey       5323\n",
              "Other      1690\n",
              "Beige      1551\n",
              "Brown      1250\n",
              "White       299\n",
              "Red         280\n",
              "Blue        255\n",
              "Orange       19\n",
              "Yellow       18\n",
              "Green         8\n",
              "Name: upholstery_colour, dtype: int64"
            ]
          },
          "metadata": {},
          "execution_count": 506
        }
      ],
      "source": [
        "df.upholstery_colour.value_counts(dropna=False)"
      ]
    },
    {
      "cell_type": "markdown",
      "metadata": {
        "id": "QIaFmVUEffW5"
      },
      "source": [
        "## upholstery"
      ]
    },
    {
      "cell_type": "code",
      "execution_count": 507,
      "metadata": {
        "id": "fc4eav8bffW5",
        "outputId": "3c163eab-d5e7-470b-dfa1-b15c00b983fd",
        "colab": {
          "base_uri": "https://localhost:8080/"
        }
      },
      "outputs": [
        {
          "output_type": "execute_result",
          "data": {
            "text/plain": [
              "\\n8, Cloth           24225\n",
              "\\n8, Full leather    17947\n",
              "NaN                  10330\n",
              "\\n8, Part leather     9889\n",
              "\\n8, alcantara        1116\n",
              "\\n8, Other             501\n",
              "\\n8, Velour            360\n",
              "Name: upholstery, dtype: int64"
            ]
          },
          "metadata": {},
          "execution_count": 507
        }
      ],
      "source": [
        "df.upholstery.value_counts(dropna=False)"
      ]
    },
    {
      "cell_type": "code",
      "execution_count": 508,
      "metadata": {
        "id": "dgC0zeyoffW5"
      },
      "outputs": [],
      "source": [
        "df.upholstery= df.upholstery.str.strip('\\n8, ')"
      ]
    },
    {
      "cell_type": "code",
      "source": [
        "df.upholstery.value_counts(dropna=False)"
      ],
      "metadata": {
        "colab": {
          "base_uri": "https://localhost:8080/"
        },
        "id": "uUMJ8VKlJpnn",
        "outputId": "73944567-b78f-41b2-b4e2-47a22d8b99b8"
      },
      "execution_count": 509,
      "outputs": [
        {
          "output_type": "execute_result",
          "data": {
            "text/plain": [
              "Cloth           24225\n",
              "Full leather    17947\n",
              "NaN             10330\n",
              "Part leather     9889\n",
              "alcantara        1116\n",
              "Other             501\n",
              "Velour            360\n",
              "Name: upholstery, dtype: int64"
            ]
          },
          "metadata": {},
          "execution_count": 509
        }
      ]
    },
    {
      "cell_type": "markdown",
      "source": [
        "# 2-Filling Columns"
      ],
      "metadata": {
        "id": "WnZfNN5fMAW4"
      }
    },
    {
      "cell_type": "code",
      "source": [
        "df.shape"
      ],
      "metadata": {
        "colab": {
          "base_uri": "https://localhost:8080/"
        },
        "id": "KgwNQld5KkgI",
        "outputId": "d4ca281d-46e1-4b6e-cdd7-adf103bbdb81"
      },
      "execution_count": 510,
      "outputs": [
        {
          "output_type": "execute_result",
          "data": {
            "text/plain": [
              "(64368, 35)"
            ]
          },
          "metadata": {},
          "execution_count": 510
        }
      ]
    },
    {
      "cell_type": "code",
      "source": [
        "show_nans(df,0)"
      ],
      "metadata": {
        "colab": {
          "base_uri": "https://localhost:8080/"
        },
        "id": "-biU6S5fKkkM",
        "outputId": "b29afb1c-28dc-4ffe-e223-285d39818c27"
      },
      "execution_count": 511,
      "outputs": [
        {
          "output_type": "execute_result",
          "data": {
            "text/plain": [
              "location                     0.000000\n",
              "price                        0.000000\n",
              "mileage                      9.778151\n",
              "gearbox                      1.061086\n",
              "fuel_type                    0.000000\n",
              "power                        8.856885\n",
              "seller                       0.000000\n",
              "body_type                    0.000000\n",
              "type                         0.000000\n",
              "drivetrain                   0.000000\n",
              "seats                        7.674621\n",
              "doors                        1.621924\n",
              "warranty                    64.862975\n",
              "general_inspection          24.794929\n",
              "full_service_history         0.000000\n",
              "non_smoker_vehicle           0.000000\n",
              "engine_size_cc              16.374596\n",
              "gears                       28.327740\n",
              "cylinders                    9.288777\n",
              "empty_weight_kg              7.163497\n",
              "co2_emissions               25.828051\n",
              "emission_class               0.826498\n",
              "comfort_convenience          0.000000\n",
              "entertainment_media          0.000000\n",
              "safety_security              0.000000\n",
              "extras                       0.000000\n",
              "colour                       1.618817\n",
              "paint                       28.214330\n",
              "upholstery_colour           33.577243\n",
              "upholstery                  16.048347\n",
              "make_model                   0.000000\n",
              "age                          0.069911\n",
              "fuel_consumption_mean       38.043748\n",
              "fuel_consumption_city       49.628697\n",
              "fuel_consumption_country    49.220109\n",
              "dtype: float64"
            ]
          },
          "metadata": {},
          "execution_count": 511
        }
      ]
    },
    {
      "cell_type": "code",
      "source": [
        "plt.figure(figsize=(30,10))\n",
        "sns.heatmap(df.isnull(),yticklabels=False,cbar=False,cmap='viridis');"
      ],
      "metadata": {
        "colab": {
          "base_uri": "https://localhost:8080/",
          "height": 686
        },
        "id": "-StmjDdMKuK7",
        "outputId": "7e79641c-e6a9-4f37-8c90-87872c9aa3ba"
      },
      "execution_count": 512,
      "outputs": [
        {
          "output_type": "display_data",
          "data": {
            "image/png": "[encoded data removed]",
            "text/plain": [
              "<Figure size 2160x720 with 1 Axes>"
            ]
          },
          "metadata": {
            "needs_background": "light"
          }
        }
      ]
    },
    {
      "cell_type": "code",
      "source": [
        ""
      ],
      "metadata": {
        "id": "9HX3_iUpLYnA"
      },
      "execution_count": 512,
      "outputs": []
    },
    {
      "cell_type": "code",
      "source": [
        ""
      ],
      "metadata": {
        "id": "FYVivZP1RRfc"
      },
      "execution_count": null,
      "outputs": []
    },
    {
      "cell_type": "code",
      "source": [
        ""
      ],
      "metadata": {
        "id": "H4My8jbJRRh7"
      },
      "execution_count": null,
      "outputs": []
    },
    {
      "cell_type": "code",
      "source": [
        ""
      ],
      "metadata": {
        "id": "9RSTA3K1RRk6"
      },
      "execution_count": null,
      "outputs": []
    },
    {
      "cell_type": "code",
      "source": [
        ""
      ],
      "metadata": {
        "id": "3vX8_WTSRRoe"
      },
      "execution_count": null,
      "outputs": []
    },
    {
      "cell_type": "markdown",
      "source": [
        "# 3-Outlier Analysis"
      ],
      "metadata": {
        "id": "CGecTWN_RTRr"
      }
    },
    {
      "cell_type": "code",
      "source": [
        ""
      ],
      "metadata": {
        "id": "sME_qKq0RW8m"
      },
      "execution_count": null,
      "outputs": []
    }
  ],
  "metadata": {
    "kernelspec": {
      "display_name": "Python 3 (ipykernel)",
      "language": "python",
      "name": "python3"
    },
    "language_info": {
      "codemirror_mode": {
        "name": "ipython",
        "version": 3
      },
      "file_extension": ".py",
      "mimetype": "text/x-python",
      "name": "python",
      "nbconvert_exporter": "python",
      "pygments_lexer": "ipython3",
      "version": "3.8.8"
    },
    "colab": {
      "name": "Pycoders_AutoScout.ipynb",
      "provenance": [],
      "collapsed_sections": [
        "9YXy4vfBffWd",
        "KVAWStuUffWj",
        "oVbPjgG0ffWk",
        "pIKIjAbklmXA",
        "eSofjsY-ffWk",
        "bmvmvHEzffWw",
        "l7PQXaPk90u7",
        "Ov1NFK5CffWt",
        "BVMNB1i4ffWv",
        "1pJV0XryffWw",
        "2pl6kldFffWx",
        "xOpLstxYffWy",
        "5u7VChzxffWy",
        "urvOjL8IffWz",
        "Tdm_WenIffWz",
        "fHjT3PxTffW1",
        "uQzK40GuffW2",
        "TZke6AOxffW3",
        "6KSxk4BnffW4",
        "fjd1mDIqffW5",
        "QIaFmVUEffW5",
        "aytfeB4IffW6",
        "Chd9YWR5ffW6"
      ],
      "toc_visible": true,
      "include_colab_link": true
    }
  },
  "nbformat": 4,
  "nbformat_minor": 0
}