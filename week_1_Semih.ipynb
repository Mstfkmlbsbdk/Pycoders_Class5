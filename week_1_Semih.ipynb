{
  "cells": [
    {
      "cell_type": "markdown",
      "metadata": {
        "id": "view-in-github",
        "colab_type": "text"
      },
      "source": [
        "<a href=\"https://colab.research.google.com/github/fidanfatih/Pycoders_Capstone/blob/main/week_1_Semih.ipynb\" target=\"_parent\"><img src=\"https://colab.research.google.com/assets/colab-badge.svg\" alt=\"Open In Colab\"/></a>"
      ]
    },
    {
      "cell_type": "markdown",
      "source": [
        "# NUMPY"
      ],
      "metadata": {
        "id": "-uoi0HqXtJeo"
      }
    },
    {
      "cell_type": "code",
      "execution_count": 4,
      "metadata": {
        "id": "ZvAmXIqSsGST"
      },
      "outputs": [],
      "source": [
        "# !pip install numpy"
      ]
    },
    {
      "cell_type": "code",
      "execution_count": 5,
      "metadata": {
        "id": "1n2EsVSLsGSU"
      },
      "outputs": [],
      "source": [
        "import numpy as np "
      ]
    },
    {
      "cell_type": "code",
      "execution_count": 6,
      "metadata": {
        "id": "zfXdxLRosGSV"
      },
      "outputs": [],
      "source": [
        "#ornek-1\n",
        "#Normal yollardan listenin her elemanini birbiri ile carpalim.\n",
        "\n",
        "a = [1,2,3,4]\n",
        "b = [2,3,4,5]"
      ]
    },
    {
      "cell_type": "code",
      "execution_count": 7,
      "metadata": {
        "colab": {
          "base_uri": "https://localhost:8080/"
        },
        "id": "OFTR_nRJsGSa",
        "outputId": "c23365fa-6955-4c1b-93f2-0cfb73b0fbd1"
      },
      "outputs": [
        {
          "output_type": "execute_result",
          "data": {
            "text/plain": [
              "[2, 6, 12, 20]"
            ]
          },
          "metadata": {},
          "execution_count": 7
        }
      ],
      "source": [
        "a = [1,2,3,4]\n",
        "b = [2,3,4,5]\n",
        "\n",
        "ab=[]                     \n",
        "\n",
        "for i in range(0, len(a)):\n",
        "  ab.append(a[i]*b[i])\n",
        "\n",
        "ab"
      ]
    },
    {
      "cell_type": "code",
      "execution_count": 8,
      "metadata": {
        "scrolled": true,
        "colab": {
          "base_uri": "https://localhost:8080/"
        },
        "id": "YWc6KqDhsGSb",
        "outputId": "7d73a121-628a-4607-cbfe-7222ed07ac78"
      },
      "outputs": [
        {
          "output_type": "execute_result",
          "data": {
            "text/plain": [
              "array([10, 36, 36,  0])"
            ]
          },
          "metadata": {},
          "execution_count": 8
        }
      ],
      "source": [
        "# Ayni islemi hatta daha fazlasini Numpy ile yapalim.\n",
        "\n",
        "a = np.array([1,2,3,4])\n",
        "\n",
        "b = np.array([2,3,4,5])\n",
        "\n",
        "c = np.array([5,6,3,0])\n",
        "\n",
        "a * b * c    # iki veriyi indexli carpma islemi yapar"
      ]
    },
    {
      "cell_type": "code",
      "execution_count": 9,
      "metadata": {
        "colab": {
          "base_uri": "https://localhost:8080/"
        },
        "id": "ly9wwuT6sGSc",
        "outputId": "1729e4ea-f74e-4641-e712-97ef3f4cbc16"
      },
      "outputs": [
        {
          "output_type": "stream",
          "name": "stdout",
          "text": [
            "[4, 7, 99]\n"
          ]
        }
      ],
      "source": [
        "#ornek-2 her listenin son elemanlarina ulasin. ilkel yontem\n",
        "a = [[1,23,4],\n",
        "     [5,6,7],\n",
        "     [89,9,99]]\n",
        "liste = []\n",
        "\n",
        "for i in range(len(a)):\n",
        "    liste.append(a[i][2])\n",
        "\n",
        "print(liste)\n"
      ]
    },
    {
      "cell_type": "code",
      "execution_count": 10,
      "metadata": {
        "colab": {
          "base_uri": "https://localhost:8080/"
        },
        "id": "cwrwYm7wsGSd",
        "outputId": "e8c168c9-6999-4e8f-a3cb-13dd003ca0b5"
      },
      "outputs": [
        {
          "output_type": "execute_result",
          "data": {
            "text/plain": [
              "array([ 4,  7, 99])"
            ]
          },
          "metadata": {},
          "execution_count": 10
        }
      ],
      "source": [
        "# Numpy ile  her listenin son elemanlarina ulasin. \n",
        "a = np.array([[1,23,4],\n",
        "              [5,6,7],\n",
        "              [89,9,99]])\n",
        "\n",
        "a[:,-1]  #son sutundaki elemanlara ulasir"
      ]
    },
    {
      "cell_type": "code",
      "execution_count": 11,
      "metadata": {
        "colab": {
          "base_uri": "https://localhost:8080/"
        },
        "id": "2kZyTBetsGSe",
        "outputId": "8da12acc-ba19-4f31-ed4b-33efe5833d2d"
      },
      "outputs": [
        {
          "output_type": "execute_result",
          "data": {
            "text/plain": [
              "array([[  5, 115,  20],\n",
              "       [ 25,  30,  35],\n",
              "       [445,  45, 495]])"
            ]
          },
          "metadata": {},
          "execution_count": 11
        }
      ],
      "source": [
        "# ornek-3 butun elemanlari 5 ile carpma\n",
        "a = np.array([[1,23,4],\n",
        "              [5,6,7],\n",
        "              [89,9,99]])\n",
        "a*5"
      ]
    },
    {
      "cell_type": "markdown",
      "metadata": {
        "id": "8d05QZcysGSf"
      },
      "source": [
        "# NumPy Arrayleri Oluşturma"
      ]
    },
    {
      "cell_type": "markdown",
      "metadata": {
        "id": "4WA5pZmosGSg"
      },
      "source": [
        "### Listelerden Array Oluşturmak"
      ]
    },
    {
      "cell_type": "code",
      "execution_count": 12,
      "metadata": {
        "colab": {
          "base_uri": "https://localhost:8080/"
        },
        "id": "EZV-_nehsGSh",
        "outputId": "ca14c7dd-55d5-4e42-f3a6-b57d2c3a08a1"
      },
      "outputs": [
        {
          "output_type": "execute_result",
          "data": {
            "text/plain": [
              "array([12, 33,  4,  5])"
            ]
          },
          "metadata": {},
          "execution_count": 12
        }
      ],
      "source": [
        "import numpy as np \n",
        "\n",
        "a = np.array([12,33,4,5])  # tekboyutlu\n",
        "a\n"
      ]
    },
    {
      "cell_type": "code",
      "execution_count": 13,
      "metadata": {
        "colab": {
          "base_uri": "https://localhost:8080/"
        },
        "id": "XcJk39dFsGSh",
        "outputId": "65b4ea89-26fa-4593-c05e-331922e5f142"
      },
      "outputs": [
        {
          "output_type": "execute_result",
          "data": {
            "text/plain": [
              "numpy.ndarray"
            ]
          },
          "metadata": {},
          "execution_count": 13
        }
      ],
      "source": [
        "type(a)"
      ]
    },
    {
      "cell_type": "code",
      "execution_count": 14,
      "metadata": {
        "colab": {
          "base_uri": "https://localhost:8080/"
        },
        "id": "Lwna1gF7sGSi",
        "outputId": "53a00f6b-dbdb-469a-d75b-7529d2834c2e"
      },
      "outputs": [
        {
          "output_type": "execute_result",
          "data": {
            "text/plain": [
              "array([3.14, 4.  , 6.  , 1.2 ])"
            ]
          },
          "metadata": {},
          "execution_count": 14
        }
      ],
      "source": [
        "# numpy array olusturma bu sekilde olur > np.array([....])\n",
        "\n",
        "a = np.array([3.14, 4, 6, 1.2])\n",
        "a \n",
        "\n",
        "#ciktida hepsi float oldu."
      ]
    },
    {
      "cell_type": "code",
      "execution_count": 15,
      "metadata": {
        "colab": {
          "base_uri": "https://localhost:8080/"
        },
        "id": "kBvIqS9tsGSj",
        "outputId": "83edb48f-1e2a-41ee-e972-213816522344"
      },
      "outputs": [
        {
          "output_type": "execute_result",
          "data": {
            "text/plain": [
              "array([3.14, 4.  , 6.  , 2.  ], dtype=float32)"
            ]
          },
          "metadata": {},
          "execution_count": 15
        }
      ],
      "source": [
        "#tipini degistirme\n",
        "\n",
        "np.array([3.14, 4, 6.,2], dtype = 'float32')    # icerisindeki tum elemanlarin type float32 yapar yada int32"
      ]
    },
    {
      "cell_type": "code",
      "execution_count": 16,
      "metadata": {
        "colab": {
          "base_uri": "https://localhost:8080/"
        },
        "id": "LJ-N5u_JsGSk",
        "outputId": "2716780d-7d97-4afd-e345-3c1bd658a52d"
      },
      "outputs": [
        {
          "output_type": "execute_result",
          "data": {
            "text/plain": [
              "array([[0, 0, 0],\n",
              "       [0, 0, 0],\n",
              "       [0, 0, 0],\n",
              "       [0, 0, 0],\n",
              "       [0, 0, 0]], dtype=int32)"
            ]
          },
          "metadata": {},
          "execution_count": 16
        }
      ],
      "source": [
        "#sifirlardan array olusturma\n",
        "\n",
        "np.zeros((5,3), dtype = 'int32')    # sadece sifirlardan olusan 5 x 3 lu int veri array olusturur dtype default floattur\n"
      ]
    },
    {
      "cell_type": "code",
      "execution_count": 17,
      "metadata": {
        "colab": {
          "base_uri": "https://localhost:8080/"
        },
        "id": "IXF0_U6JsGSl",
        "outputId": "685db5f7-5d40-4600-b9d4-2d6696a6810f"
      },
      "outputs": [
        {
          "output_type": "execute_result",
          "data": {
            "text/plain": [
              "array([[1., 1., 1.],\n",
              "       [1., 1., 1.]])"
            ]
          },
          "metadata": {},
          "execution_count": 17
        }
      ],
      "source": [
        "# Birlerden array olusturma\n",
        "\n",
        "np.ones((2,3))  # sadece 1 lerden  olusan 2x3 (matris) int veri arrayi olusturur."
      ]
    },
    {
      "cell_type": "code",
      "execution_count": 18,
      "metadata": {
        "colab": {
          "base_uri": "https://localhost:8080/"
        },
        "id": "kfirANsWsGSm",
        "outputId": "3d52edd8-64d3-4993-c121-4c892b5bf138"
      },
      "outputs": [
        {
          "output_type": "execute_result",
          "data": {
            "text/plain": [
              "array([[9, 9, 9, 9, 9, 9, 9],\n",
              "       [9, 9, 9, 9, 9, 9, 9],\n",
              "       [9, 9, 9, 9, 9, 9, 9],\n",
              "       [9, 9, 9, 9, 9, 9, 9],\n",
              "       [9, 9, 9, 9, 9, 9, 9],\n",
              "       [9, 9, 9, 9, 9, 9, 9]])"
            ]
          },
          "metadata": {},
          "execution_count": 18
        }
      ],
      "source": [
        "#istedigimiz degerden array olusturma\n",
        "\n",
        "np.full((6,7),9)         # 6 ye 7 lik matrislerden icinde 9 olan array olusturur"
      ]
    },
    {
      "cell_type": "code",
      "execution_count": 19,
      "metadata": {
        "colab": {
          "base_uri": "https://localhost:8080/"
        },
        "id": "cpQJk-uOsGSn",
        "outputId": "e94ba224-f9b8-40fd-876b-2c68a3c353de"
      },
      "outputs": [
        {
          "output_type": "execute_result",
          "data": {
            "text/plain": [
              "array([0, 2, 4, 6, 8])"
            ]
          },
          "metadata": {},
          "execution_count": 19
        }
      ],
      "source": [
        "np.arange(0,10,2)     # 0 dan 10 kadar 2ser 2ser giden bir array olusturur, tek boyutlu son dizin dahil degil"
      ]
    },
    {
      "cell_type": "code",
      "execution_count": 20,
      "metadata": {
        "colab": {
          "base_uri": "https://localhost:8080/"
        },
        "id": "3s4hS0DjsGSo",
        "outputId": "55b1654b-3255-49ae-86d2-ccd65848628b"
      },
      "outputs": [
        {
          "output_type": "execute_result",
          "data": {
            "text/plain": [
              "array([-1.        , -0.93103448, -0.86206897, -0.79310345, -0.72413793,\n",
              "       -0.65517241, -0.5862069 , -0.51724138, -0.44827586, -0.37931034,\n",
              "       -0.31034483, -0.24137931, -0.17241379, -0.10344828, -0.03448276,\n",
              "        0.03448276,  0.10344828,  0.17241379,  0.24137931,  0.31034483,\n",
              "        0.37931034,  0.44827586,  0.51724138,  0.5862069 ,  0.65517241,\n",
              "        0.72413793,  0.79310345,  0.86206897,  0.93103448,  1.        ])"
            ]
          },
          "metadata": {},
          "execution_count": 20
        }
      ],
      "source": [
        "np.linspace(-1,1,30)   # -1 ile 1 arasinda 30 adet dizi olusturur.  bolumu 30'a boler ve ondalikli sayilar olusturur"
      ]
    },
    {
      "cell_type": "code",
      "execution_count": 21,
      "metadata": {
        "colab": {
          "base_uri": "https://localhost:8080/"
        },
        "id": "rVAUhOhdsGSo",
        "outputId": "991e6d31-8c14-43fb-c3ed-4d9fad32e52f"
      },
      "outputs": [
        {
          "output_type": "execute_result",
          "data": {
            "text/plain": [
              "array([[8, 0],\n",
              "       [9, 4]])"
            ]
          },
          "metadata": {},
          "execution_count": 21
        }
      ],
      "source": [
        "np.random.randint(0,10, (2,2))     # 0 ile 10 arasinda integerlardan olusan 2 ye 2lik bir matris olusturur. Degerler rastgele secilir. "
      ]
    },
    {
      "cell_type": "code",
      "execution_count": 22,
      "metadata": {
        "scrolled": true,
        "colab": {
          "base_uri": "https://localhost:8080/"
        },
        "id": "oN9mGnEJsGSp",
        "outputId": "35681945-b73f-46ff-ba73-c67e33bb73fa"
      },
      "outputs": [
        {
          "output_type": "execute_result",
          "data": {
            "text/plain": [
              "array([[1., 0., 0., 0., 0.],\n",
              "       [0., 1., 0., 0., 0.],\n",
              "       [0., 0., 1., 0., 0.],\n",
              "       [0., 0., 0., 1., 0.],\n",
              "       [0., 0., 0., 0., 1.]])"
            ]
          },
          "metadata": {},
          "execution_count": 22
        }
      ],
      "source": [
        "np.eye(5)        # 5x5lik kosegenleri 1 olan bir matris olusturur, eyedentidi matris\n",
        "\n",
        "                 # buna  DIAGONAL / birim matris de denir."
      ]
    },
    {
      "cell_type": "markdown",
      "metadata": {
        "id": "Uex-QNTNsGSq"
      },
      "source": [
        "# Numpy Biçimlendirme"
      ]
    },
    {
      "cell_type": "markdown",
      "metadata": {
        "id": "pTIUTf5JsGSq"
      },
      "source": [
        "* **ndim**: boyut sayısı\n",
        "\n",
        "* **shape**: satir ve sutun bilgisini verir, kaclik matris\n",
        "\n",
        "* **size**: toplam eleman sayısı\n",
        "\n",
        "* **dtype**: array veri tipi"
      ]
    },
    {
      "cell_type": "code",
      "execution_count": 23,
      "metadata": {
        "colab": {
          "base_uri": "https://localhost:8080/"
        },
        "id": "qG0EzF8wsGSr",
        "outputId": "f4960f5f-be02-4eb6-eefa-4eb4efb7c014"
      },
      "outputs": [
        {
          "output_type": "execute_result",
          "data": {
            "text/plain": [
              "array([3, 4, 5, 2, 5, 3, 2, 5, 1, 5])"
            ]
          },
          "metadata": {},
          "execution_count": 23
        }
      ],
      "source": [
        "import numpy as np\n",
        "\n",
        "a = np.random.randint(6, size =10)   # 0 dan 6'a kadar random size = 10 adet veri olusturur, \n",
        "a"
      ]
    },
    {
      "cell_type": "code",
      "execution_count": 24,
      "metadata": {
        "colab": {
          "base_uri": "https://localhost:8080/"
        },
        "id": "kgRabqilsGSs",
        "outputId": "22e1fac5-94ce-453b-84e0-02fdd9f65c71"
      },
      "outputs": [
        {
          "output_type": "stream",
          "name": "stdout",
          "text": [
            "Boyut sayisi =   1\n",
            "satir, sutun bilgisi =   (10,)\n",
            "Toplam eleman sayisi =   10\n",
            "Veri tipi =   int64\n"
          ]
        }
      ],
      "source": [
        "print(\"Boyut sayisi =  \",a.ndim) \n",
        "print(\"satir, sutun bilgisi =  \",a.shape)  #BOYUT BILGISI ? \n",
        "print(\"Toplam eleman sayisi =  \",a.size)\n",
        "print(\"Veri tipi =  \",a.dtype)"
      ]
    },
    {
      "cell_type": "code",
      "execution_count": 25,
      "metadata": {
        "colab": {
          "base_uri": "https://localhost:8080/"
        },
        "id": "Y_Z3ndJ5sGSt",
        "outputId": "30b72dc7-883e-49a7-854d-33438ed34fe5"
      },
      "outputs": [
        {
          "output_type": "execute_result",
          "data": {
            "text/plain": [
              "array([[2, 5, 4, 7, 2],\n",
              "       [4, 1, 4, 3, 7],\n",
              "       [9, 2, 9, 5, 7],\n",
              "       [8, 1, 6, 4, 2],\n",
              "       [8, 0, 5, 9, 3],\n",
              "       [8, 6, 8, 5, 6],\n",
              "       [9, 2, 7, 7, 3],\n",
              "       [1, 0, 2, 0, 4],\n",
              "       [3, 4, 2, 0, 0],\n",
              "       [2, 8, 9, 5, 4]])"
            ]
          },
          "metadata": {},
          "execution_count": 25
        }
      ],
      "source": [
        "a = np.random.randint(10, size = (10, 5))\n",
        "a"
      ]
    },
    {
      "cell_type": "code",
      "execution_count": 26,
      "metadata": {
        "colab": {
          "base_uri": "https://localhost:8080/"
        },
        "id": "lb4blar1sGSu",
        "outputId": "38c201c8-ce7e-4677-9d19-dbde15c5388f"
      },
      "outputs": [
        {
          "output_type": "execute_result",
          "data": {
            "text/plain": [
              "2"
            ]
          },
          "metadata": {},
          "execution_count": 26
        }
      ],
      "source": [
        "a.ndim #Boyut sayisi"
      ]
    },
    {
      "cell_type": "code",
      "execution_count": 27,
      "metadata": {
        "colab": {
          "base_uri": "https://localhost:8080/"
        },
        "id": "DZRTQZG9sGSu",
        "outputId": "23e79d0a-7b0c-4959-ea73-f9d466faa9bc"
      },
      "outputs": [
        {
          "output_type": "execute_result",
          "data": {
            "text/plain": [
              "(10, 5)"
            ]
          },
          "metadata": {},
          "execution_count": 27
        }
      ],
      "source": [
        "a.shape # satir sutun"
      ]
    },
    {
      "cell_type": "code",
      "execution_count": 28,
      "metadata": {
        "colab": {
          "base_uri": "https://localhost:8080/"
        },
        "id": "Q5tVIZfAsGSu",
        "outputId": "eed1eecb-a3ee-43b3-b32b-fc119f3925e6"
      },
      "outputs": [
        {
          "output_type": "execute_result",
          "data": {
            "text/plain": [
              "50"
            ]
          },
          "metadata": {},
          "execution_count": 28
        }
      ],
      "source": [
        "a.size   #eleman sayisi"
      ]
    },
    {
      "cell_type": "code",
      "execution_count": 29,
      "metadata": {
        "colab": {
          "base_uri": "https://localhost:8080/"
        },
        "id": "h3Jliu8KsGSu",
        "outputId": "bc064eca-0314-407c-f784-8ba636dd76b7"
      },
      "outputs": [
        {
          "output_type": "execute_result",
          "data": {
            "text/plain": [
              "dtype('int64')"
            ]
          },
          "metadata": {},
          "execution_count": 29
        }
      ],
      "source": [
        "a.dtype   # veri type"
      ]
    },
    {
      "cell_type": "code",
      "execution_count": 30,
      "metadata": {
        "scrolled": true,
        "colab": {
          "base_uri": "https://localhost:8080/"
        },
        "id": "hXZJc7R2sGSv",
        "outputId": "ea5703b4-b8a2-4ecc-b0bc-62a03186ecd6"
      },
      "outputs": [
        {
          "output_type": "execute_result",
          "data": {
            "text/plain": [
              "array([[[3, 3, 2, 0, 6, 2, 1],\n",
              "        [4, 7, 9, 5, 3, 0, 6],\n",
              "        [9, 9, 1, 9, 3, 7, 8],\n",
              "        [1, 5, 3, 5, 4, 8, 9]],\n",
              "\n",
              "       [[1, 7, 2, 4, 0, 0, 8],\n",
              "        [2, 9, 0, 3, 5, 2, 9],\n",
              "        [5, 3, 6, 1, 5, 0, 8],\n",
              "        [9, 5, 9, 9, 4, 1, 8]]])"
            ]
          },
          "metadata": {},
          "execution_count": 30
        }
      ],
      "source": [
        "a = np.random.randint(10, size = (2,4,7))   # 2 TANE 3 boyutlu array (adet, satir, sutun)\n",
        "\n",
        "a"
      ]
    },
    {
      "cell_type": "code",
      "execution_count": 31,
      "metadata": {
        "colab": {
          "base_uri": "https://localhost:8080/"
        },
        "id": "QiEhomGesGSv",
        "outputId": "be4adc6f-edaf-42d9-acef-74559da4e640"
      },
      "outputs": [
        {
          "output_type": "execute_result",
          "data": {
            "text/plain": [
              "3"
            ]
          },
          "metadata": {},
          "execution_count": 31
        }
      ],
      "source": [
        "a.ndim"
      ]
    },
    {
      "cell_type": "code",
      "execution_count": 32,
      "metadata": {
        "colab": {
          "base_uri": "https://localhost:8080/"
        },
        "id": "2tmUH7BTsGSv",
        "outputId": "8932c691-adcb-495f-d697-153538df52f2"
      },
      "outputs": [
        {
          "output_type": "execute_result",
          "data": {
            "text/plain": [
              "(2, 4, 7)"
            ]
          },
          "metadata": {},
          "execution_count": 32
        }
      ],
      "source": [
        "a.shape"
      ]
    },
    {
      "cell_type": "code",
      "execution_count": 33,
      "metadata": {
        "colab": {
          "base_uri": "https://localhost:8080/"
        },
        "id": "EAVw9z07sGSw",
        "outputId": "b7eada3f-70ff-48e8-9f38-aa65453d2603"
      },
      "outputs": [
        {
          "output_type": "execute_result",
          "data": {
            "text/plain": [
              "56"
            ]
          },
          "metadata": {},
          "execution_count": 33
        }
      ],
      "source": [
        "a.size"
      ]
    },
    {
      "cell_type": "code",
      "execution_count": 34,
      "metadata": {
        "colab": {
          "base_uri": "https://localhost:8080/"
        },
        "id": "AD171MS3sGSw",
        "outputId": "acdac556-a688-4ac2-82d9-f2951ec7a4db"
      },
      "outputs": [
        {
          "output_type": "execute_result",
          "data": {
            "text/plain": [
              "dtype('int64')"
            ]
          },
          "metadata": {},
          "execution_count": 34
        }
      ],
      "source": [
        "a.dtype"
      ]
    },
    {
      "cell_type": "code",
      "execution_count": 35,
      "metadata": {
        "colab": {
          "base_uri": "https://localhost:8080/"
        },
        "id": "Vn3LyMWksGSx",
        "outputId": "a950e84e-a257-4348-8d22-6b035be63f87"
      },
      "outputs": [
        {
          "output_type": "execute_result",
          "data": {
            "text/plain": [
              "array([1, 2, 3, 4, 5, 6, 7, 8, 9])"
            ]
          },
          "metadata": {},
          "execution_count": 35
        }
      ],
      "source": [
        "np.arange(1,10)   # 1 den 10 a kadar tek boyutlu array olusturur."
      ]
    },
    {
      "cell_type": "code",
      "execution_count": 36,
      "metadata": {
        "colab": {
          "base_uri": "https://localhost:8080/"
        },
        "id": "6BgufWImsGSx",
        "outputId": "c7838d50-080e-4f2a-85bf-423982b3045d"
      },
      "outputs": [
        {
          "output_type": "execute_result",
          "data": {
            "text/plain": [
              "array([[1, 2, 3],\n",
              "       [4, 5, 6],\n",
              "       [7, 8, 9]])"
            ]
          },
          "metadata": {},
          "execution_count": 36
        }
      ],
      "source": [
        "#vektorleri matrise cevirme\n",
        "\n",
        "np.arange(1,10).reshape(3,3)   # tek bouyutlu arrayi, 3 boyutlu matrise cevirdik. 3x3=9 adet eleman olmak zorunda\n"
      ]
    },
    {
      "cell_type": "code",
      "execution_count": 37,
      "metadata": {
        "id": "gzfJkrjhsGSy"
      },
      "outputs": [],
      "source": [
        "a = np.array([1,2,3,5,6,7,8,9,0])        #tek boyutlu array,"
      ]
    },
    {
      "cell_type": "code",
      "execution_count": 38,
      "metadata": {
        "colab": {
          "base_uri": "https://localhost:8080/"
        },
        "id": "Jk34cx8ssGSy",
        "outputId": "c51b0e28-45e5-4796-cb3b-d76a9c52d3ff"
      },
      "outputs": [
        {
          "output_type": "execute_result",
          "data": {
            "text/plain": [
              "array([1, 2, 3, 5, 6, 7, 8, 9, 0])"
            ]
          },
          "metadata": {},
          "execution_count": 38
        }
      ],
      "source": [
        "a"
      ]
    },
    {
      "cell_type": "code",
      "execution_count": 39,
      "metadata": {
        "colab": {
          "base_uri": "https://localhost:8080/"
        },
        "id": "zX--TuGYsGSy",
        "outputId": "56f14a97-a416-4f35-d300-519fb6d50d37"
      },
      "outputs": [
        {
          "output_type": "execute_result",
          "data": {
            "text/plain": [
              "array([[1, 2, 3],\n",
              "       [5, 6, 7],\n",
              "       [8, 9, 0]])"
            ]
          },
          "metadata": {},
          "execution_count": 39
        }
      ],
      "source": [
        "b = a.reshape((3,3))   # tek boyutlu arrayi 3e 3luk matrise cevirdik   3x3 = 9 adet eleman olmak zorunda\n",
        "b\n",
        "\n",
        " # Not = [[]] demek 2 boyutlu demek, [] tek boyutlu demek"
      ]
    },
    {
      "cell_type": "code",
      "execution_count": 40,
      "metadata": {
        "colab": {
          "base_uri": "https://localhost:8080/"
        },
        "id": "9SgKKB8psGSy",
        "outputId": "9c01a54a-036f-4cc2-b3fc-61db6099530b"
      },
      "outputs": [
        {
          "output_type": "execute_result",
          "data": {
            "text/plain": [
              "2"
            ]
          },
          "metadata": {},
          "execution_count": 40
        }
      ],
      "source": [
        "b.ndim   # boyut sayisi"
      ]
    },
    {
      "cell_type": "code",
      "execution_count": 41,
      "metadata": {
        "colab": {
          "base_uri": "https://localhost:8080/"
        },
        "id": "CRTG_QatsGSy",
        "outputId": "f6daf680-5abf-4cd1-9edf-877c570e659e"
      },
      "outputs": [
        {
          "output_type": "execute_result",
          "data": {
            "text/plain": [
              "1"
            ]
          },
          "metadata": {},
          "execution_count": 41
        }
      ],
      "source": [
        "a.ndim"
      ]
    },
    {
      "cell_type": "markdown",
      "metadata": {
        "id": "rpSUgnGmsGSz"
      },
      "source": [
        "## birlestirme islemleri"
      ]
    },
    {
      "cell_type": "code",
      "execution_count": 42,
      "metadata": {
        "id": "p5O-0DWTsGSz"
      },
      "outputs": [],
      "source": [
        "x = np.array([1, 2, 3])\n",
        "y = np.array([4, 5, 6])"
      ]
    },
    {
      "cell_type": "code",
      "execution_count": 43,
      "metadata": {
        "colab": {
          "base_uri": "https://localhost:8080/"
        },
        "id": "PZFGF853sGSz",
        "outputId": "2344d817-7317-4326-e32a-0b3a53cd0547"
      },
      "outputs": [
        {
          "output_type": "execute_result",
          "data": {
            "text/plain": [
              "array([1, 2, 3])"
            ]
          },
          "metadata": {},
          "execution_count": 43
        }
      ],
      "source": [
        "x"
      ]
    },
    {
      "cell_type": "code",
      "execution_count": 44,
      "metadata": {
        "colab": {
          "base_uri": "https://localhost:8080/"
        },
        "id": "UONFIKsosGS0",
        "outputId": "c8af07e1-c417-41a8-ab6e-303cbddd83a7"
      },
      "outputs": [
        {
          "output_type": "execute_result",
          "data": {
            "text/plain": [
              "array([4, 5, 6])"
            ]
          },
          "metadata": {},
          "execution_count": 44
        }
      ],
      "source": [
        "y"
      ]
    },
    {
      "cell_type": "code",
      "execution_count": 45,
      "metadata": {
        "colab": {
          "base_uri": "https://localhost:8080/"
        },
        "id": "otzlcIIZsGS0",
        "outputId": "b72b2e0b-7d81-48f7-82be-bf5e84d3003e"
      },
      "outputs": [
        {
          "output_type": "execute_result",
          "data": {
            "text/plain": [
              "array([1, 2, 3, 4, 5, 6])"
            ]
          },
          "metadata": {},
          "execution_count": 45
        }
      ],
      "source": [
        "np.concatenate([x,y])   # iki arrayi birlestirme islemi yapar []"
      ]
    },
    {
      "cell_type": "code",
      "execution_count": 46,
      "metadata": {
        "id": "LfbSVYBvsGS0"
      },
      "outputs": [],
      "source": [
        "z = [1,2,3]"
      ]
    },
    {
      "cell_type": "code",
      "execution_count": 47,
      "metadata": {
        "colab": {
          "base_uri": "https://localhost:8080/"
        },
        "id": "7k2_eFHNsGS0",
        "outputId": "478868d1-b543-49d9-bc51-7f21eaa353b3"
      },
      "outputs": [
        {
          "output_type": "execute_result",
          "data": {
            "text/plain": [
              "array([1, 2, 3, 4, 5, 6, 1, 2, 3])"
            ]
          },
          "metadata": {},
          "execution_count": 47
        }
      ],
      "source": [
        "np.concatenate([x,y,z])   # 3 arrayi birlestirdi"
      ]
    },
    {
      "cell_type": "code",
      "execution_count": 48,
      "metadata": {
        "id": "t8PrnceUsGS0"
      },
      "outputs": [],
      "source": [
        "#iki boyutlu"
      ]
    },
    {
      "cell_type": "code",
      "execution_count": 49,
      "metadata": {
        "colab": {
          "base_uri": "https://localhost:8080/"
        },
        "id": "nhwf3wEwsGS0",
        "outputId": "3b14a009-2987-464f-8c8c-2787bd1ead73"
      },
      "outputs": [
        {
          "output_type": "execute_result",
          "data": {
            "text/plain": [
              "array([[1, 2, 3],\n",
              "       [4, 5, 6]])"
            ]
          },
          "metadata": {},
          "execution_count": 49
        }
      ],
      "source": [
        "a = np.array([[1, 2, 3], \n",
        "              [4, 5, 6]])\n",
        "\n",
        "a"
      ]
    },
    {
      "cell_type": "code",
      "execution_count": 50,
      "metadata": {
        "colab": {
          "base_uri": "https://localhost:8080/"
        },
        "id": "OxG1q8CQsGS1",
        "outputId": "6fd01f4b-b87c-452e-e548-fc69846af248"
      },
      "outputs": [
        {
          "output_type": "execute_result",
          "data": {
            "text/plain": [
              "array([[1, 2, 3],\n",
              "       [4, 5, 6],\n",
              "       [1, 2, 3],\n",
              "       [4, 5, 6]])"
            ]
          },
          "metadata": {},
          "execution_count": 50
        }
      ],
      "source": [
        "np.concatenate([a,a])"
      ]
    },
    {
      "cell_type": "code",
      "execution_count": 51,
      "metadata": {
        "colab": {
          "base_uri": "https://localhost:8080/"
        },
        "id": "MMgGOKJ4sGS2",
        "outputId": "283da10c-8e5d-41e6-d8a4-aba4abfd4d8a"
      },
      "outputs": [
        {
          "output_type": "execute_result",
          "data": {
            "text/plain": [
              "array([[1, 2, 3, 1, 2, 3],\n",
              "       [4, 5, 6, 4, 5, 6]])"
            ]
          },
          "metadata": {},
          "execution_count": 51
        }
      ],
      "source": [
        "np.concatenate([a,a], axis = 1)   # birlestirme islemini yatay (sutun) olarak yapar  1 sutun, 0satir"
      ]
    },
    {
      "cell_type": "code",
      "execution_count": 52,
      "metadata": {
        "id": "b-HWqJzzsGS2"
      },
      "outputs": [],
      "source": [
        "#farklı boyutlu  vektor ve matrisleri birlestirme"
      ]
    },
    {
      "cell_type": "code",
      "execution_count": 53,
      "metadata": {
        "id": "6wr98dK7sGS2"
      },
      "outputs": [],
      "source": [
        "a = np.array([1, 2, 3])\n",
        "\n",
        "b = np.array([[9, 8, 7], \n",
        "              [6, 5, 4]])"
      ]
    },
    {
      "cell_type": "code",
      "execution_count": 54,
      "metadata": {
        "colab": {
          "base_uri": "https://localhost:8080/"
        },
        "id": "t08xrDO6sGS2",
        "outputId": "bcff6f8c-e6d0-4155-f8c1-62e8da4cdf1d"
      },
      "outputs": [
        {
          "output_type": "execute_result",
          "data": {
            "text/plain": [
              "array([1, 2, 3])"
            ]
          },
          "metadata": {},
          "execution_count": 54
        }
      ],
      "source": [
        "a #  tek boyutlu"
      ]
    },
    {
      "cell_type": "code",
      "execution_count": 55,
      "metadata": {
        "colab": {
          "base_uri": "https://localhost:8080/"
        },
        "id": "uaFAv8w5sGS2",
        "outputId": "7d8ea258-b3d7-46fd-80ec-fbccc27c5fe6"
      },
      "outputs": [
        {
          "output_type": "execute_result",
          "data": {
            "text/plain": [
              "array([[9, 8, 7],\n",
              "       [6, 5, 4]])"
            ]
          },
          "metadata": {},
          "execution_count": 55
        }
      ],
      "source": [
        "b  # iki boyutlu"
      ]
    },
    {
      "cell_type": "code",
      "execution_count": 56,
      "metadata": {
        "colab": {
          "base_uri": "https://localhost:8080/"
        },
        "id": "nwCXiAaJsGS3",
        "outputId": "41cbcab2-db06-48d8-b13f-a864e0866935"
      },
      "outputs": [
        {
          "output_type": "execute_result",
          "data": {
            "text/plain": [
              "array([[1, 2, 3],\n",
              "       [9, 8, 7],\n",
              "       [6, 5, 4]])"
            ]
          },
          "metadata": {},
          "execution_count": 56
        }
      ],
      "source": [
        "np.vstack([a,b])   # farkli boyutlu arraylari SATIR BAZLI birlestirme yapar"
      ]
    },
    {
      "cell_type": "code",
      "execution_count": 57,
      "metadata": {
        "id": "NxvNKnJssGS3"
      },
      "outputs": [],
      "source": [
        "a = np.array([[99],\n",
        "              [99]])\n",
        "\n",
        "b = np.array([[9, 8, 7], \n",
        "              [6, 5, 4]])"
      ]
    },
    {
      "cell_type": "code",
      "execution_count": 57,
      "metadata": {
        "id": "2X5--6Q8sGS3"
      },
      "outputs": [],
      "source": [
        ""
      ]
    },
    {
      "cell_type": "code",
      "execution_count": 58,
      "metadata": {
        "scrolled": true,
        "colab": {
          "base_uri": "https://localhost:8080/"
        },
        "id": "1Li80QjusGS3",
        "outputId": "f45d96db-8414-41fa-a646-440b8a44400a"
      },
      "outputs": [
        {
          "output_type": "execute_result",
          "data": {
            "text/plain": [
              "array([[99,  9,  8,  7],\n",
              "       [99,  6,  5,  4]])"
            ]
          },
          "metadata": {},
          "execution_count": 58
        }
      ],
      "source": [
        "np.hstack([a,b])   # yatay SUTUN BAZLI bir sekilde birlestirme yapar,"
      ]
    },
    {
      "cell_type": "markdown",
      "metadata": {
        "id": "yeTXcYwLsGS3"
      },
      "source": [
        "## array ayirma splitting"
      ]
    },
    {
      "cell_type": "code",
      "execution_count": 59,
      "metadata": {
        "colab": {
          "base_uri": "https://localhost:8080/"
        },
        "id": "qCwvTYRhsGS3",
        "outputId": "7cf320cc-b6ea-4e5e-844c-cb63eb65cf70"
      },
      "outputs": [
        {
          "output_type": "execute_result",
          "data": {
            "text/plain": [
              "[1, 2, 3, 99, 99, 3, 2, 1, 33, 4, 567, 112, 4678, 33]"
            ]
          },
          "metadata": {},
          "execution_count": 59
        }
      ],
      "source": [
        "x = [1, 2, 3, 99, 99, 3, 2, 1,33,4,567,112,4678,33]\n",
        "x"
      ]
    },
    {
      "cell_type": "code",
      "execution_count": 60,
      "metadata": {
        "colab": {
          "base_uri": "https://localhost:8080/"
        },
        "id": "Uwmsy6kUsGS4",
        "outputId": "08d57a3b-83ff-4304-9f44-7b6a16c10ab7"
      },
      "outputs": [
        {
          "output_type": "execute_result",
          "data": {
            "text/plain": [
              "[array([1, 2, 3]),\n",
              " array([99, 99,  3]),\n",
              " array([ 2,  1, 33]),\n",
              " array([   4,  567,  112, 4678,   33])]"
            ]
          },
          "metadata": {},
          "execution_count": 60
        }
      ],
      "source": [
        "np.split(x, [3,6,9])  \n",
        "\n",
        "# x i 4 parcaya bolecek ve ilkini 3.indexten bolecek, sonra 6.indexten bolecek, sonra 9 dan bolecek \n",
        "#cikan sonuclar array type olacak."
      ]
    },
    {
      "cell_type": "code",
      "execution_count": 61,
      "metadata": {
        "id": "T85xWLPysGS4"
      },
      "outputs": [],
      "source": [
        "a,b,c,d = np.split(x, [3,6,9])   # bolunme isleminde olusan arraylari sirasiyla a b c d ye atadik"
      ]
    },
    {
      "cell_type": "code",
      "execution_count": 62,
      "metadata": {
        "colab": {
          "base_uri": "https://localhost:8080/"
        },
        "id": "n9yvRoqNsGS4",
        "outputId": "fe365c02-0f0d-4556-b5bf-d1e5949b60e0"
      },
      "outputs": [
        {
          "output_type": "stream",
          "name": "stdout",
          "text": [
            "[1 2 3] [99 99  3] [ 2  1 33] [   4  567  112 4678   33]\n"
          ]
        }
      ],
      "source": [
        "print(a,b,c,d)"
      ]
    },
    {
      "cell_type": "markdown",
      "metadata": {
        "id": "88nOcKThsGS4"
      },
      "source": [
        "##  array siralama "
      ]
    },
    {
      "cell_type": "code",
      "execution_count": 63,
      "metadata": {
        "colab": {
          "base_uri": "https://localhost:8080/"
        },
        "id": "pHn7d4l-sGS4",
        "outputId": "b68928c0-6c3b-47bc-8cc2-3713d5b29e11"
      },
      "outputs": [
        {
          "output_type": "execute_result",
          "data": {
            "text/plain": [
              "array([2, 1, 4, 3, 5])"
            ]
          },
          "metadata": {},
          "execution_count": 63
        }
      ],
      "source": [
        "import numpy as np\n",
        "v = np.array([2, 1, 4, 3, 5])\n",
        "v"
      ]
    },
    {
      "cell_type": "code",
      "execution_count": 64,
      "metadata": {
        "colab": {
          "base_uri": "https://localhost:8080/"
        },
        "id": "KI-PkDUSsGS4",
        "outputId": "c3fd243c-8d4c-4ac9-aaed-26f59f429372"
      },
      "outputs": [
        {
          "output_type": "execute_result",
          "data": {
            "text/plain": [
              "array([1, 2, 3, 4, 5])"
            ]
          },
          "metadata": {},
          "execution_count": 64
        }
      ],
      "source": [
        "np.sort(v)   # kucukten siralama yapar ama ana veriyi bozmaz"
      ]
    },
    {
      "cell_type": "code",
      "execution_count": 65,
      "metadata": {
        "colab": {
          "base_uri": "https://localhost:8080/"
        },
        "id": "cVKrdR6HsGS4",
        "outputId": "b510d89a-5aa2-4e2d-cd9f-97fd1e6e2000"
      },
      "outputs": [
        {
          "output_type": "execute_result",
          "data": {
            "text/plain": [
              "array([2, 1, 4, 3, 5])"
            ]
          },
          "metadata": {},
          "execution_count": 65
        }
      ],
      "source": [
        "v"
      ]
    },
    {
      "cell_type": "code",
      "execution_count": 66,
      "metadata": {
        "id": "E00KbVFWsGS4"
      },
      "outputs": [],
      "source": [
        "v.sort()  # kucukten siralama yapar ama ana veri bozulur. bu yuzden tercih edilmez"
      ]
    },
    {
      "cell_type": "code",
      "execution_count": 67,
      "metadata": {
        "colab": {
          "base_uri": "https://localhost:8080/"
        },
        "id": "nNELYWahsGS4",
        "outputId": "97f5c172-103d-4d71-e8c1-840b99e84b54"
      },
      "outputs": [
        {
          "output_type": "execute_result",
          "data": {
            "text/plain": [
              "array([1, 2, 3, 4, 5])"
            ]
          },
          "metadata": {},
          "execution_count": 67
        }
      ],
      "source": [
        "v"
      ]
    },
    {
      "cell_type": "markdown",
      "metadata": {
        "id": "WJhmeNQzsGS5"
      },
      "source": [
        "# NumPy Eleman İşlemleri"
      ]
    },
    {
      "cell_type": "markdown",
      "metadata": {
        "id": "qPH1yDhCsGS5"
      },
      "source": [
        "## Index ile Elemanlara Erişmek"
      ]
    },
    {
      "cell_type": "code",
      "execution_count": 68,
      "metadata": {
        "colab": {
          "base_uri": "https://localhost:8080/"
        },
        "id": "Px1DBdfvsGS5",
        "outputId": "4a09cb2a-0081-46b4-9479-f38b334aec58"
      },
      "outputs": [
        {
          "output_type": "execute_result",
          "data": {
            "text/plain": [
              "array([5, 3, 1, 2, 8, 7, 1, 5, 0, 6])"
            ]
          },
          "metadata": {},
          "execution_count": 68
        }
      ],
      "source": [
        "import numpy as np\n",
        "a = np.random.randint(10, size = 10)    # 0 dan 10 akadar random size = 10 adet veri olusturur, \n",
        "a"
      ]
    },
    {
      "cell_type": "code",
      "execution_count": 69,
      "metadata": {
        "colab": {
          "base_uri": "https://localhost:8080/"
        },
        "id": "4j_Mz6Y9sGS5",
        "outputId": "19617b03-80c3-4cf6-f935-8c56a00638ae"
      },
      "outputs": [
        {
          "output_type": "execute_result",
          "data": {
            "text/plain": [
              "5"
            ]
          },
          "metadata": {},
          "execution_count": 69
        }
      ],
      "source": [
        "a[0]   # a nin 0.indexine (ilk elemana ) ulasir"
      ]
    },
    {
      "cell_type": "code",
      "execution_count": 70,
      "metadata": {
        "colab": {
          "base_uri": "https://localhost:8080/"
        },
        "id": "g6aW7iFNsGS5",
        "outputId": "8004fe15-8f1b-48c9-a7dc-6e43c603ff4a"
      },
      "outputs": [
        {
          "output_type": "execute_result",
          "data": {
            "text/plain": [
              "0"
            ]
          },
          "metadata": {},
          "execution_count": 70
        }
      ],
      "source": [
        "a[-2]   # tersten 2. elemana ulasir "
      ]
    },
    {
      "cell_type": "code",
      "execution_count": 71,
      "metadata": {
        "id": "Psp51UgNsGS5"
      },
      "outputs": [],
      "source": [
        "a[0] = 1  # a nin  0. indexindeki elemani degistirdik. 1 yaptik"
      ]
    },
    {
      "cell_type": "code",
      "execution_count": 72,
      "metadata": {
        "colab": {
          "base_uri": "https://localhost:8080/"
        },
        "id": "eK4b7krnsGS5",
        "outputId": "2705f7e3-6687-467c-f195-36c27ffceeb5"
      },
      "outputs": [
        {
          "output_type": "execute_result",
          "data": {
            "text/plain": [
              "array([1, 3, 1, 2, 8, 7, 1, 5, 0, 6])"
            ]
          },
          "metadata": {},
          "execution_count": 72
        }
      ],
      "source": [
        "a"
      ]
    },
    {
      "cell_type": "code",
      "execution_count": 73,
      "metadata": {
        "colab": {
          "base_uri": "https://localhost:8080/"
        },
        "id": "QO5dY_HZsGS5",
        "outputId": "65e81a6f-1058-48db-dc2e-903acf8ed034"
      },
      "outputs": [
        {
          "output_type": "execute_result",
          "data": {
            "text/plain": [
              "array([[2, 4, 6, 2, 8],\n",
              "       [0, 7, 9, 1, 8],\n",
              "       [6, 4, 8, 1, 1]])"
            ]
          },
          "metadata": {},
          "execution_count": 73
        }
      ],
      "source": [
        "a = np.random.randint(10, size = (3, 5))   #3x5 iki boyutlu matris\n",
        "a"
      ]
    },
    {
      "cell_type": "code",
      "execution_count": 74,
      "metadata": {
        "colab": {
          "base_uri": "https://localhost:8080/"
        },
        "id": "3VnqfPW0sGS6",
        "outputId": "59c96cba-fc21-42d3-e507-f7c97442f40b"
      },
      "outputs": [
        {
          "output_type": "execute_result",
          "data": {
            "text/plain": [
              "7"
            ]
          },
          "metadata": {},
          "execution_count": 74
        }
      ],
      "source": [
        "a[1,1]   # iki boyutlu elamanlara eristik. 1. satir ve 1.sutundaki elemana ulasir"
      ]
    },
    {
      "cell_type": "code",
      "execution_count": 75,
      "metadata": {
        "colab": {
          "base_uri": "https://localhost:8080/"
        },
        "id": "aRWlqeEjsGS6",
        "outputId": "ac6b0b17-7cea-4a30-c837-187e9c9467c2"
      },
      "outputs": [
        {
          "output_type": "execute_result",
          "data": {
            "text/plain": [
              "1"
            ]
          },
          "metadata": {},
          "execution_count": 75
        }
      ],
      "source": [
        "a[1,3]   # 1.satir, 3.sutun"
      ]
    },
    {
      "cell_type": "code",
      "execution_count": 76,
      "metadata": {
        "id": "cnTiXUuRsGS6"
      },
      "outputs": [],
      "source": [
        "a[0,0] = 1  # 0.satir ve 0.sutundaki elemani degistir. 1 yap"
      ]
    },
    {
      "cell_type": "code",
      "execution_count": 77,
      "metadata": {
        "colab": {
          "base_uri": "https://localhost:8080/"
        },
        "id": "JiiFuSwasGS6",
        "outputId": "c04a9925-7e79-4054-acd7-fff151cfef7e"
      },
      "outputs": [
        {
          "output_type": "execute_result",
          "data": {
            "text/plain": [
              "1"
            ]
          },
          "metadata": {},
          "execution_count": 77
        }
      ],
      "source": [
        "a[0,0]"
      ]
    },
    {
      "cell_type": "code",
      "execution_count": 78,
      "metadata": {
        "id": "tsy56S8EsGS6"
      },
      "outputs": [],
      "source": [
        "a[0,0] = 2.2   #array int oldugu icin flout bile gondersek o integer olarak atayacak. "
      ]
    },
    {
      "cell_type": "code",
      "execution_count": 79,
      "metadata": {
        "colab": {
          "base_uri": "https://localhost:8080/"
        },
        "id": "h6UAGGvcsGS6",
        "outputId": "b1064a5b-6664-4272-8081-9544495347a4"
      },
      "outputs": [
        {
          "output_type": "execute_result",
          "data": {
            "text/plain": [
              "2"
            ]
          },
          "metadata": {},
          "execution_count": 79
        }
      ],
      "source": [
        "a[0,0] "
      ]
    },
    {
      "cell_type": "markdown",
      "metadata": {
        "id": "y3A7qpgLsGS6"
      },
      "source": [
        "## Slicing ile Array Alt Kümesine Erişmek"
      ]
    },
    {
      "cell_type": "code",
      "execution_count": 80,
      "metadata": {
        "colab": {
          "base_uri": "https://localhost:8080/"
        },
        "id": "8u2tc9MJsGS6",
        "outputId": "93a51601-f6a0-45d3-99b4-bf94cb242075"
      },
      "outputs": [
        {
          "output_type": "execute_result",
          "data": {
            "text/plain": [
              "array([20, 21, 22, 23, 24, 25, 26, 27, 28, 29])"
            ]
          },
          "metadata": {},
          "execution_count": 80
        }
      ],
      "source": [
        "import numpy as np\n",
        "a = np.arange(20,30)\n",
        "a"
      ]
    },
    {
      "cell_type": "code",
      "execution_count": 81,
      "metadata": {
        "colab": {
          "base_uri": "https://localhost:8080/"
        },
        "id": "mrmoJWhmsGS7",
        "outputId": "39eb597e-d647-4959-f965-874a9a03ee96"
      },
      "outputs": [
        {
          "output_type": "execute_result",
          "data": {
            "text/plain": [
              "array([20, 21, 22])"
            ]
          },
          "metadata": {},
          "execution_count": 81
        }
      ],
      "source": [
        "a[0:3]   # 0dan 3 e kadar elemanlari  alir (index olarak)"
      ]
    },
    {
      "cell_type": "code",
      "execution_count": 82,
      "metadata": {
        "colab": {
          "base_uri": "https://localhost:8080/"
        },
        "id": "q9A3gfRgsGS7",
        "outputId": "e4bbc486-14d7-4cd0-b98f-9775480fa6e0"
      },
      "outputs": [
        {
          "output_type": "execute_result",
          "data": {
            "text/plain": [
              "array([20, 21, 22])"
            ]
          },
          "metadata": {},
          "execution_count": 82
        }
      ],
      "source": [
        "a[:3]    # en bastan 3. indexe kadar alir"
      ]
    },
    {
      "cell_type": "code",
      "execution_count": 83,
      "metadata": {
        "colab": {
          "base_uri": "https://localhost:8080/"
        },
        "id": "XXYqgJcxsGS7",
        "outputId": "81f34923-64bb-4163-ad91-1399a634ad1b"
      },
      "outputs": [
        {
          "output_type": "execute_result",
          "data": {
            "text/plain": [
              "array([23, 24, 25, 26, 27, 28, 29])"
            ]
          },
          "metadata": {},
          "execution_count": 83
        }
      ],
      "source": [
        "a[3:]  # 3.indexten sonuna kadar alir"
      ]
    },
    {
      "cell_type": "code",
      "execution_count": 84,
      "metadata": {
        "colab": {
          "base_uri": "https://localhost:8080/"
        },
        "id": "OI3hZrJNsGS7",
        "outputId": "6d92693f-65fb-422d-a4b2-96fc06b24407"
      },
      "outputs": [
        {
          "output_type": "execute_result",
          "data": {
            "text/plain": [
              "array([20, 22, 24, 26, 28])"
            ]
          },
          "metadata": {},
          "execution_count": 84
        }
      ],
      "source": [
        "a[::2]   # en bastan baslar en sona kadar 2ser 2ser atlayarak gider"
      ]
    },
    {
      "cell_type": "code",
      "execution_count": 85,
      "metadata": {
        "colab": {
          "base_uri": "https://localhost:8080/"
        },
        "id": "MRJXqF1usGS7",
        "outputId": "75ced334-0a34-4367-81b0-079b77538bc8"
      },
      "outputs": [
        {
          "output_type": "execute_result",
          "data": {
            "text/plain": [
              "array([21, 23, 25, 27, 29])"
            ]
          },
          "metadata": {},
          "execution_count": 85
        }
      ],
      "source": [
        "a[1::2]     # 1.indexten baslar sonuna kadar gider  2ser 2ser atlayarak gider"
      ]
    },
    {
      "cell_type": "code",
      "execution_count": 86,
      "metadata": {
        "colab": {
          "base_uri": "https://localhost:8080/"
        },
        "id": "cQ2pNp7qsGS7",
        "outputId": "af77f61a-30c7-462f-ebb9-ef3a843a22d3"
      },
      "outputs": [
        {
          "output_type": "execute_result",
          "data": {
            "text/plain": [
              "array([22, 24, 26, 28])"
            ]
          },
          "metadata": {},
          "execution_count": 86
        }
      ],
      "source": [
        "a[2::2]    # 2.indexten baslar sonuna kadar gider  2ser 2ser atlayarak gider"
      ]
    },
    {
      "cell_type": "code",
      "execution_count": 87,
      "metadata": {
        "colab": {
          "base_uri": "https://localhost:8080/"
        },
        "id": "HIHYCjaisGS7",
        "outputId": "86e1a8bf-165e-4110-f788-aef79386d099"
      },
      "outputs": [
        {
          "output_type": "execute_result",
          "data": {
            "text/plain": [
              "array([21, 24, 27])"
            ]
          },
          "metadata": {},
          "execution_count": 87
        }
      ],
      "source": [
        "a[1::3]     # 1.indexten baslar sonuna kadar gider  3ser 3ser atlayarak gider"
      ]
    },
    {
      "cell_type": "code",
      "execution_count": 88,
      "metadata": {
        "colab": {
          "base_uri": "https://localhost:8080/"
        },
        "id": "YifVAXIesGS7",
        "outputId": "c2b800a9-f03c-4d0a-911b-eb3582d9e545"
      },
      "outputs": [
        {
          "output_type": "execute_result",
          "data": {
            "text/plain": [
              "array([[3, 6, 7, 7, 8],\n",
              "       [7, 1, 5, 5, 5],\n",
              "       [6, 6, 2, 9, 8],\n",
              "       [4, 3, 7, 8, 8],\n",
              "       [4, 9, 3, 9, 8]])"
            ]
          },
          "metadata": {},
          "execution_count": 88
        }
      ],
      "source": [
        "a = np.random.randint(10, size = (5, 5))\n",
        "a"
      ]
    },
    {
      "cell_type": "code",
      "execution_count": 89,
      "metadata": {
        "colab": {
          "base_uri": "https://localhost:8080/"
        },
        "id": "IxyZpVKmsGS7",
        "outputId": "c17497fb-b569-4e03-a3f1-8f0d1d2993ec"
      },
      "outputs": [
        {
          "output_type": "execute_result",
          "data": {
            "text/plain": [
              "array([3, 7, 6, 4, 4])"
            ]
          },
          "metadata": {},
          "execution_count": 89
        }
      ],
      "source": [
        "a[:,0]    \n",
        "# 0.sutunun tum satirlarini secer"
      ]
    },
    {
      "cell_type": "code",
      "execution_count": 90,
      "metadata": {
        "colab": {
          "base_uri": "https://localhost:8080/"
        },
        "id": "FKuC5KY5sGS8",
        "outputId": "cff5929c-a169-47d0-c275-a79de0b92b5b"
      },
      "outputs": [
        {
          "output_type": "execute_result",
          "data": {
            "text/plain": [
              "array([6, 1, 6, 3, 9])"
            ]
          },
          "metadata": {},
          "execution_count": 90
        }
      ],
      "source": [
        "a[:,1]   # 1.sutunun tum satirlarini secer"
      ]
    },
    {
      "cell_type": "code",
      "execution_count": 91,
      "metadata": {
        "colab": {
          "base_uri": "https://localhost:8080/"
        },
        "id": "ICObEskrsGS8",
        "outputId": "7ed086f4-f9bb-4027-d9e8-a44c3c1ce8d8"
      },
      "outputs": [
        {
          "output_type": "execute_result",
          "data": {
            "text/plain": [
              "array([8, 5, 8, 8, 8])"
            ]
          },
          "metadata": {},
          "execution_count": 91
        }
      ],
      "source": [
        "a[:,4]   # 4.sutunun tum satirlarini secer"
      ]
    },
    {
      "cell_type": "code",
      "execution_count": 92,
      "metadata": {
        "colab": {
          "base_uri": "https://localhost:8080/"
        },
        "id": "mihrxmrnsGS8",
        "outputId": "22dc0b5e-cfbb-4055-c176-a9f516e6519f"
      },
      "outputs": [
        {
          "output_type": "execute_result",
          "data": {
            "text/plain": [
              "array([[3, 6, 7, 7, 8],\n",
              "       [7, 1, 5, 5, 5],\n",
              "       [6, 6, 2, 9, 8],\n",
              "       [4, 3, 7, 8, 8],\n",
              "       [4, 9, 3, 9, 8]])"
            ]
          },
          "metadata": {},
          "execution_count": 92
        }
      ],
      "source": [
        "a"
      ]
    },
    {
      "cell_type": "code",
      "execution_count": 93,
      "metadata": {
        "colab": {
          "base_uri": "https://localhost:8080/"
        },
        "id": "DW_PF_HSsGS8",
        "outputId": "673a5028-d166-467d-da7d-2e8e95f03dd1"
      },
      "outputs": [
        {
          "output_type": "execute_result",
          "data": {
            "text/plain": [
              "array([4, 9, 3, 9, 8])"
            ]
          },
          "metadata": {},
          "execution_count": 93
        }
      ],
      "source": [
        "a[4,:]   # tum sutunlarin 4.satirini alir"
      ]
    },
    {
      "cell_type": "code",
      "execution_count": 94,
      "metadata": {
        "colab": {
          "base_uri": "https://localhost:8080/"
        },
        "id": "UWLtCqkJsGS8",
        "outputId": "6aa65022-cc58-478c-f795-4a495764ab0f"
      },
      "outputs": [
        {
          "output_type": "execute_result",
          "data": {
            "text/plain": [
              "array([3, 6, 7, 7, 8])"
            ]
          },
          "metadata": {},
          "execution_count": 94
        }
      ],
      "source": [
        "a[0]  # 0.satirin tum sunutlarini verir. Ilk satirin tamami"
      ]
    },
    {
      "cell_type": "code",
      "execution_count": 95,
      "metadata": {
        "colab": {
          "base_uri": "https://localhost:8080/"
        },
        "id": "WmBDJJ-dsGS8",
        "outputId": "12eb2cf6-8b5e-4316-ab59-7795d8aeeb7c"
      },
      "outputs": [
        {
          "output_type": "execute_result",
          "data": {
            "text/plain": [
              "array([7, 1, 5, 5, 5])"
            ]
          },
          "metadata": {},
          "execution_count": 95
        }
      ],
      "source": [
        "a[1]  # 1.satirin tum sunutlarini verir. ikinci  satirin tamami"
      ]
    },
    {
      "cell_type": "code",
      "execution_count": 96,
      "metadata": {
        "colab": {
          "base_uri": "https://localhost:8080/"
        },
        "id": "R_p_qA6csGS8",
        "outputId": "7fdcf16b-26ab-4199-b95d-bf461ba854e0"
      },
      "outputs": [
        {
          "output_type": "execute_result",
          "data": {
            "text/plain": [
              "array([6, 6, 2, 9, 8])"
            ]
          },
          "metadata": {},
          "execution_count": 96
        }
      ],
      "source": [
        "a[2]  # 2.satirin tum sutunlarini verir. ucuncu satirin tamami"
      ]
    },
    {
      "cell_type": "code",
      "execution_count": 97,
      "metadata": {
        "colab": {
          "base_uri": "https://localhost:8080/"
        },
        "id": "D_cV-ripsGS8",
        "outputId": "7af1adf3-8d2a-4f42-e420-c975fb19ebdd"
      },
      "outputs": [
        {
          "output_type": "execute_result",
          "data": {
            "text/plain": [
              "array([[3, 6, 7],\n",
              "       [7, 1, 5]])"
            ]
          },
          "metadata": {},
          "execution_count": 97
        }
      ],
      "source": [
        "a[:2,:3]   # 0dan 2 yekadar olan satirlarin : 0dan 3 e kadar olan sutunlari secer   son degerler dahil degil"
      ]
    },
    {
      "cell_type": "code",
      "execution_count": 98,
      "metadata": {
        "colab": {
          "base_uri": "https://localhost:8080/"
        },
        "id": "kIf6zTu7sGS8",
        "outputId": "cec1043e-a27a-4a81-824e-6ea5a5332b50"
      },
      "outputs": [
        {
          "output_type": "execute_result",
          "data": {
            "text/plain": [
              "array([[3, 6, 7],\n",
              "       [7, 1, 5]])"
            ]
          },
          "metadata": {},
          "execution_count": 98
        }
      ],
      "source": [
        "a[0:2,0:3]  # 0dan 2 yekadar olan satirlarin : 0dan 3 e kadar olan sutunlari secer   son degerler dahil degil"
      ]
    },
    {
      "cell_type": "code",
      "execution_count": 99,
      "metadata": {
        "colab": {
          "base_uri": "https://localhost:8080/"
        },
        "id": "b7Y95ksqsGS9",
        "outputId": "74367d7c-4301-4dfd-a05a-5d91d0b8213d"
      },
      "outputs": [
        {
          "output_type": "execute_result",
          "data": {
            "text/plain": [
              "array([[3, 6],\n",
              "       [7, 1],\n",
              "       [6, 6],\n",
              "       [4, 3],\n",
              "       [4, 9]])"
            ]
          },
          "metadata": {},
          "execution_count": 99
        }
      ],
      "source": [
        "a[:,:2]     # tum satirlarin ilk iki sutununu secti"
      ]
    },
    {
      "cell_type": "code",
      "execution_count": 100,
      "metadata": {
        "colab": {
          "base_uri": "https://localhost:8080/"
        },
        "id": "qgKK_fihsGS9",
        "outputId": "8e889475-6644-4dd3-e236-46e4aa54092c"
      },
      "outputs": [
        {
          "output_type": "execute_result",
          "data": {
            "text/plain": [
              "array([[3, 6],\n",
              "       [7, 1],\n",
              "       [6, 6],\n",
              "       [4, 3],\n",
              "       [4, 9]])"
            ]
          },
          "metadata": {},
          "execution_count": 100
        }
      ],
      "source": [
        "a[:,:2]     # tum satirlarin ilk iki sutununu secti, ustteki ile ayni islemi yapar"
      ]
    },
    {
      "cell_type": "code",
      "execution_count": 101,
      "metadata": {
        "colab": {
          "base_uri": "https://localhost:8080/"
        },
        "id": "2n6BStdqsGS9",
        "outputId": "da1e0ce3-d1d5-4c01-e51b-55c5350c8d8b"
      },
      "outputs": [
        {
          "output_type": "execute_result",
          "data": {
            "text/plain": [
              "array([[7, 1],\n",
              "       [6, 6]])"
            ]
          },
          "metadata": {},
          "execution_count": 101
        }
      ],
      "source": [
        "a[1:3,0:2]   # 1den 3 e kadar olan satirlarini secer  :  0dan 2 ye kadar olan satirlarin, "
      ]
    },
    {
      "cell_type": "code",
      "execution_count": 102,
      "metadata": {
        "colab": {
          "base_uri": "https://localhost:8080/"
        },
        "id": "OGHo-OJhsGS9",
        "outputId": "72deb312-e91f-4de8-ca28-fdd0da17da40"
      },
      "outputs": [
        {
          "output_type": "execute_result",
          "data": {
            "text/plain": [
              "array([[5, 3, 4, 0, 8],\n",
              "       [8, 5, 2, 0, 3],\n",
              "       [4, 2, 7, 5, 5],\n",
              "       [7, 9, 5, 9, 2],\n",
              "       [4, 2, 8, 5, 0]])"
            ]
          },
          "metadata": {},
          "execution_count": 102
        }
      ],
      "source": [
        "a = np.random.randint(10, size = (5, 5))  # 0 den 10a kadar  5x5 lik matris olusturur.\n",
        "a"
      ]
    },
    {
      "cell_type": "code",
      "execution_count": 103,
      "metadata": {
        "id": "FRZYfIy8sGS9"
      },
      "outputs": [],
      "source": [
        "alt_a = a[0:3,0:2]   # secilen araliklari yeni bir nesne olarak tanimlayabiliriz."
      ]
    },
    {
      "cell_type": "code",
      "execution_count": 104,
      "metadata": {
        "colab": {
          "base_uri": "https://localhost:8080/"
        },
        "id": "7qQ5ECfvsGS9",
        "outputId": "32212c44-dca2-49b4-eb8e-09ab8be6d901"
      },
      "outputs": [
        {
          "output_type": "execute_result",
          "data": {
            "text/plain": [
              "array([[5, 3],\n",
              "       [8, 5],\n",
              "       [4, 2]])"
            ]
          },
          "metadata": {},
          "execution_count": 104
        }
      ],
      "source": [
        "alt_a"
      ]
    },
    {
      "cell_type": "code",
      "execution_count": 105,
      "metadata": {
        "id": "gHl0O1XRsGS9"
      },
      "outputs": [],
      "source": [
        "alt_a[0,0] = 9999  # 0. satir ve 0.sutundaki elemani 9999 yaptik\n",
        "alt_a[1,1] = 9999   # 1. satir ve 1.sutundaki elemani 9999 yaptik."
      ]
    },
    {
      "cell_type": "code",
      "execution_count": 106,
      "metadata": {
        "colab": {
          "base_uri": "https://localhost:8080/"
        },
        "id": "sd7BYlN9sGS9",
        "outputId": "c8b5adf4-52e6-4163-82bb-fa9fc31ac54c"
      },
      "outputs": [
        {
          "output_type": "execute_result",
          "data": {
            "text/plain": [
              "array([[9999,    3],\n",
              "       [   8, 9999],\n",
              "       [   4,    2]])"
            ]
          },
          "metadata": {},
          "execution_count": 106
        }
      ],
      "source": [
        "alt_a"
      ]
    },
    {
      "cell_type": "code",
      "execution_count": 107,
      "metadata": {
        "id": "kiO7TRiGsGS-"
      },
      "outputs": [],
      "source": [
        "alt_b = a[0:3,0:2].copy()    # ana verimizde degisiklige sebep olmasin diye .copy() kullanmak cok faydadlidir"
      ]
    },
    {
      "cell_type": "code",
      "execution_count": 108,
      "metadata": {
        "colab": {
          "base_uri": "https://localhost:8080/"
        },
        "id": "IRKaKQOIsGS-",
        "outputId": "fa11efcc-ecb8-4d9d-c963-a54d1ad42829"
      },
      "outputs": [
        {
          "output_type": "execute_result",
          "data": {
            "text/plain": [
              "array([[9999,    3],\n",
              "       [   8, 9999],\n",
              "       [   4,    2]])"
            ]
          },
          "metadata": {},
          "execution_count": 108
        }
      ],
      "source": [
        "alt_b"
      ]
    },
    {
      "cell_type": "code",
      "execution_count": 109,
      "metadata": {
        "id": "dSGeYXxVsGS-"
      },
      "outputs": [],
      "source": [
        "alt_b[0,0] = 9999\n",
        "alt_b[1,1] = 9999"
      ]
    },
    {
      "cell_type": "code",
      "execution_count": 110,
      "metadata": {
        "colab": {
          "base_uri": "https://localhost:8080/"
        },
        "id": "_i6xqwC2sGS-",
        "outputId": "1d3faa9b-0610-4c36-93d4-fae3a2d34cbc"
      },
      "outputs": [
        {
          "output_type": "execute_result",
          "data": {
            "text/plain": [
              "array([[9999,    3,    4,    0,    8],\n",
              "       [   8, 9999,    2,    0,    3],\n",
              "       [   4,    2,    7,    5,    5],\n",
              "       [   7,    9,    5,    9,    2],\n",
              "       [   4,    2,    8,    5,    0]])"
            ]
          },
          "metadata": {},
          "execution_count": 110
        }
      ],
      "source": [
        "a   # ana verimizin degismedigini gorecegiz. ana veri ham haliyle bir yerlerde kalmasi guzel olur. "
      ]
    },
    {
      "cell_type": "markdown",
      "metadata": {
        "id": "eXr6GtyHsGS-"
      },
      "source": [
        "## Fancy Index ile Eleman İşlemleri\n",
        "\n",
        "Sadece belirli indexleri sececeksek bu yontem Fancy Indexleme kullanilir,"
      ]
    },
    {
      "cell_type": "code",
      "execution_count": 111,
      "metadata": {
        "colab": {
          "base_uri": "https://localhost:8080/"
        },
        "id": "29hb2ozgsGS-",
        "outputId": "94e6b50f-24e8-4c93-eea0-4329e6c513e2"
      },
      "outputs": [
        {
          "output_type": "execute_result",
          "data": {
            "text/plain": [
              "array([ 0,  3,  6,  9, 12, 15, 18, 21, 24, 27])"
            ]
          },
          "metadata": {},
          "execution_count": 111
        }
      ],
      "source": [
        "v = np.arange(0, 30, 3)  # 0dan 30a kadar 3 er atlayarak array olusturur\n",
        "v"
      ]
    },
    {
      "cell_type": "code",
      "execution_count": 112,
      "metadata": {
        "colab": {
          "base_uri": "https://localhost:8080/"
        },
        "id": "ppnWBNN-sGS-",
        "outputId": "235d9533-93af-414e-f92d-3b2a21e5b905"
      },
      "outputs": [
        {
          "output_type": "execute_result",
          "data": {
            "text/plain": [
              "9"
            ]
          },
          "metadata": {},
          "execution_count": 112
        }
      ],
      "source": [
        "v[1]  # 1. indexe ulasir\n",
        "v[3]  # 3. indexe ulasir"
      ]
    },
    {
      "cell_type": "code",
      "execution_count": 113,
      "metadata": {
        "colab": {
          "base_uri": "https://localhost:8080/"
        },
        "id": "Ma8QYjvUsGS-",
        "outputId": "427ae9f5-f7b1-4f11-a5ad-ecd324f443ea"
      },
      "outputs": [
        {
          "output_type": "execute_result",
          "data": {
            "text/plain": [
              "[3, 9]"
            ]
          },
          "metadata": {},
          "execution_count": 113
        }
      ],
      "source": [
        "[v[1], v[3]]   # 1 ile 3 e ulasir"
      ]
    },
    {
      "cell_type": "code",
      "execution_count": 114,
      "metadata": {
        "colab": {
          "base_uri": "https://localhost:8080/"
        },
        "id": "4DvlduXMsGS-",
        "outputId": "198a538b-0406-44d6-aeac-93650aa7a3f8"
      },
      "outputs": [
        {
          "output_type": "execute_result",
          "data": {
            "text/plain": [
              "array([ 3,  9, 15])"
            ]
          },
          "metadata": {},
          "execution_count": 114
        }
      ],
      "source": [
        "### Sadece belirli indexleri sececeksek bu yontem Fancy Indexleme kullanilir,\n",
        "\n",
        "al_getir = [1,3,5]   # secmek istedigimiz indexler\n",
        "v[al_getir]         # sectigimiz indexlerin degerleri  bu ikisi beraber kullanilarak index degerleri getirilir."
      ]
    },
    {
      "cell_type": "code",
      "execution_count": 115,
      "metadata": {
        "colab": {
          "base_uri": "https://localhost:8080/"
        },
        "id": "eD2VrKuUsGS_",
        "outputId": "511dc6ef-9c9c-4406-f393-ebf264b8434d"
      },
      "outputs": [
        {
          "output_type": "execute_result",
          "data": {
            "text/plain": [
              "array([[0, 1, 2],\n",
              "       [3, 4, 5],\n",
              "       [6, 7, 8]])"
            ]
          },
          "metadata": {},
          "execution_count": 115
        }
      ],
      "source": [
        "m = np.arange(9).reshape((3, 3))   #3x3 matris\n",
        "m"
      ]
    },
    {
      "cell_type": "code",
      "execution_count": 116,
      "metadata": {
        "colab": {
          "base_uri": "https://localhost:8080/"
        },
        "id": "3u2OGFeZsGS_",
        "outputId": "4814acfe-c461-42bd-ccd4-1933affc7312"
      },
      "outputs": [
        {
          "output_type": "execute_result",
          "data": {
            "text/plain": [
              "array([0, 2])"
            ]
          },
          "metadata": {},
          "execution_count": 116
        }
      ],
      "source": [
        "m[0, [0,2]]   # m deki 0.satiri ve 0 ve 2.sutunlari sectik sadece 0 ve 2. sutunlari aldi. aralik degil!  "
      ]
    },
    {
      "cell_type": "code",
      "execution_count": 117,
      "metadata": {
        "colab": {
          "base_uri": "https://localhost:8080/"
        },
        "id": "CXuZ4AWusGS_",
        "outputId": "18e16402-d417-440c-df89-302f062f7a9c"
      },
      "outputs": [
        {
          "output_type": "execute_result",
          "data": {
            "text/plain": [
              "array([[0, 1, 2],\n",
              "       [3, 4, 5],\n",
              "       [6, 7, 8]])"
            ]
          },
          "metadata": {},
          "execution_count": 117
        }
      ],
      "source": [
        "m[0:,[0,1,2]]   # Tum satirlari aldik   : 1 ve 2. sutundaki "
      ]
    },
    {
      "cell_type": "markdown",
      "metadata": {
        "id": "iqs1GUVvsGS_"
      },
      "source": [
        "# Koşullu Eleman İşlemleri\n",
        "\n",
        "!! Ciktilar True ve False doner."
      ]
    },
    {
      "cell_type": "code",
      "execution_count": 118,
      "metadata": {
        "id": "fAjJiOIZsGS_"
      },
      "outputs": [],
      "source": [
        "v = np.array([1,2,3,4,5])"
      ]
    },
    {
      "cell_type": "code",
      "execution_count": 119,
      "metadata": {
        "colab": {
          "base_uri": "https://localhost:8080/"
        },
        "id": "T2CL4UybsGS_",
        "outputId": "233d435b-2f56-4092-a615-53db4c7bf5f5"
      },
      "outputs": [
        {
          "output_type": "execute_result",
          "data": {
            "text/plain": [
              "array([False, False, False,  True,  True])"
            ]
          },
          "metadata": {},
          "execution_count": 119
        }
      ],
      "source": [
        "v > 3   # v de 3den buyuk olanlari doner, True yada False doner"
      ]
    },
    {
      "cell_type": "code",
      "execution_count": 120,
      "metadata": {
        "colab": {
          "base_uri": "https://localhost:8080/"
        },
        "id": "2V0EF0brsGS_",
        "outputId": "5a53db38-49f3-4b92-90c6-263ca8dce72f"
      },
      "outputs": [
        {
          "output_type": "execute_result",
          "data": {
            "text/plain": [
              "array([ True,  True, False, False, False])"
            ]
          },
          "metadata": {},
          "execution_count": 120
        }
      ],
      "source": [
        "v < 3   # v de 3den kucuk olanlari doner, True yada False doner."
      ]
    },
    {
      "cell_type": "code",
      "execution_count": 121,
      "metadata": {
        "colab": {
          "base_uri": "https://localhost:8080/"
        },
        "id": "FM1mRWsrsGS_",
        "outputId": "73af2473-2ef0-4cdb-bc24-70e30513928e"
      },
      "outputs": [
        {
          "output_type": "execute_result",
          "data": {
            "text/plain": [
              "array([ True,  True,  True, False, False])"
            ]
          },
          "metadata": {},
          "execution_count": 121
        }
      ],
      "source": [
        "v <= 3     # v de 3den kucku esit  olanlari doner, True yada False doner"
      ]
    },
    {
      "cell_type": "code",
      "execution_count": 122,
      "metadata": {
        "colab": {
          "base_uri": "https://localhost:8080/"
        },
        "id": "gVhPdHxcsGS_",
        "outputId": "775ed9a7-f68b-4f69-9fb1-0f6212012d92"
      },
      "outputs": [
        {
          "output_type": "execute_result",
          "data": {
            "text/plain": [
              "array([False, False,  True, False, False])"
            ]
          },
          "metadata": {},
          "execution_count": 122
        }
      ],
      "source": [
        "v == 3   # v de 3'e esit olanlari doner, True yada False doner"
      ]
    },
    {
      "cell_type": "code",
      "execution_count": 123,
      "metadata": {
        "colab": {
          "base_uri": "https://localhost:8080/"
        },
        "id": "mUaC47NfsGTA",
        "outputId": "ea36aebc-9d84-40fc-b959-b22b6d86fa31"
      },
      "outputs": [
        {
          "output_type": "execute_result",
          "data": {
            "text/plain": [
              "array([ True,  True, False,  True,  True])"
            ]
          },
          "metadata": {},
          "execution_count": 123
        }
      ],
      "source": [
        "v != 3    # v de 3 esit olmayanlari doner, True yada False doner"
      ]
    },
    {
      "cell_type": "code",
      "execution_count": 124,
      "metadata": {
        "colab": {
          "base_uri": "https://localhost:8080/"
        },
        "id": "kyOX93_osGTA",
        "outputId": "b899591d-c917-49ff-b838-f51dadf4b578"
      },
      "outputs": [
        {
          "output_type": "execute_result",
          "data": {
            "text/plain": [
              "array([ 2,  4,  6,  8, 10])"
            ]
          },
          "metadata": {},
          "execution_count": 124
        }
      ],
      "source": [
        "(2 * v)  # tum elemanlari 2 ile carpar"
      ]
    },
    {
      "cell_type": "code",
      "execution_count": 125,
      "metadata": {
        "colab": {
          "base_uri": "https://localhost:8080/"
        },
        "id": "9YQ05aK0sGTA",
        "outputId": "138e2ba2-49bf-43c4-9051-1f7b86dc268c"
      },
      "outputs": [
        {
          "output_type": "execute_result",
          "data": {
            "text/plain": [
              "array([ 1,  4,  9, 16, 25])"
            ]
          },
          "metadata": {},
          "execution_count": 125
        }
      ],
      "source": [
        "(v ** 2)   # tum elemanlarin karesini alir"
      ]
    },
    {
      "cell_type": "code",
      "execution_count": 126,
      "metadata": {
        "colab": {
          "base_uri": "https://localhost:8080/"
        },
        "id": "Rqxf8BH_sGTA",
        "outputId": "7721ed8b-87e4-4754-874c-4528f5fb6dfb"
      },
      "outputs": [
        {
          "output_type": "execute_result",
          "data": {
            "text/plain": [
              "array([False,  True, False, False, False])"
            ]
          },
          "metadata": {},
          "execution_count": 126
        }
      ],
      "source": [
        "(2 * v) == (v ** 2)  "
      ]
    },
    {
      "cell_type": "markdown",
      "metadata": {
        "id": "KrRZeCy1sGTA"
      },
      "source": [
        "#ufunc yani arkada donusum yaparak bu islemler yapilir"
      ]
    },
    {
      "cell_type": "markdown",
      "metadata": {
        "id": "vClnRgUSsGTA"
      },
      "source": [
        "- np.equal\n",
        "- np.not_equal\n",
        "- np.less\n",
        "- np.less_equal\n",
        "- np.greater\n",
        "- np.greater_equal"
      ]
    },
    {
      "cell_type": "code",
      "execution_count": 127,
      "metadata": {
        "colab": {
          "base_uri": "https://localhost:8080/"
        },
        "id": "09n0EElHsGTA",
        "outputId": "3a32e717-09bf-40b0-8dcc-3f2e19289d5c"
      },
      "outputs": [
        {
          "output_type": "execute_result",
          "data": {
            "text/plain": [
              "array([1, 2, 3, 4, 5])"
            ]
          },
          "metadata": {},
          "execution_count": 127
        }
      ],
      "source": [
        "v = np.array([1,2,3,4,5])\n",
        "v"
      ]
    },
    {
      "cell_type": "code",
      "execution_count": 128,
      "metadata": {
        "colab": {
          "base_uri": "https://localhost:8080/"
        },
        "id": "ynH-KuTSsGTA",
        "outputId": "64745a63-691e-4f30-85d6-5dc92bb3fef9"
      },
      "outputs": [
        {
          "output_type": "execute_result",
          "data": {
            "text/plain": [
              "array([False, False, False,  True, False])"
            ]
          },
          "metadata": {},
          "execution_count": 128
        }
      ],
      "source": [
        "np.equal(4,v)   # arka tarafta boyle bi fonksiyon calisir. ornek olsun diye yazdik"
      ]
    },
    {
      "cell_type": "code",
      "execution_count": 129,
      "metadata": {
        "colab": {
          "base_uri": "https://localhost:8080/"
        },
        "id": "iWr_V1n3sGTB",
        "outputId": "1a8bfe1e-94e6-4560-af4e-fe6f3bb519fb"
      },
      "outputs": [
        {
          "output_type": "execute_result",
          "data": {
            "text/plain": [
              "array([[6, 4, 3],\n",
              "       [1, 5, 1],\n",
              "       [6, 1, 3]])"
            ]
          },
          "metadata": {},
          "execution_count": 129
        }
      ],
      "source": [
        "v = np.random.randint(0, 10, (3, 3))\n",
        "v"
      ]
    },
    {
      "cell_type": "code",
      "execution_count": 130,
      "metadata": {
        "colab": {
          "base_uri": "https://localhost:8080/"
        },
        "id": "n3trXGwksGTB",
        "outputId": "05a1e240-27c0-425a-d32c-c6c227ea492d"
      },
      "outputs": [
        {
          "output_type": "execute_result",
          "data": {
            "text/plain": [
              "array([[ True, False, False],\n",
              "       [False, False, False],\n",
              "       [ True, False, False]])"
            ]
          },
          "metadata": {},
          "execution_count": 130
        }
      ],
      "source": [
        "v > 5   # 5den buyuk olanlari T F doner"
      ]
    },
    {
      "cell_type": "code",
      "execution_count": 131,
      "metadata": {
        "colab": {
          "base_uri": "https://localhost:8080/"
        },
        "id": "rxPj_Kx4sGTB",
        "outputId": "61ba3330-f7d9-48ff-a1cf-9e13300b04dc"
      },
      "outputs": [
        {
          "output_type": "execute_result",
          "data": {
            "text/plain": [
              "2"
            ]
          },
          "metadata": {},
          "execution_count": 131
        }
      ],
      "source": [
        "np.sum(v > 5)    # 5den buyuk donen T F larin kac tane True oldugunu toplayip soyler. Yani n kadar True var demek"
      ]
    },
    {
      "cell_type": "code",
      "execution_count": 132,
      "metadata": {
        "colab": {
          "base_uri": "https://localhost:8080/"
        },
        "id": "Y-VG0C6hsGTB",
        "outputId": "f8becb34-fe54-4c3b-9050-2afaafdf6e8f"
      },
      "outputs": [
        {
          "output_type": "execute_result",
          "data": {
            "text/plain": [
              "4"
            ]
          },
          "metadata": {},
          "execution_count": 132
        }
      ],
      "source": [
        "np.sum((v > 3) & (v < 7))     \n",
        "\n",
        "# 3den buyuk  've'  7 den kucuk kac True var. sadece True lari sayir !!! ( & = and anlamindadir)"
      ]
    },
    {
      "cell_type": "code",
      "execution_count": 133,
      "metadata": {
        "colab": {
          "base_uri": "https://localhost:8080/"
        },
        "id": "6j4rTyxZsGTB",
        "outputId": "c5b5493a-b6b4-44f4-b40b-e771316ad946"
      },
      "outputs": [
        {
          "output_type": "execute_result",
          "data": {
            "text/plain": [
              "array([[ True,  True, False],\n",
              "       [False,  True, False],\n",
              "       [ True, False, False]])"
            ]
          },
          "metadata": {},
          "execution_count": 133
        }
      ],
      "source": [
        "(v > 3) & (v < 7)      "
      ]
    },
    {
      "cell_type": "code",
      "execution_count": 134,
      "metadata": {
        "colab": {
          "base_uri": "https://localhost:8080/"
        },
        "id": "tphhFZwnsGTB",
        "outputId": "f96b7587-343a-4d05-cb9f-0b3e3584a4dc"
      },
      "outputs": [
        {
          "output_type": "execute_result",
          "data": {
            "text/plain": [
              "9"
            ]
          },
          "metadata": {},
          "execution_count": 134
        }
      ],
      "source": [
        "np.sum((v > 3) | (v < 7))    \n",
        "\n",
        "# 3den buyuk \"veya\" 7 den kucuk kac True var. sadece True lari sayar !!! ( | = or anlamindadir )"
      ]
    },
    {
      "cell_type": "code",
      "execution_count": 135,
      "metadata": {
        "colab": {
          "base_uri": "https://localhost:8080/"
        },
        "id": "ttSE9y1-sGTB",
        "outputId": "276a1dea-4c5a-49da-dffd-a55c084d1d51"
      },
      "outputs": [
        {
          "output_type": "execute_result",
          "data": {
            "text/plain": [
              "array([[8, 4, 3],\n",
              "       [2, 6, 1],\n",
              "       [4, 1, 9]])"
            ]
          },
          "metadata": {},
          "execution_count": 135
        }
      ],
      "source": [
        "v = np.random.randint(0, 10, (3, 3))\n",
        "v"
      ]
    },
    {
      "cell_type": "code",
      "execution_count": 136,
      "metadata": {
        "colab": {
          "base_uri": "https://localhost:8080/"
        },
        "id": "RKqmDEclsGTC",
        "outputId": "b2ae4a22-787e-4767-d35f-dfa19be7ea64"
      },
      "outputs": [
        {
          "output_type": "execute_result",
          "data": {
            "text/plain": [
              "array([1, 1, 1])"
            ]
          },
          "metadata": {},
          "execution_count": 136
        }
      ],
      "source": [
        "np.sum(v > 4, axis = 1)      \n",
        "\n",
        "# sadece satirlardaki 4 den buyuk olanlari doner ve toplar. yani her satirda kac tane bu kosulu saglayan deger var bunun sayisini verir.\n",
        "# degerin kendisini vermez. "
      ]
    },
    {
      "cell_type": "code",
      "execution_count": 137,
      "metadata": {
        "colab": {
          "base_uri": "https://localhost:8080/"
        },
        "id": "yuFrSKg2sGTC",
        "outputId": "520174d9-d4f2-40fd-c762-5858cc9b5b5e"
      },
      "outputs": [
        {
          "output_type": "execute_result",
          "data": {
            "text/plain": [
              "array([1, 1, 1])"
            ]
          },
          "metadata": {},
          "execution_count": 137
        }
      ],
      "source": [
        "np.sum(v > 4, axis = 0)  \n",
        "\n",
        "# sadece sutunlarda 4 den buyuk olanlari doner ve toplar. yani her satirda kac tane bu kosulu saglayan deger var bunun sayisini verir.\n",
        "# degerin kendisini vermez. "
      ]
    },
    {
      "cell_type": "code",
      "execution_count": 138,
      "metadata": {
        "colab": {
          "base_uri": "https://localhost:8080/"
        },
        "id": "dfYZ7HzZsGTC",
        "outputId": "b0ec6eb7-fb7d-41e1-d386-ee33f5505c6e"
      },
      "outputs": [
        {
          "output_type": "execute_result",
          "data": {
            "text/plain": [
              "False"
            ]
          },
          "metadata": {},
          "execution_count": 138
        }
      ],
      "source": [
        "np.all(v > 4)  # verideki tum elemanlarin  4 den buyuk olup olmadigini sorgular, hepsi 4 den buyukse TRUE FALSE doner"
      ]
    },
    {
      "cell_type": "code",
      "execution_count": 139,
      "metadata": {
        "colab": {
          "base_uri": "https://localhost:8080/"
        },
        "id": "C1Y0YdH_sGTC",
        "outputId": "dd844761-d01d-497b-ca82-9a050f4d7fb9"
      },
      "outputs": [
        {
          "output_type": "execute_result",
          "data": {
            "text/plain": [
              "True"
            ]
          },
          "metadata": {},
          "execution_count": 139
        }
      ],
      "source": [
        "np.all(v > -1)   # verideki tum elemanlarin  4 den buyuk olup olmadigini sorgular, hepsi 4 den buyukse TRUE FALSE doner"
      ]
    },
    {
      "cell_type": "code",
      "execution_count": 140,
      "metadata": {
        "colab": {
          "base_uri": "https://localhost:8080/"
        },
        "id": "8Cdf1K0msGTC",
        "outputId": "dc2f2feb-492c-49cd-aa53-340fbb02279d"
      },
      "outputs": [
        {
          "output_type": "execute_result",
          "data": {
            "text/plain": [
              "True"
            ]
          },
          "metadata": {},
          "execution_count": 140
        }
      ],
      "source": [
        "np.any(v == 4)  \n",
        "\n",
        "# veride en az bir tane  4 den buyuk eleman olup olup olmadigini sorgular, \n",
        "#en az bir tane varsa TRUE FALSE doner"
      ]
    },
    {
      "cell_type": "code",
      "execution_count": 141,
      "metadata": {
        "colab": {
          "base_uri": "https://localhost:8080/"
        },
        "id": "Zkl6bijwsGTC",
        "outputId": "aa29cb92-006c-4f4a-fefa-b6a1d87b75d4"
      },
      "outputs": [
        {
          "output_type": "execute_result",
          "data": {
            "text/plain": [
              "array([False, False, False])"
            ]
          },
          "metadata": {},
          "execution_count": 141
        }
      ],
      "source": [
        "np.all(v > 4, axis = 0)    # sadece sutun bazinda 4 den buyuk eleman olup olmadigini sorgular. hepsi 4den buyukse True doner"
      ]
    },
    {
      "cell_type": "code",
      "execution_count": 142,
      "metadata": {
        "colab": {
          "base_uri": "https://localhost:8080/"
        },
        "id": "hBm_mqL5sGTD",
        "outputId": "f1f439f3-e60d-4186-b45a-f4464c9d2374"
      },
      "outputs": [
        {
          "output_type": "execute_result",
          "data": {
            "text/plain": [
              "array([False, False, False])"
            ]
          },
          "metadata": {},
          "execution_count": 142
        }
      ],
      "source": [
        "np.all(v > 4, axis = 1)    # sadece satir bazinda 4 den buyuk eleman olup olmadigini sorgular. hepsi 4den buyukse True doner"
      ]
    },
    {
      "cell_type": "markdown",
      "metadata": {
        "id": "D8rH5odHsGTD"
      },
      "source": [
        "# NumPy Hesaplamalı İşlemler"
      ]
    },
    {
      "cell_type": "code",
      "execution_count": 143,
      "metadata": {
        "colab": {
          "base_uri": "https://localhost:8080/"
        },
        "id": "Qx-Etz7esGTD",
        "outputId": "b7dbcfb0-fa68-4699-8fd2-9b5b34a7682f"
      },
      "outputs": [
        {
          "output_type": "execute_result",
          "data": {
            "text/plain": [
              "array([0, 1, 2, 3, 4])"
            ]
          },
          "metadata": {},
          "execution_count": 143
        }
      ],
      "source": [
        "a = np.arange(5)\n",
        "a"
      ]
    },
    {
      "cell_type": "code",
      "execution_count": 144,
      "metadata": {
        "colab": {
          "base_uri": "https://localhost:8080/"
        },
        "id": "HVLe39jusGTD",
        "outputId": "63dcb177-bc3a-4c23-bf4b-4b2bbbd4b67d"
      },
      "outputs": [
        {
          "output_type": "execute_result",
          "data": {
            "text/plain": [
              "array([-1,  0,  1,  2,  3])"
            ]
          },
          "metadata": {},
          "execution_count": 144
        }
      ],
      "source": [
        "a - 1   # a daki elemanlarin hepsinden 1 cikarir, "
      ]
    },
    {
      "cell_type": "code",
      "execution_count": 145,
      "metadata": {
        "colab": {
          "base_uri": "https://localhost:8080/"
        },
        "id": "eQlFcOwTsGTD",
        "outputId": "9bafb25a-6350-4cef-c6e3-e18e2b523eaa"
      },
      "outputs": [
        {
          "output_type": "execute_result",
          "data": {
            "text/plain": [
              "array([0. , 0.5, 1. , 1.5, 2. ])"
            ]
          },
          "metadata": {},
          "execution_count": 145
        }
      ],
      "source": [
        "a / 2   # a daki elemanlarin hepsini 2 ye boler, "
      ]
    },
    {
      "cell_type": "code",
      "execution_count": 146,
      "metadata": {
        "colab": {
          "base_uri": "https://localhost:8080/"
        },
        "id": "WQpuaAMrsGTD",
        "outputId": "8a4fd1e3-bc91-4338-f0a3-e69dd151eb73"
      },
      "outputs": [
        {
          "output_type": "execute_result",
          "data": {
            "text/plain": [
              "array([ 0,  5, 10, 15, 20])"
            ]
          },
          "metadata": {},
          "execution_count": 146
        }
      ],
      "source": [
        "a * 5   # a daki elemanlarin hepsini 5 ile carpar, "
      ]
    },
    {
      "cell_type": "code",
      "execution_count": 147,
      "metadata": {
        "colab": {
          "base_uri": "https://localhost:8080/"
        },
        "id": "8bgyqtwEsGTD",
        "outputId": "93d43e70-2d07-414c-aaa2-ba41e837beab"
      },
      "outputs": [
        {
          "output_type": "execute_result",
          "data": {
            "text/plain": [
              "array([ 0,  1,  4,  9, 16])"
            ]
          },
          "metadata": {},
          "execution_count": 147
        }
      ],
      "source": [
        "a ** 2   # a daki elemanlarin hepsinin karesini alir, "
      ]
    },
    {
      "cell_type": "code",
      "execution_count": 148,
      "metadata": {
        "colab": {
          "base_uri": "https://localhost:8080/"
        },
        "id": "1wJwtQmLsGTD",
        "outputId": "792f56f1-06f5-4ddd-8764-f0845a372a42"
      },
      "outputs": [
        {
          "output_type": "execute_result",
          "data": {
            "text/plain": [
              "array([0, 1, 0, 1, 0])"
            ]
          },
          "metadata": {},
          "execution_count": 148
        }
      ],
      "source": [
        "a % 2    # a daki elemanlarin hepsinden 2 ye bolumunden kalanlari soyler, "
      ]
    },
    {
      "cell_type": "markdown",
      "metadata": {
        "id": "3eKlnkIXsGTE"
      },
      "source": [
        "### matematiksel islemleri fonksiyonlarla yapalim"
      ]
    },
    {
      "cell_type": "code",
      "execution_count": 149,
      "metadata": {
        "colab": {
          "base_uri": "https://localhost:8080/"
        },
        "id": "ALuibPRXsGTE",
        "outputId": "4b37c0ff-916c-4561-e92e-2648558f33f3"
      },
      "outputs": [
        {
          "output_type": "execute_result",
          "data": {
            "text/plain": [
              "array([2, 3, 4, 5, 6])"
            ]
          },
          "metadata": {},
          "execution_count": 149
        }
      ],
      "source": [
        "np.add(a,2) #toplama"
      ]
    },
    {
      "cell_type": "code",
      "execution_count": 150,
      "metadata": {
        "colab": {
          "base_uri": "https://localhost:8080/"
        },
        "id": "Ky7I73M2sGTE",
        "outputId": "596ec48b-9eac-4eb4-8063-1d2907cabdf3"
      },
      "outputs": [
        {
          "output_type": "execute_result",
          "data": {
            "text/plain": [
              "array([-1,  0,  1,  2,  3])"
            ]
          },
          "metadata": {},
          "execution_count": 150
        }
      ],
      "source": [
        "np.subtract(a,1)  #cikarma"
      ]
    },
    {
      "cell_type": "code",
      "execution_count": 151,
      "metadata": {
        "colab": {
          "base_uri": "https://localhost:8080/"
        },
        "id": "sQKAklT_sGTE",
        "outputId": "2f70bdcc-c2ca-47ca-9fbd-b5866c82c191"
      },
      "outputs": [
        {
          "output_type": "execute_result",
          "data": {
            "text/plain": [
              "array([ 0,  3,  6,  9, 12])"
            ]
          },
          "metadata": {},
          "execution_count": 151
        }
      ],
      "source": [
        "np.multiply(a,3)   #carpma"
      ]
    },
    {
      "cell_type": "code",
      "execution_count": 152,
      "metadata": {
        "colab": {
          "base_uri": "https://localhost:8080/"
        },
        "id": "TgPela1osGTE",
        "outputId": "82707c80-1035-4d62-cdd8-8102dd0bb8f9"
      },
      "outputs": [
        {
          "output_type": "execute_result",
          "data": {
            "text/plain": [
              "array([0.        , 0.33333333, 0.66666667, 1.        , 1.33333333])"
            ]
          },
          "metadata": {},
          "execution_count": 152
        }
      ],
      "source": [
        "np.divide(a,3)    # bolme"
      ]
    },
    {
      "cell_type": "code",
      "execution_count": 153,
      "metadata": {
        "colab": {
          "base_uri": "https://localhost:8080/"
        },
        "id": "ItgdUDmPsGTE",
        "outputId": "29ab209d-4302-4d6d-f020-7843bf9f137b"
      },
      "outputs": [
        {
          "output_type": "execute_result",
          "data": {
            "text/plain": [
              "array([ 0,  1,  8, 27, 64])"
            ]
          },
          "metadata": {},
          "execution_count": 153
        }
      ],
      "source": [
        "np.power(a,3)   # karesini alir"
      ]
    },
    {
      "cell_type": "code",
      "execution_count": 154,
      "metadata": {
        "colab": {
          "base_uri": "https://localhost:8080/"
        },
        "id": "zcjYUgD8sGTE",
        "outputId": "5f6393bb-5adf-4aba-9bc8-ebe17bfe2c70"
      },
      "outputs": [
        {
          "output_type": "execute_result",
          "data": {
            "text/plain": [
              "array([1, 2, 3, 4, 5])"
            ]
          },
          "metadata": {},
          "execution_count": 154
        }
      ],
      "source": [
        "a = np.arange(1,6)\n",
        "a"
      ]
    },
    {
      "cell_type": "code",
      "execution_count": 155,
      "metadata": {
        "colab": {
          "base_uri": "https://localhost:8080/"
        },
        "id": "to_sKNGysGTF",
        "outputId": "7005a8c2-618d-4307-8687-3e3820801b56"
      },
      "outputs": [
        {
          "output_type": "execute_result",
          "data": {
            "text/plain": [
              "15"
            ]
          },
          "metadata": {},
          "execution_count": 155
        }
      ],
      "source": [
        "np.add.reduce(a)   # tum degerleri birbiri ile toplar sum dan farki?"
      ]
    },
    {
      "cell_type": "code",
      "execution_count": 156,
      "metadata": {
        "colab": {
          "base_uri": "https://localhost:8080/"
        },
        "id": "XkgOaYuHsGTF",
        "outputId": "a378fdef-6682-4e1f-8f2e-ce89cf2170fe"
      },
      "outputs": [
        {
          "output_type": "execute_result",
          "data": {
            "text/plain": [
              "15"
            ]
          },
          "metadata": {},
          "execution_count": 156
        }
      ],
      "source": [
        "np.sum(a)"
      ]
    },
    {
      "cell_type": "code",
      "execution_count": 157,
      "metadata": {
        "colab": {
          "base_uri": "https://localhost:8080/"
        },
        "id": "ZCVB32-XsGTF",
        "outputId": "f5f01a05-96f3-40ae-ff59-191d82e837a9"
      },
      "outputs": [
        {
          "output_type": "execute_result",
          "data": {
            "text/plain": [
              "array([ 1,  3,  6, 10, 15])"
            ]
          },
          "metadata": {},
          "execution_count": 157
        }
      ],
      "source": [
        "np.add.accumulate(a)   \n",
        "\n",
        "# tum degerleri birbiri ile toplar asamalari da gosterir. carma bolme ve digerleri icinde ayni islemler yapilabilir"
      ]
    },
    {
      "cell_type": "code",
      "execution_count": 158,
      "metadata": {
        "colab": {
          "base_uri": "https://localhost:8080/"
        },
        "id": "FNTi22WzsGTF",
        "outputId": "83e6f316-4bfe-4c75-d3e4-d5e0406053d7"
      },
      "outputs": [
        {
          "output_type": "execute_result",
          "data": {
            "text/plain": [
              "array([ 11.94021547, -11.77093636,  -3.76655309,   6.82536532,\n",
              "        15.57692134,  12.12393891,  22.76648343,  12.95685414,\n",
              "        14.80376432,   2.91820563,   4.85903762,  12.53091849,\n",
              "        23.54076382,  15.39995084,   1.39253017,  -1.1440338 ,\n",
              "       -21.49939276, -14.21236957,   1.85754465,   0.80781352,\n",
              "        37.83786659,  19.97340547,  -0.65439759,  -3.13303454,\n",
              "         5.53126978,  15.72813798, -13.03775721,  15.58050347,\n",
              "       -14.97540787,  14.03169619])"
            ]
          },
          "metadata": {},
          "execution_count": 158
        }
      ],
      "source": [
        "a = np.random.normal(5, 10, 30)\n",
        "a"
      ]
    },
    {
      "cell_type": "code",
      "execution_count": 159,
      "metadata": {
        "colab": {
          "base_uri": "https://localhost:8080/"
        },
        "id": "CXOCWrHzsGTF",
        "outputId": "adcae011-0edb-46ba-dde0-835bc65c9749"
      },
      "outputs": [
        {
          "output_type": "execute_result",
          "data": {
            "text/plain": [
              "6.159643479898899"
            ]
          },
          "metadata": {},
          "execution_count": 159
        }
      ],
      "source": [
        "np.mean(a)   # a nin ortalamasini verir"
      ]
    },
    {
      "cell_type": "code",
      "execution_count": 160,
      "metadata": {
        "colab": {
          "base_uri": "https://localhost:8080/"
        },
        "id": "sYlJUPtQsGTF",
        "outputId": "f173b283-5373-4b87-fa42-d630a1853c12"
      },
      "outputs": [
        {
          "output_type": "execute_result",
          "data": {
            "text/plain": [
              "13.0427733817622"
            ]
          },
          "metadata": {},
          "execution_count": 160
        }
      ],
      "source": [
        "np.std(a)   # a nin standart sapmasini verir"
      ]
    },
    {
      "cell_type": "code",
      "execution_count": 161,
      "metadata": {
        "colab": {
          "base_uri": "https://localhost:8080/"
        },
        "id": "MHjphxMgsGTF",
        "outputId": "ed9d854c-bed6-43a9-c514-58f8ef69f247"
      },
      "outputs": [
        {
          "output_type": "execute_result",
          "data": {
            "text/plain": [
              "170.11393748800455"
            ]
          },
          "metadata": {},
          "execution_count": 161
        }
      ],
      "source": [
        "np.var(a)   # a nin varyansini verir"
      ]
    },
    {
      "cell_type": "code",
      "execution_count": 162,
      "metadata": {
        "colab": {
          "base_uri": "https://localhost:8080/"
        },
        "id": "WWybpJovsGTF",
        "outputId": "c7dd8b85-0f4d-49eb-ba96-daa160d0d089"
      },
      "outputs": [
        {
          "output_type": "execute_result",
          "data": {
            "text/plain": [
              "6.178317550111286"
            ]
          },
          "metadata": {},
          "execution_count": 162
        }
      ],
      "source": [
        "np.median(a)  # a nin median degerini verir. en orta deger"
      ]
    },
    {
      "cell_type": "code",
      "execution_count": 163,
      "metadata": {
        "colab": {
          "base_uri": "https://localhost:8080/"
        },
        "id": "hu1NWWU4sGTF",
        "outputId": "bd8b3557-78ba-43c9-9e7e-1a2989f321c1"
      },
      "outputs": [
        {
          "output_type": "execute_result",
          "data": {
            "text/plain": [
              "184.78930439696694"
            ]
          },
          "metadata": {},
          "execution_count": 163
        }
      ],
      "source": [
        "sum(a)  # normal sekilde toplama yaptik"
      ]
    },
    {
      "cell_type": "code",
      "execution_count": 164,
      "metadata": {
        "colab": {
          "base_uri": "https://localhost:8080/"
        },
        "id": "Uut8V9wgsGTF",
        "outputId": "2b749815-76cd-45d2-ede3-3fbd946da113"
      },
      "outputs": [
        {
          "output_type": "execute_result",
          "data": {
            "text/plain": [
              "-21.49939275753372"
            ]
          },
          "metadata": {},
          "execution_count": 164
        }
      ],
      "source": [
        "np.min(a)   # en kucuk deger tek boyutlu"
      ]
    },
    {
      "cell_type": "code",
      "execution_count": 165,
      "metadata": {
        "colab": {
          "base_uri": "https://localhost:8080/"
        },
        "id": "mDWw2A9RsGTG",
        "outputId": "f7f20ff2-b97d-42ab-ff32-bad85bcf8395"
      },
      "outputs": [
        {
          "output_type": "execute_result",
          "data": {
            "text/plain": [
              "37.83786659269721"
            ]
          },
          "metadata": {},
          "execution_count": 165
        }
      ],
      "source": [
        "np.max(a) # en buyuk deger tek boyutlu"
      ]
    },
    {
      "cell_type": "code",
      "execution_count": 166,
      "metadata": {
        "colab": {
          "base_uri": "https://localhost:8080/"
        },
        "id": "cTFR5MzCsGTG",
        "outputId": "5fd2b4bd-5e4d-42f4-eeba-dfc9cba4cf12"
      },
      "outputs": [
        {
          "output_type": "execute_result",
          "data": {
            "text/plain": [
              "array([[ 1.17298477,  2.12990797, -0.76391553],\n",
              "       [ 1.38192669,  0.43308211,  0.8101313 ],\n",
              "       [-0.43581283, -0.1697933 ,  0.03907255]])"
            ]
          },
          "metadata": {},
          "execution_count": 166
        }
      ],
      "source": [
        "a = np.random.normal(0, 1, (3,3))\n",
        "a"
      ]
    },
    {
      "cell_type": "code",
      "execution_count": 167,
      "metadata": {
        "colab": {
          "base_uri": "https://localhost:8080/"
        },
        "id": "qk31wuBPsGTG",
        "outputId": "f4a27ad9-a3a0-4759-f7c3-6c4373aac959"
      },
      "outputs": [
        {
          "output_type": "execute_result",
          "data": {
            "text/plain": [
              "4.5975837219854565"
            ]
          },
          "metadata": {},
          "execution_count": 167
        }
      ],
      "source": [
        "a.sum()   # a yi toplar"
      ]
    },
    {
      "cell_type": "code",
      "execution_count": 168,
      "metadata": {
        "colab": {
          "base_uri": "https://localhost:8080/"
        },
        "id": "VGJJCdupsGTG",
        "outputId": "9de03f54-7404-42e3-e082-fa3b1614870a"
      },
      "outputs": [
        {
          "output_type": "execute_result",
          "data": {
            "text/plain": [
              "array([ 2.53897721,  2.62514009, -0.56653358])"
            ]
          },
          "metadata": {},
          "execution_count": 168
        }
      ],
      "source": [
        "a.sum(axis = 1)   # satir bazinda toplama yapar"
      ]
    },
    {
      "cell_type": "code",
      "execution_count": 169,
      "metadata": {
        "colab": {
          "base_uri": "https://localhost:8080/"
        },
        "id": "uByRvItBsGTG",
        "outputId": "31e668d6-7e95-42d3-a80f-2646269841f2"
      },
      "outputs": [
        {
          "output_type": "execute_result",
          "data": {
            "text/plain": [
              "array([2.11909862, 2.39319679, 0.08528831])"
            ]
          },
          "metadata": {},
          "execution_count": 169
        }
      ],
      "source": [
        "a.sum(axis = 0)   # sutun bazinda toplama yapar"
      ]
    },
    {
      "cell_type": "markdown",
      "metadata": {
        "id": "IPZNzyLWs0U9"
      },
      "source": [
        "# Pandas Series\n",
        "- Pandas serileri kolon(değişken) ismi almayan ve indexlenen veriler barındırır.\n",
        "- Pandas seriler tek boyutludur"
      ]
    },
    {
      "cell_type": "markdown",
      "metadata": {
        "id": "61XM7NH9s0VB"
      },
      "source": [
        "### Pandas Seri Oluşturma Yöntemleri"
      ]
    },
    {
      "cell_type": "code",
      "execution_count": 170,
      "metadata": {
        "id": "SmeLorqWs0VD"
      },
      "outputs": [],
      "source": [
        "import numpy as np\n",
        "import pandas as pd"
      ]
    },
    {
      "cell_type": "code",
      "execution_count": 171,
      "metadata": {
        "id": "n8vfFjOMs0VF",
        "colab": {
          "base_uri": "https://localhost:8080/"
        },
        "outputId": "25602af7-3aee-44d1-b571-1def1be3bf87"
      },
      "outputs": [
        {
          "output_type": "execute_result",
          "data": {
            "text/plain": [
              "0    10\n",
              "1    20\n",
              "2    30\n",
              "3    40\n",
              "dtype: int64"
            ]
          },
          "metadata": {},
          "execution_count": 171
        }
      ],
      "source": [
        "seri1 = pd.Series([10,20,30,40])  \n",
        "seri1"
      ]
    },
    {
      "cell_type": "code",
      "execution_count": 172,
      "metadata": {
        "id": "KNHlSgfVs0VJ",
        "colab": {
          "base_uri": "https://localhost:8080/"
        },
        "outputId": "bc3edee2-2b9a-4274-96a5-eda670a63d7a"
      },
      "outputs": [
        {
          "output_type": "execute_result",
          "data": {
            "text/plain": [
              "0     Ahmet\n",
              "1    Mehmet\n",
              "2         3\n",
              "3       4.6\n",
              "4      None\n",
              "5          \n",
              "dtype: object"
            ]
          },
          "metadata": {},
          "execution_count": 172
        }
      ],
      "source": [
        "seri2 = pd.Series([\"Ahmet\",\"Mehmet\",3, 4.6, None, \" \"])  # farkli veri tiplrerini barindirabilir. \n",
        "seri2"
      ]
    },
    {
      "cell_type": "code",
      "execution_count": 173,
      "metadata": {
        "id": "hgFptrGzs0VM",
        "colab": {
          "base_uri": "https://localhost:8080/"
        },
        "outputId": "a8963474-7d35-4e04-f9b0-903c957a799a"
      },
      "outputs": [
        {
          "output_type": "execute_result",
          "data": {
            "text/plain": [
              "1     1.0\n",
              "3     5.0\n",
              "5     0.9\n",
              "7    34.0\n",
              "dtype: float64"
            ]
          },
          "metadata": {},
          "execution_count": 173
        }
      ],
      "source": [
        "seri3 = pd.Series([1,5,0.9,34],index = (1,3,5,7))    \n",
        "seri3"
      ]
    },
    {
      "cell_type": "code",
      "execution_count": 174,
      "metadata": {
        "id": "TF-Zv6Mbs0VP",
        "colab": {
          "base_uri": "https://localhost:8080/"
        },
        "outputId": "cdae9ac1-86d6-4d90-9ef6-0c072bb60588"
      },
      "outputs": [
        {
          "output_type": "execute_result",
          "data": {
            "text/plain": [
              "a     1.0\n",
              "a     5.0\n",
              "a     0.9\n",
              "d    34.0\n",
              "dtype: float64"
            ]
          },
          "metadata": {},
          "execution_count": 174
        }
      ],
      "source": [
        "seri4 = pd.Series([1,5,0.9,34], index = ('a','a','a','d'))    # str olarak da index belirleyebiliriz\n",
        "seri4"
      ]
    },
    {
      "cell_type": "code",
      "execution_count": 175,
      "metadata": {
        "id": "Pm3jl1lKs0VR",
        "colab": {
          "base_uri": "https://localhost:8080/"
        },
        "outputId": "6539c3ed-b77f-496c-cab1-a868eb3541a3"
      },
      "outputs": [
        {
          "output_type": "execute_result",
          "data": {
            "text/plain": [
              "{'ahmet': 1000, 'ayse': 4500, 'mehmet': 2500}"
            ]
          },
          "metadata": {},
          "execution_count": 175
        }
      ],
      "source": [
        "sozluk = { \"ahmet\" : 1000, \"mehmet\" : 2500, \"ayse\" : 4500}    #sozluk uzerinden index atayacagiz.\n",
        "sozluk"
      ]
    },
    {
      "cell_type": "code",
      "execution_count": 176,
      "metadata": {
        "id": "GV0Qv3f-s0VR",
        "colab": {
          "base_uri": "https://localhost:8080/"
        },
        "outputId": "c23e0dda-913f-4652-ecbc-d374ca990d7f"
      },
      "outputs": [
        {
          "output_type": "execute_result",
          "data": {
            "text/plain": [
              "ahmet     1000\n",
              "mehmet    2500\n",
              "ayse      4500\n",
              "dtype: int64"
            ]
          },
          "metadata": {},
          "execution_count": 176
        }
      ],
      "source": [
        "seri5 = pd.Series(sozluk)  #sozlugu seriye cevirdik\n",
        "seri5"
      ]
    },
    {
      "cell_type": "code",
      "execution_count": 177,
      "metadata": {
        "id": "5ix9vSdws0VT",
        "colab": {
          "base_uri": "https://localhost:8080/"
        },
        "outputId": "f36c9879-a8e0-4ce3-d19d-7d991631c573"
      },
      "outputs": [
        {
          "output_type": "execute_result",
          "data": {
            "text/plain": [
              "array([  1,   2,   3, 566,  88])"
            ]
          },
          "metadata": {},
          "execution_count": 177
        }
      ],
      "source": [
        "npa = np.array([1,2,3,566,88])     # array ile seri olusturduk\n",
        "npa"
      ]
    },
    {
      "cell_type": "code",
      "execution_count": 178,
      "metadata": {
        "id": "nLLQlwTss0VU",
        "colab": {
          "base_uri": "https://localhost:8080/"
        },
        "outputId": "edfbbd36-932a-4091-beaa-8f62b6fc6de5"
      },
      "outputs": [
        {
          "output_type": "execute_result",
          "data": {
            "text/plain": [
              "0      1\n",
              "1      2\n",
              "2      3\n",
              "3    566\n",
              "4     88\n",
              "dtype: int64"
            ]
          },
          "metadata": {},
          "execution_count": 178
        }
      ],
      "source": [
        "seri6 = pd.Series(npa)    #arrayi pandas serisine cevirdik\n",
        "seri6"
      ]
    },
    {
      "cell_type": "markdown",
      "metadata": {
        "id": "HwbgU6FBs0VV"
      },
      "source": [
        "#### type, data type, index, shape sorgulama"
      ]
    },
    {
      "cell_type": "code",
      "execution_count": 179,
      "metadata": {
        "id": "-UfXT5Tys0VV",
        "colab": {
          "base_uri": "https://localhost:8080/"
        },
        "outputId": "de8f5366-805a-4b0e-b841-889a03182cee"
      },
      "outputs": [
        {
          "output_type": "execute_result",
          "data": {
            "text/plain": [
              "0      1\n",
              "1      2\n",
              "2      3\n",
              "3    566\n",
              "4     88\n",
              "dtype: int64"
            ]
          },
          "metadata": {},
          "execution_count": 179
        }
      ],
      "source": [
        "seri6"
      ]
    },
    {
      "cell_type": "code",
      "execution_count": 180,
      "metadata": {
        "id": "P4ZyeyAGs0VW",
        "colab": {
          "base_uri": "https://localhost:8080/"
        },
        "outputId": "63dcfdad-c3c1-46ca-d545-e993e6c6c7ee"
      },
      "outputs": [
        {
          "output_type": "execute_result",
          "data": {
            "text/plain": [
              "pandas.core.series.Series"
            ]
          },
          "metadata": {},
          "execution_count": 180
        }
      ],
      "source": [
        "type(seri6)"
      ]
    },
    {
      "cell_type": "code",
      "execution_count": 181,
      "metadata": {
        "id": "4pD7AT_fs0VW",
        "colab": {
          "base_uri": "https://localhost:8080/"
        },
        "outputId": "cd168140-bdf2-473e-c0f0-a35583836a5f"
      },
      "outputs": [
        {
          "output_type": "execute_result",
          "data": {
            "text/plain": [
              "ahmet     1000\n",
              "mehmet    2500\n",
              "ayse      4500\n",
              "dtype: int64"
            ]
          },
          "metadata": {},
          "execution_count": 181
        }
      ],
      "source": [
        "seri5"
      ]
    },
    {
      "cell_type": "code",
      "execution_count": 182,
      "metadata": {
        "id": "i7bgxkWbs0VW",
        "colab": {
          "base_uri": "https://localhost:8080/"
        },
        "outputId": "d52ea93f-be3b-46d6-d7af-b894b17c33a6"
      },
      "outputs": [
        {
          "output_type": "execute_result",
          "data": {
            "text/plain": [
              "[Index(['ahmet', 'mehmet', 'ayse'], dtype='object')]"
            ]
          },
          "metadata": {},
          "execution_count": 182
        }
      ],
      "source": [
        "seri5.axes    #index hakkinda bilgi  verir"
      ]
    },
    {
      "cell_type": "code",
      "execution_count": 183,
      "metadata": {
        "id": "oRf9Okn-s0VW",
        "colab": {
          "base_uri": "https://localhost:8080/"
        },
        "outputId": "29b31e59-c26e-468d-800b-b4e10ad79e1d"
      },
      "outputs": [
        {
          "output_type": "execute_result",
          "data": {
            "text/plain": [
              "Index(['ahmet', 'mehmet', 'ayse'], dtype='object')"
            ]
          },
          "metadata": {},
          "execution_count": 183
        }
      ],
      "source": [
        "seri5.index #index hakkinda bilgi  verir axes ile ayni isi yapar"
      ]
    },
    {
      "cell_type": "code",
      "execution_count": 184,
      "metadata": {
        "id": "RRtm-7lis0VX",
        "colab": {
          "base_uri": "https://localhost:8080/"
        },
        "outputId": "690bbafe-1327-4222-a183-0927ff55d11e"
      },
      "outputs": [
        {
          "output_type": "execute_result",
          "data": {
            "text/plain": [
              "0     Ahmet\n",
              "1    Mehmet\n",
              "2         3\n",
              "3       4.6\n",
              "4      None\n",
              "5          \n",
              "dtype: object"
            ]
          },
          "metadata": {},
          "execution_count": 184
        }
      ],
      "source": [
        "seri2"
      ]
    },
    {
      "cell_type": "code",
      "execution_count": 185,
      "metadata": {
        "id": "mCF6gTtds0VX",
        "colab": {
          "base_uri": "https://localhost:8080/"
        },
        "outputId": "95fe7a89-c7de-4e8b-c6d5-d824d656b41c"
      },
      "outputs": [
        {
          "output_type": "execute_result",
          "data": {
            "text/plain": [
              "dtype('O')"
            ]
          },
          "metadata": {},
          "execution_count": 185
        }
      ],
      "source": [
        "seri2.dtype   #veri tipi hakkinda bilgi verir"
      ]
    },
    {
      "cell_type": "code",
      "execution_count": 186,
      "metadata": {
        "id": "RkdR8ZMvs0VX",
        "colab": {
          "base_uri": "https://localhost:8080/"
        },
        "outputId": "288ce278-b5ca-423d-d007-4ca301b51b7c"
      },
      "outputs": [
        {
          "output_type": "execute_result",
          "data": {
            "text/plain": [
              "dtype('int64')"
            ]
          },
          "metadata": {},
          "execution_count": 186
        }
      ],
      "source": [
        "seri5.dtype "
      ]
    },
    {
      "cell_type": "markdown",
      "metadata": {
        "id": "eICrvb9Ls0VY"
      },
      "source": [
        "#### serideki verilere erişim"
      ]
    },
    {
      "cell_type": "code",
      "execution_count": 187,
      "metadata": {
        "id": "VWoXysXGs0VY",
        "colab": {
          "base_uri": "https://localhost:8080/"
        },
        "outputId": "d05c10b1-dd02-482c-b966-e38ec4896283"
      },
      "outputs": [
        {
          "output_type": "execute_result",
          "data": {
            "text/plain": [
              "a     1.0\n",
              "b     5.0\n",
              "c     0.9\n",
              "d    34.0\n",
              "dtype: float64"
            ]
          },
          "metadata": {},
          "execution_count": 187
        }
      ],
      "source": [
        "seri = pd.Series([1,5,0.9,34], index = ('a','b','c','d'))\n",
        "seri"
      ]
    },
    {
      "cell_type": "code",
      "execution_count": 188,
      "metadata": {
        "id": "Cjq8e59ls0VY",
        "colab": {
          "base_uri": "https://localhost:8080/"
        },
        "outputId": "8799e944-a51e-4b53-a996-f5eff92bd157"
      },
      "outputs": [
        {
          "output_type": "execute_result",
          "data": {
            "text/plain": [
              "(0.9, 34.0)"
            ]
          },
          "metadata": {},
          "execution_count": 188
        }
      ],
      "source": [
        "seri[\"c\"],seri[3]   #index ismi ile veya sıra numarası ile veriye erişim"
      ]
    },
    {
      "cell_type": "code",
      "execution_count": 189,
      "metadata": {
        "id": "20B8ISD1s0VZ",
        "colab": {
          "base_uri": "https://localhost:8080/"
        },
        "outputId": "13c6094a-849b-41ef-b06c-dba31558b5c2"
      },
      "outputs": [
        {
          "output_type": "execute_result",
          "data": {
            "text/plain": [
              "a    1.0\n",
              "c    0.9\n",
              "dtype: float64"
            ]
          },
          "metadata": {},
          "execution_count": 189
        }
      ],
      "source": [
        "seri[[\"a\",\"c\"]]  # a ve c indisli verilere ulaşır. İç içe köşeli parantezlere dikkat."
      ]
    },
    {
      "cell_type": "code",
      "execution_count": 190,
      "metadata": {
        "id": "12p0J0tds0VZ",
        "colab": {
          "base_uri": "https://localhost:8080/"
        },
        "outputId": "b93fc97e-3392-44a1-9627-e942bc19cd06"
      },
      "outputs": [
        {
          "output_type": "execute_result",
          "data": {
            "text/plain": [
              "a    1.0\n",
              "b    5.0\n",
              "c    0.9\n",
              "dtype: float64"
            ]
          },
          "metadata": {},
          "execution_count": 190
        }
      ],
      "source": [
        "seri[\"a\":\"c\"]  # belli bir aralıkdaki verilere erişim"
      ]
    },
    {
      "cell_type": "code",
      "execution_count": 191,
      "metadata": {
        "id": "QgiVxyCHs0VZ",
        "colab": {
          "base_uri": "https://localhost:8080/"
        },
        "outputId": "7aa41670-7015-4d89-ac67-bb9de6af0da3"
      },
      "outputs": [
        {
          "output_type": "execute_result",
          "data": {
            "text/plain": [
              "a    1.0\n",
              "b    5.0\n",
              "c    0.9\n",
              "dtype: float64"
            ]
          },
          "metadata": {},
          "execution_count": 191
        }
      ],
      "source": [
        "seri[0:3]"
      ]
    },
    {
      "cell_type": "code",
      "execution_count": 192,
      "metadata": {
        "id": "aXzZcfMVs0VZ",
        "colab": {
          "base_uri": "https://localhost:8080/"
        },
        "outputId": "b80a0694-b6a2-43a0-8561-2472232f4967"
      },
      "outputs": [
        {
          "output_type": "execute_result",
          "data": {
            "text/plain": [
              "a     1.0\n",
              "b     5.0\n",
              "c     0.9\n",
              "d    34.0\n",
              "dtype: float64"
            ]
          },
          "metadata": {},
          "execution_count": 192
        }
      ],
      "source": [
        "seri"
      ]
    },
    {
      "cell_type": "code",
      "execution_count": 193,
      "metadata": {
        "id": "alU5cGIXs0Va",
        "colab": {
          "base_uri": "https://localhost:8080/"
        },
        "outputId": "bb764c14-4838-425d-faca-a29a6329f6c4"
      },
      "outputs": [
        {
          "output_type": "execute_result",
          "data": {
            "text/plain": [
              "b    5.0\n",
              "dtype: float64"
            ]
          },
          "metadata": {},
          "execution_count": 193
        }
      ],
      "source": [
        "seri[(seri > 1) & (seri < 10)] # 1'den büyük 10'dan küçük verilere erişim"
      ]
    },
    {
      "cell_type": "code",
      "execution_count": 194,
      "metadata": {
        "id": "A_Ja5At5s0Va",
        "colab": {
          "base_uri": "https://localhost:8080/"
        },
        "outputId": "735838d3-cb4f-46ee-f3ff-e2f8418fbe18"
      },
      "outputs": [
        {
          "output_type": "execute_result",
          "data": {
            "text/plain": [
              "a    False\n",
              "b     True\n",
              "c    False\n",
              "d    False\n",
              "dtype: bool"
            ]
          },
          "metadata": {},
          "execution_count": 194
        }
      ],
      "source": [
        "(seri > 1) & (seri < 10)"
      ]
    },
    {
      "cell_type": "markdown",
      "metadata": {
        "id": "VKb0rfUqs0Va"
      },
      "source": [
        "#### index, keys, values, items ile verilere erişim "
      ]
    },
    {
      "cell_type": "code",
      "execution_count": 195,
      "metadata": {
        "id": "WSZcpY0ws0Vb",
        "colab": {
          "base_uri": "https://localhost:8080/"
        },
        "outputId": "2275f954-da2d-42f3-ea3b-905e2ce66b77"
      },
      "outputs": [
        {
          "output_type": "execute_result",
          "data": {
            "text/plain": [
              "a     1.0\n",
              "b     5.0\n",
              "c     0.9\n",
              "d    34.0\n",
              "dtype: float64"
            ]
          },
          "metadata": {},
          "execution_count": 195
        }
      ],
      "source": [
        "seri = pd.Series([1,5,0.9,34], index = ('a','b','c','d'))    # str olarakda index belirleyebiliriz\n",
        "seri"
      ]
    },
    {
      "cell_type": "code",
      "execution_count": 196,
      "metadata": {
        "id": "IEmtvkT1s0Vb",
        "colab": {
          "base_uri": "https://localhost:8080/"
        },
        "outputId": "b6c86f42-50a6-44ad-feee-0bafccb6e95e"
      },
      "outputs": [
        {
          "output_type": "stream",
          "name": "stdout",
          "text": [
            "Index(['a', 'b', 'c', 'd'], dtype='object')\n",
            "\n",
            "*************************\n",
            "<bound method Series.keys of a     1.0\n",
            "b     5.0\n",
            "c     0.9\n",
            "d    34.0\n",
            "dtype: float64>\n",
            "\n",
            "*************************\n",
            "[ 1.   5.   0.9 34. ]\n",
            "\n",
            "*************************\n",
            "<bound method Series.items of a     1.0\n",
            "b     5.0\n",
            "c     0.9\n",
            "d    34.0\n",
            "dtype: float64>\n"
          ]
        }
      ],
      "source": [
        "print(seri.index, seri.keys, seri.values,seri.items, sep='\\n\\n*************************\\n')"
      ]
    },
    {
      "cell_type": "markdown",
      "metadata": {
        "id": "I7MAu-4cs0Vb"
      },
      "source": [
        "#### sorgulama yapma ve değer atama"
      ]
    },
    {
      "cell_type": "code",
      "execution_count": 197,
      "metadata": {
        "id": "K5HFpcF1s0Vc",
        "colab": {
          "base_uri": "https://localhost:8080/"
        },
        "outputId": "47e1d08d-ae3f-4a05-f90e-22af7188d6a6"
      },
      "outputs": [
        {
          "output_type": "execute_result",
          "data": {
            "text/plain": [
              "a     1.0\n",
              "b     5.0\n",
              "c     0.9\n",
              "d    34.0\n",
              "dtype: float64"
            ]
          },
          "metadata": {},
          "execution_count": 197
        }
      ],
      "source": [
        "seri = pd.Series([1,5,0.9,34], index = ('a','b','c','d'))    # str olarakda index belirleyebiliriz\n",
        "seri"
      ]
    },
    {
      "cell_type": "code",
      "execution_count": 198,
      "metadata": {
        "id": "_5nLt0qss0Vc",
        "colab": {
          "base_uri": "https://localhost:8080/"
        },
        "outputId": "5ea39886-4757-4c10-8eef-32266c8da38f"
      },
      "outputs": [
        {
          "output_type": "execute_result",
          "data": {
            "text/plain": [
              "(True, False)"
            ]
          },
          "metadata": {},
          "execution_count": 198
        }
      ],
      "source": [
        "'a' in seri,'e' in seri"
      ]
    },
    {
      "cell_type": "code",
      "execution_count": 199,
      "metadata": {
        "id": "2wC4WYsvs0Vc",
        "colab": {
          "base_uri": "https://localhost:8080/"
        },
        "outputId": "105606d1-9093-46ff-ca65-ee24fa5e9285"
      },
      "outputs": [
        {
          "output_type": "execute_result",
          "data": {
            "text/plain": [
              "a      1.0\n",
              "b    500.0\n",
              "c      0.9\n",
              "d     34.0\n",
              "dtype: float64"
            ]
          },
          "metadata": {},
          "execution_count": 199
        }
      ],
      "source": [
        "seri['b']=500\n",
        "seri"
      ]
    },
    {
      "cell_type": "markdown",
      "metadata": {
        "id": "RXBEtMjls0Vd"
      },
      "source": [
        "## Concat ile birlestirme"
      ]
    },
    {
      "cell_type": "code",
      "execution_count": 200,
      "metadata": {
        "id": "MWOaq6LVs0Vd",
        "colab": {
          "base_uri": "https://localhost:8080/"
        },
        "outputId": "5d871249-df53-43a9-8095-6d4adcae2c0f"
      },
      "outputs": [
        {
          "output_type": "execute_result",
          "data": {
            "text/plain": [
              "a     1.0\n",
              "b     5.0\n",
              "c     0.9\n",
              "d    34.0\n",
              "dtype: float64"
            ]
          },
          "metadata": {},
          "execution_count": 200
        }
      ],
      "source": [
        "seri = pd.Series([1,5,0.9,34], index = ('a','b','c','d'))    \n",
        "seri"
      ]
    },
    {
      "cell_type": "code",
      "execution_count": 201,
      "metadata": {
        "id": "Zd0FkIAJs0Vd",
        "colab": {
          "base_uri": "https://localhost:8080/"
        },
        "outputId": "2d640e9a-01cd-4fd2-f6e6-758d1041c48c"
      },
      "outputs": [
        {
          "output_type": "execute_result",
          "data": {
            "text/plain": [
              "0      1.0\n",
              "1      5.0\n",
              "2      0.9\n",
              "3     34.0\n",
              "4      1.0\n",
              "5      5.0\n",
              "6      0.9\n",
              "7     34.0\n",
              "8      1.0\n",
              "9      5.0\n",
              "10     0.9\n",
              "11    34.0\n",
              "dtype: float64"
            ]
          },
          "metadata": {},
          "execution_count": 201
        }
      ],
      "source": [
        "seri = pd.concat([seri, seri, seri], ignore_index=True) \n",
        "#serileri birlestirir. concat ile birlestirme\n",
        "seri"
      ]
    },
    {
      "cell_type": "code",
      "execution_count": 202,
      "metadata": {
        "id": "G36ka_T9s0Vd",
        "colab": {
          "base_uri": "https://localhost:8080/"
        },
        "outputId": "cd646176-a7a4-49c4-a8b9-3281589a7182"
      },
      "outputs": [
        {
          "output_type": "execute_result",
          "data": {
            "text/plain": [
              "0      1.0\n",
              "1      5.0\n",
              "2      0.9\n",
              "3     34.0\n",
              "4      1.0\n",
              "5      5.0\n",
              "6      0.9\n",
              "7     34.0\n",
              "8      1.0\n",
              "9      5.0\n",
              "10     0.9\n",
              "11    34.0\n",
              "12     1.0\n",
              "13     5.0\n",
              "14     0.9\n",
              "15    34.0\n",
              "16     1.0\n",
              "17     5.0\n",
              "18     0.9\n",
              "19    34.0\n",
              "20     1.0\n",
              "21     5.0\n",
              "22     0.9\n",
              "23    34.0\n",
              "dtype: float64"
            ]
          },
          "metadata": {},
          "execution_count": 202
        }
      ],
      "source": [
        "seri.append(seri, ignore_index=True)    #append ile birlestirme de yapilabilir"
      ]
    },
    {
      "cell_type": "markdown",
      "metadata": {
        "id": "Zvcepy9Ps0Ve"
      },
      "source": [
        "## loc ve iloc\n",
        "Yukarıda anlatılan veriye erişim yöntemleri ile bazı sorunlar yaşandığınan loc ve iloc metoduna ihtiyaç duyulmaktadır."
      ]
    },
    {
      "cell_type": "code",
      "execution_count": 203,
      "metadata": {
        "id": "RihptuPOs0Ve",
        "colab": {
          "base_uri": "https://localhost:8080/"
        },
        "outputId": "d93c4ff1-c4ec-4270-dfdd-f2b6fdf6d0b8"
      },
      "outputs": [
        {
          "output_type": "execute_result",
          "data": {
            "text/plain": [
              "1    a\n",
              "2    b\n",
              "3    c\n",
              "4    d\n",
              "5    e\n",
              "dtype: object"
            ]
          },
          "metadata": {},
          "execution_count": 203
        }
      ],
      "source": [
        "seri = pd.Series(['a','b','c','d','e'], index = (1,2,3,4,5))    \n",
        "seri"
      ]
    },
    {
      "cell_type": "code",
      "execution_count": 205,
      "metadata": {
        "id": "9UuCzHGTs0Ve"
      },
      "outputs": [],
      "source": [
        "# seri[0] \n",
        "# sıfır indisli veri olamdığından hata olacaktır"
      ]
    },
    {
      "cell_type": "code",
      "execution_count": 206,
      "metadata": {
        "id": "vaJAwtq-s0Ve",
        "colab": {
          "base_uri": "https://localhost:8080/",
          "height": 35
        },
        "outputId": "09e4d355-90fe-4ede-8bf6-91d39c72aad5"
      },
      "outputs": [
        {
          "output_type": "execute_result",
          "data": {
            "application/vnd.google.colaboratory.intrinsic+json": {
              "type": "string"
            },
            "text/plain": [
              "'a'"
            ]
          },
          "metadata": {},
          "execution_count": 206
        }
      ],
      "source": [
        "seri[1] "
      ]
    },
    {
      "cell_type": "code",
      "execution_count": 207,
      "metadata": {
        "id": "qpcAdSzgs0Vf",
        "colab": {
          "base_uri": "https://localhost:8080/"
        },
        "outputId": "94d1000f-a0e5-46cd-d1e4-fd1c3c205c23"
      },
      "outputs": [
        {
          "output_type": "execute_result",
          "data": {
            "text/plain": [
              "2    b\n",
              "3    c\n",
              "dtype: object"
            ]
          },
          "metadata": {},
          "execution_count": 207
        }
      ],
      "source": [
        "# fakat kodu aşağıdaki gibi yazarsak bu defa da 1 indisli veri elde edilemeyecektir\n",
        "seri[1:3]"
      ]
    },
    {
      "cell_type": "code",
      "execution_count": 208,
      "metadata": {
        "id": "ZkabVKcas0Vf",
        "colab": {
          "base_uri": "https://localhost:8080/"
        },
        "outputId": "d2bd4abd-5d6f-439f-e375-21cf6d10e8d8"
      },
      "outputs": [
        {
          "output_type": "execute_result",
          "data": {
            "text/plain": [
              "1    a\n",
              "2    b\n",
              "3    c\n",
              "dtype: object"
            ]
          },
          "metadata": {},
          "execution_count": 208
        }
      ],
      "source": [
        "seri[0:3]"
      ]
    },
    {
      "cell_type": "code",
      "execution_count": 209,
      "metadata": {
        "id": "e2iLpTCes0Vf",
        "colab": {
          "base_uri": "https://localhost:8080/"
        },
        "outputId": "5ae5d618-ed0d-4d53-9371-77a5e42b124a"
      },
      "outputs": [
        {
          "output_type": "execute_result",
          "data": {
            "text/plain": [
              "a     1.0\n",
              "b     5.0\n",
              "c     0.9\n",
              "d    34.0\n",
              "dtype: float64"
            ]
          },
          "metadata": {},
          "execution_count": 209
        }
      ],
      "source": [
        "seri = pd.Series([1,5,0.9,34], index = ('a','b','c','d'))   \n",
        "seri"
      ]
    },
    {
      "cell_type": "markdown",
      "metadata": {
        "id": "nxZK-bTgs0Vf"
      },
      "source": [
        "Bu nedenle loc ve iloc metodlarına ihtiyaç duyulmaktadır"
      ]
    },
    {
      "cell_type": "code",
      "execution_count": 210,
      "metadata": {
        "id": "TzBl8QcFs0Vf",
        "colab": {
          "base_uri": "https://localhost:8080/"
        },
        "outputId": "c71323fe-b524-4617-aa76-a07d76f7e4d2"
      },
      "outputs": [
        {
          "output_type": "execute_result",
          "data": {
            "text/plain": [
              "a    1.0\n",
              "b    5.0\n",
              "c    0.9\n",
              "dtype: float64"
            ]
          },
          "metadata": {},
          "execution_count": 210
        }
      ],
      "source": [
        "seri.loc['a':'c'] # loc labelseri based indexing, index ismi ile veriye erişim"
      ]
    },
    {
      "cell_type": "code",
      "execution_count": 211,
      "metadata": {
        "id": "gKnAgF-0s0Vg",
        "colab": {
          "base_uri": "https://localhost:8080/"
        },
        "outputId": "058c8396-b281-4196-95e2-69c935e01b9b"
      },
      "outputs": [
        {
          "output_type": "execute_result",
          "data": {
            "text/plain": [
              "a    1.0\n",
              "b    5.0\n",
              "c    0.9\n",
              "dtype: float64"
            ]
          },
          "metadata": {},
          "execution_count": 211
        }
      ],
      "source": [
        "seri.iloc[0:3] # iloc positional indexing, sıra numarasına göre veriye erişim"
      ]
    }
  ],
  "metadata": {
    "kernelspec": {
      "display_name": "Python 3",
      "language": "python",
      "name": "python3"
    },
    "language_info": {
      "codemirror_mode": {
        "name": "ipython",
        "version": 3
      },
      "file_extension": ".py",
      "mimetype": "text/x-python",
      "name": "python",
      "nbconvert_exporter": "python",
      "pygments_lexer": "ipython3",
      "version": "3.8.5"
    },
    "colab": {
      "name": "week_1_Semih.ipynb",
      "provenance": [],
      "toc_visible": true,
      "include_colab_link": true
    }
  },
  "nbformat": 4,
  "nbformat_minor": 0
}